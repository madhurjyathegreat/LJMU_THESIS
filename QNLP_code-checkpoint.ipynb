{
 "cells": [
  {
   "cell_type": "code",
   "execution_count": 9,
   "id": "8a8a175d",
   "metadata": {},
   "outputs": [],
   "source": [
    "from lambeq import BobcatParser\n",
    "\n",
    "parser = BobcatParser(root_cats=('NP', 'N'), verbose='text')"
   ]
  },
  {
   "cell_type": "code",
   "execution_count": 4,
   "id": "a8b92409",
   "metadata": {},
   "outputs": [],
   "source": [
    "import pandas as pd\n",
    "X_train=pd.read_csv('D:\\Downloads\\X_train.csv')\n",
    "X_test=pd.read_csv('D:\\Downloads\\X_test.csv')\n",
    "y_train=pd.read_csv('D:\\Downloads\\y_train.csv')\n",
    "y_test=pd.read_csv('D:\\Downloads\\X_test.csv')"
   ]
  },
  {
   "cell_type": "code",
   "execution_count": 5,
   "id": "b7033d97",
   "metadata": {},
   "outputs": [],
   "source": [
    "all_data=pd.read_csv('D:\\Downloads\\_bstractive_concatenated_data.csv')\n",
    "y_test=all_data.iloc[y_test['Unnamed: 0.3'].tolist()]['target']"
   ]
  },
  {
   "cell_type": "code",
   "execution_count": 6,
   "id": "136534cc",
   "metadata": {},
   "outputs": [],
   "source": [
    "train_labels=[]\n",
    "for i in y_train['target']:\n",
    "  temp_list=[]\n",
    "  if(i)=='real':\n",
    "    temp_list.append(1)\n",
    "    temp_list.append(0)\n",
    "  else:\n",
    "    temp_list.append(0)\n",
    "    temp_list.append(1)\n",
    "  train_labels.append(temp_list)\n",
    "test_labels=[]\n",
    "for i in y_test:\n",
    "  temp_list=[]\n",
    "  if(i)=='real':\n",
    "    temp_list.append(1)\n",
    "    temp_list.append(0)\n",
    "  else:\n",
    "    temp_list.append(0)\n",
    "    temp_list.append(1)\n",
    "  test_labels.append(temp_list)"
   ]
  },
  {
   "cell_type": "code",
   "execution_count": 7,
   "id": "65e6d338",
   "metadata": {},
   "outputs": [
    {
     "data": {
      "text/plain": [
       "(['contempt contemptstory committee clinton pagliano',\n",
       "  'children easter hillary tards egg',\n",
       "  'veto override congress senate obama'],\n",
       " ['obama heraldobama isis surrendering disgraced',\n",
       "  'netanyahu barack obama meeting israeli',\n",
       "  'ceo hostages employers presidencyfor democrat'])"
      ]
     },
     "execution_count": 7,
     "metadata": {},
     "output_type": "execute_result"
    }
   ],
   "source": [
    "val_data=X_test['sentences_from_keywords'].tolist()\n",
    "X_train=X_train['sentences_from_keywords'].tolist()\n",
    "val_data[:3],X_train[:3]"
   ]
  },
  {
   "cell_type": "code",
   "execution_count": 10,
   "id": "69148bf0",
   "metadata": {},
   "outputs": [
    {
     "name": "stderr",
     "output_type": "stream",
     "text": [
      "Tagging sentences.\n",
      "Parsing tagged sentences.\n",
      "Turning parse trees to diagrams.\n"
     ]
    }
   ],
   "source": [
    "raw_train_diagrams = parser.sentences2diagrams(X_train, suppress_exceptions=True)"
   ]
  },
  {
   "cell_type": "code",
   "execution_count": 11,
   "id": "0b485aa3",
   "metadata": {},
   "outputs": [],
   "source": [
    "train_diagrams = [\n",
    "    diagram.normal_form()\n",
    "    for diagram in raw_train_diagrams if diagram is not None\n",
    "]"
   ]
  },
  {
   "cell_type": "code",
   "execution_count": 12,
   "id": "c05f07a6",
   "metadata": {},
   "outputs": [],
   "source": [
    "from lambeq import AtomicType, IQPAnsatz, remove_cups\n",
    "\n",
    "ansatz = IQPAnsatz({AtomicType.NOUN: 1, AtomicType.SENTENCE: 0},\n",
    "                   n_layers=1, n_single_qubit_params=3)\n",
    "\n",
    "train_circuits = [ansatz(remove_cups(diagram)) for diagram in train_diagrams if diagram is not None]"
   ]
  },
  {
   "cell_type": "code",
   "execution_count": 13,
   "id": "3a64786e",
   "metadata": {},
   "outputs": [
    {
     "name": "stderr",
     "output_type": "stream",
     "text": [
      "Tagging sentences.\n",
      "Parsing tagged sentences.\n",
      "Turning parse trees to diagrams.\n"
     ]
    }
   ],
   "source": [
    "raw_val_diagrams = parser.sentences2diagrams(val_data, suppress_exceptions=True)"
   ]
  },
  {
   "cell_type": "code",
   "execution_count": 14,
   "id": "783e7b35",
   "metadata": {},
   "outputs": [],
   "source": [
    "val_diagrams = [\n",
    "    diagram.normal_form()\n",
    "    for diagram in raw_val_diagrams if diagram is not None\n",
    "]"
   ]
  },
  {
   "cell_type": "code",
   "execution_count": 15,
   "id": "f683f58d",
   "metadata": {},
   "outputs": [],
   "source": [
    "train_labels = [\n",
    "    label for (diagram, label)\n",
    "    in zip(raw_train_diagrams, train_labels)\n",
    "    if diagram is not None]"
   ]
  },
  {
   "cell_type": "code",
   "execution_count": 16,
   "id": "c2780833",
   "metadata": {},
   "outputs": [],
   "source": [
    "val_circuits =  [ansatz(remove_cups(diagram))  for diagram in val_diagrams if diagram is not None]"
   ]
  },
  {
   "cell_type": "code",
   "execution_count": 17,
   "id": "9aec8c88",
   "metadata": {},
   "outputs": [],
   "source": [
    "val_labels = [\n",
    "    label for (diagram, label)\n",
    "    in zip(raw_val_diagrams, test_labels)\n",
    "    if diagram is not None\n",
    "]\n"
   ]
  },
  {
   "cell_type": "code",
   "execution_count": 18,
   "id": "63ec28c3",
   "metadata": {},
   "outputs": [],
   "source": [
    "from pytket.extensions.qiskit import AerBackend\n",
    "from lambeq import TketModel\n",
    "\n",
    "all_circuits = train_circuits + val_circuits\n",
    "\n",
    "backend = AerBackend()\n",
    "backend_config = {\n",
    "    'backend': backend,\n",
    "    'compilation': backend.default_compilation_pass(2),\n",
    "    'shots': 8192\n",
    "}\n",
    "\n",
    "model = TketModel.from_diagrams(all_circuits, backend_config=backend_config)"
   ]
  },
  {
   "cell_type": "code",
   "execution_count": 22,
   "id": "3cc2b5fc",
   "metadata": {},
   "outputs": [],
   "source": [
    "#from lambeq import BinaryCrossEntropyLoss\n",
    "\n",
    "# Using the builtin binary cross-entropy error from lambeq\n",
    "#bce = BinaryCrossEntropyLoss()\n",
    "import tensorflow as tf\n",
    "bce=tf.keras.losses.BinaryCrossentropy()\n",
    "acc = lambda y_hat, y: np.sum(np.round(y_hat) == y) / len(y) / 2  # half due to double-counting\n",
    "eval_metrics = {\"acc\": acc}"
   ]
  },
  {
   "cell_type": "code",
   "execution_count": 23,
   "id": "08ef8b46",
   "metadata": {},
   "outputs": [],
   "source": [
    "from lambeq import QuantumTrainer, SPSAOptimizer\n",
    "\n",
    "trainer = QuantumTrainer(\n",
    "    model,\n",
    "    loss_function=bce,\n",
    "    epochs=3,\n",
    "    optimizer=SPSAOptimizer,\n",
    "    optim_hyperparams={'a': 0.05, 'c': 0.06, 'A':0.01*3},\n",
    "    evaluate_functions=eval_metrics,\n",
    "    evaluate_on_train=True,\n",
    "    verbose = 'text',\n",
    "    seed=0\n",
    ")"
   ]
  },
  {
   "cell_type": "code",
   "execution_count": 24,
   "id": "045fb840",
   "metadata": {},
   "outputs": [],
   "source": [
    "from lambeq import Dataset\n",
    "\n",
    "train_dataset = Dataset(\n",
    "            train_circuits,\n",
    "            train_labels,\n",
    "            batch_size=2)\n",
    "\n",
    "val_dataset = Dataset(val_circuits, val_labels, shuffle=False)"
   ]
  },
  {
   "cell_type": "code",
   "execution_count": 26,
   "id": "0664381a",
   "metadata": {},
   "outputs": [
    {
     "name": "stderr",
     "output_type": "stream",
     "text": [
      "Epoch 1:  train/loss: 7.5902   valid/loss: 7.4040   train/acc: 0.5259   valid/acc: 0.5455\n",
      "Epoch 2:  train/loss: 7.9671   valid/loss: 7.7901   train/acc: 0.4573   valid/acc: 0.5000\n",
      "Epoch 3:  train/loss: 7.7349   valid/loss: 7.5382   train/acc: 0.5046   valid/acc: 0.5325\n",
      "\n",
      "Training completed!\n"
     ]
    }
   ],
   "source": [
    "import numpy as np\n",
    "trainer.fit(train_dataset, val_dataset, evaluation_step=1, logging_step=1)"
   ]
  },
  {
   "cell_type": "code",
   "execution_count": 27,
   "id": "905d7055",
   "metadata": {},
   "outputs": [],
   "source": [
    "test_acc = acc(model(val_circuits), val_labels)"
   ]
  },
  {
   "cell_type": "code",
   "execution_count": 29,
   "id": "515608ea",
   "metadata": {},
   "outputs": [],
   "source": [
    "predictions=model(val_circuits)"
   ]
  },
  {
   "cell_type": "code",
   "execution_count": 97,
   "id": "d21cf189",
   "metadata": {},
   "outputs": [
    {
     "data": {
      "text/plain": [
       "0.4805194805194805"
      ]
     },
     "execution_count": 97,
     "metadata": {},
     "output_type": "execute_result"
    }
   ],
   "source": [
    "test_acc"
   ]
  },
  {
   "cell_type": "code",
   "execution_count": 50,
   "id": "0a360997",
   "metadata": {},
   "outputs": [],
   "source": [
    "predicted_qnlp=[]\n",
    "for i in range(len(predictions)):\n",
    "    value=(list(predictions[i]).index(np.max(predictions[i])))\n",
    "    if value==0:\n",
    "        predicted_qnlp.append('real')\n",
    "    else:\n",
    "        predicted_qnlp.append('fake')"
   ]
  },
  {
   "cell_type": "code",
   "execution_count": 53,
   "id": "2c2cffeb",
   "metadata": {},
   "outputs": [],
   "source": [
    "pd.Series(predicted_qnlp).to_csv(r'D:\\Downloads\\qnlp_predictions.csv')"
   ]
  },
  {
   "cell_type": "code",
   "execution_count": 101,
   "id": "d27d0b42",
   "metadata": {},
   "outputs": [],
   "source": [
    "#(predicted_qnlp),\n",
    "score_labels=[]\n",
    "for i in val_labels:\n",
    "    if i[0]==1:\n",
    "        score_labels.append('real')\n",
    "    else:\n",
    "        score_labels.append('fake')"
   ]
  },
  {
   "cell_type": "code",
   "execution_count": 104,
   "id": "0721e28b",
   "metadata": {},
   "outputs": [
    {
     "name": "stdout",
     "output_type": "stream",
     "text": [
      "              precision    recall  f1-score   support\n",
      "\n",
      "        fake       0.62      0.48      0.54        44\n",
      "        real       0.47      0.61      0.53        33\n",
      "\n",
      "    accuracy                           0.53        77\n",
      "   macro avg       0.54      0.54      0.53        77\n",
      "weighted avg       0.55      0.53      0.53        77\n",
      "\n"
     ]
    }
   ],
   "source": [
    "from sklearn.metrics import *\n",
    "accuracy_score(score_labels,predicted_qnlp)\n",
    "print(classification_report(score_labels,predicted_qnlp))"
   ]
  },
  {
   "cell_type": "code",
   "execution_count": 59,
   "id": "386419cc",
   "metadata": {},
   "outputs": [
    {
     "name": "stdout",
     "output_type": "stream",
     "text": [
      "9\n",
      "30\n",
      "36\n",
      "42\n",
      "45\n",
      "50\n",
      "57\n",
      "73\n"
     ]
    }
   ],
   "source": [
    "c=0\n",
    "for diagram in raw_val_diagrams:\n",
    "    if diagram is  None:\n",
    "        print(c)\n",
    "    c+=1\n",
    "        "
   ]
  },
  {
   "cell_type": "code",
   "execution_count": 83,
   "id": "c529959f",
   "metadata": {},
   "outputs": [],
   "source": [
    "new_row='Undecisive'\n",
    "insert_position=73\n",
    "df1 = pd.concat([df1.iloc[:insert_position], pd.DataFrame([new_row]), df1.iloc[insert_position:]]).reset_index(drop=True)\n"
   ]
  },
  {
   "cell_type": "code",
   "execution_count": 85,
   "id": "89e6d962",
   "metadata": {},
   "outputs": [],
   "source": [
    "(df1).to_csv(r'D:\\Downloads\\qnlp_predictions.csv')"
   ]
  },
  {
   "cell_type": "code",
   "execution_count": 87,
   "id": "51db11a0",
   "metadata": {},
   "outputs": [],
   "source": [
    "df1['predictions']=df1"
   ]
  },
  {
   "cell_type": "code",
   "execution_count": 96,
   "id": "606573d7",
   "metadata": {},
   "outputs": [],
   "source": [
    "df1.to_csv(r'D:\\Downloads\\qnlp.csv')"
   ]
  },
  {
   "cell_type": "code",
   "execution_count": null,
   "id": "08bcf158",
   "metadata": {},
   "outputs": [],
   "source": []
  }
 ],
 "metadata": {
  "kernelspec": {
   "display_name": "Python 3 (ipykernel)",
   "language": "python",
   "name": "python3"
  },
  "language_info": {
   "codemirror_mode": {
    "name": "ipython",
    "version": 3
   },
   "file_extension": ".py",
   "mimetype": "text/x-python",
   "name": "python",
   "nbconvert_exporter": "python",
   "pygments_lexer": "ipython3",
   "version": "3.9.12"
  }
 },
 "nbformat": 4,
 "nbformat_minor": 5
}
