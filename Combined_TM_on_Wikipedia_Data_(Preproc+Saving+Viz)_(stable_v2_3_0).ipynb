{
  "nbformat": 4,
  "nbformat_minor": 0,
  "metadata": {
    "accelerator": "GPU",
    "colab": {
      "provenance": []
    },
    "kernelspec": {
      "display_name": "Python 3",
      "name": "python3"
    },
    "widgets": {
      "application/vnd.jupyter.widget-state+json": {
        "66a25557719d47be9340b40f02f0222b": {
          "model_module": "@jupyter-widgets/controls",
          "model_name": "HBoxModel",
          "model_module_version": "1.5.0",
          "state": {
            "_dom_classes": [],
            "_model_module": "@jupyter-widgets/controls",
            "_model_module_version": "1.5.0",
            "_model_name": "HBoxModel",
            "_view_count": null,
            "_view_module": "@jupyter-widgets/controls",
            "_view_module_version": "1.5.0",
            "_view_name": "HBoxView",
            "box_style": "",
            "children": [
              "IPY_MODEL_ddc4323514904dd0a131457d38a16af3",
              "IPY_MODEL_1140de34d0004610a965f38a67f29213",
              "IPY_MODEL_7dfee62a10ee45f1962c318047a7f71b"
            ],
            "layout": "IPY_MODEL_b7ced01f9f644a28bece3d46f5d856b6"
          }
        },
        "ddc4323514904dd0a131457d38a16af3": {
          "model_module": "@jupyter-widgets/controls",
          "model_name": "HTMLModel",
          "model_module_version": "1.5.0",
          "state": {
            "_dom_classes": [],
            "_model_module": "@jupyter-widgets/controls",
            "_model_module_version": "1.5.0",
            "_model_name": "HTMLModel",
            "_view_count": null,
            "_view_module": "@jupyter-widgets/controls",
            "_view_module_version": "1.5.0",
            "_view_name": "HTMLView",
            "description": "",
            "description_tooltip": null,
            "layout": "IPY_MODEL_65d1f57f4c3c409abde8820c5a90f25c",
            "placeholder": "​",
            "style": "IPY_MODEL_274ffc7f401045d589ad6860087ef216",
            "value": "Downloading: 100%"
          }
        },
        "1140de34d0004610a965f38a67f29213": {
          "model_module": "@jupyter-widgets/controls",
          "model_name": "FloatProgressModel",
          "model_module_version": "1.5.0",
          "state": {
            "_dom_classes": [],
            "_model_module": "@jupyter-widgets/controls",
            "_model_module_version": "1.5.0",
            "_model_name": "FloatProgressModel",
            "_view_count": null,
            "_view_module": "@jupyter-widgets/controls",
            "_view_module_version": "1.5.0",
            "_view_name": "ProgressView",
            "bar_style": "success",
            "description": "",
            "description_tooltip": null,
            "layout": "IPY_MODEL_c9c5289709d54e74b588a86ed07498ee",
            "max": 1175,
            "min": 0,
            "orientation": "horizontal",
            "style": "IPY_MODEL_7327d475a682496ca694d86e3f82a9e2",
            "value": 1175
          }
        },
        "7dfee62a10ee45f1962c318047a7f71b": {
          "model_module": "@jupyter-widgets/controls",
          "model_name": "HTMLModel",
          "model_module_version": "1.5.0",
          "state": {
            "_dom_classes": [],
            "_model_module": "@jupyter-widgets/controls",
            "_model_module_version": "1.5.0",
            "_model_name": "HTMLModel",
            "_view_count": null,
            "_view_module": "@jupyter-widgets/controls",
            "_view_module_version": "1.5.0",
            "_view_name": "HTMLView",
            "description": "",
            "description_tooltip": null,
            "layout": "IPY_MODEL_d2457e80bf994053a694c790493a7aec",
            "placeholder": "​",
            "style": "IPY_MODEL_18c93026359445279773bc04804757e4",
            "value": " 1.18k/1.18k [00:00&lt;00:00, 11.7kB/s]"
          }
        },
        "b7ced01f9f644a28bece3d46f5d856b6": {
          "model_module": "@jupyter-widgets/base",
          "model_name": "LayoutModel",
          "model_module_version": "1.2.0",
          "state": {
            "_model_module": "@jupyter-widgets/base",
            "_model_module_version": "1.2.0",
            "_model_name": "LayoutModel",
            "_view_count": null,
            "_view_module": "@jupyter-widgets/base",
            "_view_module_version": "1.2.0",
            "_view_name": "LayoutView",
            "align_content": null,
            "align_items": null,
            "align_self": null,
            "border": null,
            "bottom": null,
            "display": null,
            "flex": null,
            "flex_flow": null,
            "grid_area": null,
            "grid_auto_columns": null,
            "grid_auto_flow": null,
            "grid_auto_rows": null,
            "grid_column": null,
            "grid_gap": null,
            "grid_row": null,
            "grid_template_areas": null,
            "grid_template_columns": null,
            "grid_template_rows": null,
            "height": null,
            "justify_content": null,
            "justify_items": null,
            "left": null,
            "margin": null,
            "max_height": null,
            "max_width": null,
            "min_height": null,
            "min_width": null,
            "object_fit": null,
            "object_position": null,
            "order": null,
            "overflow": null,
            "overflow_x": null,
            "overflow_y": null,
            "padding": null,
            "right": null,
            "top": null,
            "visibility": null,
            "width": null
          }
        },
        "65d1f57f4c3c409abde8820c5a90f25c": {
          "model_module": "@jupyter-widgets/base",
          "model_name": "LayoutModel",
          "model_module_version": "1.2.0",
          "state": {
            "_model_module": "@jupyter-widgets/base",
            "_model_module_version": "1.2.0",
            "_model_name": "LayoutModel",
            "_view_count": null,
            "_view_module": "@jupyter-widgets/base",
            "_view_module_version": "1.2.0",
            "_view_name": "LayoutView",
            "align_content": null,
            "align_items": null,
            "align_self": null,
            "border": null,
            "bottom": null,
            "display": null,
            "flex": null,
            "flex_flow": null,
            "grid_area": null,
            "grid_auto_columns": null,
            "grid_auto_flow": null,
            "grid_auto_rows": null,
            "grid_column": null,
            "grid_gap": null,
            "grid_row": null,
            "grid_template_areas": null,
            "grid_template_columns": null,
            "grid_template_rows": null,
            "height": null,
            "justify_content": null,
            "justify_items": null,
            "left": null,
            "margin": null,
            "max_height": null,
            "max_width": null,
            "min_height": null,
            "min_width": null,
            "object_fit": null,
            "object_position": null,
            "order": null,
            "overflow": null,
            "overflow_x": null,
            "overflow_y": null,
            "padding": null,
            "right": null,
            "top": null,
            "visibility": null,
            "width": null
          }
        },
        "274ffc7f401045d589ad6860087ef216": {
          "model_module": "@jupyter-widgets/controls",
          "model_name": "DescriptionStyleModel",
          "model_module_version": "1.5.0",
          "state": {
            "_model_module": "@jupyter-widgets/controls",
            "_model_module_version": "1.5.0",
            "_model_name": "DescriptionStyleModel",
            "_view_count": null,
            "_view_module": "@jupyter-widgets/base",
            "_view_module_version": "1.2.0",
            "_view_name": "StyleView",
            "description_width": ""
          }
        },
        "c9c5289709d54e74b588a86ed07498ee": {
          "model_module": "@jupyter-widgets/base",
          "model_name": "LayoutModel",
          "model_module_version": "1.2.0",
          "state": {
            "_model_module": "@jupyter-widgets/base",
            "_model_module_version": "1.2.0",
            "_model_name": "LayoutModel",
            "_view_count": null,
            "_view_module": "@jupyter-widgets/base",
            "_view_module_version": "1.2.0",
            "_view_name": "LayoutView",
            "align_content": null,
            "align_items": null,
            "align_self": null,
            "border": null,
            "bottom": null,
            "display": null,
            "flex": null,
            "flex_flow": null,
            "grid_area": null,
            "grid_auto_columns": null,
            "grid_auto_flow": null,
            "grid_auto_rows": null,
            "grid_column": null,
            "grid_gap": null,
            "grid_row": null,
            "grid_template_areas": null,
            "grid_template_columns": null,
            "grid_template_rows": null,
            "height": null,
            "justify_content": null,
            "justify_items": null,
            "left": null,
            "margin": null,
            "max_height": null,
            "max_width": null,
            "min_height": null,
            "min_width": null,
            "object_fit": null,
            "object_position": null,
            "order": null,
            "overflow": null,
            "overflow_x": null,
            "overflow_y": null,
            "padding": null,
            "right": null,
            "top": null,
            "visibility": null,
            "width": null
          }
        },
        "7327d475a682496ca694d86e3f82a9e2": {
          "model_module": "@jupyter-widgets/controls",
          "model_name": "ProgressStyleModel",
          "model_module_version": "1.5.0",
          "state": {
            "_model_module": "@jupyter-widgets/controls",
            "_model_module_version": "1.5.0",
            "_model_name": "ProgressStyleModel",
            "_view_count": null,
            "_view_module": "@jupyter-widgets/base",
            "_view_module_version": "1.2.0",
            "_view_name": "StyleView",
            "bar_color": null,
            "description_width": ""
          }
        },
        "d2457e80bf994053a694c790493a7aec": {
          "model_module": "@jupyter-widgets/base",
          "model_name": "LayoutModel",
          "model_module_version": "1.2.0",
          "state": {
            "_model_module": "@jupyter-widgets/base",
            "_model_module_version": "1.2.0",
            "_model_name": "LayoutModel",
            "_view_count": null,
            "_view_module": "@jupyter-widgets/base",
            "_view_module_version": "1.2.0",
            "_view_name": "LayoutView",
            "align_content": null,
            "align_items": null,
            "align_self": null,
            "border": null,
            "bottom": null,
            "display": null,
            "flex": null,
            "flex_flow": null,
            "grid_area": null,
            "grid_auto_columns": null,
            "grid_auto_flow": null,
            "grid_auto_rows": null,
            "grid_column": null,
            "grid_gap": null,
            "grid_row": null,
            "grid_template_areas": null,
            "grid_template_columns": null,
            "grid_template_rows": null,
            "height": null,
            "justify_content": null,
            "justify_items": null,
            "left": null,
            "margin": null,
            "max_height": null,
            "max_width": null,
            "min_height": null,
            "min_width": null,
            "object_fit": null,
            "object_position": null,
            "order": null,
            "overflow": null,
            "overflow_x": null,
            "overflow_y": null,
            "padding": null,
            "right": null,
            "top": null,
            "visibility": null,
            "width": null
          }
        },
        "18c93026359445279773bc04804757e4": {
          "model_module": "@jupyter-widgets/controls",
          "model_name": "DescriptionStyleModel",
          "model_module_version": "1.5.0",
          "state": {
            "_model_module": "@jupyter-widgets/controls",
            "_model_module_version": "1.5.0",
            "_model_name": "DescriptionStyleModel",
            "_view_count": null,
            "_view_module": "@jupyter-widgets/base",
            "_view_module_version": "1.2.0",
            "_view_name": "StyleView",
            "description_width": ""
          }
        },
        "2be912ce98474363841d03e981dc4848": {
          "model_module": "@jupyter-widgets/controls",
          "model_name": "HBoxModel",
          "model_module_version": "1.5.0",
          "state": {
            "_dom_classes": [],
            "_model_module": "@jupyter-widgets/controls",
            "_model_module_version": "1.5.0",
            "_model_name": "HBoxModel",
            "_view_count": null,
            "_view_module": "@jupyter-widgets/controls",
            "_view_module_version": "1.5.0",
            "_view_name": "HBoxView",
            "box_style": "",
            "children": [
              "IPY_MODEL_583ca3ab007f4eb6ac4a7c496b2a19a7",
              "IPY_MODEL_034af98ead144162acfd0f8b2c5f6e30",
              "IPY_MODEL_0574c17e3f6c4c3ba7fa2555b2c1e5af"
            ],
            "layout": "IPY_MODEL_6b619966a7944951beb7bc565862e6b0"
          }
        },
        "583ca3ab007f4eb6ac4a7c496b2a19a7": {
          "model_module": "@jupyter-widgets/controls",
          "model_name": "HTMLModel",
          "model_module_version": "1.5.0",
          "state": {
            "_dom_classes": [],
            "_model_module": "@jupyter-widgets/controls",
            "_model_module_version": "1.5.0",
            "_model_name": "HTMLModel",
            "_view_count": null,
            "_view_module": "@jupyter-widgets/controls",
            "_view_module_version": "1.5.0",
            "_view_name": "HTMLView",
            "description": "",
            "description_tooltip": null,
            "layout": "IPY_MODEL_5083d03d266340f7a5ed5891b661b4de",
            "placeholder": "​",
            "style": "IPY_MODEL_11e35c222ced460db387aa2df4ef9fad",
            "value": "Downloading: 100%"
          }
        },
        "034af98ead144162acfd0f8b2c5f6e30": {
          "model_module": "@jupyter-widgets/controls",
          "model_name": "FloatProgressModel",
          "model_module_version": "1.5.0",
          "state": {
            "_dom_classes": [],
            "_model_module": "@jupyter-widgets/controls",
            "_model_module_version": "1.5.0",
            "_model_name": "FloatProgressModel",
            "_view_count": null,
            "_view_module": "@jupyter-widgets/controls",
            "_view_module_version": "1.5.0",
            "_view_name": "ProgressView",
            "bar_style": "success",
            "description": "",
            "description_tooltip": null,
            "layout": "IPY_MODEL_e332396b992d42dba7ddf1486c5913d7",
            "max": 190,
            "min": 0,
            "orientation": "horizontal",
            "style": "IPY_MODEL_30a9a5f2865b499c8279730cb2e16a9b",
            "value": 190
          }
        },
        "0574c17e3f6c4c3ba7fa2555b2c1e5af": {
          "model_module": "@jupyter-widgets/controls",
          "model_name": "HTMLModel",
          "model_module_version": "1.5.0",
          "state": {
            "_dom_classes": [],
            "_model_module": "@jupyter-widgets/controls",
            "_model_module_version": "1.5.0",
            "_model_name": "HTMLModel",
            "_view_count": null,
            "_view_module": "@jupyter-widgets/controls",
            "_view_module_version": "1.5.0",
            "_view_name": "HTMLView",
            "description": "",
            "description_tooltip": null,
            "layout": "IPY_MODEL_3290d8ce78354aef950651288df1f998",
            "placeholder": "​",
            "style": "IPY_MODEL_7287c0bf276b4a8dadc7f8660a9467dc",
            "value": " 190/190 [00:00&lt;00:00, 2.04kB/s]"
          }
        },
        "6b619966a7944951beb7bc565862e6b0": {
          "model_module": "@jupyter-widgets/base",
          "model_name": "LayoutModel",
          "model_module_version": "1.2.0",
          "state": {
            "_model_module": "@jupyter-widgets/base",
            "_model_module_version": "1.2.0",
            "_model_name": "LayoutModel",
            "_view_count": null,
            "_view_module": "@jupyter-widgets/base",
            "_view_module_version": "1.2.0",
            "_view_name": "LayoutView",
            "align_content": null,
            "align_items": null,
            "align_self": null,
            "border": null,
            "bottom": null,
            "display": null,
            "flex": null,
            "flex_flow": null,
            "grid_area": null,
            "grid_auto_columns": null,
            "grid_auto_flow": null,
            "grid_auto_rows": null,
            "grid_column": null,
            "grid_gap": null,
            "grid_row": null,
            "grid_template_areas": null,
            "grid_template_columns": null,
            "grid_template_rows": null,
            "height": null,
            "justify_content": null,
            "justify_items": null,
            "left": null,
            "margin": null,
            "max_height": null,
            "max_width": null,
            "min_height": null,
            "min_width": null,
            "object_fit": null,
            "object_position": null,
            "order": null,
            "overflow": null,
            "overflow_x": null,
            "overflow_y": null,
            "padding": null,
            "right": null,
            "top": null,
            "visibility": null,
            "width": null
          }
        },
        "5083d03d266340f7a5ed5891b661b4de": {
          "model_module": "@jupyter-widgets/base",
          "model_name": "LayoutModel",
          "model_module_version": "1.2.0",
          "state": {
            "_model_module": "@jupyter-widgets/base",
            "_model_module_version": "1.2.0",
            "_model_name": "LayoutModel",
            "_view_count": null,
            "_view_module": "@jupyter-widgets/base",
            "_view_module_version": "1.2.0",
            "_view_name": "LayoutView",
            "align_content": null,
            "align_items": null,
            "align_self": null,
            "border": null,
            "bottom": null,
            "display": null,
            "flex": null,
            "flex_flow": null,
            "grid_area": null,
            "grid_auto_columns": null,
            "grid_auto_flow": null,
            "grid_auto_rows": null,
            "grid_column": null,
            "grid_gap": null,
            "grid_row": null,
            "grid_template_areas": null,
            "grid_template_columns": null,
            "grid_template_rows": null,
            "height": null,
            "justify_content": null,
            "justify_items": null,
            "left": null,
            "margin": null,
            "max_height": null,
            "max_width": null,
            "min_height": null,
            "min_width": null,
            "object_fit": null,
            "object_position": null,
            "order": null,
            "overflow": null,
            "overflow_x": null,
            "overflow_y": null,
            "padding": null,
            "right": null,
            "top": null,
            "visibility": null,
            "width": null
          }
        },
        "11e35c222ced460db387aa2df4ef9fad": {
          "model_module": "@jupyter-widgets/controls",
          "model_name": "DescriptionStyleModel",
          "model_module_version": "1.5.0",
          "state": {
            "_model_module": "@jupyter-widgets/controls",
            "_model_module_version": "1.5.0",
            "_model_name": "DescriptionStyleModel",
            "_view_count": null,
            "_view_module": "@jupyter-widgets/base",
            "_view_module_version": "1.2.0",
            "_view_name": "StyleView",
            "description_width": ""
          }
        },
        "e332396b992d42dba7ddf1486c5913d7": {
          "model_module": "@jupyter-widgets/base",
          "model_name": "LayoutModel",
          "model_module_version": "1.2.0",
          "state": {
            "_model_module": "@jupyter-widgets/base",
            "_model_module_version": "1.2.0",
            "_model_name": "LayoutModel",
            "_view_count": null,
            "_view_module": "@jupyter-widgets/base",
            "_view_module_version": "1.2.0",
            "_view_name": "LayoutView",
            "align_content": null,
            "align_items": null,
            "align_self": null,
            "border": null,
            "bottom": null,
            "display": null,
            "flex": null,
            "flex_flow": null,
            "grid_area": null,
            "grid_auto_columns": null,
            "grid_auto_flow": null,
            "grid_auto_rows": null,
            "grid_column": null,
            "grid_gap": null,
            "grid_row": null,
            "grid_template_areas": null,
            "grid_template_columns": null,
            "grid_template_rows": null,
            "height": null,
            "justify_content": null,
            "justify_items": null,
            "left": null,
            "margin": null,
            "max_height": null,
            "max_width": null,
            "min_height": null,
            "min_width": null,
            "object_fit": null,
            "object_position": null,
            "order": null,
            "overflow": null,
            "overflow_x": null,
            "overflow_y": null,
            "padding": null,
            "right": null,
            "top": null,
            "visibility": null,
            "width": null
          }
        },
        "30a9a5f2865b499c8279730cb2e16a9b": {
          "model_module": "@jupyter-widgets/controls",
          "model_name": "ProgressStyleModel",
          "model_module_version": "1.5.0",
          "state": {
            "_model_module": "@jupyter-widgets/controls",
            "_model_module_version": "1.5.0",
            "_model_name": "ProgressStyleModel",
            "_view_count": null,
            "_view_module": "@jupyter-widgets/base",
            "_view_module_version": "1.2.0",
            "_view_name": "StyleView",
            "bar_color": null,
            "description_width": ""
          }
        },
        "3290d8ce78354aef950651288df1f998": {
          "model_module": "@jupyter-widgets/base",
          "model_name": "LayoutModel",
          "model_module_version": "1.2.0",
          "state": {
            "_model_module": "@jupyter-widgets/base",
            "_model_module_version": "1.2.0",
            "_model_name": "LayoutModel",
            "_view_count": null,
            "_view_module": "@jupyter-widgets/base",
            "_view_module_version": "1.2.0",
            "_view_name": "LayoutView",
            "align_content": null,
            "align_items": null,
            "align_self": null,
            "border": null,
            "bottom": null,
            "display": null,
            "flex": null,
            "flex_flow": null,
            "grid_area": null,
            "grid_auto_columns": null,
            "grid_auto_flow": null,
            "grid_auto_rows": null,
            "grid_column": null,
            "grid_gap": null,
            "grid_row": null,
            "grid_template_areas": null,
            "grid_template_columns": null,
            "grid_template_rows": null,
            "height": null,
            "justify_content": null,
            "justify_items": null,
            "left": null,
            "margin": null,
            "max_height": null,
            "max_width": null,
            "min_height": null,
            "min_width": null,
            "object_fit": null,
            "object_position": null,
            "order": null,
            "overflow": null,
            "overflow_x": null,
            "overflow_y": null,
            "padding": null,
            "right": null,
            "top": null,
            "visibility": null,
            "width": null
          }
        },
        "7287c0bf276b4a8dadc7f8660a9467dc": {
          "model_module": "@jupyter-widgets/controls",
          "model_name": "DescriptionStyleModel",
          "model_module_version": "1.5.0",
          "state": {
            "_model_module": "@jupyter-widgets/controls",
            "_model_module_version": "1.5.0",
            "_model_name": "DescriptionStyleModel",
            "_view_count": null,
            "_view_module": "@jupyter-widgets/base",
            "_view_module_version": "1.2.0",
            "_view_name": "StyleView",
            "description_width": ""
          }
        },
        "e266375184364d2aa178b2085dafa874": {
          "model_module": "@jupyter-widgets/controls",
          "model_name": "HBoxModel",
          "model_module_version": "1.5.0",
          "state": {
            "_dom_classes": [],
            "_model_module": "@jupyter-widgets/controls",
            "_model_module_version": "1.5.0",
            "_model_name": "HBoxModel",
            "_view_count": null,
            "_view_module": "@jupyter-widgets/controls",
            "_view_module_version": "1.5.0",
            "_view_name": "HBoxView",
            "box_style": "",
            "children": [
              "IPY_MODEL_305ff61a123f4a72870901735305ad1e",
              "IPY_MODEL_b0e4c2d1364d4f9e875fbecd863c50e3",
              "IPY_MODEL_0c821513011d4e8eaf70a04aa80df265"
            ],
            "layout": "IPY_MODEL_09962d2a2e974c6283e293eebd7d480c"
          }
        },
        "305ff61a123f4a72870901735305ad1e": {
          "model_module": "@jupyter-widgets/controls",
          "model_name": "HTMLModel",
          "model_module_version": "1.5.0",
          "state": {
            "_dom_classes": [],
            "_model_module": "@jupyter-widgets/controls",
            "_model_module_version": "1.5.0",
            "_model_name": "HTMLModel",
            "_view_count": null,
            "_view_module": "@jupyter-widgets/controls",
            "_view_module_version": "1.5.0",
            "_view_name": "HTMLView",
            "description": "",
            "description_tooltip": null,
            "layout": "IPY_MODEL_845ab910c4d143089095fbde4b7b0dc3",
            "placeholder": "​",
            "style": "IPY_MODEL_433959fb8482422d8c025cbe4250a93c",
            "value": "Downloading: 100%"
          }
        },
        "b0e4c2d1364d4f9e875fbecd863c50e3": {
          "model_module": "@jupyter-widgets/controls",
          "model_name": "FloatProgressModel",
          "model_module_version": "1.5.0",
          "state": {
            "_dom_classes": [],
            "_model_module": "@jupyter-widgets/controls",
            "_model_module_version": "1.5.0",
            "_model_name": "FloatProgressModel",
            "_view_count": null,
            "_view_module": "@jupyter-widgets/controls",
            "_view_module_version": "1.5.0",
            "_view_name": "ProgressView",
            "bar_style": "success",
            "description": "",
            "description_tooltip": null,
            "layout": "IPY_MODEL_e72c94a4a1a9481e9c81f8177a7a33e4",
            "max": 10542,
            "min": 0,
            "orientation": "horizontal",
            "style": "IPY_MODEL_a665e21eb4bf4f24a9d12f13ebac873d",
            "value": 10542
          }
        },
        "0c821513011d4e8eaf70a04aa80df265": {
          "model_module": "@jupyter-widgets/controls",
          "model_name": "HTMLModel",
          "model_module_version": "1.5.0",
          "state": {
            "_dom_classes": [],
            "_model_module": "@jupyter-widgets/controls",
            "_model_module_version": "1.5.0",
            "_model_name": "HTMLModel",
            "_view_count": null,
            "_view_module": "@jupyter-widgets/controls",
            "_view_module_version": "1.5.0",
            "_view_name": "HTMLView",
            "description": "",
            "description_tooltip": null,
            "layout": "IPY_MODEL_24883993056b432cbb7360115736d235",
            "placeholder": "​",
            "style": "IPY_MODEL_8dbf181d7e5e4ba7b12bbec585e05992",
            "value": " 10.5k/10.5k [00:00&lt;00:00, 135kB/s]"
          }
        },
        "09962d2a2e974c6283e293eebd7d480c": {
          "model_module": "@jupyter-widgets/base",
          "model_name": "LayoutModel",
          "model_module_version": "1.2.0",
          "state": {
            "_model_module": "@jupyter-widgets/base",
            "_model_module_version": "1.2.0",
            "_model_name": "LayoutModel",
            "_view_count": null,
            "_view_module": "@jupyter-widgets/base",
            "_view_module_version": "1.2.0",
            "_view_name": "LayoutView",
            "align_content": null,
            "align_items": null,
            "align_self": null,
            "border": null,
            "bottom": null,
            "display": null,
            "flex": null,
            "flex_flow": null,
            "grid_area": null,
            "grid_auto_columns": null,
            "grid_auto_flow": null,
            "grid_auto_rows": null,
            "grid_column": null,
            "grid_gap": null,
            "grid_row": null,
            "grid_template_areas": null,
            "grid_template_columns": null,
            "grid_template_rows": null,
            "height": null,
            "justify_content": null,
            "justify_items": null,
            "left": null,
            "margin": null,
            "max_height": null,
            "max_width": null,
            "min_height": null,
            "min_width": null,
            "object_fit": null,
            "object_position": null,
            "order": null,
            "overflow": null,
            "overflow_x": null,
            "overflow_y": null,
            "padding": null,
            "right": null,
            "top": null,
            "visibility": null,
            "width": null
          }
        },
        "845ab910c4d143089095fbde4b7b0dc3": {
          "model_module": "@jupyter-widgets/base",
          "model_name": "LayoutModel",
          "model_module_version": "1.2.0",
          "state": {
            "_model_module": "@jupyter-widgets/base",
            "_model_module_version": "1.2.0",
            "_model_name": "LayoutModel",
            "_view_count": null,
            "_view_module": "@jupyter-widgets/base",
            "_view_module_version": "1.2.0",
            "_view_name": "LayoutView",
            "align_content": null,
            "align_items": null,
            "align_self": null,
            "border": null,
            "bottom": null,
            "display": null,
            "flex": null,
            "flex_flow": null,
            "grid_area": null,
            "grid_auto_columns": null,
            "grid_auto_flow": null,
            "grid_auto_rows": null,
            "grid_column": null,
            "grid_gap": null,
            "grid_row": null,
            "grid_template_areas": null,
            "grid_template_columns": null,
            "grid_template_rows": null,
            "height": null,
            "justify_content": null,
            "justify_items": null,
            "left": null,
            "margin": null,
            "max_height": null,
            "max_width": null,
            "min_height": null,
            "min_width": null,
            "object_fit": null,
            "object_position": null,
            "order": null,
            "overflow": null,
            "overflow_x": null,
            "overflow_y": null,
            "padding": null,
            "right": null,
            "top": null,
            "visibility": null,
            "width": null
          }
        },
        "433959fb8482422d8c025cbe4250a93c": {
          "model_module": "@jupyter-widgets/controls",
          "model_name": "DescriptionStyleModel",
          "model_module_version": "1.5.0",
          "state": {
            "_model_module": "@jupyter-widgets/controls",
            "_model_module_version": "1.5.0",
            "_model_name": "DescriptionStyleModel",
            "_view_count": null,
            "_view_module": "@jupyter-widgets/base",
            "_view_module_version": "1.2.0",
            "_view_name": "StyleView",
            "description_width": ""
          }
        },
        "e72c94a4a1a9481e9c81f8177a7a33e4": {
          "model_module": "@jupyter-widgets/base",
          "model_name": "LayoutModel",
          "model_module_version": "1.2.0",
          "state": {
            "_model_module": "@jupyter-widgets/base",
            "_model_module_version": "1.2.0",
            "_model_name": "LayoutModel",
            "_view_count": null,
            "_view_module": "@jupyter-widgets/base",
            "_view_module_version": "1.2.0",
            "_view_name": "LayoutView",
            "align_content": null,
            "align_items": null,
            "align_self": null,
            "border": null,
            "bottom": null,
            "display": null,
            "flex": null,
            "flex_flow": null,
            "grid_area": null,
            "grid_auto_columns": null,
            "grid_auto_flow": null,
            "grid_auto_rows": null,
            "grid_column": null,
            "grid_gap": null,
            "grid_row": null,
            "grid_template_areas": null,
            "grid_template_columns": null,
            "grid_template_rows": null,
            "height": null,
            "justify_content": null,
            "justify_items": null,
            "left": null,
            "margin": null,
            "max_height": null,
            "max_width": null,
            "min_height": null,
            "min_width": null,
            "object_fit": null,
            "object_position": null,
            "order": null,
            "overflow": null,
            "overflow_x": null,
            "overflow_y": null,
            "padding": null,
            "right": null,
            "top": null,
            "visibility": null,
            "width": null
          }
        },
        "a665e21eb4bf4f24a9d12f13ebac873d": {
          "model_module": "@jupyter-widgets/controls",
          "model_name": "ProgressStyleModel",
          "model_module_version": "1.5.0",
          "state": {
            "_model_module": "@jupyter-widgets/controls",
            "_model_module_version": "1.5.0",
            "_model_name": "ProgressStyleModel",
            "_view_count": null,
            "_view_module": "@jupyter-widgets/base",
            "_view_module_version": "1.2.0",
            "_view_name": "StyleView",
            "bar_color": null,
            "description_width": ""
          }
        },
        "24883993056b432cbb7360115736d235": {
          "model_module": "@jupyter-widgets/base",
          "model_name": "LayoutModel",
          "model_module_version": "1.2.0",
          "state": {
            "_model_module": "@jupyter-widgets/base",
            "_model_module_version": "1.2.0",
            "_model_name": "LayoutModel",
            "_view_count": null,
            "_view_module": "@jupyter-widgets/base",
            "_view_module_version": "1.2.0",
            "_view_name": "LayoutView",
            "align_content": null,
            "align_items": null,
            "align_self": null,
            "border": null,
            "bottom": null,
            "display": null,
            "flex": null,
            "flex_flow": null,
            "grid_area": null,
            "grid_auto_columns": null,
            "grid_auto_flow": null,
            "grid_auto_rows": null,
            "grid_column": null,
            "grid_gap": null,
            "grid_row": null,
            "grid_template_areas": null,
            "grid_template_columns": null,
            "grid_template_rows": null,
            "height": null,
            "justify_content": null,
            "justify_items": null,
            "left": null,
            "margin": null,
            "max_height": null,
            "max_width": null,
            "min_height": null,
            "min_width": null,
            "object_fit": null,
            "object_position": null,
            "order": null,
            "overflow": null,
            "overflow_x": null,
            "overflow_y": null,
            "padding": null,
            "right": null,
            "top": null,
            "visibility": null,
            "width": null
          }
        },
        "8dbf181d7e5e4ba7b12bbec585e05992": {
          "model_module": "@jupyter-widgets/controls",
          "model_name": "DescriptionStyleModel",
          "model_module_version": "1.5.0",
          "state": {
            "_model_module": "@jupyter-widgets/controls",
            "_model_module_version": "1.5.0",
            "_model_name": "DescriptionStyleModel",
            "_view_count": null,
            "_view_module": "@jupyter-widgets/base",
            "_view_module_version": "1.2.0",
            "_view_name": "StyleView",
            "description_width": ""
          }
        },
        "1548ece6790f4ba4b16be840c999d557": {
          "model_module": "@jupyter-widgets/controls",
          "model_name": "HBoxModel",
          "model_module_version": "1.5.0",
          "state": {
            "_dom_classes": [],
            "_model_module": "@jupyter-widgets/controls",
            "_model_module_version": "1.5.0",
            "_model_name": "HBoxModel",
            "_view_count": null,
            "_view_module": "@jupyter-widgets/controls",
            "_view_module_version": "1.5.0",
            "_view_name": "HBoxView",
            "box_style": "",
            "children": [
              "IPY_MODEL_25ce008a9e7d48ea9a45c03bc041aa44",
              "IPY_MODEL_4c9fb0045f2e43ecaa7d9d376d488203",
              "IPY_MODEL_65115ae77d2944abae5a2d4be91bf867"
            ],
            "layout": "IPY_MODEL_de7341badc964ff3b4e4576a2853a298"
          }
        },
        "25ce008a9e7d48ea9a45c03bc041aa44": {
          "model_module": "@jupyter-widgets/controls",
          "model_name": "HTMLModel",
          "model_module_version": "1.5.0",
          "state": {
            "_dom_classes": [],
            "_model_module": "@jupyter-widgets/controls",
            "_model_module_version": "1.5.0",
            "_model_name": "HTMLModel",
            "_view_count": null,
            "_view_module": "@jupyter-widgets/controls",
            "_view_module_version": "1.5.0",
            "_view_name": "HTMLView",
            "description": "",
            "description_tooltip": null,
            "layout": "IPY_MODEL_ab77ba40c39f44f4bfc77674ccbc0c13",
            "placeholder": "​",
            "style": "IPY_MODEL_2c141a7ec19a43048ae1728901d5f0bb",
            "value": "Downloading: 100%"
          }
        },
        "4c9fb0045f2e43ecaa7d9d376d488203": {
          "model_module": "@jupyter-widgets/controls",
          "model_name": "FloatProgressModel",
          "model_module_version": "1.5.0",
          "state": {
            "_dom_classes": [],
            "_model_module": "@jupyter-widgets/controls",
            "_model_module_version": "1.5.0",
            "_model_name": "FloatProgressModel",
            "_view_count": null,
            "_view_module": "@jupyter-widgets/controls",
            "_view_module_version": "1.5.0",
            "_view_name": "ProgressView",
            "bar_style": "success",
            "description": "",
            "description_tooltip": null,
            "layout": "IPY_MODEL_ed786229532e49199c57fe1e3c75a280",
            "max": 571,
            "min": 0,
            "orientation": "horizontal",
            "style": "IPY_MODEL_9a66c2aebc9f4cf3b2d66708f1f0f07f",
            "value": 571
          }
        },
        "65115ae77d2944abae5a2d4be91bf867": {
          "model_module": "@jupyter-widgets/controls",
          "model_name": "HTMLModel",
          "model_module_version": "1.5.0",
          "state": {
            "_dom_classes": [],
            "_model_module": "@jupyter-widgets/controls",
            "_model_module_version": "1.5.0",
            "_model_name": "HTMLModel",
            "_view_count": null,
            "_view_module": "@jupyter-widgets/controls",
            "_view_module_version": "1.5.0",
            "_view_name": "HTMLView",
            "description": "",
            "description_tooltip": null,
            "layout": "IPY_MODEL_1693ea71ac8a4b3aa633b5269a110f19",
            "placeholder": "​",
            "style": "IPY_MODEL_4d7882754c8d44629e6bc259b06455be",
            "value": " 571/571 [00:00&lt;00:00, 8.20kB/s]"
          }
        },
        "de7341badc964ff3b4e4576a2853a298": {
          "model_module": "@jupyter-widgets/base",
          "model_name": "LayoutModel",
          "model_module_version": "1.2.0",
          "state": {
            "_model_module": "@jupyter-widgets/base",
            "_model_module_version": "1.2.0",
            "_model_name": "LayoutModel",
            "_view_count": null,
            "_view_module": "@jupyter-widgets/base",
            "_view_module_version": "1.2.0",
            "_view_name": "LayoutView",
            "align_content": null,
            "align_items": null,
            "align_self": null,
            "border": null,
            "bottom": null,
            "display": null,
            "flex": null,
            "flex_flow": null,
            "grid_area": null,
            "grid_auto_columns": null,
            "grid_auto_flow": null,
            "grid_auto_rows": null,
            "grid_column": null,
            "grid_gap": null,
            "grid_row": null,
            "grid_template_areas": null,
            "grid_template_columns": null,
            "grid_template_rows": null,
            "height": null,
            "justify_content": null,
            "justify_items": null,
            "left": null,
            "margin": null,
            "max_height": null,
            "max_width": null,
            "min_height": null,
            "min_width": null,
            "object_fit": null,
            "object_position": null,
            "order": null,
            "overflow": null,
            "overflow_x": null,
            "overflow_y": null,
            "padding": null,
            "right": null,
            "top": null,
            "visibility": null,
            "width": null
          }
        },
        "ab77ba40c39f44f4bfc77674ccbc0c13": {
          "model_module": "@jupyter-widgets/base",
          "model_name": "LayoutModel",
          "model_module_version": "1.2.0",
          "state": {
            "_model_module": "@jupyter-widgets/base",
            "_model_module_version": "1.2.0",
            "_model_name": "LayoutModel",
            "_view_count": null,
            "_view_module": "@jupyter-widgets/base",
            "_view_module_version": "1.2.0",
            "_view_name": "LayoutView",
            "align_content": null,
            "align_items": null,
            "align_self": null,
            "border": null,
            "bottom": null,
            "display": null,
            "flex": null,
            "flex_flow": null,
            "grid_area": null,
            "grid_auto_columns": null,
            "grid_auto_flow": null,
            "grid_auto_rows": null,
            "grid_column": null,
            "grid_gap": null,
            "grid_row": null,
            "grid_template_areas": null,
            "grid_template_columns": null,
            "grid_template_rows": null,
            "height": null,
            "justify_content": null,
            "justify_items": null,
            "left": null,
            "margin": null,
            "max_height": null,
            "max_width": null,
            "min_height": null,
            "min_width": null,
            "object_fit": null,
            "object_position": null,
            "order": null,
            "overflow": null,
            "overflow_x": null,
            "overflow_y": null,
            "padding": null,
            "right": null,
            "top": null,
            "visibility": null,
            "width": null
          }
        },
        "2c141a7ec19a43048ae1728901d5f0bb": {
          "model_module": "@jupyter-widgets/controls",
          "model_name": "DescriptionStyleModel",
          "model_module_version": "1.5.0",
          "state": {
            "_model_module": "@jupyter-widgets/controls",
            "_model_module_version": "1.5.0",
            "_model_name": "DescriptionStyleModel",
            "_view_count": null,
            "_view_module": "@jupyter-widgets/base",
            "_view_module_version": "1.2.0",
            "_view_name": "StyleView",
            "description_width": ""
          }
        },
        "ed786229532e49199c57fe1e3c75a280": {
          "model_module": "@jupyter-widgets/base",
          "model_name": "LayoutModel",
          "model_module_version": "1.2.0",
          "state": {
            "_model_module": "@jupyter-widgets/base",
            "_model_module_version": "1.2.0",
            "_model_name": "LayoutModel",
            "_view_count": null,
            "_view_module": "@jupyter-widgets/base",
            "_view_module_version": "1.2.0",
            "_view_name": "LayoutView",
            "align_content": null,
            "align_items": null,
            "align_self": null,
            "border": null,
            "bottom": null,
            "display": null,
            "flex": null,
            "flex_flow": null,
            "grid_area": null,
            "grid_auto_columns": null,
            "grid_auto_flow": null,
            "grid_auto_rows": null,
            "grid_column": null,
            "grid_gap": null,
            "grid_row": null,
            "grid_template_areas": null,
            "grid_template_columns": null,
            "grid_template_rows": null,
            "height": null,
            "justify_content": null,
            "justify_items": null,
            "left": null,
            "margin": null,
            "max_height": null,
            "max_width": null,
            "min_height": null,
            "min_width": null,
            "object_fit": null,
            "object_position": null,
            "order": null,
            "overflow": null,
            "overflow_x": null,
            "overflow_y": null,
            "padding": null,
            "right": null,
            "top": null,
            "visibility": null,
            "width": null
          }
        },
        "9a66c2aebc9f4cf3b2d66708f1f0f07f": {
          "model_module": "@jupyter-widgets/controls",
          "model_name": "ProgressStyleModel",
          "model_module_version": "1.5.0",
          "state": {
            "_model_module": "@jupyter-widgets/controls",
            "_model_module_version": "1.5.0",
            "_model_name": "ProgressStyleModel",
            "_view_count": null,
            "_view_module": "@jupyter-widgets/base",
            "_view_module_version": "1.2.0",
            "_view_name": "StyleView",
            "bar_color": null,
            "description_width": ""
          }
        },
        "1693ea71ac8a4b3aa633b5269a110f19": {
          "model_module": "@jupyter-widgets/base",
          "model_name": "LayoutModel",
          "model_module_version": "1.2.0",
          "state": {
            "_model_module": "@jupyter-widgets/base",
            "_model_module_version": "1.2.0",
            "_model_name": "LayoutModel",
            "_view_count": null,
            "_view_module": "@jupyter-widgets/base",
            "_view_module_version": "1.2.0",
            "_view_name": "LayoutView",
            "align_content": null,
            "align_items": null,
            "align_self": null,
            "border": null,
            "bottom": null,
            "display": null,
            "flex": null,
            "flex_flow": null,
            "grid_area": null,
            "grid_auto_columns": null,
            "grid_auto_flow": null,
            "grid_auto_rows": null,
            "grid_column": null,
            "grid_gap": null,
            "grid_row": null,
            "grid_template_areas": null,
            "grid_template_columns": null,
            "grid_template_rows": null,
            "height": null,
            "justify_content": null,
            "justify_items": null,
            "left": null,
            "margin": null,
            "max_height": null,
            "max_width": null,
            "min_height": null,
            "min_width": null,
            "object_fit": null,
            "object_position": null,
            "order": null,
            "overflow": null,
            "overflow_x": null,
            "overflow_y": null,
            "padding": null,
            "right": null,
            "top": null,
            "visibility": null,
            "width": null
          }
        },
        "4d7882754c8d44629e6bc259b06455be": {
          "model_module": "@jupyter-widgets/controls",
          "model_name": "DescriptionStyleModel",
          "model_module_version": "1.5.0",
          "state": {
            "_model_module": "@jupyter-widgets/controls",
            "_model_module_version": "1.5.0",
            "_model_name": "DescriptionStyleModel",
            "_view_count": null,
            "_view_module": "@jupyter-widgets/base",
            "_view_module_version": "1.2.0",
            "_view_name": "StyleView",
            "description_width": ""
          }
        },
        "b421dd6f4cb54a008d18d37968c4f8ab": {
          "model_module": "@jupyter-widgets/controls",
          "model_name": "HBoxModel",
          "model_module_version": "1.5.0",
          "state": {
            "_dom_classes": [],
            "_model_module": "@jupyter-widgets/controls",
            "_model_module_version": "1.5.0",
            "_model_name": "HBoxModel",
            "_view_count": null,
            "_view_module": "@jupyter-widgets/controls",
            "_view_module_version": "1.5.0",
            "_view_name": "HBoxView",
            "box_style": "",
            "children": [
              "IPY_MODEL_bf082437724d403581c505d4f082961a",
              "IPY_MODEL_e17453b5dcfc4aa6b5f4c1c41664f74f",
              "IPY_MODEL_dcef13b2f3654630a5de619a17196256"
            ],
            "layout": "IPY_MODEL_8643030e68464a589d0d020b8e9fda2c"
          }
        },
        "bf082437724d403581c505d4f082961a": {
          "model_module": "@jupyter-widgets/controls",
          "model_name": "HTMLModel",
          "model_module_version": "1.5.0",
          "state": {
            "_dom_classes": [],
            "_model_module": "@jupyter-widgets/controls",
            "_model_module_version": "1.5.0",
            "_model_name": "HTMLModel",
            "_view_count": null,
            "_view_module": "@jupyter-widgets/controls",
            "_view_module_version": "1.5.0",
            "_view_name": "HTMLView",
            "description": "",
            "description_tooltip": null,
            "layout": "IPY_MODEL_109c182a78474947b76873ce0012f177",
            "placeholder": "​",
            "style": "IPY_MODEL_124d46f6cfae44589fdd46e4cb5fa878",
            "value": "Downloading: 100%"
          }
        },
        "e17453b5dcfc4aa6b5f4c1c41664f74f": {
          "model_module": "@jupyter-widgets/controls",
          "model_name": "FloatProgressModel",
          "model_module_version": "1.5.0",
          "state": {
            "_dom_classes": [],
            "_model_module": "@jupyter-widgets/controls",
            "_model_module_version": "1.5.0",
            "_model_name": "FloatProgressModel",
            "_view_count": null,
            "_view_module": "@jupyter-widgets/controls",
            "_view_module_version": "1.5.0",
            "_view_name": "ProgressView",
            "bar_style": "success",
            "description": "",
            "description_tooltip": null,
            "layout": "IPY_MODEL_e1038583a1b747b285d4b84504b48bfb",
            "max": 116,
            "min": 0,
            "orientation": "horizontal",
            "style": "IPY_MODEL_f11dfb40104e433f8dd2dfe059844125",
            "value": 116
          }
        },
        "dcef13b2f3654630a5de619a17196256": {
          "model_module": "@jupyter-widgets/controls",
          "model_name": "HTMLModel",
          "model_module_version": "1.5.0",
          "state": {
            "_dom_classes": [],
            "_model_module": "@jupyter-widgets/controls",
            "_model_module_version": "1.5.0",
            "_model_name": "HTMLModel",
            "_view_count": null,
            "_view_module": "@jupyter-widgets/controls",
            "_view_module_version": "1.5.0",
            "_view_name": "HTMLView",
            "description": "",
            "description_tooltip": null,
            "layout": "IPY_MODEL_a4104ce7db6a419daeba062c68d6c8d4",
            "placeholder": "​",
            "style": "IPY_MODEL_266ea7989dfe458b9afab2bf782a8b0a",
            "value": " 116/116 [00:00&lt;00:00, 1.58kB/s]"
          }
        },
        "8643030e68464a589d0d020b8e9fda2c": {
          "model_module": "@jupyter-widgets/base",
          "model_name": "LayoutModel",
          "model_module_version": "1.2.0",
          "state": {
            "_model_module": "@jupyter-widgets/base",
            "_model_module_version": "1.2.0",
            "_model_name": "LayoutModel",
            "_view_count": null,
            "_view_module": "@jupyter-widgets/base",
            "_view_module_version": "1.2.0",
            "_view_name": "LayoutView",
            "align_content": null,
            "align_items": null,
            "align_self": null,
            "border": null,
            "bottom": null,
            "display": null,
            "flex": null,
            "flex_flow": null,
            "grid_area": null,
            "grid_auto_columns": null,
            "grid_auto_flow": null,
            "grid_auto_rows": null,
            "grid_column": null,
            "grid_gap": null,
            "grid_row": null,
            "grid_template_areas": null,
            "grid_template_columns": null,
            "grid_template_rows": null,
            "height": null,
            "justify_content": null,
            "justify_items": null,
            "left": null,
            "margin": null,
            "max_height": null,
            "max_width": null,
            "min_height": null,
            "min_width": null,
            "object_fit": null,
            "object_position": null,
            "order": null,
            "overflow": null,
            "overflow_x": null,
            "overflow_y": null,
            "padding": null,
            "right": null,
            "top": null,
            "visibility": null,
            "width": null
          }
        },
        "109c182a78474947b76873ce0012f177": {
          "model_module": "@jupyter-widgets/base",
          "model_name": "LayoutModel",
          "model_module_version": "1.2.0",
          "state": {
            "_model_module": "@jupyter-widgets/base",
            "_model_module_version": "1.2.0",
            "_model_name": "LayoutModel",
            "_view_count": null,
            "_view_module": "@jupyter-widgets/base",
            "_view_module_version": "1.2.0",
            "_view_name": "LayoutView",
            "align_content": null,
            "align_items": null,
            "align_self": null,
            "border": null,
            "bottom": null,
            "display": null,
            "flex": null,
            "flex_flow": null,
            "grid_area": null,
            "grid_auto_columns": null,
            "grid_auto_flow": null,
            "grid_auto_rows": null,
            "grid_column": null,
            "grid_gap": null,
            "grid_row": null,
            "grid_template_areas": null,
            "grid_template_columns": null,
            "grid_template_rows": null,
            "height": null,
            "justify_content": null,
            "justify_items": null,
            "left": null,
            "margin": null,
            "max_height": null,
            "max_width": null,
            "min_height": null,
            "min_width": null,
            "object_fit": null,
            "object_position": null,
            "order": null,
            "overflow": null,
            "overflow_x": null,
            "overflow_y": null,
            "padding": null,
            "right": null,
            "top": null,
            "visibility": null,
            "width": null
          }
        },
        "124d46f6cfae44589fdd46e4cb5fa878": {
          "model_module": "@jupyter-widgets/controls",
          "model_name": "DescriptionStyleModel",
          "model_module_version": "1.5.0",
          "state": {
            "_model_module": "@jupyter-widgets/controls",
            "_model_module_version": "1.5.0",
            "_model_name": "DescriptionStyleModel",
            "_view_count": null,
            "_view_module": "@jupyter-widgets/base",
            "_view_module_version": "1.2.0",
            "_view_name": "StyleView",
            "description_width": ""
          }
        },
        "e1038583a1b747b285d4b84504b48bfb": {
          "model_module": "@jupyter-widgets/base",
          "model_name": "LayoutModel",
          "model_module_version": "1.2.0",
          "state": {
            "_model_module": "@jupyter-widgets/base",
            "_model_module_version": "1.2.0",
            "_model_name": "LayoutModel",
            "_view_count": null,
            "_view_module": "@jupyter-widgets/base",
            "_view_module_version": "1.2.0",
            "_view_name": "LayoutView",
            "align_content": null,
            "align_items": null,
            "align_self": null,
            "border": null,
            "bottom": null,
            "display": null,
            "flex": null,
            "flex_flow": null,
            "grid_area": null,
            "grid_auto_columns": null,
            "grid_auto_flow": null,
            "grid_auto_rows": null,
            "grid_column": null,
            "grid_gap": null,
            "grid_row": null,
            "grid_template_areas": null,
            "grid_template_columns": null,
            "grid_template_rows": null,
            "height": null,
            "justify_content": null,
            "justify_items": null,
            "left": null,
            "margin": null,
            "max_height": null,
            "max_width": null,
            "min_height": null,
            "min_width": null,
            "object_fit": null,
            "object_position": null,
            "order": null,
            "overflow": null,
            "overflow_x": null,
            "overflow_y": null,
            "padding": null,
            "right": null,
            "top": null,
            "visibility": null,
            "width": null
          }
        },
        "f11dfb40104e433f8dd2dfe059844125": {
          "model_module": "@jupyter-widgets/controls",
          "model_name": "ProgressStyleModel",
          "model_module_version": "1.5.0",
          "state": {
            "_model_module": "@jupyter-widgets/controls",
            "_model_module_version": "1.5.0",
            "_model_name": "ProgressStyleModel",
            "_view_count": null,
            "_view_module": "@jupyter-widgets/base",
            "_view_module_version": "1.2.0",
            "_view_name": "StyleView",
            "bar_color": null,
            "description_width": ""
          }
        },
        "a4104ce7db6a419daeba062c68d6c8d4": {
          "model_module": "@jupyter-widgets/base",
          "model_name": "LayoutModel",
          "model_module_version": "1.2.0",
          "state": {
            "_model_module": "@jupyter-widgets/base",
            "_model_module_version": "1.2.0",
            "_model_name": "LayoutModel",
            "_view_count": null,
            "_view_module": "@jupyter-widgets/base",
            "_view_module_version": "1.2.0",
            "_view_name": "LayoutView",
            "align_content": null,
            "align_items": null,
            "align_self": null,
            "border": null,
            "bottom": null,
            "display": null,
            "flex": null,
            "flex_flow": null,
            "grid_area": null,
            "grid_auto_columns": null,
            "grid_auto_flow": null,
            "grid_auto_rows": null,
            "grid_column": null,
            "grid_gap": null,
            "grid_row": null,
            "grid_template_areas": null,
            "grid_template_columns": null,
            "grid_template_rows": null,
            "height": null,
            "justify_content": null,
            "justify_items": null,
            "left": null,
            "margin": null,
            "max_height": null,
            "max_width": null,
            "min_height": null,
            "min_width": null,
            "object_fit": null,
            "object_position": null,
            "order": null,
            "overflow": null,
            "overflow_x": null,
            "overflow_y": null,
            "padding": null,
            "right": null,
            "top": null,
            "visibility": null,
            "width": null
          }
        },
        "266ea7989dfe458b9afab2bf782a8b0a": {
          "model_module": "@jupyter-widgets/controls",
          "model_name": "DescriptionStyleModel",
          "model_module_version": "1.5.0",
          "state": {
            "_model_module": "@jupyter-widgets/controls",
            "_model_module_version": "1.5.0",
            "_model_name": "DescriptionStyleModel",
            "_view_count": null,
            "_view_module": "@jupyter-widgets/base",
            "_view_module_version": "1.2.0",
            "_view_name": "StyleView",
            "description_width": ""
          }
        },
        "135b862900bd4cac8ed9a4aac3ce4484": {
          "model_module": "@jupyter-widgets/controls",
          "model_name": "HBoxModel",
          "model_module_version": "1.5.0",
          "state": {
            "_dom_classes": [],
            "_model_module": "@jupyter-widgets/controls",
            "_model_module_version": "1.5.0",
            "_model_name": "HBoxModel",
            "_view_count": null,
            "_view_module": "@jupyter-widgets/controls",
            "_view_module_version": "1.5.0",
            "_view_name": "HBoxView",
            "box_style": "",
            "children": [
              "IPY_MODEL_86ab2aafbfaf48eb9078b114fd892273",
              "IPY_MODEL_67973c3f30204bacba626cf298568777",
              "IPY_MODEL_abcb94d8f7794877ae8b8fa7a28867e8"
            ],
            "layout": "IPY_MODEL_38f9e26f901748f58a373ca665377226"
          }
        },
        "86ab2aafbfaf48eb9078b114fd892273": {
          "model_module": "@jupyter-widgets/controls",
          "model_name": "HTMLModel",
          "model_module_version": "1.5.0",
          "state": {
            "_dom_classes": [],
            "_model_module": "@jupyter-widgets/controls",
            "_model_module_version": "1.5.0",
            "_model_name": "HTMLModel",
            "_view_count": null,
            "_view_module": "@jupyter-widgets/controls",
            "_view_module_version": "1.5.0",
            "_view_name": "HTMLView",
            "description": "",
            "description_tooltip": null,
            "layout": "IPY_MODEL_b038515b30e14c7cac1bff5ba4b42845",
            "placeholder": "​",
            "style": "IPY_MODEL_31aa4d64a7a04925a927fed223336d16",
            "value": "Downloading: 100%"
          }
        },
        "67973c3f30204bacba626cf298568777": {
          "model_module": "@jupyter-widgets/controls",
          "model_name": "FloatProgressModel",
          "model_module_version": "1.5.0",
          "state": {
            "_dom_classes": [],
            "_model_module": "@jupyter-widgets/controls",
            "_model_module_version": "1.5.0",
            "_model_name": "FloatProgressModel",
            "_view_count": null,
            "_view_module": "@jupyter-widgets/controls",
            "_view_module_version": "1.5.0",
            "_view_name": "ProgressView",
            "bar_style": "success",
            "description": "",
            "description_tooltip": null,
            "layout": "IPY_MODEL_3bdc1878395c4ae2a583dfb420ddda17",
            "max": 39265,
            "min": 0,
            "orientation": "horizontal",
            "style": "IPY_MODEL_b183617e54dc42d9973a620b9c292db5",
            "value": 39265
          }
        },
        "abcb94d8f7794877ae8b8fa7a28867e8": {
          "model_module": "@jupyter-widgets/controls",
          "model_name": "HTMLModel",
          "model_module_version": "1.5.0",
          "state": {
            "_dom_classes": [],
            "_model_module": "@jupyter-widgets/controls",
            "_model_module_version": "1.5.0",
            "_model_name": "HTMLModel",
            "_view_count": null,
            "_view_module": "@jupyter-widgets/controls",
            "_view_module_version": "1.5.0",
            "_view_name": "HTMLView",
            "description": "",
            "description_tooltip": null,
            "layout": "IPY_MODEL_e2b01ed342324ee4a7cb69910f31d5c9",
            "placeholder": "​",
            "style": "IPY_MODEL_d1e6e089d4f641c7a73a6053ce40766d",
            "value": " 39.3k/39.3k [00:00&lt;00:00, 429kB/s]"
          }
        },
        "38f9e26f901748f58a373ca665377226": {
          "model_module": "@jupyter-widgets/base",
          "model_name": "LayoutModel",
          "model_module_version": "1.2.0",
          "state": {
            "_model_module": "@jupyter-widgets/base",
            "_model_module_version": "1.2.0",
            "_model_name": "LayoutModel",
            "_view_count": null,
            "_view_module": "@jupyter-widgets/base",
            "_view_module_version": "1.2.0",
            "_view_name": "LayoutView",
            "align_content": null,
            "align_items": null,
            "align_self": null,
            "border": null,
            "bottom": null,
            "display": null,
            "flex": null,
            "flex_flow": null,
            "grid_area": null,
            "grid_auto_columns": null,
            "grid_auto_flow": null,
            "grid_auto_rows": null,
            "grid_column": null,
            "grid_gap": null,
            "grid_row": null,
            "grid_template_areas": null,
            "grid_template_columns": null,
            "grid_template_rows": null,
            "height": null,
            "justify_content": null,
            "justify_items": null,
            "left": null,
            "margin": null,
            "max_height": null,
            "max_width": null,
            "min_height": null,
            "min_width": null,
            "object_fit": null,
            "object_position": null,
            "order": null,
            "overflow": null,
            "overflow_x": null,
            "overflow_y": null,
            "padding": null,
            "right": null,
            "top": null,
            "visibility": null,
            "width": null
          }
        },
        "b038515b30e14c7cac1bff5ba4b42845": {
          "model_module": "@jupyter-widgets/base",
          "model_name": "LayoutModel",
          "model_module_version": "1.2.0",
          "state": {
            "_model_module": "@jupyter-widgets/base",
            "_model_module_version": "1.2.0",
            "_model_name": "LayoutModel",
            "_view_count": null,
            "_view_module": "@jupyter-widgets/base",
            "_view_module_version": "1.2.0",
            "_view_name": "LayoutView",
            "align_content": null,
            "align_items": null,
            "align_self": null,
            "border": null,
            "bottom": null,
            "display": null,
            "flex": null,
            "flex_flow": null,
            "grid_area": null,
            "grid_auto_columns": null,
            "grid_auto_flow": null,
            "grid_auto_rows": null,
            "grid_column": null,
            "grid_gap": null,
            "grid_row": null,
            "grid_template_areas": null,
            "grid_template_columns": null,
            "grid_template_rows": null,
            "height": null,
            "justify_content": null,
            "justify_items": null,
            "left": null,
            "margin": null,
            "max_height": null,
            "max_width": null,
            "min_height": null,
            "min_width": null,
            "object_fit": null,
            "object_position": null,
            "order": null,
            "overflow": null,
            "overflow_x": null,
            "overflow_y": null,
            "padding": null,
            "right": null,
            "top": null,
            "visibility": null,
            "width": null
          }
        },
        "31aa4d64a7a04925a927fed223336d16": {
          "model_module": "@jupyter-widgets/controls",
          "model_name": "DescriptionStyleModel",
          "model_module_version": "1.5.0",
          "state": {
            "_model_module": "@jupyter-widgets/controls",
            "_model_module_version": "1.5.0",
            "_model_name": "DescriptionStyleModel",
            "_view_count": null,
            "_view_module": "@jupyter-widgets/base",
            "_view_module_version": "1.2.0",
            "_view_name": "StyleView",
            "description_width": ""
          }
        },
        "3bdc1878395c4ae2a583dfb420ddda17": {
          "model_module": "@jupyter-widgets/base",
          "model_name": "LayoutModel",
          "model_module_version": "1.2.0",
          "state": {
            "_model_module": "@jupyter-widgets/base",
            "_model_module_version": "1.2.0",
            "_model_name": "LayoutModel",
            "_view_count": null,
            "_view_module": "@jupyter-widgets/base",
            "_view_module_version": "1.2.0",
            "_view_name": "LayoutView",
            "align_content": null,
            "align_items": null,
            "align_self": null,
            "border": null,
            "bottom": null,
            "display": null,
            "flex": null,
            "flex_flow": null,
            "grid_area": null,
            "grid_auto_columns": null,
            "grid_auto_flow": null,
            "grid_auto_rows": null,
            "grid_column": null,
            "grid_gap": null,
            "grid_row": null,
            "grid_template_areas": null,
            "grid_template_columns": null,
            "grid_template_rows": null,
            "height": null,
            "justify_content": null,
            "justify_items": null,
            "left": null,
            "margin": null,
            "max_height": null,
            "max_width": null,
            "min_height": null,
            "min_width": null,
            "object_fit": null,
            "object_position": null,
            "order": null,
            "overflow": null,
            "overflow_x": null,
            "overflow_y": null,
            "padding": null,
            "right": null,
            "top": null,
            "visibility": null,
            "width": null
          }
        },
        "b183617e54dc42d9973a620b9c292db5": {
          "model_module": "@jupyter-widgets/controls",
          "model_name": "ProgressStyleModel",
          "model_module_version": "1.5.0",
          "state": {
            "_model_module": "@jupyter-widgets/controls",
            "_model_module_version": "1.5.0",
            "_model_name": "ProgressStyleModel",
            "_view_count": null,
            "_view_module": "@jupyter-widgets/base",
            "_view_module_version": "1.2.0",
            "_view_name": "StyleView",
            "bar_color": null,
            "description_width": ""
          }
        },
        "e2b01ed342324ee4a7cb69910f31d5c9": {
          "model_module": "@jupyter-widgets/base",
          "model_name": "LayoutModel",
          "model_module_version": "1.2.0",
          "state": {
            "_model_module": "@jupyter-widgets/base",
            "_model_module_version": "1.2.0",
            "_model_name": "LayoutModel",
            "_view_count": null,
            "_view_module": "@jupyter-widgets/base",
            "_view_module_version": "1.2.0",
            "_view_name": "LayoutView",
            "align_content": null,
            "align_items": null,
            "align_self": null,
            "border": null,
            "bottom": null,
            "display": null,
            "flex": null,
            "flex_flow": null,
            "grid_area": null,
            "grid_auto_columns": null,
            "grid_auto_flow": null,
            "grid_auto_rows": null,
            "grid_column": null,
            "grid_gap": null,
            "grid_row": null,
            "grid_template_areas": null,
            "grid_template_columns": null,
            "grid_template_rows": null,
            "height": null,
            "justify_content": null,
            "justify_items": null,
            "left": null,
            "margin": null,
            "max_height": null,
            "max_width": null,
            "min_height": null,
            "min_width": null,
            "object_fit": null,
            "object_position": null,
            "order": null,
            "overflow": null,
            "overflow_x": null,
            "overflow_y": null,
            "padding": null,
            "right": null,
            "top": null,
            "visibility": null,
            "width": null
          }
        },
        "d1e6e089d4f641c7a73a6053ce40766d": {
          "model_module": "@jupyter-widgets/controls",
          "model_name": "DescriptionStyleModel",
          "model_module_version": "1.5.0",
          "state": {
            "_model_module": "@jupyter-widgets/controls",
            "_model_module_version": "1.5.0",
            "_model_name": "DescriptionStyleModel",
            "_view_count": null,
            "_view_module": "@jupyter-widgets/base",
            "_view_module_version": "1.2.0",
            "_view_name": "StyleView",
            "description_width": ""
          }
        },
        "f6a59fc57df7488980072464c16379ff": {
          "model_module": "@jupyter-widgets/controls",
          "model_name": "HBoxModel",
          "model_module_version": "1.5.0",
          "state": {
            "_dom_classes": [],
            "_model_module": "@jupyter-widgets/controls",
            "_model_module_version": "1.5.0",
            "_model_name": "HBoxModel",
            "_view_count": null,
            "_view_module": "@jupyter-widgets/controls",
            "_view_module_version": "1.5.0",
            "_view_name": "HBoxView",
            "box_style": "",
            "children": [
              "IPY_MODEL_373707bb4ffe4264bf86a08a14199f03",
              "IPY_MODEL_fb10bc112b7b4e61b2b2efeeec7ce8e1",
              "IPY_MODEL_ecfae7817f244d299c22b1db0bf93fe5"
            ],
            "layout": "IPY_MODEL_b45ed529a58645b0a2eaf62b0700d28d"
          }
        },
        "373707bb4ffe4264bf86a08a14199f03": {
          "model_module": "@jupyter-widgets/controls",
          "model_name": "HTMLModel",
          "model_module_version": "1.5.0",
          "state": {
            "_dom_classes": [],
            "_model_module": "@jupyter-widgets/controls",
            "_model_module_version": "1.5.0",
            "_model_name": "HTMLModel",
            "_view_count": null,
            "_view_module": "@jupyter-widgets/controls",
            "_view_module_version": "1.5.0",
            "_view_name": "HTMLView",
            "description": "",
            "description_tooltip": null,
            "layout": "IPY_MODEL_fb7e8e49f53b416590fb0bf4feecf97f",
            "placeholder": "​",
            "style": "IPY_MODEL_a6881d4e296c4e48894e25a25fc0d8ab",
            "value": "Downloading: 100%"
          }
        },
        "fb10bc112b7b4e61b2b2efeeec7ce8e1": {
          "model_module": "@jupyter-widgets/controls",
          "model_name": "FloatProgressModel",
          "model_module_version": "1.5.0",
          "state": {
            "_dom_classes": [],
            "_model_module": "@jupyter-widgets/controls",
            "_model_module_version": "1.5.0",
            "_model_name": "FloatProgressModel",
            "_view_count": null,
            "_view_module": "@jupyter-widgets/controls",
            "_view_module_version": "1.5.0",
            "_view_name": "ProgressView",
            "bar_style": "success",
            "description": "",
            "description_tooltip": null,
            "layout": "IPY_MODEL_5cec8dcb66cd44edad0a5619d7be3a22",
            "max": 438011953,
            "min": 0,
            "orientation": "horizontal",
            "style": "IPY_MODEL_5fbb8108742d44febb37038398a8b66f",
            "value": 438011953
          }
        },
        "ecfae7817f244d299c22b1db0bf93fe5": {
          "model_module": "@jupyter-widgets/controls",
          "model_name": "HTMLModel",
          "model_module_version": "1.5.0",
          "state": {
            "_dom_classes": [],
            "_model_module": "@jupyter-widgets/controls",
            "_model_module_version": "1.5.0",
            "_model_name": "HTMLModel",
            "_view_count": null,
            "_view_module": "@jupyter-widgets/controls",
            "_view_module_version": "1.5.0",
            "_view_name": "HTMLView",
            "description": "",
            "description_tooltip": null,
            "layout": "IPY_MODEL_1ec557cc4b984ba4809f570a4709eeb7",
            "placeholder": "​",
            "style": "IPY_MODEL_bac2f69e7eba41658578d6eb8b971a85",
            "value": " 438M/438M [00:14&lt;00:00, 62.3MB/s]"
          }
        },
        "b45ed529a58645b0a2eaf62b0700d28d": {
          "model_module": "@jupyter-widgets/base",
          "model_name": "LayoutModel",
          "model_module_version": "1.2.0",
          "state": {
            "_model_module": "@jupyter-widgets/base",
            "_model_module_version": "1.2.0",
            "_model_name": "LayoutModel",
            "_view_count": null,
            "_view_module": "@jupyter-widgets/base",
            "_view_module_version": "1.2.0",
            "_view_name": "LayoutView",
            "align_content": null,
            "align_items": null,
            "align_self": null,
            "border": null,
            "bottom": null,
            "display": null,
            "flex": null,
            "flex_flow": null,
            "grid_area": null,
            "grid_auto_columns": null,
            "grid_auto_flow": null,
            "grid_auto_rows": null,
            "grid_column": null,
            "grid_gap": null,
            "grid_row": null,
            "grid_template_areas": null,
            "grid_template_columns": null,
            "grid_template_rows": null,
            "height": null,
            "justify_content": null,
            "justify_items": null,
            "left": null,
            "margin": null,
            "max_height": null,
            "max_width": null,
            "min_height": null,
            "min_width": null,
            "object_fit": null,
            "object_position": null,
            "order": null,
            "overflow": null,
            "overflow_x": null,
            "overflow_y": null,
            "padding": null,
            "right": null,
            "top": null,
            "visibility": null,
            "width": null
          }
        },
        "fb7e8e49f53b416590fb0bf4feecf97f": {
          "model_module": "@jupyter-widgets/base",
          "model_name": "LayoutModel",
          "model_module_version": "1.2.0",
          "state": {
            "_model_module": "@jupyter-widgets/base",
            "_model_module_version": "1.2.0",
            "_model_name": "LayoutModel",
            "_view_count": null,
            "_view_module": "@jupyter-widgets/base",
            "_view_module_version": "1.2.0",
            "_view_name": "LayoutView",
            "align_content": null,
            "align_items": null,
            "align_self": null,
            "border": null,
            "bottom": null,
            "display": null,
            "flex": null,
            "flex_flow": null,
            "grid_area": null,
            "grid_auto_columns": null,
            "grid_auto_flow": null,
            "grid_auto_rows": null,
            "grid_column": null,
            "grid_gap": null,
            "grid_row": null,
            "grid_template_areas": null,
            "grid_template_columns": null,
            "grid_template_rows": null,
            "height": null,
            "justify_content": null,
            "justify_items": null,
            "left": null,
            "margin": null,
            "max_height": null,
            "max_width": null,
            "min_height": null,
            "min_width": null,
            "object_fit": null,
            "object_position": null,
            "order": null,
            "overflow": null,
            "overflow_x": null,
            "overflow_y": null,
            "padding": null,
            "right": null,
            "top": null,
            "visibility": null,
            "width": null
          }
        },
        "a6881d4e296c4e48894e25a25fc0d8ab": {
          "model_module": "@jupyter-widgets/controls",
          "model_name": "DescriptionStyleModel",
          "model_module_version": "1.5.0",
          "state": {
            "_model_module": "@jupyter-widgets/controls",
            "_model_module_version": "1.5.0",
            "_model_name": "DescriptionStyleModel",
            "_view_count": null,
            "_view_module": "@jupyter-widgets/base",
            "_view_module_version": "1.2.0",
            "_view_name": "StyleView",
            "description_width": ""
          }
        },
        "5cec8dcb66cd44edad0a5619d7be3a22": {
          "model_module": "@jupyter-widgets/base",
          "model_name": "LayoutModel",
          "model_module_version": "1.2.0",
          "state": {
            "_model_module": "@jupyter-widgets/base",
            "_model_module_version": "1.2.0",
            "_model_name": "LayoutModel",
            "_view_count": null,
            "_view_module": "@jupyter-widgets/base",
            "_view_module_version": "1.2.0",
            "_view_name": "LayoutView",
            "align_content": null,
            "align_items": null,
            "align_self": null,
            "border": null,
            "bottom": null,
            "display": null,
            "flex": null,
            "flex_flow": null,
            "grid_area": null,
            "grid_auto_columns": null,
            "grid_auto_flow": null,
            "grid_auto_rows": null,
            "grid_column": null,
            "grid_gap": null,
            "grid_row": null,
            "grid_template_areas": null,
            "grid_template_columns": null,
            "grid_template_rows": null,
            "height": null,
            "justify_content": null,
            "justify_items": null,
            "left": null,
            "margin": null,
            "max_height": null,
            "max_width": null,
            "min_height": null,
            "min_width": null,
            "object_fit": null,
            "object_position": null,
            "order": null,
            "overflow": null,
            "overflow_x": null,
            "overflow_y": null,
            "padding": null,
            "right": null,
            "top": null,
            "visibility": null,
            "width": null
          }
        },
        "5fbb8108742d44febb37038398a8b66f": {
          "model_module": "@jupyter-widgets/controls",
          "model_name": "ProgressStyleModel",
          "model_module_version": "1.5.0",
          "state": {
            "_model_module": "@jupyter-widgets/controls",
            "_model_module_version": "1.5.0",
            "_model_name": "ProgressStyleModel",
            "_view_count": null,
            "_view_module": "@jupyter-widgets/base",
            "_view_module_version": "1.2.0",
            "_view_name": "StyleView",
            "bar_color": null,
            "description_width": ""
          }
        },
        "1ec557cc4b984ba4809f570a4709eeb7": {
          "model_module": "@jupyter-widgets/base",
          "model_name": "LayoutModel",
          "model_module_version": "1.2.0",
          "state": {
            "_model_module": "@jupyter-widgets/base",
            "_model_module_version": "1.2.0",
            "_model_name": "LayoutModel",
            "_view_count": null,
            "_view_module": "@jupyter-widgets/base",
            "_view_module_version": "1.2.0",
            "_view_name": "LayoutView",
            "align_content": null,
            "align_items": null,
            "align_self": null,
            "border": null,
            "bottom": null,
            "display": null,
            "flex": null,
            "flex_flow": null,
            "grid_area": null,
            "grid_auto_columns": null,
            "grid_auto_flow": null,
            "grid_auto_rows": null,
            "grid_column": null,
            "grid_gap": null,
            "grid_row": null,
            "grid_template_areas": null,
            "grid_template_columns": null,
            "grid_template_rows": null,
            "height": null,
            "justify_content": null,
            "justify_items": null,
            "left": null,
            "margin": null,
            "max_height": null,
            "max_width": null,
            "min_height": null,
            "min_width": null,
            "object_fit": null,
            "object_position": null,
            "order": null,
            "overflow": null,
            "overflow_x": null,
            "overflow_y": null,
            "padding": null,
            "right": null,
            "top": null,
            "visibility": null,
            "width": null
          }
        },
        "bac2f69e7eba41658578d6eb8b971a85": {
          "model_module": "@jupyter-widgets/controls",
          "model_name": "DescriptionStyleModel",
          "model_module_version": "1.5.0",
          "state": {
            "_model_module": "@jupyter-widgets/controls",
            "_model_module_version": "1.5.0",
            "_model_name": "DescriptionStyleModel",
            "_view_count": null,
            "_view_module": "@jupyter-widgets/base",
            "_view_module_version": "1.2.0",
            "_view_name": "StyleView",
            "description_width": ""
          }
        },
        "bac9665f94a54387af873fa67010383e": {
          "model_module": "@jupyter-widgets/controls",
          "model_name": "HBoxModel",
          "model_module_version": "1.5.0",
          "state": {
            "_dom_classes": [],
            "_model_module": "@jupyter-widgets/controls",
            "_model_module_version": "1.5.0",
            "_model_name": "HBoxModel",
            "_view_count": null,
            "_view_module": "@jupyter-widgets/controls",
            "_view_module_version": "1.5.0",
            "_view_name": "HBoxView",
            "box_style": "",
            "children": [
              "IPY_MODEL_15e6ab5ea21c44469d2e7e010cfebdf2",
              "IPY_MODEL_106b432007a1470893345830a88e31c2",
              "IPY_MODEL_08dcf2fc2f01435bb5fc2f935d6f5bf8"
            ],
            "layout": "IPY_MODEL_6c49bb4b235542949ed4a449106137cc"
          }
        },
        "15e6ab5ea21c44469d2e7e010cfebdf2": {
          "model_module": "@jupyter-widgets/controls",
          "model_name": "HTMLModel",
          "model_module_version": "1.5.0",
          "state": {
            "_dom_classes": [],
            "_model_module": "@jupyter-widgets/controls",
            "_model_module_version": "1.5.0",
            "_model_name": "HTMLModel",
            "_view_count": null,
            "_view_module": "@jupyter-widgets/controls",
            "_view_module_version": "1.5.0",
            "_view_name": "HTMLView",
            "description": "",
            "description_tooltip": null,
            "layout": "IPY_MODEL_dcd42ee6cac947d9b6efabe937da3a8a",
            "placeholder": "​",
            "style": "IPY_MODEL_361f707c40c2445fabed461c1d3cb2fe",
            "value": "Downloading: 100%"
          }
        },
        "106b432007a1470893345830a88e31c2": {
          "model_module": "@jupyter-widgets/controls",
          "model_name": "FloatProgressModel",
          "model_module_version": "1.5.0",
          "state": {
            "_dom_classes": [],
            "_model_module": "@jupyter-widgets/controls",
            "_model_module_version": "1.5.0",
            "_model_name": "FloatProgressModel",
            "_view_count": null,
            "_view_module": "@jupyter-widgets/controls",
            "_view_module_version": "1.5.0",
            "_view_name": "ProgressView",
            "bar_style": "success",
            "description": "",
            "description_tooltip": null,
            "layout": "IPY_MODEL_2449be4565594941944f23f4f0134c2f",
            "max": 53,
            "min": 0,
            "orientation": "horizontal",
            "style": "IPY_MODEL_329f0f45c76c4830bbd00547c0e2c69d",
            "value": 53
          }
        },
        "08dcf2fc2f01435bb5fc2f935d6f5bf8": {
          "model_module": "@jupyter-widgets/controls",
          "model_name": "HTMLModel",
          "model_module_version": "1.5.0",
          "state": {
            "_dom_classes": [],
            "_model_module": "@jupyter-widgets/controls",
            "_model_module_version": "1.5.0",
            "_model_name": "HTMLModel",
            "_view_count": null,
            "_view_module": "@jupyter-widgets/controls",
            "_view_module_version": "1.5.0",
            "_view_name": "HTMLView",
            "description": "",
            "description_tooltip": null,
            "layout": "IPY_MODEL_066dc9ba11294dce803779edb484684e",
            "placeholder": "​",
            "style": "IPY_MODEL_275a56414eb8408ead3e4128c8b1a0c7",
            "value": " 53.0/53.0 [00:00&lt;00:00, 1.76kB/s]"
          }
        },
        "6c49bb4b235542949ed4a449106137cc": {
          "model_module": "@jupyter-widgets/base",
          "model_name": "LayoutModel",
          "model_module_version": "1.2.0",
          "state": {
            "_model_module": "@jupyter-widgets/base",
            "_model_module_version": "1.2.0",
            "_model_name": "LayoutModel",
            "_view_count": null,
            "_view_module": "@jupyter-widgets/base",
            "_view_module_version": "1.2.0",
            "_view_name": "LayoutView",
            "align_content": null,
            "align_items": null,
            "align_self": null,
            "border": null,
            "bottom": null,
            "display": null,
            "flex": null,
            "flex_flow": null,
            "grid_area": null,
            "grid_auto_columns": null,
            "grid_auto_flow": null,
            "grid_auto_rows": null,
            "grid_column": null,
            "grid_gap": null,
            "grid_row": null,
            "grid_template_areas": null,
            "grid_template_columns": null,
            "grid_template_rows": null,
            "height": null,
            "justify_content": null,
            "justify_items": null,
            "left": null,
            "margin": null,
            "max_height": null,
            "max_width": null,
            "min_height": null,
            "min_width": null,
            "object_fit": null,
            "object_position": null,
            "order": null,
            "overflow": null,
            "overflow_x": null,
            "overflow_y": null,
            "padding": null,
            "right": null,
            "top": null,
            "visibility": null,
            "width": null
          }
        },
        "dcd42ee6cac947d9b6efabe937da3a8a": {
          "model_module": "@jupyter-widgets/base",
          "model_name": "LayoutModel",
          "model_module_version": "1.2.0",
          "state": {
            "_model_module": "@jupyter-widgets/base",
            "_model_module_version": "1.2.0",
            "_model_name": "LayoutModel",
            "_view_count": null,
            "_view_module": "@jupyter-widgets/base",
            "_view_module_version": "1.2.0",
            "_view_name": "LayoutView",
            "align_content": null,
            "align_items": null,
            "align_self": null,
            "border": null,
            "bottom": null,
            "display": null,
            "flex": null,
            "flex_flow": null,
            "grid_area": null,
            "grid_auto_columns": null,
            "grid_auto_flow": null,
            "grid_auto_rows": null,
            "grid_column": null,
            "grid_gap": null,
            "grid_row": null,
            "grid_template_areas": null,
            "grid_template_columns": null,
            "grid_template_rows": null,
            "height": null,
            "justify_content": null,
            "justify_items": null,
            "left": null,
            "margin": null,
            "max_height": null,
            "max_width": null,
            "min_height": null,
            "min_width": null,
            "object_fit": null,
            "object_position": null,
            "order": null,
            "overflow": null,
            "overflow_x": null,
            "overflow_y": null,
            "padding": null,
            "right": null,
            "top": null,
            "visibility": null,
            "width": null
          }
        },
        "361f707c40c2445fabed461c1d3cb2fe": {
          "model_module": "@jupyter-widgets/controls",
          "model_name": "DescriptionStyleModel",
          "model_module_version": "1.5.0",
          "state": {
            "_model_module": "@jupyter-widgets/controls",
            "_model_module_version": "1.5.0",
            "_model_name": "DescriptionStyleModel",
            "_view_count": null,
            "_view_module": "@jupyter-widgets/base",
            "_view_module_version": "1.2.0",
            "_view_name": "StyleView",
            "description_width": ""
          }
        },
        "2449be4565594941944f23f4f0134c2f": {
          "model_module": "@jupyter-widgets/base",
          "model_name": "LayoutModel",
          "model_module_version": "1.2.0",
          "state": {
            "_model_module": "@jupyter-widgets/base",
            "_model_module_version": "1.2.0",
            "_model_name": "LayoutModel",
            "_view_count": null,
            "_view_module": "@jupyter-widgets/base",
            "_view_module_version": "1.2.0",
            "_view_name": "LayoutView",
            "align_content": null,
            "align_items": null,
            "align_self": null,
            "border": null,
            "bottom": null,
            "display": null,
            "flex": null,
            "flex_flow": null,
            "grid_area": null,
            "grid_auto_columns": null,
            "grid_auto_flow": null,
            "grid_auto_rows": null,
            "grid_column": null,
            "grid_gap": null,
            "grid_row": null,
            "grid_template_areas": null,
            "grid_template_columns": null,
            "grid_template_rows": null,
            "height": null,
            "justify_content": null,
            "justify_items": null,
            "left": null,
            "margin": null,
            "max_height": null,
            "max_width": null,
            "min_height": null,
            "min_width": null,
            "object_fit": null,
            "object_position": null,
            "order": null,
            "overflow": null,
            "overflow_x": null,
            "overflow_y": null,
            "padding": null,
            "right": null,
            "top": null,
            "visibility": null,
            "width": null
          }
        },
        "329f0f45c76c4830bbd00547c0e2c69d": {
          "model_module": "@jupyter-widgets/controls",
          "model_name": "ProgressStyleModel",
          "model_module_version": "1.5.0",
          "state": {
            "_model_module": "@jupyter-widgets/controls",
            "_model_module_version": "1.5.0",
            "_model_name": "ProgressStyleModel",
            "_view_count": null,
            "_view_module": "@jupyter-widgets/base",
            "_view_module_version": "1.2.0",
            "_view_name": "StyleView",
            "bar_color": null,
            "description_width": ""
          }
        },
        "066dc9ba11294dce803779edb484684e": {
          "model_module": "@jupyter-widgets/base",
          "model_name": "LayoutModel",
          "model_module_version": "1.2.0",
          "state": {
            "_model_module": "@jupyter-widgets/base",
            "_model_module_version": "1.2.0",
            "_model_name": "LayoutModel",
            "_view_count": null,
            "_view_module": "@jupyter-widgets/base",
            "_view_module_version": "1.2.0",
            "_view_name": "LayoutView",
            "align_content": null,
            "align_items": null,
            "align_self": null,
            "border": null,
            "bottom": null,
            "display": null,
            "flex": null,
            "flex_flow": null,
            "grid_area": null,
            "grid_auto_columns": null,
            "grid_auto_flow": null,
            "grid_auto_rows": null,
            "grid_column": null,
            "grid_gap": null,
            "grid_row": null,
            "grid_template_areas": null,
            "grid_template_columns": null,
            "grid_template_rows": null,
            "height": null,
            "justify_content": null,
            "justify_items": null,
            "left": null,
            "margin": null,
            "max_height": null,
            "max_width": null,
            "min_height": null,
            "min_width": null,
            "object_fit": null,
            "object_position": null,
            "order": null,
            "overflow": null,
            "overflow_x": null,
            "overflow_y": null,
            "padding": null,
            "right": null,
            "top": null,
            "visibility": null,
            "width": null
          }
        },
        "275a56414eb8408ead3e4128c8b1a0c7": {
          "model_module": "@jupyter-widgets/controls",
          "model_name": "DescriptionStyleModel",
          "model_module_version": "1.5.0",
          "state": {
            "_model_module": "@jupyter-widgets/controls",
            "_model_module_version": "1.5.0",
            "_model_name": "DescriptionStyleModel",
            "_view_count": null,
            "_view_module": "@jupyter-widgets/base",
            "_view_module_version": "1.2.0",
            "_view_name": "StyleView",
            "description_width": ""
          }
        },
        "1e4b673b92ab432483d9cee637453093": {
          "model_module": "@jupyter-widgets/controls",
          "model_name": "HBoxModel",
          "model_module_version": "1.5.0",
          "state": {
            "_dom_classes": [],
            "_model_module": "@jupyter-widgets/controls",
            "_model_module_version": "1.5.0",
            "_model_name": "HBoxModel",
            "_view_count": null,
            "_view_module": "@jupyter-widgets/controls",
            "_view_module_version": "1.5.0",
            "_view_name": "HBoxView",
            "box_style": "",
            "children": [
              "IPY_MODEL_96a5a7f32b5c476288883196a5175049",
              "IPY_MODEL_b222177a95c94f809fdd98498a60c383",
              "IPY_MODEL_df5d0d187741497ea9f5b392e6f01ad2"
            ],
            "layout": "IPY_MODEL_2a6239881b0e4442ae5bd41fdfcbefaf"
          }
        },
        "96a5a7f32b5c476288883196a5175049": {
          "model_module": "@jupyter-widgets/controls",
          "model_name": "HTMLModel",
          "model_module_version": "1.5.0",
          "state": {
            "_dom_classes": [],
            "_model_module": "@jupyter-widgets/controls",
            "_model_module_version": "1.5.0",
            "_model_name": "HTMLModel",
            "_view_count": null,
            "_view_module": "@jupyter-widgets/controls",
            "_view_module_version": "1.5.0",
            "_view_name": "HTMLView",
            "description": "",
            "description_tooltip": null,
            "layout": "IPY_MODEL_99292243057347b798f3ca46a979e51b",
            "placeholder": "​",
            "style": "IPY_MODEL_8484d4d64a53452c9429d2ce14e2f0ea",
            "value": "Downloading: 100%"
          }
        },
        "b222177a95c94f809fdd98498a60c383": {
          "model_module": "@jupyter-widgets/controls",
          "model_name": "FloatProgressModel",
          "model_module_version": "1.5.0",
          "state": {
            "_dom_classes": [],
            "_model_module": "@jupyter-widgets/controls",
            "_model_module_version": "1.5.0",
            "_model_name": "FloatProgressModel",
            "_view_count": null,
            "_view_module": "@jupyter-widgets/controls",
            "_view_module_version": "1.5.0",
            "_view_name": "ProgressView",
            "bar_style": "success",
            "description": "",
            "description_tooltip": null,
            "layout": "IPY_MODEL_4e10d5e9940844a9805ab0d22aaa9834",
            "max": 239,
            "min": 0,
            "orientation": "horizontal",
            "style": "IPY_MODEL_cdac8bdd429a4930a2dc8e1d2732e1ef",
            "value": 239
          }
        },
        "df5d0d187741497ea9f5b392e6f01ad2": {
          "model_module": "@jupyter-widgets/controls",
          "model_name": "HTMLModel",
          "model_module_version": "1.5.0",
          "state": {
            "_dom_classes": [],
            "_model_module": "@jupyter-widgets/controls",
            "_model_module_version": "1.5.0",
            "_model_name": "HTMLModel",
            "_view_count": null,
            "_view_module": "@jupyter-widgets/controls",
            "_view_module_version": "1.5.0",
            "_view_name": "HTMLView",
            "description": "",
            "description_tooltip": null,
            "layout": "IPY_MODEL_3893ac34fbea44c2a53c5b51ce2d09f4",
            "placeholder": "​",
            "style": "IPY_MODEL_0379bf016f40476b9d42ae33aaacac67",
            "value": " 239/239 [00:00&lt;00:00, 5.17kB/s]"
          }
        },
        "2a6239881b0e4442ae5bd41fdfcbefaf": {
          "model_module": "@jupyter-widgets/base",
          "model_name": "LayoutModel",
          "model_module_version": "1.2.0",
          "state": {
            "_model_module": "@jupyter-widgets/base",
            "_model_module_version": "1.2.0",
            "_model_name": "LayoutModel",
            "_view_count": null,
            "_view_module": "@jupyter-widgets/base",
            "_view_module_version": "1.2.0",
            "_view_name": "LayoutView",
            "align_content": null,
            "align_items": null,
            "align_self": null,
            "border": null,
            "bottom": null,
            "display": null,
            "flex": null,
            "flex_flow": null,
            "grid_area": null,
            "grid_auto_columns": null,
            "grid_auto_flow": null,
            "grid_auto_rows": null,
            "grid_column": null,
            "grid_gap": null,
            "grid_row": null,
            "grid_template_areas": null,
            "grid_template_columns": null,
            "grid_template_rows": null,
            "height": null,
            "justify_content": null,
            "justify_items": null,
            "left": null,
            "margin": null,
            "max_height": null,
            "max_width": null,
            "min_height": null,
            "min_width": null,
            "object_fit": null,
            "object_position": null,
            "order": null,
            "overflow": null,
            "overflow_x": null,
            "overflow_y": null,
            "padding": null,
            "right": null,
            "top": null,
            "visibility": null,
            "width": null
          }
        },
        "99292243057347b798f3ca46a979e51b": {
          "model_module": "@jupyter-widgets/base",
          "model_name": "LayoutModel",
          "model_module_version": "1.2.0",
          "state": {
            "_model_module": "@jupyter-widgets/base",
            "_model_module_version": "1.2.0",
            "_model_name": "LayoutModel",
            "_view_count": null,
            "_view_module": "@jupyter-widgets/base",
            "_view_module_version": "1.2.0",
            "_view_name": "LayoutView",
            "align_content": null,
            "align_items": null,
            "align_self": null,
            "border": null,
            "bottom": null,
            "display": null,
            "flex": null,
            "flex_flow": null,
            "grid_area": null,
            "grid_auto_columns": null,
            "grid_auto_flow": null,
            "grid_auto_rows": null,
            "grid_column": null,
            "grid_gap": null,
            "grid_row": null,
            "grid_template_areas": null,
            "grid_template_columns": null,
            "grid_template_rows": null,
            "height": null,
            "justify_content": null,
            "justify_items": null,
            "left": null,
            "margin": null,
            "max_height": null,
            "max_width": null,
            "min_height": null,
            "min_width": null,
            "object_fit": null,
            "object_position": null,
            "order": null,
            "overflow": null,
            "overflow_x": null,
            "overflow_y": null,
            "padding": null,
            "right": null,
            "top": null,
            "visibility": null,
            "width": null
          }
        },
        "8484d4d64a53452c9429d2ce14e2f0ea": {
          "model_module": "@jupyter-widgets/controls",
          "model_name": "DescriptionStyleModel",
          "model_module_version": "1.5.0",
          "state": {
            "_model_module": "@jupyter-widgets/controls",
            "_model_module_version": "1.5.0",
            "_model_name": "DescriptionStyleModel",
            "_view_count": null,
            "_view_module": "@jupyter-widgets/base",
            "_view_module_version": "1.2.0",
            "_view_name": "StyleView",
            "description_width": ""
          }
        },
        "4e10d5e9940844a9805ab0d22aaa9834": {
          "model_module": "@jupyter-widgets/base",
          "model_name": "LayoutModel",
          "model_module_version": "1.2.0",
          "state": {
            "_model_module": "@jupyter-widgets/base",
            "_model_module_version": "1.2.0",
            "_model_name": "LayoutModel",
            "_view_count": null,
            "_view_module": "@jupyter-widgets/base",
            "_view_module_version": "1.2.0",
            "_view_name": "LayoutView",
            "align_content": null,
            "align_items": null,
            "align_self": null,
            "border": null,
            "bottom": null,
            "display": null,
            "flex": null,
            "flex_flow": null,
            "grid_area": null,
            "grid_auto_columns": null,
            "grid_auto_flow": null,
            "grid_auto_rows": null,
            "grid_column": null,
            "grid_gap": null,
            "grid_row": null,
            "grid_template_areas": null,
            "grid_template_columns": null,
            "grid_template_rows": null,
            "height": null,
            "justify_content": null,
            "justify_items": null,
            "left": null,
            "margin": null,
            "max_height": null,
            "max_width": null,
            "min_height": null,
            "min_width": null,
            "object_fit": null,
            "object_position": null,
            "order": null,
            "overflow": null,
            "overflow_x": null,
            "overflow_y": null,
            "padding": null,
            "right": null,
            "top": null,
            "visibility": null,
            "width": null
          }
        },
        "cdac8bdd429a4930a2dc8e1d2732e1ef": {
          "model_module": "@jupyter-widgets/controls",
          "model_name": "ProgressStyleModel",
          "model_module_version": "1.5.0",
          "state": {
            "_model_module": "@jupyter-widgets/controls",
            "_model_module_version": "1.5.0",
            "_model_name": "ProgressStyleModel",
            "_view_count": null,
            "_view_module": "@jupyter-widgets/base",
            "_view_module_version": "1.2.0",
            "_view_name": "StyleView",
            "bar_color": null,
            "description_width": ""
          }
        },
        "3893ac34fbea44c2a53c5b51ce2d09f4": {
          "model_module": "@jupyter-widgets/base",
          "model_name": "LayoutModel",
          "model_module_version": "1.2.0",
          "state": {
            "_model_module": "@jupyter-widgets/base",
            "_model_module_version": "1.2.0",
            "_model_name": "LayoutModel",
            "_view_count": null,
            "_view_module": "@jupyter-widgets/base",
            "_view_module_version": "1.2.0",
            "_view_name": "LayoutView",
            "align_content": null,
            "align_items": null,
            "align_self": null,
            "border": null,
            "bottom": null,
            "display": null,
            "flex": null,
            "flex_flow": null,
            "grid_area": null,
            "grid_auto_columns": null,
            "grid_auto_flow": null,
            "grid_auto_rows": null,
            "grid_column": null,
            "grid_gap": null,
            "grid_row": null,
            "grid_template_areas": null,
            "grid_template_columns": null,
            "grid_template_rows": null,
            "height": null,
            "justify_content": null,
            "justify_items": null,
            "left": null,
            "margin": null,
            "max_height": null,
            "max_width": null,
            "min_height": null,
            "min_width": null,
            "object_fit": null,
            "object_position": null,
            "order": null,
            "overflow": null,
            "overflow_x": null,
            "overflow_y": null,
            "padding": null,
            "right": null,
            "top": null,
            "visibility": null,
            "width": null
          }
        },
        "0379bf016f40476b9d42ae33aaacac67": {
          "model_module": "@jupyter-widgets/controls",
          "model_name": "DescriptionStyleModel",
          "model_module_version": "1.5.0",
          "state": {
            "_model_module": "@jupyter-widgets/controls",
            "_model_module_version": "1.5.0",
            "_model_name": "DescriptionStyleModel",
            "_view_count": null,
            "_view_module": "@jupyter-widgets/base",
            "_view_module_version": "1.2.0",
            "_view_name": "StyleView",
            "description_width": ""
          }
        },
        "5e38afd8edb2458e85a4fcc5a6f52204": {
          "model_module": "@jupyter-widgets/controls",
          "model_name": "HBoxModel",
          "model_module_version": "1.5.0",
          "state": {
            "_dom_classes": [],
            "_model_module": "@jupyter-widgets/controls",
            "_model_module_version": "1.5.0",
            "_model_name": "HBoxModel",
            "_view_count": null,
            "_view_module": "@jupyter-widgets/controls",
            "_view_module_version": "1.5.0",
            "_view_name": "HBoxView",
            "box_style": "",
            "children": [
              "IPY_MODEL_ae3c27944034479d9043936bfcff2c20",
              "IPY_MODEL_b1df07d4b4e24a1db1d743ec68fa6369",
              "IPY_MODEL_2b946cab5ac34df784b07d8917ddd050"
            ],
            "layout": "IPY_MODEL_c6f568c01db04111a3a9aa7e6cfc4c20"
          }
        },
        "ae3c27944034479d9043936bfcff2c20": {
          "model_module": "@jupyter-widgets/controls",
          "model_name": "HTMLModel",
          "model_module_version": "1.5.0",
          "state": {
            "_dom_classes": [],
            "_model_module": "@jupyter-widgets/controls",
            "_model_module_version": "1.5.0",
            "_model_name": "HTMLModel",
            "_view_count": null,
            "_view_module": "@jupyter-widgets/controls",
            "_view_module_version": "1.5.0",
            "_view_name": "HTMLView",
            "description": "",
            "description_tooltip": null,
            "layout": "IPY_MODEL_4aae7647801944b8a5d6bcc76f9536f5",
            "placeholder": "​",
            "style": "IPY_MODEL_90259ebebda543cf8c4772793577b26d",
            "value": "Downloading: 100%"
          }
        },
        "b1df07d4b4e24a1db1d743ec68fa6369": {
          "model_module": "@jupyter-widgets/controls",
          "model_name": "FloatProgressModel",
          "model_module_version": "1.5.0",
          "state": {
            "_dom_classes": [],
            "_model_module": "@jupyter-widgets/controls",
            "_model_module_version": "1.5.0",
            "_model_name": "FloatProgressModel",
            "_view_count": null,
            "_view_module": "@jupyter-widgets/controls",
            "_view_module_version": "1.5.0",
            "_view_name": "ProgressView",
            "bar_style": "success",
            "description": "",
            "description_tooltip": null,
            "layout": "IPY_MODEL_2f46fbdf66de4e34bbe9c7cb639c4a30",
            "max": 466021,
            "min": 0,
            "orientation": "horizontal",
            "style": "IPY_MODEL_84dec87f9e7848d88b00a44cfb2e7e89",
            "value": 466021
          }
        },
        "2b946cab5ac34df784b07d8917ddd050": {
          "model_module": "@jupyter-widgets/controls",
          "model_name": "HTMLModel",
          "model_module_version": "1.5.0",
          "state": {
            "_dom_classes": [],
            "_model_module": "@jupyter-widgets/controls",
            "_model_module_version": "1.5.0",
            "_model_name": "HTMLModel",
            "_view_count": null,
            "_view_module": "@jupyter-widgets/controls",
            "_view_module_version": "1.5.0",
            "_view_name": "HTMLView",
            "description": "",
            "description_tooltip": null,
            "layout": "IPY_MODEL_e955fa78269a420285313f787f1bea01",
            "placeholder": "​",
            "style": "IPY_MODEL_e3891688b69e4d66b5961899e7a717db",
            "value": " 466k/466k [00:00&lt;00:00, 6.93MB/s]"
          }
        },
        "c6f568c01db04111a3a9aa7e6cfc4c20": {
          "model_module": "@jupyter-widgets/base",
          "model_name": "LayoutModel",
          "model_module_version": "1.2.0",
          "state": {
            "_model_module": "@jupyter-widgets/base",
            "_model_module_version": "1.2.0",
            "_model_name": "LayoutModel",
            "_view_count": null,
            "_view_module": "@jupyter-widgets/base",
            "_view_module_version": "1.2.0",
            "_view_name": "LayoutView",
            "align_content": null,
            "align_items": null,
            "align_self": null,
            "border": null,
            "bottom": null,
            "display": null,
            "flex": null,
            "flex_flow": null,
            "grid_area": null,
            "grid_auto_columns": null,
            "grid_auto_flow": null,
            "grid_auto_rows": null,
            "grid_column": null,
            "grid_gap": null,
            "grid_row": null,
            "grid_template_areas": null,
            "grid_template_columns": null,
            "grid_template_rows": null,
            "height": null,
            "justify_content": null,
            "justify_items": null,
            "left": null,
            "margin": null,
            "max_height": null,
            "max_width": null,
            "min_height": null,
            "min_width": null,
            "object_fit": null,
            "object_position": null,
            "order": null,
            "overflow": null,
            "overflow_x": null,
            "overflow_y": null,
            "padding": null,
            "right": null,
            "top": null,
            "visibility": null,
            "width": null
          }
        },
        "4aae7647801944b8a5d6bcc76f9536f5": {
          "model_module": "@jupyter-widgets/base",
          "model_name": "LayoutModel",
          "model_module_version": "1.2.0",
          "state": {
            "_model_module": "@jupyter-widgets/base",
            "_model_module_version": "1.2.0",
            "_model_name": "LayoutModel",
            "_view_count": null,
            "_view_module": "@jupyter-widgets/base",
            "_view_module_version": "1.2.0",
            "_view_name": "LayoutView",
            "align_content": null,
            "align_items": null,
            "align_self": null,
            "border": null,
            "bottom": null,
            "display": null,
            "flex": null,
            "flex_flow": null,
            "grid_area": null,
            "grid_auto_columns": null,
            "grid_auto_flow": null,
            "grid_auto_rows": null,
            "grid_column": null,
            "grid_gap": null,
            "grid_row": null,
            "grid_template_areas": null,
            "grid_template_columns": null,
            "grid_template_rows": null,
            "height": null,
            "justify_content": null,
            "justify_items": null,
            "left": null,
            "margin": null,
            "max_height": null,
            "max_width": null,
            "min_height": null,
            "min_width": null,
            "object_fit": null,
            "object_position": null,
            "order": null,
            "overflow": null,
            "overflow_x": null,
            "overflow_y": null,
            "padding": null,
            "right": null,
            "top": null,
            "visibility": null,
            "width": null
          }
        },
        "90259ebebda543cf8c4772793577b26d": {
          "model_module": "@jupyter-widgets/controls",
          "model_name": "DescriptionStyleModel",
          "model_module_version": "1.5.0",
          "state": {
            "_model_module": "@jupyter-widgets/controls",
            "_model_module_version": "1.5.0",
            "_model_name": "DescriptionStyleModel",
            "_view_count": null,
            "_view_module": "@jupyter-widgets/base",
            "_view_module_version": "1.2.0",
            "_view_name": "StyleView",
            "description_width": ""
          }
        },
        "2f46fbdf66de4e34bbe9c7cb639c4a30": {
          "model_module": "@jupyter-widgets/base",
          "model_name": "LayoutModel",
          "model_module_version": "1.2.0",
          "state": {
            "_model_module": "@jupyter-widgets/base",
            "_model_module_version": "1.2.0",
            "_model_name": "LayoutModel",
            "_view_count": null,
            "_view_module": "@jupyter-widgets/base",
            "_view_module_version": "1.2.0",
            "_view_name": "LayoutView",
            "align_content": null,
            "align_items": null,
            "align_self": null,
            "border": null,
            "bottom": null,
            "display": null,
            "flex": null,
            "flex_flow": null,
            "grid_area": null,
            "grid_auto_columns": null,
            "grid_auto_flow": null,
            "grid_auto_rows": null,
            "grid_column": null,
            "grid_gap": null,
            "grid_row": null,
            "grid_template_areas": null,
            "grid_template_columns": null,
            "grid_template_rows": null,
            "height": null,
            "justify_content": null,
            "justify_items": null,
            "left": null,
            "margin": null,
            "max_height": null,
            "max_width": null,
            "min_height": null,
            "min_width": null,
            "object_fit": null,
            "object_position": null,
            "order": null,
            "overflow": null,
            "overflow_x": null,
            "overflow_y": null,
            "padding": null,
            "right": null,
            "top": null,
            "visibility": null,
            "width": null
          }
        },
        "84dec87f9e7848d88b00a44cfb2e7e89": {
          "model_module": "@jupyter-widgets/controls",
          "model_name": "ProgressStyleModel",
          "model_module_version": "1.5.0",
          "state": {
            "_model_module": "@jupyter-widgets/controls",
            "_model_module_version": "1.5.0",
            "_model_name": "ProgressStyleModel",
            "_view_count": null,
            "_view_module": "@jupyter-widgets/base",
            "_view_module_version": "1.2.0",
            "_view_name": "StyleView",
            "bar_color": null,
            "description_width": ""
          }
        },
        "e955fa78269a420285313f787f1bea01": {
          "model_module": "@jupyter-widgets/base",
          "model_name": "LayoutModel",
          "model_module_version": "1.2.0",
          "state": {
            "_model_module": "@jupyter-widgets/base",
            "_model_module_version": "1.2.0",
            "_model_name": "LayoutModel",
            "_view_count": null,
            "_view_module": "@jupyter-widgets/base",
            "_view_module_version": "1.2.0",
            "_view_name": "LayoutView",
            "align_content": null,
            "align_items": null,
            "align_self": null,
            "border": null,
            "bottom": null,
            "display": null,
            "flex": null,
            "flex_flow": null,
            "grid_area": null,
            "grid_auto_columns": null,
            "grid_auto_flow": null,
            "grid_auto_rows": null,
            "grid_column": null,
            "grid_gap": null,
            "grid_row": null,
            "grid_template_areas": null,
            "grid_template_columns": null,
            "grid_template_rows": null,
            "height": null,
            "justify_content": null,
            "justify_items": null,
            "left": null,
            "margin": null,
            "max_height": null,
            "max_width": null,
            "min_height": null,
            "min_width": null,
            "object_fit": null,
            "object_position": null,
            "order": null,
            "overflow": null,
            "overflow_x": null,
            "overflow_y": null,
            "padding": null,
            "right": null,
            "top": null,
            "visibility": null,
            "width": null
          }
        },
        "e3891688b69e4d66b5961899e7a717db": {
          "model_module": "@jupyter-widgets/controls",
          "model_name": "DescriptionStyleModel",
          "model_module_version": "1.5.0",
          "state": {
            "_model_module": "@jupyter-widgets/controls",
            "_model_module_version": "1.5.0",
            "_model_name": "DescriptionStyleModel",
            "_view_count": null,
            "_view_module": "@jupyter-widgets/base",
            "_view_module_version": "1.2.0",
            "_view_name": "StyleView",
            "description_width": ""
          }
        },
        "e4f13c448e504066bde5ab375cb57bd9": {
          "model_module": "@jupyter-widgets/controls",
          "model_name": "HBoxModel",
          "model_module_version": "1.5.0",
          "state": {
            "_dom_classes": [],
            "_model_module": "@jupyter-widgets/controls",
            "_model_module_version": "1.5.0",
            "_model_name": "HBoxModel",
            "_view_count": null,
            "_view_module": "@jupyter-widgets/controls",
            "_view_module_version": "1.5.0",
            "_view_name": "HBoxView",
            "box_style": "",
            "children": [
              "IPY_MODEL_716b4c3b312a442388ef56a1f1ce2232",
              "IPY_MODEL_55f79bf7633d4750ae67a54996fe17b7",
              "IPY_MODEL_4da53cc0076f4f879bf22057b0c8807f"
            ],
            "layout": "IPY_MODEL_0a27a07f356346b89f285778b8318a7f"
          }
        },
        "716b4c3b312a442388ef56a1f1ce2232": {
          "model_module": "@jupyter-widgets/controls",
          "model_name": "HTMLModel",
          "model_module_version": "1.5.0",
          "state": {
            "_dom_classes": [],
            "_model_module": "@jupyter-widgets/controls",
            "_model_module_version": "1.5.0",
            "_model_name": "HTMLModel",
            "_view_count": null,
            "_view_module": "@jupyter-widgets/controls",
            "_view_module_version": "1.5.0",
            "_view_name": "HTMLView",
            "description": "",
            "description_tooltip": null,
            "layout": "IPY_MODEL_33aa3652d6df4ea3859ea26b4c67b956",
            "placeholder": "​",
            "style": "IPY_MODEL_041b77ddc2c449ef89f9089ad16f0062",
            "value": "Downloading: 100%"
          }
        },
        "55f79bf7633d4750ae67a54996fe17b7": {
          "model_module": "@jupyter-widgets/controls",
          "model_name": "FloatProgressModel",
          "model_module_version": "1.5.0",
          "state": {
            "_dom_classes": [],
            "_model_module": "@jupyter-widgets/controls",
            "_model_module_version": "1.5.0",
            "_model_name": "FloatProgressModel",
            "_view_count": null,
            "_view_module": "@jupyter-widgets/controls",
            "_view_module_version": "1.5.0",
            "_view_name": "ProgressView",
            "bar_style": "success",
            "description": "",
            "description_tooltip": null,
            "layout": "IPY_MODEL_8dd4934582dc4529bdbc2d8515dfbbab",
            "max": 363,
            "min": 0,
            "orientation": "horizontal",
            "style": "IPY_MODEL_0ad33f57a2914996ad2bba51a31722da",
            "value": 363
          }
        },
        "4da53cc0076f4f879bf22057b0c8807f": {
          "model_module": "@jupyter-widgets/controls",
          "model_name": "HTMLModel",
          "model_module_version": "1.5.0",
          "state": {
            "_dom_classes": [],
            "_model_module": "@jupyter-widgets/controls",
            "_model_module_version": "1.5.0",
            "_model_name": "HTMLModel",
            "_view_count": null,
            "_view_module": "@jupyter-widgets/controls",
            "_view_module_version": "1.5.0",
            "_view_name": "HTMLView",
            "description": "",
            "description_tooltip": null,
            "layout": "IPY_MODEL_cbf5cc43bf0a46989427b5e2f7e59184",
            "placeholder": "​",
            "style": "IPY_MODEL_29e27cad0c5f4607a9ed860faffd6fa2",
            "value": " 363/363 [00:00&lt;00:00, 8.62kB/s]"
          }
        },
        "0a27a07f356346b89f285778b8318a7f": {
          "model_module": "@jupyter-widgets/base",
          "model_name": "LayoutModel",
          "model_module_version": "1.2.0",
          "state": {
            "_model_module": "@jupyter-widgets/base",
            "_model_module_version": "1.2.0",
            "_model_name": "LayoutModel",
            "_view_count": null,
            "_view_module": "@jupyter-widgets/base",
            "_view_module_version": "1.2.0",
            "_view_name": "LayoutView",
            "align_content": null,
            "align_items": null,
            "align_self": null,
            "border": null,
            "bottom": null,
            "display": null,
            "flex": null,
            "flex_flow": null,
            "grid_area": null,
            "grid_auto_columns": null,
            "grid_auto_flow": null,
            "grid_auto_rows": null,
            "grid_column": null,
            "grid_gap": null,
            "grid_row": null,
            "grid_template_areas": null,
            "grid_template_columns": null,
            "grid_template_rows": null,
            "height": null,
            "justify_content": null,
            "justify_items": null,
            "left": null,
            "margin": null,
            "max_height": null,
            "max_width": null,
            "min_height": null,
            "min_width": null,
            "object_fit": null,
            "object_position": null,
            "order": null,
            "overflow": null,
            "overflow_x": null,
            "overflow_y": null,
            "padding": null,
            "right": null,
            "top": null,
            "visibility": null,
            "width": null
          }
        },
        "33aa3652d6df4ea3859ea26b4c67b956": {
          "model_module": "@jupyter-widgets/base",
          "model_name": "LayoutModel",
          "model_module_version": "1.2.0",
          "state": {
            "_model_module": "@jupyter-widgets/base",
            "_model_module_version": "1.2.0",
            "_model_name": "LayoutModel",
            "_view_count": null,
            "_view_module": "@jupyter-widgets/base",
            "_view_module_version": "1.2.0",
            "_view_name": "LayoutView",
            "align_content": null,
            "align_items": null,
            "align_self": null,
            "border": null,
            "bottom": null,
            "display": null,
            "flex": null,
            "flex_flow": null,
            "grid_area": null,
            "grid_auto_columns": null,
            "grid_auto_flow": null,
            "grid_auto_rows": null,
            "grid_column": null,
            "grid_gap": null,
            "grid_row": null,
            "grid_template_areas": null,
            "grid_template_columns": null,
            "grid_template_rows": null,
            "height": null,
            "justify_content": null,
            "justify_items": null,
            "left": null,
            "margin": null,
            "max_height": null,
            "max_width": null,
            "min_height": null,
            "min_width": null,
            "object_fit": null,
            "object_position": null,
            "order": null,
            "overflow": null,
            "overflow_x": null,
            "overflow_y": null,
            "padding": null,
            "right": null,
            "top": null,
            "visibility": null,
            "width": null
          }
        },
        "041b77ddc2c449ef89f9089ad16f0062": {
          "model_module": "@jupyter-widgets/controls",
          "model_name": "DescriptionStyleModel",
          "model_module_version": "1.5.0",
          "state": {
            "_model_module": "@jupyter-widgets/controls",
            "_model_module_version": "1.5.0",
            "_model_name": "DescriptionStyleModel",
            "_view_count": null,
            "_view_module": "@jupyter-widgets/base",
            "_view_module_version": "1.2.0",
            "_view_name": "StyleView",
            "description_width": ""
          }
        },
        "8dd4934582dc4529bdbc2d8515dfbbab": {
          "model_module": "@jupyter-widgets/base",
          "model_name": "LayoutModel",
          "model_module_version": "1.2.0",
          "state": {
            "_model_module": "@jupyter-widgets/base",
            "_model_module_version": "1.2.0",
            "_model_name": "LayoutModel",
            "_view_count": null,
            "_view_module": "@jupyter-widgets/base",
            "_view_module_version": "1.2.0",
            "_view_name": "LayoutView",
            "align_content": null,
            "align_items": null,
            "align_self": null,
            "border": null,
            "bottom": null,
            "display": null,
            "flex": null,
            "flex_flow": null,
            "grid_area": null,
            "grid_auto_columns": null,
            "grid_auto_flow": null,
            "grid_auto_rows": null,
            "grid_column": null,
            "grid_gap": null,
            "grid_row": null,
            "grid_template_areas": null,
            "grid_template_columns": null,
            "grid_template_rows": null,
            "height": null,
            "justify_content": null,
            "justify_items": null,
            "left": null,
            "margin": null,
            "max_height": null,
            "max_width": null,
            "min_height": null,
            "min_width": null,
            "object_fit": null,
            "object_position": null,
            "order": null,
            "overflow": null,
            "overflow_x": null,
            "overflow_y": null,
            "padding": null,
            "right": null,
            "top": null,
            "visibility": null,
            "width": null
          }
        },
        "0ad33f57a2914996ad2bba51a31722da": {
          "model_module": "@jupyter-widgets/controls",
          "model_name": "ProgressStyleModel",
          "model_module_version": "1.5.0",
          "state": {
            "_model_module": "@jupyter-widgets/controls",
            "_model_module_version": "1.5.0",
            "_model_name": "ProgressStyleModel",
            "_view_count": null,
            "_view_module": "@jupyter-widgets/base",
            "_view_module_version": "1.2.0",
            "_view_name": "StyleView",
            "bar_color": null,
            "description_width": ""
          }
        },
        "cbf5cc43bf0a46989427b5e2f7e59184": {
          "model_module": "@jupyter-widgets/base",
          "model_name": "LayoutModel",
          "model_module_version": "1.2.0",
          "state": {
            "_model_module": "@jupyter-widgets/base",
            "_model_module_version": "1.2.0",
            "_model_name": "LayoutModel",
            "_view_count": null,
            "_view_module": "@jupyter-widgets/base",
            "_view_module_version": "1.2.0",
            "_view_name": "LayoutView",
            "align_content": null,
            "align_items": null,
            "align_self": null,
            "border": null,
            "bottom": null,
            "display": null,
            "flex": null,
            "flex_flow": null,
            "grid_area": null,
            "grid_auto_columns": null,
            "grid_auto_flow": null,
            "grid_auto_rows": null,
            "grid_column": null,
            "grid_gap": null,
            "grid_row": null,
            "grid_template_areas": null,
            "grid_template_columns": null,
            "grid_template_rows": null,
            "height": null,
            "justify_content": null,
            "justify_items": null,
            "left": null,
            "margin": null,
            "max_height": null,
            "max_width": null,
            "min_height": null,
            "min_width": null,
            "object_fit": null,
            "object_position": null,
            "order": null,
            "overflow": null,
            "overflow_x": null,
            "overflow_y": null,
            "padding": null,
            "right": null,
            "top": null,
            "visibility": null,
            "width": null
          }
        },
        "29e27cad0c5f4607a9ed860faffd6fa2": {
          "model_module": "@jupyter-widgets/controls",
          "model_name": "DescriptionStyleModel",
          "model_module_version": "1.5.0",
          "state": {
            "_model_module": "@jupyter-widgets/controls",
            "_model_module_version": "1.5.0",
            "_model_name": "DescriptionStyleModel",
            "_view_count": null,
            "_view_module": "@jupyter-widgets/base",
            "_view_module_version": "1.2.0",
            "_view_name": "StyleView",
            "description_width": ""
          }
        },
        "bec5aad7189a45f491bdf507081d7e33": {
          "model_module": "@jupyter-widgets/controls",
          "model_name": "HBoxModel",
          "model_module_version": "1.5.0",
          "state": {
            "_dom_classes": [],
            "_model_module": "@jupyter-widgets/controls",
            "_model_module_version": "1.5.0",
            "_model_name": "HBoxModel",
            "_view_count": null,
            "_view_module": "@jupyter-widgets/controls",
            "_view_module_version": "1.5.0",
            "_view_name": "HBoxView",
            "box_style": "",
            "children": [
              "IPY_MODEL_db0edddf6b5043109a0c84543938977b",
              "IPY_MODEL_e01f1f3c7e5942b98b88b9a63ed4740d",
              "IPY_MODEL_463e122a7efb46f783bbb383d464a967"
            ],
            "layout": "IPY_MODEL_e723a669c1a04e9ea9081ab7c3702f7d"
          }
        },
        "db0edddf6b5043109a0c84543938977b": {
          "model_module": "@jupyter-widgets/controls",
          "model_name": "HTMLModel",
          "model_module_version": "1.5.0",
          "state": {
            "_dom_classes": [],
            "_model_module": "@jupyter-widgets/controls",
            "_model_module_version": "1.5.0",
            "_model_name": "HTMLModel",
            "_view_count": null,
            "_view_module": "@jupyter-widgets/controls",
            "_view_module_version": "1.5.0",
            "_view_name": "HTMLView",
            "description": "",
            "description_tooltip": null,
            "layout": "IPY_MODEL_749102b903b34c9aba21e4fa01dd4d3a",
            "placeholder": "​",
            "style": "IPY_MODEL_f569f2b1cadb48a6a61a7dfdd74f9979",
            "value": "Downloading: 100%"
          }
        },
        "e01f1f3c7e5942b98b88b9a63ed4740d": {
          "model_module": "@jupyter-widgets/controls",
          "model_name": "FloatProgressModel",
          "model_module_version": "1.5.0",
          "state": {
            "_dom_classes": [],
            "_model_module": "@jupyter-widgets/controls",
            "_model_module_version": "1.5.0",
            "_model_name": "FloatProgressModel",
            "_view_count": null,
            "_view_module": "@jupyter-widgets/controls",
            "_view_module_version": "1.5.0",
            "_view_name": "ProgressView",
            "bar_style": "success",
            "description": "",
            "description_tooltip": null,
            "layout": "IPY_MODEL_954068d30be44d10986d52f85f013019",
            "max": 13123,
            "min": 0,
            "orientation": "horizontal",
            "style": "IPY_MODEL_321505d7209c48289e8649f58e3fac51",
            "value": 13123
          }
        },
        "463e122a7efb46f783bbb383d464a967": {
          "model_module": "@jupyter-widgets/controls",
          "model_name": "HTMLModel",
          "model_module_version": "1.5.0",
          "state": {
            "_dom_classes": [],
            "_model_module": "@jupyter-widgets/controls",
            "_model_module_version": "1.5.0",
            "_model_name": "HTMLModel",
            "_view_count": null,
            "_view_module": "@jupyter-widgets/controls",
            "_view_module_version": "1.5.0",
            "_view_name": "HTMLView",
            "description": "",
            "description_tooltip": null,
            "layout": "IPY_MODEL_51114c7e4717496882b29ca83cb59a61",
            "placeholder": "​",
            "style": "IPY_MODEL_276d73e893014068982832389a8fe655",
            "value": " 13.1k/13.1k [00:00&lt;00:00, 412kB/s]"
          }
        },
        "e723a669c1a04e9ea9081ab7c3702f7d": {
          "model_module": "@jupyter-widgets/base",
          "model_name": "LayoutModel",
          "model_module_version": "1.2.0",
          "state": {
            "_model_module": "@jupyter-widgets/base",
            "_model_module_version": "1.2.0",
            "_model_name": "LayoutModel",
            "_view_count": null,
            "_view_module": "@jupyter-widgets/base",
            "_view_module_version": "1.2.0",
            "_view_name": "LayoutView",
            "align_content": null,
            "align_items": null,
            "align_self": null,
            "border": null,
            "bottom": null,
            "display": null,
            "flex": null,
            "flex_flow": null,
            "grid_area": null,
            "grid_auto_columns": null,
            "grid_auto_flow": null,
            "grid_auto_rows": null,
            "grid_column": null,
            "grid_gap": null,
            "grid_row": null,
            "grid_template_areas": null,
            "grid_template_columns": null,
            "grid_template_rows": null,
            "height": null,
            "justify_content": null,
            "justify_items": null,
            "left": null,
            "margin": null,
            "max_height": null,
            "max_width": null,
            "min_height": null,
            "min_width": null,
            "object_fit": null,
            "object_position": null,
            "order": null,
            "overflow": null,
            "overflow_x": null,
            "overflow_y": null,
            "padding": null,
            "right": null,
            "top": null,
            "visibility": null,
            "width": null
          }
        },
        "749102b903b34c9aba21e4fa01dd4d3a": {
          "model_module": "@jupyter-widgets/base",
          "model_name": "LayoutModel",
          "model_module_version": "1.2.0",
          "state": {
            "_model_module": "@jupyter-widgets/base",
            "_model_module_version": "1.2.0",
            "_model_name": "LayoutModel",
            "_view_count": null,
            "_view_module": "@jupyter-widgets/base",
            "_view_module_version": "1.2.0",
            "_view_name": "LayoutView",
            "align_content": null,
            "align_items": null,
            "align_self": null,
            "border": null,
            "bottom": null,
            "display": null,
            "flex": null,
            "flex_flow": null,
            "grid_area": null,
            "grid_auto_columns": null,
            "grid_auto_flow": null,
            "grid_auto_rows": null,
            "grid_column": null,
            "grid_gap": null,
            "grid_row": null,
            "grid_template_areas": null,
            "grid_template_columns": null,
            "grid_template_rows": null,
            "height": null,
            "justify_content": null,
            "justify_items": null,
            "left": null,
            "margin": null,
            "max_height": null,
            "max_width": null,
            "min_height": null,
            "min_width": null,
            "object_fit": null,
            "object_position": null,
            "order": null,
            "overflow": null,
            "overflow_x": null,
            "overflow_y": null,
            "padding": null,
            "right": null,
            "top": null,
            "visibility": null,
            "width": null
          }
        },
        "f569f2b1cadb48a6a61a7dfdd74f9979": {
          "model_module": "@jupyter-widgets/controls",
          "model_name": "DescriptionStyleModel",
          "model_module_version": "1.5.0",
          "state": {
            "_model_module": "@jupyter-widgets/controls",
            "_model_module_version": "1.5.0",
            "_model_name": "DescriptionStyleModel",
            "_view_count": null,
            "_view_module": "@jupyter-widgets/base",
            "_view_module_version": "1.2.0",
            "_view_name": "StyleView",
            "description_width": ""
          }
        },
        "954068d30be44d10986d52f85f013019": {
          "model_module": "@jupyter-widgets/base",
          "model_name": "LayoutModel",
          "model_module_version": "1.2.0",
          "state": {
            "_model_module": "@jupyter-widgets/base",
            "_model_module_version": "1.2.0",
            "_model_name": "LayoutModel",
            "_view_count": null,
            "_view_module": "@jupyter-widgets/base",
            "_view_module_version": "1.2.0",
            "_view_name": "LayoutView",
            "align_content": null,
            "align_items": null,
            "align_self": null,
            "border": null,
            "bottom": null,
            "display": null,
            "flex": null,
            "flex_flow": null,
            "grid_area": null,
            "grid_auto_columns": null,
            "grid_auto_flow": null,
            "grid_auto_rows": null,
            "grid_column": null,
            "grid_gap": null,
            "grid_row": null,
            "grid_template_areas": null,
            "grid_template_columns": null,
            "grid_template_rows": null,
            "height": null,
            "justify_content": null,
            "justify_items": null,
            "left": null,
            "margin": null,
            "max_height": null,
            "max_width": null,
            "min_height": null,
            "min_width": null,
            "object_fit": null,
            "object_position": null,
            "order": null,
            "overflow": null,
            "overflow_x": null,
            "overflow_y": null,
            "padding": null,
            "right": null,
            "top": null,
            "visibility": null,
            "width": null
          }
        },
        "321505d7209c48289e8649f58e3fac51": {
          "model_module": "@jupyter-widgets/controls",
          "model_name": "ProgressStyleModel",
          "model_module_version": "1.5.0",
          "state": {
            "_model_module": "@jupyter-widgets/controls",
            "_model_module_version": "1.5.0",
            "_model_name": "ProgressStyleModel",
            "_view_count": null,
            "_view_module": "@jupyter-widgets/base",
            "_view_module_version": "1.2.0",
            "_view_name": "StyleView",
            "bar_color": null,
            "description_width": ""
          }
        },
        "51114c7e4717496882b29ca83cb59a61": {
          "model_module": "@jupyter-widgets/base",
          "model_name": "LayoutModel",
          "model_module_version": "1.2.0",
          "state": {
            "_model_module": "@jupyter-widgets/base",
            "_model_module_version": "1.2.0",
            "_model_name": "LayoutModel",
            "_view_count": null,
            "_view_module": "@jupyter-widgets/base",
            "_view_module_version": "1.2.0",
            "_view_name": "LayoutView",
            "align_content": null,
            "align_items": null,
            "align_self": null,
            "border": null,
            "bottom": null,
            "display": null,
            "flex": null,
            "flex_flow": null,
            "grid_area": null,
            "grid_auto_columns": null,
            "grid_auto_flow": null,
            "grid_auto_rows": null,
            "grid_column": null,
            "grid_gap": null,
            "grid_row": null,
            "grid_template_areas": null,
            "grid_template_columns": null,
            "grid_template_rows": null,
            "height": null,
            "justify_content": null,
            "justify_items": null,
            "left": null,
            "margin": null,
            "max_height": null,
            "max_width": null,
            "min_height": null,
            "min_width": null,
            "object_fit": null,
            "object_position": null,
            "order": null,
            "overflow": null,
            "overflow_x": null,
            "overflow_y": null,
            "padding": null,
            "right": null,
            "top": null,
            "visibility": null,
            "width": null
          }
        },
        "276d73e893014068982832389a8fe655": {
          "model_module": "@jupyter-widgets/controls",
          "model_name": "DescriptionStyleModel",
          "model_module_version": "1.5.0",
          "state": {
            "_model_module": "@jupyter-widgets/controls",
            "_model_module_version": "1.5.0",
            "_model_name": "DescriptionStyleModel",
            "_view_count": null,
            "_view_module": "@jupyter-widgets/base",
            "_view_module_version": "1.2.0",
            "_view_name": "StyleView",
            "description_width": ""
          }
        },
        "7a0b9cfe74c143fbb27cea47fe4e3aeb": {
          "model_module": "@jupyter-widgets/controls",
          "model_name": "HBoxModel",
          "model_module_version": "1.5.0",
          "state": {
            "_dom_classes": [],
            "_model_module": "@jupyter-widgets/controls",
            "_model_module_version": "1.5.0",
            "_model_name": "HBoxModel",
            "_view_count": null,
            "_view_module": "@jupyter-widgets/controls",
            "_view_module_version": "1.5.0",
            "_view_name": "HBoxView",
            "box_style": "",
            "children": [
              "IPY_MODEL_e85a821c6a8e4fe5b53f1fccf7f1f4fa",
              "IPY_MODEL_ff85eb5d54744f6ba9b7b6573236d060",
              "IPY_MODEL_27e72047882d4447bea6a8225a13a94e"
            ],
            "layout": "IPY_MODEL_14685df6d28a4a9fb48d1cc20dc9317d"
          }
        },
        "e85a821c6a8e4fe5b53f1fccf7f1f4fa": {
          "model_module": "@jupyter-widgets/controls",
          "model_name": "HTMLModel",
          "model_module_version": "1.5.0",
          "state": {
            "_dom_classes": [],
            "_model_module": "@jupyter-widgets/controls",
            "_model_module_version": "1.5.0",
            "_model_name": "HTMLModel",
            "_view_count": null,
            "_view_module": "@jupyter-widgets/controls",
            "_view_module_version": "1.5.0",
            "_view_name": "HTMLView",
            "description": "",
            "description_tooltip": null,
            "layout": "IPY_MODEL_a5fcb52eeb254bbe8924aa8aa916cbd2",
            "placeholder": "​",
            "style": "IPY_MODEL_cf38bca4e71f4d8286cb3c288e422ff2",
            "value": "Downloading: 100%"
          }
        },
        "ff85eb5d54744f6ba9b7b6573236d060": {
          "model_module": "@jupyter-widgets/controls",
          "model_name": "FloatProgressModel",
          "model_module_version": "1.5.0",
          "state": {
            "_dom_classes": [],
            "_model_module": "@jupyter-widgets/controls",
            "_model_module_version": "1.5.0",
            "_model_name": "FloatProgressModel",
            "_view_count": null,
            "_view_module": "@jupyter-widgets/controls",
            "_view_module_version": "1.5.0",
            "_view_name": "ProgressView",
            "bar_style": "success",
            "description": "",
            "description_tooltip": null,
            "layout": "IPY_MODEL_c1338efc854741a99b6fa529cfc42a5f",
            "max": 231536,
            "min": 0,
            "orientation": "horizontal",
            "style": "IPY_MODEL_73cbbb7a816d48608a0d7907d87e8a29",
            "value": 231536
          }
        },
        "27e72047882d4447bea6a8225a13a94e": {
          "model_module": "@jupyter-widgets/controls",
          "model_name": "HTMLModel",
          "model_module_version": "1.5.0",
          "state": {
            "_dom_classes": [],
            "_model_module": "@jupyter-widgets/controls",
            "_model_module_version": "1.5.0",
            "_model_name": "HTMLModel",
            "_view_count": null,
            "_view_module": "@jupyter-widgets/controls",
            "_view_module_version": "1.5.0",
            "_view_name": "HTMLView",
            "description": "",
            "description_tooltip": null,
            "layout": "IPY_MODEL_5469d8df60234899a8be66ddd7ce5cbc",
            "placeholder": "​",
            "style": "IPY_MODEL_5dbd408be1604340963b8190cbd80afb",
            "value": " 232k/232k [00:00&lt;00:00, 5.78MB/s]"
          }
        },
        "14685df6d28a4a9fb48d1cc20dc9317d": {
          "model_module": "@jupyter-widgets/base",
          "model_name": "LayoutModel",
          "model_module_version": "1.2.0",
          "state": {
            "_model_module": "@jupyter-widgets/base",
            "_model_module_version": "1.2.0",
            "_model_name": "LayoutModel",
            "_view_count": null,
            "_view_module": "@jupyter-widgets/base",
            "_view_module_version": "1.2.0",
            "_view_name": "LayoutView",
            "align_content": null,
            "align_items": null,
            "align_self": null,
            "border": null,
            "bottom": null,
            "display": null,
            "flex": null,
            "flex_flow": null,
            "grid_area": null,
            "grid_auto_columns": null,
            "grid_auto_flow": null,
            "grid_auto_rows": null,
            "grid_column": null,
            "grid_gap": null,
            "grid_row": null,
            "grid_template_areas": null,
            "grid_template_columns": null,
            "grid_template_rows": null,
            "height": null,
            "justify_content": null,
            "justify_items": null,
            "left": null,
            "margin": null,
            "max_height": null,
            "max_width": null,
            "min_height": null,
            "min_width": null,
            "object_fit": null,
            "object_position": null,
            "order": null,
            "overflow": null,
            "overflow_x": null,
            "overflow_y": null,
            "padding": null,
            "right": null,
            "top": null,
            "visibility": null,
            "width": null
          }
        },
        "a5fcb52eeb254bbe8924aa8aa916cbd2": {
          "model_module": "@jupyter-widgets/base",
          "model_name": "LayoutModel",
          "model_module_version": "1.2.0",
          "state": {
            "_model_module": "@jupyter-widgets/base",
            "_model_module_version": "1.2.0",
            "_model_name": "LayoutModel",
            "_view_count": null,
            "_view_module": "@jupyter-widgets/base",
            "_view_module_version": "1.2.0",
            "_view_name": "LayoutView",
            "align_content": null,
            "align_items": null,
            "align_self": null,
            "border": null,
            "bottom": null,
            "display": null,
            "flex": null,
            "flex_flow": null,
            "grid_area": null,
            "grid_auto_columns": null,
            "grid_auto_flow": null,
            "grid_auto_rows": null,
            "grid_column": null,
            "grid_gap": null,
            "grid_row": null,
            "grid_template_areas": null,
            "grid_template_columns": null,
            "grid_template_rows": null,
            "height": null,
            "justify_content": null,
            "justify_items": null,
            "left": null,
            "margin": null,
            "max_height": null,
            "max_width": null,
            "min_height": null,
            "min_width": null,
            "object_fit": null,
            "object_position": null,
            "order": null,
            "overflow": null,
            "overflow_x": null,
            "overflow_y": null,
            "padding": null,
            "right": null,
            "top": null,
            "visibility": null,
            "width": null
          }
        },
        "cf38bca4e71f4d8286cb3c288e422ff2": {
          "model_module": "@jupyter-widgets/controls",
          "model_name": "DescriptionStyleModel",
          "model_module_version": "1.5.0",
          "state": {
            "_model_module": "@jupyter-widgets/controls",
            "_model_module_version": "1.5.0",
            "_model_name": "DescriptionStyleModel",
            "_view_count": null,
            "_view_module": "@jupyter-widgets/base",
            "_view_module_version": "1.2.0",
            "_view_name": "StyleView",
            "description_width": ""
          }
        },
        "c1338efc854741a99b6fa529cfc42a5f": {
          "model_module": "@jupyter-widgets/base",
          "model_name": "LayoutModel",
          "model_module_version": "1.2.0",
          "state": {
            "_model_module": "@jupyter-widgets/base",
            "_model_module_version": "1.2.0",
            "_model_name": "LayoutModel",
            "_view_count": null,
            "_view_module": "@jupyter-widgets/base",
            "_view_module_version": "1.2.0",
            "_view_name": "LayoutView",
            "align_content": null,
            "align_items": null,
            "align_self": null,
            "border": null,
            "bottom": null,
            "display": null,
            "flex": null,
            "flex_flow": null,
            "grid_area": null,
            "grid_auto_columns": null,
            "grid_auto_flow": null,
            "grid_auto_rows": null,
            "grid_column": null,
            "grid_gap": null,
            "grid_row": null,
            "grid_template_areas": null,
            "grid_template_columns": null,
            "grid_template_rows": null,
            "height": null,
            "justify_content": null,
            "justify_items": null,
            "left": null,
            "margin": null,
            "max_height": null,
            "max_width": null,
            "min_height": null,
            "min_width": null,
            "object_fit": null,
            "object_position": null,
            "order": null,
            "overflow": null,
            "overflow_x": null,
            "overflow_y": null,
            "padding": null,
            "right": null,
            "top": null,
            "visibility": null,
            "width": null
          }
        },
        "73cbbb7a816d48608a0d7907d87e8a29": {
          "model_module": "@jupyter-widgets/controls",
          "model_name": "ProgressStyleModel",
          "model_module_version": "1.5.0",
          "state": {
            "_model_module": "@jupyter-widgets/controls",
            "_model_module_version": "1.5.0",
            "_model_name": "ProgressStyleModel",
            "_view_count": null,
            "_view_module": "@jupyter-widgets/base",
            "_view_module_version": "1.2.0",
            "_view_name": "StyleView",
            "bar_color": null,
            "description_width": ""
          }
        },
        "5469d8df60234899a8be66ddd7ce5cbc": {
          "model_module": "@jupyter-widgets/base",
          "model_name": "LayoutModel",
          "model_module_version": "1.2.0",
          "state": {
            "_model_module": "@jupyter-widgets/base",
            "_model_module_version": "1.2.0",
            "_model_name": "LayoutModel",
            "_view_count": null,
            "_view_module": "@jupyter-widgets/base",
            "_view_module_version": "1.2.0",
            "_view_name": "LayoutView",
            "align_content": null,
            "align_items": null,
            "align_self": null,
            "border": null,
            "bottom": null,
            "display": null,
            "flex": null,
            "flex_flow": null,
            "grid_area": null,
            "grid_auto_columns": null,
            "grid_auto_flow": null,
            "grid_auto_rows": null,
            "grid_column": null,
            "grid_gap": null,
            "grid_row": null,
            "grid_template_areas": null,
            "grid_template_columns": null,
            "grid_template_rows": null,
            "height": null,
            "justify_content": null,
            "justify_items": null,
            "left": null,
            "margin": null,
            "max_height": null,
            "max_width": null,
            "min_height": null,
            "min_width": null,
            "object_fit": null,
            "object_position": null,
            "order": null,
            "overflow": null,
            "overflow_x": null,
            "overflow_y": null,
            "padding": null,
            "right": null,
            "top": null,
            "visibility": null,
            "width": null
          }
        },
        "5dbd408be1604340963b8190cbd80afb": {
          "model_module": "@jupyter-widgets/controls",
          "model_name": "DescriptionStyleModel",
          "model_module_version": "1.5.0",
          "state": {
            "_model_module": "@jupyter-widgets/controls",
            "_model_module_version": "1.5.0",
            "_model_name": "DescriptionStyleModel",
            "_view_count": null,
            "_view_module": "@jupyter-widgets/base",
            "_view_module_version": "1.2.0",
            "_view_name": "StyleView",
            "description_width": ""
          }
        },
        "af65c00d83a046aaab369af17346a69d": {
          "model_module": "@jupyter-widgets/controls",
          "model_name": "HBoxModel",
          "model_module_version": "1.5.0",
          "state": {
            "_dom_classes": [],
            "_model_module": "@jupyter-widgets/controls",
            "_model_module_version": "1.5.0",
            "_model_name": "HBoxModel",
            "_view_count": null,
            "_view_module": "@jupyter-widgets/controls",
            "_view_module_version": "1.5.0",
            "_view_name": "HBoxView",
            "box_style": "",
            "children": [
              "IPY_MODEL_aa6f6635ddc140078fd348136562c6c6",
              "IPY_MODEL_203075f75af1476a90c43d0d67dddd06",
              "IPY_MODEL_b016fee01ce947fe905b5cb99bc63741"
            ],
            "layout": "IPY_MODEL_22243f79dd334e4888741615cfdfc6ee"
          }
        },
        "aa6f6635ddc140078fd348136562c6c6": {
          "model_module": "@jupyter-widgets/controls",
          "model_name": "HTMLModel",
          "model_module_version": "1.5.0",
          "state": {
            "_dom_classes": [],
            "_model_module": "@jupyter-widgets/controls",
            "_model_module_version": "1.5.0",
            "_model_name": "HTMLModel",
            "_view_count": null,
            "_view_module": "@jupyter-widgets/controls",
            "_view_module_version": "1.5.0",
            "_view_name": "HTMLView",
            "description": "",
            "description_tooltip": null,
            "layout": "IPY_MODEL_e96e4d5f6f0f4a23a99eec4aa67602b0",
            "placeholder": "​",
            "style": "IPY_MODEL_2067712bedac4f76bfd825379c4dcee8",
            "value": "Downloading: 100%"
          }
        },
        "203075f75af1476a90c43d0d67dddd06": {
          "model_module": "@jupyter-widgets/controls",
          "model_name": "FloatProgressModel",
          "model_module_version": "1.5.0",
          "state": {
            "_dom_classes": [],
            "_model_module": "@jupyter-widgets/controls",
            "_model_module_version": "1.5.0",
            "_model_name": "FloatProgressModel",
            "_view_count": null,
            "_view_module": "@jupyter-widgets/controls",
            "_view_module_version": "1.5.0",
            "_view_name": "ProgressView",
            "bar_style": "success",
            "description": "",
            "description_tooltip": null,
            "layout": "IPY_MODEL_06f73c70f597429aa543d6642398847b",
            "max": 349,
            "min": 0,
            "orientation": "horizontal",
            "style": "IPY_MODEL_10df5ac6828d44e69f45e7cda15010ae",
            "value": 349
          }
        },
        "b016fee01ce947fe905b5cb99bc63741": {
          "model_module": "@jupyter-widgets/controls",
          "model_name": "HTMLModel",
          "model_module_version": "1.5.0",
          "state": {
            "_dom_classes": [],
            "_model_module": "@jupyter-widgets/controls",
            "_model_module_version": "1.5.0",
            "_model_name": "HTMLModel",
            "_view_count": null,
            "_view_module": "@jupyter-widgets/controls",
            "_view_module_version": "1.5.0",
            "_view_name": "HTMLView",
            "description": "",
            "description_tooltip": null,
            "layout": "IPY_MODEL_e1ee8a427f984fb6b37e6359b4bfcab6",
            "placeholder": "​",
            "style": "IPY_MODEL_ed853a1cccb14689ae71f87b4460f693",
            "value": " 349/349 [00:00&lt;00:00, 11.3kB/s]"
          }
        },
        "22243f79dd334e4888741615cfdfc6ee": {
          "model_module": "@jupyter-widgets/base",
          "model_name": "LayoutModel",
          "model_module_version": "1.2.0",
          "state": {
            "_model_module": "@jupyter-widgets/base",
            "_model_module_version": "1.2.0",
            "_model_name": "LayoutModel",
            "_view_count": null,
            "_view_module": "@jupyter-widgets/base",
            "_view_module_version": "1.2.0",
            "_view_name": "LayoutView",
            "align_content": null,
            "align_items": null,
            "align_self": null,
            "border": null,
            "bottom": null,
            "display": null,
            "flex": null,
            "flex_flow": null,
            "grid_area": null,
            "grid_auto_columns": null,
            "grid_auto_flow": null,
            "grid_auto_rows": null,
            "grid_column": null,
            "grid_gap": null,
            "grid_row": null,
            "grid_template_areas": null,
            "grid_template_columns": null,
            "grid_template_rows": null,
            "height": null,
            "justify_content": null,
            "justify_items": null,
            "left": null,
            "margin": null,
            "max_height": null,
            "max_width": null,
            "min_height": null,
            "min_width": null,
            "object_fit": null,
            "object_position": null,
            "order": null,
            "overflow": null,
            "overflow_x": null,
            "overflow_y": null,
            "padding": null,
            "right": null,
            "top": null,
            "visibility": null,
            "width": null
          }
        },
        "e96e4d5f6f0f4a23a99eec4aa67602b0": {
          "model_module": "@jupyter-widgets/base",
          "model_name": "LayoutModel",
          "model_module_version": "1.2.0",
          "state": {
            "_model_module": "@jupyter-widgets/base",
            "_model_module_version": "1.2.0",
            "_model_name": "LayoutModel",
            "_view_count": null,
            "_view_module": "@jupyter-widgets/base",
            "_view_module_version": "1.2.0",
            "_view_name": "LayoutView",
            "align_content": null,
            "align_items": null,
            "align_self": null,
            "border": null,
            "bottom": null,
            "display": null,
            "flex": null,
            "flex_flow": null,
            "grid_area": null,
            "grid_auto_columns": null,
            "grid_auto_flow": null,
            "grid_auto_rows": null,
            "grid_column": null,
            "grid_gap": null,
            "grid_row": null,
            "grid_template_areas": null,
            "grid_template_columns": null,
            "grid_template_rows": null,
            "height": null,
            "justify_content": null,
            "justify_items": null,
            "left": null,
            "margin": null,
            "max_height": null,
            "max_width": null,
            "min_height": null,
            "min_width": null,
            "object_fit": null,
            "object_position": null,
            "order": null,
            "overflow": null,
            "overflow_x": null,
            "overflow_y": null,
            "padding": null,
            "right": null,
            "top": null,
            "visibility": null,
            "width": null
          }
        },
        "2067712bedac4f76bfd825379c4dcee8": {
          "model_module": "@jupyter-widgets/controls",
          "model_name": "DescriptionStyleModel",
          "model_module_version": "1.5.0",
          "state": {
            "_model_module": "@jupyter-widgets/controls",
            "_model_module_version": "1.5.0",
            "_model_name": "DescriptionStyleModel",
            "_view_count": null,
            "_view_module": "@jupyter-widgets/base",
            "_view_module_version": "1.2.0",
            "_view_name": "StyleView",
            "description_width": ""
          }
        },
        "06f73c70f597429aa543d6642398847b": {
          "model_module": "@jupyter-widgets/base",
          "model_name": "LayoutModel",
          "model_module_version": "1.2.0",
          "state": {
            "_model_module": "@jupyter-widgets/base",
            "_model_module_version": "1.2.0",
            "_model_name": "LayoutModel",
            "_view_count": null,
            "_view_module": "@jupyter-widgets/base",
            "_view_module_version": "1.2.0",
            "_view_name": "LayoutView",
            "align_content": null,
            "align_items": null,
            "align_self": null,
            "border": null,
            "bottom": null,
            "display": null,
            "flex": null,
            "flex_flow": null,
            "grid_area": null,
            "grid_auto_columns": null,
            "grid_auto_flow": null,
            "grid_auto_rows": null,
            "grid_column": null,
            "grid_gap": null,
            "grid_row": null,
            "grid_template_areas": null,
            "grid_template_columns": null,
            "grid_template_rows": null,
            "height": null,
            "justify_content": null,
            "justify_items": null,
            "left": null,
            "margin": null,
            "max_height": null,
            "max_width": null,
            "min_height": null,
            "min_width": null,
            "object_fit": null,
            "object_position": null,
            "order": null,
            "overflow": null,
            "overflow_x": null,
            "overflow_y": null,
            "padding": null,
            "right": null,
            "top": null,
            "visibility": null,
            "width": null
          }
        },
        "10df5ac6828d44e69f45e7cda15010ae": {
          "model_module": "@jupyter-widgets/controls",
          "model_name": "ProgressStyleModel",
          "model_module_version": "1.5.0",
          "state": {
            "_model_module": "@jupyter-widgets/controls",
            "_model_module_version": "1.5.0",
            "_model_name": "ProgressStyleModel",
            "_view_count": null,
            "_view_module": "@jupyter-widgets/base",
            "_view_module_version": "1.2.0",
            "_view_name": "StyleView",
            "bar_color": null,
            "description_width": ""
          }
        },
        "e1ee8a427f984fb6b37e6359b4bfcab6": {
          "model_module": "@jupyter-widgets/base",
          "model_name": "LayoutModel",
          "model_module_version": "1.2.0",
          "state": {
            "_model_module": "@jupyter-widgets/base",
            "_model_module_version": "1.2.0",
            "_model_name": "LayoutModel",
            "_view_count": null,
            "_view_module": "@jupyter-widgets/base",
            "_view_module_version": "1.2.0",
            "_view_name": "LayoutView",
            "align_content": null,
            "align_items": null,
            "align_self": null,
            "border": null,
            "bottom": null,
            "display": null,
            "flex": null,
            "flex_flow": null,
            "grid_area": null,
            "grid_auto_columns": null,
            "grid_auto_flow": null,
            "grid_auto_rows": null,
            "grid_column": null,
            "grid_gap": null,
            "grid_row": null,
            "grid_template_areas": null,
            "grid_template_columns": null,
            "grid_template_rows": null,
            "height": null,
            "justify_content": null,
            "justify_items": null,
            "left": null,
            "margin": null,
            "max_height": null,
            "max_width": null,
            "min_height": null,
            "min_width": null,
            "object_fit": null,
            "object_position": null,
            "order": null,
            "overflow": null,
            "overflow_x": null,
            "overflow_y": null,
            "padding": null,
            "right": null,
            "top": null,
            "visibility": null,
            "width": null
          }
        },
        "ed853a1cccb14689ae71f87b4460f693": {
          "model_module": "@jupyter-widgets/controls",
          "model_name": "DescriptionStyleModel",
          "model_module_version": "1.5.0",
          "state": {
            "_model_module": "@jupyter-widgets/controls",
            "_model_module_version": "1.5.0",
            "_model_name": "DescriptionStyleModel",
            "_view_count": null,
            "_view_module": "@jupyter-widgets/base",
            "_view_module_version": "1.2.0",
            "_view_name": "StyleView",
            "description_width": ""
          }
        },
        "7ae365ebdad442a5996a17b680a8e1e0": {
          "model_module": "@jupyter-widgets/controls",
          "model_name": "HBoxModel",
          "model_module_version": "1.5.0",
          "state": {
            "_dom_classes": [],
            "_model_module": "@jupyter-widgets/controls",
            "_model_module_version": "1.5.0",
            "_model_name": "HBoxModel",
            "_view_count": null,
            "_view_module": "@jupyter-widgets/controls",
            "_view_module_version": "1.5.0",
            "_view_name": "HBoxView",
            "box_style": "",
            "children": [
              "IPY_MODEL_e6626fa45b6846e2bfe4b0c07d0c0833",
              "IPY_MODEL_219c5c6c72ab4fca9311db1fd1fcb6fb",
              "IPY_MODEL_d8e73496465e4d3bb828db336ea8564b"
            ],
            "layout": "IPY_MODEL_8b7bd8e9f5c249c882a686f745e2337d"
          }
        },
        "e6626fa45b6846e2bfe4b0c07d0c0833": {
          "model_module": "@jupyter-widgets/controls",
          "model_name": "HTMLModel",
          "model_module_version": "1.5.0",
          "state": {
            "_dom_classes": [],
            "_model_module": "@jupyter-widgets/controls",
            "_model_module_version": "1.5.0",
            "_model_name": "HTMLModel",
            "_view_count": null,
            "_view_module": "@jupyter-widgets/controls",
            "_view_module_version": "1.5.0",
            "_view_name": "HTMLView",
            "description": "",
            "description_tooltip": null,
            "layout": "IPY_MODEL_0fd2d1d7ab2442d491610dbbf4e754e5",
            "placeholder": "​",
            "style": "IPY_MODEL_6166376a57f64862853a4fb97cbc1375",
            "value": "Batches: 100%"
          }
        },
        "219c5c6c72ab4fca9311db1fd1fcb6fb": {
          "model_module": "@jupyter-widgets/controls",
          "model_name": "FloatProgressModel",
          "model_module_version": "1.5.0",
          "state": {
            "_dom_classes": [],
            "_model_module": "@jupyter-widgets/controls",
            "_model_module_version": "1.5.0",
            "_model_name": "FloatProgressModel",
            "_view_count": null,
            "_view_module": "@jupyter-widgets/controls",
            "_view_module_version": "1.5.0",
            "_view_name": "ProgressView",
            "bar_style": "success",
            "description": "",
            "description_tooltip": null,
            "layout": "IPY_MODEL_67209f302a8541be9f9adcbbd64582f9",
            "max": 10,
            "min": 0,
            "orientation": "horizontal",
            "style": "IPY_MODEL_e2715c4433b34c66b2ac5aa8635ce9e2",
            "value": 10
          }
        },
        "d8e73496465e4d3bb828db336ea8564b": {
          "model_module": "@jupyter-widgets/controls",
          "model_name": "HTMLModel",
          "model_module_version": "1.5.0",
          "state": {
            "_dom_classes": [],
            "_model_module": "@jupyter-widgets/controls",
            "_model_module_version": "1.5.0",
            "_model_name": "HTMLModel",
            "_view_count": null,
            "_view_module": "@jupyter-widgets/controls",
            "_view_module_version": "1.5.0",
            "_view_name": "HTMLView",
            "description": "",
            "description_tooltip": null,
            "layout": "IPY_MODEL_15822e16eb714d85ae82e9feb839c701",
            "placeholder": "​",
            "style": "IPY_MODEL_a0f8fea78dd54fb1ab388c4bc64463be",
            "value": " 10/10 [00:10&lt;00:00,  1.04it/s]"
          }
        },
        "8b7bd8e9f5c249c882a686f745e2337d": {
          "model_module": "@jupyter-widgets/base",
          "model_name": "LayoutModel",
          "model_module_version": "1.2.0",
          "state": {
            "_model_module": "@jupyter-widgets/base",
            "_model_module_version": "1.2.0",
            "_model_name": "LayoutModel",
            "_view_count": null,
            "_view_module": "@jupyter-widgets/base",
            "_view_module_version": "1.2.0",
            "_view_name": "LayoutView",
            "align_content": null,
            "align_items": null,
            "align_self": null,
            "border": null,
            "bottom": null,
            "display": null,
            "flex": null,
            "flex_flow": null,
            "grid_area": null,
            "grid_auto_columns": null,
            "grid_auto_flow": null,
            "grid_auto_rows": null,
            "grid_column": null,
            "grid_gap": null,
            "grid_row": null,
            "grid_template_areas": null,
            "grid_template_columns": null,
            "grid_template_rows": null,
            "height": null,
            "justify_content": null,
            "justify_items": null,
            "left": null,
            "margin": null,
            "max_height": null,
            "max_width": null,
            "min_height": null,
            "min_width": null,
            "object_fit": null,
            "object_position": null,
            "order": null,
            "overflow": null,
            "overflow_x": null,
            "overflow_y": null,
            "padding": null,
            "right": null,
            "top": null,
            "visibility": null,
            "width": null
          }
        },
        "0fd2d1d7ab2442d491610dbbf4e754e5": {
          "model_module": "@jupyter-widgets/base",
          "model_name": "LayoutModel",
          "model_module_version": "1.2.0",
          "state": {
            "_model_module": "@jupyter-widgets/base",
            "_model_module_version": "1.2.0",
            "_model_name": "LayoutModel",
            "_view_count": null,
            "_view_module": "@jupyter-widgets/base",
            "_view_module_version": "1.2.0",
            "_view_name": "LayoutView",
            "align_content": null,
            "align_items": null,
            "align_self": null,
            "border": null,
            "bottom": null,
            "display": null,
            "flex": null,
            "flex_flow": null,
            "grid_area": null,
            "grid_auto_columns": null,
            "grid_auto_flow": null,
            "grid_auto_rows": null,
            "grid_column": null,
            "grid_gap": null,
            "grid_row": null,
            "grid_template_areas": null,
            "grid_template_columns": null,
            "grid_template_rows": null,
            "height": null,
            "justify_content": null,
            "justify_items": null,
            "left": null,
            "margin": null,
            "max_height": null,
            "max_width": null,
            "min_height": null,
            "min_width": null,
            "object_fit": null,
            "object_position": null,
            "order": null,
            "overflow": null,
            "overflow_x": null,
            "overflow_y": null,
            "padding": null,
            "right": null,
            "top": null,
            "visibility": null,
            "width": null
          }
        },
        "6166376a57f64862853a4fb97cbc1375": {
          "model_module": "@jupyter-widgets/controls",
          "model_name": "DescriptionStyleModel",
          "model_module_version": "1.5.0",
          "state": {
            "_model_module": "@jupyter-widgets/controls",
            "_model_module_version": "1.5.0",
            "_model_name": "DescriptionStyleModel",
            "_view_count": null,
            "_view_module": "@jupyter-widgets/base",
            "_view_module_version": "1.2.0",
            "_view_name": "StyleView",
            "description_width": ""
          }
        },
        "67209f302a8541be9f9adcbbd64582f9": {
          "model_module": "@jupyter-widgets/base",
          "model_name": "LayoutModel",
          "model_module_version": "1.2.0",
          "state": {
            "_model_module": "@jupyter-widgets/base",
            "_model_module_version": "1.2.0",
            "_model_name": "LayoutModel",
            "_view_count": null,
            "_view_module": "@jupyter-widgets/base",
            "_view_module_version": "1.2.0",
            "_view_name": "LayoutView",
            "align_content": null,
            "align_items": null,
            "align_self": null,
            "border": null,
            "bottom": null,
            "display": null,
            "flex": null,
            "flex_flow": null,
            "grid_area": null,
            "grid_auto_columns": null,
            "grid_auto_flow": null,
            "grid_auto_rows": null,
            "grid_column": null,
            "grid_gap": null,
            "grid_row": null,
            "grid_template_areas": null,
            "grid_template_columns": null,
            "grid_template_rows": null,
            "height": null,
            "justify_content": null,
            "justify_items": null,
            "left": null,
            "margin": null,
            "max_height": null,
            "max_width": null,
            "min_height": null,
            "min_width": null,
            "object_fit": null,
            "object_position": null,
            "order": null,
            "overflow": null,
            "overflow_x": null,
            "overflow_y": null,
            "padding": null,
            "right": null,
            "top": null,
            "visibility": null,
            "width": null
          }
        },
        "e2715c4433b34c66b2ac5aa8635ce9e2": {
          "model_module": "@jupyter-widgets/controls",
          "model_name": "ProgressStyleModel",
          "model_module_version": "1.5.0",
          "state": {
            "_model_module": "@jupyter-widgets/controls",
            "_model_module_version": "1.5.0",
            "_model_name": "ProgressStyleModel",
            "_view_count": null,
            "_view_module": "@jupyter-widgets/base",
            "_view_module_version": "1.2.0",
            "_view_name": "StyleView",
            "bar_color": null,
            "description_width": ""
          }
        },
        "15822e16eb714d85ae82e9feb839c701": {
          "model_module": "@jupyter-widgets/base",
          "model_name": "LayoutModel",
          "model_module_version": "1.2.0",
          "state": {
            "_model_module": "@jupyter-widgets/base",
            "_model_module_version": "1.2.0",
            "_model_name": "LayoutModel",
            "_view_count": null,
            "_view_module": "@jupyter-widgets/base",
            "_view_module_version": "1.2.0",
            "_view_name": "LayoutView",
            "align_content": null,
            "align_items": null,
            "align_self": null,
            "border": null,
            "bottom": null,
            "display": null,
            "flex": null,
            "flex_flow": null,
            "grid_area": null,
            "grid_auto_columns": null,
            "grid_auto_flow": null,
            "grid_auto_rows": null,
            "grid_column": null,
            "grid_gap": null,
            "grid_row": null,
            "grid_template_areas": null,
            "grid_template_columns": null,
            "grid_template_rows": null,
            "height": null,
            "justify_content": null,
            "justify_items": null,
            "left": null,
            "margin": null,
            "max_height": null,
            "max_width": null,
            "min_height": null,
            "min_width": null,
            "object_fit": null,
            "object_position": null,
            "order": null,
            "overflow": null,
            "overflow_x": null,
            "overflow_y": null,
            "padding": null,
            "right": null,
            "top": null,
            "visibility": null,
            "width": null
          }
        },
        "a0f8fea78dd54fb1ab388c4bc64463be": {
          "model_module": "@jupyter-widgets/controls",
          "model_name": "DescriptionStyleModel",
          "model_module_version": "1.5.0",
          "state": {
            "_model_module": "@jupyter-widgets/controls",
            "_model_module_version": "1.5.0",
            "_model_name": "DescriptionStyleModel",
            "_view_count": null,
            "_view_module": "@jupyter-widgets/base",
            "_view_module_version": "1.2.0",
            "_view_name": "StyleView",
            "description_width": ""
          }
        },
        "ec9afe617ee74258a6050a99dfe7faf7": {
          "model_module": "@jupyter-widgets/controls",
          "model_name": "HBoxModel",
          "model_module_version": "1.5.0",
          "state": {
            "_dom_classes": [],
            "_model_module": "@jupyter-widgets/controls",
            "_model_module_version": "1.5.0",
            "_model_name": "HBoxModel",
            "_view_count": null,
            "_view_module": "@jupyter-widgets/controls",
            "_view_module_version": "1.5.0",
            "_view_name": "HBoxView",
            "box_style": "",
            "children": [
              "IPY_MODEL_cae7202621454939b8bc06a836744dd1",
              "IPY_MODEL_6c357522a27c43fe91f6988de2e2d605",
              "IPY_MODEL_3d3c365feab440a88464b98cc8ff3e4d"
            ],
            "layout": "IPY_MODEL_f0da251bc27e486d985d7560555615eb"
          }
        },
        "cae7202621454939b8bc06a836744dd1": {
          "model_module": "@jupyter-widgets/controls",
          "model_name": "HTMLModel",
          "model_module_version": "1.5.0",
          "state": {
            "_dom_classes": [],
            "_model_module": "@jupyter-widgets/controls",
            "_model_module_version": "1.5.0",
            "_model_name": "HTMLModel",
            "_view_count": null,
            "_view_module": "@jupyter-widgets/controls",
            "_view_module_version": "1.5.0",
            "_view_name": "HTMLView",
            "description": "",
            "description_tooltip": null,
            "layout": "IPY_MODEL_175388e0408448e3928f857e506e5e9c",
            "placeholder": "​",
            "style": "IPY_MODEL_9bfb3685e9da4f0a92504b4a6f4e9bcb",
            "value": "Downloading (…)lve/main/config.json: 100%"
          }
        },
        "6c357522a27c43fe91f6988de2e2d605": {
          "model_module": "@jupyter-widgets/controls",
          "model_name": "FloatProgressModel",
          "model_module_version": "1.5.0",
          "state": {
            "_dom_classes": [],
            "_model_module": "@jupyter-widgets/controls",
            "_model_module_version": "1.5.0",
            "_model_name": "FloatProgressModel",
            "_view_count": null,
            "_view_module": "@jupyter-widgets/controls",
            "_view_module_version": "1.5.0",
            "_view_name": "ProgressView",
            "bar_style": "success",
            "description": "",
            "description_tooltip": null,
            "layout": "IPY_MODEL_06f71a1c98fa43588f46c1a634ff784f",
            "max": 571,
            "min": 0,
            "orientation": "horizontal",
            "style": "IPY_MODEL_d9d46801de0c4780bec94595f4fca51f",
            "value": 571
          }
        },
        "3d3c365feab440a88464b98cc8ff3e4d": {
          "model_module": "@jupyter-widgets/controls",
          "model_name": "HTMLModel",
          "model_module_version": "1.5.0",
          "state": {
            "_dom_classes": [],
            "_model_module": "@jupyter-widgets/controls",
            "_model_module_version": "1.5.0",
            "_model_name": "HTMLModel",
            "_view_count": null,
            "_view_module": "@jupyter-widgets/controls",
            "_view_module_version": "1.5.0",
            "_view_name": "HTMLView",
            "description": "",
            "description_tooltip": null,
            "layout": "IPY_MODEL_3b0bbd0b611340fc8e4b6b1c980c933e",
            "placeholder": "​",
            "style": "IPY_MODEL_1e02518214664376bb41d2a904c19ad2",
            "value": " 571/571 [00:00&lt;00:00, 12.5kB/s]"
          }
        },
        "f0da251bc27e486d985d7560555615eb": {
          "model_module": "@jupyter-widgets/base",
          "model_name": "LayoutModel",
          "model_module_version": "1.2.0",
          "state": {
            "_model_module": "@jupyter-widgets/base",
            "_model_module_version": "1.2.0",
            "_model_name": "LayoutModel",
            "_view_count": null,
            "_view_module": "@jupyter-widgets/base",
            "_view_module_version": "1.2.0",
            "_view_name": "LayoutView",
            "align_content": null,
            "align_items": null,
            "align_self": null,
            "border": null,
            "bottom": null,
            "display": null,
            "flex": null,
            "flex_flow": null,
            "grid_area": null,
            "grid_auto_columns": null,
            "grid_auto_flow": null,
            "grid_auto_rows": null,
            "grid_column": null,
            "grid_gap": null,
            "grid_row": null,
            "grid_template_areas": null,
            "grid_template_columns": null,
            "grid_template_rows": null,
            "height": null,
            "justify_content": null,
            "justify_items": null,
            "left": null,
            "margin": null,
            "max_height": null,
            "max_width": null,
            "min_height": null,
            "min_width": null,
            "object_fit": null,
            "object_position": null,
            "order": null,
            "overflow": null,
            "overflow_x": null,
            "overflow_y": null,
            "padding": null,
            "right": null,
            "top": null,
            "visibility": null,
            "width": null
          }
        },
        "175388e0408448e3928f857e506e5e9c": {
          "model_module": "@jupyter-widgets/base",
          "model_name": "LayoutModel",
          "model_module_version": "1.2.0",
          "state": {
            "_model_module": "@jupyter-widgets/base",
            "_model_module_version": "1.2.0",
            "_model_name": "LayoutModel",
            "_view_count": null,
            "_view_module": "@jupyter-widgets/base",
            "_view_module_version": "1.2.0",
            "_view_name": "LayoutView",
            "align_content": null,
            "align_items": null,
            "align_self": null,
            "border": null,
            "bottom": null,
            "display": null,
            "flex": null,
            "flex_flow": null,
            "grid_area": null,
            "grid_auto_columns": null,
            "grid_auto_flow": null,
            "grid_auto_rows": null,
            "grid_column": null,
            "grid_gap": null,
            "grid_row": null,
            "grid_template_areas": null,
            "grid_template_columns": null,
            "grid_template_rows": null,
            "height": null,
            "justify_content": null,
            "justify_items": null,
            "left": null,
            "margin": null,
            "max_height": null,
            "max_width": null,
            "min_height": null,
            "min_width": null,
            "object_fit": null,
            "object_position": null,
            "order": null,
            "overflow": null,
            "overflow_x": null,
            "overflow_y": null,
            "padding": null,
            "right": null,
            "top": null,
            "visibility": null,
            "width": null
          }
        },
        "9bfb3685e9da4f0a92504b4a6f4e9bcb": {
          "model_module": "@jupyter-widgets/controls",
          "model_name": "DescriptionStyleModel",
          "model_module_version": "1.5.0",
          "state": {
            "_model_module": "@jupyter-widgets/controls",
            "_model_module_version": "1.5.0",
            "_model_name": "DescriptionStyleModel",
            "_view_count": null,
            "_view_module": "@jupyter-widgets/base",
            "_view_module_version": "1.2.0",
            "_view_name": "StyleView",
            "description_width": ""
          }
        },
        "06f71a1c98fa43588f46c1a634ff784f": {
          "model_module": "@jupyter-widgets/base",
          "model_name": "LayoutModel",
          "model_module_version": "1.2.0",
          "state": {
            "_model_module": "@jupyter-widgets/base",
            "_model_module_version": "1.2.0",
            "_model_name": "LayoutModel",
            "_view_count": null,
            "_view_module": "@jupyter-widgets/base",
            "_view_module_version": "1.2.0",
            "_view_name": "LayoutView",
            "align_content": null,
            "align_items": null,
            "align_self": null,
            "border": null,
            "bottom": null,
            "display": null,
            "flex": null,
            "flex_flow": null,
            "grid_area": null,
            "grid_auto_columns": null,
            "grid_auto_flow": null,
            "grid_auto_rows": null,
            "grid_column": null,
            "grid_gap": null,
            "grid_row": null,
            "grid_template_areas": null,
            "grid_template_columns": null,
            "grid_template_rows": null,
            "height": null,
            "justify_content": null,
            "justify_items": null,
            "left": null,
            "margin": null,
            "max_height": null,
            "max_width": null,
            "min_height": null,
            "min_width": null,
            "object_fit": null,
            "object_position": null,
            "order": null,
            "overflow": null,
            "overflow_x": null,
            "overflow_y": null,
            "padding": null,
            "right": null,
            "top": null,
            "visibility": null,
            "width": null
          }
        },
        "d9d46801de0c4780bec94595f4fca51f": {
          "model_module": "@jupyter-widgets/controls",
          "model_name": "ProgressStyleModel",
          "model_module_version": "1.5.0",
          "state": {
            "_model_module": "@jupyter-widgets/controls",
            "_model_module_version": "1.5.0",
            "_model_name": "ProgressStyleModel",
            "_view_count": null,
            "_view_module": "@jupyter-widgets/base",
            "_view_module_version": "1.2.0",
            "_view_name": "StyleView",
            "bar_color": null,
            "description_width": ""
          }
        },
        "3b0bbd0b611340fc8e4b6b1c980c933e": {
          "model_module": "@jupyter-widgets/base",
          "model_name": "LayoutModel",
          "model_module_version": "1.2.0",
          "state": {
            "_model_module": "@jupyter-widgets/base",
            "_model_module_version": "1.2.0",
            "_model_name": "LayoutModel",
            "_view_count": null,
            "_view_module": "@jupyter-widgets/base",
            "_view_module_version": "1.2.0",
            "_view_name": "LayoutView",
            "align_content": null,
            "align_items": null,
            "align_self": null,
            "border": null,
            "bottom": null,
            "display": null,
            "flex": null,
            "flex_flow": null,
            "grid_area": null,
            "grid_auto_columns": null,
            "grid_auto_flow": null,
            "grid_auto_rows": null,
            "grid_column": null,
            "grid_gap": null,
            "grid_row": null,
            "grid_template_areas": null,
            "grid_template_columns": null,
            "grid_template_rows": null,
            "height": null,
            "justify_content": null,
            "justify_items": null,
            "left": null,
            "margin": null,
            "max_height": null,
            "max_width": null,
            "min_height": null,
            "min_width": null,
            "object_fit": null,
            "object_position": null,
            "order": null,
            "overflow": null,
            "overflow_x": null,
            "overflow_y": null,
            "padding": null,
            "right": null,
            "top": null,
            "visibility": null,
            "width": null
          }
        },
        "1e02518214664376bb41d2a904c19ad2": {
          "model_module": "@jupyter-widgets/controls",
          "model_name": "DescriptionStyleModel",
          "model_module_version": "1.5.0",
          "state": {
            "_model_module": "@jupyter-widgets/controls",
            "_model_module_version": "1.5.0",
            "_model_name": "DescriptionStyleModel",
            "_view_count": null,
            "_view_module": "@jupyter-widgets/base",
            "_view_module_version": "1.2.0",
            "_view_name": "StyleView",
            "description_width": ""
          }
        },
        "3a932e204893414b9a536b6eed27d03a": {
          "model_module": "@jupyter-widgets/controls",
          "model_name": "HBoxModel",
          "model_module_version": "1.5.0",
          "state": {
            "_dom_classes": [],
            "_model_module": "@jupyter-widgets/controls",
            "_model_module_version": "1.5.0",
            "_model_name": "HBoxModel",
            "_view_count": null,
            "_view_module": "@jupyter-widgets/controls",
            "_view_module_version": "1.5.0",
            "_view_name": "HBoxView",
            "box_style": "",
            "children": [
              "IPY_MODEL_d0f9988ae17e4fe481e199c58813b35e",
              "IPY_MODEL_fcb51f43402647ac9a22139b8b9598e7",
              "IPY_MODEL_e6814aec8c1b49fbafd059e577efbbc5"
            ],
            "layout": "IPY_MODEL_17c27571ba7949429142ae593eba80db"
          }
        },
        "d0f9988ae17e4fe481e199c58813b35e": {
          "model_module": "@jupyter-widgets/controls",
          "model_name": "HTMLModel",
          "model_module_version": "1.5.0",
          "state": {
            "_dom_classes": [],
            "_model_module": "@jupyter-widgets/controls",
            "_model_module_version": "1.5.0",
            "_model_name": "HTMLModel",
            "_view_count": null,
            "_view_module": "@jupyter-widgets/controls",
            "_view_module_version": "1.5.0",
            "_view_name": "HTMLView",
            "description": "",
            "description_tooltip": null,
            "layout": "IPY_MODEL_e9dc9159415a4e3caf9e032cd71c25b7",
            "placeholder": "​",
            "style": "IPY_MODEL_009c208716d34666b1f0f8f19a8291d3",
            "value": "Downloading pytorch_model.bin: 100%"
          }
        },
        "fcb51f43402647ac9a22139b8b9598e7": {
          "model_module": "@jupyter-widgets/controls",
          "model_name": "FloatProgressModel",
          "model_module_version": "1.5.0",
          "state": {
            "_dom_classes": [],
            "_model_module": "@jupyter-widgets/controls",
            "_model_module_version": "1.5.0",
            "_model_name": "FloatProgressModel",
            "_view_count": null,
            "_view_module": "@jupyter-widgets/controls",
            "_view_module_version": "1.5.0",
            "_view_name": "ProgressView",
            "bar_style": "success",
            "description": "",
            "description_tooltip": null,
            "layout": "IPY_MODEL_d15126fdba4d4bada401d299f05d5b3d",
            "max": 1344997306,
            "min": 0,
            "orientation": "horizontal",
            "style": "IPY_MODEL_9b8d169217104b07ae57ddd93d6d5929",
            "value": 1344997306
          }
        },
        "e6814aec8c1b49fbafd059e577efbbc5": {
          "model_module": "@jupyter-widgets/controls",
          "model_name": "HTMLModel",
          "model_module_version": "1.5.0",
          "state": {
            "_dom_classes": [],
            "_model_module": "@jupyter-widgets/controls",
            "_model_module_version": "1.5.0",
            "_model_name": "HTMLModel",
            "_view_count": null,
            "_view_module": "@jupyter-widgets/controls",
            "_view_module_version": "1.5.0",
            "_view_name": "HTMLView",
            "description": "",
            "description_tooltip": null,
            "layout": "IPY_MODEL_e8325e60b5914a779ef789aa190932d8",
            "placeholder": "​",
            "style": "IPY_MODEL_27176bfcd5e0411780c52af3c956711c",
            "value": " 1.34G/1.34G [00:10&lt;00:00, 252MB/s]"
          }
        },
        "17c27571ba7949429142ae593eba80db": {
          "model_module": "@jupyter-widgets/base",
          "model_name": "LayoutModel",
          "model_module_version": "1.2.0",
          "state": {
            "_model_module": "@jupyter-widgets/base",
            "_model_module_version": "1.2.0",
            "_model_name": "LayoutModel",
            "_view_count": null,
            "_view_module": "@jupyter-widgets/base",
            "_view_module_version": "1.2.0",
            "_view_name": "LayoutView",
            "align_content": null,
            "align_items": null,
            "align_self": null,
            "border": null,
            "bottom": null,
            "display": null,
            "flex": null,
            "flex_flow": null,
            "grid_area": null,
            "grid_auto_columns": null,
            "grid_auto_flow": null,
            "grid_auto_rows": null,
            "grid_column": null,
            "grid_gap": null,
            "grid_row": null,
            "grid_template_areas": null,
            "grid_template_columns": null,
            "grid_template_rows": null,
            "height": null,
            "justify_content": null,
            "justify_items": null,
            "left": null,
            "margin": null,
            "max_height": null,
            "max_width": null,
            "min_height": null,
            "min_width": null,
            "object_fit": null,
            "object_position": null,
            "order": null,
            "overflow": null,
            "overflow_x": null,
            "overflow_y": null,
            "padding": null,
            "right": null,
            "top": null,
            "visibility": null,
            "width": null
          }
        },
        "e9dc9159415a4e3caf9e032cd71c25b7": {
          "model_module": "@jupyter-widgets/base",
          "model_name": "LayoutModel",
          "model_module_version": "1.2.0",
          "state": {
            "_model_module": "@jupyter-widgets/base",
            "_model_module_version": "1.2.0",
            "_model_name": "LayoutModel",
            "_view_count": null,
            "_view_module": "@jupyter-widgets/base",
            "_view_module_version": "1.2.0",
            "_view_name": "LayoutView",
            "align_content": null,
            "align_items": null,
            "align_self": null,
            "border": null,
            "bottom": null,
            "display": null,
            "flex": null,
            "flex_flow": null,
            "grid_area": null,
            "grid_auto_columns": null,
            "grid_auto_flow": null,
            "grid_auto_rows": null,
            "grid_column": null,
            "grid_gap": null,
            "grid_row": null,
            "grid_template_areas": null,
            "grid_template_columns": null,
            "grid_template_rows": null,
            "height": null,
            "justify_content": null,
            "justify_items": null,
            "left": null,
            "margin": null,
            "max_height": null,
            "max_width": null,
            "min_height": null,
            "min_width": null,
            "object_fit": null,
            "object_position": null,
            "order": null,
            "overflow": null,
            "overflow_x": null,
            "overflow_y": null,
            "padding": null,
            "right": null,
            "top": null,
            "visibility": null,
            "width": null
          }
        },
        "009c208716d34666b1f0f8f19a8291d3": {
          "model_module": "@jupyter-widgets/controls",
          "model_name": "DescriptionStyleModel",
          "model_module_version": "1.5.0",
          "state": {
            "_model_module": "@jupyter-widgets/controls",
            "_model_module_version": "1.5.0",
            "_model_name": "DescriptionStyleModel",
            "_view_count": null,
            "_view_module": "@jupyter-widgets/base",
            "_view_module_version": "1.2.0",
            "_view_name": "StyleView",
            "description_width": ""
          }
        },
        "d15126fdba4d4bada401d299f05d5b3d": {
          "model_module": "@jupyter-widgets/base",
          "model_name": "LayoutModel",
          "model_module_version": "1.2.0",
          "state": {
            "_model_module": "@jupyter-widgets/base",
            "_model_module_version": "1.2.0",
            "_model_name": "LayoutModel",
            "_view_count": null,
            "_view_module": "@jupyter-widgets/base",
            "_view_module_version": "1.2.0",
            "_view_name": "LayoutView",
            "align_content": null,
            "align_items": null,
            "align_self": null,
            "border": null,
            "bottom": null,
            "display": null,
            "flex": null,
            "flex_flow": null,
            "grid_area": null,
            "grid_auto_columns": null,
            "grid_auto_flow": null,
            "grid_auto_rows": null,
            "grid_column": null,
            "grid_gap": null,
            "grid_row": null,
            "grid_template_areas": null,
            "grid_template_columns": null,
            "grid_template_rows": null,
            "height": null,
            "justify_content": null,
            "justify_items": null,
            "left": null,
            "margin": null,
            "max_height": null,
            "max_width": null,
            "min_height": null,
            "min_width": null,
            "object_fit": null,
            "object_position": null,
            "order": null,
            "overflow": null,
            "overflow_x": null,
            "overflow_y": null,
            "padding": null,
            "right": null,
            "top": null,
            "visibility": null,
            "width": null
          }
        },
        "9b8d169217104b07ae57ddd93d6d5929": {
          "model_module": "@jupyter-widgets/controls",
          "model_name": "ProgressStyleModel",
          "model_module_version": "1.5.0",
          "state": {
            "_model_module": "@jupyter-widgets/controls",
            "_model_module_version": "1.5.0",
            "_model_name": "ProgressStyleModel",
            "_view_count": null,
            "_view_module": "@jupyter-widgets/base",
            "_view_module_version": "1.2.0",
            "_view_name": "StyleView",
            "bar_color": null,
            "description_width": ""
          }
        },
        "e8325e60b5914a779ef789aa190932d8": {
          "model_module": "@jupyter-widgets/base",
          "model_name": "LayoutModel",
          "model_module_version": "1.2.0",
          "state": {
            "_model_module": "@jupyter-widgets/base",
            "_model_module_version": "1.2.0",
            "_model_name": "LayoutModel",
            "_view_count": null,
            "_view_module": "@jupyter-widgets/base",
            "_view_module_version": "1.2.0",
            "_view_name": "LayoutView",
            "align_content": null,
            "align_items": null,
            "align_self": null,
            "border": null,
            "bottom": null,
            "display": null,
            "flex": null,
            "flex_flow": null,
            "grid_area": null,
            "grid_auto_columns": null,
            "grid_auto_flow": null,
            "grid_auto_rows": null,
            "grid_column": null,
            "grid_gap": null,
            "grid_row": null,
            "grid_template_areas": null,
            "grid_template_columns": null,
            "grid_template_rows": null,
            "height": null,
            "justify_content": null,
            "justify_items": null,
            "left": null,
            "margin": null,
            "max_height": null,
            "max_width": null,
            "min_height": null,
            "min_width": null,
            "object_fit": null,
            "object_position": null,
            "order": null,
            "overflow": null,
            "overflow_x": null,
            "overflow_y": null,
            "padding": null,
            "right": null,
            "top": null,
            "visibility": null,
            "width": null
          }
        },
        "27176bfcd5e0411780c52af3c956711c": {
          "model_module": "@jupyter-widgets/controls",
          "model_name": "DescriptionStyleModel",
          "model_module_version": "1.5.0",
          "state": {
            "_model_module": "@jupyter-widgets/controls",
            "_model_module_version": "1.5.0",
            "_model_name": "DescriptionStyleModel",
            "_view_count": null,
            "_view_module": "@jupyter-widgets/base",
            "_view_module_version": "1.2.0",
            "_view_name": "StyleView",
            "description_width": ""
          }
        },
        "487d3679f6a941138c31cc77c14aa2c3": {
          "model_module": "@jupyter-widgets/controls",
          "model_name": "HBoxModel",
          "model_module_version": "1.5.0",
          "state": {
            "_dom_classes": [],
            "_model_module": "@jupyter-widgets/controls",
            "_model_module_version": "1.5.0",
            "_model_name": "HBoxModel",
            "_view_count": null,
            "_view_module": "@jupyter-widgets/controls",
            "_view_module_version": "1.5.0",
            "_view_name": "HBoxView",
            "box_style": "",
            "children": [
              "IPY_MODEL_1b5cc7631fdc48108f48713fec08327c",
              "IPY_MODEL_1644d406e23f40c19a45245995d1580a",
              "IPY_MODEL_a2f9fa1ff16d4fc6aaf8b8718b8df8a9"
            ],
            "layout": "IPY_MODEL_915ad69e730749a5a85dd449e4ea2e6d"
          }
        },
        "1b5cc7631fdc48108f48713fec08327c": {
          "model_module": "@jupyter-widgets/controls",
          "model_name": "HTMLModel",
          "model_module_version": "1.5.0",
          "state": {
            "_dom_classes": [],
            "_model_module": "@jupyter-widgets/controls",
            "_model_module_version": "1.5.0",
            "_model_name": "HTMLModel",
            "_view_count": null,
            "_view_module": "@jupyter-widgets/controls",
            "_view_module_version": "1.5.0",
            "_view_name": "HTMLView",
            "description": "",
            "description_tooltip": null,
            "layout": "IPY_MODEL_95e4a7d7de9148ca8a141fc094483de8",
            "placeholder": "​",
            "style": "IPY_MODEL_5ecd6e90ef02490ab13768657a05fc0b",
            "value": "Downloading (…)solve/main/vocab.txt: 100%"
          }
        },
        "1644d406e23f40c19a45245995d1580a": {
          "model_module": "@jupyter-widgets/controls",
          "model_name": "FloatProgressModel",
          "model_module_version": "1.5.0",
          "state": {
            "_dom_classes": [],
            "_model_module": "@jupyter-widgets/controls",
            "_model_module_version": "1.5.0",
            "_model_name": "FloatProgressModel",
            "_view_count": null,
            "_view_module": "@jupyter-widgets/controls",
            "_view_module_version": "1.5.0",
            "_view_name": "ProgressView",
            "bar_style": "success",
            "description": "",
            "description_tooltip": null,
            "layout": "IPY_MODEL_764b045ce8c44cb48185bd07e74116c6",
            "max": 231508,
            "min": 0,
            "orientation": "horizontal",
            "style": "IPY_MODEL_af7397b4bdfe4dc4849ef5ef585c33c7",
            "value": 231508
          }
        },
        "a2f9fa1ff16d4fc6aaf8b8718b8df8a9": {
          "model_module": "@jupyter-widgets/controls",
          "model_name": "HTMLModel",
          "model_module_version": "1.5.0",
          "state": {
            "_dom_classes": [],
            "_model_module": "@jupyter-widgets/controls",
            "_model_module_version": "1.5.0",
            "_model_name": "HTMLModel",
            "_view_count": null,
            "_view_module": "@jupyter-widgets/controls",
            "_view_module_version": "1.5.0",
            "_view_name": "HTMLView",
            "description": "",
            "description_tooltip": null,
            "layout": "IPY_MODEL_5421de4e7fa645dabf51565b2f9a0b4f",
            "placeholder": "​",
            "style": "IPY_MODEL_57a633adb055435ab99201ec1748898a",
            "value": " 232k/232k [00:00&lt;00:00, 508kB/s]"
          }
        },
        "915ad69e730749a5a85dd449e4ea2e6d": {
          "model_module": "@jupyter-widgets/base",
          "model_name": "LayoutModel",
          "model_module_version": "1.2.0",
          "state": {
            "_model_module": "@jupyter-widgets/base",
            "_model_module_version": "1.2.0",
            "_model_name": "LayoutModel",
            "_view_count": null,
            "_view_module": "@jupyter-widgets/base",
            "_view_module_version": "1.2.0",
            "_view_name": "LayoutView",
            "align_content": null,
            "align_items": null,
            "align_self": null,
            "border": null,
            "bottom": null,
            "display": null,
            "flex": null,
            "flex_flow": null,
            "grid_area": null,
            "grid_auto_columns": null,
            "grid_auto_flow": null,
            "grid_auto_rows": null,
            "grid_column": null,
            "grid_gap": null,
            "grid_row": null,
            "grid_template_areas": null,
            "grid_template_columns": null,
            "grid_template_rows": null,
            "height": null,
            "justify_content": null,
            "justify_items": null,
            "left": null,
            "margin": null,
            "max_height": null,
            "max_width": null,
            "min_height": null,
            "min_width": null,
            "object_fit": null,
            "object_position": null,
            "order": null,
            "overflow": null,
            "overflow_x": null,
            "overflow_y": null,
            "padding": null,
            "right": null,
            "top": null,
            "visibility": null,
            "width": null
          }
        },
        "95e4a7d7de9148ca8a141fc094483de8": {
          "model_module": "@jupyter-widgets/base",
          "model_name": "LayoutModel",
          "model_module_version": "1.2.0",
          "state": {
            "_model_module": "@jupyter-widgets/base",
            "_model_module_version": "1.2.0",
            "_model_name": "LayoutModel",
            "_view_count": null,
            "_view_module": "@jupyter-widgets/base",
            "_view_module_version": "1.2.0",
            "_view_name": "LayoutView",
            "align_content": null,
            "align_items": null,
            "align_self": null,
            "border": null,
            "bottom": null,
            "display": null,
            "flex": null,
            "flex_flow": null,
            "grid_area": null,
            "grid_auto_columns": null,
            "grid_auto_flow": null,
            "grid_auto_rows": null,
            "grid_column": null,
            "grid_gap": null,
            "grid_row": null,
            "grid_template_areas": null,
            "grid_template_columns": null,
            "grid_template_rows": null,
            "height": null,
            "justify_content": null,
            "justify_items": null,
            "left": null,
            "margin": null,
            "max_height": null,
            "max_width": null,
            "min_height": null,
            "min_width": null,
            "object_fit": null,
            "object_position": null,
            "order": null,
            "overflow": null,
            "overflow_x": null,
            "overflow_y": null,
            "padding": null,
            "right": null,
            "top": null,
            "visibility": null,
            "width": null
          }
        },
        "5ecd6e90ef02490ab13768657a05fc0b": {
          "model_module": "@jupyter-widgets/controls",
          "model_name": "DescriptionStyleModel",
          "model_module_version": "1.5.0",
          "state": {
            "_model_module": "@jupyter-widgets/controls",
            "_model_module_version": "1.5.0",
            "_model_name": "DescriptionStyleModel",
            "_view_count": null,
            "_view_module": "@jupyter-widgets/base",
            "_view_module_version": "1.2.0",
            "_view_name": "StyleView",
            "description_width": ""
          }
        },
        "764b045ce8c44cb48185bd07e74116c6": {
          "model_module": "@jupyter-widgets/base",
          "model_name": "LayoutModel",
          "model_module_version": "1.2.0",
          "state": {
            "_model_module": "@jupyter-widgets/base",
            "_model_module_version": "1.2.0",
            "_model_name": "LayoutModel",
            "_view_count": null,
            "_view_module": "@jupyter-widgets/base",
            "_view_module_version": "1.2.0",
            "_view_name": "LayoutView",
            "align_content": null,
            "align_items": null,
            "align_self": null,
            "border": null,
            "bottom": null,
            "display": null,
            "flex": null,
            "flex_flow": null,
            "grid_area": null,
            "grid_auto_columns": null,
            "grid_auto_flow": null,
            "grid_auto_rows": null,
            "grid_column": null,
            "grid_gap": null,
            "grid_row": null,
            "grid_template_areas": null,
            "grid_template_columns": null,
            "grid_template_rows": null,
            "height": null,
            "justify_content": null,
            "justify_items": null,
            "left": null,
            "margin": null,
            "max_height": null,
            "max_width": null,
            "min_height": null,
            "min_width": null,
            "object_fit": null,
            "object_position": null,
            "order": null,
            "overflow": null,
            "overflow_x": null,
            "overflow_y": null,
            "padding": null,
            "right": null,
            "top": null,
            "visibility": null,
            "width": null
          }
        },
        "af7397b4bdfe4dc4849ef5ef585c33c7": {
          "model_module": "@jupyter-widgets/controls",
          "model_name": "ProgressStyleModel",
          "model_module_version": "1.5.0",
          "state": {
            "_model_module": "@jupyter-widgets/controls",
            "_model_module_version": "1.5.0",
            "_model_name": "ProgressStyleModel",
            "_view_count": null,
            "_view_module": "@jupyter-widgets/base",
            "_view_module_version": "1.2.0",
            "_view_name": "StyleView",
            "bar_color": null,
            "description_width": ""
          }
        },
        "5421de4e7fa645dabf51565b2f9a0b4f": {
          "model_module": "@jupyter-widgets/base",
          "model_name": "LayoutModel",
          "model_module_version": "1.2.0",
          "state": {
            "_model_module": "@jupyter-widgets/base",
            "_model_module_version": "1.2.0",
            "_model_name": "LayoutModel",
            "_view_count": null,
            "_view_module": "@jupyter-widgets/base",
            "_view_module_version": "1.2.0",
            "_view_name": "LayoutView",
            "align_content": null,
            "align_items": null,
            "align_self": null,
            "border": null,
            "bottom": null,
            "display": null,
            "flex": null,
            "flex_flow": null,
            "grid_area": null,
            "grid_auto_columns": null,
            "grid_auto_flow": null,
            "grid_auto_rows": null,
            "grid_column": null,
            "grid_gap": null,
            "grid_row": null,
            "grid_template_areas": null,
            "grid_template_columns": null,
            "grid_template_rows": null,
            "height": null,
            "justify_content": null,
            "justify_items": null,
            "left": null,
            "margin": null,
            "max_height": null,
            "max_width": null,
            "min_height": null,
            "min_width": null,
            "object_fit": null,
            "object_position": null,
            "order": null,
            "overflow": null,
            "overflow_x": null,
            "overflow_y": null,
            "padding": null,
            "right": null,
            "top": null,
            "visibility": null,
            "width": null
          }
        },
        "57a633adb055435ab99201ec1748898a": {
          "model_module": "@jupyter-widgets/controls",
          "model_name": "DescriptionStyleModel",
          "model_module_version": "1.5.0",
          "state": {
            "_model_module": "@jupyter-widgets/controls",
            "_model_module_version": "1.5.0",
            "_model_name": "DescriptionStyleModel",
            "_view_count": null,
            "_view_module": "@jupyter-widgets/base",
            "_view_module_version": "1.2.0",
            "_view_name": "StyleView",
            "description_width": ""
          }
        },
        "fdef570f243541a39fb4c170e64be547": {
          "model_module": "@jupyter-widgets/controls",
          "model_name": "HBoxModel",
          "model_module_version": "1.5.0",
          "state": {
            "_dom_classes": [],
            "_model_module": "@jupyter-widgets/controls",
            "_model_module_version": "1.5.0",
            "_model_name": "HBoxModel",
            "_view_count": null,
            "_view_module": "@jupyter-widgets/controls",
            "_view_module_version": "1.5.0",
            "_view_name": "HBoxView",
            "box_style": "",
            "children": [
              "IPY_MODEL_b472a54e617e46a791e5f2d5da1e4a8d",
              "IPY_MODEL_0b137b5cdbe94c60b9952cc8a773f3d7",
              "IPY_MODEL_5f54b9110a2d466e90493a7fe1d2b84a"
            ],
            "layout": "IPY_MODEL_6ebd9dbe4b4645238ce92168d0fdf54b"
          }
        },
        "b472a54e617e46a791e5f2d5da1e4a8d": {
          "model_module": "@jupyter-widgets/controls",
          "model_name": "HTMLModel",
          "model_module_version": "1.5.0",
          "state": {
            "_dom_classes": [],
            "_model_module": "@jupyter-widgets/controls",
            "_model_module_version": "1.5.0",
            "_model_name": "HTMLModel",
            "_view_count": null,
            "_view_module": "@jupyter-widgets/controls",
            "_view_module_version": "1.5.0",
            "_view_name": "HTMLView",
            "description": "",
            "description_tooltip": null,
            "layout": "IPY_MODEL_3551a68d68584386a5f96200ca93fd78",
            "placeholder": "​",
            "style": "IPY_MODEL_f9124b46512c40d087e9977a904a6f02",
            "value": "Downloading (…)okenizer_config.json: 100%"
          }
        },
        "0b137b5cdbe94c60b9952cc8a773f3d7": {
          "model_module": "@jupyter-widgets/controls",
          "model_name": "FloatProgressModel",
          "model_module_version": "1.5.0",
          "state": {
            "_dom_classes": [],
            "_model_module": "@jupyter-widgets/controls",
            "_model_module_version": "1.5.0",
            "_model_name": "FloatProgressModel",
            "_view_count": null,
            "_view_module": "@jupyter-widgets/controls",
            "_view_module_version": "1.5.0",
            "_view_name": "ProgressView",
            "bar_style": "success",
            "description": "",
            "description_tooltip": null,
            "layout": "IPY_MODEL_c18456d5b8ed431f8c4293c86e697d1d",
            "max": 28,
            "min": 0,
            "orientation": "horizontal",
            "style": "IPY_MODEL_7c7d0873baa24ddea30cbf8fc9d0a27b",
            "value": 28
          }
        },
        "5f54b9110a2d466e90493a7fe1d2b84a": {
          "model_module": "@jupyter-widgets/controls",
          "model_name": "HTMLModel",
          "model_module_version": "1.5.0",
          "state": {
            "_dom_classes": [],
            "_model_module": "@jupyter-widgets/controls",
            "_model_module_version": "1.5.0",
            "_model_name": "HTMLModel",
            "_view_count": null,
            "_view_module": "@jupyter-widgets/controls",
            "_view_module_version": "1.5.0",
            "_view_name": "HTMLView",
            "description": "",
            "description_tooltip": null,
            "layout": "IPY_MODEL_a9183e62a2404dba931b8b5c1a4b4875",
            "placeholder": "​",
            "style": "IPY_MODEL_d32021e6f536454ca6681876c46052de",
            "value": " 28.0/28.0 [00:00&lt;00:00, 1.38kB/s]"
          }
        },
        "6ebd9dbe4b4645238ce92168d0fdf54b": {
          "model_module": "@jupyter-widgets/base",
          "model_name": "LayoutModel",
          "model_module_version": "1.2.0",
          "state": {
            "_model_module": "@jupyter-widgets/base",
            "_model_module_version": "1.2.0",
            "_model_name": "LayoutModel",
            "_view_count": null,
            "_view_module": "@jupyter-widgets/base",
            "_view_module_version": "1.2.0",
            "_view_name": "LayoutView",
            "align_content": null,
            "align_items": null,
            "align_self": null,
            "border": null,
            "bottom": null,
            "display": null,
            "flex": null,
            "flex_flow": null,
            "grid_area": null,
            "grid_auto_columns": null,
            "grid_auto_flow": null,
            "grid_auto_rows": null,
            "grid_column": null,
            "grid_gap": null,
            "grid_row": null,
            "grid_template_areas": null,
            "grid_template_columns": null,
            "grid_template_rows": null,
            "height": null,
            "justify_content": null,
            "justify_items": null,
            "left": null,
            "margin": null,
            "max_height": null,
            "max_width": null,
            "min_height": null,
            "min_width": null,
            "object_fit": null,
            "object_position": null,
            "order": null,
            "overflow": null,
            "overflow_x": null,
            "overflow_y": null,
            "padding": null,
            "right": null,
            "top": null,
            "visibility": null,
            "width": null
          }
        },
        "3551a68d68584386a5f96200ca93fd78": {
          "model_module": "@jupyter-widgets/base",
          "model_name": "LayoutModel",
          "model_module_version": "1.2.0",
          "state": {
            "_model_module": "@jupyter-widgets/base",
            "_model_module_version": "1.2.0",
            "_model_name": "LayoutModel",
            "_view_count": null,
            "_view_module": "@jupyter-widgets/base",
            "_view_module_version": "1.2.0",
            "_view_name": "LayoutView",
            "align_content": null,
            "align_items": null,
            "align_self": null,
            "border": null,
            "bottom": null,
            "display": null,
            "flex": null,
            "flex_flow": null,
            "grid_area": null,
            "grid_auto_columns": null,
            "grid_auto_flow": null,
            "grid_auto_rows": null,
            "grid_column": null,
            "grid_gap": null,
            "grid_row": null,
            "grid_template_areas": null,
            "grid_template_columns": null,
            "grid_template_rows": null,
            "height": null,
            "justify_content": null,
            "justify_items": null,
            "left": null,
            "margin": null,
            "max_height": null,
            "max_width": null,
            "min_height": null,
            "min_width": null,
            "object_fit": null,
            "object_position": null,
            "order": null,
            "overflow": null,
            "overflow_x": null,
            "overflow_y": null,
            "padding": null,
            "right": null,
            "top": null,
            "visibility": null,
            "width": null
          }
        },
        "f9124b46512c40d087e9977a904a6f02": {
          "model_module": "@jupyter-widgets/controls",
          "model_name": "DescriptionStyleModel",
          "model_module_version": "1.5.0",
          "state": {
            "_model_module": "@jupyter-widgets/controls",
            "_model_module_version": "1.5.0",
            "_model_name": "DescriptionStyleModel",
            "_view_count": null,
            "_view_module": "@jupyter-widgets/base",
            "_view_module_version": "1.2.0",
            "_view_name": "StyleView",
            "description_width": ""
          }
        },
        "c18456d5b8ed431f8c4293c86e697d1d": {
          "model_module": "@jupyter-widgets/base",
          "model_name": "LayoutModel",
          "model_module_version": "1.2.0",
          "state": {
            "_model_module": "@jupyter-widgets/base",
            "_model_module_version": "1.2.0",
            "_model_name": "LayoutModel",
            "_view_count": null,
            "_view_module": "@jupyter-widgets/base",
            "_view_module_version": "1.2.0",
            "_view_name": "LayoutView",
            "align_content": null,
            "align_items": null,
            "align_self": null,
            "border": null,
            "bottom": null,
            "display": null,
            "flex": null,
            "flex_flow": null,
            "grid_area": null,
            "grid_auto_columns": null,
            "grid_auto_flow": null,
            "grid_auto_rows": null,
            "grid_column": null,
            "grid_gap": null,
            "grid_row": null,
            "grid_template_areas": null,
            "grid_template_columns": null,
            "grid_template_rows": null,
            "height": null,
            "justify_content": null,
            "justify_items": null,
            "left": null,
            "margin": null,
            "max_height": null,
            "max_width": null,
            "min_height": null,
            "min_width": null,
            "object_fit": null,
            "object_position": null,
            "order": null,
            "overflow": null,
            "overflow_x": null,
            "overflow_y": null,
            "padding": null,
            "right": null,
            "top": null,
            "visibility": null,
            "width": null
          }
        },
        "7c7d0873baa24ddea30cbf8fc9d0a27b": {
          "model_module": "@jupyter-widgets/controls",
          "model_name": "ProgressStyleModel",
          "model_module_version": "1.5.0",
          "state": {
            "_model_module": "@jupyter-widgets/controls",
            "_model_module_version": "1.5.0",
            "_model_name": "ProgressStyleModel",
            "_view_count": null,
            "_view_module": "@jupyter-widgets/base",
            "_view_module_version": "1.2.0",
            "_view_name": "StyleView",
            "bar_color": null,
            "description_width": ""
          }
        },
        "a9183e62a2404dba931b8b5c1a4b4875": {
          "model_module": "@jupyter-widgets/base",
          "model_name": "LayoutModel",
          "model_module_version": "1.2.0",
          "state": {
            "_model_module": "@jupyter-widgets/base",
            "_model_module_version": "1.2.0",
            "_model_name": "LayoutModel",
            "_view_count": null,
            "_view_module": "@jupyter-widgets/base",
            "_view_module_version": "1.2.0",
            "_view_name": "LayoutView",
            "align_content": null,
            "align_items": null,
            "align_self": null,
            "border": null,
            "bottom": null,
            "display": null,
            "flex": null,
            "flex_flow": null,
            "grid_area": null,
            "grid_auto_columns": null,
            "grid_auto_flow": null,
            "grid_auto_rows": null,
            "grid_column": null,
            "grid_gap": null,
            "grid_row": null,
            "grid_template_areas": null,
            "grid_template_columns": null,
            "grid_template_rows": null,
            "height": null,
            "justify_content": null,
            "justify_items": null,
            "left": null,
            "margin": null,
            "max_height": null,
            "max_width": null,
            "min_height": null,
            "min_width": null,
            "object_fit": null,
            "object_position": null,
            "order": null,
            "overflow": null,
            "overflow_x": null,
            "overflow_y": null,
            "padding": null,
            "right": null,
            "top": null,
            "visibility": null,
            "width": null
          }
        },
        "d32021e6f536454ca6681876c46052de": {
          "model_module": "@jupyter-widgets/controls",
          "model_name": "DescriptionStyleModel",
          "model_module_version": "1.5.0",
          "state": {
            "_model_module": "@jupyter-widgets/controls",
            "_model_module_version": "1.5.0",
            "_model_name": "DescriptionStyleModel",
            "_view_count": null,
            "_view_module": "@jupyter-widgets/base",
            "_view_module_version": "1.2.0",
            "_view_name": "StyleView",
            "description_width": ""
          }
        },
        "a273109d85fa47d6b69892eeba4bd46f": {
          "model_module": "@jupyter-widgets/controls",
          "model_name": "HBoxModel",
          "model_module_version": "1.5.0",
          "state": {
            "_dom_classes": [],
            "_model_module": "@jupyter-widgets/controls",
            "_model_module_version": "1.5.0",
            "_model_name": "HBoxModel",
            "_view_count": null,
            "_view_module": "@jupyter-widgets/controls",
            "_view_module_version": "1.5.0",
            "_view_name": "HBoxView",
            "box_style": "",
            "children": [
              "IPY_MODEL_5cfdebb07f1245a099b7b2e747b1d740",
              "IPY_MODEL_a9f485e8f57e482abe94cbfbf4eaf417",
              "IPY_MODEL_93b246da8d5340aa8b3e44061dc47d0c"
            ],
            "layout": "IPY_MODEL_0930148cd5624875b4c3b199d9bcb904"
          }
        },
        "5cfdebb07f1245a099b7b2e747b1d740": {
          "model_module": "@jupyter-widgets/controls",
          "model_name": "HTMLModel",
          "model_module_version": "1.5.0",
          "state": {
            "_dom_classes": [],
            "_model_module": "@jupyter-widgets/controls",
            "_model_module_version": "1.5.0",
            "_model_name": "HTMLModel",
            "_view_count": null,
            "_view_module": "@jupyter-widgets/controls",
            "_view_module_version": "1.5.0",
            "_view_name": "HTMLView",
            "description": "",
            "description_tooltip": null,
            "layout": "IPY_MODEL_d7f18a0835f24ad9b231570368e34396",
            "placeholder": "​",
            "style": "IPY_MODEL_e9cad203056845379fec6b0d63f890fd",
            "value": "Batches: 100%"
          }
        },
        "a9f485e8f57e482abe94cbfbf4eaf417": {
          "model_module": "@jupyter-widgets/controls",
          "model_name": "FloatProgressModel",
          "model_module_version": "1.5.0",
          "state": {
            "_dom_classes": [],
            "_model_module": "@jupyter-widgets/controls",
            "_model_module_version": "1.5.0",
            "_model_name": "FloatProgressModel",
            "_view_count": null,
            "_view_module": "@jupyter-widgets/controls",
            "_view_module_version": "1.5.0",
            "_view_name": "ProgressView",
            "bar_style": "success",
            "description": "",
            "description_tooltip": null,
            "layout": "IPY_MODEL_bc404c998fde43c5becaa82a4f446fc1",
            "max": 1,
            "min": 0,
            "orientation": "horizontal",
            "style": "IPY_MODEL_f7cbba3126b14e1b847f440034f3e983",
            "value": 1
          }
        },
        "93b246da8d5340aa8b3e44061dc47d0c": {
          "model_module": "@jupyter-widgets/controls",
          "model_name": "HTMLModel",
          "model_module_version": "1.5.0",
          "state": {
            "_dom_classes": [],
            "_model_module": "@jupyter-widgets/controls",
            "_model_module_version": "1.5.0",
            "_model_name": "HTMLModel",
            "_view_count": null,
            "_view_module": "@jupyter-widgets/controls",
            "_view_module_version": "1.5.0",
            "_view_name": "HTMLView",
            "description": "",
            "description_tooltip": null,
            "layout": "IPY_MODEL_3150cf4835e94b61b7e1edcaf7db2e28",
            "placeholder": "​",
            "style": "IPY_MODEL_361a9a59f8954664a1bc6c1907cfca5c",
            "value": " 1/1 [00:00&lt;00:00, 22.21it/s]"
          }
        },
        "0930148cd5624875b4c3b199d9bcb904": {
          "model_module": "@jupyter-widgets/base",
          "model_name": "LayoutModel",
          "model_module_version": "1.2.0",
          "state": {
            "_model_module": "@jupyter-widgets/base",
            "_model_module_version": "1.2.0",
            "_model_name": "LayoutModel",
            "_view_count": null,
            "_view_module": "@jupyter-widgets/base",
            "_view_module_version": "1.2.0",
            "_view_name": "LayoutView",
            "align_content": null,
            "align_items": null,
            "align_self": null,
            "border": null,
            "bottom": null,
            "display": null,
            "flex": null,
            "flex_flow": null,
            "grid_area": null,
            "grid_auto_columns": null,
            "grid_auto_flow": null,
            "grid_auto_rows": null,
            "grid_column": null,
            "grid_gap": null,
            "grid_row": null,
            "grid_template_areas": null,
            "grid_template_columns": null,
            "grid_template_rows": null,
            "height": null,
            "justify_content": null,
            "justify_items": null,
            "left": null,
            "margin": null,
            "max_height": null,
            "max_width": null,
            "min_height": null,
            "min_width": null,
            "object_fit": null,
            "object_position": null,
            "order": null,
            "overflow": null,
            "overflow_x": null,
            "overflow_y": null,
            "padding": null,
            "right": null,
            "top": null,
            "visibility": null,
            "width": null
          }
        },
        "d7f18a0835f24ad9b231570368e34396": {
          "model_module": "@jupyter-widgets/base",
          "model_name": "LayoutModel",
          "model_module_version": "1.2.0",
          "state": {
            "_model_module": "@jupyter-widgets/base",
            "_model_module_version": "1.2.0",
            "_model_name": "LayoutModel",
            "_view_count": null,
            "_view_module": "@jupyter-widgets/base",
            "_view_module_version": "1.2.0",
            "_view_name": "LayoutView",
            "align_content": null,
            "align_items": null,
            "align_self": null,
            "border": null,
            "bottom": null,
            "display": null,
            "flex": null,
            "flex_flow": null,
            "grid_area": null,
            "grid_auto_columns": null,
            "grid_auto_flow": null,
            "grid_auto_rows": null,
            "grid_column": null,
            "grid_gap": null,
            "grid_row": null,
            "grid_template_areas": null,
            "grid_template_columns": null,
            "grid_template_rows": null,
            "height": null,
            "justify_content": null,
            "justify_items": null,
            "left": null,
            "margin": null,
            "max_height": null,
            "max_width": null,
            "min_height": null,
            "min_width": null,
            "object_fit": null,
            "object_position": null,
            "order": null,
            "overflow": null,
            "overflow_x": null,
            "overflow_y": null,
            "padding": null,
            "right": null,
            "top": null,
            "visibility": null,
            "width": null
          }
        },
        "e9cad203056845379fec6b0d63f890fd": {
          "model_module": "@jupyter-widgets/controls",
          "model_name": "DescriptionStyleModel",
          "model_module_version": "1.5.0",
          "state": {
            "_model_module": "@jupyter-widgets/controls",
            "_model_module_version": "1.5.0",
            "_model_name": "DescriptionStyleModel",
            "_view_count": null,
            "_view_module": "@jupyter-widgets/base",
            "_view_module_version": "1.2.0",
            "_view_name": "StyleView",
            "description_width": ""
          }
        },
        "bc404c998fde43c5becaa82a4f446fc1": {
          "model_module": "@jupyter-widgets/base",
          "model_name": "LayoutModel",
          "model_module_version": "1.2.0",
          "state": {
            "_model_module": "@jupyter-widgets/base",
            "_model_module_version": "1.2.0",
            "_model_name": "LayoutModel",
            "_view_count": null,
            "_view_module": "@jupyter-widgets/base",
            "_view_module_version": "1.2.0",
            "_view_name": "LayoutView",
            "align_content": null,
            "align_items": null,
            "align_self": null,
            "border": null,
            "bottom": null,
            "display": null,
            "flex": null,
            "flex_flow": null,
            "grid_area": null,
            "grid_auto_columns": null,
            "grid_auto_flow": null,
            "grid_auto_rows": null,
            "grid_column": null,
            "grid_gap": null,
            "grid_row": null,
            "grid_template_areas": null,
            "grid_template_columns": null,
            "grid_template_rows": null,
            "height": null,
            "justify_content": null,
            "justify_items": null,
            "left": null,
            "margin": null,
            "max_height": null,
            "max_width": null,
            "min_height": null,
            "min_width": null,
            "object_fit": null,
            "object_position": null,
            "order": null,
            "overflow": null,
            "overflow_x": null,
            "overflow_y": null,
            "padding": null,
            "right": null,
            "top": null,
            "visibility": null,
            "width": null
          }
        },
        "f7cbba3126b14e1b847f440034f3e983": {
          "model_module": "@jupyter-widgets/controls",
          "model_name": "ProgressStyleModel",
          "model_module_version": "1.5.0",
          "state": {
            "_model_module": "@jupyter-widgets/controls",
            "_model_module_version": "1.5.0",
            "_model_name": "ProgressStyleModel",
            "_view_count": null,
            "_view_module": "@jupyter-widgets/base",
            "_view_module_version": "1.2.0",
            "_view_name": "StyleView",
            "bar_color": null,
            "description_width": ""
          }
        },
        "3150cf4835e94b61b7e1edcaf7db2e28": {
          "model_module": "@jupyter-widgets/base",
          "model_name": "LayoutModel",
          "model_module_version": "1.2.0",
          "state": {
            "_model_module": "@jupyter-widgets/base",
            "_model_module_version": "1.2.0",
            "_model_name": "LayoutModel",
            "_view_count": null,
            "_view_module": "@jupyter-widgets/base",
            "_view_module_version": "1.2.0",
            "_view_name": "LayoutView",
            "align_content": null,
            "align_items": null,
            "align_self": null,
            "border": null,
            "bottom": null,
            "display": null,
            "flex": null,
            "flex_flow": null,
            "grid_area": null,
            "grid_auto_columns": null,
            "grid_auto_flow": null,
            "grid_auto_rows": null,
            "grid_column": null,
            "grid_gap": null,
            "grid_row": null,
            "grid_template_areas": null,
            "grid_template_columns": null,
            "grid_template_rows": null,
            "height": null,
            "justify_content": null,
            "justify_items": null,
            "left": null,
            "margin": null,
            "max_height": null,
            "max_width": null,
            "min_height": null,
            "min_width": null,
            "object_fit": null,
            "object_position": null,
            "order": null,
            "overflow": null,
            "overflow_x": null,
            "overflow_y": null,
            "padding": null,
            "right": null,
            "top": null,
            "visibility": null,
            "width": null
          }
        },
        "361a9a59f8954664a1bc6c1907cfca5c": {
          "model_module": "@jupyter-widgets/controls",
          "model_name": "DescriptionStyleModel",
          "model_module_version": "1.5.0",
          "state": {
            "_model_module": "@jupyter-widgets/controls",
            "_model_module_version": "1.5.0",
            "_model_name": "DescriptionStyleModel",
            "_view_count": null,
            "_view_module": "@jupyter-widgets/base",
            "_view_module_version": "1.2.0",
            "_view_name": "StyleView",
            "description_width": ""
          }
        }
      }
    }
  },
  "cells": [
    {
      "cell_type": "markdown",
      "metadata": {
        "id": "qmZ1uZecv7qW"
      },
      "source": [
        "# Tutorial: Combined Topic Modeling\n",
        "\n",
        "(last updated 10-07-2022)\n",
        "\n",
        "In this tutorial, we are going to use our **Combined Topic Model** to get the topics out of a collections of articles.\n",
        "\n",
        "## Topic Models \n",
        "\n",
        "Topic models allow you to discover latent topics in your documents in a completely unsupervised way. Just use your documents and get topics out.\n",
        "\n",
        "## Contextualized Topic Models\n",
        "\n",
        "![](https://raw.githubusercontent.com/MilaNLProc/contextualized-topic-models/master/img/logo.png)\n",
        "\n",
        "What are Contextualized Topic Models? **CTMs** are a family of topic models that combine the expressive power of BERT embeddings with the unsupervised capabilities of topic models to get topics out of documents. \n",
        "\n",
        "## Python Package\n",
        "\n",
        "You can find our package [here](https://github.com/MilaNLProc/contextualized-topic-models).\n",
        "\n",
        "![https://github.com/MilaNLProc/contextualized-topic-models/actions](https://github.com/MilaNLProc/contextualized-topic-models/workflows/Python%20package/badge.svg) ![https://pypi.python.org/pypi/contextualized_topic_models](https://img.shields.io/pypi/v/contextualized_topic_models.svg) ![https://pepy.tech/badge/contextualized-topic-models](https://pepy.tech/badge/contextualized-topic-models)\n",
        "\n",
        "# **Before you start...**\n",
        "\n",
        "If you have additional questions about these topics, follow the links:\n",
        "\n",
        "- you need to work with languages different than English: [click here!](https://contextualized-topic-models.readthedocs.io/en/latest/language.html#language-specific)\n",
        "- you can't get good results with topic models: [click here!](https://contextualized-topic-models.readthedocs.io/en/latest/faq.html#i-am-getting-very-poor-results-what-can-i-do)\n",
        "- you want to load your own embeddings: [click here!](https://contextualized-topic-models.readthedocs.io/en/latest/faq.html#can-i-load-my-own-embeddings)\n"
      ]
    },
    {
      "cell_type": "markdown",
      "metadata": {
        "id": "ln23-soXeQk3"
      },
      "source": [
        "# Enabling the GPU\n",
        "\n",
        "First, you'll need to enable GPUs for the notebook:\n",
        "\n",
        "- Navigate to Edit→Notebook Settings\n",
        "- select GPU from the Hardware Accelerator drop-down\n",
        "\n",
        "[Reference](https://colab.research.google.com/notebooks/gpu.ipynb)"
      ]
    },
    {
      "cell_type": "markdown",
      "metadata": {
        "id": "QsNRo8I8Yem2"
      },
      "source": [
        "# Installing Contextualized Topic Models\n",
        "\n",
        "First, we install the contextualized topic model library"
      ]
    },
    {
      "cell_type": "code",
      "metadata": {
        "id": "BUw5EQi8v9r1"
      },
      "source": [
        "%%capture\n",
        "!pip install contextualized-topic-models==2.3.0"
      ],
      "execution_count": 1,
      "outputs": []
    },
    {
      "cell_type": "code",
      "metadata": {
        "id": "Jv9EL0V5-Xnp"
      },
      "source": [
        "%%capture\n",
        "!pip install pyldavis"
      ],
      "execution_count": 2,
      "outputs": []
    },
    {
      "cell_type": "markdown",
      "metadata": {
        "id": "9AzfVSJfZE2f"
      },
      "source": [
        "## Restart the Notebook\n",
        "\n",
        "For the changes to take effect, we now need to restart the notebook.\n",
        "\n",
        "From the Menu:\n",
        "\n",
        "Runtime → Restart Runtime"
      ]
    },
    {
      "cell_type": "markdown",
      "metadata": {
        "id": "sgxRbgSZ9MsB"
      },
      "source": [
        "# Data\n",
        "\n",
        "We are going to need some data. You should upload a file with one document per line. We assume you haven't run any preprocessing script.\n",
        "\n",
        "However, if you want to first test the model without uploading your data, you can simply use the test file I'm putting here"
      ]
    },
    {
      "cell_type": "code",
      "metadata": {
        "id": "iZEPr_QFJdBz"
      },
      "source": [
        "%%capture\n",
        "!wget https://raw.githubusercontent.com/vinid/data/master/dbpedia_sample_abstract_20k_unprep.txt"
      ],
      "execution_count": null,
      "outputs": []
    },
    {
      "cell_type": "code",
      "metadata": {
        "id": "pKZ9Yk0qJvxd",
        "colab": {
          "base_uri": "https://localhost:8080/"
        },
        "outputId": "c4753039-cf14-4f82-ac0a-a544110f3923"
      },
      "source": [
        "!head -n 2 dbpedia_sample_abstract_20k_unprep.txt"
      ],
      "execution_count": null,
      "outputs": [
        {
          "output_type": "stream",
          "name": "stdout",
          "text": [
            "The Mid-Peninsula Highway is a proposed freeway across the Niagara Peninsula in the Canadian province of Ontario. Although plans for a highway connecting Hamilton to Fort Erie south of the Niagara Escarpment have surfaced for decades,it was not until The Niagara Frontier International Gateway Study was published by the Ministry\n",
            "Monte Zucker (died March 15, 2007) was an American photographer. He specialized in wedding photography, entering it as a profession in 1947. In the 1970s he operated a studio in Silver Spring, Maryland. Later he lived in Florida. He was Brides Magazine's Wedding Photographer of the Year for 1990 and\n"
          ]
        }
      ]
    },
    {
      "cell_type": "code",
      "metadata": {
        "id": "WXZ8fOdYwdWO"
      },
      "source": [
        "text_file = \"dbpedia_sample_abstract_20k_unprep.txt\" # EDIT THIS WITH THE FILE YOU UPLOAD"
      ],
      "execution_count": null,
      "outputs": []
    },
    {
      "cell_type": "markdown",
      "metadata": {
        "id": "M0c_ftxjxY_H"
      },
      "source": [
        "# Importing what we need"
      ]
    },
    {
      "cell_type": "code",
      "metadata": {
        "id": "SZmTpQUov8y8",
        "outputId": "5a4026d7-02de-4bac-a461-1608c7336a6d",
        "colab": {
          "base_uri": "https://localhost:8080/",
          "height": 651
        }
      },
      "source": [
        "from contextualized_topic_models.models.ctm import CombinedTM\n",
        "from contextualized_topic_models.utils.data_preparation import TopicModelDataPreparation\n",
        "from contextualized_topic_models.utils.preprocessing import WhiteSpacePreprocessingStopwords\n",
        "import nltk"
      ],
      "execution_count": 7,
      "outputs": [
        {
          "output_type": "error",
          "ename": "RuntimeError",
          "evalue": "ignored",
          "traceback": [
            "\u001b[0;31m---------------------------------------------------------------------------\u001b[0m",
            "\u001b[0;31mRuntimeError\u001b[0m                              Traceback (most recent call last)",
            "\u001b[0;31mRuntimeError\u001b[0m: module compiled against API version 0x10 but this version of numpy is 0xf . Check the section C-API incompatibility at the Troubleshooting ImportError section at https://numpy.org/devdocs/user/troubleshooting-importerror.html#c-api-incompatibility for indications on how to solve this problem ."
          ]
        },
        {
          "output_type": "error",
          "ename": "ImportError",
          "evalue": "ignored",
          "traceback": [
            "\u001b[0;31m---------------------------------------------------------------------------\u001b[0m",
            "\u001b[0;31mImportError\u001b[0m                               Traceback (most recent call last)",
            "\u001b[0;32m<ipython-input-7-cebcb0b97207>\u001b[0m in \u001b[0;36m<cell line: 2>\u001b[0;34m()\u001b[0m\n\u001b[1;32m      1\u001b[0m \u001b[0;32mfrom\u001b[0m \u001b[0mcontextualized_topic_models\u001b[0m\u001b[0;34m.\u001b[0m\u001b[0mmodels\u001b[0m\u001b[0;34m.\u001b[0m\u001b[0mctm\u001b[0m \u001b[0;32mimport\u001b[0m \u001b[0mCombinedTM\u001b[0m\u001b[0;34m\u001b[0m\u001b[0;34m\u001b[0m\u001b[0m\n\u001b[0;32m----> 2\u001b[0;31m \u001b[0;32mfrom\u001b[0m \u001b[0mcontextualized_topic_models\u001b[0m\u001b[0;34m.\u001b[0m\u001b[0mutils\u001b[0m\u001b[0;34m.\u001b[0m\u001b[0mdata_preparation\u001b[0m \u001b[0;32mimport\u001b[0m \u001b[0mTopicModelDataPreparation\u001b[0m\u001b[0;34m\u001b[0m\u001b[0;34m\u001b[0m\u001b[0m\n\u001b[0m\u001b[1;32m      3\u001b[0m \u001b[0;32mfrom\u001b[0m \u001b[0mcontextualized_topic_models\u001b[0m\u001b[0;34m.\u001b[0m\u001b[0mutils\u001b[0m\u001b[0;34m.\u001b[0m\u001b[0mpreprocessing\u001b[0m \u001b[0;32mimport\u001b[0m \u001b[0mWhiteSpacePreprocessingStopwords\u001b[0m\u001b[0;34m\u001b[0m\u001b[0;34m\u001b[0m\u001b[0m\n\u001b[1;32m      4\u001b[0m \u001b[0;32mimport\u001b[0m \u001b[0mnltk\u001b[0m\u001b[0;34m\u001b[0m\u001b[0;34m\u001b[0m\u001b[0m\n",
            "\u001b[0;32m/usr/local/lib/python3.10/dist-packages/contextualized_topic_models/utils/data_preparation.py\u001b[0m in \u001b[0;36m<module>\u001b[0;34m\u001b[0m\n\u001b[1;32m      1\u001b[0m \u001b[0;32mimport\u001b[0m \u001b[0mnumpy\u001b[0m \u001b[0;32mas\u001b[0m \u001b[0mnp\u001b[0m\u001b[0;34m\u001b[0m\u001b[0;34m\u001b[0m\u001b[0m\n\u001b[0;32m----> 2\u001b[0;31m \u001b[0;32mfrom\u001b[0m \u001b[0msentence_transformers\u001b[0m \u001b[0;32mimport\u001b[0m \u001b[0mSentenceTransformer\u001b[0m\u001b[0;34m\u001b[0m\u001b[0;34m\u001b[0m\u001b[0m\n\u001b[0m\u001b[1;32m      3\u001b[0m \u001b[0;32mimport\u001b[0m \u001b[0mscipy\u001b[0m\u001b[0;34m.\u001b[0m\u001b[0msparse\u001b[0m\u001b[0;34m\u001b[0m\u001b[0;34m\u001b[0m\u001b[0m\n\u001b[1;32m      4\u001b[0m \u001b[0;32mimport\u001b[0m \u001b[0mwarnings\u001b[0m\u001b[0;34m\u001b[0m\u001b[0;34m\u001b[0m\u001b[0m\n\u001b[1;32m      5\u001b[0m \u001b[0;32mfrom\u001b[0m \u001b[0mcontextualized_topic_models\u001b[0m\u001b[0;34m.\u001b[0m\u001b[0mdatasets\u001b[0m\u001b[0;34m.\u001b[0m\u001b[0mdataset\u001b[0m \u001b[0;32mimport\u001b[0m \u001b[0mCTMDataset\u001b[0m\u001b[0;34m\u001b[0m\u001b[0;34m\u001b[0m\u001b[0m\n",
            "\u001b[0;32m/usr/local/lib/python3.10/dist-packages/sentence_transformers/__init__.py\u001b[0m in \u001b[0;36m<module>\u001b[0;34m\u001b[0m\n\u001b[1;32m      1\u001b[0m \u001b[0m__version__\u001b[0m \u001b[0;34m=\u001b[0m \u001b[0;34m\"2.2.2\"\u001b[0m\u001b[0;34m\u001b[0m\u001b[0;34m\u001b[0m\u001b[0m\n\u001b[1;32m      2\u001b[0m \u001b[0m__MODEL_HUB_ORGANIZATION__\u001b[0m \u001b[0;34m=\u001b[0m \u001b[0;34m'sentence-transformers'\u001b[0m\u001b[0;34m\u001b[0m\u001b[0;34m\u001b[0m\u001b[0m\n\u001b[0;32m----> 3\u001b[0;31m \u001b[0;32mfrom\u001b[0m \u001b[0;34m.\u001b[0m\u001b[0mdatasets\u001b[0m \u001b[0;32mimport\u001b[0m \u001b[0mSentencesDataset\u001b[0m\u001b[0;34m,\u001b[0m \u001b[0mParallelSentencesDataset\u001b[0m\u001b[0;34m\u001b[0m\u001b[0;34m\u001b[0m\u001b[0m\n\u001b[0m\u001b[1;32m      4\u001b[0m \u001b[0;32mfrom\u001b[0m \u001b[0;34m.\u001b[0m\u001b[0mLoggingHandler\u001b[0m \u001b[0;32mimport\u001b[0m \u001b[0mLoggingHandler\u001b[0m\u001b[0;34m\u001b[0m\u001b[0;34m\u001b[0m\u001b[0m\n\u001b[1;32m      5\u001b[0m \u001b[0;32mfrom\u001b[0m \u001b[0;34m.\u001b[0m\u001b[0mSentenceTransformer\u001b[0m \u001b[0;32mimport\u001b[0m \u001b[0mSentenceTransformer\u001b[0m\u001b[0;34m\u001b[0m\u001b[0;34m\u001b[0m\u001b[0m\n",
            "\u001b[0;32m/usr/local/lib/python3.10/dist-packages/sentence_transformers/datasets/__init__.py\u001b[0m in \u001b[0;36m<module>\u001b[0;34m\u001b[0m\n\u001b[1;32m      1\u001b[0m \u001b[0;32mfrom\u001b[0m \u001b[0;34m.\u001b[0m\u001b[0mDenoisingAutoEncoderDataset\u001b[0m \u001b[0;32mimport\u001b[0m \u001b[0mDenoisingAutoEncoderDataset\u001b[0m\u001b[0;34m\u001b[0m\u001b[0;34m\u001b[0m\u001b[0m\n\u001b[1;32m      2\u001b[0m \u001b[0;32mfrom\u001b[0m \u001b[0;34m.\u001b[0m\u001b[0mNoDuplicatesDataLoader\u001b[0m \u001b[0;32mimport\u001b[0m \u001b[0mNoDuplicatesDataLoader\u001b[0m\u001b[0;34m\u001b[0m\u001b[0;34m\u001b[0m\u001b[0m\n\u001b[0;32m----> 3\u001b[0;31m \u001b[0;32mfrom\u001b[0m \u001b[0;34m.\u001b[0m\u001b[0mParallelSentencesDataset\u001b[0m \u001b[0;32mimport\u001b[0m \u001b[0mParallelSentencesDataset\u001b[0m\u001b[0;34m\u001b[0m\u001b[0;34m\u001b[0m\u001b[0m\n\u001b[0m\u001b[1;32m      4\u001b[0m \u001b[0;32mfrom\u001b[0m \u001b[0;34m.\u001b[0m\u001b[0mSentencesDataset\u001b[0m \u001b[0;32mimport\u001b[0m \u001b[0mSentencesDataset\u001b[0m\u001b[0;34m\u001b[0m\u001b[0;34m\u001b[0m\u001b[0m\n\u001b[1;32m      5\u001b[0m \u001b[0;32mfrom\u001b[0m \u001b[0;34m.\u001b[0m\u001b[0mSentenceLabelDataset\u001b[0m \u001b[0;32mimport\u001b[0m \u001b[0mSentenceLabelDataset\u001b[0m\u001b[0;34m\u001b[0m\u001b[0;34m\u001b[0m\u001b[0m\n",
            "\u001b[0;32m/usr/local/lib/python3.10/dist-packages/sentence_transformers/datasets/ParallelSentencesDataset.py\u001b[0m in \u001b[0;36m<module>\u001b[0;34m\u001b[0m\n\u001b[1;32m      2\u001b[0m \u001b[0;32mimport\u001b[0m \u001b[0mlogging\u001b[0m\u001b[0;34m\u001b[0m\u001b[0;34m\u001b[0m\u001b[0m\n\u001b[1;32m      3\u001b[0m \u001b[0;32mimport\u001b[0m \u001b[0mgzip\u001b[0m\u001b[0;34m\u001b[0m\u001b[0;34m\u001b[0m\u001b[0m\n\u001b[0;32m----> 4\u001b[0;31m \u001b[0;32mfrom\u001b[0m \u001b[0;34m.\u001b[0m\u001b[0;34m.\u001b[0m \u001b[0;32mimport\u001b[0m \u001b[0mSentenceTransformer\u001b[0m\u001b[0;34m\u001b[0m\u001b[0;34m\u001b[0m\u001b[0m\n\u001b[0m\u001b[1;32m      5\u001b[0m \u001b[0;32mfrom\u001b[0m \u001b[0;34m.\u001b[0m\u001b[0;34m.\u001b[0m\u001b[0mreaders\u001b[0m \u001b[0;32mimport\u001b[0m \u001b[0mInputExample\u001b[0m\u001b[0;34m\u001b[0m\u001b[0;34m\u001b[0m\u001b[0m\n\u001b[1;32m      6\u001b[0m \u001b[0;32mfrom\u001b[0m \u001b[0mtyping\u001b[0m \u001b[0;32mimport\u001b[0m \u001b[0mList\u001b[0m\u001b[0;34m\u001b[0m\u001b[0;34m\u001b[0m\u001b[0m\n",
            "\u001b[0;32m/usr/local/lib/python3.10/dist-packages/sentence_transformers/SentenceTransformer.py\u001b[0m in \u001b[0;36m<module>\u001b[0;34m\u001b[0m\n\u001b[1;32m     23\u001b[0m \u001b[0;34m\u001b[0m\u001b[0m\n\u001b[1;32m     24\u001b[0m \u001b[0;32mfrom\u001b[0m \u001b[0;34m.\u001b[0m \u001b[0;32mimport\u001b[0m \u001b[0m__MODEL_HUB_ORGANIZATION__\u001b[0m\u001b[0;34m\u001b[0m\u001b[0;34m\u001b[0m\u001b[0m\n\u001b[0;32m---> 25\u001b[0;31m \u001b[0;32mfrom\u001b[0m \u001b[0;34m.\u001b[0m\u001b[0mevaluation\u001b[0m \u001b[0;32mimport\u001b[0m \u001b[0mSentenceEvaluator\u001b[0m\u001b[0;34m\u001b[0m\u001b[0;34m\u001b[0m\u001b[0m\n\u001b[0m\u001b[1;32m     26\u001b[0m \u001b[0;32mfrom\u001b[0m \u001b[0;34m.\u001b[0m\u001b[0mutil\u001b[0m \u001b[0;32mimport\u001b[0m \u001b[0mimport_from_string\u001b[0m\u001b[0;34m,\u001b[0m \u001b[0mbatch_to_device\u001b[0m\u001b[0;34m,\u001b[0m \u001b[0mfullname\u001b[0m\u001b[0;34m,\u001b[0m \u001b[0msnapshot_download\u001b[0m\u001b[0;34m\u001b[0m\u001b[0;34m\u001b[0m\u001b[0m\n\u001b[1;32m     27\u001b[0m \u001b[0;32mfrom\u001b[0m \u001b[0;34m.\u001b[0m\u001b[0mmodels\u001b[0m \u001b[0;32mimport\u001b[0m \u001b[0mTransformer\u001b[0m\u001b[0;34m,\u001b[0m \u001b[0mPooling\u001b[0m\u001b[0;34m,\u001b[0m \u001b[0mDense\u001b[0m\u001b[0;34m\u001b[0m\u001b[0;34m\u001b[0m\u001b[0m\n",
            "\u001b[0;32m/usr/local/lib/python3.10/dist-packages/sentence_transformers/evaluation/__init__.py\u001b[0m in \u001b[0;36m<module>\u001b[0;34m\u001b[0m\n\u001b[1;32m      1\u001b[0m \u001b[0;32mfrom\u001b[0m \u001b[0;34m.\u001b[0m\u001b[0mSentenceEvaluator\u001b[0m \u001b[0;32mimport\u001b[0m \u001b[0mSentenceEvaluator\u001b[0m\u001b[0;34m\u001b[0m\u001b[0;34m\u001b[0m\u001b[0m\n\u001b[1;32m      2\u001b[0m \u001b[0;32mfrom\u001b[0m \u001b[0;34m.\u001b[0m\u001b[0mSimilarityFunction\u001b[0m \u001b[0;32mimport\u001b[0m \u001b[0mSimilarityFunction\u001b[0m\u001b[0;34m\u001b[0m\u001b[0;34m\u001b[0m\u001b[0m\n\u001b[0;32m----> 3\u001b[0;31m \u001b[0;32mfrom\u001b[0m \u001b[0;34m.\u001b[0m\u001b[0mBinaryClassificationEvaluator\u001b[0m \u001b[0;32mimport\u001b[0m \u001b[0mBinaryClassificationEvaluator\u001b[0m\u001b[0;34m\u001b[0m\u001b[0;34m\u001b[0m\u001b[0m\n\u001b[0m\u001b[1;32m      4\u001b[0m \u001b[0;32mfrom\u001b[0m \u001b[0;34m.\u001b[0m\u001b[0mEmbeddingSimilarityEvaluator\u001b[0m \u001b[0;32mimport\u001b[0m \u001b[0mEmbeddingSimilarityEvaluator\u001b[0m\u001b[0;34m\u001b[0m\u001b[0;34m\u001b[0m\u001b[0m\n\u001b[1;32m      5\u001b[0m \u001b[0;32mfrom\u001b[0m \u001b[0;34m.\u001b[0m\u001b[0mInformationRetrievalEvaluator\u001b[0m \u001b[0;32mimport\u001b[0m \u001b[0mInformationRetrievalEvaluator\u001b[0m\u001b[0;34m\u001b[0m\u001b[0;34m\u001b[0m\u001b[0m\n",
            "\u001b[0;32m/usr/local/lib/python3.10/dist-packages/sentence_transformers/evaluation/BinaryClassificationEvaluator.py\u001b[0m in \u001b[0;36m<module>\u001b[0;34m\u001b[0m\n\u001b[1;32m      3\u001b[0m \u001b[0;32mimport\u001b[0m \u001b[0mos\u001b[0m\u001b[0;34m\u001b[0m\u001b[0;34m\u001b[0m\u001b[0m\n\u001b[1;32m      4\u001b[0m \u001b[0;32mimport\u001b[0m \u001b[0mcsv\u001b[0m\u001b[0;34m\u001b[0m\u001b[0;34m\u001b[0m\u001b[0m\n\u001b[0;32m----> 5\u001b[0;31m \u001b[0;32mfrom\u001b[0m \u001b[0msklearn\u001b[0m\u001b[0;34m.\u001b[0m\u001b[0mmetrics\u001b[0m\u001b[0;34m.\u001b[0m\u001b[0mpairwise\u001b[0m \u001b[0;32mimport\u001b[0m \u001b[0mpaired_cosine_distances\u001b[0m\u001b[0;34m,\u001b[0m \u001b[0mpaired_euclidean_distances\u001b[0m\u001b[0;34m,\u001b[0m \u001b[0mpaired_manhattan_distances\u001b[0m\u001b[0;34m\u001b[0m\u001b[0;34m\u001b[0m\u001b[0m\n\u001b[0m\u001b[1;32m      6\u001b[0m \u001b[0;32mfrom\u001b[0m \u001b[0msklearn\u001b[0m\u001b[0;34m.\u001b[0m\u001b[0mmetrics\u001b[0m \u001b[0;32mimport\u001b[0m \u001b[0maverage_precision_score\u001b[0m\u001b[0;34m\u001b[0m\u001b[0;34m\u001b[0m\u001b[0m\n\u001b[1;32m      7\u001b[0m \u001b[0;32mimport\u001b[0m \u001b[0mnumpy\u001b[0m \u001b[0;32mas\u001b[0m \u001b[0mnp\u001b[0m\u001b[0;34m\u001b[0m\u001b[0;34m\u001b[0m\u001b[0m\n",
            "\u001b[0;32m/usr/local/lib/python3.10/dist-packages/sklearn/__init__.py\u001b[0m in \u001b[0;36m<module>\u001b[0;34m\u001b[0m\n\u001b[1;32m     80\u001b[0m     \u001b[0;32mfrom\u001b[0m \u001b[0;34m.\u001b[0m \u001b[0;32mimport\u001b[0m \u001b[0m_distributor_init\u001b[0m  \u001b[0;31m# noqa: F401\u001b[0m\u001b[0;34m\u001b[0m\u001b[0;34m\u001b[0m\u001b[0m\n\u001b[1;32m     81\u001b[0m     \u001b[0;32mfrom\u001b[0m \u001b[0;34m.\u001b[0m \u001b[0;32mimport\u001b[0m \u001b[0m__check_build\u001b[0m  \u001b[0;31m# noqa: F401\u001b[0m\u001b[0;34m\u001b[0m\u001b[0;34m\u001b[0m\u001b[0m\n\u001b[0;32m---> 82\u001b[0;31m     \u001b[0;32mfrom\u001b[0m \u001b[0;34m.\u001b[0m\u001b[0mbase\u001b[0m \u001b[0;32mimport\u001b[0m \u001b[0mclone\u001b[0m\u001b[0;34m\u001b[0m\u001b[0;34m\u001b[0m\u001b[0m\n\u001b[0m\u001b[1;32m     83\u001b[0m     \u001b[0;32mfrom\u001b[0m \u001b[0;34m.\u001b[0m\u001b[0mutils\u001b[0m\u001b[0;34m.\u001b[0m\u001b[0m_show_versions\u001b[0m \u001b[0;32mimport\u001b[0m \u001b[0mshow_versions\u001b[0m\u001b[0;34m\u001b[0m\u001b[0;34m\u001b[0m\u001b[0m\n\u001b[1;32m     84\u001b[0m \u001b[0;34m\u001b[0m\u001b[0m\n",
            "\u001b[0;32m/usr/local/lib/python3.10/dist-packages/sklearn/base.py\u001b[0m in \u001b[0;36m<module>\u001b[0;34m\u001b[0m\n\u001b[1;32m     15\u001b[0m \u001b[0;32mfrom\u001b[0m \u001b[0;34m.\u001b[0m \u001b[0;32mimport\u001b[0m \u001b[0m__version__\u001b[0m\u001b[0;34m\u001b[0m\u001b[0;34m\u001b[0m\u001b[0m\n\u001b[1;32m     16\u001b[0m \u001b[0;32mfrom\u001b[0m \u001b[0;34m.\u001b[0m\u001b[0m_config\u001b[0m \u001b[0;32mimport\u001b[0m \u001b[0mget_config\u001b[0m\u001b[0;34m\u001b[0m\u001b[0;34m\u001b[0m\u001b[0m\n\u001b[0;32m---> 17\u001b[0;31m \u001b[0;32mfrom\u001b[0m \u001b[0;34m.\u001b[0m\u001b[0mutils\u001b[0m \u001b[0;32mimport\u001b[0m \u001b[0m_IS_32BIT\u001b[0m\u001b[0;34m\u001b[0m\u001b[0;34m\u001b[0m\u001b[0m\n\u001b[0m\u001b[1;32m     18\u001b[0m \u001b[0;32mfrom\u001b[0m \u001b[0;34m.\u001b[0m\u001b[0mutils\u001b[0m\u001b[0;34m.\u001b[0m\u001b[0m_set_output\u001b[0m \u001b[0;32mimport\u001b[0m \u001b[0m_SetOutputMixin\u001b[0m\u001b[0;34m\u001b[0m\u001b[0;34m\u001b[0m\u001b[0m\n\u001b[1;32m     19\u001b[0m from .utils._tags import (\n",
            "\u001b[0;32m/usr/local/lib/python3.10/dist-packages/sklearn/utils/__init__.py\u001b[0m in \u001b[0;36m<module>\u001b[0;34m\u001b[0m\n\u001b[1;32m     23\u001b[0m \u001b[0;32mfrom\u001b[0m \u001b[0;34m.\u001b[0m\u001b[0mdeprecation\u001b[0m \u001b[0;32mimport\u001b[0m \u001b[0mdeprecated\u001b[0m\u001b[0;34m\u001b[0m\u001b[0;34m\u001b[0m\u001b[0m\n\u001b[1;32m     24\u001b[0m \u001b[0;32mfrom\u001b[0m \u001b[0;34m.\u001b[0m\u001b[0mdiscovery\u001b[0m \u001b[0;32mimport\u001b[0m \u001b[0mall_estimators\u001b[0m\u001b[0;34m\u001b[0m\u001b[0;34m\u001b[0m\u001b[0m\n\u001b[0;32m---> 25\u001b[0;31m \u001b[0;32mfrom\u001b[0m \u001b[0;34m.\u001b[0m\u001b[0mfixes\u001b[0m \u001b[0;32mimport\u001b[0m \u001b[0mparse_version\u001b[0m\u001b[0;34m,\u001b[0m \u001b[0mthreadpool_info\u001b[0m\u001b[0;34m\u001b[0m\u001b[0;34m\u001b[0m\u001b[0m\n\u001b[0m\u001b[1;32m     26\u001b[0m \u001b[0;32mfrom\u001b[0m \u001b[0;34m.\u001b[0m\u001b[0m_estimator_html_repr\u001b[0m \u001b[0;32mimport\u001b[0m \u001b[0mestimator_html_repr\u001b[0m\u001b[0;34m\u001b[0m\u001b[0;34m\u001b[0m\u001b[0m\n\u001b[1;32m     27\u001b[0m from .validation import (\n",
            "\u001b[0;32m/usr/local/lib/python3.10/dist-packages/sklearn/utils/fixes.py\u001b[0m in \u001b[0;36m<module>\u001b[0;34m\u001b[0m\n\u001b[1;32m     17\u001b[0m \u001b[0;32mimport\u001b[0m \u001b[0mnumpy\u001b[0m \u001b[0;32mas\u001b[0m \u001b[0mnp\u001b[0m\u001b[0;34m\u001b[0m\u001b[0;34m\u001b[0m\u001b[0m\n\u001b[1;32m     18\u001b[0m \u001b[0;32mimport\u001b[0m \u001b[0mscipy\u001b[0m\u001b[0;34m\u001b[0m\u001b[0;34m\u001b[0m\u001b[0m\n\u001b[0;32m---> 19\u001b[0;31m \u001b[0;32mimport\u001b[0m \u001b[0mscipy\u001b[0m\u001b[0;34m.\u001b[0m\u001b[0mstats\u001b[0m\u001b[0;34m\u001b[0m\u001b[0;34m\u001b[0m\u001b[0m\n\u001b[0m\u001b[1;32m     20\u001b[0m \u001b[0;32mimport\u001b[0m \u001b[0mthreadpoolctl\u001b[0m\u001b[0;34m\u001b[0m\u001b[0;34m\u001b[0m\u001b[0m\n\u001b[1;32m     21\u001b[0m \u001b[0;34m\u001b[0m\u001b[0m\n",
            "\u001b[0;32m/usr/local/lib/python3.10/dist-packages/scipy/stats/__init__.py\u001b[0m in \u001b[0;36m<module>\u001b[0;34m\u001b[0m\n\u001b[1;32m    483\u001b[0m from ._warnings_errors import (ConstantInputWarning, NearConstantInputWarning,\n\u001b[1;32m    484\u001b[0m                                DegenerateDataWarning, FitError)\n\u001b[0;32m--> 485\u001b[0;31m \u001b[0;32mfrom\u001b[0m \u001b[0;34m.\u001b[0m\u001b[0m_stats_py\u001b[0m \u001b[0;32mimport\u001b[0m \u001b[0;34m*\u001b[0m\u001b[0;34m\u001b[0m\u001b[0;34m\u001b[0m\u001b[0m\n\u001b[0m\u001b[1;32m    486\u001b[0m \u001b[0;32mfrom\u001b[0m \u001b[0;34m.\u001b[0m\u001b[0m_variation\u001b[0m \u001b[0;32mimport\u001b[0m \u001b[0mvariation\u001b[0m\u001b[0;34m\u001b[0m\u001b[0;34m\u001b[0m\u001b[0m\n\u001b[1;32m    487\u001b[0m \u001b[0;32mfrom\u001b[0m \u001b[0;34m.\u001b[0m\u001b[0mdistributions\u001b[0m \u001b[0;32mimport\u001b[0m \u001b[0;34m*\u001b[0m\u001b[0;34m\u001b[0m\u001b[0;34m\u001b[0m\u001b[0m\n",
            "\u001b[0;32m/usr/local/lib/python3.10/dist-packages/scipy/stats/_stats_py.py\u001b[0m in \u001b[0;36m<module>\u001b[0;34m\u001b[0m\n\u001b[1;32m     35\u001b[0m \u001b[0;32mfrom\u001b[0m \u001b[0mnumpy\u001b[0m \u001b[0;32mimport\u001b[0m \u001b[0marray\u001b[0m\u001b[0;34m,\u001b[0m \u001b[0masarray\u001b[0m\u001b[0;34m,\u001b[0m \u001b[0mma\u001b[0m\u001b[0;34m\u001b[0m\u001b[0;34m\u001b[0m\u001b[0m\n\u001b[1;32m     36\u001b[0m \u001b[0;32mfrom\u001b[0m \u001b[0mnumpy\u001b[0m\u001b[0;34m.\u001b[0m\u001b[0mlib\u001b[0m \u001b[0;32mimport\u001b[0m \u001b[0mNumpyVersion\u001b[0m\u001b[0;34m\u001b[0m\u001b[0;34m\u001b[0m\u001b[0m\n\u001b[0;32m---> 37\u001b[0;31m \u001b[0;32mfrom\u001b[0m \u001b[0mnumpy\u001b[0m\u001b[0;34m.\u001b[0m\u001b[0mtesting\u001b[0m \u001b[0;32mimport\u001b[0m \u001b[0msuppress_warnings\u001b[0m\u001b[0;34m\u001b[0m\u001b[0;34m\u001b[0m\u001b[0m\n\u001b[0m\u001b[1;32m     38\u001b[0m \u001b[0;34m\u001b[0m\u001b[0m\n\u001b[1;32m     39\u001b[0m \u001b[0;32mfrom\u001b[0m \u001b[0mscipy\u001b[0m\u001b[0;34m.\u001b[0m\u001b[0mspatial\u001b[0m\u001b[0;34m.\u001b[0m\u001b[0mdistance\u001b[0m \u001b[0;32mimport\u001b[0m \u001b[0mcdist\u001b[0m\u001b[0;34m\u001b[0m\u001b[0;34m\u001b[0m\u001b[0m\n",
            "\u001b[0;32m/usr/local/lib/python3.10/dist-packages/numpy/testing/__init__.py\u001b[0m in \u001b[0;36m<module>\u001b[0;34m\u001b[0m\n\u001b[1;32m      9\u001b[0m \u001b[0;34m\u001b[0m\u001b[0m\n\u001b[1;32m     10\u001b[0m \u001b[0;32mfrom\u001b[0m \u001b[0;34m.\u001b[0m \u001b[0;32mimport\u001b[0m \u001b[0m_private\u001b[0m\u001b[0;34m\u001b[0m\u001b[0;34m\u001b[0m\u001b[0m\n\u001b[0;32m---> 11\u001b[0;31m \u001b[0;32mfrom\u001b[0m \u001b[0;34m.\u001b[0m\u001b[0m_private\u001b[0m\u001b[0;34m.\u001b[0m\u001b[0mutils\u001b[0m \u001b[0;32mimport\u001b[0m \u001b[0;34m*\u001b[0m\u001b[0;34m\u001b[0m\u001b[0;34m\u001b[0m\u001b[0m\n\u001b[0m\u001b[1;32m     12\u001b[0m \u001b[0;32mfrom\u001b[0m \u001b[0;34m.\u001b[0m\u001b[0m_private\u001b[0m\u001b[0;34m.\u001b[0m\u001b[0mutils\u001b[0m \u001b[0;32mimport\u001b[0m \u001b[0;34m(\u001b[0m\u001b[0m_assert_valid_refcount\u001b[0m\u001b[0;34m,\u001b[0m \u001b[0m_gen_alignment_data\u001b[0m\u001b[0;34m)\u001b[0m\u001b[0;34m\u001b[0m\u001b[0;34m\u001b[0m\u001b[0m\n\u001b[1;32m     13\u001b[0m \u001b[0;32mfrom\u001b[0m \u001b[0;34m.\u001b[0m\u001b[0m_private\u001b[0m \u001b[0;32mimport\u001b[0m \u001b[0mextbuild\u001b[0m\u001b[0;34m,\u001b[0m \u001b[0mdecorators\u001b[0m \u001b[0;32mas\u001b[0m \u001b[0mdec\u001b[0m\u001b[0;34m\u001b[0m\u001b[0;34m\u001b[0m\u001b[0m\n",
            "\u001b[0;32m/usr/local/lib/python3.10/dist-packages/numpy/testing/_private/utils.py\u001b[0m in \u001b[0;36m<module>\u001b[0;34m\u001b[0m\n\u001b[1;32m     21\u001b[0m from numpy.core import(\n\u001b[1;32m     22\u001b[0m      intp, float32, empty, arange, array_repr, ndarray, isnat, array)\n\u001b[0;32m---> 23\u001b[0;31m \u001b[0;32mimport\u001b[0m \u001b[0mnumpy\u001b[0m\u001b[0;34m.\u001b[0m\u001b[0mlinalg\u001b[0m\u001b[0;34m.\u001b[0m\u001b[0mlapack_lite\u001b[0m\u001b[0;34m\u001b[0m\u001b[0;34m\u001b[0m\u001b[0m\n\u001b[0m\u001b[1;32m     24\u001b[0m \u001b[0;34m\u001b[0m\u001b[0m\n\u001b[1;32m     25\u001b[0m \u001b[0;32mfrom\u001b[0m \u001b[0mio\u001b[0m \u001b[0;32mimport\u001b[0m \u001b[0mStringIO\u001b[0m\u001b[0;34m\u001b[0m\u001b[0;34m\u001b[0m\u001b[0m\n",
            "\u001b[0;31mImportError\u001b[0m: numpy.core.multiarray failed to import",
            "",
            "\u001b[0;31m---------------------------------------------------------------------------\u001b[0;32m\nNOTE: If your import is failing due to a missing package, you can\nmanually install dependencies using either !pip or !apt.\n\nTo view examples of installing some common dependencies, click the\n\"Open Examples\" button below.\n\u001b[0;31m---------------------------------------------------------------------------\u001b[0m\n"
          ],
          "errorDetails": {
            "actions": [
              {
                "action": "open_url",
                "actionText": "Open Examples",
                "url": "/notebooks/snippets/importing_libraries.ipynb"
              }
            ]
          }
        }
      ]
    },
    {
      "cell_type": "code",
      "source": [
        "!pip install numpy --upgrade"
      ],
      "metadata": {
        "id": "6EwKFbkNgDDZ",
        "outputId": "730497dc-b734-409d-a319-7d1490a61dae",
        "colab": {
          "base_uri": "https://localhost:8080/"
        }
      },
      "execution_count": 6,
      "outputs": [
        {
          "output_type": "stream",
          "name": "stdout",
          "text": [
            "Looking in indexes: https://pypi.org/simple, https://us-python.pkg.dev/colab-wheels/public/simple/\n",
            "Requirement already satisfied: numpy in /usr/local/lib/python3.10/dist-packages (1.24.3)\n"
          ]
        }
      ]
    },
    {
      "cell_type": "markdown",
      "metadata": {
        "id": "CQkeIrdWLU2m"
      },
      "source": [
        "## Preprocessing"
      ]
    },
    {
      "cell_type": "markdown",
      "metadata": {
        "id": "V-AM070Ez6lW"
      },
      "source": [
        "Why do we use the **preprocessed text** here? We need text without punctuation to build the bag of word. Also, we might want only to have the most frequent words inside the BoW. Too many words might not help."
      ]
    },
    {
      "cell_type": "code",
      "metadata": {
        "id": "HoKrSIkxaNBt",
        "colab": {
          "base_uri": "https://localhost:8080/"
        },
        "outputId": "48406c20-fa0e-46e6-a598-9be8cf978997"
      },
      "source": [
        "from nltk.corpus import stopwords as stop_words\n",
        "\n",
        "nltk.download('stopwords')\n",
        "\n",
        "documents = [line.strip() for line in open(text_file, encoding=\"utf-8\").readlines()[0:2000]]\n",
        "\n",
        "stopwords = list(stop_words.words(\"english\"))\n",
        "\n",
        "sp = WhiteSpacePreprocessingStopwords(documents, stopwords_list=stopwords)\n",
        "preprocessed_documents, unpreprocessed_corpus, vocab, retained_indices = sp.preprocess()"
      ],
      "execution_count": null,
      "outputs": [
        {
          "output_type": "stream",
          "name": "stderr",
          "text": [
            "[nltk_data] Downloading package stopwords to /root/nltk_data...\n",
            "[nltk_data]   Unzipping corpora/stopwords.zip.\n",
            "/usr/local/lib/python3.7/dist-packages/sklearn/utils/deprecation.py:87: FutureWarning: Function get_feature_names is deprecated; get_feature_names is deprecated in 1.0 and will be removed in 1.2. Please use get_feature_names_out instead.\n",
            "  warnings.warn(msg, category=FutureWarning)\n"
          ]
        }
      ]
    },
    {
      "cell_type": "code",
      "metadata": {
        "colab": {
          "base_uri": "https://localhost:8080/"
        },
        "id": "IDxo_ERVonRE",
        "outputId": "38fe1dc3-e043-49c7-d0fe-75cff1bfe3db"
      },
      "source": [
        "preprocessed_documents[:2]"
      ],
      "execution_count": null,
      "outputs": [
        {
          "output_type": "execute_result",
          "data": {
            "text/plain": [
              "['mid peninsula highway across peninsula canadian province ontario although highway connecting fort south decades international study published ministry',\n",
              " 'died march american photographer photography operated studio silver spring maryland later lived florida magazine photographer year']"
            ]
          },
          "metadata": {},
          "execution_count": 26
        }
      ]
    },
    {
      "cell_type": "markdown",
      "metadata": {
        "id": "stAb2Q4eBB3W"
      },
      "source": [
        "We don't discard the non-preprocessed texts, because we are going to use them as input for obtaining the contextualized document representations. \n",
        "\n",
        "Let's pass our files with preprocess and unpreprocessed data to our `TopicModelDataPreparation` object. This object takes care of creating the bag of words for you and of obtaining the contextualized BERT representations of documents. This operation allows us to create our training dataset.\n",
        "\n",
        "Note: Here we use the contextualized model \"paraphrase-distilroberta-base-v1\".\n"
      ]
    },
    {
      "cell_type": "code",
      "metadata": {
        "id": "KhLt6VA3wvCB",
        "colab": {
          "base_uri": "https://localhost:8080/",
          "height": 552,
          "referenced_widgets": [
            "66a25557719d47be9340b40f02f0222b",
            "ddc4323514904dd0a131457d38a16af3",
            "1140de34d0004610a965f38a67f29213",
            "7dfee62a10ee45f1962c318047a7f71b",
            "b7ced01f9f644a28bece3d46f5d856b6",
            "65d1f57f4c3c409abde8820c5a90f25c",
            "274ffc7f401045d589ad6860087ef216",
            "c9c5289709d54e74b588a86ed07498ee",
            "7327d475a682496ca694d86e3f82a9e2",
            "d2457e80bf994053a694c790493a7aec",
            "18c93026359445279773bc04804757e4",
            "2be912ce98474363841d03e981dc4848",
            "583ca3ab007f4eb6ac4a7c496b2a19a7",
            "034af98ead144162acfd0f8b2c5f6e30",
            "0574c17e3f6c4c3ba7fa2555b2c1e5af",
            "6b619966a7944951beb7bc565862e6b0",
            "5083d03d266340f7a5ed5891b661b4de",
            "11e35c222ced460db387aa2df4ef9fad",
            "e332396b992d42dba7ddf1486c5913d7",
            "30a9a5f2865b499c8279730cb2e16a9b",
            "3290d8ce78354aef950651288df1f998",
            "7287c0bf276b4a8dadc7f8660a9467dc",
            "e266375184364d2aa178b2085dafa874",
            "305ff61a123f4a72870901735305ad1e",
            "b0e4c2d1364d4f9e875fbecd863c50e3",
            "0c821513011d4e8eaf70a04aa80df265",
            "09962d2a2e974c6283e293eebd7d480c",
            "845ab910c4d143089095fbde4b7b0dc3",
            "433959fb8482422d8c025cbe4250a93c",
            "e72c94a4a1a9481e9c81f8177a7a33e4",
            "a665e21eb4bf4f24a9d12f13ebac873d",
            "24883993056b432cbb7360115736d235",
            "8dbf181d7e5e4ba7b12bbec585e05992",
            "1548ece6790f4ba4b16be840c999d557",
            "25ce008a9e7d48ea9a45c03bc041aa44",
            "4c9fb0045f2e43ecaa7d9d376d488203",
            "65115ae77d2944abae5a2d4be91bf867",
            "de7341badc964ff3b4e4576a2853a298",
            "ab77ba40c39f44f4bfc77674ccbc0c13",
            "2c141a7ec19a43048ae1728901d5f0bb",
            "ed786229532e49199c57fe1e3c75a280",
            "9a66c2aebc9f4cf3b2d66708f1f0f07f",
            "1693ea71ac8a4b3aa633b5269a110f19",
            "4d7882754c8d44629e6bc259b06455be",
            "b421dd6f4cb54a008d18d37968c4f8ab",
            "bf082437724d403581c505d4f082961a",
            "e17453b5dcfc4aa6b5f4c1c41664f74f",
            "dcef13b2f3654630a5de619a17196256",
            "8643030e68464a589d0d020b8e9fda2c",
            "109c182a78474947b76873ce0012f177",
            "124d46f6cfae44589fdd46e4cb5fa878",
            "e1038583a1b747b285d4b84504b48bfb",
            "f11dfb40104e433f8dd2dfe059844125",
            "a4104ce7db6a419daeba062c68d6c8d4",
            "266ea7989dfe458b9afab2bf782a8b0a",
            "135b862900bd4cac8ed9a4aac3ce4484",
            "86ab2aafbfaf48eb9078b114fd892273",
            "67973c3f30204bacba626cf298568777",
            "abcb94d8f7794877ae8b8fa7a28867e8",
            "38f9e26f901748f58a373ca665377226",
            "b038515b30e14c7cac1bff5ba4b42845",
            "31aa4d64a7a04925a927fed223336d16",
            "3bdc1878395c4ae2a583dfb420ddda17",
            "b183617e54dc42d9973a620b9c292db5",
            "e2b01ed342324ee4a7cb69910f31d5c9",
            "d1e6e089d4f641c7a73a6053ce40766d",
            "f6a59fc57df7488980072464c16379ff",
            "373707bb4ffe4264bf86a08a14199f03",
            "fb10bc112b7b4e61b2b2efeeec7ce8e1",
            "ecfae7817f244d299c22b1db0bf93fe5",
            "b45ed529a58645b0a2eaf62b0700d28d",
            "fb7e8e49f53b416590fb0bf4feecf97f",
            "a6881d4e296c4e48894e25a25fc0d8ab",
            "5cec8dcb66cd44edad0a5619d7be3a22",
            "5fbb8108742d44febb37038398a8b66f",
            "1ec557cc4b984ba4809f570a4709eeb7",
            "bac2f69e7eba41658578d6eb8b971a85",
            "bac9665f94a54387af873fa67010383e",
            "15e6ab5ea21c44469d2e7e010cfebdf2",
            "106b432007a1470893345830a88e31c2",
            "08dcf2fc2f01435bb5fc2f935d6f5bf8",
            "6c49bb4b235542949ed4a449106137cc",
            "dcd42ee6cac947d9b6efabe937da3a8a",
            "361f707c40c2445fabed461c1d3cb2fe",
            "2449be4565594941944f23f4f0134c2f",
            "329f0f45c76c4830bbd00547c0e2c69d",
            "066dc9ba11294dce803779edb484684e",
            "275a56414eb8408ead3e4128c8b1a0c7",
            "1e4b673b92ab432483d9cee637453093",
            "96a5a7f32b5c476288883196a5175049",
            "b222177a95c94f809fdd98498a60c383",
            "df5d0d187741497ea9f5b392e6f01ad2",
            "2a6239881b0e4442ae5bd41fdfcbefaf",
            "99292243057347b798f3ca46a979e51b",
            "8484d4d64a53452c9429d2ce14e2f0ea",
            "4e10d5e9940844a9805ab0d22aaa9834",
            "cdac8bdd429a4930a2dc8e1d2732e1ef",
            "3893ac34fbea44c2a53c5b51ce2d09f4",
            "0379bf016f40476b9d42ae33aaacac67",
            "5e38afd8edb2458e85a4fcc5a6f52204",
            "ae3c27944034479d9043936bfcff2c20",
            "b1df07d4b4e24a1db1d743ec68fa6369",
            "2b946cab5ac34df784b07d8917ddd050",
            "c6f568c01db04111a3a9aa7e6cfc4c20",
            "4aae7647801944b8a5d6bcc76f9536f5",
            "90259ebebda543cf8c4772793577b26d",
            "2f46fbdf66de4e34bbe9c7cb639c4a30",
            "84dec87f9e7848d88b00a44cfb2e7e89",
            "e955fa78269a420285313f787f1bea01",
            "e3891688b69e4d66b5961899e7a717db",
            "e4f13c448e504066bde5ab375cb57bd9",
            "716b4c3b312a442388ef56a1f1ce2232",
            "55f79bf7633d4750ae67a54996fe17b7",
            "4da53cc0076f4f879bf22057b0c8807f",
            "0a27a07f356346b89f285778b8318a7f",
            "33aa3652d6df4ea3859ea26b4c67b956",
            "041b77ddc2c449ef89f9089ad16f0062",
            "8dd4934582dc4529bdbc2d8515dfbbab",
            "0ad33f57a2914996ad2bba51a31722da",
            "cbf5cc43bf0a46989427b5e2f7e59184",
            "29e27cad0c5f4607a9ed860faffd6fa2",
            "bec5aad7189a45f491bdf507081d7e33",
            "db0edddf6b5043109a0c84543938977b",
            "e01f1f3c7e5942b98b88b9a63ed4740d",
            "463e122a7efb46f783bbb383d464a967",
            "e723a669c1a04e9ea9081ab7c3702f7d",
            "749102b903b34c9aba21e4fa01dd4d3a",
            "f569f2b1cadb48a6a61a7dfdd74f9979",
            "954068d30be44d10986d52f85f013019",
            "321505d7209c48289e8649f58e3fac51",
            "51114c7e4717496882b29ca83cb59a61",
            "276d73e893014068982832389a8fe655",
            "7a0b9cfe74c143fbb27cea47fe4e3aeb",
            "e85a821c6a8e4fe5b53f1fccf7f1f4fa",
            "ff85eb5d54744f6ba9b7b6573236d060",
            "27e72047882d4447bea6a8225a13a94e",
            "14685df6d28a4a9fb48d1cc20dc9317d",
            "a5fcb52eeb254bbe8924aa8aa916cbd2",
            "cf38bca4e71f4d8286cb3c288e422ff2",
            "c1338efc854741a99b6fa529cfc42a5f",
            "73cbbb7a816d48608a0d7907d87e8a29",
            "5469d8df60234899a8be66ddd7ce5cbc",
            "5dbd408be1604340963b8190cbd80afb",
            "af65c00d83a046aaab369af17346a69d",
            "aa6f6635ddc140078fd348136562c6c6",
            "203075f75af1476a90c43d0d67dddd06",
            "b016fee01ce947fe905b5cb99bc63741",
            "22243f79dd334e4888741615cfdfc6ee",
            "e96e4d5f6f0f4a23a99eec4aa67602b0",
            "2067712bedac4f76bfd825379c4dcee8",
            "06f73c70f597429aa543d6642398847b",
            "10df5ac6828d44e69f45e7cda15010ae",
            "e1ee8a427f984fb6b37e6359b4bfcab6",
            "ed853a1cccb14689ae71f87b4460f693",
            "7ae365ebdad442a5996a17b680a8e1e0",
            "e6626fa45b6846e2bfe4b0c07d0c0833",
            "219c5c6c72ab4fca9311db1fd1fcb6fb",
            "d8e73496465e4d3bb828db336ea8564b",
            "8b7bd8e9f5c249c882a686f745e2337d",
            "0fd2d1d7ab2442d491610dbbf4e754e5",
            "6166376a57f64862853a4fb97cbc1375",
            "67209f302a8541be9f9adcbbd64582f9",
            "e2715c4433b34c66b2ac5aa8635ce9e2",
            "15822e16eb714d85ae82e9feb839c701",
            "a0f8fea78dd54fb1ab388c4bc64463be"
          ]
        },
        "outputId": "ee68e79d-cf4b-4ef4-a0a8-c04fc0daea82"
      },
      "source": [
        "tp = TopicModelDataPreparation(\"all-mpnet-base-v2\")\n",
        "\n",
        "training_dataset = tp.fit(text_for_contextual=unpreprocessed_corpus, text_for_bow=preprocessed_documents)"
      ],
      "execution_count": null,
      "outputs": [
        {
          "output_type": "display_data",
          "data": {
            "text/plain": [
              "Downloading:   0%|          | 0.00/1.18k [00:00<?, ?B/s]"
            ],
            "application/vnd.jupyter.widget-view+json": {
              "version_major": 2,
              "version_minor": 0,
              "model_id": "66a25557719d47be9340b40f02f0222b"
            }
          },
          "metadata": {}
        },
        {
          "output_type": "display_data",
          "data": {
            "text/plain": [
              "Downloading:   0%|          | 0.00/190 [00:00<?, ?B/s]"
            ],
            "application/vnd.jupyter.widget-view+json": {
              "version_major": 2,
              "version_minor": 0,
              "model_id": "2be912ce98474363841d03e981dc4848"
            }
          },
          "metadata": {}
        },
        {
          "output_type": "display_data",
          "data": {
            "text/plain": [
              "Downloading:   0%|          | 0.00/10.5k [00:00<?, ?B/s]"
            ],
            "application/vnd.jupyter.widget-view+json": {
              "version_major": 2,
              "version_minor": 0,
              "model_id": "e266375184364d2aa178b2085dafa874"
            }
          },
          "metadata": {}
        },
        {
          "output_type": "display_data",
          "data": {
            "text/plain": [
              "Downloading:   0%|          | 0.00/571 [00:00<?, ?B/s]"
            ],
            "application/vnd.jupyter.widget-view+json": {
              "version_major": 2,
              "version_minor": 0,
              "model_id": "1548ece6790f4ba4b16be840c999d557"
            }
          },
          "metadata": {}
        },
        {
          "output_type": "display_data",
          "data": {
            "text/plain": [
              "Downloading:   0%|          | 0.00/116 [00:00<?, ?B/s]"
            ],
            "application/vnd.jupyter.widget-view+json": {
              "version_major": 2,
              "version_minor": 0,
              "model_id": "b421dd6f4cb54a008d18d37968c4f8ab"
            }
          },
          "metadata": {}
        },
        {
          "output_type": "display_data",
          "data": {
            "text/plain": [
              "Downloading:   0%|          | 0.00/39.3k [00:00<?, ?B/s]"
            ],
            "application/vnd.jupyter.widget-view+json": {
              "version_major": 2,
              "version_minor": 0,
              "model_id": "135b862900bd4cac8ed9a4aac3ce4484"
            }
          },
          "metadata": {}
        },
        {
          "output_type": "display_data",
          "data": {
            "text/plain": [
              "Downloading:   0%|          | 0.00/438M [00:00<?, ?B/s]"
            ],
            "application/vnd.jupyter.widget-view+json": {
              "version_major": 2,
              "version_minor": 0,
              "model_id": "f6a59fc57df7488980072464c16379ff"
            }
          },
          "metadata": {}
        },
        {
          "output_type": "display_data",
          "data": {
            "text/plain": [
              "Downloading:   0%|          | 0.00/53.0 [00:00<?, ?B/s]"
            ],
            "application/vnd.jupyter.widget-view+json": {
              "version_major": 2,
              "version_minor": 0,
              "model_id": "bac9665f94a54387af873fa67010383e"
            }
          },
          "metadata": {}
        },
        {
          "output_type": "display_data",
          "data": {
            "text/plain": [
              "Downloading:   0%|          | 0.00/239 [00:00<?, ?B/s]"
            ],
            "application/vnd.jupyter.widget-view+json": {
              "version_major": 2,
              "version_minor": 0,
              "model_id": "1e4b673b92ab432483d9cee637453093"
            }
          },
          "metadata": {}
        },
        {
          "output_type": "display_data",
          "data": {
            "text/plain": [
              "Downloading:   0%|          | 0.00/466k [00:00<?, ?B/s]"
            ],
            "application/vnd.jupyter.widget-view+json": {
              "version_major": 2,
              "version_minor": 0,
              "model_id": "5e38afd8edb2458e85a4fcc5a6f52204"
            }
          },
          "metadata": {}
        },
        {
          "output_type": "display_data",
          "data": {
            "text/plain": [
              "Downloading:   0%|          | 0.00/363 [00:00<?, ?B/s]"
            ],
            "application/vnd.jupyter.widget-view+json": {
              "version_major": 2,
              "version_minor": 0,
              "model_id": "e4f13c448e504066bde5ab375cb57bd9"
            }
          },
          "metadata": {}
        },
        {
          "output_type": "display_data",
          "data": {
            "text/plain": [
              "Downloading:   0%|          | 0.00/13.1k [00:00<?, ?B/s]"
            ],
            "application/vnd.jupyter.widget-view+json": {
              "version_major": 2,
              "version_minor": 0,
              "model_id": "bec5aad7189a45f491bdf507081d7e33"
            }
          },
          "metadata": {}
        },
        {
          "output_type": "display_data",
          "data": {
            "text/plain": [
              "Downloading:   0%|          | 0.00/232k [00:00<?, ?B/s]"
            ],
            "application/vnd.jupyter.widget-view+json": {
              "version_major": 2,
              "version_minor": 0,
              "model_id": "7a0b9cfe74c143fbb27cea47fe4e3aeb"
            }
          },
          "metadata": {}
        },
        {
          "output_type": "display_data",
          "data": {
            "text/plain": [
              "Downloading:   0%|          | 0.00/349 [00:00<?, ?B/s]"
            ],
            "application/vnd.jupyter.widget-view+json": {
              "version_major": 2,
              "version_minor": 0,
              "model_id": "af65c00d83a046aaab369af17346a69d"
            }
          },
          "metadata": {}
        },
        {
          "output_type": "display_data",
          "data": {
            "text/plain": [
              "Batches:   0%|          | 0/10 [00:00<?, ?it/s]"
            ],
            "application/vnd.jupyter.widget-view+json": {
              "version_major": 2,
              "version_minor": 0,
              "model_id": "7ae365ebdad442a5996a17b680a8e1e0"
            }
          },
          "metadata": {}
        },
        {
          "output_type": "stream",
          "name": "stderr",
          "text": [
            "/usr/local/lib/python3.7/dist-packages/sklearn/utils/deprecation.py:87: FutureWarning: Function get_feature_names is deprecated; get_feature_names is deprecated in 1.0 and will be removed in 1.2. Please use get_feature_names_out instead.\n",
            "  warnings.warn(msg, category=FutureWarning)\n"
          ]
        }
      ]
    },
    {
      "cell_type": "markdown",
      "metadata": {
        "id": "-aevSxSBbYZG"
      },
      "source": [
        "Let's check the first ten words of the vocabulary "
      ]
    },
    {
      "cell_type": "code",
      "metadata": {
        "colab": {
          "base_uri": "https://localhost:8080/"
        },
        "id": "evwSKgdyyhWq",
        "outputId": "b749a858-71a8-4772-b472-26bc5b67c5dd"
      },
      "source": [
        "tp.vocab[:10]"
      ],
      "execution_count": null,
      "outputs": [
        {
          "output_type": "execute_result",
          "data": {
            "text/plain": [
              "['ab',\n",
              " 'abbreviated',\n",
              " 'abroad',\n",
              " 'academic',\n",
              " 'academy',\n",
              " 'accepted',\n",
              " 'access',\n",
              " 'according',\n",
              " 'accounting',\n",
              " 'achieved']"
            ]
          },
          "metadata": {},
          "execution_count": 9
        }
      ]
    },
    {
      "cell_type": "markdown",
      "metadata": {
        "id": "4x-esnySk7uO"
      },
      "source": [
        "## Training our Combined TM\n",
        "\n",
        "Finally, we can fit our new topic model. We will ask the model to find 50 topics in our collection."
      ]
    },
    {
      "cell_type": "code",
      "metadata": {
        "id": "9I3ThmBf0BcK",
        "colab": {
          "base_uri": "https://localhost:8080/"
        },
        "outputId": "9df3991b-7771-4cef-880d-6a30cf698bf4"
      },
      "source": [
        "ctm = CombinedTM(bow_size=len(tp.vocab), contextual_size=768, n_components=20, num_epochs=10)\n",
        "ctm.fit(training_dataset) # run the model"
      ],
      "execution_count": null,
      "outputs": [
        {
          "output_type": "stream",
          "name": "stderr",
          "text": [
            "Epoch: [10/10]\t Seen Samples: [20000/20000]\tTrain Loss: 137.913220703125\tTime: 0:00:00.686820: : 10it [00:07,  1.40it/s]\n",
            "Sampling: [20/20]: : 20it [00:15,  1.26it/s]\n"
          ]
        }
      ]
    },
    {
      "cell_type": "markdown",
      "metadata": {
        "id": "-SEBG6wj9Zdu"
      },
      "source": [
        "# Topics\n",
        "\n",
        "After training, now it is the time to look at our topics: we can use the \n",
        "\n",
        "```\n",
        "get_topic_lists\n",
        "```\n",
        "\n",
        "function to get the topics. It also accepts a parameter that allows you to select how many words you want to see for each topic.\n",
        "\n",
        "If you look at the topics, you will see that they all make sense and are representative of a collection of documents that comes from Wikipedia (general knowledge). Notice that the topics are in English, because we trained the model on English documents."
      ]
    },
    {
      "cell_type": "code",
      "metadata": {
        "id": "lxcKgjbx3V2o",
        "colab": {
          "base_uri": "https://localhost:8080/"
        },
        "outputId": "7fde2d3e-05d5-41d3-b6e3-d1d6adecaf72"
      },
      "source": [
        "ctm.get_topic_lists(5)"
      ],
      "execution_count": null,
      "outputs": [
        {
          "output_type": "execute_result",
          "data": {
            "text/plain": [
              "[['politician', 'party', 'june', 'democratic', 'director'],\n",
              " ['series', 'studio', 'band', 'released', 'book'],\n",
              " ['team', 'stadium', 'division', 'football', 'home'],\n",
              " ['village', 'mi', 'capital', 'km', 'administrative'],\n",
              " ['england', 'community', 'states', 'list', 'found'],\n",
              " ['election', 'party', 'politician', 'house', 'representatives'],\n",
              " ['played', 'player', 'olympics', 'former', 'competed'],\n",
              " ['region', 'located', 'municipality', 'province', 'one'],\n",
              " ['war', 'navy', 'cross', 'professor', 'online'],\n",
              " ['river', 'county', 'found', 'north', 'town'],\n",
              " ['album', 'released', 'band', 'studio', 'voivodeship'],\n",
              " ['television', 'released', 'album', 'debut', 'film'],\n",
              " ['census', 'population', 'community', 'designated', 'local'],\n",
              " ['born', 'played', 'american', 'former', 'coach'],\n",
              " ['football', 'played', 'women', 'season', 'team'],\n",
              " ['mount', 'station', 'named', 'range', 'airport'],\n",
              " ['medical', 'institute', 'john', 'science', 'york'],\n",
              " ['species', 'family', 'genus', 'commonly', 'include'],\n",
              " ['station', 'air', 'long', 'route', 'service'],\n",
              " ['writer', 'large', 'history', 'professor', 'author']]"
            ]
          },
          "metadata": {},
          "execution_count": 11
        }
      ]
    },
    {
      "cell_type": "markdown",
      "metadata": {
        "id": "UIxPpLs4sn-Q"
      },
      "source": [
        "# Let's Draw!\n",
        "\n",
        "We can use PyLDAvis to plot our topic in a nice and friendly manner :)"
      ]
    },
    {
      "cell_type": "code",
      "metadata": {
        "colab": {
          "base_uri": "https://localhost:8080/"
        },
        "id": "mnN3vcyQstZE",
        "outputId": "97a2b647-c33b-4fad-c7dd-5d82be657724"
      },
      "source": [
        " lda_vis_data = ctm.get_ldavis_data_format(tp.vocab, training_dataset, n_samples=10)"
      ],
      "execution_count": null,
      "outputs": [
        {
          "output_type": "stream",
          "name": "stderr",
          "text": [
            "Sampling: [10/10]: : 10it [00:06,  1.63it/s]\n"
          ]
        }
      ]
    },
    {
      "cell_type": "code",
      "metadata": {
        "id": "mFhhsliMtDXJ",
        "colab": {
          "base_uri": "https://localhost:8080/",
          "height": 1000
        },
        "outputId": "50b30bfb-bf31-44cd-fd8c-7ec289162d26"
      },
      "source": [
        "import pyLDAvis as vis\n",
        "\n",
        "lda_vis_data = ctm.get_ldavis_data_format(tp.vocab, training_dataset, n_samples=10)\n",
        "\n",
        "ctm_pd = vis.prepare(**lda_vis_data)\n",
        "vis.display(ctm_pd)"
      ],
      "execution_count": null,
      "outputs": [
        {
          "output_type": "stream",
          "name": "stderr",
          "text": [
            "/usr/local/lib/python3.7/dist-packages/past/types/oldstr.py:5: DeprecationWarning: Using or importing the ABCs from 'collections' instead of from 'collections.abc' is deprecated since Python 3.3,and in 3.9 it will stop working\n",
            "  from collections import Iterable\n",
            "/usr/local/lib/python3.7/dist-packages/past/builtins/misc.py:4: DeprecationWarning: Using or importing the ABCs from 'collections' instead of from 'collections.abc' is deprecated since Python 3.3,and in 3.9 it will stop working\n",
            "  from collections import Mapping\n",
            "Sampling: [10/10]: : 10it [00:06,  1.65it/s]\n",
            "/usr/local/lib/python3.7/dist-packages/pyLDAvis/_prepare.py:247: FutureWarning: In a future version of pandas all arguments of DataFrame.drop except for the argument 'labels' will be keyword-only\n",
            "  by='saliency', ascending=False).head(R).drop('saliency', 1)\n"
          ]
        },
        {
          "output_type": "execute_result",
          "data": {
            "text/plain": [
              "<IPython.core.display.HTML object>"
            ],
            "text/html": [
              "\n",
              "<link rel=\"stylesheet\" type=\"text/css\" href=\"https://cdn.jsdelivr.net/gh/bmabey/pyLDAvis@3.3.1/pyLDAvis/js/ldavis.v1.0.0.css\">\n",
              "\n",
              "\n",
              "<div id=\"ldavis_el731399307841037609857248491\"></div>\n",
              "<script type=\"text/javascript\">\n",
              "\n",
              "var ldavis_el731399307841037609857248491_data = {\"mdsDat\": {\"x\": [0.0004685786413835719, 0.00025979276672671484, -0.0004515092801620662, 2.1616565892613345e-05, -0.0006279310837244076, 0.00018000848133002025, -0.0001671564756665411, 0.0007852886945303982, -0.00044039431486823146, 0.0004257287756539311, 0.0007704887589470638, -0.00026018190755075347, -0.0004058646336072928, 3.7034585210606684e-05, -0.0003321465809289207, -0.00048540905172401305, 0.0004307547776170738, -0.00038533301616857886, 0.00014663706914429887, 2.9997227964514105e-05], \"y\": [-0.00015413451872590216, 0.0003611752554949643, -0.00037832405226701773, 0.0004693512869030102, -0.00019745550427821153, 0.0005286384145498809, 0.00019973432100871106, -0.0001991516597213553, 7.323968519663006e-05, 0.00019661483047514263, -0.00019404935891475597, 0.00011454120835437503, -8.293592917997532e-05, 0.00024428116657983554, -0.0002933365662520214, -0.00016403241065521195, -0.00039490402327149184, 0.00021073085047884963, -0.0005343688217772614, 0.00019438582600180424], \"topics\": [1, 2, 3, 4, 5, 6, 7, 8, 9, 10, 11, 12, 13, 14, 15, 16, 17, 18, 19, 20], \"cluster\": [1, 1, 1, 1, 1, 1, 1, 1, 1, 1, 1, 1, 1, 1, 1, 1, 1, 1, 1, 1], \"Freq\": [5.893538356743042, 5.7093359318250565, 5.598211540125575, 5.406440463945455, 5.138221419380071, 5.1099634909620395, 5.0184872544080354, 4.993977239255848, 4.963144780719732, 4.9437901108527065, 4.904224033690442, 4.894684105570857, 4.886550876244996, 4.823470418194366, 4.81472224431483, 4.753024142408282, 4.751102674588238, 4.650660751305672, 4.470374068517469, 4.276076096947283]}, \"tinfo\": {\"Term\": [\"played\", \"player\", \"national\", \"born\", \"team\", \"building\", \"wingspan\", \"situated\", \"ft\", \"football\", \"division\", \"small\", \"coast\", \"belize\", \"basketball\", \"argentina\", \"range\", \"plays\", \"olympics\", \"championship\", \"region\", \"wins\", \"construction\", \"males\", \"medal\", \"mm\", \"competed\", \"club\", \"currently\", \"mostly\", \"party\", \"election\", \"representatives\", \"politician\", \"house\", \"member\", \"served\", \"elections\", \"held\", \"elected\", \"november\", \"republican\", \"died\", \"york\", \"th\", \"senate\", \"born\", \"council\", \"general\", \"legislative\", \"conservative\", \"october\", \"represented\", \"april\", \"liberal\", \"incumbent\", \"president\", \"medal\", \"september\", \"progressive\", \"december\", \"years\", \"march\", \"james\", \"june\", \"american\", \"television\", \"released\", \"film\", \"written\", \"directed\", \"producer\", \"produced\", \"debut\", \"appeared\", \"stars\", \"album\", \"songwriter\", \"drama\", \"role\", \"series\", \"singer\", \"game\", \"november\", \"films\", \"young\", \"guitarist\", \"based\", \"studio\", \"english\", \"actress\", \"girl\", \"fantasy\", \"ep\", \"performance\", \"novel\", \"award\", \"live\", \"short\", \"production\", \"made\", \"american\", \"british\", \"show\", \"village\", \"capital\", \"administrative\", \"mi\", \"km\", \"lies\", \"within\", \"voivodeship\", \"gmina\", \"north\", \"approximately\", \"district\", \"poland\", \"regional\", \"kilometres\", \"west\", \"south\", \"east\", \"municipality\", \"town\", \"county\", \"central\", \"area\", \"located\", \"airport\", \"station\", \"road\", \"silesian\", \"route\", \"part\", \"main\", \"eastern\", \"population\", \"series\", \"work\", \"rock\", \"band\", \"video\", \"released\", \"studio\", \"illustrated\", \"developed\", \"music\", \"drama\", \"book\", \"albums\", \"production\", \"focus\", \"aired\", \"history\", \"voice\", \"novel\", \"sequel\", \"album\", \"guitar\", \"characters\", \"project\", \"calendar\", \"specific\", \"published\", \"title\", \"awards\", \"classical\", \"stars\", \"meaning\", \"written\", \"name\", \"singer\", \"based\", \"term\", \"award\", \"many\", \"masters\", \"wingspan\", \"found\", \"moth\", \"town\", \"mm\", \"unincorporated\", \"historic\", \"near\", \"river\", \"north\", \"county\", \"miles\", \"district\", \"situated\", \"small\", \"brown\", \"census\", \"adults\", \"rural\", \"population\", \"township\", \"street\", \"city\", \"romanized\", \"forewings\", \"families\", \"located\", \"persian\", \"species\", \"province\", \"family\", \"built\", \"west\", \"village\", \"also\", \"house\", \"center\", \"state\", \"war\", \"navy\", \"cross\", \"online\", \"professor\", \"royal\", \"introduced\", \"iron\", \"merchant\", \"vessel\", \"ii\", \"marketing\", \"army\", \"ship\", \"government\", \"ships\", \"troops\", \"commissioned\", \"maria\", \"anti\", \"agency\", \"bell\", \"peak\", \"antarctic\", \"william\", \"adopted\", \"program\", \"printed\", \"google\", \"hms\", \"journalist\", \"leader\", \"knight\", \"general\", \"battle\", \"awarded\", \"expedition\", \"air\", \"used\", \"writer\", \"french\", \"kingdom\", \"des\", \"album\", \"released\", \"band\", \"film\", \"voivodeship\", \"studio\", \"gmina\", \"rock\", \"lies\", \"east\", \"approximately\", \"poland\", \"mi\", \"administrative\", \"albums\", \"within\", \"capital\", \"regional\", \"songwriter\", \"starring\", \"directed\", \"solo\", \"music\", \"fourth\", \"novel\", \"musical\", \"west\", \"indie\", \"follows\", \"singer\", \"formed\", \"village\", \"km\", \"kilometres\", \"release\", \"constituency\", \"live\", \"guitarist\", \"born\", \"played\", \"coach\", \"former\", \"american\", \"career\", \"actor\", \"player\", \"plays\", \"drafted\", \"footballer\", \"winning\", \"championships\", \"march\", \"basketball\", \"season\", \"professional\", \"nfl\", \"currently\", \"third\", \"baseball\", \"college\", \"champion\", \"represented\", \"retired\", \"best\", \"draft\", \"january\", \"october\", \"competed\", \"film\", \"football\", \"australian\", \"league\", \"made\", \"york\", \"games\", \"mount\", \"opened\", \"station\", \"airport\", \"range\", \"named\", \"system\", \"line\", \"railway\", \"greater\", \"schools\", \"service\", \"survey\", \"navy\", \"space\", \"air\", \"public\", \"across\", \"used\", \"company\", \"road\", \"information\", \"prima\", \"headquarters\", \"force\", \"along\", \"theorem\", \"rail\", \"church\", \"developed\", \"originally\", \"northern\", \"part\", \"kingdom\", \"channel\", \"planet\", \"given\", \"mapped\", \"conditions\", \"product\", \"politician\", \"party\", \"democratic\", \"served\", \"educated\", \"director\", \"born\", \"elected\", \"june\", \"appointed\", \"brother\", \"member\", \"political\", \"son\", \"parliament\", \"minister\", \"july\", \"representatives\", \"march\", \"december\", \"mayor\", \"republican\", \"journalist\", \"lawyer\", \"president\", \"august\", \"studied\", \"election\", \"governor\", \"sir\", \"writer\", \"edward\", \"september\", \"held\", \"newspaper\", \"player\", \"played\", \"olympics\", \"former\", \"competed\", \"plays\", \"coach\", \"career\", \"summer\", \"team\", \"born\", \"championships\", \"footballer\", \"represented\", \"track\", \"professional\", \"draft\", \"round\", \"athlete\", \"february\", \"union\", \"league\", \"football\", \"silver\", \"champions\", \"championship\", \"women\", \"retired\", \"rugby\", \"playing\", \"australian\", \"basketball\", \"second\", \"season\", \"english\", \"world\", \"games\", \"station\", \"air\", \"opened\", \"route\", \"navy\", \"service\", \"railway\", \"radio\", \"era\", \"point\", \"network\", \"type\", \"surface\", \"provides\", \"rock\", \"data\", \"exchange\", \"light\", \"long\", \"launched\", \"used\", \"carolina\", \"wing\", \"line\", \"access\", \"information\", \"platform\", \"schools\", \"response\", \"particular\", \"ellsworth\", \"company\", \"mountains\", \"built\", \"range\", \"named\", \"central\", \"eastern\", \"community\", \"list\", \"places\", \"miles\", \"england\", \"found\", \"wingspan\", \"moth\", \"building\", \"states\", \"mm\", \"valley\", \"common\", \"western\", \"library\", \"near\", \"forewings\", \"unincorporated\", \"rural\", \"river\", \"creek\", \"school\", \"historic\", \"designed\", \"family\", \"newspapers\", \"land\", \"built\", \"county\", \"public\", \"north\", \"census\", \"bridge\", \"formerly\", \"several\", \"california\", \"located\", \"coburg\", \"medical\", \"professor\", \"became\", \"institute\", \"research\", \"science\", \"war\", \"education\", \"protein\", \"chairman\", \"alfred\", \"york\", \"john\", \"entrepreneur\", \"covering\", \"century\", \"firm\", \"franz\", \"support\", \"founding\", \"appointed\", \"published\", \"federal\", \"owner\", \"institution\", \"arthur\", \"related\", \"carl\", \"botanist\", \"naval\", \"jewish\", \"system\", \"law\", \"object\", \"founded\", \"july\", \"term\", \"formerly\", \"sciences\", \"people\", \"region\", \"municipality\", \"province\", \"located\", \"one\", \"building\", \"city\", \"area\", \"island\", \"northeast\", \"population\", \"along\", \"square\", \"register\", \"group\", \"historic\", \"passage\", \"italian\", \"include\", \"district\", \"km\\u00b2\", \"sq\", \"municipal\", \"inhabitants\", \"town\", \"listed\", \"highway\", \"opened\", \"largest\", \"central\", \"hospital\", \"local\", \"northern\", \"ethiopia\", \"part\", \"islands\", \"village\", \"census\", \"community\", \"designated\", \"route\", \"region\", \"population\", \"local\", \"small\", \"located\", \"along\", \"coast\", \"highway\", \"founded\", \"romanized\", \"side\", \"city\", \"rural\", \"zone\", \"municipal\", \"place\", \"connects\", \"province\", \"valley\", \"government\", \"persian\", \"flowers\", \"northeastern\", \"township\", \"hamlet\", \"site\", \"olya\", \"state\", \"companies\", \"county\", \"area\", \"also\", \"central\", \"player\", \"played\", \"women\", \"football\", \"olympics\", \"tournament\", \"club\", \"team\", \"season\", \"division\", \"men\", \"championship\", \"world\", \"final\", \"cup\", \"teams\", \"competed\", \"league\", \"medal\", \"place\", \"competition\", \"professional\", \"former\", \"conference\", \"national\", \"european\", \"footballer\", \"coach\", \"hockey\", \"nd\", \"event\", \"since\", \"head\", \"annual\", \"species\", \"family\", \"genus\", \"plant\", \"found\", \"plants\", \"name\", \"flowering\", \"include\", \"females\", \"mm\", \"living\", \"forewings\", \"academic\", \"white\", \"adults\", \"commonly\", \"butterfly\", \"males\", \"native\", \"refers\", \"widely\", \"columbia\", \"painter\", \"extinct\", \"related\", \"subfamily\", \"crater\", \"shanghai\", \"brown\", \"tropical\", \"certain\", \"project\", \"large\", \"known\", \"australia\", \"volume\", \"belonging\", \"group\", \"stadium\", \"team\", \"division\", \"matches\", \"home\", \"played\", \"championship\", \"football\", \"club\", \"basketball\", \"championships\", \"baseball\", \"competition\", \"rugby\", \"cup\", \"moscow\", \"national\", \"olympic\", \"plays\", \"medal\", \"league\", \"municipal\", \"six\", \"ncaa\", \"tournament\", \"cricket\", \"round\", \"spanish\", \"coach\", \"season\", \"professional\", \"clubs\", \"teams\", \"began\", \"school\", \"hockey\", \"central\", \"history\", \"professor\", \"magazine\", \"writer\", \"novelist\", \"large\", \"author\", \"photographer\", \"artist\", \"pinyin\", \"style\", \"poet\", \"laura\", \"much\", \"studies\", \"historian\", \"institution\", \"painter\", \"documentary\", \"work\", \"studied\", \"medical\", \"dance\", \"europe\", \"comic\", \"photography\", \"sanskrit\", \"extinct\", \"wrote\", \"multiple\", \"institute\", \"de\", \"published\", \"july\", \"worked\", \"method\", \"months\", \"mining\", \"working\", \"los\", \"known\", \"book\"], \"Freq\": [17.0, 17.0, 17.0, 18.0, 18.0, 17.0, 17.0, 17.0, 17.0, 18.0, 17.0, 17.0, 17.0, 17.0, 17.0, 17.0, 17.0, 17.0, 17.0, 17.0, 17.0, 17.0, 17.0, 17.0, 17.0, 17.0, 17.0, 17.0, 17.0, 17.0, 1.2771788962265034, 1.286176944846776, 1.2510160871687426, 1.271656880719598, 1.2517894208899172, 1.247169689113591, 1.212802069372199, 1.2271959920602526, 1.2472552894512734, 1.2083353436202897, 1.2362532648799203, 1.2188779837831385, 1.194826975352883, 1.219679769542373, 1.21665115388588, 1.1835276086670408, 1.2139187813381143, 1.1924216180751799, 1.2131336027770607, 1.1965409358945547, 1.176073541030588, 1.200428607721656, 1.186397356935053, 1.1770834052140893, 1.1872967099836005, 1.1935946235584582, 1.188087872020469, 1.159252769396597, 1.1971634616028362, 1.169169098386873, 1.1803122841427638, 1.192352869159181, 1.1891487789160264, 1.1887973412956978, 1.1882521123260084, 1.1837911258264115, 1.1914221521256985, 1.1817322414255507, 1.1648100017863379, 1.1644746350333814, 1.1550831829990922, 1.1511945847969112, 1.1453698498590554, 1.1670777198301383, 1.1462554073591018, 1.151847337439879, 1.1736407348051021, 1.1191969294151896, 1.1431273286824082, 1.13180293388152, 1.1507835091473437, 1.150290218367863, 1.1307418263774571, 1.1494118768720247, 1.1392431074008125, 1.115541372660389, 1.1296116345052363, 1.137844030650472, 1.148845243098952, 1.1344861044954735, 1.1178561721742695, 1.1181620834346382, 1.118097612577368, 1.1117317956190458, 1.147345852060602, 1.111418668354469, 1.1533220047916795, 1.1325987053619921, 1.1305817730382155, 1.1206055880727575, 1.124310000724902, 1.1225219695182227, 1.1234873762451636, 1.1221856564040587, 1.31246758660373, 1.280455689790725, 1.2706425915369366, 1.2848942663770475, 1.2752575930171022, 1.253864015768246, 1.2372803077323995, 1.2527642889973547, 1.2491353414439212, 1.2453991006447254, 1.2489458093751906, 1.2481021944817519, 1.2344711965692898, 1.215957834007492, 1.224205726792827, 1.2118342935892679, 1.202478322558777, 1.1804411018280438, 1.1716323843472907, 1.1659722886570492, 1.1845470113561534, 1.1849650490401837, 1.1746543421114535, 1.168047282033747, 1.1450303869746787, 1.1477947249563134, 1.154833857834523, 1.1336995242659687, 1.1357280045707199, 1.1695861571597268, 1.1575838127215907, 1.155370904026826, 1.148686708804869, 1.1043609866452335, 1.0831629064917363, 1.0839580193293017, 1.0930442390522435, 1.0825732370106227, 1.0914740648279333, 1.1013667113355516, 1.0583640786556947, 1.071553900601591, 1.0625054313754456, 1.0738064962694698, 1.0898196521063213, 1.0514051050281834, 1.070742769007225, 1.056206363316559, 1.0566330447477068, 1.0545455654960822, 1.0464200231040732, 1.0531355788397796, 1.0473380210899634, 1.087580162694007, 1.03884315113731, 1.0517715200875912, 1.0574399196094966, 1.0516788801444148, 1.0529684460765159, 1.0612922625911636, 1.0667213889345624, 1.0646364861263393, 1.0510706154630989, 1.0608323114343527, 1.0589184620641352, 1.0577587264756152, 1.054746864139236, 1.060673468097685, 1.0584488772493883, 1.0571985180647017, 1.0587381110260285, 1.055899094436108, 1.054681444880693, 1.0597581424583773, 1.0754368910606695, 1.0639024908065928, 1.0698653146515167, 1.069788768554559, 1.0601570551500328, 1.047017209635704, 1.0656694387498555, 1.0800887432255708, 1.0706399313433994, 1.0767283802153194, 1.0330462161673442, 1.0632275224412082, 1.0330929529358621, 1.0493212578003175, 1.0304530175168656, 1.0530601992817532, 1.0273287869726113, 1.0366795474565935, 1.0605397856348209, 1.015769155251248, 1.0377419306298066, 1.0508495181922881, 1.031239451478237, 1.0260054657136637, 1.0243863933318391, 1.0513707555924336, 1.0420280862118851, 1.0455559137708355, 1.0397414977967863, 1.0526806626535836, 1.0444053801549507, 1.0399997743353386, 1.0459598301711932, 1.0374070015324093, 1.0340481289885797, 1.0344590718734983, 1.0334009471757766, 1.0677083811914287, 1.0285830301799024, 1.0252561821169583, 1.013658164251798, 1.0156863324617704, 1.0116367721310633, 1.0105047417227826, 1.0043966266569275, 1.0044995385122257, 1.0121593780135243, 1.0084071185981234, 0.9880425352816307, 1.0113666814491027, 0.9930525003853938, 1.0132370938315087, 0.9955050211838801, 1.004523043071769, 1.0094245907477284, 1.0032991119532015, 1.000631132692234, 0.9967481159298232, 0.9912901878016085, 0.9885618589958672, 0.9976605586962433, 0.9902064370291467, 0.9971940673027823, 0.9904179780650376, 0.9975864452202055, 0.986780276908312, 1.0014373814351312, 1.0094639767664229, 0.9976125966896073, 1.0056849306232536, 1.0099440203383592, 1.0028092218765914, 1.0021438946145604, 0.9986311276031559, 0.9995795683436514, 0.9988025414855919, 1.0008878829485077, 1.0013471747471536, 0.9999094791884141, 1.0006316620742055, 1.098386699086753, 1.0798171404697492, 1.0774445010214007, 1.0610034343628374, 1.0635090655656974, 1.072688304115146, 1.0597150052540423, 1.0475153253558498, 1.0451653537749628, 1.0439973347144271, 1.0520153129711616, 1.0441950026779345, 1.0488742536120714, 1.035473800624672, 1.0128935891826065, 1.0200397903714578, 1.0290180335640104, 1.0207336558740798, 0.9988776723993099, 0.9991582132544087, 1.0168530833343141, 0.9948856321810172, 0.9983161747649386, 1.0021059718538143, 0.999008584532953, 0.9943231987172554, 1.0192181321664946, 0.9933497281889251, 0.9851218122055619, 1.0178436067537624, 1.013566138571331, 1.0285917112860619, 1.0174116694994702, 1.0149748737473425, 1.0014896762095702, 1.0000938346829407, 0.9998572778092009, 0.999244413539389, 1.125087654179844, 1.1035533279720275, 1.0561200722660409, 1.062735838619976, 1.0752717209658096, 1.033765100063682, 1.0312424233082989, 1.0298737832162785, 1.0383259920252808, 1.0180210309745894, 1.0342449053185923, 1.033328029242733, 1.0257081589005193, 1.0492377589341788, 1.0409310334524149, 1.0534925771532664, 1.040933516809352, 1.0090517665566188, 1.02982132230098, 1.021009854521728, 1.0129841622666917, 1.0204146766424433, 1.0132855797149458, 1.012637320081128, 1.0113276597163665, 1.0211856554982415, 0.9857753654573489, 1.0208282590456945, 1.0196408005368849, 1.0088385082796358, 1.0139686063458844, 1.032750131388803, 1.0226894315969282, 1.0252279397527861, 1.0222857826214258, 1.0146475975218001, 1.014568233573015, 1.0115043617254538, 0.9943035652354983, 1.0019428220455644, 0.9968505669002811, 0.9976374554960061, 1.0012488957199042, 0.9959106607626795, 0.9963942908026292, 0.9688457858776461, 0.975342244339007, 0.9648676382919662, 0.9789472059976239, 0.9680590001162906, 0.9658756207822036, 0.9725968751753803, 0.9791647006892024, 0.9721490314960308, 0.9701032445483891, 0.9761521678335091, 0.9879334902143029, 0.9753876971303439, 0.9675112014297476, 0.9537988552577195, 0.9661570784516363, 0.9855686082179766, 0.9761480544587274, 0.9648754537040513, 0.9640991570483889, 0.9692990797785813, 0.965081019608763, 0.9786354121891766, 0.9819865786237673, 0.9824075825326667, 0.9724268899625296, 0.9701606261265928, 0.9704205914127916, 0.970816298066784, 0.9704196659034657, 0.9685927104942066, 0.968771950800316, 1.0882688988523868, 1.041506538742464, 1.0244450353425123, 1.0100390140701787, 0.9942730876625938, 1.0224562918805578, 1.0212348766325359, 0.9959163234399142, 1.0308706792965892, 0.9930691885171727, 1.0013343305443776, 1.0101584513545794, 1.0101334576175351, 0.9794279346250583, 1.0047875635904455, 0.9870123046178491, 1.0037791072740438, 0.9860629523435563, 1.0043440271912563, 0.9894033038395303, 0.984679282671443, 0.9951795203638473, 0.9981052216649209, 0.9786683913456149, 0.9882781759391385, 0.9953342971534951, 0.9933613284272163, 0.9978614302953895, 0.9753243522490934, 0.9823700252618986, 0.9906258458543862, 0.9838096235423164, 0.985412910313705, 0.9871289762018391, 0.9838527479820528, 1.065479603422321, 1.0811289038455074, 1.0587998331381865, 1.0540992916840013, 1.041389569801815, 1.0318555763631243, 1.019712045211017, 1.0145510927378103, 1.039727273650817, 1.0394056667483225, 1.04099784954617, 1.013911638634367, 1.0202674649042351, 1.013932977480978, 0.9938448921220346, 1.0281813318173734, 0.9852731790519453, 1.0149358016581402, 1.0071849228876881, 1.0187847199054356, 1.0076187111552233, 1.0341554975735705, 1.0330538034071104, 0.9869316138878423, 0.9974511571992961, 1.0094937860909998, 1.0120249797532872, 0.9954365668521058, 0.9939729252017008, 1.011055078368039, 1.014601391447679, 1.0051688083371684, 1.0176894273929589, 1.0159511243026034, 1.005279567112435, 1.003928208440626, 1.0049488149899644, 1.0122382024811056, 1.0006808474509394, 0.9617682796763728, 0.9713246991612146, 0.9645045818531797, 0.9684057469632658, 0.9524176330360046, 0.9641753858683787, 0.9511605830570742, 0.9527161000055885, 0.9647451403485426, 0.950415683331762, 0.9498320348744208, 0.9548691593886214, 0.9570479784081729, 0.9446499870508299, 0.9585538015697025, 0.9498320348744208, 0.97805273083949, 0.9432514619028307, 0.9549880188138176, 0.9493661302674659, 0.9511464862481132, 0.9593787184336492, 0.9511205237798109, 0.944241483838637, 0.9452488478919421, 0.934424324095963, 0.9340046651356714, 0.9447905494768725, 0.9521580083529823, 0.9607713614599237, 0.9612057257245271, 0.9571603472162935, 0.9534394995618378, 0.9560491332897795, 0.9562880691308735, 0.9502543306478993, 0.9887969457683071, 0.9844475610521498, 0.9703092764218383, 0.9683854750579083, 0.9900655753714881, 0.9830079246333444, 0.9636740297303403, 0.9731509864834889, 0.9786616785857983, 0.9861784861675514, 0.9766449321320263, 0.97328058312292, 0.9692036550916917, 0.9791802676382718, 0.9512074405013154, 0.9704762333424803, 0.9562749728451952, 0.9599912577282568, 0.9618130017386347, 0.9813710583289048, 0.9552186589864572, 0.9728392458172324, 0.9464798968411932, 0.9706632372432845, 0.9813490876486263, 0.9515104738933602, 0.9482004947243902, 0.9714170239468505, 0.9772859292603375, 0.9553747824380219, 0.9665171572552347, 0.9643764840150068, 0.9574321290889907, 0.9652620948002442, 0.9641792541293726, 0.9599322305088909, 0.9611940765379767, 0.958594752691012, 0.9704561985225542, 0.9570539946545304, 0.9532528625169306, 0.9666261836172263, 0.9541905030941763, 0.9589259777767206, 0.9548868876115764, 0.9426476898613748, 0.9375047582790831, 0.9388208730479753, 0.9556745176893074, 0.9583536192619172, 0.9597576815588394, 0.9477342550734293, 0.9335372254208358, 0.9481617999881018, 0.9458358876928302, 0.9353967159964308, 0.9411308948239779, 0.9512675470120292, 0.9274381642923375, 0.939118595418431, 0.93802874565347, 0.9322343027811479, 0.9221580145782445, 0.9202160731951214, 0.9469225393658628, 0.9227857400595576, 0.9204148545965435, 0.9205587687333197, 0.9261796151781556, 0.937662564127673, 0.9362083317636246, 0.9328110586723528, 0.9354728705604749, 0.9370399356053707, 0.9399066252576532, 0.9391096007848825, 0.9371784529620177, 0.9336837380073038, 1.0193218684101728, 0.9968980147412889, 0.9952323368130509, 0.9998420059576891, 0.9905508411062558, 0.9749203835898039, 0.9819166897803288, 0.9827439921136149, 0.9653267491043994, 0.946903535188533, 0.9814785477511725, 0.9690532508118519, 0.9592031356440793, 0.950756930489129, 0.9590865172396886, 0.9394369645341096, 0.9458747194447515, 0.9521878752218743, 0.9633270776621324, 0.9651810010386898, 0.9509501638931536, 0.9502724004719132, 0.9405217451409049, 0.9382588093965106, 0.9478188250604611, 0.9511369129547611, 0.9415618336645805, 0.9268939518401432, 0.9487245380574351, 0.9682015074956096, 0.9352837930956233, 0.9532883180095842, 0.9585351486160214, 0.9471843570947431, 0.9522464338218548, 0.950527584285798, 0.948916275074748, 1.0151999827611349, 0.9730160471515836, 0.969217053578443, 0.9547882443609212, 0.9608938541584008, 0.9732405832711077, 0.9663826789924683, 0.9534761852730181, 0.961547470923875, 0.953941802278768, 0.9385864861259469, 0.9449701070924688, 0.9534935178857533, 0.9380048587917762, 0.9474828435353007, 0.9541898752985405, 0.938151989038517, 0.9462077147302139, 0.9315341808385618, 0.9546927180293694, 0.9444330915399404, 0.9432727912942243, 0.9385972205281522, 0.9412941159812955, 0.9387570547921819, 0.9122033936011145, 0.9331787109525672, 0.9104677687894951, 0.9163008823401662, 0.9420318353108371, 0.9355374234958659, 0.9408358850321089, 0.9340646438171455, 0.9436665173494249, 0.9424344246339136, 0.940286953308325, 0.9420318353108371, 1.0224449341263797, 1.0361106041544383, 1.0339477582148004, 1.0456030673225876, 1.0049541444097994, 1.0029282298206705, 1.0180795705474237, 1.0259867407834382, 1.0306699701645468, 1.0130210842948983, 1.0077033046007906, 1.0093561280192294, 1.0041690778962764, 0.9963346555164991, 0.9937187843611581, 0.9975715659544196, 0.9856692685228169, 1.0145573536378498, 0.9653776371206246, 1.0033439459193048, 0.9869650466441339, 0.9978889395518614, 0.9814029365316482, 0.9840528682529678, 0.9838736072973409, 0.9671819611490086, 0.9675704091066715, 0.9578271184179634, 0.9857493010087723, 0.9600613340406489, 0.9667365158858497, 0.9755377267583303, 0.9685946871095813, 0.9675874393896607, 1.0018921341899762, 0.983709613227405, 0.9551923082320734, 0.921387739597112, 0.9289894698917492, 0.8990770673390172, 0.9247241022043389, 0.9089549130780082, 0.9306587111534461, 0.9028197793314877, 0.9207536919435898, 0.91541844111073, 0.9069840655616724, 0.9062672448178196, 0.9301392353327563, 0.9019214166758969, 0.9325893766224386, 0.915166074727056, 0.9054733362133561, 0.9098802564848127, 0.8948760680152167, 0.9049070295173455, 0.9151810105000493, 0.9060115058402439, 0.9009438462435286, 0.9215701487472818, 0.9074135413050992, 0.9031702400177887, 0.8990109644985436, 0.8947087873576917, 0.8991173457461862, 0.9069408963597305, 0.9054284325345505, 0.9093914230887158, 0.91294459530391, 0.9158502294899751, 0.9062755317628353, 0.9048371686436671, 0.9051094815112741, 0.9515190073766908, 0.96446659588328, 0.9492109936241891, 0.921335785710167, 0.936200420554164, 0.9356674599982648, 0.9307974565036413, 0.9479807569013091, 0.9265560945267249, 0.9238098749365524, 0.906522001638709, 0.9066444510399775, 0.9147898370819949, 0.9070387529319591, 0.9129765300255408, 0.906975675744165, 0.9166735386505247, 0.9011808180349686, 0.9064451234215738, 0.886391486794021, 0.9292842523670887, 0.8964153874405206, 0.9097038335845288, 0.8937355795150299, 0.8927252330180283, 0.8970948797307666, 0.9020501902591029, 0.8958851129910034, 0.8878783856129033, 0.9145054803029524, 0.9062825676732938, 0.9006090478730698, 0.9001140633039484, 0.9018806876839734, 0.8979855555572397, 0.8985522313794487, 0.8973593222728403, 0.8437198658907524, 0.8413872424254217, 0.8330500272662341, 0.8495144789454102, 0.8309450135579086, 0.8451637569806376, 0.8406897943883856, 0.8367433477530078, 0.8353133666404874, 0.828993541192086, 0.8355536459947102, 0.8402871138334659, 0.8182496341530653, 0.8227720601696388, 0.8187519881126682, 0.8196284938838061, 0.8181985127712856, 0.8257817539981592, 0.8091785569396641, 0.8276490577111382, 0.8349908678022238, 0.8250291090445743, 0.8208500025330204, 0.8266338065606814, 0.8192756943305188, 0.8178966574026142, 0.8170230753846803, 0.8174716500050454, 0.8193854679735432, 0.8236608811436663, 0.8319163198117228, 0.8291275908465621, 0.8255919758356425, 0.8288133316764189, 0.8301830657532199, 0.8231944096097493, 0.8314321285614177, 0.8250878499044008, 0.8239955179876558, 0.8215898006922241, 0.8233628355140183, 0.8237951079953062], \"Total\": [17.0, 17.0, 17.0, 18.0, 18.0, 17.0, 17.0, 17.0, 17.0, 18.0, 17.0, 17.0, 17.0, 17.0, 17.0, 17.0, 17.0, 17.0, 17.0, 17.0, 17.0, 17.0, 17.0, 17.0, 17.0, 17.0, 17.0, 17.0, 17.0, 17.0, 17.811713628001513, 18.064242242877555, 17.69148548523743, 17.99607804870925, 17.891141609412422, 17.96230503692465, 17.62367192130315, 17.88624395030959, 18.19771036191263, 17.635946594207063, 18.110547538383415, 17.910312815924737, 17.651186409568787, 18.02084064909848, 18.03505287832402, 17.58940446443219, 18.072548086221158, 17.753772759141377, 18.063400457974485, 17.82218451139804, 17.547665844944774, 17.91243899346865, 17.705036003752852, 17.57387601584792, 17.76296586845578, 17.874410586794394, 17.831007227052005, 17.406337760812317, 17.98407134617329, 17.608216967712323, 17.778080798113244, 18.009713661921637, 18.028509039994184, 18.1765913901229, 18.26792420634371, 18.07769337926433, 17.9335634700288, 17.99209416506025, 17.850500083893113, 17.907000516993183, 17.834310438217067, 17.80081017092805, 17.76062628796401, 18.122596942349904, 17.824505552464608, 17.917372609639674, 18.26787361723524, 17.451992750841676, 17.86485416125768, 17.707591903022696, 18.008642323322835, 18.054499519909296, 17.786619153429744, 18.110547538383415, 17.951815076658225, 17.58439984417262, 17.840526901368108, 17.993752610335573, 18.17411922454472, 17.97115475514567, 17.737338969188627, 17.74999777543831, 17.754490484499637, 17.654695526888474, 18.22808727513913, 17.66150407044089, 18.330180923679222, 18.034351683631066, 18.044302998859045, 17.88594020140201, 18.14782310909917, 18.07769337926433, 18.316748325399484, 18.165061174655474, 18.346860235247377, 17.952264819013806, 17.89400723762801, 18.097748911960522, 18.124266971144454, 17.868963156065615, 17.70130690693052, 17.956899702286286, 18.023990789399402, 17.981116312239887, 18.043273670388338, 18.054987715909665, 17.92084949519969, 17.827419925834445, 18.093442645482142, 18.031788304105394, 18.041400355042256, 17.87170590390926, 17.89482977455332, 17.84129463996415, 18.157808772219248, 18.27091449433092, 18.124401197897303, 18.042785922924434, 17.694003283167266, 17.744134102937604, 17.856870478382536, 17.612385390239613, 17.66738876811897, 18.222787913494216, 18.16546744199732, 18.195196035339947, 18.13780128897224, 18.008642323322835, 17.79726742987303, 17.8436617386895, 17.997607076233205, 17.840828058938442, 17.99209416506025, 18.17411922454472, 17.480331583464178, 17.737543929544483, 17.611181242167326, 17.86485416125768, 18.17532402057205, 17.560576740139794, 17.88594020140201, 17.656696150252948, 17.67865443632928, 17.64986895265916, 17.52808321242837, 17.66150407044089, 17.56538830006641, 18.26787361723524, 17.464284352010907, 17.689055228612844, 17.800177045088446, 17.705974573271142, 17.736894271200292, 17.88356011044079, 17.99179623499482, 17.96557527568959, 17.74271161011518, 17.917372609639674, 17.892956182501983, 17.907000516993183, 17.81618787348442, 18.054499519909296, 17.993752610335573, 18.096962378219143, 18.330180923679222, 18.08919671504967, 17.94816552388337, 17.511542341477583, 17.86127438662184, 17.689062018388935, 17.84129463996415, 17.84055747207807, 17.681825038357616, 17.518584602961056, 17.8428918682778, 18.09259760716676, 17.981116312239887, 18.157808772219248, 17.52734903105168, 18.054987715909665, 17.555620654078822, 17.8897363957259, 17.568633758875684, 17.962324936969157, 17.546676908382654, 17.716131654643924, 18.13780128897224, 17.38014388672503, 17.75645383770246, 17.996938623282304, 17.672417877185087, 17.586026124430134, 17.57609113856145, 18.042785922924434, 17.906167970670985, 17.968234157756054, 17.88395731194566, 18.189578806695938, 18.029229976077886, 18.031788304105394, 18.346860235247377, 18.104359046717008, 17.891141609412422, 18.058213592990448, 18.016188266522956, 17.826487736651647, 17.623546631042778, 17.74344556474492, 17.58503030017041, 17.622363588210458, 17.620351549809648, 17.70133561908615, 17.653003297469287, 17.692178864437814, 17.855759107950387, 17.79117916271045, 17.466997273055718, 17.883170810062886, 17.559702328191413, 17.926182003248766, 17.625856003985184, 17.79072732172633, 17.88863444194707, 17.781024709286864, 17.79357109878637, 17.729720054923945, 17.634938492394543, 17.59135307514124, 17.762846966937502, 17.63693924832089, 17.76211185468482, 17.645558623565396, 17.77779431893807, 17.585617548771655, 17.85155251311679, 17.995540436865223, 17.791839730768988, 17.970469968666453, 18.063400457974485, 17.913180448437384, 17.91884039632763, 17.825855718748112, 17.87899952154138, 17.86048077768828, 18.002221703214794, 18.072924651235876, 17.99390523047339, 18.129841437956866, 18.26787361723524, 17.99209416506025, 17.997607076233205, 17.850500083893113, 17.956899702286286, 18.17411922454472, 18.023990789399402, 17.8436617386895, 17.868963156065615, 17.87170590390926, 18.043273670388338, 17.92084949519969, 18.097748911960522, 17.89400723762801, 17.560576740139794, 17.70130690693052, 17.952264819013806, 17.827419925834445, 17.451992750841676, 17.521027881284603, 17.834310438217067, 17.530794728767525, 17.611181242167326, 17.696665843953486, 17.66150407044089, 17.583701068837463, 18.031788304105394, 17.614001079792864, 17.47364186247777, 18.054499519909296, 17.984199292525037, 18.346860235247377, 18.124266971144454, 18.093442645482142, 17.901430459570175, 17.95073383309845, 18.034351683631066, 17.840526901368108, 18.072548086221158, 17.964131103242615, 17.611923424856876, 17.820373938027064, 18.07769337926433, 17.566259536234067, 17.532627838854204, 17.58789174173347, 17.749890899960818, 17.42085623460116, 17.726249791479525, 17.72112393214751, 17.602532748709326, 18.028509039994184, 17.885869793712075, 18.158416053353477, 18.03667434135271, 17.499935327265504, 17.873074559856978, 17.755508016286832, 17.62012896345029, 17.76756639239569, 17.698063646779648, 17.705036003752852, 17.68657887629328, 17.921957759105617, 17.30061489498363, 17.93027838603871, 17.91243899346865, 17.74351901230726, 17.850500083893113, 18.2599342225106, 18.0632064514801, 18.27391537387673, 18.14782310909917, 18.02084064909848, 18.112787775602232, 17.693808154771375, 17.47793551888358, 17.744134102937604, 17.694003283167266, 17.957830169598395, 18.032154105510024, 17.971288350203952, 17.98045199484264, 17.554219506023205, 17.70954233020408, 17.537866950121888, 17.837359371534276, 17.66113268094528, 17.623546631042778, 17.74825181627197, 17.87899952154138, 17.764338652105902, 17.74033990220925, 17.86048077768828, 18.079853748458515, 17.856870478382536, 17.713476344912102, 17.4641610108866, 17.719148866879372, 18.076557321568085, 17.91124410287761, 17.70551405301561, 17.6981162762271, 17.800000403977833, 17.737543929544483, 18.025298383796727, 18.190609516253573, 18.222787913494216, 17.99390523047339, 17.920810762825973, 17.959317024115677, 18.064514750039393, 18.0556384774302, 17.89202724869164, 18.016867472103915, 17.99607804870925, 17.811713628001513, 17.68607511727813, 17.62367192130315, 17.414167405117887, 18.03500866979639, 18.072548086221158, 17.635946594207063, 18.26792420634371, 17.605660949029634, 17.78727079592292, 17.96230503692465, 17.9776627098959, 17.504675326630753, 17.97807337063808, 17.67151223640598, 18.003282568933827, 17.69148548523743, 18.028509039994184, 17.778080798113244, 17.711991843075534, 17.910312815924737, 17.995540436865223, 17.649428247273985, 17.831007227052005, 17.991240962654285, 17.958176645106334, 18.064242242877555, 17.67324722707365, 17.822336680235225, 18.002221703214794, 17.898141556659624, 17.98407134617329, 18.19771036191263, 18.033384808094755, 17.58789174173347, 17.964131103242615, 17.602162856882273, 17.820373938027064, 17.74351901230726, 17.749890899960818, 17.611923424856876, 17.566259536234067, 18.04273786214368, 18.04244029365768, 18.072548086221158, 17.602532748709326, 17.726249791479525, 17.705036003752852, 17.43377838018027, 18.03667434135271, 17.30061489498363, 17.850221387394566, 17.73828234678085, 17.96865808980521, 17.793130303178735, 18.27391537387673, 18.2599342225106, 17.445490630747567, 17.663338193628295, 17.89733350326126, 17.948153156295458, 17.68657887629328, 17.664351856803407, 17.980320111262753, 18.0632064514801, 17.885869793712075, 18.147462950533225, 18.158416053353477, 17.97115475514567, 17.926435236973795, 18.112787775602232, 17.744134102937604, 17.87899952154138, 17.47793551888358, 17.66738876811897, 17.623546631042778, 17.837359371534276, 17.554219506023205, 17.797639050516054, 17.5632034499478, 17.645479193068127, 17.88405071175262, 17.652883167669103, 17.663033381944732, 17.786015136644938, 17.8436617386895, 17.638587939585523, 17.90299210521253, 17.745078644014633, 18.27906117054319, 17.63382383616667, 17.86048077768828, 17.779525906266045, 17.815138103962433, 17.98045199484264, 17.838433944162194, 17.713476344912102, 17.73570998166426, 17.537866950121888, 17.539671478584115, 17.74329568361327, 17.902589214785735, 18.079853748458515, 18.10309660229521, 18.029229976077886, 17.957830169598395, 18.032154105510024, 18.27091449433092, 18.195196035339947, 17.615145589638583, 17.683685152802166, 17.56115613836173, 17.52734903105168, 17.9492810110581, 17.86127438662184, 17.511542341477583, 17.689062018388935, 17.810316223126172, 17.964779500791643, 17.84055747207807, 17.799768633596166, 17.749824640190266, 17.956236201510777, 17.487144263582174, 17.8428918682778, 17.586026124430134, 17.681825038357616, 17.716131654643924, 18.09259760716676, 17.626068444538, 17.994980378963763, 17.518584602961056, 17.971033045394776, 18.189578806695938, 17.637972711832752, 17.581895900693137, 18.029229976077886, 18.157808772219248, 17.764338652105902, 17.981116312239887, 17.962324936969157, 17.814960422630616, 18.154188279502744, 18.170040828001188, 17.95220312968788, 18.042785922924434, 17.923442198259075, 17.766059028400793, 17.622363588210458, 17.68010634649486, 17.993359407854832, 17.768676482073616, 17.86363043426736, 17.826487736651647, 17.606781819680762, 17.518407458711618, 17.562287089014923, 17.87863857086377, 18.02084064909848, 18.047935826138545, 17.830340490399234, 17.637204666212487, 17.93597711074783, 17.909834023522347, 17.712652556170685, 17.835460854909012, 18.052605497803647, 17.605660949029634, 17.88356011044079, 17.868365809564384, 17.75861859108864, 17.56740630883972, 17.540082038309624, 18.05975449032727, 17.614253153400742, 17.570982426127564, 17.575550345002856, 17.70371374322002, 17.971288350203952, 17.960812479807778, 17.87319128907761, 17.949587129763394, 18.003282568933827, 18.096962378219143, 18.154188279502744, 18.10027315943206, 18.013526397887563, 17.783543480399427, 17.89482977455332, 17.88395731194566, 18.042785922924434, 18.074109361224323, 17.810316223126172, 17.996938623282304, 18.124401197897303, 17.81470344639031, 17.493914389965546, 18.13780128897224, 17.91124410287761, 17.777836824092052, 17.627248440711902, 17.881163169900884, 17.518584602961056, 17.640752999749964, 17.78581083561119, 18.01185203881115, 18.054987715909665, 17.81505084433349, 17.8161793396166, 17.654688340688246, 17.631974146806897, 17.84129463996415, 17.904775090425574, 17.752610503059138, 17.47793551888358, 17.89284847714249, 18.27091449433092, 17.663815107546487, 18.068816276793445, 18.190609516253573, 17.98180340433644, 18.222787913494216, 18.21316514753719, 18.346860235247377, 17.962324936969157, 17.615145589638583, 17.613293603373776, 17.66738876811897, 17.783543480399427, 18.13780128897224, 18.068816276793445, 17.8897363957259, 18.042785922924434, 17.91124410287761, 17.623394476028984, 17.752610503059138, 17.949587129763394, 17.672417877185087, 17.861742795961266, 17.996938623282304, 17.716131654643924, 17.92933485686715, 17.654688340688246, 18.09885649235326, 17.90451784869415, 17.88395731194566, 17.799768633596166, 17.926182003248766, 17.906167970670985, 17.410105802063104, 17.810650268014403, 17.38014388672503, 17.499812432117828, 17.993408150095487, 17.88599408444662, 18.016188266522956, 17.87759076157188, 18.157808772219248, 18.124401197897303, 18.104359046717008, 18.27091449433092, 17.58789174173347, 17.964131103242615, 17.948153156295458, 18.2599342225106, 17.602162856882273, 17.6270187511103, 17.895733814701096, 18.04244029365768, 18.158416053353477, 17.899878909264732, 17.831301738572858, 17.89733350326126, 17.926435236973795, 17.831526937872972, 17.785601105488706, 17.91758250721461, 17.74351901230726, 18.27391537387673, 17.406337760812317, 18.09885649235326, 17.805665051814497, 18.03667434135271, 17.820373938027064, 17.885681704794177, 17.931344900121175, 17.684663309244, 17.726249791479525, 17.611923424856876, 18.15189754206183, 17.71965757568187, 17.875934272092962, 18.226000525314024, 18.03634855977526, 18.04924095929207, 17.968234157756054, 18.189578806695938, 17.831000025287924, 17.521704674825216, 17.86127438662184, 17.294159846452537, 17.81618787348442, 17.5604216074187, 18.01185203881115, 17.47850632987162, 17.84055747207807, 17.745931701938286, 17.586026124430134, 17.581237769618483, 18.065311615366358, 17.546676908382654, 18.162861637569247, 17.824176360745113, 17.676289685429218, 17.771061854317978, 17.493370004055706, 17.70356296563739, 17.912357093351897, 17.7392718111257, 17.648741967836997, 18.05975449032727, 17.787221940787663, 17.704304461046988, 17.644837901012558, 17.568633758875684, 17.659544671848582, 17.821338995166155, 17.800177045088446, 17.953690660322906, 18.071737845545563, 18.245082436479148, 17.907907479291865, 17.839989804702284, 17.881163169900884, 17.557717236272882, 18.04244029365768, 17.899878909264732, 17.52531548085582, 17.913286102226788, 17.964131103242615, 17.89733350326126, 18.2599342225106, 17.895733814701096, 17.885869793712075, 17.602532748709326, 17.62012896345029, 17.805665051814497, 17.664351856803407, 17.785601105488706, 17.68391508515762, 17.931344900121175, 17.635700325473405, 17.749890899960818, 17.406337760812317, 18.27391537387673, 17.654688340688246, 17.92038219071209, 17.642685200676283, 17.6270187511103, 17.748892567485164, 17.850221387394566, 17.747474190573605, 17.611923424856876, 18.158416053353477, 18.03667434135271, 17.906315139825644, 17.91758250721461, 18.067531136680476, 17.994980378963763, 18.15189754206183, 18.27091449433092, 17.64986895265916, 17.622363588210458, 17.638386658698924, 18.002221703214794, 17.648037234291458, 17.953690660322906, 17.86051529548756, 17.811567746976724, 17.853124198845528, 17.733054115782625, 17.878133767779172, 18.022553723799685, 17.551555529571807, 17.649870027450714, 17.570528426944556, 17.593433367851375, 17.56740630883972, 17.7392718111257, 17.396415999120798, 17.79726742987303, 17.958176645106334, 17.766059028400793, 17.6900416852733, 17.814947565805202, 17.6739052695165, 17.649111241571074, 17.630335582886175, 17.648741967836997, 17.692613422947307, 17.811963027165305, 17.993359407854832, 17.93668562284104, 17.88356011044079, 18.003282568933827, 18.11261011381586, 17.851901480548186, 18.247130840826436, 17.960632200084564, 18.070817102084344, 17.841911119233757, 18.071737845545563, 18.17532402057205], \"Category\": [\"Default\", \"Default\", \"Default\", \"Default\", \"Default\", \"Default\", \"Default\", \"Default\", \"Default\", \"Default\", \"Default\", \"Default\", \"Default\", \"Default\", \"Default\", \"Default\", \"Default\", \"Default\", \"Default\", \"Default\", \"Default\", \"Default\", \"Default\", \"Default\", \"Default\", \"Default\", \"Default\", \"Default\", \"Default\", \"Default\", \"Topic1\", \"Topic1\", \"Topic1\", \"Topic1\", \"Topic1\", \"Topic1\", \"Topic1\", \"Topic1\", \"Topic1\", \"Topic1\", \"Topic1\", \"Topic1\", \"Topic1\", \"Topic1\", \"Topic1\", \"Topic1\", \"Topic1\", \"Topic1\", \"Topic1\", \"Topic1\", \"Topic1\", \"Topic1\", \"Topic1\", \"Topic1\", \"Topic1\", \"Topic1\", \"Topic1\", \"Topic1\", \"Topic1\", \"Topic1\", \"Topic1\", \"Topic1\", \"Topic1\", \"Topic1\", \"Topic1\", \"Topic1\", \"Topic2\", \"Topic2\", \"Topic2\", \"Topic2\", \"Topic2\", \"Topic2\", \"Topic2\", \"Topic2\", \"Topic2\", \"Topic2\", \"Topic2\", \"Topic2\", \"Topic2\", \"Topic2\", \"Topic2\", \"Topic2\", \"Topic2\", \"Topic2\", \"Topic2\", \"Topic2\", \"Topic2\", \"Topic2\", \"Topic2\", \"Topic2\", \"Topic2\", \"Topic2\", \"Topic2\", \"Topic2\", \"Topic2\", \"Topic2\", \"Topic2\", \"Topic2\", \"Topic2\", \"Topic2\", \"Topic2\", \"Topic2\", \"Topic2\", \"Topic2\", \"Topic3\", \"Topic3\", \"Topic3\", \"Topic3\", \"Topic3\", \"Topic3\", \"Topic3\", \"Topic3\", \"Topic3\", \"Topic3\", \"Topic3\", \"Topic3\", \"Topic3\", \"Topic3\", \"Topic3\", \"Topic3\", \"Topic3\", \"Topic3\", \"Topic3\", \"Topic3\", \"Topic3\", \"Topic3\", \"Topic3\", \"Topic3\", \"Topic3\", \"Topic3\", \"Topic3\", \"Topic3\", \"Topic3\", \"Topic3\", \"Topic3\", \"Topic3\", \"Topic3\", \"Topic4\", \"Topic4\", \"Topic4\", \"Topic4\", \"Topic4\", \"Topic4\", \"Topic4\", \"Topic4\", \"Topic4\", \"Topic4\", \"Topic4\", \"Topic4\", \"Topic4\", \"Topic4\", \"Topic4\", \"Topic4\", \"Topic4\", \"Topic4\", \"Topic4\", \"Topic4\", \"Topic4\", \"Topic4\", \"Topic4\", \"Topic4\", \"Topic4\", \"Topic4\", \"Topic4\", \"Topic4\", \"Topic4\", \"Topic4\", \"Topic4\", \"Topic4\", \"Topic4\", \"Topic4\", \"Topic4\", \"Topic4\", \"Topic4\", \"Topic4\", \"Topic4\", \"Topic4\", \"Topic5\", \"Topic5\", \"Topic5\", \"Topic5\", \"Topic5\", \"Topic5\", \"Topic5\", \"Topic5\", \"Topic5\", \"Topic5\", \"Topic5\", \"Topic5\", \"Topic5\", \"Topic5\", \"Topic5\", \"Topic5\", \"Topic5\", \"Topic5\", \"Topic5\", \"Topic5\", \"Topic5\", \"Topic5\", \"Topic5\", \"Topic5\", \"Topic5\", \"Topic5\", \"Topic5\", \"Topic5\", \"Topic5\", \"Topic5\", \"Topic5\", \"Topic5\", \"Topic5\", \"Topic5\", \"Topic5\", \"Topic5\", \"Topic5\", \"Topic5\", \"Topic6\", \"Topic6\", \"Topic6\", \"Topic6\", \"Topic6\", \"Topic6\", \"Topic6\", \"Topic6\", \"Topic6\", \"Topic6\", \"Topic6\", \"Topic6\", \"Topic6\", \"Topic6\", \"Topic6\", \"Topic6\", \"Topic6\", \"Topic6\", \"Topic6\", \"Topic6\", \"Topic6\", \"Topic6\", \"Topic6\", \"Topic6\", \"Topic6\", \"Topic6\", \"Topic6\", \"Topic6\", \"Topic6\", \"Topic6\", \"Topic6\", \"Topic6\", \"Topic6\", \"Topic6\", \"Topic6\", \"Topic6\", \"Topic6\", \"Topic6\", \"Topic6\", \"Topic6\", \"Topic6\", \"Topic6\", \"Topic6\", \"Topic7\", \"Topic7\", \"Topic7\", \"Topic7\", \"Topic7\", \"Topic7\", \"Topic7\", \"Topic7\", \"Topic7\", \"Topic7\", \"Topic7\", \"Topic7\", \"Topic7\", \"Topic7\", \"Topic7\", \"Topic7\", \"Topic7\", \"Topic7\", \"Topic7\", \"Topic7\", \"Topic7\", \"Topic7\", \"Topic7\", \"Topic7\", \"Topic7\", \"Topic7\", \"Topic7\", \"Topic7\", \"Topic7\", \"Topic7\", \"Topic7\", \"Topic7\", \"Topic7\", \"Topic7\", \"Topic7\", \"Topic7\", \"Topic7\", \"Topic7\", \"Topic8\", \"Topic8\", \"Topic8\", \"Topic8\", \"Topic8\", \"Topic8\", \"Topic8\", \"Topic8\", \"Topic8\", \"Topic8\", \"Topic8\", \"Topic8\", \"Topic8\", \"Topic8\", \"Topic8\", \"Topic8\", \"Topic8\", \"Topic8\", \"Topic8\", \"Topic8\", \"Topic8\", \"Topic8\", \"Topic8\", \"Topic8\", \"Topic8\", \"Topic8\", \"Topic8\", \"Topic8\", \"Topic8\", \"Topic8\", \"Topic8\", \"Topic8\", \"Topic8\", \"Topic8\", \"Topic8\", \"Topic8\", \"Topic8\", \"Topic9\", \"Topic9\", \"Topic9\", \"Topic9\", \"Topic9\", \"Topic9\", \"Topic9\", \"Topic9\", \"Topic9\", \"Topic9\", \"Topic9\", \"Topic9\", \"Topic9\", \"Topic9\", \"Topic9\", \"Topic9\", \"Topic9\", \"Topic9\", \"Topic9\", \"Topic9\", \"Topic9\", \"Topic9\", \"Topic9\", \"Topic9\", \"Topic9\", \"Topic9\", \"Topic9\", \"Topic9\", \"Topic9\", \"Topic9\", \"Topic9\", \"Topic9\", \"Topic9\", \"Topic9\", \"Topic9\", \"Topic9\", \"Topic9\", \"Topic9\", \"Topic9\", \"Topic9\", \"Topic10\", \"Topic10\", \"Topic10\", \"Topic10\", \"Topic10\", \"Topic10\", \"Topic10\", \"Topic10\", \"Topic10\", \"Topic10\", \"Topic10\", \"Topic10\", \"Topic10\", \"Topic10\", \"Topic10\", \"Topic10\", \"Topic10\", \"Topic10\", \"Topic10\", \"Topic10\", \"Topic10\", \"Topic10\", \"Topic10\", \"Topic10\", \"Topic10\", \"Topic10\", \"Topic10\", \"Topic10\", \"Topic10\", \"Topic10\", \"Topic10\", \"Topic10\", \"Topic10\", \"Topic10\", \"Topic10\", \"Topic11\", \"Topic11\", \"Topic11\", \"Topic11\", \"Topic11\", \"Topic11\", \"Topic11\", \"Topic11\", \"Topic11\", \"Topic11\", \"Topic11\", \"Topic11\", \"Topic11\", \"Topic11\", \"Topic11\", \"Topic11\", \"Topic11\", \"Topic11\", \"Topic11\", \"Topic11\", \"Topic11\", \"Topic11\", \"Topic11\", \"Topic11\", \"Topic11\", \"Topic11\", \"Topic11\", \"Topic11\", \"Topic11\", \"Topic11\", \"Topic11\", \"Topic11\", \"Topic11\", \"Topic11\", \"Topic11\", \"Topic11\", \"Topic11\", \"Topic12\", \"Topic12\", \"Topic12\", \"Topic12\", \"Topic12\", \"Topic12\", \"Topic12\", \"Topic12\", \"Topic12\", \"Topic12\", \"Topic12\", \"Topic12\", \"Topic12\", \"Topic12\", \"Topic12\", \"Topic12\", \"Topic12\", \"Topic12\", \"Topic12\", \"Topic12\", \"Topic12\", \"Topic12\", \"Topic12\", \"Topic12\", \"Topic12\", \"Topic12\", \"Topic12\", \"Topic12\", \"Topic12\", \"Topic12\", \"Topic12\", \"Topic12\", \"Topic12\", \"Topic12\", \"Topic12\", \"Topic12\", \"Topic12\", \"Topic12\", \"Topic13\", \"Topic13\", \"Topic13\", \"Topic13\", \"Topic13\", \"Topic13\", \"Topic13\", \"Topic13\", \"Topic13\", \"Topic13\", \"Topic13\", \"Topic13\", \"Topic13\", \"Topic13\", \"Topic13\", \"Topic13\", \"Topic13\", \"Topic13\", \"Topic13\", \"Topic13\", \"Topic13\", \"Topic13\", \"Topic13\", \"Topic13\", \"Topic13\", \"Topic13\", \"Topic13\", \"Topic13\", \"Topic13\", \"Topic13\", \"Topic13\", \"Topic13\", \"Topic13\", \"Topic13\", \"Topic13\", \"Topic13\", \"Topic13\", \"Topic13\", \"Topic14\", \"Topic14\", \"Topic14\", \"Topic14\", \"Topic14\", \"Topic14\", \"Topic14\", \"Topic14\", \"Topic14\", \"Topic14\", \"Topic14\", \"Topic14\", \"Topic14\", \"Topic14\", \"Topic14\", \"Topic14\", \"Topic14\", \"Topic14\", \"Topic14\", \"Topic14\", \"Topic14\", \"Topic14\", \"Topic14\", \"Topic14\", \"Topic14\", \"Topic14\", \"Topic14\", \"Topic14\", \"Topic14\", \"Topic14\", \"Topic14\", \"Topic14\", \"Topic14\", \"Topic14\", \"Topic14\", \"Topic14\", \"Topic14\", \"Topic14\", \"Topic14\", \"Topic14\", \"Topic15\", \"Topic15\", \"Topic15\", \"Topic15\", \"Topic15\", \"Topic15\", \"Topic15\", \"Topic15\", \"Topic15\", \"Topic15\", \"Topic15\", \"Topic15\", \"Topic15\", \"Topic15\", \"Topic15\", \"Topic15\", \"Topic15\", \"Topic15\", \"Topic15\", \"Topic15\", \"Topic15\", \"Topic15\", \"Topic15\", \"Topic15\", \"Topic15\", \"Topic15\", \"Topic15\", \"Topic15\", \"Topic15\", \"Topic15\", \"Topic15\", \"Topic15\", \"Topic15\", \"Topic15\", \"Topic15\", \"Topic15\", \"Topic15\", \"Topic16\", \"Topic16\", \"Topic16\", \"Topic16\", \"Topic16\", \"Topic16\", \"Topic16\", \"Topic16\", \"Topic16\", \"Topic16\", \"Topic16\", \"Topic16\", \"Topic16\", \"Topic16\", \"Topic16\", \"Topic16\", \"Topic16\", \"Topic16\", \"Topic16\", \"Topic16\", \"Topic16\", \"Topic16\", \"Topic16\", \"Topic16\", \"Topic16\", \"Topic16\", \"Topic16\", \"Topic16\", \"Topic16\", \"Topic16\", \"Topic16\", \"Topic16\", \"Topic16\", \"Topic16\", \"Topic16\", \"Topic16\", \"Topic16\", \"Topic17\", \"Topic17\", \"Topic17\", \"Topic17\", \"Topic17\", \"Topic17\", \"Topic17\", \"Topic17\", \"Topic17\", \"Topic17\", \"Topic17\", \"Topic17\", \"Topic17\", \"Topic17\", \"Topic17\", \"Topic17\", \"Topic17\", \"Topic17\", \"Topic17\", \"Topic17\", \"Topic17\", \"Topic17\", \"Topic17\", \"Topic17\", \"Topic17\", \"Topic17\", \"Topic17\", \"Topic17\", \"Topic17\", \"Topic17\", \"Topic17\", \"Topic17\", \"Topic17\", \"Topic17\", \"Topic18\", \"Topic18\", \"Topic18\", \"Topic18\", \"Topic18\", \"Topic18\", \"Topic18\", \"Topic18\", \"Topic18\", \"Topic18\", \"Topic18\", \"Topic18\", \"Topic18\", \"Topic18\", \"Topic18\", \"Topic18\", \"Topic18\", \"Topic18\", \"Topic18\", \"Topic18\", \"Topic18\", \"Topic18\", \"Topic18\", \"Topic18\", \"Topic18\", \"Topic18\", \"Topic18\", \"Topic18\", \"Topic18\", \"Topic18\", \"Topic18\", \"Topic18\", \"Topic18\", \"Topic18\", \"Topic18\", \"Topic18\", \"Topic18\", \"Topic18\", \"Topic18\", \"Topic19\", \"Topic19\", \"Topic19\", \"Topic19\", \"Topic19\", \"Topic19\", \"Topic19\", \"Topic19\", \"Topic19\", \"Topic19\", \"Topic19\", \"Topic19\", \"Topic19\", \"Topic19\", \"Topic19\", \"Topic19\", \"Topic19\", \"Topic19\", \"Topic19\", \"Topic19\", \"Topic19\", \"Topic19\", \"Topic19\", \"Topic19\", \"Topic19\", \"Topic19\", \"Topic19\", \"Topic19\", \"Topic19\", \"Topic19\", \"Topic19\", \"Topic19\", \"Topic19\", \"Topic19\", \"Topic19\", \"Topic19\", \"Topic19\", \"Topic20\", \"Topic20\", \"Topic20\", \"Topic20\", \"Topic20\", \"Topic20\", \"Topic20\", \"Topic20\", \"Topic20\", \"Topic20\", \"Topic20\", \"Topic20\", \"Topic20\", \"Topic20\", \"Topic20\", \"Topic20\", \"Topic20\", \"Topic20\", \"Topic20\", \"Topic20\", \"Topic20\", \"Topic20\", \"Topic20\", \"Topic20\", \"Topic20\", \"Topic20\", \"Topic20\", \"Topic20\", \"Topic20\", \"Topic20\", \"Topic20\", \"Topic20\", \"Topic20\", \"Topic20\", \"Topic20\", \"Topic20\", \"Topic20\", \"Topic20\", \"Topic20\", \"Topic20\", \"Topic20\", \"Topic20\"], \"logprob\": [30.0, 29.0, 28.0, 27.0, 26.0, 25.0, 24.0, 23.0, 22.0, 21.0, 20.0, 19.0, 18.0, 17.0, 16.0, 15.0, 14.0, 13.0, 12.0, 11.0, 10.0, 9.0, 8.0, 7.0, 6.0, 5.0, 4.0, 3.0, 2.0, 1.0, -7.404, -7.397, -7.4247, -7.4084, -7.4241, -7.4278, -7.4557, -7.4439, -7.4277, -7.4594, -7.4366, -7.4507, -7.4707, -7.4501, -7.4526, -7.4802, -7.4548, -7.4727, -7.4555, -7.4692, -7.4865, -7.466, -7.4778, -7.4856, -7.477, -7.4717, -7.4763, -7.5009, -7.4687, -7.4924, -7.4829, -7.4727, -7.4754, -7.4757, -7.4762, -7.48, -7.4418, -7.4499, -7.4644, -7.4647, -7.4727, -7.4761, -7.4812, -7.4624, -7.4804, -7.4756, -7.4568, -7.5043, -7.4832, -7.4931, -7.4765, -7.4769, -7.494, -7.4777, -7.4866, -7.5076, -7.495, -7.4878, -7.4782, -7.4907, -7.5055, -7.5052, -7.5053, -7.511, -7.4795, -7.5113, -7.4743, -7.4924, -7.4942, -7.5031, -7.4998, -7.5013, -7.5005, -7.5016, -7.3254, -7.35, -7.3577, -7.3466, -7.3541, -7.371, -7.3843, -7.3719, -7.3748, -7.3778, -7.375, -7.3756, -7.3866, -7.4017, -7.395, -7.4051, -7.4129, -7.4314, -7.4389, -7.4437, -7.4279, -7.4276, -7.4363, -7.4419, -7.4618, -7.4594, -7.4533, -7.4718, -7.47, -7.4406, -7.4509, -7.4528, -7.4586, -7.4631, -7.4825, -7.4818, -7.4734, -7.4831, -7.4749, -7.4659, -7.5057, -7.4933, -7.5018, -7.4912, -7.4764, -7.5123, -7.4941, -7.5077, -7.5073, -7.5093, -7.517, -7.5106, -7.5162, -7.4785, -7.5243, -7.5119, -7.5066, -7.512, -7.5108, -7.5029, -7.4978, -7.4998, -7.5126, -7.5034, -7.5052, -7.5063, -7.5091, -7.5035, -7.5056, -7.5068, -7.5053, -7.508, -7.5092, -7.4535, -7.4388, -7.4496, -7.444, -7.4441, -7.4531, -7.4656, -7.4479, -7.4345, -7.4433, -7.4376, -7.479, -7.4502, -7.479, -7.4634, -7.4815, -7.4598, -7.4846, -7.4755, -7.4527, -7.4959, -7.4745, -7.4619, -7.4808, -7.4859, -7.4874, -7.4614, -7.4704, -7.467, -7.4726, -7.4602, -7.4681, -7.4723, -7.4666, -7.4748, -7.478, -7.4776, -7.4787, -7.4405, -7.4778, -7.4811, -7.4924, -7.4904, -7.4944, -7.4956, -7.5016, -7.5015, -7.4939, -7.4976, -7.518, -7.4947, -7.513, -7.4929, -7.5105, -7.5015, -7.4966, -7.5027, -7.5054, -7.5093, -7.5148, -7.5175, -7.5084, -7.5159, -7.5088, -7.5156, -7.5084, -7.5193, -7.5046, -7.4966, -7.5084, -7.5003, -7.4961, -7.5032, -7.5039, -7.5074, -7.5064, -7.5072, -7.5051, -7.5047, -7.5061, -7.5054, -7.3941, -7.4112, -7.4134, -7.4287, -7.4264, -7.4178, -7.4299, -7.4415, -7.4438, -7.4449, -7.4372, -7.4447, -7.4402, -7.4531, -7.4751, -7.4681, -7.4593, -7.4674, -7.4891, -7.4888, -7.4712, -7.4931, -7.4896, -7.4858, -7.4889, -7.4936, -7.4689, -7.4946, -7.5029, -7.4703, -7.4745, -7.4598, -7.4707, -7.4731, -7.4865, -7.4879, -7.4881, -7.4887, -7.3652, -7.3845, -7.4284, -7.4222, -7.4105, -7.4498, -7.4523, -7.4536, -7.4454, -7.4652, -7.4494, -7.4503, -7.4577, -7.435, -7.4429, -7.4309, -7.4429, -7.474, -7.4537, -7.4623, -7.4702, -7.4628, -7.4699, -7.4705, -7.4718, -7.4621, -7.4974, -7.4624, -7.4636, -7.4743, -7.4692, -7.4508, -7.4606, -7.4581, -7.461, -7.4685, -7.4686, -7.4654, -7.4826, -7.4749, -7.48, -7.4792, -7.4756, -7.481, -7.4805, -7.5085, -7.5018, -7.5126, -7.4981, -7.5093, -7.5116, -7.5046, -7.4979, -7.5051, -7.5072, -7.501, -7.489, -7.5018, -7.5099, -7.5242, -7.5113, -7.4914, -7.501, -7.5126, -7.5134, -7.508, -7.5124, -7.4985, -7.495, -7.4946, -7.5048, -7.5072, -7.5069, -7.5065, -7.5069, -7.5088, -7.5086, -7.3884, -7.4323, -7.4488, -7.463, -7.4787, -7.4507, -7.4519, -7.477, -7.4425, -7.4799, -7.4716, -7.4628, -7.4629, -7.4937, -7.4682, -7.486, -7.4692, -7.487, -7.4686, -7.4836, -7.4884, -7.4778, -7.4748, -7.4945, -7.4847, -7.4776, -7.4796, -7.4751, -7.4979, -7.4907, -7.4824, -7.4893, -7.4876, -7.4859, -7.4892, -7.4015, -7.3869, -7.4078, -7.4122, -7.4244, -7.4336, -7.4454, -7.4505, -7.426, -7.4263, -7.4247, -7.4511, -7.4449, -7.4511, -7.4711, -7.4371, -7.4798, -7.4501, -7.4578, -7.4463, -7.4573, -7.4313, -7.4324, -7.4781, -7.4675, -7.4555, -7.453, -7.4695, -7.471, -7.4539, -7.4504, -7.4598, -7.4474, -7.4491, -7.4596, -7.461, -7.46, -7.4508, -7.4623, -7.5019, -7.4921, -7.4991, -7.4951, -7.5117, -7.4995, -7.513, -7.5114, -7.4989, -7.5138, -7.5144, -7.5091, -7.5069, -7.5199, -7.5053, -7.5144, -7.4852, -7.5214, -7.509, -7.5149, -7.5131, -7.5044, -7.5131, -7.5203, -7.5193, -7.5308, -7.5312, -7.5198, -7.512, -7.503, -7.5025, -7.5068, -7.5106, -7.5079, -7.5077, -7.514, -7.4726, -7.477, -7.4914, -7.4934, -7.4713, -7.4784, -7.4983, -7.4885, -7.4829, -7.4752, -7.4849, -7.4884, -7.4926, -7.4823, -7.5113, -7.4913, -7.506, -7.5021, -7.5002, -7.4801, -7.5071, -7.4888, -7.5163, -7.4911, -7.4801, -7.511, -7.5145, -7.4903, -7.4843, -7.507, -7.4954, -7.4976, -7.5048, -7.4967, -7.4978, -7.5022, -7.5009, -7.5036, -7.4783, -7.4922, -7.4962, -7.4823, -7.4952, -7.4903, -7.4945, -7.5074, -7.5128, -7.5114, -7.4936, -7.4909, -7.4894, -7.502, -7.5171, -7.5015, -7.504, -7.5151, -7.509, -7.4983, -7.5236, -7.5111, -7.5123, -7.5185, -7.5294, -7.5315, -7.5029, -7.5287, -7.5312, -7.5311, -7.525, -7.5127, -7.5142, -7.5179, -7.515, -7.5133, -7.5103, -7.5111, -7.5132, -7.5169, -7.4274, -7.4496, -7.4513, -7.4467, -7.456, -7.4719, -7.4647, -7.4639, -7.4818, -7.5011, -7.4652, -7.4779, -7.4881, -7.497, -7.4883, -7.509, -7.5021, -7.4955, -7.4839, -7.4819, -7.4968, -7.4975, -7.5078, -7.5102, -7.5001, -7.4966, -7.5067, -7.5224, -7.4991, -7.4788, -7.5134, -7.4943, -7.4888, -7.5008, -7.4954, -7.4972, -7.4989, -7.4185, -7.461, -7.4649, -7.4799, -7.4735, -7.4607, -7.4678, -7.4812, -7.4728, -7.4808, -7.497, -7.4902, -7.4812, -7.4976, -7.4875, -7.4805, -7.4974, -7.4889, -7.5045, -7.48, -7.4908, -7.492, -7.497, -7.4941, -7.4968, -7.5255, -7.5028, -7.5274, -7.521, -7.4933, -7.5002, -7.4946, -7.5018, -7.4916, -7.4929, -7.4952, -7.4933, -7.411, -7.3977, -7.3998, -7.3886, -7.4283, -7.4303, -7.4153, -7.4075, -7.403, -7.4203, -7.4255, -7.4239, -7.429, -7.4369, -7.4395, -7.4356, -7.4476, -7.4187, -7.4684, -7.4299, -7.4463, -7.4353, -7.452, -7.4493, -7.4495, -7.4666, -7.4662, -7.4763, -7.4475, -7.474, -7.467, -7.458, -7.4651, -7.4661, -7.4099, -7.4283, -7.4577, -7.4937, -7.4855, -7.5182, -7.4901, -7.5073, -7.4837, -7.5141, -7.4944, -7.5002, -7.5095, -7.5102, -7.4842, -7.5151, -7.4816, -7.5005, -7.5111, -7.5063, -7.5229, -7.5118, -7.5005, -7.5105, -7.5161, -7.4935, -7.509, -7.5137, -7.5183, -7.5231, -7.5182, -7.5095, -7.5112, -7.5068, -7.5029, -7.4997, -7.5102, -7.5118, -7.5115, -7.422, -7.4085, -7.4244, -7.4542, -7.4382, -7.4388, -7.444, -7.4257, -7.4486, -7.4515, -7.4704, -7.4703, -7.4614, -7.4699, -7.4633, -7.4699, -7.4593, -7.4763, -7.4705, -7.4929, -7.4456, -7.4816, -7.4669, -7.4846, -7.4858, -7.4809, -7.4754, -7.4822, -7.4912, -7.4617, -7.4707, -7.477, -7.4775, -7.4756, -7.4799, -7.4793, -7.4806, -7.4978, -7.5006, -7.5105, -7.4909, -7.513, -7.4961, -7.5014, -7.5061, -7.5078, -7.5154, -7.5075, -7.5019, -7.5284, -7.5229, -7.5278, -7.5268, -7.5285, -7.5193, -7.5396, -7.517, -7.5082, -7.5202, -7.5253, -7.5182, -7.5272, -7.5289, -7.5299, -7.5294, -7.5271, -7.5219, -7.5119, -7.5152, -7.5195, -7.5156, -7.514, -7.5224, -7.5125, -7.5201, -7.5214, -7.5244, -7.5222, -7.5217], \"loglift\": [30.0, 29.0, 28.0, 27.0, 26.0, 25.0, 24.0, 23.0, 22.0, 21.0, 20.0, 19.0, 18.0, 17.0, 16.0, 15.0, 14.0, 13.0, 12.0, 11.0, 10.0, 9.0, 8.0, 7.0, 6.0, 5.0, 4.0, 3.0, 2.0, 1.0, 0.1961, 0.1891, 0.1822, 0.1815, 0.1716, 0.1639, 0.155, 0.152, 0.151, 0.1506, 0.1469, 0.1439, 0.1385, 0.1384, 0.1351, 0.1325, 0.1308, 0.1307, 0.1306, 0.1303, 0.1286, 0.1285, 0.1284, 0.1279, 0.1259, 0.1249, 0.1227, 0.1223, 0.1218, 0.1192, 0.1191, 0.1163, 0.1126, 0.1041, 0.0987, 0.1054, 0.1515, 0.1401, 0.1336, 0.1301, 0.1261, 0.1246, 0.1218, 0.1204, 0.119, 0.1187, 0.118, 0.1162, 0.114, 0.1129, 0.1127, 0.1097, 0.1075, 0.1058, 0.1057, 0.1054, 0.1035, 0.1022, 0.1018, 0.1005, 0.0988, 0.0984, 0.0981, 0.098, 0.0976, 0.0973, 0.0972, 0.0953, 0.093, 0.0929, 0.0817, 0.084, 0.0717, 0.0788, 0.2452, 0.2422, 0.2378, 0.2376, 0.2286, 0.2259, 0.222, 0.2201, 0.2135, 0.2129, 0.2122, 0.2109, 0.2074, 0.1975, 0.1895, 0.1827, 0.1744, 0.1654, 0.1566, 0.1548, 0.153, 0.1471, 0.1464, 0.1453, 0.1449, 0.1445, 0.1443, 0.1396, 0.1383, 0.1367, 0.1295, 0.126, 0.1233, 0.126, 0.1184, 0.1165, 0.1163, 0.1154, 0.1152, 0.1141, 0.1132, 0.111, 0.1097, 0.106, 0.1035, 0.1021, 0.1019, 0.1011, 0.1003, 0.1, 0.0991, 0.098, 0.0979, 0.0964, 0.0955, 0.0951, 0.0942, 0.0941, 0.0935, 0.0932, 0.0923, 0.0918, 0.0914, 0.0909, 0.0904, 0.0885, 0.0908, 0.0831, 0.0844, 0.0775, 0.0661, 0.0767, 0.0833, 0.1636, 0.1586, 0.1575, 0.1545, 0.1544, 0.1543, 0.1511, 0.1505, 0.15, 0.1474, 0.1433, 0.1372, 0.1364, 0.1356, 0.1324, 0.1323, 0.1319, 0.1306, 0.13, 0.1292, 0.1288, 0.1288, 0.1279, 0.1272, 0.127, 0.126, 0.1258, 0.1245, 0.1244, 0.1235, 0.119, 0.1199, 0.1155, 0.1039, 0.109, 0.1176, 0.1087, 0.11, 0.1588, 0.1329, 0.1229, 0.1205, 0.1204, 0.1165, 0.1108, 0.1075, 0.1053, 0.1037, 0.1036, 0.1016, 0.1014, 0.1014, 0.1009, 0.1001, 0.0998, 0.0992, 0.0991, 0.0958, 0.0955, 0.0953, 0.0951, 0.0945, 0.0941, 0.0941, 0.0939, 0.0936, 0.0936, 0.0933, 0.0933, 0.0928, 0.0909, 0.09, 0.0912, 0.0903, 0.092, 0.0899, 0.0902, 0.0844, 0.0809, 0.0839, 0.0771, 0.1807, 0.1789, 0.1764, 0.1692, 0.1656, 0.1622, 0.1583, 0.1568, 0.1532, 0.1519, 0.15, 0.1493, 0.144, 0.1424, 0.1392, 0.1382, 0.1329, 0.1318, 0.1315, 0.1278, 0.1276, 0.123, 0.1218, 0.1208, 0.1197, 0.1194, 0.1189, 0.1167, 0.1164, 0.1163, 0.116, 0.1108, 0.1121, 0.1114, 0.1086, 0.1045, 0.0996, 0.1098, 0.2204, 0.2071, 0.183, 0.1774, 0.1748, 0.1642, 0.1636, 0.1592, 0.1582, 0.1571, 0.1556, 0.155, 0.1543, 0.153, 0.153, 0.1499, 0.1446, 0.1438, 0.143, 0.141, 0.1408, 0.1398, 0.1367, 0.1356, 0.1354, 0.1319, 0.1319, 0.1311, 0.1309, 0.1297, 0.1288, 0.1245, 0.1255, 0.1164, 0.1204, 0.1199, 0.1148, 0.1414, 0.1365, 0.129, 0.1268, 0.1127, 0.1122, 0.1103, 0.1102, 0.1062, 0.1041, 0.103, 0.1006, 0.0993, 0.0992, 0.0991, 0.0984, 0.0977, 0.0969, 0.0964, 0.0962, 0.0958, 0.0958, 0.0957, 0.0941, 0.094, 0.0936, 0.0935, 0.0931, 0.0927, 0.0919, 0.0898, 0.084, 0.0827, 0.0851, 0.0869, 0.085, 0.0796, 0.0796, 0.0869, 0.0801, 0.2015, 0.1678, 0.1584, 0.1478, 0.144, 0.1369, 0.1337, 0.133, 0.1323, 0.1319, 0.1299, 0.1289, 0.128, 0.1238, 0.1227, 0.122, 0.1203, 0.1199, 0.1194, 0.1184, 0.1174, 0.1168, 0.115, 0.1148, 0.1143, 0.1125, 0.1123, 0.111, 0.11, 0.1088, 0.1071, 0.106, 0.1029, 0.0928, 0.0985, 0.2113, 0.2047, 0.2042, 0.1874, 0.1796, 0.1701, 0.166, 0.1635, 0.1613, 0.161, 0.1609, 0.1608, 0.1601, 0.1551, 0.1505, 0.1505, 0.1495, 0.1479, 0.1465, 0.1451, 0.1439, 0.1432, 0.1429, 0.1428, 0.141, 0.1399, 0.1395, 0.1377, 0.1375, 0.1368, 0.1357, 0.1362, 0.1341, 0.1318, 0.1316, 0.1327, 0.1234, 0.1531, 0.1341, 0.1171, 0.1162, 0.1116, 0.1036, 0.103, 0.1015, 0.1011, 0.0981, 0.0972, 0.0953, 0.0941, 0.0924, 0.0915, 0.09, 0.0897, 0.0894, 0.0891, 0.0888, 0.0884, 0.087, 0.0869, 0.0863, 0.0856, 0.0853, 0.0851, 0.0848, 0.0843, 0.0842, 0.0831, 0.0822, 0.0814, 0.0812, 0.0813, 0.0799, 0.067, 0.0648, 0.1387, 0.1304, 0.1229, 0.1228, 0.1211, 0.1189, 0.1188, 0.1185, 0.1173, 0.1164, 0.1136, 0.1124, 0.111, 0.1097, 0.1072, 0.1071, 0.1069, 0.1053, 0.1053, 0.1044, 0.1035, 0.1011, 0.1004, 0.1001, 0.099, 0.0989, 0.0986, 0.0977, 0.0966, 0.0958, 0.0953, 0.0941, 0.0951, 0.0844, 0.0824, 0.0901, 0.0864, 0.0903, 0.1244, 0.1186, 0.1114, 0.1077, 0.1073, 0.107, 0.1048, 0.1043, 0.1039, 0.1028, 0.1027, 0.0976, 0.0976, 0.0971, 0.0929, 0.0916, 0.0906, 0.0906, 0.0898, 0.0884, 0.0881, 0.085, 0.0847, 0.0846, 0.0846, 0.084, 0.0835, 0.0826, 0.0825, 0.0824, 0.0812, 0.0785, 0.0776, 0.0788, 0.0774, 0.0761, 0.074, 0.07, 0.0709, 0.0719, 0.1744, 0.1459, 0.1448, 0.1406, 0.1295, 0.1283, 0.125, 0.1188, 0.1182, 0.1171, 0.1168, 0.1166, 0.1139, 0.1135, 0.108, 0.1078, 0.1076, 0.1061, 0.1051, 0.1046, 0.1032, 0.1024, 0.1012, 0.1, 0.0984, 0.0983, 0.0967, 0.0966, 0.0965, 0.0959, 0.0951, 0.0915, 0.0902, 0.0899, 0.0819, 0.0806, 0.0716, 0.1732, 0.1503, 0.1465, 0.1284, 0.1282, 0.1213, 0.118, 0.1145, 0.1144, 0.1138, 0.1138, 0.1133, 0.1112, 0.1104, 0.1098, 0.1093, 0.1081, 0.1047, 0.1045, 0.1042, 0.1042, 0.1041, 0.1038, 0.0996, 0.098, 0.0974, 0.0974, 0.0973, 0.0968, 0.0967, 0.0957, 0.0941, 0.0946, 0.0893, 0.0898, 0.0887, 0.0814, 0.2018, 0.1939, 0.1927, 0.1867, 0.1837, 0.1803, 0.1801, 0.1797, 0.1779, 0.1749, 0.1735, 0.1715, 0.1647, 0.1622, 0.1621, 0.1586, 0.1563, 0.1558, 0.1547, 0.1543, 0.1542, 0.1523, 0.1477, 0.1467, 0.144, 0.1407, 0.1388, 0.1351, 0.1337, 0.1314, 0.1295, 0.1192, 0.1225, 0.1207, 0.1814, 0.1509, 0.1414, 0.1228, 0.1119, 0.1114, 0.1098, 0.1071, 0.1053, 0.105, 0.1041, 0.1036, 0.1034, 0.1029, 0.1017, 0.1001, 0.099, 0.099, 0.0966, 0.0961, 0.0953, 0.0945, 0.094, 0.0937, 0.0932, 0.0928, 0.0925, 0.0925, 0.0913, 0.0908, 0.0905, 0.0901, 0.0896, 0.0854, 0.0827, 0.0764, 0.0845, 0.0867, 0.0847, 0.1925, 0.1788, 0.1708, 0.1621, 0.1562, 0.1528, 0.1513, 0.1496, 0.1469, 0.1444, 0.1415, 0.1407, 0.1391, 0.1386, 0.1383, 0.1374, 0.1341, 0.1337, 0.1331, 0.1303, 0.1289, 0.1273, 0.1271, 0.125, 0.1248, 0.1228, 0.1226, 0.1215, 0.1202, 0.1192, 0.1169, 0.1179, 0.1167, 0.1103, 0.11, 0.102, 0.0941, 0.1115, 0.1103, 0.0994, 0.0985, 0.0963, 0.0961, 0.096, 0.094, 0.09, 0.0892, 0.0889, 0.0865, 0.0864, 0.0863, 0.0859, 0.0857, 0.0854, 0.0849, 0.0841, 0.0839, 0.0838, 0.0825, 0.0817, 0.0817, 0.0807, 0.0804, 0.0804, 0.0799, 0.0798, 0.0783, 0.0781, 0.0779, 0.0766, 0.0738, 0.0694, 0.0755, 0.0635, 0.0717, 0.0642, 0.0741, 0.0634, 0.0582]}, \"token.table\": {\"Topic\": [1, 2, 3, 4, 5, 6, 7, 8, 9, 10, 11, 12, 13, 14, 15, 16, 17, 18, 19, 20, 1, 2, 3, 4, 5, 6, 7, 8, 9, 10, 11, 12, 13, 14, 15, 16, 17, 18, 19, 20, 1, 2, 3, 4, 5, 6, 7, 8, 9, 10, 11, 12, 13, 14, 15, 16, 17, 18, 19, 20, 1, 2, 3, 4, 5, 6, 7, 8, 9, 10, 11, 12, 13, 14, 15, 16, 17, 18, 19, 20, 1, 2, 3, 4, 5, 6, 7, 8, 9, 10, 11, 12, 13, 14, 15, 16, 17, 18, 19, 20, 1, 2, 3, 4, 5, 6, 7, 8, 9, 10, 11, 12, 13, 14, 15, 16, 17, 18, 19, 20, 1, 2, 3, 4, 5, 6, 7, 8, 9, 10, 11, 12, 13, 14, 15, 16, 17, 18, 19, 20, 1, 2, 3, 4, 5, 6, 7, 8, 9, 10, 11, 12, 13, 14, 15, 16, 17, 18, 19, 20, 1, 2, 3, 4, 5, 6, 7, 8, 9, 10, 11, 12, 13, 14, 15, 16, 17, 18, 19, 20, 1, 2, 3, 4, 5, 6, 7, 8, 9, 10, 11, 12, 13, 14, 15, 16, 17, 18, 19, 20, 1, 2, 3, 4, 5, 6, 7, 8, 9, 10, 11, 12, 13, 14, 15, 16, 17, 18, 19, 20, 1, 2, 3, 4, 5, 6, 7, 8, 9, 10, 11, 12, 13, 14, 15, 16, 17, 18, 19, 20, 1, 2, 3, 4, 5, 6, 7, 8, 9, 10, 11, 12, 13, 14, 15, 16, 17, 18, 19, 20, 1, 2, 3, 4, 5, 6, 7, 8, 9, 10, 11, 12, 13, 14, 15, 16, 17, 18, 19, 20, 1, 2, 3, 4, 5, 6, 7, 8, 9, 10, 11, 12, 13, 14, 15, 16, 17, 18, 19, 20, 1, 2, 3, 4, 5, 6, 7, 8, 9, 10, 11, 12, 13, 14, 15, 16, 17, 18, 19, 20, 1, 2, 3, 4, 5, 6, 7, 8, 9, 10, 11, 12, 13, 14, 15, 16, 17, 18, 19, 20, 1, 2, 3, 4, 5, 6, 7, 8, 9, 10, 11, 12, 13, 14, 15, 16, 17, 18, 19, 20, 1, 2, 3, 4, 5, 6, 7, 8, 9, 10, 11, 12, 13, 14, 15, 16, 17, 18, 19, 20, 1, 2, 3, 4, 5, 6, 7, 8, 9, 10, 11, 12, 13, 14, 15, 16, 17, 18, 19, 20, 1, 2, 3, 4, 5, 6, 7, 8, 9, 10, 11, 12, 13, 14, 15, 16, 17, 18, 19, 20, 1, 2, 3, 4, 5, 6, 7, 8, 9, 10, 11, 12, 13, 14, 15, 16, 17, 18, 19, 20, 1, 2, 3, 4, 5, 6, 7, 8, 9, 10, 11, 12, 13, 14, 15, 16, 17, 18, 19, 20, 1, 2, 3, 4, 5, 6, 7, 8, 9, 10, 11, 12, 13, 14, 15, 16, 17, 18, 19, 20, 1, 2, 3, 4, 5, 6, 7, 8, 9, 10, 11, 12, 13, 14, 15, 16, 17, 18, 19, 20, 1, 2, 3, 4, 5, 6, 7, 8, 9, 10, 11, 12, 13, 14, 15, 16, 17, 18, 19, 20, 1, 2, 3, 4, 5, 6, 7, 8, 9, 10, 11, 12, 13, 14, 15, 16, 17, 18, 19, 20, 1, 2, 3, 4, 5, 6, 7, 8, 9, 10, 11, 12, 13, 14, 15, 16, 17, 18, 19, 20, 1, 2, 3, 4, 5, 6, 7, 8, 9, 10, 11, 12, 13, 14, 15, 16, 17, 18, 19, 20, 1, 2, 3, 4, 5, 6, 7, 8, 9, 10, 11, 12, 13, 14, 15, 16, 17, 18, 19, 20, 1, 2, 3, 4, 5, 6, 7, 8, 9, 10, 11, 12, 13, 14, 15, 16, 17, 18, 19, 20, 1, 2, 3, 4, 5, 6, 7, 8, 9, 10, 11, 12, 13, 14, 15, 16, 17, 18, 19, 20, 1, 2, 3, 4, 5, 6, 7, 8, 9, 10, 11, 12, 13, 14, 15, 16, 17, 18, 19, 20, 1, 2, 3, 4, 5, 6, 7, 8, 9, 10, 11, 12, 13, 14, 15, 16, 17, 18, 19, 20, 1, 2, 3, 4, 5, 6, 7, 8, 9, 10, 11, 12, 13, 14, 15, 16, 17, 18, 19, 20, 1, 2, 3, 4, 5, 6, 7, 8, 9, 10, 11, 12, 13, 14, 15, 16, 17, 18, 19, 20, 1, 2, 3, 4, 5, 6, 7, 8, 9, 10, 11, 12, 13, 14, 15, 16, 17, 18, 19, 20, 1, 2, 3, 4, 5, 6, 7, 8, 9, 10, 11, 12, 13, 14, 15, 16, 17, 18, 19, 20, 1, 2, 3, 4, 5, 6, 7, 8, 9, 10, 11, 12, 13, 14, 15, 16, 17, 18, 19, 20, 1, 2, 3, 4, 5, 6, 7, 8, 9, 10, 11, 12, 13, 14, 15, 16, 17, 18, 19, 20, 1, 2, 3, 4, 5, 6, 7, 8, 9, 10, 11, 12, 13, 14, 15, 16, 17, 18, 19, 20, 1, 2, 3, 4, 5, 6, 7, 8, 9, 10, 11, 12, 13, 14, 15, 16, 17, 18, 19, 20, 1, 2, 3, 4, 5, 6, 7, 8, 9, 10, 11, 12, 13, 14, 15, 16, 17, 18, 19, 20, 1, 2, 3, 4, 5, 6, 7, 8, 9, 10, 11, 12, 13, 14, 15, 16, 17, 18, 19, 20, 1, 2, 3, 4, 5, 6, 7, 8, 9, 10, 11, 12, 13, 14, 15, 16, 17, 18, 19, 20, 1, 2, 3, 4, 5, 6, 7, 8, 9, 10, 11, 12, 13, 14, 15, 16, 17, 18, 19, 20, 1, 2, 3, 4, 5, 6, 7, 8, 9, 10, 11, 12, 13, 14, 15, 16, 17, 18, 19, 20, 1, 2, 3, 4, 5, 6, 7, 8, 9, 10, 11, 12, 13, 14, 15, 16, 17, 18, 19, 20, 1, 2, 3, 4, 5, 6, 7, 8, 9, 10, 11, 12, 13, 14, 15, 16, 17, 18, 19, 20, 1, 2, 3, 4, 5, 6, 7, 8, 9, 10, 11, 12, 13, 14, 15, 16, 17, 18, 19, 20, 1, 2, 3, 4, 5, 6, 7, 8, 9, 10, 11, 12, 13, 14, 15, 16, 17, 18, 19, 20, 1, 2, 3, 4, 5, 6, 7, 8, 9, 10, 11, 12, 13, 14, 15, 16, 17, 18, 19, 20, 1, 2, 3, 4, 5, 6, 7, 8, 9, 10, 11, 12, 13, 14, 15, 16, 17, 18, 19, 20, 1, 2, 3, 4, 5, 6, 7, 8, 9, 10, 11, 12, 13, 14, 15, 16, 17, 18, 19, 20, 1, 2, 3, 4, 5, 6, 7, 8, 9, 10, 11, 12, 13, 14, 15, 16, 17, 18, 19, 20, 1, 2, 3, 4, 5, 6, 7, 8, 9, 10, 11, 12, 13, 14, 15, 16, 17, 18, 19, 20, 1, 2, 3, 4, 5, 6, 7, 8, 9, 10, 11, 12, 13, 14, 15, 16, 17, 18, 19, 20, 1, 2, 3, 4, 5, 6, 7, 8, 9, 10, 11, 12, 13, 14, 15, 16, 17, 18, 19, 20, 1, 2, 3, 4, 5, 6, 7, 8, 9, 10, 11, 12, 13, 14, 15, 16, 17, 18, 19, 20, 1, 2, 3, 4, 5, 6, 7, 8, 9, 10, 11, 12, 13, 14, 15, 16, 17, 18, 19, 20, 1, 2, 3, 4, 5, 6, 7, 8, 9, 10, 11, 12, 13, 14, 15, 16, 17, 18, 19, 20, 1, 2, 3, 4, 5, 6, 7, 8, 9, 10, 11, 12, 13, 14, 15, 16, 17, 18, 19, 20, 1, 2, 3, 4, 5, 6, 7, 8, 9, 10, 11, 12, 13, 14, 15, 16, 17, 18, 19, 20, 1, 2, 3, 4, 5, 6, 7, 8, 9, 10, 11, 12, 13, 14, 15, 16, 17, 18, 19, 20, 1, 2, 3, 4, 5, 6, 7, 8, 9, 10, 11, 12, 13, 14, 15, 16, 17, 18, 19, 20, 1, 2, 3, 4, 5, 6, 7, 8, 9, 10, 11, 12, 13, 14, 15, 16, 17, 18, 19, 20, 1, 2, 3, 4, 5, 6, 7, 8, 9, 10, 11, 12, 13, 14, 15, 16, 17, 18, 19, 20, 1, 2, 3, 4, 5, 6, 7, 8, 9, 10, 11, 12, 13, 14, 15, 16, 17, 18, 19, 20, 1, 2, 3, 4, 5, 6, 7, 8, 9, 10, 11, 12, 13, 14, 15, 16, 17, 18, 19, 20, 1, 2, 3, 4, 5, 6, 7, 8, 9, 10, 11, 12, 13, 14, 15, 16, 17, 18, 19, 20, 1, 2, 3, 4, 5, 6, 7, 8, 9, 10, 11, 12, 13, 14, 15, 16, 17, 18, 19, 20, 1, 2, 3, 4, 5, 6, 7, 8, 9, 10, 11, 12, 13, 14, 15, 16, 17, 18, 19, 20, 1, 2, 3, 4, 5, 6, 7, 8, 9, 10, 11, 12, 13, 14, 15, 16, 17, 18, 19, 20, 1, 2, 3, 4, 5, 6, 7, 8, 9, 10, 11, 12, 13, 14, 15, 16, 17, 18, 19, 20, 1, 2, 3, 4, 5, 6, 7, 8, 9, 10, 11, 12, 13, 14, 15, 16, 17, 18, 19, 20, 1, 2, 3, 4, 5, 6, 7, 8, 9, 10, 11, 12, 13, 14, 15, 16, 17, 18, 19, 20, 1, 2, 3, 4, 5, 6, 7, 8, 9, 10, 11, 12, 13, 14, 15, 16, 17, 18, 19, 20, 1, 2, 3, 4, 5, 6, 7, 8, 9, 10, 11, 12, 13, 14, 15, 16, 17, 18, 19, 20, 1, 2, 3, 4, 5, 6, 7, 8, 9, 10, 11, 12, 13, 14, 15, 16, 17, 18, 19, 20, 1, 2, 3, 4, 5, 6, 7, 8, 9, 10, 11, 12, 13, 14, 15, 16, 17, 18, 19, 20, 1, 2, 3, 4, 5, 6, 7, 8, 9, 10, 11, 12, 13, 14, 15, 16, 17, 18, 19, 20, 1, 2, 3, 4, 5, 6, 7, 8, 9, 10, 11, 12, 13, 14, 15, 16, 17, 18, 19, 20, 1, 2, 3, 4, 5, 6, 7, 8, 9, 10, 11, 12, 13, 14, 15, 16, 17, 18, 19, 20, 1, 2, 3, 4, 5, 6, 7, 8, 9, 10, 11, 12, 13, 14, 15, 16, 17, 18, 19, 20, 1, 2, 3, 4, 5, 6, 7, 8, 9, 10, 11, 12, 13, 14, 15, 16, 17, 18, 19, 20, 1, 2, 3, 4, 5, 6, 7, 8, 9, 10, 11, 12, 13, 14, 15, 16, 17, 18, 19, 20, 1, 2, 3, 4, 5, 6, 7, 8, 9, 10, 11, 12, 13, 14, 15, 16, 17, 18, 19, 20, 1, 2, 3, 4, 5, 6, 7, 8, 9, 10, 11, 12, 13, 14, 15, 16, 17, 18, 19, 20, 1, 2, 3, 4, 5, 6, 7, 8, 9, 10, 11, 12, 13, 14, 15, 16, 17, 18, 19, 20, 1, 2, 3, 4, 5, 6, 7, 8, 9, 10, 11, 12, 13, 14, 15, 16, 17, 18, 19, 20, 1, 2, 3, 4, 5, 6, 7, 8, 9, 10, 11, 12, 13, 14, 15, 16, 17, 18, 19, 20, 1, 2, 3, 4, 5, 6, 7, 8, 9, 10, 11, 12, 13, 14, 15, 16, 17, 18, 19, 20, 1, 2, 3, 4, 5, 6, 7, 8, 9, 10, 11, 12, 13, 14, 15, 16, 17, 18, 19, 20, 1, 2, 3, 4, 5, 6, 7, 8, 9, 10, 11, 12, 13, 14, 15, 16, 17, 18, 19, 20, 1, 2, 3, 4, 5, 6, 7, 8, 9, 10, 11, 12, 13, 14, 15, 16, 17, 18, 19, 20, 1, 2, 3, 4, 5, 6, 7, 8, 9, 10, 11, 12, 13, 14, 15, 16, 17, 18, 19, 20, 1, 2, 3, 4, 5, 6, 7, 8, 9, 10, 11, 12, 13, 14, 15, 16, 17, 18, 19, 20, 1, 2, 3, 4, 5, 6, 7, 8, 9, 10, 11, 12, 13, 14, 15, 16, 17, 18, 19, 20, 1, 2, 3, 4, 5, 6, 7, 8, 9, 10, 11, 12, 13, 14, 15, 16, 17, 18, 19, 20, 1, 2, 3, 4, 5, 6, 7, 8, 9, 10, 11, 12, 13, 14, 15, 16, 17, 18, 19, 20, 1, 2, 3, 4, 5, 6, 7, 8, 9, 10, 11, 12, 13, 14, 15, 16, 17, 18, 19, 20, 1, 2, 3, 4, 5, 6, 7, 8, 9, 10, 11, 12, 13, 14, 15, 16, 17, 18, 19, 20, 1, 2, 3, 4, 5, 6, 7, 8, 9, 10, 11, 12, 13, 14, 15, 16, 17, 18, 19, 20, 1, 2, 3, 4, 5, 6, 7, 8, 9, 10, 11, 12, 13, 14, 15, 16, 17, 18, 19, 20, 1, 2, 3, 4, 5, 6, 7, 8, 9, 10, 11, 12, 13, 14, 15, 16, 17, 18, 19, 20, 1, 2, 3, 4, 5, 6, 7, 8, 9, 10, 11, 12, 13, 14, 15, 16, 17, 18, 19, 20, 1, 2, 3, 4, 5, 6, 7, 8, 9, 10, 11, 12, 13, 14, 15, 16, 17, 18, 19, 20, 1, 2, 3, 4, 5, 6, 7, 8, 9, 10, 11, 12, 13, 14, 15, 16, 17, 18, 19, 20, 1, 2, 3, 4, 5, 6, 7, 8, 9, 10, 11, 12, 13, 14, 15, 16, 17, 18, 19, 20, 1, 2, 3, 4, 5, 6, 7, 8, 9, 10, 11, 12, 13, 14, 15, 16, 17, 18, 19, 20, 1, 2, 3, 4, 5, 6, 7, 8, 9, 10, 11, 12, 13, 14, 15, 16, 17, 18, 19, 20, 1, 2, 3, 4, 5, 6, 7, 8, 9, 10, 11, 12, 13, 14, 15, 16, 17, 18, 19, 20, 1, 2, 3, 4, 5, 6, 7, 8, 9, 10, 11, 12, 13, 14, 15, 16, 17, 18, 19, 20, 1, 2, 3, 4, 5, 6, 7, 8, 9, 10, 11, 12, 13, 14, 15, 16, 17, 18, 19, 20, 1, 2, 3, 4, 5, 6, 7, 8, 9, 10, 11, 12, 13, 14, 15, 16, 17, 18, 19, 20, 1, 2, 3, 4, 5, 6, 7, 8, 9, 10, 11, 12, 13, 14, 15, 16, 17, 18, 19, 20, 1, 2, 3, 4, 5, 6, 7, 8, 9, 10, 11, 12, 13, 14, 15, 16, 17, 18, 19, 20, 1, 2, 3, 4, 5, 6, 7, 8, 9, 10, 11, 12, 13, 14, 15, 16, 17, 18, 19, 20, 1, 2, 3, 4, 5, 6, 7, 8, 9, 10, 11, 12, 13, 14, 15, 16, 17, 18, 19, 20, 1, 2, 3, 4, 5, 6, 7, 8, 9, 10, 11, 12, 13, 14, 15, 16, 17, 18, 19, 20, 1, 2, 3, 4, 5, 6, 7, 8, 9, 10, 11, 12, 13, 14, 15, 16, 17, 18, 19, 20, 1, 2, 3, 4, 5, 6, 7, 8, 9, 10, 11, 12, 13, 14, 15, 16, 17, 18, 19, 20, 1, 2, 3, 4, 5, 6, 7, 8, 9, 10, 11, 12, 13, 14, 15, 16, 17, 18, 19, 20, 1, 2, 3, 4, 5, 6, 7, 8, 9, 10, 11, 12, 13, 14, 15, 16, 17, 18, 19, 20, 1, 2, 3, 4, 5, 6, 7, 8, 9, 10, 11, 12, 13, 14, 15, 16, 17, 18, 19, 20, 1, 2, 3, 4, 5, 6, 7, 8, 9, 10, 11, 12, 13, 14, 15, 16, 17, 18, 19, 20, 1, 2, 3, 4, 5, 6, 7, 8, 9, 10, 11, 12, 13, 14, 15, 16, 17, 18, 19, 20, 1, 2, 3, 4, 5, 6, 7, 8, 9, 10, 11, 12, 13, 14, 15, 16, 17, 18, 19, 20, 1, 2, 3, 4, 5, 6, 7, 8, 9, 10, 11, 12, 13, 14, 15, 16, 17, 18, 19, 20, 1, 2, 3, 4, 5, 6, 7, 8, 9, 10, 11, 12, 13, 14, 15, 16, 17, 18, 19, 20, 1, 2, 3, 4, 5, 6, 7, 8, 9, 10, 11, 12, 13, 14, 15, 16, 17, 18, 19, 20, 1, 2, 3, 4, 5, 6, 7, 8, 9, 10, 11, 12, 13, 14, 15, 16, 17, 18, 19, 20, 1, 2, 3, 4, 5, 6, 7, 8, 9, 10, 11, 12, 13, 14, 15, 16, 17, 18, 19, 20, 1, 2, 3, 4, 5, 6, 7, 8, 9, 10, 11, 12, 13, 14, 15, 16, 17, 18, 19, 20, 1, 2, 3, 4, 5, 6, 7, 8, 9, 10, 11, 12, 13, 14, 15, 16, 17, 18, 19, 20, 1, 2, 3, 4, 5, 6, 7, 8, 9, 10, 11, 12, 13, 14, 15, 16, 17, 18, 19, 20, 1, 2, 3, 4, 5, 6, 7, 8, 9, 10, 11, 12, 13, 14, 15, 16, 17, 18, 19, 20, 1, 2, 3, 4, 5, 6, 7, 8, 9, 10, 11, 12, 13, 14, 15, 16, 17, 18, 19, 20, 1, 2, 3, 4, 5, 6, 7, 8, 9, 10, 11, 12, 13, 14, 15, 16, 17, 18, 19, 20, 1, 2, 3, 4, 5, 6, 7, 8, 9, 10, 11, 12, 13, 14, 15, 16, 17, 18, 19, 20, 1, 2, 3, 4, 5, 6, 7, 8, 9, 10, 11, 12, 13, 14, 15, 16, 17, 18, 19, 20, 1, 2, 3, 4, 5, 6, 7, 8, 9, 10, 11, 12, 13, 14, 15, 16, 17, 18, 19, 20, 1, 2, 3, 4, 5, 6, 7, 8, 9, 10, 11, 12, 13, 14, 15, 16, 17, 18, 19, 20, 1, 2, 3, 4, 5, 6, 7, 8, 9, 10, 11, 12, 13, 14, 15, 16, 17, 18, 19, 20, 1, 2, 3, 4, 5, 6, 7, 8, 9, 10, 11, 12, 13, 14, 15, 16, 17, 18, 19, 20, 1, 2, 3, 4, 5, 6, 7, 8, 9, 10, 11, 12, 13, 14, 15, 16, 17, 18, 19, 20, 1, 2, 3, 4, 5, 6, 7, 8, 9, 10, 11, 12, 13, 14, 15, 16, 17, 18, 19, 20, 1, 2, 3, 4, 5, 6, 7, 8, 9, 10, 11, 12, 13, 14, 15, 16, 17, 18, 19, 20, 1, 2, 3, 4, 5, 6, 7, 8, 9, 10, 11, 12, 13, 14, 15, 16, 17, 18, 19, 20, 1, 2, 3, 4, 5, 6, 7, 8, 9, 10, 11, 12, 13, 14, 15, 16, 17, 18, 19, 20, 1, 2, 3, 4, 5, 6, 7, 8, 9, 10, 11, 12, 13, 14, 15, 16, 17, 18, 19, 20, 1, 2, 3, 4, 5, 6, 7, 8, 9, 10, 11, 12, 13, 14, 15, 16, 17, 18, 19, 20, 1, 2, 3, 4, 5, 6, 7, 8, 9, 10, 11, 12, 13, 14, 15, 16, 17, 18, 19, 20, 1, 2, 3, 4, 5, 6, 7, 8, 9, 10, 11, 12, 13, 14, 15, 16, 17, 18, 19, 20, 1, 2, 3, 4, 5, 6, 7, 8, 9, 10, 11, 12, 13, 14, 15, 16, 17, 18, 19, 20, 1, 2, 3, 4, 5, 6, 7, 8, 9, 10, 11, 12, 13, 14, 15, 16, 17, 18, 19, 20, 1, 2, 3, 4, 5, 6, 7, 8, 9, 10, 11, 12, 13, 14, 15, 16, 17, 18, 19, 20, 1, 2, 3, 4, 5, 6, 7, 8, 9, 10, 11, 12, 13, 14, 15, 16, 17, 18, 19, 20, 1, 2, 3, 4, 5, 6, 7, 8, 9, 10, 11, 12, 13, 14, 15, 16, 17, 18, 19, 20, 1, 2, 3, 4, 5, 6, 7, 8, 9, 10, 11, 12, 13, 14, 15, 16, 17, 18, 19, 20, 1, 2, 3, 4, 5, 6, 7, 8, 9, 10, 11, 12, 13, 14, 15, 16, 17, 18, 19, 20, 1, 2, 3, 4, 5, 6, 7, 8, 9, 10, 11, 12, 13, 14, 15, 16, 17, 18, 19, 20, 1, 2, 3, 4, 5, 6, 7, 8, 9, 10, 11, 12, 13, 14, 15, 16, 17, 18, 19, 20, 1, 2, 3, 4, 5, 6, 7, 8, 9, 10, 11, 12, 13, 14, 15, 16, 17, 18, 19, 20, 1, 2, 3, 4, 5, 6, 7, 8, 9, 10, 11, 12, 13, 14, 15, 16, 17, 18, 19, 20, 1, 2, 3, 4, 5, 6, 7, 8, 9, 10, 11, 12, 13, 14, 15, 16, 17, 18, 19, 20, 1, 2, 3, 4, 5, 6, 7, 8, 9, 10, 11, 12, 13, 14, 15, 16, 17, 18, 19, 20, 1, 2, 3, 4, 5, 6, 7, 8, 9, 10, 11, 12, 13, 14, 15, 16, 17, 18, 19, 20, 1, 2, 3, 4, 5, 6, 7, 8, 9, 10, 11, 12, 13, 14, 15, 16, 17, 18, 19, 20, 1, 2, 3, 4, 5, 6, 7, 8, 9, 10, 11, 12, 13, 14, 15, 16, 17, 18, 19, 20, 1, 2, 3, 4, 5, 6, 7, 8, 9, 10, 11, 12, 13, 14, 15, 16, 17, 18, 19, 20, 1, 2, 3, 4, 5, 6, 7, 8, 9, 10, 11, 12, 13, 14, 15, 16, 17, 18, 19, 20, 1, 2, 3, 4, 5, 6, 7, 8, 9, 10, 11, 12, 13, 14, 15, 16, 17, 18, 19, 20, 1, 2, 3, 4, 5, 6, 7, 8, 9, 10, 11, 12, 13, 14, 15, 16, 17, 18, 19, 20, 1, 2, 3, 4, 5, 6, 7, 8, 9, 10, 11, 12, 13, 14, 15, 16, 17, 18, 19, 20, 1, 2, 3, 4, 5, 6, 7, 8, 9, 10, 11, 12, 13, 14, 15, 16, 17, 18, 19, 20, 1, 2, 3, 4, 5, 6, 7, 8, 9, 10, 11, 12, 13, 14, 15, 16, 17, 18, 19, 20, 1, 2, 3, 4, 5, 6, 7, 8, 9, 10, 11, 12, 13, 14, 15, 16, 17, 18, 19, 20, 1, 2, 3, 4, 5, 6, 7, 8, 9, 10, 11, 12, 13, 14, 15, 16, 17, 18, 19, 20, 1, 2, 3, 4, 5, 6, 7, 8, 9, 10, 11, 12, 13, 14, 15, 16, 17, 18, 19, 20, 1, 2, 3, 4, 5, 6, 7, 8, 9, 10, 11, 12, 13, 14, 15, 16, 17, 18, 19, 20, 1, 2, 3, 4, 5, 6, 7, 8, 9, 10, 11, 12, 13, 14, 15, 16, 17, 18, 19, 20, 1, 2, 3, 4, 5, 6, 7, 8, 9, 10, 11, 12, 13, 14, 15, 16, 17, 18, 19, 20, 1, 2, 3, 4, 5, 6, 7, 8, 9, 10, 11, 12, 13, 14, 15, 16, 17, 18, 19, 20, 1, 2, 3, 4, 5, 6, 7, 8, 9, 10, 11, 12, 13, 14, 15, 16, 17, 18, 19, 20, 1, 2, 3, 4, 5, 6, 7, 8, 9, 10, 11, 12, 13, 14, 15, 16, 17, 18, 19, 20, 1, 2, 3, 4, 5, 6, 7, 8, 9, 10, 11, 12, 13, 14, 15, 16, 17, 18, 19, 20, 1, 2, 3, 4, 5, 6, 7, 8, 9, 10, 11, 12, 13, 14, 15, 16, 17, 18, 19, 20, 1, 2, 3, 4, 5, 6, 7, 8, 9, 10, 11, 12, 13, 14, 15, 16, 17, 18, 19, 20, 1, 2, 3, 4, 5, 6, 7, 8, 9, 10, 11, 12, 13, 14, 15, 16, 17, 18, 19, 20, 1, 2, 3, 4, 5, 6, 7, 8, 9, 10, 11, 12, 13, 14, 15, 16, 17, 18, 19, 20, 1, 2, 3, 4, 5, 6, 7, 8, 9, 10, 11, 12, 13, 14, 15, 16, 17, 18, 19, 20, 1, 2, 3, 4, 5, 6, 7, 8, 9, 10, 11, 12, 13, 14, 15, 16, 17, 18, 19, 20, 1, 2, 3, 4, 5, 6, 7, 8, 9, 10, 11, 12, 13, 14, 15, 16, 17, 18, 19, 20, 1, 2, 3, 4, 5, 6, 7, 8, 9, 10, 11, 12, 13, 14, 15, 16, 17, 18, 19, 20, 1, 2, 3, 4, 5, 6, 7, 8, 9, 10, 11, 12, 13, 14, 15, 16, 17, 18, 19, 20, 1, 2, 3, 4, 5, 6, 7, 8, 9, 10, 11, 12, 13, 14, 15, 16, 17, 18, 19, 20, 1, 2, 3, 4, 5, 6, 7, 8, 9, 10, 11, 12, 13, 14, 15, 16, 17, 18, 19, 20, 1, 2, 3, 4, 5, 6, 7, 8, 9, 10, 11, 12, 13, 14, 15, 16, 17, 18, 19, 20, 1, 2, 3, 4, 5, 6, 7, 8, 9, 10, 11, 12, 13, 14, 15, 16, 17, 18, 19, 20, 1, 2, 3, 4, 5, 6, 7, 8, 9, 10, 11, 12, 13, 14, 15, 16, 17, 18, 19, 20, 1, 2, 3, 4, 5, 6, 7, 8, 9, 10, 11, 12, 13, 14, 15, 16, 17, 18, 19, 20, 1, 2, 3, 4, 5, 6, 7, 8, 9, 10, 11, 12, 13, 14, 15, 16, 17, 18, 19, 20, 1, 2, 3, 4, 5, 6, 7, 8, 9, 10, 11, 12, 13, 14, 15, 16, 17, 18, 19, 20, 1, 2, 3, 4, 5, 6, 7, 8, 9, 10, 11, 12, 13, 14, 15, 16, 17, 18, 19, 20, 1, 2, 3, 4, 5, 6, 7, 8, 9, 10, 11, 12, 13, 14, 15, 16, 17, 18, 19, 20, 1, 2, 3, 4, 5, 6, 7, 8, 9, 10, 11, 12, 13, 14, 15, 16, 17, 18, 19, 20, 1, 2, 3, 4, 5, 6, 7, 8, 9, 10, 11, 12, 13, 14, 15, 16, 17, 18, 19, 20, 1, 2, 3, 4, 5, 6, 7, 8, 9, 10, 11, 12, 13, 14, 15, 16, 17, 18, 19, 20, 1, 2, 3, 4, 5, 6, 7, 8, 9, 10, 11, 12, 13, 14, 15, 16, 17, 18, 19, 20, 1, 2, 3, 4, 5, 6, 7, 8, 9, 10, 11, 12, 13, 14, 15, 16, 17, 18, 19, 20, 1, 2, 3, 4, 5, 6, 7, 8, 9, 10, 11, 12, 13, 14, 15, 16, 17, 18, 19, 20, 1, 2, 3, 4, 5, 6, 7, 8, 9, 10, 11, 12, 13, 14, 15, 16, 17, 18, 19, 20, 1, 2, 3, 4, 5, 6, 7, 8, 9, 10, 11, 12, 13, 14, 15, 16, 17, 18, 19, 20, 1, 2, 3, 4, 5, 6, 7, 8, 9, 10, 11, 12, 13, 14, 15, 16, 17, 18, 19, 20, 1, 2, 3, 4, 5, 6, 7, 8, 9, 10, 11, 12, 13, 14, 15, 16, 17, 18, 19, 20, 1, 2, 3, 4, 5, 6, 7, 8, 9, 10, 11, 12, 13, 14, 15, 16, 17, 18, 19, 20, 1, 2, 3, 4, 5, 6, 7, 8, 9, 10, 11, 12, 13, 14, 15, 16, 17, 18, 19, 20, 1, 2, 3, 4, 5, 6, 7, 8, 9, 10, 11, 12, 13, 14, 15, 16, 17, 18, 19, 20, 1, 2, 3, 4, 5, 6, 7, 8, 9, 10, 11, 12, 13, 14, 15, 16, 17, 18, 19, 20, 1, 2, 3, 4, 5, 6, 7, 8, 9, 10, 11, 12, 13, 14, 15, 16, 17, 18, 19, 20, 1, 2, 3, 4, 5, 6, 7, 8, 9, 10, 11, 12, 13, 14, 15, 16, 17, 18, 19, 20, 1, 2, 3, 4, 5, 6, 7, 8, 9, 10, 11, 12, 13, 14, 15, 16, 17, 18, 19, 20, 1, 2, 3, 4, 5, 6, 7, 8, 9, 10, 11, 12, 13, 14, 15, 16, 17, 18, 19, 20, 1, 2, 3, 4, 5, 6, 7, 8, 9, 10, 11, 12, 13, 14, 15, 16, 17, 18, 19, 20, 1, 2, 3, 4, 5, 6, 7, 8, 9, 10, 11, 12, 13, 14, 15, 16, 17, 18, 19, 20, 1, 2, 3, 4, 5, 6, 7, 8, 9, 10, 11, 12, 13, 14, 15, 16, 17, 18, 19, 20, 1, 2, 3, 4, 5, 6, 7, 8, 9, 10, 11, 12, 13, 14, 15, 16, 17, 18, 19, 20, 1, 2, 3, 4, 5, 6, 7, 8, 9, 10, 11, 12, 13, 14, 15, 16, 17, 18, 19, 20, 1, 2, 3, 4, 5, 6, 7, 8, 9, 10, 11, 12, 13, 14, 15, 16, 17, 18, 19, 20, 1, 2, 3, 4, 5, 6, 7, 8, 9, 10, 11, 12, 13, 14, 15, 16, 17, 18, 19, 20, 1, 2, 3, 4, 5, 6, 7, 8, 9, 10, 11, 12, 13, 14, 15, 16, 17, 18, 19, 20, 1, 2, 3, 4, 5, 6, 7, 8, 9, 10, 11, 12, 13, 14, 15, 16, 17, 18, 19, 20, 1, 2, 3, 4, 5, 6, 7, 8, 9, 10, 11, 12, 13, 14, 15, 16, 17, 18, 19, 20, 1, 2, 3, 4, 5, 6, 7, 8, 9, 10, 11, 12, 13, 14, 15, 16, 17, 18, 19, 20, 1, 2, 3, 4, 5, 6, 7, 8, 9, 10, 11, 12, 13, 14, 15, 16, 17, 18, 19, 20, 1, 2, 3, 4, 5, 6, 7, 8, 9, 10, 11, 12, 13, 14, 15, 16, 17, 18, 19, 20, 1, 2, 3, 4, 5, 6, 7, 8, 9, 10, 11, 12, 13, 14, 15, 16, 17, 18, 19, 20, 1, 2, 3, 4, 5, 6, 7, 8, 9, 10, 11, 12, 13, 14, 15, 16, 17, 18, 19, 20, 1, 2, 3, 4, 5, 6, 7, 8, 9, 10, 11, 12, 13, 14, 15, 16, 17, 18, 19, 20, 1, 2, 3, 4, 5, 6, 7, 8, 9, 10, 11, 12, 13, 14, 15, 16, 17, 18, 19, 20, 1, 2, 3, 4, 5, 6, 7, 8, 9, 10, 11, 12, 13, 14, 15, 16, 17, 18, 19, 20, 1, 2, 3, 4, 5, 6, 7, 8, 9, 10, 11, 12, 13, 14, 15, 16, 17, 18, 19, 20, 1, 2, 3, 4, 5, 6, 7, 8, 9, 10, 11, 12, 13, 14, 15, 16, 17, 18, 19, 20, 1, 2, 3, 4, 5, 6, 7, 8, 9, 10, 11, 12, 13, 14, 15, 16, 17, 18, 19, 20, 1, 2, 3, 4, 5, 6, 7, 8, 9, 10, 11, 12, 13, 14, 15, 16, 17, 18, 19, 20, 1, 2, 3, 4, 5, 6, 7, 8, 9, 10, 11, 12, 13, 14, 15, 16, 17, 18, 19, 20, 1, 2, 3, 4, 5, 6, 7, 8, 9, 10, 11, 12, 13, 14, 15, 16, 17, 18, 19, 20, 1, 2, 3, 4, 5, 6, 7, 8, 9, 10, 11, 12, 13, 14, 15, 16, 17, 18, 19, 20, 1, 2, 3, 4, 5, 6, 7, 8, 9, 10, 11, 12, 13, 14, 15, 16, 17, 18, 19, 20, 1, 2, 3, 4, 5, 6, 7, 8, 9, 10, 11, 12, 13, 14, 15, 16, 17, 18, 19, 20, 1, 2, 3, 4, 5, 6, 7, 8, 9, 10, 11, 12, 13, 14, 15, 16, 17, 18, 19, 20, 1, 2, 3, 4, 5, 6, 7, 8, 9, 10, 11, 12, 13, 14, 15, 16, 17, 18, 19, 20, 1, 2, 3, 4, 5, 6, 7, 8, 9, 10, 11, 12, 13, 14, 15, 16, 17, 18, 19, 20, 1, 2, 3, 4, 5, 6, 7, 8, 9, 10, 11, 12, 13, 14, 15, 16, 17, 18, 19, 20, 1, 2, 3, 4, 5, 6, 7, 8, 9, 10, 11, 12, 13, 14, 15, 16, 17, 18, 19, 20, 1, 2, 3, 4, 5, 6, 7, 8, 9, 10, 11, 12, 13, 14, 15, 16, 17, 18, 19, 20, 1, 2, 3, 4, 5, 6, 7, 8, 9, 10, 11, 12, 13, 14, 15, 16, 17, 18, 19, 20, 1, 2, 3, 4, 5, 6, 7, 8, 9, 10, 11, 12, 13, 14, 15, 16, 17, 18, 19, 20, 1, 2, 3, 4, 5, 6, 7, 8, 9, 10, 11, 12, 13, 14, 15, 16, 17, 18, 19, 20, 1, 2, 3, 4, 5, 6, 7, 8, 9, 10, 11, 12, 13, 14, 15, 16, 17, 18, 19, 20, 1, 2, 3, 4, 5, 6, 7, 8, 9, 10, 11, 12, 13, 14, 15, 16, 17, 18, 19, 20, 1, 2, 3, 4, 5, 6, 7, 8, 9, 10, 11, 12, 13, 14, 15, 16, 17, 18, 19, 20, 1, 2, 3, 4, 5, 6, 7, 8, 9, 10, 11, 12, 13, 14, 15, 16, 17, 18, 19, 20, 1, 2, 3, 4, 5, 6, 7, 8, 9, 10, 11, 12, 13, 14, 15, 16, 17, 18, 19, 20, 1, 2, 3, 4, 5, 6, 7, 8, 9, 10, 11, 12, 13, 14, 15, 16, 17, 18, 19, 20, 1, 2, 3, 4, 5, 6, 7, 8, 9, 10, 11, 12, 13, 14, 15, 16, 17, 18, 19, 20, 1, 2, 3, 4, 5, 6, 7, 8, 9, 10, 11, 12, 13, 14, 15, 16, 17, 18, 19, 20, 1, 2, 3, 4, 5, 6, 7, 8, 9, 10, 11, 12, 13, 14, 15, 16, 17, 18, 19, 20, 1, 2, 3, 4, 5, 6, 7, 8, 9, 10, 11, 12, 13, 14, 15, 16, 17, 18, 19, 20, 1, 2, 3, 4, 5, 6, 7, 8, 9, 10, 11, 12, 13, 14, 15, 16, 17, 18, 19, 20, 1, 2, 3, 4, 5, 6, 7, 8, 9, 10, 11, 12, 13, 14, 15, 16, 17, 18, 19, 20, 1, 2, 3, 4, 5, 6, 7, 8, 9, 10, 11, 12, 13, 14, 15, 16, 17, 18, 19, 20, 1, 2, 3, 4, 5, 6, 7, 8, 9, 10, 11, 12, 13, 14, 15, 16, 17, 18, 19, 20, 1, 2, 3, 4, 5, 6, 7, 8, 9, 10, 11, 12, 13, 14, 15, 16, 17, 18, 19, 20, 1, 2, 3, 4, 5, 6, 7, 8, 9, 10, 11, 12, 13, 14, 15, 16, 17, 18, 19, 20, 1, 2, 3, 4, 5, 6, 7, 8, 9, 10, 11, 12, 13, 14, 15, 16, 17, 18, 19, 20, 1, 2, 3, 4, 5, 6, 7, 8, 9, 10, 11, 12, 13, 14, 15, 16, 17, 18, 19, 20, 1, 2, 3, 4, 5, 6, 7, 8, 9, 10, 11, 12, 13, 14, 15, 16, 17, 18, 19, 20, 1, 2, 3, 4, 5, 6, 7, 8, 9, 10, 11, 12, 13, 14, 15, 16, 17, 18, 19, 20, 1, 2, 3, 4, 5, 6, 7, 8, 9, 10, 11, 12, 13, 14, 15, 16, 17, 18, 19, 20, 1, 2, 3, 4, 5, 6, 7, 8, 9, 10, 11, 12, 13, 14, 15, 16, 17, 18, 19, 20, 1, 2, 3, 4, 5, 6, 7, 8, 9, 10, 11, 12, 13, 14, 15, 16, 17, 18, 19, 20, 1, 2, 3, 4, 5, 6, 7, 8, 9, 10, 11, 12, 13, 14, 15, 16, 17, 18, 19, 20, 1, 2, 3, 4, 5, 6, 7, 8, 9, 10, 11, 12, 13, 14, 15, 16, 17, 18, 19, 20, 1, 2, 3, 4, 5, 6, 7, 8, 9, 10, 11, 12, 13, 14, 15, 16, 17, 18, 19, 20, 1, 2, 3, 4, 5, 6, 7, 8, 9, 10, 11, 12, 13, 14, 15, 16, 17, 18, 19, 20, 1, 2, 3, 4, 5, 6, 7, 8, 9, 10, 11, 12, 13, 14, 15, 16, 17, 18, 19, 20, 1, 2, 3, 4, 5, 6, 7, 8, 9, 10, 11, 12, 13, 14, 15, 16, 17, 18, 19, 20, 1, 2, 3, 4, 5, 6, 7, 8, 9, 10, 11, 12, 13, 14, 15, 16, 17, 18, 19, 20, 1, 2, 3, 4, 5, 6, 7, 8, 9, 10, 11, 12, 13, 14, 15, 16, 17, 18, 19, 20, 1, 2, 3, 4, 5, 6, 7, 8, 9, 10, 11, 12, 13, 14, 15, 16, 17, 18, 19, 20, 1, 2, 3, 4, 5, 6, 7, 8, 9, 10, 11, 12, 13, 14, 15, 16, 17, 18, 19, 20, 1, 2, 3, 4, 5, 6, 7, 8, 9, 10, 11, 12, 13, 14, 15, 16, 17, 18, 19, 20, 1, 2, 3, 4, 5, 6, 7, 8, 9, 10, 11, 12, 13, 14, 15, 16, 17, 18, 19, 20, 1, 2, 3, 4, 5, 6, 7, 8, 9, 10, 11, 12, 13, 14, 15, 16, 17, 18, 19, 20, 1, 2, 3, 4, 5, 6, 7, 8, 9, 10, 11, 12, 13, 14, 15, 16, 17, 18, 19, 20, 1, 2, 3, 4, 5, 6, 7, 8, 9, 10, 11, 12, 13, 14, 15, 16, 17, 18, 19, 20, 1, 2, 3, 4, 5, 6, 7, 8, 9, 10, 11, 12, 13, 14, 15, 16, 17, 18, 19, 20, 1, 2, 3, 4, 5, 6, 7, 8, 9, 10, 11, 12, 13, 14, 15, 16, 17, 18, 19, 20, 1, 2, 3, 4, 5, 6, 7, 8, 9, 10, 11, 12, 13, 14, 15, 16, 17, 18, 19, 20, 1, 2, 3, 4, 5, 6, 7, 8, 9, 10, 11, 12, 13, 14, 15, 16, 17, 18, 19, 20, 1, 2, 3, 4, 5, 6, 7, 8, 9, 10, 11, 12, 13, 14, 15, 16, 17, 18, 19, 20, 1, 2, 3, 4, 5, 6, 7, 8, 9, 10, 11, 12, 13, 14, 15, 16, 17, 18, 19, 20, 1, 2, 3, 4, 5, 6, 7, 8, 9, 10, 11, 12, 13, 14, 15, 16, 17, 18, 19, 20, 1, 2, 3, 4, 5, 6, 7, 8, 9, 10, 11, 12, 13, 14, 15, 16, 17, 18, 19, 20, 1, 2, 3, 4, 5, 6, 7, 8, 9, 10, 11, 12, 13, 14, 15, 16, 17, 18, 19, 20, 1, 2, 3, 4, 5, 6, 7, 8, 9, 10, 11, 12, 13, 14, 15, 16, 17, 18, 19, 20, 1, 2, 3, 4, 5, 6, 7, 8, 9, 10, 11, 12, 13, 14, 15, 16, 17, 18, 19, 20, 1, 2, 3, 4, 5, 6, 7, 8, 9, 10, 11, 12, 13, 14, 15, 16, 17, 18, 19, 20, 1, 2, 3, 4, 5, 6, 7, 8, 9, 10, 11, 12, 13, 14, 15, 16, 17, 18, 19, 20, 1, 2, 3, 4, 5, 6, 7, 8, 9, 10, 11, 12, 13, 14, 15, 16, 17, 18, 19, 20, 1, 2, 3, 4, 5, 6, 7, 8, 9, 10, 11, 12, 13, 14, 15, 16, 17, 18, 19, 20, 1, 2, 3, 4, 5, 6, 7, 8, 9, 10, 11, 12, 13, 14, 15, 16, 17, 18, 19, 20, 1, 2, 3, 4, 5, 6, 7, 8, 9, 10, 11, 12, 13, 14, 15, 16, 17, 18, 19, 20, 1, 2, 3, 4, 5, 6, 7, 8, 9, 10, 11, 12, 13, 14, 15, 16, 17, 18, 19, 20, 1, 2, 3, 4, 5, 6, 7, 8, 9, 10, 11, 12, 13, 14, 15, 16, 17, 18, 19, 20, 1, 2, 3, 4, 5, 6, 7, 8, 9, 10, 11, 12, 13, 14, 15, 16, 17, 18, 19, 20, 1, 2, 3, 4, 5, 6, 7, 8, 9, 10, 11, 12, 13, 14, 15, 16, 17, 18, 19, 20, 1, 2, 3, 4, 5, 6, 7, 8, 9, 10, 11, 12, 13, 14, 15, 16, 17, 18, 19, 20, 1, 2, 3, 4, 5, 6, 7, 8, 9, 10, 11, 12, 13, 14, 15, 16, 17, 18, 19, 20, 1, 2, 3, 4, 5, 6, 7, 8, 9, 10, 11, 12, 13, 14, 15, 16, 17, 18, 19, 20, 1, 2, 3, 4, 5, 6, 7, 8, 9, 10, 11, 12, 13, 14, 15, 16, 17, 18, 19, 20, 1, 2, 3, 4, 5, 6, 7, 8, 9, 10, 11, 12, 13, 14, 15, 16, 17, 18, 19, 20, 1, 2, 3, 4, 5, 6, 7, 8, 9, 10, 11, 12, 13, 14, 15, 16, 17, 18, 19, 20, 1, 2, 3, 4, 5, 6, 7, 8, 9, 10, 11, 12, 13, 14, 15, 16, 17, 18, 19, 20, 1, 2, 3, 4, 5, 6, 7, 8, 9, 10, 11, 12, 13, 14, 15, 16, 17, 18, 19, 20, 1, 2, 3, 4, 5, 6, 7, 8, 9, 10, 11, 12, 13, 14, 15, 16, 17, 18, 19, 20, 1, 2, 3, 4, 5, 6, 7, 8, 9, 10, 11, 12, 13, 14, 15, 16, 17, 18, 19, 20, 1, 2, 3, 4, 5, 6, 7, 8, 9, 10, 11, 12, 13, 14, 15, 16, 17, 18, 19, 20, 1, 2, 3, 4, 5, 6, 7, 8, 9, 10, 11, 12, 13, 14, 15, 16, 17, 18, 19, 20, 1, 2, 3, 4, 5, 6, 7, 8, 9, 10, 11, 12, 13, 14, 15, 16, 17, 18, 19, 20, 1, 2, 3, 4, 5, 6, 7, 8, 9, 10, 11, 12, 13, 14, 15, 16, 17, 18, 19, 20, 1, 2, 3, 4, 5, 6, 7, 8, 9, 10, 11, 12, 13, 14, 15, 16, 17, 18, 19, 20, 1, 2, 3, 4, 5, 6, 7, 8, 9, 10, 11, 12, 13, 14, 15, 16, 17, 18, 19, 20, 1, 2, 3, 4, 5, 6, 7, 8, 9, 10, 11, 12, 13, 14, 15, 16, 17, 18, 19, 20, 1, 2, 3, 4, 5, 6, 7, 8, 9, 10, 11, 12, 13, 14, 15, 16, 17, 18, 19, 20, 1, 2, 3, 4, 5, 6, 7, 8, 9, 10, 11, 12, 13, 14, 15, 16, 17, 18, 19, 20, 1, 2, 3, 4, 5, 6, 7, 8, 9, 10, 11, 12, 13, 14, 15, 16, 17, 18, 19, 20, 1, 2, 3, 4, 5, 6, 7, 8, 9, 10, 11, 12, 13, 14, 15, 16, 17, 18, 19, 20, 1, 2, 3, 4, 5, 6, 7, 8, 9, 10, 11, 12, 13, 14, 15, 16, 17, 18, 19, 20, 1, 2, 3, 4, 5, 6, 7, 8, 9, 10, 11, 12, 13, 14, 15, 16, 17, 18, 19, 20, 1, 2, 3, 4, 5, 6, 7, 8, 9, 10, 11, 12, 13, 14, 15, 16, 17, 18, 19, 20, 1, 2, 3, 4, 5, 6, 7, 8, 9, 10, 11, 12, 13, 14, 15, 16, 17, 18, 19, 20, 1, 2, 3, 4, 5, 6, 7, 8, 9, 10, 11, 12, 13, 14, 15, 16, 17, 18, 19, 20, 1, 2, 3, 4, 5, 6, 7, 8, 9, 10, 11, 12, 13, 14, 15, 16, 17, 18, 19, 20, 1, 2, 3, 4, 5, 6, 7, 8, 9, 10, 11, 12, 13, 14, 15, 16, 17, 18, 19, 20, 1, 2, 3, 4, 5, 6, 7, 8, 9, 10, 11, 12, 13, 14, 15, 16, 17, 18, 19, 20, 1, 2, 3, 4, 5, 6, 7, 8, 9, 10, 11, 12, 13, 14, 15, 16, 17, 18, 19, 20, 1, 2, 3, 4, 5, 6, 7, 8, 9, 10, 11, 12, 13, 14, 15, 16, 17, 18, 19, 20, 1, 2, 3, 4, 5, 6, 7, 8, 9, 10, 11, 12, 13, 14, 15, 16, 17, 18, 19, 20, 1, 2, 3, 4, 5, 6, 7, 8, 9, 10, 11, 12, 13, 14, 15, 16, 17, 18, 19, 20, 1, 2, 3, 4, 5, 6, 7, 8, 9, 10, 11, 12, 13, 14, 15, 16, 17, 18, 19, 20, 1, 2, 3, 4, 5, 6, 7, 8, 9, 10, 11, 12, 13, 14, 15, 16, 17, 18, 19, 20, 1, 2, 3, 4, 5, 6, 7, 8, 9, 10, 11, 12, 13, 14, 15, 16, 17, 18, 19, 20, 1, 2, 3, 4, 5, 6, 7, 8, 9, 10, 11, 12, 13, 14, 15, 16, 17, 18, 19, 20, 1, 2, 3, 4, 5, 6, 7, 8, 9, 10, 11, 12, 13, 14, 15, 16, 17, 18, 19, 20, 1, 2, 3, 4, 5, 6, 7, 8, 9, 10, 11, 12, 13, 14, 15, 16, 17, 18, 19, 20, 1, 2, 3, 4, 5, 6, 7, 8, 9, 10, 11, 12, 13, 14, 15, 16, 17, 18, 19, 20, 1, 2, 3, 4, 5, 6, 7, 8, 9, 10, 11, 12, 13, 14, 15, 16, 17, 18, 19, 20, 1, 2, 3, 4, 5, 6, 7, 8, 9, 10, 11, 12, 13, 14, 15, 16, 17, 18, 19, 20, 1, 2, 3, 4, 5, 6, 7, 8, 9, 10, 11, 12, 13, 14, 15, 16, 17, 18, 19, 20, 1, 2, 3, 4, 5, 6, 7, 8, 9, 10, 11, 12, 13, 14, 15, 16, 17, 18, 19, 20, 1, 2, 3, 4, 5, 6, 7, 8, 9, 10, 11, 12, 13, 14, 15, 16, 17, 18, 19, 20, 1, 2, 3, 4, 5, 6, 7, 8, 9, 10, 11, 12, 13, 14, 15, 16, 17, 18, 19, 20, 1, 2, 3, 4, 5, 6, 7, 8, 9, 10, 11, 12, 13, 14, 15, 16, 17, 18, 19, 20, 1, 2, 3, 4, 5, 6, 7, 8, 9, 10, 11, 12, 13, 14, 15, 16, 17, 18, 19, 20, 1, 2, 3, 4, 5, 6, 7, 8, 9, 10, 11, 12, 13, 14, 15, 16, 17, 18, 19, 20, 1, 2, 3, 4, 5, 6, 7, 8, 9, 10, 11, 12, 13, 14, 15, 16, 17, 18, 19, 20, 1, 2, 3, 4, 5, 6, 7, 8, 9, 10, 11, 12, 13, 14, 15, 16, 17, 18, 19, 20, 1, 2, 3, 4, 5, 6, 7, 8, 9, 10, 11, 12, 13, 14, 15, 16, 17, 18, 19, 20, 1, 2, 3, 4, 5, 6, 7, 8, 9, 10, 11, 12, 13, 14, 15, 16, 17, 18, 19, 20, 1, 2, 3, 4, 5, 6, 7, 8, 9, 10, 11, 12, 13, 14, 15, 16, 17, 18, 19, 20, 1, 2, 3, 4, 5, 6, 7, 8, 9, 10, 11, 12, 13, 14, 15, 16, 17, 18, 19, 20, 1, 2, 3, 4, 5, 6, 7, 8, 9, 10, 11, 12, 13, 14, 15, 16, 17, 18, 19, 20, 1, 2, 3, 4, 5, 6, 7, 8, 9, 10, 11, 12, 13, 14, 15, 16, 17, 18, 19, 20, 1, 2, 3, 4, 5, 6, 7, 8, 9, 10, 11, 12, 13, 14, 15, 16, 17, 18, 19, 20, 1, 2, 3, 4, 5, 6, 7, 8, 9, 10, 11, 12, 13, 14, 15, 16, 17, 18, 19, 20, 1, 2, 3, 4, 5, 6, 7, 8, 9, 10, 11, 12, 13, 14, 15, 16, 17, 18, 19, 20, 1, 2, 3, 4, 5, 6, 7, 8, 9, 10, 11, 12, 13, 14, 15, 16, 17, 18, 19, 20, 1, 2, 3, 4, 5, 6, 7, 8, 9, 10, 11, 12, 13, 14, 15, 16, 17, 18, 19, 20, 1, 2, 3, 4, 5, 6, 7, 8, 9, 10, 11, 12, 13, 14, 15, 16, 17, 18, 19, 20, 1, 2, 3, 4, 5, 6, 7, 8, 9, 10, 11, 12, 13, 14, 15, 16, 17, 18, 19, 20, 1, 2, 3, 4, 5, 6, 7, 8, 9, 10, 11, 12, 13, 14, 15, 16, 17, 18, 19, 20, 1, 2, 3, 4, 5, 6, 7, 8, 9, 10, 11, 12, 13, 14, 15, 16, 17, 18, 19, 20, 1, 2, 3, 4, 5, 6, 7, 8, 9, 10, 11, 12, 13, 14, 15, 16, 17, 18, 19, 20, 1, 2, 3, 4, 5, 6, 7, 8, 9, 10, 11, 12, 13, 14, 15, 16, 17, 18, 19, 20, 1, 2, 3, 4, 5, 6, 7, 8, 9, 10, 11, 12, 13, 14, 15, 16, 17, 18, 19, 20, 1, 2, 3, 4, 5, 6, 7, 8, 9, 10, 11, 12, 13, 14, 15, 16, 17, 18, 19, 20, 1, 2, 3, 4, 5, 6, 7, 8, 9, 10, 11, 12, 13, 14, 15, 16, 17, 18, 19, 20, 1, 2, 3, 4, 5, 6, 7, 8, 9, 10, 11, 12, 13, 14, 15, 16, 17, 18, 19, 20, 1, 2, 3, 4, 5, 6, 7, 8, 9, 10, 11, 12, 13, 14, 15, 16, 17, 18, 19, 20, 1, 2, 3, 4, 5, 6, 7, 8, 9, 10, 11, 12, 13, 14, 15, 16, 17, 18, 19, 20, 1, 2, 3, 4, 5, 6, 7, 8, 9, 10, 11, 12, 13, 14, 15, 16, 17, 18, 19, 20, 1, 2, 3, 4, 5, 6, 7, 8, 9, 10, 11, 12, 13, 14, 15, 16, 17, 18, 19, 20, 1, 2, 3, 4, 5, 6, 7, 8, 9, 10, 11, 12, 13, 14, 15, 16, 17, 18, 19, 20, 1, 2, 3, 4, 5, 6, 7, 8, 9, 10, 11, 12, 13, 14, 15, 16, 17, 18, 19, 20, 1, 2, 3, 4, 5, 6, 7, 8, 9, 10, 11, 12, 13, 14, 15, 16, 17, 18, 19, 20, 1, 2, 3, 4, 5, 6, 7, 8, 9, 10, 11, 12, 13, 14, 15, 16, 17, 18, 19, 20, 1, 2, 3, 4, 5, 6, 7, 8, 9, 10, 11, 12, 13, 14, 15, 16, 17, 18, 19, 20, 1, 2, 3, 4, 5, 6, 7, 8, 9, 10, 11, 12, 13, 14, 15, 16, 17, 18, 19, 20, 1, 2, 3, 4, 5, 6, 7, 8, 9, 10, 11, 12, 13, 14, 15, 16, 17, 18, 19, 20, 1, 2, 3, 4, 5, 6, 7, 8, 9, 10, 11, 12, 13, 14, 15, 16, 17, 18, 19, 20, 1, 2, 3, 4, 5, 6, 7, 8, 9, 10, 11, 12, 13, 14, 15, 16, 17, 18, 19, 20, 1, 2, 3, 4, 5, 6, 7, 8, 9, 10, 11, 12, 13, 14, 15, 16, 17, 18, 19, 20, 1, 2, 3, 4, 5, 6, 7, 8, 9, 10, 11, 12, 13, 14, 15, 16, 17, 18, 19, 20, 1, 2, 3, 4, 5, 6, 7, 8, 9, 10, 11, 12, 13, 14, 15, 16, 17, 18, 19, 20, 1, 2, 3, 4, 5, 6, 7, 8, 9, 10, 11, 12, 13, 14, 15, 16, 17, 18, 19, 20, 1, 2, 3, 4, 5, 6, 7, 8, 9, 10, 11, 12, 13, 14, 15, 16, 17, 18, 19, 20, 1, 2, 3, 4, 5, 6, 7, 8, 9, 10, 11, 12, 13, 14, 15, 16, 17, 18, 19, 20, 1, 2, 3, 4, 5, 6, 7, 8, 9, 10, 11, 12, 13, 14, 15, 16, 17, 18, 19, 20, 1, 2, 3, 4, 5, 6, 7, 8, 9, 10, 11, 12, 13, 14, 15, 16, 17, 18, 19, 20, 1, 2, 3, 4, 5, 6, 7, 8, 9, 10, 11, 12, 13, 14, 15, 16, 17, 18, 19, 20, 1, 2, 3, 4, 5, 6, 7, 8, 9, 10, 11, 12, 13, 14, 15, 16, 17, 18, 19, 20, 1, 2, 3, 4, 5, 6, 7, 8, 9, 10, 11, 12, 13, 14, 15, 16, 17, 18, 19, 20, 1, 2, 3, 4, 5, 6, 7, 8, 9, 10, 11, 12, 13, 14, 15, 16, 17, 18, 19, 20, 1, 2, 3, 4, 5, 6, 7, 8, 9, 10, 11, 12, 13, 14, 15, 16, 17, 18, 19, 20, 1, 2, 3, 4, 5, 6, 7, 8, 9, 10, 11, 12, 13, 14, 15, 16, 17, 18, 19, 20, 1, 2, 3, 4, 5, 6, 7, 8, 9, 10, 11, 12, 13, 14, 15, 16, 17, 18, 19, 20, 1, 2, 3, 4, 5, 6, 7, 8, 9, 10, 11, 12, 13, 14, 15, 16, 17, 18, 19, 20, 1, 2, 3, 4, 5, 6, 7, 8, 9, 10, 11, 12, 13, 14, 15, 16, 17, 18, 19, 20, 1, 2, 3, 4, 5, 6, 7, 8, 9, 10, 11, 12, 13, 14, 15, 16, 17, 18, 19, 20, 1, 2, 3, 4, 5, 6, 7, 8, 9, 10, 11, 12, 13, 14, 15, 16, 17, 18, 19, 20, 1, 2, 3, 4, 5, 6, 7, 8, 9, 10, 11, 12, 13, 14, 15, 16, 17, 18, 19, 20, 1, 2, 3, 4, 5, 6, 7, 8, 9, 10, 11, 12, 13, 14, 15, 16, 17, 18, 19, 20, 1, 2, 3, 4, 5, 6, 7, 8, 9, 10, 11, 12, 13, 14, 15, 16, 17, 18, 19, 20, 1, 2, 3, 4, 5, 6, 7, 8, 9, 10, 11, 12, 13, 14, 15, 16, 17, 18, 19, 20, 1, 2, 3, 4, 5, 6, 7, 8, 9, 10, 11, 12, 13, 14, 15, 16, 17, 18, 19, 20, 1, 2, 3, 4, 5, 6, 7, 8, 9, 10, 11, 12, 13, 14, 15, 16, 17, 18, 19, 20, 1, 2, 3, 4, 5, 6, 7, 8, 9, 10, 11, 12, 13, 14, 15, 16, 17, 18, 19, 20, 1, 2, 3, 4, 5, 6, 7, 8, 9, 10, 11, 12, 13, 14, 15, 16, 17, 18, 19, 20, 1, 2, 3, 4, 5, 6, 7, 8, 9, 10, 11, 12, 13, 14, 15, 16, 17, 18, 19, 20, 1, 2, 3, 4, 5, 6, 7, 8, 9, 10, 11, 12, 13, 14, 15, 16, 17, 18, 19, 20, 1, 2, 3, 4, 5, 6, 7, 8, 9, 10, 11, 12, 13, 14, 15, 16, 17, 18, 19, 20, 1, 2, 3, 4, 5, 6, 7, 8, 9, 10, 11, 12, 13, 14, 15, 16, 17, 18, 19, 20, 1, 2, 3, 4, 5, 6, 7, 8, 9, 10, 11, 12, 13, 14, 15, 16, 17, 18, 19, 20, 1, 2, 3, 4, 5, 6, 7, 8, 9, 10, 11, 12, 13, 14, 15, 16, 17, 18, 19, 20, 1, 2, 3, 4, 5, 6, 7, 8, 9, 10, 11, 12, 13, 14, 15, 16, 17, 18, 19, 20, 1, 2, 3, 4, 5, 6, 7, 8, 9, 10, 11, 12, 13, 14, 15, 16, 17, 18, 19, 20, 1, 2, 3, 4, 5, 6, 7, 8, 9, 10, 11, 12, 13, 14, 15, 16, 17, 18, 19, 20, 1, 2, 3, 4, 5, 6, 7, 8, 9, 10, 11, 12, 13, 14, 15, 16, 17, 18, 19, 20, 1, 2, 3, 4, 5, 6, 7, 8, 9, 10, 11, 12, 13, 14, 15, 16, 17, 18, 19, 20, 1, 2, 3, 4, 5, 6, 7, 8, 9, 10, 11, 12, 13, 14, 15, 16, 17, 18, 19, 20, 1, 2, 3, 4, 5, 6, 7, 8, 9, 10, 11, 12, 13, 14, 15, 16, 17, 18, 19, 20, 1, 2, 3, 4, 5, 6, 7, 8, 9, 10, 11, 12, 13, 14, 15, 16, 17, 18, 19, 20, 1, 2, 3, 4, 5, 6, 7, 8, 9, 10, 11, 12, 13, 14, 15, 16, 17, 18, 19, 20, 1, 2, 3, 4, 5, 6, 7, 8, 9, 10, 11, 12, 13, 14, 15, 16, 17, 18, 19, 20, 1, 2, 3, 4, 5, 6, 7, 8, 9, 10, 11, 12, 13, 14, 15, 16, 17, 18, 19, 20, 1, 2, 3, 4, 5, 6, 7, 8, 9, 10, 11, 12, 13, 14, 15, 16, 17, 18, 19, 20, 1, 2, 3, 4, 5, 6, 7, 8, 9, 10, 11, 12, 13, 14, 15, 16, 17, 18, 19, 20, 1, 2, 3, 4, 5, 6, 7, 8, 9, 10, 11, 12, 13, 14, 15, 16, 17, 18, 19, 20, 1, 2, 3, 4, 5, 6, 7, 8, 9, 10, 11, 12, 13, 14, 15, 16, 17, 18, 19, 20, 1, 2, 3, 4, 5, 6, 7, 8, 9, 10, 11, 12, 13, 14, 15, 16, 17, 18, 19, 20, 1, 2, 3, 4, 5, 6, 7, 8, 9, 10, 11, 12, 13, 14, 15, 16, 17, 18, 19, 20, 1, 2, 3, 4, 5, 6, 7, 8, 9, 10, 11, 12, 13, 14, 15, 16, 17, 18, 19, 20, 1, 2, 3, 4, 5, 6, 7, 8, 9, 10, 11, 12, 13, 14, 15, 16, 17, 18, 19, 20, 1, 2, 3, 4, 5, 6, 7, 8, 9, 10, 11, 12, 13, 14, 15, 16, 17, 18, 19, 20, 1, 2, 3, 4, 5, 6, 7, 8, 9, 10, 11, 12, 13, 14, 15, 16, 17, 18, 19, 20, 1, 2, 3, 4, 5, 6, 7, 8, 9, 10, 11, 12, 13, 14, 15, 16, 17, 18, 19, 20, 1, 2, 3, 4, 5, 6, 7, 8, 9, 10, 11, 12, 13, 14, 15, 16, 17, 18, 19, 20, 1, 2, 3, 4, 5, 6, 7, 8, 9, 10, 11, 12, 13, 14, 15, 16, 17, 18, 19, 20, 1, 2, 3, 4, 5, 6, 7, 8, 9, 10, 11, 12, 13, 14, 15, 16, 17, 18, 19, 20, 1, 2, 3, 4, 5, 6, 7, 8, 9, 10, 11, 12, 13, 14, 15, 16, 17, 18, 19, 20, 1, 2, 3, 4, 5, 6, 7, 8, 9, 10, 11, 12, 13, 14, 15, 16, 17, 18, 19, 20, 1, 2, 3, 4, 5, 6, 7, 8, 9, 10, 11, 12, 13, 14, 15, 16, 17, 18, 19, 20, 1, 2, 3, 4, 5, 6, 7, 8, 9, 10, 11, 12, 13, 14, 15, 16, 17, 18, 19, 20, 1, 2, 3, 4, 5, 6, 7, 8, 9, 10, 11, 12, 13, 14, 15, 16, 17, 18, 19, 20, 1, 2, 3, 4, 5, 6, 7, 8, 9, 10, 11, 12, 13, 14, 15, 16, 17, 18, 19, 20, 1, 2, 3, 4, 5, 6, 7, 8, 9, 10, 11, 12, 13, 14, 15, 16, 17, 18, 19, 20, 1, 2, 3, 4, 5, 6, 7, 8, 9, 10, 11, 12, 13, 14, 15, 16, 17, 18, 19, 20, 1, 2, 3, 4, 5, 6, 7, 8, 9, 10, 11, 12, 13, 14, 15, 16, 17, 18, 19, 20, 1, 2, 3, 4, 5, 6, 7, 8, 9, 10, 11, 12, 13, 14, 15, 16, 17, 18, 19, 20, 1, 2, 3, 4, 5, 6, 7, 8, 9, 10, 11, 12, 13, 14, 15, 16, 17, 18, 19, 20, 1, 2, 3, 4, 5, 6, 7, 8, 9, 10, 11, 12, 13, 14, 15, 16, 17, 18, 19, 20, 1, 2, 3, 4, 5, 6, 7, 8, 9, 10, 11, 12, 13, 14, 15, 16, 17, 18, 19, 20, 1, 2, 3, 4, 5, 6, 7, 8, 9, 10, 11, 12, 13, 14, 15, 16, 17, 18, 19, 20, 1, 2, 3, 4, 5, 6, 7, 8, 9, 10, 11, 12, 13, 14, 15, 16, 17, 18, 19, 20, 1, 2, 3, 4, 5, 6, 7, 8, 9, 10, 11, 12, 13, 14, 15, 16, 17, 18, 19, 20, 1, 2, 3, 4, 5, 6, 7, 8, 9, 10, 11, 12, 13, 14, 15, 16, 17, 18, 19, 20, 1, 2, 3, 4, 5, 6, 7, 8, 9, 10, 11, 12, 13, 14, 15, 16, 17, 18, 19, 20, 1, 2, 3, 4, 5, 6, 7, 8, 9, 10, 11, 12, 13, 14, 15, 16, 17, 18, 19, 20, 1, 2, 3, 4, 5, 6, 7, 8, 9, 10, 11, 12, 13, 14, 15, 16, 17, 18, 19, 20, 1, 2, 3, 4, 5, 6, 7, 8, 9, 10, 11, 12, 13, 14, 15, 16, 17, 18, 19, 20, 1, 2, 3, 4, 5, 6, 7, 8, 9, 10, 11, 12, 13, 14, 15, 16, 17, 18, 19, 20, 1, 2, 3, 4, 5, 6, 7, 8, 9, 10, 11, 12, 13, 14, 15, 16, 17, 18, 19, 20, 1, 2, 3, 4, 5, 6, 7, 8, 9, 10, 11, 12, 13, 14, 15, 16, 17, 18, 19, 20, 1, 2, 3, 4, 5, 6, 7, 8, 9, 10, 11, 12, 13, 14, 15, 16, 17, 18, 19, 20, 1, 2, 3, 4, 5, 6, 7, 8, 9, 10, 11, 12, 13, 14, 15, 16, 17, 18, 19, 20, 1, 2, 3, 4, 5, 6, 7, 8, 9, 10, 11, 12, 13, 14, 15, 16, 17, 18, 19, 20, 1, 2, 3, 4, 5, 6, 7, 8, 9, 10, 11, 12, 13, 14, 15, 16, 17, 18, 19, 20, 1, 2, 3, 4, 5, 6, 7, 8, 9, 10, 11, 12, 13, 14, 15, 16, 17, 18, 19, 20, 1, 2, 3, 4, 5, 6, 7, 8, 9, 10, 11, 12, 13, 14, 15, 16, 17, 18, 19, 20, 1, 2, 3, 4, 5, 6, 7, 8, 9, 10, 11, 12, 13, 14, 15, 16, 17, 18, 19, 20, 1, 2, 3, 4, 5, 6, 7, 8, 9, 10, 11, 12, 13, 14, 15, 16, 17, 18, 19, 20, 1, 2, 3, 4, 5, 6, 7, 8, 9, 10, 11, 12, 13, 14, 15, 16, 17, 18, 19, 20, 1, 2, 3, 4, 5, 6, 7, 8, 9, 10, 11, 12, 13, 14, 15, 16, 17, 18, 19, 20, 1, 2, 3, 4, 5, 6, 7, 8, 9, 10, 11, 12, 13, 14, 15, 16, 17, 18, 19, 20, 1, 2, 3, 4, 5, 6, 7, 8, 9, 10, 11, 12, 13, 14, 15, 16, 17, 18, 19, 20, 1, 2, 3, 4, 5, 6, 7, 8, 9, 10, 11, 12, 13, 14, 15, 16, 17, 18, 19, 20], \"Freq\": [0.05687881667399236, 0.05687881667399236, 0.05687881667399236, 0.05687881667399236, 0.05687881667399236, 0.05687881667399236, 0.05687881667399236, 0.05687881667399236, 0.05687881667399236, 0.05687881667399236, 0.05687881667399236, 0.05687881667399236, 0.05687881667399236, 0.05687881667399236, 0.05687881667399236, 0.05687881667399236, 0.05687881667399236, 0.05687881667399236, 0.05687881667399236, 0.05687881667399236, 0.05605873268529046, 0.05605873268529046, 0.05605873268529046, 0.05605873268529046, 0.05605873268529046, 0.05605873268529046, 0.05605873268529046, 0.05605873268529046, 0.05605873268529046, 0.05605873268529046, 0.05605873268529046, 0.05605873268529046, 0.05605873268529046, 0.05605873268529046, 0.05605873268529046, 0.05605873268529046, 0.05605873268529046, 0.05605873268529046, 0.05605873268529046, 0.05605873268529046, 0.05636870575830779, 0.05636870575830779, 0.05636870575830779, 0.05636870575830779, 0.05636870575830779, 0.05636870575830779, 0.05636870575830779, 0.05636870575830779, 0.05636870575830779, 0.05636870575830779, 0.05636870575830779, 0.05636870575830779, 0.05636870575830779, 0.05636870575830779, 0.05636870575830779, 0.05636870575830779, 0.05636870575830779, 0.05636870575830779, 0.05636870575830779, 0.05636870575830779, 0.05703651552928601, 0.05703651552928601, 0.05703651552928601, 0.05703651552928601, 0.05703651552928601, 0.05703651552928601, 0.05703651552928601, 0.05703651552928601, 0.05703651552928601, 0.05703651552928601, 0.05703651552928601, 0.05703651552928601, 0.05703651552928601, 0.05703651552928601, 0.05703651552928601, 0.05703651552928601, 0.05703651552928601, 0.05703651552928601, 0.05703651552928601, 0.05703651552928601, 0.0563782426291278, 0.0563782426291278, 0.0563782426291278, 0.0563782426291278, 0.0563782426291278, 0.0563782426291278, 0.0563782426291278, 0.0563782426291278, 0.0563782426291278, 0.0563782426291278, 0.0563782426291278, 0.0563782426291278, 0.0563782426291278, 0.0563782426291278, 0.0563782426291278, 0.0563782426291278, 0.0563782426291278, 0.0563782426291278, 0.0563782426291278, 0.0563782426291278, 0.055884631470203755, 0.055884631470203755, 0.055884631470203755, 0.055884631470203755, 0.055884631470203755, 0.055884631470203755, 0.055884631470203755, 0.055884631470203755, 0.055884631470203755, 0.055884631470203755, 0.055884631470203755, 0.055884631470203755, 0.055884631470203755, 0.055884631470203755, 0.055884631470203755, 0.055884631470203755, 0.055884631470203755, 0.055884631470203755, 0.055884631470203755, 0.055884631470203755, 0.05629961167800249, 0.05629961167800249, 0.05629961167800249, 0.05629961167800249, 0.05629961167800249, 0.05629961167800249, 0.05629961167800249, 0.05629961167800249, 0.05629961167800249, 0.05629961167800249, 0.05629961167800249, 0.05629961167800249, 0.05629961167800249, 0.05629961167800249, 0.05629961167800249, 0.05629961167800249, 0.05629961167800249, 0.05629961167800249, 0.05629961167800249, 0.05629961167800249, 0.05699084819429629, 0.05699084819429629, 0.05699084819429629, 0.05699084819429629, 0.05699084819429629, 0.05699084819429629, 0.05699084819429629, 0.05699084819429629, 0.05699084819429629, 0.05699084819429629, 0.05699084819429629, 0.05699084819429629, 0.05699084819429629, 0.05699084819429629, 0.05699084819429629, 0.05699084819429629, 0.05699084819429629, 0.05699084819429629, 0.05699084819429629, 0.05699084819429629, 0.05640246980223906, 0.05640246980223906, 0.05640246980223906, 0.05640246980223906, 0.05640246980223906, 0.05640246980223906, 0.05640246980223906, 0.05640246980223906, 0.05640246980223906, 0.05640246980223906, 0.05640246980223906, 0.05640246980223906, 0.05640246980223906, 0.05640246980223906, 0.05640246980223906, 0.05640246980223906, 0.05640246980223906, 0.05640246980223906, 0.05640246980223906, 0.05640246980223906, 0.05593154129207047, 0.05593154129207047, 0.05593154129207047, 0.05593154129207047, 0.05593154129207047, 0.05593154129207047, 0.05593154129207047, 0.05593154129207047, 0.05593154129207047, 0.05593154129207047, 0.05593154129207047, 0.05593154129207047, 0.05593154129207047, 0.05593154129207047, 0.05593154129207047, 0.05593154129207047, 0.05593154129207047, 0.05593154129207047, 0.05593154129207047, 0.05593154129207047, 0.05656539096918033, 0.05656539096918033, 0.05656539096918033, 0.05656539096918033, 0.05656539096918033, 0.05656539096918033, 0.05656539096918033, 0.05656539096918033, 0.05656539096918033, 0.05656539096918033, 0.05656539096918033, 0.05656539096918033, 0.05656539096918033, 0.05656539096918033, 0.05656539096918033, 0.05656539096918033, 0.05656539096918033, 0.05656539096918033, 0.05656539096918033, 0.05656539096918033, 0.05651632273355144, 0.05651632273355144, 0.05651632273355144, 0.05651632273355144, 0.05651632273355144, 0.05651632273355144, 0.05651632273355144, 0.05651632273355144, 0.05651632273355144, 0.05651632273355144, 0.05651632273355144, 0.05651632273355144, 0.05651632273355144, 0.05651632273355144, 0.05651632273355144, 0.05651632273355144, 0.05651632273355144, 0.05651632273355144, 0.05651632273355144, 0.05651632273355144, 0.05474090860014093, 0.05474090860014093, 0.05474090860014093, 0.05474090860014093, 0.05474090860014093, 0.05474090860014093, 0.05474090860014093, 0.05474090860014093, 0.05474090860014093, 0.05474090860014093, 0.05474090860014093, 0.05474090860014093, 0.05474090860014093, 0.05474090860014093, 0.05474090860014093, 0.05474090860014093, 0.05474090860014093, 0.05474090860014093, 0.05474090860014093, 0.05474090860014093, 0.056945737876262906, 0.056945737876262906, 0.056945737876262906, 0.056945737876262906, 0.056945737876262906, 0.056945737876262906, 0.056945737876262906, 0.056945737876262906, 0.056945737876262906, 0.056945737876262906, 0.056945737876262906, 0.056945737876262906, 0.056945737876262906, 0.056945737876262906, 0.056945737876262906, 0.056945737876262906, 0.056945737876262906, 0.056945737876262906, 0.056945737876262906, 0.056945737876262906, 0.055932670490339634, 0.055932670490339634, 0.055932670490339634, 0.055932670490339634, 0.055932670490339634, 0.055932670490339634, 0.055932670490339634, 0.055932670490339634, 0.055932670490339634, 0.055932670490339634, 0.055932670490339634, 0.055932670490339634, 0.055932670490339634, 0.055932670490339634, 0.055932670490339634, 0.055932670490339634, 0.055932670490339634, 0.055932670490339634, 0.055932670490339634, 0.055932670490339634, 0.055830850959110126, 0.055830850959110126, 0.055830850959110126, 0.055830850959110126, 0.055830850959110126, 0.055830850959110126, 0.055830850959110126, 0.055830850959110126, 0.055830850959110126, 0.055830850959110126, 0.055830850959110126, 0.055830850959110126, 0.055830850959110126, 0.055830850959110126, 0.055830850959110126, 0.055830850959110126, 0.055830850959110126, 0.055830850959110126, 0.055830850959110126, 0.055830850959110126, 0.05523531639090737, 0.05523531639090737, 0.05523531639090737, 0.05523531639090737, 0.05523531639090737, 0.05523531639090737, 0.05523531639090737, 0.05523531639090737, 0.05523531639090737, 0.05523531639090737, 0.05523531639090737, 0.05523531639090737, 0.05523531639090737, 0.05523531639090737, 0.05523531639090737, 0.05523531639090737, 0.05523531639090737, 0.05523531639090737, 0.05523531639090737, 0.05523531639090737, 0.05531679175104446, 0.05531679175104446, 0.05531679175104446, 0.05531679175104446, 0.05531679175104446, 0.05531679175104446, 0.05531679175104446, 0.05531679175104446, 0.05531679175104446, 0.05531679175104446, 0.05531679175104446, 0.05531679175104446, 0.05531679175104446, 0.05531679175104446, 0.05531679175104446, 0.05531679175104446, 0.05531679175104446, 0.05531679175104446, 0.05531679175104446, 0.05531679175104446, 0.05540399190499932, 0.05540399190499932, 0.05540399190499932, 0.05540399190499932, 0.05540399190499932, 0.05540399190499932, 0.05540399190499932, 0.05540399190499932, 0.05540399190499932, 0.05540399190499932, 0.05540399190499932, 0.05540399190499932, 0.05540399190499932, 0.05540399190499932, 0.05540399190499932, 0.05540399190499932, 0.05540399190499932, 0.05540399190499932, 0.05540399190499932, 0.05540399190499932, 0.05629728172861753, 0.05629728172861753, 0.05629728172861753, 0.05629728172861753, 0.05629728172861753, 0.05629728172861753, 0.05629728172861753, 0.05629728172861753, 0.05629728172861753, 0.05629728172861753, 0.05629728172861753, 0.05629728172861753, 0.05629728172861753, 0.05629728172861753, 0.05629728172861753, 0.05629728172861753, 0.05629728172861753, 0.05629728172861753, 0.05629728172861753, 0.05629728172861753, 0.05620007329884478, 0.05620007329884478, 0.05620007329884478, 0.05620007329884478, 0.05620007329884478, 0.05620007329884478, 0.05620007329884478, 0.05620007329884478, 0.05620007329884478, 0.05620007329884478, 0.05620007329884478, 0.05620007329884478, 0.05620007329884478, 0.05620007329884478, 0.05620007329884478, 0.05620007329884478, 0.05620007329884478, 0.05620007329884478, 0.05620007329884478, 0.05620007329884478, 0.056102537995042966, 0.056102537995042966, 0.056102537995042966, 0.056102537995042966, 0.056102537995042966, 0.056102537995042966, 0.056102537995042966, 0.056102537995042966, 0.056102537995042966, 0.056102537995042966, 0.056102537995042966, 0.056102537995042966, 0.056102537995042966, 0.056102537995042966, 0.056102537995042966, 0.056102537995042966, 0.056102537995042966, 0.056102537995042966, 0.056102537995042966, 0.056102537995042966, 0.056799912419937676, 0.056799912419937676, 0.056799912419937676, 0.056799912419937676, 0.056799912419937676, 0.056799912419937676, 0.056799912419937676, 0.056799912419937676, 0.056799912419937676, 0.056799912419937676, 0.056799912419937676, 0.056799912419937676, 0.056799912419937676, 0.056799912419937676, 0.056799912419937676, 0.056799912419937676, 0.056799912419937676, 0.056799912419937676, 0.056799912419937676, 0.056799912419937676, 0.055422315166739775, 0.055422315166739775, 0.055422315166739775, 0.055422315166739775, 0.055422315166739775, 0.055422315166739775, 0.055422315166739775, 0.055422315166739775, 0.055422315166739775, 0.055422315166739775, 0.055422315166739775, 0.055422315166739775, 0.055422315166739775, 0.055422315166739775, 0.055422315166739775, 0.055422315166739775, 0.055422315166739775, 0.055422315166739775, 0.055422315166739775, 0.055422315166739775, 0.056902643395128745, 0.056902643395128745, 0.056902643395128745, 0.056902643395128745, 0.056902643395128745, 0.056902643395128745, 0.056902643395128745, 0.056902643395128745, 0.056902643395128745, 0.056902643395128745, 0.056902643395128745, 0.056902643395128745, 0.056902643395128745, 0.056902643395128745, 0.056902643395128745, 0.056902643395128745, 0.056902643395128745, 0.056902643395128745, 0.056902643395128745, 0.056902643395128745, 0.055174236604076866, 0.055174236604076866, 0.055174236604076866, 0.055174236604076866, 0.055174236604076866, 0.055174236604076866, 0.055174236604076866, 0.055174236604076866, 0.055174236604076866, 0.055174236604076866, 0.055174236604076866, 0.055174236604076866, 0.055174236604076866, 0.055174236604076866, 0.055174236604076866, 0.055174236604076866, 0.055174236604076866, 0.055174236604076866, 0.055174236604076866, 0.055174236604076866, 0.05692750121508972, 0.05692750121508972, 0.05692750121508972, 0.05692750121508972, 0.05692750121508972, 0.05692750121508972, 0.05692750121508972, 0.05692750121508972, 0.05692750121508972, 0.05692750121508972, 0.05692750121508972, 0.05692750121508972, 0.05692750121508972, 0.05692750121508972, 0.05692750121508972, 0.05692750121508972, 0.05692750121508972, 0.05692750121508972, 0.05692750121508972, 0.05692750121508972, 0.05591849513830616, 0.05591849513830616, 0.05591849513830616, 0.05591849513830616, 0.05591849513830616, 0.05591849513830616, 0.05591849513830616, 0.05591849513830616, 0.05591849513830616, 0.05591849513830616, 0.05591849513830616, 0.05591849513830616, 0.05591849513830616, 0.05591849513830616, 0.05591849513830616, 0.05591849513830616, 0.05591849513830616, 0.05591849513830616, 0.05591849513830616, 0.05591849513830616, 0.05701227610086892, 0.05701227610086892, 0.05701227610086892, 0.05701227610086892, 0.05701227610086892, 0.05701227610086892, 0.05701227610086892, 0.05701227610086892, 0.05701227610086892, 0.05701227610086892, 0.05701227610086892, 0.05701227610086892, 0.05701227610086892, 0.05701227610086892, 0.05701227610086892, 0.05701227610086892, 0.05701227610086892, 0.05701227610086892, 0.05701227610086892, 0.05701227610086892, 0.056012605349189525, 0.056012605349189525, 0.056012605349189525, 0.056012605349189525, 0.056012605349189525, 0.056012605349189525, 0.056012605349189525, 0.056012605349189525, 0.056012605349189525, 0.056012605349189525, 0.056012605349189525, 0.056012605349189525, 0.056012605349189525, 0.056012605349189525, 0.056012605349189525, 0.056012605349189525, 0.056012605349189525, 0.056012605349189525, 0.056012605349189525, 0.056012605349189525, 0.05637524425703374, 0.05637524425703374, 0.05637524425703374, 0.05637524425703374, 0.05637524425703374, 0.05637524425703374, 0.05637524425703374, 0.05637524425703374, 0.05637524425703374, 0.05637524425703374, 0.05637524425703374, 0.05637524425703374, 0.05637524425703374, 0.05637524425703374, 0.05637524425703374, 0.05637524425703374, 0.05637524425703374, 0.05637524425703374, 0.05637524425703374, 0.05637524425703374, 0.055582602782974895, 0.055582602782974895, 0.055582602782974895, 0.055582602782974895, 0.055582602782974895, 0.055582602782974895, 0.055582602782974895, 0.055582602782974895, 0.055582602782974895, 0.055582602782974895, 0.055582602782974895, 0.055582602782974895, 0.055582602782974895, 0.055582602782974895, 0.055582602782974895, 0.055582602782974895, 0.055582602782974895, 0.055582602782974895, 0.055582602782974895, 0.055582602782974895, 0.05480928921431475, 0.05480928921431475, 0.05480928921431475, 0.05480928921431475, 0.05480928921431475, 0.05480928921431475, 0.05480928921431475, 0.05480928921431475, 0.05480928921431475, 0.05480928921431475, 0.05480928921431475, 0.05480928921431475, 0.05480928921431475, 0.05480928921431475, 0.05480928921431475, 0.05480928921431475, 0.05480928921431475, 0.05480928921431475, 0.05480928921431475, 0.05480928921431475, 0.05536115654139911, 0.05536115654139911, 0.05536115654139911, 0.05536115654139911, 0.05536115654139911, 0.05536115654139911, 0.05536115654139911, 0.05536115654139911, 0.05536115654139911, 0.05536115654139911, 0.05536115654139911, 0.05536115654139911, 0.05536115654139911, 0.05536115654139911, 0.05536115654139911, 0.05536115654139911, 0.05536115654139911, 0.05536115654139911, 0.05536115654139911, 0.05536115654139911, 0.05598942603031442, 0.05598942603031442, 0.05598942603031442, 0.05598942603031442, 0.05598942603031442, 0.05598942603031442, 0.05598942603031442, 0.05598942603031442, 0.05598942603031442, 0.05598942603031442, 0.05598942603031442, 0.05598942603031442, 0.05598942603031442, 0.05598942603031442, 0.05598942603031442, 0.05598942603031442, 0.05598942603031442, 0.05598942603031442, 0.05598942603031442, 0.05598942603031442, 0.0545548352285047, 0.0545548352285047, 0.0545548352285047, 0.0545548352285047, 0.0545548352285047, 0.0545548352285047, 0.0545548352285047, 0.0545548352285047, 0.0545548352285047, 0.0545548352285047, 0.0545548352285047, 0.0545548352285047, 0.0545548352285047, 0.0545548352285047, 0.0545548352285047, 0.0545548352285047, 0.0545548352285047, 0.0545548352285047, 0.0545548352285047, 0.0545548352285047, 0.05580718271283584, 0.05580718271283584, 0.05580718271283584, 0.05580718271283584, 0.05580718271283584, 0.05580718271283584, 0.05580718271283584, 0.05580718271283584, 0.05580718271283584, 0.05580718271283584, 0.05580718271283584, 0.05580718271283584, 0.05580718271283584, 0.05580718271283584, 0.05580718271283584, 0.05580718271283584, 0.05580718271283584, 0.05580718271283584, 0.05580718271283584, 0.05580718271283584, 0.05566200829389339, 0.05566200829389339, 0.05566200829389339, 0.05566200829389339, 0.05566200829389339, 0.05566200829389339, 0.05566200829389339, 0.05566200829389339, 0.05566200829389339, 0.05566200829389339, 0.05566200829389339, 0.05566200829389339, 0.05566200829389339, 0.05566200829389339, 0.05566200829389339, 0.05566200829389339, 0.05566200829389339, 0.05566200829389339, 0.05566200829389339, 0.05566200829389339, 0.055562942104706414, 0.055562942104706414, 0.055562942104706414, 0.055562942104706414, 0.055562942104706414, 0.055562942104706414, 0.055562942104706414, 0.055562942104706414, 0.055562942104706414, 0.055562942104706414, 0.055562942104706414, 0.055562942104706414, 0.055562942104706414, 0.055562942104706414, 0.055562942104706414, 0.055562942104706414, 0.055562942104706414, 0.055562942104706414, 0.055562942104706414, 0.055562942104706414, 0.05675327360397393, 0.05675327360397393, 0.05675327360397393, 0.05675327360397393, 0.05675327360397393, 0.05675327360397393, 0.05675327360397393, 0.05675327360397393, 0.05675327360397393, 0.05675327360397393, 0.05675327360397393, 0.05675327360397393, 0.05675327360397393, 0.05675327360397393, 0.05675327360397393, 0.05675327360397393, 0.05675327360397393, 0.05675327360397393, 0.05675327360397393, 0.05675327360397393, 0.05557484431711049, 0.05557484431711049, 0.05557484431711049, 0.05557484431711049, 0.05557484431711049, 0.05557484431711049, 0.05557484431711049, 0.05557484431711049, 0.05557484431711049, 0.05557484431711049, 0.05557484431711049, 0.05557484431711049, 0.05557484431711049, 0.05557484431711049, 0.05557484431711049, 0.05557484431711049, 0.05557484431711049, 0.05557484431711049, 0.05557484431711049, 0.05557484431711049, 0.055910057018952374, 0.055910057018952374, 0.055910057018952374, 0.055910057018952374, 0.055910057018952374, 0.055910057018952374, 0.055910057018952374, 0.055910057018952374, 0.055910057018952374, 0.055910057018952374, 0.055910057018952374, 0.055910057018952374, 0.055910057018952374, 0.055910057018952374, 0.055910057018952374, 0.055910057018952374, 0.055910057018952374, 0.055910057018952374, 0.055910057018952374, 0.055910057018952374, 0.0558248158599459, 0.0558248158599459, 0.0558248158599459, 0.0558248158599459, 0.0558248158599459, 0.0558248158599459, 0.0558248158599459, 0.0558248158599459, 0.0558248158599459, 0.0558248158599459, 0.0558248158599459, 0.0558248158599459, 0.0558248158599459, 0.0558248158599459, 0.0558248158599459, 0.0558248158599459, 0.0558248158599459, 0.0558248158599459, 0.0558248158599459, 0.0558248158599459, 0.056560745755822525, 0.056560745755822525, 0.056560745755822525, 0.056560745755822525, 0.056560745755822525, 0.056560745755822525, 0.056560745755822525, 0.056560745755822525, 0.056560745755822525, 0.056560745755822525, 0.056560745755822525, 0.056560745755822525, 0.056560745755822525, 0.056560745755822525, 0.056560745755822525, 0.056560745755822525, 0.056560745755822525, 0.056560745755822525, 0.056560745755822525, 0.056560745755822525, 0.05534790516950113, 0.05534790516950113, 0.05534790516950113, 0.05534790516950113, 0.05534790516950113, 0.05534790516950113, 0.05534790516950113, 0.05534790516950113, 0.05534790516950113, 0.05534790516950113, 0.05534790516950113, 0.05534790516950113, 0.05534790516950113, 0.05534790516950113, 0.05534790516950113, 0.05534790516950113, 0.05534790516950113, 0.05534790516950113, 0.05534790516950113, 0.05534790516950113, 0.056717043679580026, 0.056717043679580026, 0.056717043679580026, 0.056717043679580026, 0.056717043679580026, 0.056717043679580026, 0.056717043679580026, 0.056717043679580026, 0.056717043679580026, 0.056717043679580026, 0.056717043679580026, 0.056717043679580026, 0.056717043679580026, 0.056717043679580026, 0.056717043679580026, 0.056717043679580026, 0.056717043679580026, 0.056717043679580026, 0.056717043679580026, 0.056717043679580026, 0.056705613145816874, 0.056705613145816874, 0.056705613145816874, 0.056705613145816874, 0.056705613145816874, 0.056705613145816874, 0.056705613145816874, 0.056705613145816874, 0.056705613145816874, 0.056705613145816874, 0.056705613145816874, 0.056705613145816874, 0.056705613145816874, 0.056705613145816874, 0.056705613145816874, 0.056705613145816874, 0.056705613145816874, 0.056705613145816874, 0.056705613145816874, 0.056705613145816874, 0.05605384369314039, 0.05605384369314039, 0.05605384369314039, 0.05605384369314039, 0.05605384369314039, 0.05605384369314039, 0.05605384369314039, 0.05605384369314039, 0.05605384369314039, 0.05605384369314039, 0.05605384369314039, 0.05605384369314039, 0.05605384369314039, 0.05605384369314039, 0.05605384369314039, 0.05605384369314039, 0.05605384369314039, 0.05605384369314039, 0.05605384369314039, 0.05605384369314039, 0.05579747555715165, 0.05579747555715165, 0.05579747555715165, 0.05579747555715165, 0.05579747555715165, 0.05579747555715165, 0.05579747555715165, 0.05579747555715165, 0.05579747555715165, 0.05579747555715165, 0.05579747555715165, 0.05579747555715165, 0.05579747555715165, 0.05579747555715165, 0.05579747555715165, 0.05579747555715165, 0.05579747555715165, 0.05579747555715165, 0.05579747555715165, 0.05579747555715165, 0.0550196518569976, 0.0550196518569976, 0.0550196518569976, 0.0550196518569976, 0.0550196518569976, 0.0550196518569976, 0.0550196518569976, 0.0550196518569976, 0.0550196518569976, 0.0550196518569976, 0.0550196518569976, 0.0550196518569976, 0.0550196518569976, 0.0550196518569976, 0.0550196518569976, 0.0550196518569976, 0.0550196518569976, 0.0550196518569976, 0.0550196518569976, 0.0550196518569976, 0.055332540559812834, 0.055332540559812834, 0.055332540559812834, 0.055332540559812834, 0.055332540559812834, 0.055332540559812834, 0.055332540559812834, 0.055332540559812834, 0.055332540559812834, 0.055332540559812834, 0.055332540559812834, 0.055332540559812834, 0.055332540559812834, 0.055332540559812834, 0.055332540559812834, 0.055332540559812834, 0.055332540559812834, 0.055332540559812834, 0.055332540559812834, 0.055332540559812834, 0.056912014123526054, 0.056912014123526054, 0.056912014123526054, 0.056912014123526054, 0.056912014123526054, 0.056912014123526054, 0.056912014123526054, 0.056912014123526054, 0.056912014123526054, 0.056912014123526054, 0.056912014123526054, 0.056912014123526054, 0.056912014123526054, 0.056912014123526054, 0.056912014123526054, 0.056912014123526054, 0.056912014123526054, 0.056912014123526054, 0.056912014123526054, 0.056912014123526054, 0.056132597338228424, 0.056132597338228424, 0.056132597338228424, 0.056132597338228424, 0.056132597338228424, 0.056132597338228424, 0.056132597338228424, 0.056132597338228424, 0.056132597338228424, 0.056132597338228424, 0.056132597338228424, 0.056132597338228424, 0.056132597338228424, 0.056132597338228424, 0.056132597338228424, 0.056132597338228424, 0.056132597338228424, 0.056132597338228424, 0.056132597338228424, 0.056132597338228424, 0.05459484304937024, 0.05459484304937024, 0.05459484304937024, 0.05459484304937024, 0.05459484304937024, 0.05459484304937024, 0.05459484304937024, 0.05459484304937024, 0.05459484304937024, 0.05459484304937024, 0.05459484304937024, 0.05459484304937024, 0.05459484304937024, 0.05459484304937024, 0.05459484304937024, 0.05459484304937024, 0.05459484304937024, 0.05459484304937024, 0.05459484304937024, 0.05459484304937024, 0.05621997952767511, 0.05621997952767511, 0.05621997952767511, 0.05621997952767511, 0.05621997952767511, 0.05621997952767511, 0.05621997952767511, 0.05621997952767511, 0.05621997952767511, 0.05621997952767511, 0.05621997952767511, 0.05621997952767511, 0.05621997952767511, 0.05621997952767511, 0.05621997952767511, 0.05621997952767511, 0.05621997952767511, 0.05621997952767511, 0.05621997952767511, 0.05621997952767511, 0.056919622420542486, 0.056919622420542486, 0.056919622420542486, 0.056919622420542486, 0.056919622420542486, 0.056919622420542486, 0.056919622420542486, 0.056919622420542486, 0.056919622420542486, 0.056919622420542486, 0.056919622420542486, 0.056919622420542486, 0.056919622420542486, 0.056919622420542486, 0.056919622420542486, 0.056919622420542486, 0.056919622420542486, 0.056919622420542486, 0.056919622420542486, 0.056919622420542486, 0.0561472344158342, 0.0561472344158342, 0.0561472344158342, 0.0561472344158342, 0.0561472344158342, 0.0561472344158342, 0.0561472344158342, 0.0561472344158342, 0.0561472344158342, 0.0561472344158342, 0.0561472344158342, 0.0561472344158342, 0.0561472344158342, 0.0561472344158342, 0.0561472344158342, 0.0561472344158342, 0.0561472344158342, 0.0561472344158342, 0.0561472344158342, 0.0561472344158342, 0.05546548584309212, 0.05546548584309212, 0.05546548584309212, 0.05546548584309212, 0.05546548584309212, 0.05546548584309212, 0.05546548584309212, 0.05546548584309212, 0.05546548584309212, 0.05546548584309212, 0.05546548584309212, 0.05546548584309212, 0.05546548584309212, 0.05546548584309212, 0.05546548584309212, 0.05546548584309212, 0.05546548584309212, 0.05546548584309212, 0.05546548584309212, 0.05546548584309212, 0.05610357414339433, 0.05610357414339433, 0.05610357414339433, 0.05610357414339433, 0.05610357414339433, 0.05610357414339433, 0.05610357414339433, 0.05610357414339433, 0.05610357414339433, 0.05610357414339433, 0.05610357414339433, 0.05610357414339433, 0.05610357414339433, 0.05610357414339433, 0.05610357414339433, 0.05610357414339433, 0.05610357414339433, 0.05610357414339433, 0.05610357414339433, 0.05610357414339433, 0.05647811115179141, 0.05647811115179141, 0.05647811115179141, 0.05647811115179141, 0.05647811115179141, 0.05647811115179141, 0.05647811115179141, 0.05647811115179141, 0.05647811115179141, 0.05647811115179141, 0.05647811115179141, 0.05647811115179141, 0.05647811115179141, 0.05647811115179141, 0.05647811115179141, 0.05647811115179141, 0.05647811115179141, 0.05647811115179141, 0.05647811115179141, 0.05647811115179141, 0.05570346952827656, 0.05570346952827656, 0.05570346952827656, 0.05570346952827656, 0.05570346952827656, 0.05570346952827656, 0.05570346952827656, 0.05570346952827656, 0.05570346952827656, 0.05570346952827656, 0.05570346952827656, 0.05570346952827656, 0.05570346952827656, 0.05570346952827656, 0.05570346952827656, 0.05570346952827656, 0.05570346952827656, 0.05570346952827656, 0.05570346952827656, 0.05570346952827656, 0.055703278114573526, 0.055703278114573526, 0.055703278114573526, 0.055703278114573526, 0.055703278114573526, 0.055703278114573526, 0.055703278114573526, 0.055703278114573526, 0.055703278114573526, 0.055703278114573526, 0.055703278114573526, 0.055703278114573526, 0.055703278114573526, 0.055703278114573526, 0.055703278114573526, 0.055703278114573526, 0.055703278114573526, 0.055703278114573526, 0.055703278114573526, 0.055703278114573526, 0.05692731556978831, 0.05692731556978831, 0.05692731556978831, 0.05692731556978831, 0.05692731556978831, 0.05692731556978831, 0.05692731556978831, 0.05692731556978831, 0.05692731556978831, 0.05692731556978831, 0.05692731556978831, 0.05692731556978831, 0.05692731556978831, 0.05692731556978831, 0.05692731556978831, 0.05692731556978831, 0.05692731556978831, 0.05692731556978831, 0.05692731556978831, 0.05692731556978831, 0.05677220551397221, 0.05677220551397221, 0.05677220551397221, 0.05677220551397221, 0.05677220551397221, 0.05677220551397221, 0.05677220551397221, 0.05677220551397221, 0.05677220551397221, 0.05677220551397221, 0.05677220551397221, 0.05677220551397221, 0.05677220551397221, 0.05677220551397221, 0.05677220551397221, 0.05677220551397221, 0.05677220551397221, 0.05677220551397221, 0.05677220551397221, 0.05677220551397221, 0.05624446935604563, 0.05624446935604563, 0.05624446935604563, 0.05624446935604563, 0.05624446935604563, 0.05624446935604563, 0.05624446935604563, 0.05624446935604563, 0.05624446935604563, 0.05624446935604563, 0.05624446935604563, 0.05624446935604563, 0.05624446935604563, 0.05624446935604563, 0.05624446935604563, 0.05624446935604563, 0.05624446935604563, 0.05624446935604563, 0.05624446935604563, 0.05624446935604563, 0.055672080507899624, 0.055672080507899624, 0.055672080507899624, 0.055672080507899624, 0.055672080507899624, 0.055672080507899624, 0.055672080507899624, 0.055672080507899624, 0.055672080507899624, 0.055672080507899624, 0.055672080507899624, 0.055672080507899624, 0.055672080507899624, 0.055672080507899624, 0.055672080507899624, 0.055672080507899624, 0.055672080507899624, 0.055672080507899624, 0.055672080507899624, 0.055672080507899624, 0.0553764631728669, 0.0553764631728669, 0.0553764631728669, 0.0553764631728669, 0.0553764631728669, 0.0553764631728669, 0.0553764631728669, 0.0553764631728669, 0.0553764631728669, 0.0553764631728669, 0.0553764631728669, 0.0553764631728669, 0.0553764631728669, 0.0553764631728669, 0.0553764631728669, 0.0553764631728669, 0.0553764631728669, 0.0553764631728669, 0.0553764631728669, 0.0553764631728669, 0.05473179792452528, 0.05473179792452528, 0.05473179792452528, 0.05473179792452528, 0.05473179792452528, 0.05473179792452528, 0.05473179792452528, 0.05473179792452528, 0.05473179792452528, 0.05473179792452528, 0.05473179792452528, 0.05473179792452528, 0.05473179792452528, 0.05473179792452528, 0.05473179792452528, 0.05473179792452528, 0.05473179792452528, 0.05473179792452528, 0.05473179792452528, 0.05473179792452528, 0.05575386240879884, 0.05575386240879884, 0.05575386240879884, 0.05575386240879884, 0.05575386240879884, 0.05575386240879884, 0.05575386240879884, 0.05575386240879884, 0.05575386240879884, 0.05575386240879884, 0.05575386240879884, 0.05575386240879884, 0.05575386240879884, 0.05575386240879884, 0.05575386240879884, 0.05575386240879884, 0.05575386240879884, 0.05575386240879884, 0.05575386240879884, 0.05575386240879884, 0.056112506488498935, 0.056112506488498935, 0.056112506488498935, 0.056112506488498935, 0.056112506488498935, 0.056112506488498935, 0.056112506488498935, 0.056112506488498935, 0.056112506488498935, 0.056112506488498935, 0.056112506488498935, 0.056112506488498935, 0.056112506488498935, 0.056112506488498935, 0.056112506488498935, 0.056112506488498935, 0.056112506488498935, 0.056112506488498935, 0.056112506488498935, 0.056112506488498935, 0.05694019206789373, 0.05694019206789373, 0.05694019206789373, 0.05694019206789373, 0.05694019206789373, 0.05694019206789373, 0.05694019206789373, 0.05694019206789373, 0.05694019206789373, 0.05694019206789373, 0.05694019206789373, 0.05694019206789373, 0.05694019206789373, 0.05694019206789373, 0.05694019206789373, 0.05694019206789373, 0.05694019206789373, 0.05694019206789373, 0.05694019206789373, 0.05694019206789373, 0.05650335652295842, 0.05650335652295842, 0.05650335652295842, 0.05650335652295842, 0.05650335652295842, 0.05650335652295842, 0.05650335652295842, 0.05650335652295842, 0.05650335652295842, 0.05650335652295842, 0.05650335652295842, 0.05650335652295842, 0.05650335652295842, 0.05650335652295842, 0.05650335652295842, 0.05650335652295842, 0.05650335652295842, 0.05650335652295842, 0.05650335652295842, 0.05650335652295842, 0.056614439979455894, 0.056614439979455894, 0.056614439979455894, 0.056614439979455894, 0.056614439979455894, 0.056614439979455894, 0.056614439979455894, 0.056614439979455894, 0.056614439979455894, 0.056614439979455894, 0.056614439979455894, 0.056614439979455894, 0.056614439979455894, 0.056614439979455894, 0.056614439979455894, 0.056614439979455894, 0.056614439979455894, 0.056614439979455894, 0.056614439979455894, 0.056614439979455894, 0.05587424516717976, 0.05587424516717976, 0.05587424516717976, 0.05587424516717976, 0.05587424516717976, 0.05587424516717976, 0.05587424516717976, 0.05587424516717976, 0.05587424516717976, 0.05587424516717976, 0.05587424516717976, 0.05587424516717976, 0.05587424516717976, 0.05587424516717976, 0.05587424516717976, 0.05587424516717976, 0.05587424516717976, 0.05587424516717976, 0.05587424516717976, 0.05587424516717976, 0.056810006507348965, 0.056810006507348965, 0.056810006507348965, 0.056810006507348965, 0.056810006507348965, 0.056810006507348965, 0.056810006507348965, 0.056810006507348965, 0.056810006507348965, 0.056810006507348965, 0.056810006507348965, 0.056810006507348965, 0.056810006507348965, 0.056810006507348965, 0.056810006507348965, 0.056810006507348965, 0.056810006507348965, 0.056810006507348965, 0.056810006507348965, 0.056810006507348965, 0.05580104679607184, 0.05580104679607184, 0.05580104679607184, 0.05580104679607184, 0.05580104679607184, 0.05580104679607184, 0.05580104679607184, 0.05580104679607184, 0.05580104679607184, 0.05580104679607184, 0.05580104679607184, 0.05580104679607184, 0.05580104679607184, 0.05580104679607184, 0.05580104679607184, 0.05580104679607184, 0.05580104679607184, 0.05580104679607184, 0.05580104679607184, 0.05580104679607184, 0.05653213170946829, 0.05653213170946829, 0.05653213170946829, 0.05653213170946829, 0.05653213170946829, 0.05653213170946829, 0.05653213170946829, 0.05653213170946829, 0.05653213170946829, 0.05653213170946829, 0.05653213170946829, 0.05653213170946829, 0.05653213170946829, 0.05653213170946829, 0.05653213170946829, 0.05653213170946829, 0.05653213170946829, 0.05653213170946829, 0.05653213170946829, 0.05653213170946829, 0.056179774005877335, 0.056179774005877335, 0.056179774005877335, 0.056179774005877335, 0.056179774005877335, 0.056179774005877335, 0.056179774005877335, 0.056179774005877335, 0.056179774005877335, 0.056179774005877335, 0.056179774005877335, 0.056179774005877335, 0.056179774005877335, 0.056179774005877335, 0.056179774005877335, 0.056179774005877335, 0.056179774005877335, 0.056179774005877335, 0.056179774005877335, 0.056179774005877335, 0.05556500585640264, 0.05556500585640264, 0.05556500585640264, 0.05556500585640264, 0.05556500585640264, 0.05556500585640264, 0.05556500585640264, 0.05556500585640264, 0.05556500585640264, 0.05556500585640264, 0.05556500585640264, 0.05556500585640264, 0.05556500585640264, 0.05556500585640264, 0.05556500585640264, 0.05556500585640264, 0.05556500585640264, 0.05556500585640264, 0.05556500585640264, 0.05556500585640264, 0.05636117082745665, 0.05636117082745665, 0.05636117082745665, 0.05636117082745665, 0.05636117082745665, 0.05636117082745665, 0.05636117082745665, 0.05636117082745665, 0.05636117082745665, 0.05636117082745665, 0.05636117082745665, 0.05636117082745665, 0.05636117082745665, 0.05636117082745665, 0.05636117082745665, 0.05636117082745665, 0.05636117082745665, 0.05636117082745665, 0.05636117082745665, 0.05636117082745665, 0.0558792397313439, 0.0558792397313439, 0.0558792397313439, 0.0558792397313439, 0.0558792397313439, 0.0558792397313439, 0.0558792397313439, 0.0558792397313439, 0.0558792397313439, 0.0558792397313439, 0.0558792397313439, 0.0558792397313439, 0.0558792397313439, 0.0558792397313439, 0.0558792397313439, 0.0558792397313439, 0.0558792397313439, 0.0558792397313439, 0.0558792397313439, 0.0558792397313439, 0.05584621917972885, 0.05584621917972885, 0.05584621917972885, 0.05584621917972885, 0.05584621917972885, 0.05584621917972885, 0.05584621917972885, 0.05584621917972885, 0.05584621917972885, 0.05584621917972885, 0.05584621917972885, 0.05584621917972885, 0.05584621917972885, 0.05584621917972885, 0.05584621917972885, 0.05584621917972885, 0.05584621917972885, 0.05584621917972885, 0.05584621917972885, 0.05584621917972885, 0.05677971541646801, 0.05677971541646801, 0.05677971541646801, 0.05677971541646801, 0.05677971541646801, 0.05677971541646801, 0.05677971541646801, 0.05677971541646801, 0.05677971541646801, 0.05677971541646801, 0.05677971541646801, 0.05677971541646801, 0.05677971541646801, 0.05677971541646801, 0.05677971541646801, 0.05677971541646801, 0.05677971541646801, 0.05677971541646801, 0.05677971541646801, 0.05677971541646801, 0.0567427575521947, 0.0567427575521947, 0.0567427575521947, 0.0567427575521947, 0.0567427575521947, 0.0567427575521947, 0.0567427575521947, 0.0567427575521947, 0.0567427575521947, 0.0567427575521947, 0.0567427575521947, 0.0567427575521947, 0.0567427575521947, 0.0567427575521947, 0.0567427575521947, 0.0567427575521947, 0.0567427575521947, 0.0567427575521947, 0.0567427575521947, 0.0567427575521947, 0.05579285434898946, 0.05579285434898946, 0.05579285434898946, 0.05579285434898946, 0.05579285434898946, 0.05579285434898946, 0.05579285434898946, 0.05579285434898946, 0.05579285434898946, 0.05579285434898946, 0.05579285434898946, 0.05579285434898946, 0.05579285434898946, 0.05579285434898946, 0.05579285434898946, 0.05579285434898946, 0.05579285434898946, 0.05579285434898946, 0.05579285434898946, 0.05579285434898946, 0.056282328030471764, 0.056282328030471764, 0.056282328030471764, 0.056282328030471764, 0.056282328030471764, 0.056282328030471764, 0.056282328030471764, 0.056282328030471764, 0.056282328030471764, 0.056282328030471764, 0.056282328030471764, 0.056282328030471764, 0.056282328030471764, 0.056282328030471764, 0.056282328030471764, 0.056282328030471764, 0.056282328030471764, 0.056282328030471764, 0.056282328030471764, 0.056282328030471764, 0.05582738188996613, 0.05582738188996613, 0.05582738188996613, 0.05582738188996613, 0.05582738188996613, 0.05582738188996613, 0.05582738188996613, 0.05582738188996613, 0.05582738188996613, 0.05582738188996613, 0.05582738188996613, 0.05582738188996613, 0.05582738188996613, 0.05582738188996613, 0.05582738188996613, 0.05582738188996613, 0.05582738188996613, 0.05582738188996613, 0.05582738188996613, 0.05582738188996613, 0.056580590692922546, 0.056580590692922546, 0.056580590692922546, 0.056580590692922546, 0.056580590692922546, 0.056580590692922546, 0.056580590692922546, 0.056580590692922546, 0.056580590692922546, 0.056580590692922546, 0.056580590692922546, 0.056580590692922546, 0.056580590692922546, 0.056580590692922546, 0.056580590692922546, 0.056580590692922546, 0.056580590692922546, 0.056580590692922546, 0.056580590692922546, 0.056580590692922546, 0.05590141624533952, 0.05590141624533952, 0.05590141624533952, 0.05590141624533952, 0.05590141624533952, 0.05590141624533952, 0.05590141624533952, 0.05590141624533952, 0.05590141624533952, 0.05590141624533952, 0.05590141624533952, 0.05590141624533952, 0.05590141624533952, 0.05590141624533952, 0.05590141624533952, 0.05590141624533952, 0.05590141624533952, 0.05590141624533952, 0.05590141624533952, 0.05590141624533952, 0.05633858476188758, 0.05633858476188758, 0.05633858476188758, 0.05633858476188758, 0.05633858476188758, 0.05633858476188758, 0.05633858476188758, 0.05633858476188758, 0.05633858476188758, 0.05633858476188758, 0.05633858476188758, 0.05633858476188758, 0.05633858476188758, 0.05633858476188758, 0.05633858476188758, 0.05633858476188758, 0.05633858476188758, 0.05633858476188758, 0.05633858476188758, 0.05633858476188758, 0.05505740339570362, 0.05505740339570362, 0.05505740339570362, 0.05505740339570362, 0.05505740339570362, 0.05505740339570362, 0.05505740339570362, 0.05505740339570362, 0.05505740339570362, 0.05505740339570362, 0.05505740339570362, 0.05505740339570362, 0.05505740339570362, 0.05505740339570362, 0.05505740339570362, 0.05505740339570362, 0.05505740339570362, 0.05505740339570362, 0.05505740339570362, 0.05505740339570362, 0.05676932926334771, 0.05676932926334771, 0.05676932926334771, 0.05676932926334771, 0.05676932926334771, 0.05676932926334771, 0.05676932926334771, 0.05676932926334771, 0.05676932926334771, 0.05676932926334771, 0.05676932926334771, 0.05676932926334771, 0.05676932926334771, 0.05676932926334771, 0.05676932926334771, 0.05676932926334771, 0.05676932926334771, 0.05676932926334771, 0.05676932926334771, 0.05676932926334771, 0.05593594871572479, 0.05593594871572479, 0.05593594871572479, 0.05593594871572479, 0.05593594871572479, 0.05593594871572479, 0.05593594871572479, 0.05593594871572479, 0.05593594871572479, 0.05593594871572479, 0.05593594871572479, 0.05593594871572479, 0.05593594871572479, 0.05593594871572479, 0.05593594871572479, 0.05593594871572479, 0.05593594871572479, 0.05593594871572479, 0.05593594871572479, 0.05593594871572479, 0.05531018192474371, 0.05531018192474371, 0.05531018192474371, 0.05531018192474371, 0.05531018192474371, 0.05531018192474371, 0.05531018192474371, 0.05531018192474371, 0.05531018192474371, 0.05531018192474371, 0.05531018192474371, 0.05531018192474371, 0.05531018192474371, 0.05531018192474371, 0.05531018192474371, 0.05531018192474371, 0.05531018192474371, 0.05531018192474371, 0.05531018192474371, 0.05531018192474371, 0.05635860616523588, 0.05635860616523588, 0.05635860616523588, 0.05635860616523588, 0.05635860616523588, 0.05635860616523588, 0.05635860616523588, 0.05635860616523588, 0.05635860616523588, 0.05635860616523588, 0.05635860616523588, 0.05635860616523588, 0.05635860616523588, 0.05635860616523588, 0.05635860616523588, 0.05635860616523588, 0.05635860616523588, 0.05635860616523588, 0.05635860616523588, 0.05635860616523588, 0.05616190111911009, 0.05616190111911009, 0.05616190111911009, 0.05616190111911009, 0.05616190111911009, 0.05616190111911009, 0.05616190111911009, 0.05616190111911009, 0.05616190111911009, 0.05616190111911009, 0.05616190111911009, 0.05616190111911009, 0.05616190111911009, 0.05616190111911009, 0.05616190111911009, 0.05616190111911009, 0.05616190111911009, 0.05616190111911009, 0.05616190111911009, 0.05616190111911009, 0.055890815842186095, 0.055890815842186095, 0.055890815842186095, 0.055890815842186095, 0.055890815842186095, 0.055890815842186095, 0.055890815842186095, 0.055890815842186095, 0.055890815842186095, 0.055890815842186095, 0.055890815842186095, 0.055890815842186095, 0.055890815842186095, 0.055890815842186095, 0.055890815842186095, 0.055890815842186095, 0.055890815842186095, 0.055890815842186095, 0.055890815842186095, 0.055890815842186095, 0.05591064497876838, 0.05591064497876838, 0.05591064497876838, 0.05591064497876838, 0.05591064497876838, 0.05591064497876838, 0.05591064497876838, 0.05591064497876838, 0.05591064497876838, 0.05591064497876838, 0.05591064497876838, 0.05591064497876838, 0.05591064497876838, 0.05591064497876838, 0.05591064497876838, 0.05591064497876838, 0.05591064497876838, 0.05591064497876838, 0.05591064497876838, 0.05591064497876838, 0.05585182513434362, 0.05585182513434362, 0.05585182513434362, 0.05585182513434362, 0.05585182513434362, 0.05585182513434362, 0.05585182513434362, 0.05585182513434362, 0.05585182513434362, 0.05585182513434362, 0.05585182513434362, 0.05585182513434362, 0.05585182513434362, 0.05585182513434362, 0.05585182513434362, 0.05585182513434362, 0.05585182513434362, 0.05585182513434362, 0.05585182513434362, 0.05585182513434362, 0.056987636352106935, 0.056987636352106935, 0.056987636352106935, 0.056987636352106935, 0.056987636352106935, 0.056987636352106935, 0.056987636352106935, 0.056987636352106935, 0.056987636352106935, 0.056987636352106935, 0.056987636352106935, 0.056987636352106935, 0.056987636352106935, 0.056987636352106935, 0.056987636352106935, 0.056987636352106935, 0.056987636352106935, 0.056987636352106935, 0.056987636352106935, 0.056987636352106935, 0.05570802894732641, 0.05570802894732641, 0.05570802894732641, 0.05570802894732641, 0.05570802894732641, 0.05570802894732641, 0.05570802894732641, 0.05570802894732641, 0.05570802894732641, 0.05570802894732641, 0.05570802894732641, 0.05570802894732641, 0.05570802894732641, 0.05570802894732641, 0.05570802894732641, 0.05570802894732641, 0.05570802894732641, 0.05570802894732641, 0.05570802894732641, 0.05570802894732641, 0.056236044659448294, 0.056236044659448294, 0.056236044659448294, 0.056236044659448294, 0.056236044659448294, 0.056236044659448294, 0.056236044659448294, 0.056236044659448294, 0.056236044659448294, 0.056236044659448294, 0.056236044659448294, 0.056236044659448294, 0.056236044659448294, 0.056236044659448294, 0.056236044659448294, 0.056236044659448294, 0.056236044659448294, 0.056236044659448294, 0.056236044659448294, 0.056236044659448294, 0.05632605607645295, 0.05632605607645295, 0.05632605607645295, 0.05632605607645295, 0.05632605607645295, 0.05632605607645295, 0.05632605607645295, 0.05632605607645295, 0.05632605607645295, 0.05632605607645295, 0.05632605607645295, 0.05632605607645295, 0.05632605607645295, 0.05632605607645295, 0.05632605607645295, 0.05632605607645295, 0.05632605607645295, 0.05632605607645295, 0.05632605607645295, 0.05632605607645295, 0.05507272449801111, 0.05507272449801111, 0.05507272449801111, 0.05507272449801111, 0.05507272449801111, 0.05507272449801111, 0.05507272449801111, 0.05507272449801111, 0.05507272449801111, 0.05507272449801111, 0.05507272449801111, 0.05507272449801111, 0.05507272449801111, 0.05507272449801111, 0.05507272449801111, 0.05507272449801111, 0.05507272449801111, 0.05507272449801111, 0.05507272449801111, 0.05507272449801111, 0.05669832713999716, 0.05669832713999716, 0.05669832713999716, 0.05669832713999716, 0.05669832713999716, 0.05669832713999716, 0.05669832713999716, 0.05669832713999716, 0.05669832713999716, 0.05669832713999716, 0.05669832713999716, 0.05669832713999716, 0.05669832713999716, 0.05669832713999716, 0.05669832713999716, 0.05669832713999716, 0.05669832713999716, 0.05669832713999716, 0.05669832713999716, 0.05669832713999716, 0.056483438939959496, 0.056483438939959496, 0.056483438939959496, 0.056483438939959496, 0.056483438939959496, 0.056483438939959496, 0.056483438939959496, 0.056483438939959496, 0.056483438939959496, 0.056483438939959496, 0.056483438939959496, 0.056483438939959496, 0.056483438939959496, 0.056483438939959496, 0.056483438939959496, 0.056483438939959496, 0.056483438939959496, 0.056483438939959496, 0.056483438939959496, 0.056483438939959496, 0.05673414937350263, 0.05673414937350263, 0.05673414937350263, 0.05673414937350263, 0.05673414937350263, 0.05673414937350263, 0.05673414937350263, 0.05673414937350263, 0.05673414937350263, 0.05673414937350263, 0.05673414937350263, 0.05673414937350263, 0.05673414937350263, 0.05673414937350263, 0.05673414937350263, 0.05673414937350263, 0.05673414937350263, 0.05673414937350263, 0.05673414937350263, 0.05673414937350263, 0.05634154334969248, 0.05634154334969248, 0.05634154334969248, 0.05634154334969248, 0.05634154334969248, 0.05634154334969248, 0.05634154334969248, 0.05634154334969248, 0.05634154334969248, 0.05634154334969248, 0.05634154334969248, 0.05634154334969248, 0.05634154334969248, 0.05634154334969248, 0.05634154334969248, 0.05634154334969248, 0.05634154334969248, 0.05634154334969248, 0.05634154334969248, 0.05634154334969248, 0.05635883945714216, 0.05635883945714216, 0.05635883945714216, 0.05635883945714216, 0.05635883945714216, 0.05635883945714216, 0.05635883945714216, 0.05635883945714216, 0.05635883945714216, 0.05635883945714216, 0.05635883945714216, 0.05635883945714216, 0.05635883945714216, 0.05635883945714216, 0.05635883945714216, 0.05635883945714216, 0.05635883945714216, 0.05635883945714216, 0.05635883945714216, 0.05635883945714216, 0.05622525739045143, 0.05622525739045143, 0.05622525739045143, 0.05622525739045143, 0.05622525739045143, 0.05622525739045143, 0.05622525739045143, 0.05622525739045143, 0.05622525739045143, 0.05622525739045143, 0.05622525739045143, 0.05622525739045143, 0.05622525739045143, 0.05622525739045143, 0.05622525739045143, 0.05622525739045143, 0.05622525739045143, 0.05622525739045143, 0.05622525739045143, 0.05622525739045143, 0.0559500827152596, 0.0559500827152596, 0.0559500827152596, 0.0559500827152596, 0.0559500827152596, 0.0559500827152596, 0.0559500827152596, 0.0559500827152596, 0.0559500827152596, 0.0559500827152596, 0.0559500827152596, 0.0559500827152596, 0.0559500827152596, 0.0559500827152596, 0.0559500827152596, 0.0559500827152596, 0.0559500827152596, 0.0559500827152596, 0.0559500827152596, 0.0559500827152596, 0.0565289792862662, 0.0565289792862662, 0.0565289792862662, 0.0565289792862662, 0.0565289792862662, 0.0565289792862662, 0.0565289792862662, 0.0565289792862662, 0.0565289792862662, 0.0565289792862662, 0.0565289792862662, 0.0565289792862662, 0.0565289792862662, 0.0565289792862662, 0.0565289792862662, 0.0565289792862662, 0.0565289792862662, 0.0565289792862662, 0.0565289792862662, 0.0565289792862662, 0.05669388067940195, 0.05669388067940195, 0.05669388067940195, 0.05669388067940195, 0.05669388067940195, 0.05669388067940195, 0.05669388067940195, 0.05669388067940195, 0.05669388067940195, 0.05669388067940195, 0.05669388067940195, 0.05669388067940195, 0.05669388067940195, 0.05669388067940195, 0.05669388067940195, 0.05669388067940195, 0.05669388067940195, 0.05669388067940195, 0.05669388067940195, 0.05669388067940195, 0.055751660090790356, 0.055751660090790356, 0.055751660090790356, 0.055751660090790356, 0.055751660090790356, 0.055751660090790356, 0.055751660090790356, 0.055751660090790356, 0.055751660090790356, 0.055751660090790356, 0.055751660090790356, 0.055751660090790356, 0.055751660090790356, 0.055751660090790356, 0.055751660090790356, 0.055751660090790356, 0.055751660090790356, 0.055751660090790356, 0.055751660090790356, 0.055751660090790356, 0.05517972965911656, 0.05517972965911656, 0.05517972965911656, 0.05517972965911656, 0.05517972965911656, 0.05517972965911656, 0.05517972965911656, 0.05517972965911656, 0.05517972965911656, 0.05517972965911656, 0.05517972965911656, 0.05517972965911656, 0.05517972965911656, 0.05517972965911656, 0.05517972965911656, 0.05517972965911656, 0.05517972965911656, 0.05517972965911656, 0.05517972965911656, 0.05517972965911656, 0.05624904124106176, 0.05624904124106176, 0.05624904124106176, 0.05624904124106176, 0.05624904124106176, 0.05624904124106176, 0.05624904124106176, 0.05624904124106176, 0.05624904124106176, 0.05624904124106176, 0.05624904124106176, 0.05624904124106176, 0.05624904124106176, 0.05624904124106176, 0.05624904124106176, 0.05624904124106176, 0.05624904124106176, 0.05624904124106176, 0.05624904124106176, 0.05624904124106176, 0.0565416573982017, 0.0565416573982017, 0.0565416573982017, 0.0565416573982017, 0.0565416573982017, 0.0565416573982017, 0.0565416573982017, 0.0565416573982017, 0.0565416573982017, 0.0565416573982017, 0.0565416573982017, 0.0565416573982017, 0.0565416573982017, 0.0565416573982017, 0.0565416573982017, 0.0565416573982017, 0.0565416573982017, 0.0565416573982017, 0.0565416573982017, 0.0565416573982017, 0.05515768041447882, 0.05515768041447882, 0.05515768041447882, 0.05515768041447882, 0.05515768041447882, 0.05515768041447882, 0.05515768041447882, 0.05515768041447882, 0.05515768041447882, 0.05515768041447882, 0.05515768041447882, 0.05515768041447882, 0.05515768041447882, 0.05515768041447882, 0.05515768041447882, 0.05515768041447882, 0.05515768041447882, 0.05515768041447882, 0.05515768041447882, 0.05515768041447882, 0.056775298392144714, 0.056775298392144714, 0.056775298392144714, 0.056775298392144714, 0.056775298392144714, 0.056775298392144714, 0.056775298392144714, 0.056775298392144714, 0.056775298392144714, 0.056775298392144714, 0.056775298392144714, 0.056775298392144714, 0.056775298392144714, 0.056775298392144714, 0.056775298392144714, 0.056775298392144714, 0.056775298392144714, 0.056775298392144714, 0.056775298392144714, 0.056775298392144714, 0.055645103844281125, 0.055645103844281125, 0.055645103844281125, 0.055645103844281125, 0.055645103844281125, 0.055645103844281125, 0.055645103844281125, 0.055645103844281125, 0.055645103844281125, 0.055645103844281125, 0.055645103844281125, 0.055645103844281125, 0.055645103844281125, 0.055645103844281125, 0.055645103844281125, 0.055645103844281125, 0.055645103844281125, 0.055645103844281125, 0.055645103844281125, 0.055645103844281125, 0.05637759116888518, 0.05637759116888518, 0.05637759116888518, 0.05637759116888518, 0.05637759116888518, 0.05637759116888518, 0.05637759116888518, 0.05637759116888518, 0.05637759116888518, 0.05637759116888518, 0.05637759116888518, 0.05637759116888518, 0.05637759116888518, 0.05637759116888518, 0.05637759116888518, 0.05637759116888518, 0.05637759116888518, 0.05637759116888518, 0.05637759116888518, 0.05637759116888518, 0.05665341562864554, 0.05665341562864554, 0.05665341562864554, 0.05665341562864554, 0.05665341562864554, 0.05665341562864554, 0.05665341562864554, 0.05665341562864554, 0.05665341562864554, 0.05665341562864554, 0.05665341562864554, 0.05665341562864554, 0.05665341562864554, 0.05665341562864554, 0.05665341562864554, 0.05665341562864554, 0.05665341562864554, 0.05665341562864554, 0.05665341562864554, 0.05665341562864554, 0.05607169413498064, 0.05607169413498064, 0.05607169413498064, 0.05607169413498064, 0.05607169413498064, 0.05607169413498064, 0.05607169413498064, 0.05607169413498064, 0.05607169413498064, 0.05607169413498064, 0.05607169413498064, 0.05607169413498064, 0.05607169413498064, 0.05607169413498064, 0.05607169413498064, 0.05607169413498064, 0.05607169413498064, 0.05607169413498064, 0.05607169413498064, 0.05607169413498064, 0.05544771384971503, 0.05544771384971503, 0.05544771384971503, 0.05544771384971503, 0.05544771384971503, 0.05544771384971503, 0.05544771384971503, 0.05544771384971503, 0.05544771384971503, 0.05544771384971503, 0.05544771384971503, 0.05544771384971503, 0.05544771384971503, 0.05544771384971503, 0.05544771384971503, 0.05544771384971503, 0.05544771384971503, 0.05544771384971503, 0.05544771384971503, 0.05544771384971503, 0.0553863572623105, 0.0553863572623105, 0.0553863572623105, 0.0553863572623105, 0.0553863572623105, 0.0553863572623105, 0.0553863572623105, 0.0553863572623105, 0.0553863572623105, 0.0553863572623105, 0.0553863572623105, 0.0553863572623105, 0.0553863572623105, 0.0553863572623105, 0.0553863572623105, 0.0553863572623105, 0.0553863572623105, 0.0553863572623105, 0.0553863572623105, 0.0553863572623105, 0.05586629971459828, 0.05586629971459828, 0.05586629971459828, 0.05586629971459828, 0.05586629971459828, 0.05586629971459828, 0.05586629971459828, 0.05586629971459828, 0.05586629971459828, 0.05586629971459828, 0.05586629971459828, 0.05586629971459828, 0.05586629971459828, 0.05586629971459828, 0.05586629971459828, 0.05586629971459828, 0.05586629971459828, 0.05586629971459828, 0.05586629971459828, 0.05586629971459828, 0.057483104568811144, 0.057483104568811144, 0.057483104568811144, 0.057483104568811144, 0.057483104568811144, 0.057483104568811144, 0.057483104568811144, 0.057483104568811144, 0.057483104568811144, 0.057483104568811144, 0.057483104568811144, 0.057483104568811144, 0.057483104568811144, 0.057483104568811144, 0.057483104568811144, 0.057483104568811144, 0.057483104568811144, 0.057483104568811144, 0.057483104568811144, 0.057483104568811144, 0.057801413768822356, 0.057801413768822356, 0.057801413768822356, 0.057801413768822356, 0.057801413768822356, 0.057801413768822356, 0.057801413768822356, 0.057801413768822356, 0.057801413768822356, 0.057801413768822356, 0.057801413768822356, 0.057801413768822356, 0.057801413768822356, 0.057801413768822356, 0.057801413768822356, 0.057801413768822356, 0.057801413768822356, 0.057801413768822356, 0.057801413768822356, 0.057801413768822356, 0.05740245981789393, 0.05740245981789393, 0.05740245981789393, 0.05740245981789393, 0.05740245981789393, 0.05740245981789393, 0.05740245981789393, 0.05740245981789393, 0.05740245981789393, 0.05740245981789393, 0.05740245981789393, 0.05740245981789393, 0.05740245981789393, 0.05740245981789393, 0.05740245981789393, 0.05740245981789393, 0.05740245981789393, 0.05740245981789393, 0.05740245981789393, 0.05740245981789393, 0.055975827788655196, 0.055975827788655196, 0.055975827788655196, 0.055975827788655196, 0.055975827788655196, 0.055975827788655196, 0.055975827788655196, 0.055975827788655196, 0.055975827788655196, 0.055975827788655196, 0.055975827788655196, 0.055975827788655196, 0.055975827788655196, 0.055975827788655196, 0.055975827788655196, 0.055975827788655196, 0.055975827788655196, 0.055975827788655196, 0.055975827788655196, 0.055975827788655196, 0.0559543675000415, 0.0559543675000415, 0.0559543675000415, 0.0559543675000415, 0.0559543675000415, 0.0559543675000415, 0.0559543675000415, 0.0559543675000415, 0.0559543675000415, 0.0559543675000415, 0.0559543675000415, 0.0559543675000415, 0.0559543675000415, 0.0559543675000415, 0.0559543675000415, 0.0559543675000415, 0.0559543675000415, 0.0559543675000415, 0.0559543675000415, 0.0559543675000415, 0.054959561746833176, 0.054959561746833176, 0.054959561746833176, 0.054959561746833176, 0.054959561746833176, 0.054959561746833176, 0.054959561746833176, 0.054959561746833176, 0.054959561746833176, 0.054959561746833176, 0.054959561746833176, 0.054959561746833176, 0.054959561746833176, 0.054959561746833176, 0.054959561746833176, 0.054959561746833176, 0.054959561746833176, 0.054959561746833176, 0.054959561746833176, 0.054959561746833176, 0.05742450826021736, 0.05742450826021736, 0.05742450826021736, 0.05742450826021736, 0.05742450826021736, 0.05742450826021736, 0.05742450826021736, 0.05742450826021736, 0.05742450826021736, 0.05742450826021736, 0.05742450826021736, 0.05742450826021736, 0.05742450826021736, 0.05742450826021736, 0.05742450826021736, 0.05742450826021736, 0.05742450826021736, 0.05742450826021736, 0.05742450826021736, 0.05742450826021736, 0.05679629646357096, 0.05679629646357096, 0.05679629646357096, 0.05679629646357096, 0.05679629646357096, 0.05679629646357096, 0.05679629646357096, 0.05679629646357096, 0.05679629646357096, 0.05679629646357096, 0.05679629646357096, 0.05679629646357096, 0.05679629646357096, 0.05679629646357096, 0.05679629646357096, 0.05679629646357096, 0.05679629646357096, 0.05679629646357096, 0.05679629646357096, 0.05679629646357096, 0.05587172259389776, 0.05587172259389776, 0.05587172259389776, 0.05587172259389776, 0.05587172259389776, 0.05587172259389776, 0.05587172259389776, 0.05587172259389776, 0.05587172259389776, 0.05587172259389776, 0.05587172259389776, 0.05587172259389776, 0.05587172259389776, 0.05587172259389776, 0.05587172259389776, 0.05587172259389776, 0.05587172259389776, 0.05587172259389776, 0.05587172259389776, 0.05587172259389776, 0.056702371752955595, 0.056702371752955595, 0.056702371752955595, 0.056702371752955595, 0.056702371752955595, 0.056702371752955595, 0.056702371752955595, 0.056702371752955595, 0.056702371752955595, 0.056702371752955595, 0.056702371752955595, 0.056702371752955595, 0.056702371752955595, 0.056702371752955595, 0.056702371752955595, 0.056702371752955595, 0.056702371752955595, 0.056702371752955595, 0.056702371752955595, 0.056702371752955595, 0.055357982170233806, 0.055357982170233806, 0.055357982170233806, 0.055357982170233806, 0.055357982170233806, 0.055357982170233806, 0.055357982170233806, 0.055357982170233806, 0.055357982170233806, 0.055357982170233806, 0.055357982170233806, 0.055357982170233806, 0.055357982170233806, 0.055357982170233806, 0.055357982170233806, 0.055357982170233806, 0.055357982170233806, 0.055357982170233806, 0.055357982170233806, 0.055357982170233806, 0.05590888745441108, 0.05590888745441108, 0.05590888745441108, 0.05590888745441108, 0.05590888745441108, 0.05590888745441108, 0.05590888745441108, 0.05590888745441108, 0.05590888745441108, 0.05590888745441108, 0.05590888745441108, 0.05590888745441108, 0.05590888745441108, 0.05590888745441108, 0.05590888745441108, 0.05590888745441108, 0.05590888745441108, 0.05590888745441108, 0.05590888745441108, 0.05590888745441108, 0.055857842013941804, 0.055857842013941804, 0.055857842013941804, 0.055857842013941804, 0.055857842013941804, 0.055857842013941804, 0.055857842013941804, 0.055857842013941804, 0.055857842013941804, 0.055857842013941804, 0.055857842013941804, 0.055857842013941804, 0.055857842013941804, 0.055857842013941804, 0.055857842013941804, 0.055857842013941804, 0.055857842013941804, 0.055857842013941804, 0.055857842013941804, 0.055857842013941804, 0.055712537977645187, 0.055712537977645187, 0.055712537977645187, 0.055712537977645187, 0.055712537977645187, 0.055712537977645187, 0.055712537977645187, 0.055712537977645187, 0.055712537977645187, 0.055712537977645187, 0.055712537977645187, 0.055712537977645187, 0.055712537977645187, 0.055712537977645187, 0.055712537977645187, 0.055712537977645187, 0.055712537977645187, 0.055712537977645187, 0.055712537977645187, 0.055712537977645187, 0.05564472698748925, 0.05564472698748925, 0.05564472698748925, 0.05564472698748925, 0.05564472698748925, 0.05564472698748925, 0.05564472698748925, 0.05564472698748925, 0.05564472698748925, 0.05564472698748925, 0.05564472698748925, 0.05564472698748925, 0.05564472698748925, 0.05564472698748925, 0.05564472698748925, 0.05564472698748925, 0.05564472698748925, 0.05564472698748925, 0.05564472698748925, 0.05564472698748925, 0.056084178568460374, 0.056084178568460374, 0.056084178568460374, 0.056084178568460374, 0.056084178568460374, 0.056084178568460374, 0.056084178568460374, 0.056084178568460374, 0.056084178568460374, 0.056084178568460374, 0.056084178568460374, 0.056084178568460374, 0.056084178568460374, 0.056084178568460374, 0.056084178568460374, 0.056084178568460374, 0.056084178568460374, 0.056084178568460374, 0.056084178568460374, 0.056084178568460374, 0.056642154971009204, 0.056642154971009204, 0.056642154971009204, 0.056642154971009204, 0.056642154971009204, 0.056642154971009204, 0.056642154971009204, 0.056642154971009204, 0.056642154971009204, 0.056642154971009204, 0.056642154971009204, 0.056642154971009204, 0.056642154971009204, 0.056642154971009204, 0.056642154971009204, 0.056642154971009204, 0.056642154971009204, 0.056642154971009204, 0.056642154971009204, 0.056642154971009204, 0.05693722121080207, 0.05693722121080207, 0.05693722121080207, 0.05693722121080207, 0.05693722121080207, 0.05693722121080207, 0.05693722121080207, 0.05693722121080207, 0.05693722121080207, 0.05693722121080207, 0.05693722121080207, 0.05693722121080207, 0.05693722121080207, 0.05693722121080207, 0.05693722121080207, 0.05693722121080207, 0.05693722121080207, 0.05693722121080207, 0.05693722121080207, 0.05693722121080207, 0.055611774721040654, 0.055611774721040654, 0.055611774721040654, 0.055611774721040654, 0.055611774721040654, 0.055611774721040654, 0.055611774721040654, 0.055611774721040654, 0.055611774721040654, 0.055611774721040654, 0.055611774721040654, 0.055611774721040654, 0.055611774721040654, 0.055611774721040654, 0.055611774721040654, 0.055611774721040654, 0.055611774721040654, 0.055611774721040654, 0.055611774721040654, 0.055611774721040654, 0.05613263784842366, 0.05613263784842366, 0.05613263784842366, 0.05613263784842366, 0.05613263784842366, 0.05613263784842366, 0.05613263784842366, 0.05613263784842366, 0.05613263784842366, 0.05613263784842366, 0.05613263784842366, 0.05613263784842366, 0.05613263784842366, 0.05613263784842366, 0.05613263784842366, 0.05613263784842366, 0.05613263784842366, 0.05613263784842366, 0.05613263784842366, 0.05613263784842366, 0.05654617125095546, 0.05654617125095546, 0.05654617125095546, 0.05654617125095546, 0.05654617125095546, 0.05654617125095546, 0.05654617125095546, 0.05654617125095546, 0.05654617125095546, 0.05654617125095546, 0.05654617125095546, 0.05654617125095546, 0.05654617125095546, 0.05654617125095546, 0.05654617125095546, 0.05654617125095546, 0.05654617125095546, 0.05654617125095546, 0.05654617125095546, 0.05654617125095546, 0.05594113207057106, 0.05594113207057106, 0.05594113207057106, 0.05594113207057106, 0.05594113207057106, 0.05594113207057106, 0.05594113207057106, 0.05594113207057106, 0.05594113207057106, 0.05594113207057106, 0.05594113207057106, 0.05594113207057106, 0.05594113207057106, 0.05594113207057106, 0.05594113207057106, 0.05594113207057106, 0.05594113207057106, 0.05594113207057106, 0.05594113207057106, 0.05594113207057106, 0.055856584984408604, 0.055856584984408604, 0.055856584984408604, 0.055856584984408604, 0.055856584984408604, 0.055856584984408604, 0.055856584984408604, 0.055856584984408604, 0.055856584984408604, 0.055856584984408604, 0.055856584984408604, 0.055856584984408604, 0.055856584984408604, 0.055856584984408604, 0.055856584984408604, 0.055856584984408604, 0.055856584984408604, 0.055856584984408604, 0.055856584984408604, 0.055856584984408604, 0.05609828867560411, 0.05609828867560411, 0.05609828867560411, 0.05609828867560411, 0.05609828867560411, 0.05609828867560411, 0.05609828867560411, 0.05609828867560411, 0.05609828867560411, 0.05609828867560411, 0.05609828867560411, 0.05609828867560411, 0.05609828867560411, 0.05609828867560411, 0.05609828867560411, 0.05609828867560411, 0.05609828867560411, 0.05609828867560411, 0.05609828867560411, 0.05609828867560411, 0.056661262418726294, 0.056661262418726294, 0.056661262418726294, 0.056661262418726294, 0.056661262418726294, 0.056661262418726294, 0.056661262418726294, 0.056661262418726294, 0.056661262418726294, 0.056661262418726294, 0.056661262418726294, 0.056661262418726294, 0.056661262418726294, 0.056661262418726294, 0.056661262418726294, 0.056661262418726294, 0.056661262418726294, 0.056661262418726294, 0.056661262418726294, 0.056661262418726294, 0.05689547192925213, 0.05689547192925213, 0.05689547192925213, 0.05689547192925213, 0.05689547192925213, 0.05689547192925213, 0.05689547192925213, 0.05689547192925213, 0.05689547192925213, 0.05689547192925213, 0.05689547192925213, 0.05689547192925213, 0.05689547192925213, 0.05689547192925213, 0.05689547192925213, 0.05689547192925213, 0.05689547192925213, 0.05689547192925213, 0.05689547192925213, 0.05689547192925213, 0.05497653412578638, 0.05497653412578638, 0.05497653412578638, 0.05497653412578638, 0.05497653412578638, 0.05497653412578638, 0.05497653412578638, 0.05497653412578638, 0.05497653412578638, 0.05497653412578638, 0.05497653412578638, 0.05497653412578638, 0.05497653412578638, 0.05497653412578638, 0.05497653412578638, 0.05497653412578638, 0.05497653412578638, 0.05497653412578638, 0.05497653412578638, 0.05497653412578638, 0.05632377909538091, 0.05632377909538091, 0.05632377909538091, 0.05632377909538091, 0.05632377909538091, 0.05632377909538091, 0.05632377909538091, 0.05632377909538091, 0.05632377909538091, 0.05632377909538091, 0.05632377909538091, 0.05632377909538091, 0.05632377909538091, 0.05632377909538091, 0.05632377909538091, 0.05632377909538091, 0.05632377909538091, 0.05632377909538091, 0.05632377909538091, 0.05632377909538091, 0.05565245857548846, 0.05565245857548846, 0.05565245857548846, 0.05565245857548846, 0.05565245857548846, 0.05565245857548846, 0.05565245857548846, 0.05565245857548846, 0.05565245857548846, 0.05565245857548846, 0.05565245857548846, 0.05565245857548846, 0.05565245857548846, 0.05565245857548846, 0.05565245857548846, 0.05565245857548846, 0.05565245857548846, 0.05565245857548846, 0.05565245857548846, 0.05565245857548846, 0.0559648269269667, 0.0559648269269667, 0.0559648269269667, 0.0559648269269667, 0.0559648269269667, 0.0559648269269667, 0.0559648269269667, 0.0559648269269667, 0.0559648269269667, 0.0559648269269667, 0.0559648269269667, 0.0559648269269667, 0.0559648269269667, 0.0559648269269667, 0.0559648269269667, 0.0559648269269667, 0.0559648269269667, 0.0559648269269667, 0.0559648269269667, 0.0559648269269667, 0.05721312686147278, 0.05721312686147278, 0.05721312686147278, 0.05721312686147278, 0.05721312686147278, 0.05721312686147278, 0.05721312686147278, 0.05721312686147278, 0.05721312686147278, 0.05721312686147278, 0.05721312686147278, 0.05721312686147278, 0.05721312686147278, 0.05721312686147278, 0.05721312686147278, 0.05721312686147278, 0.05721312686147278, 0.05721312686147278, 0.05721312686147278, 0.05721312686147278, 0.05602083948910324, 0.05602083948910324, 0.05602083948910324, 0.05602083948910324, 0.05602083948910324, 0.05602083948910324, 0.05602083948910324, 0.05602083948910324, 0.05602083948910324, 0.05602083948910324, 0.05602083948910324, 0.05602083948910324, 0.05602083948910324, 0.05602083948910324, 0.05602083948910324, 0.05602083948910324, 0.05602083948910324, 0.05602083948910324, 0.05602083948910324, 0.05602083948910324, 0.055704673634937675, 0.055704673634937675, 0.055704673634937675, 0.055704673634937675, 0.055704673634937675, 0.055704673634937675, 0.055704673634937675, 0.055704673634937675, 0.055704673634937675, 0.055704673634937675, 0.055704673634937675, 0.055704673634937675, 0.055704673634937675, 0.055704673634937675, 0.055704673634937675, 0.055704673634937675, 0.055704673634937675, 0.055704673634937675, 0.055704673634937675, 0.055704673634937675, 0.05608044692325629, 0.05608044692325629, 0.05608044692325629, 0.05608044692325629, 0.05608044692325629, 0.05608044692325629, 0.05608044692325629, 0.05608044692325629, 0.05608044692325629, 0.05608044692325629, 0.05608044692325629, 0.05608044692325629, 0.05608044692325629, 0.05608044692325629, 0.05608044692325629, 0.05608044692325629, 0.05608044692325629, 0.05608044692325629, 0.05608044692325629, 0.05608044692325629, 0.05583524664084681, 0.05583524664084681, 0.05583524664084681, 0.05583524664084681, 0.05583524664084681, 0.05583524664084681, 0.05583524664084681, 0.05583524664084681, 0.05583524664084681, 0.05583524664084681, 0.05583524664084681, 0.05583524664084681, 0.05583524664084681, 0.05583524664084681, 0.05583524664084681, 0.05583524664084681, 0.05583524664084681, 0.05583524664084681, 0.05583524664084681, 0.05583524664084681, 0.05694624094774199, 0.05694624094774199, 0.05694624094774199, 0.05694624094774199, 0.05694624094774199, 0.05694624094774199, 0.05694624094774199, 0.05694624094774199, 0.05694624094774199, 0.05694624094774199, 0.05694624094774199, 0.05694624094774199, 0.05694624094774199, 0.05694624094774199, 0.05694624094774199, 0.05694624094774199, 0.05694624094774199, 0.05694624094774199, 0.05694624094774199, 0.05694624094774199, 0.057437904822008584, 0.057437904822008584, 0.057437904822008584, 0.057437904822008584, 0.057437904822008584, 0.057437904822008584, 0.057437904822008584, 0.057437904822008584, 0.057437904822008584, 0.057437904822008584, 0.057437904822008584, 0.057437904822008584, 0.057437904822008584, 0.057437904822008584, 0.057437904822008584, 0.057437904822008584, 0.057437904822008584, 0.057437904822008584, 0.057437904822008584, 0.057437904822008584, 0.05663573703088695, 0.05663573703088695, 0.05663573703088695, 0.05663573703088695, 0.05663573703088695, 0.05663573703088695, 0.05663573703088695, 0.05663573703088695, 0.05663573703088695, 0.05663573703088695, 0.05663573703088695, 0.05663573703088695, 0.05663573703088695, 0.05663573703088695, 0.05663573703088695, 0.05663573703088695, 0.05663573703088695, 0.05663573703088695, 0.05663573703088695, 0.05663573703088695, 0.0572290543591466, 0.0572290543591466, 0.0572290543591466, 0.0572290543591466, 0.0572290543591466, 0.0572290543591466, 0.0572290543591466, 0.0572290543591466, 0.0572290543591466, 0.0572290543591466, 0.0572290543591466, 0.0572290543591466, 0.0572290543591466, 0.0572290543591466, 0.0572290543591466, 0.0572290543591466, 0.0572290543591466, 0.0572290543591466, 0.0572290543591466, 0.0572290543591466, 0.054764709873226895, 0.054764709873226895, 0.054764709873226895, 0.054764709873226895, 0.054764709873226895, 0.054764709873226895, 0.054764709873226895, 0.054764709873226895, 0.054764709873226895, 0.054764709873226895, 0.054764709873226895, 0.054764709873226895, 0.054764709873226895, 0.054764709873226895, 0.054764709873226895, 0.054764709873226895, 0.054764709873226895, 0.054764709873226895, 0.054764709873226895, 0.054764709873226895, 0.05641351169950623, 0.05641351169950623, 0.05641351169950623, 0.05641351169950623, 0.05641351169950623, 0.05641351169950623, 0.05641351169950623, 0.05641351169950623, 0.05641351169950623, 0.05641351169950623, 0.05641351169950623, 0.05641351169950623, 0.05641351169950623, 0.05641351169950623, 0.05641351169950623, 0.05641351169950623, 0.05641351169950623, 0.05641351169950623, 0.05641351169950623, 0.05641351169950623, 0.055320268246368334, 0.055320268246368334, 0.055320268246368334, 0.055320268246368334, 0.055320268246368334, 0.055320268246368334, 0.055320268246368334, 0.055320268246368334, 0.055320268246368334, 0.055320268246368334, 0.055320268246368334, 0.055320268246368334, 0.055320268246368334, 0.055320268246368334, 0.055320268246368334, 0.055320268246368334, 0.055320268246368334, 0.055320268246368334, 0.055320268246368334, 0.055320268246368334, 0.05686332960752408, 0.05686332960752408, 0.05686332960752408, 0.05686332960752408, 0.05686332960752408, 0.05686332960752408, 0.05686332960752408, 0.05686332960752408, 0.05686332960752408, 0.05686332960752408, 0.05686332960752408, 0.05686332960752408, 0.05686332960752408, 0.05686332960752408, 0.05686332960752408, 0.05686332960752408, 0.05686332960752408, 0.05686332960752408, 0.05686332960752408, 0.05686332960752408, 0.055604366017876626, 0.055604366017876626, 0.055604366017876626, 0.055604366017876626, 0.055604366017876626, 0.055604366017876626, 0.055604366017876626, 0.055604366017876626, 0.055604366017876626, 0.055604366017876626, 0.055604366017876626, 0.055604366017876626, 0.055604366017876626, 0.055604366017876626, 0.055604366017876626, 0.055604366017876626, 0.055604366017876626, 0.055604366017876626, 0.055604366017876626, 0.055604366017876626, 0.056115545244877864, 0.056115545244877864, 0.056115545244877864, 0.056115545244877864, 0.056115545244877864, 0.056115545244877864, 0.056115545244877864, 0.056115545244877864, 0.056115545244877864, 0.056115545244877864, 0.056115545244877864, 0.056115545244877864, 0.056115545244877864, 0.056115545244877864, 0.056115545244877864, 0.056115545244877864, 0.056115545244877864, 0.056115545244877864, 0.056115545244877864, 0.056115545244877864, 0.0550837076604006, 0.0550837076604006, 0.0550837076604006, 0.0550837076604006, 0.0550837076604006, 0.0550837076604006, 0.0550837076604006, 0.0550837076604006, 0.0550837076604006, 0.0550837076604006, 0.0550837076604006, 0.0550837076604006, 0.0550837076604006, 0.0550837076604006, 0.0550837076604006, 0.0550837076604006, 0.0550837076604006, 0.0550837076604006, 0.0550837076604006, 0.0550837076604006, 0.05598704652054411, 0.05598704652054411, 0.05598704652054411, 0.05598704652054411, 0.05598704652054411, 0.05598704652054411, 0.05598704652054411, 0.05598704652054411, 0.05598704652054411, 0.05598704652054411, 0.05598704652054411, 0.05598704652054411, 0.05598704652054411, 0.05598704652054411, 0.05598704652054411, 0.05598704652054411, 0.05598704652054411, 0.05598704652054411, 0.05598704652054411, 0.05598704652054411, 0.055711587836014015, 0.055711587836014015, 0.055711587836014015, 0.055711587836014015, 0.055711587836014015, 0.055711587836014015, 0.055711587836014015, 0.055711587836014015, 0.055711587836014015, 0.055711587836014015, 0.055711587836014015, 0.055711587836014015, 0.055711587836014015, 0.055711587836014015, 0.055711587836014015, 0.055711587836014015, 0.055711587836014015, 0.055711587836014015, 0.055711587836014015, 0.055711587836014015, 0.05539366603461556, 0.05539366603461556, 0.05539366603461556, 0.05539366603461556, 0.05539366603461556, 0.05539366603461556, 0.05539366603461556, 0.05539366603461556, 0.05539366603461556, 0.05539366603461556, 0.05539366603461556, 0.05539366603461556, 0.05539366603461556, 0.05539366603461556, 0.05539366603461556, 0.05539366603461556, 0.05539366603461556, 0.05539366603461556, 0.05539366603461556, 0.05539366603461556, 0.05650781954170623, 0.05650781954170623, 0.05650781954170623, 0.05650781954170623, 0.05650781954170623, 0.05650781954170623, 0.05650781954170623, 0.05650781954170623, 0.05650781954170623, 0.05650781954170623, 0.05650781954170623, 0.05650781954170623, 0.05650781954170623, 0.05650781954170623, 0.05650781954170623, 0.05650781954170623, 0.05650781954170623, 0.05650781954170623, 0.05650781954170623, 0.05650781954170623, 0.05645681790622731, 0.05645681790622731, 0.05645681790622731, 0.05645681790622731, 0.05645681790622731, 0.05645681790622731, 0.05645681790622731, 0.05645681790622731, 0.05645681790622731, 0.05645681790622731, 0.05645681790622731, 0.05645681790622731, 0.05645681790622731, 0.05645681790622731, 0.05645681790622731, 0.05645681790622731, 0.05645681790622731, 0.05645681790622731, 0.05645681790622731, 0.05645681790622731, 0.05533138765847825, 0.05533138765847825, 0.05533138765847825, 0.05533138765847825, 0.05533138765847825, 0.05533138765847825, 0.05533138765847825, 0.05533138765847825, 0.05533138765847825, 0.05533138765847825, 0.05533138765847825, 0.05533138765847825, 0.05533138765847825, 0.05533138765847825, 0.05533138765847825, 0.05533138765847825, 0.05533138765847825, 0.05533138765847825, 0.05533138765847825, 0.05533138765847825, 0.05650162280199025, 0.05650162280199025, 0.05650162280199025, 0.05650162280199025, 0.05650162280199025, 0.05650162280199025, 0.05650162280199025, 0.05650162280199025, 0.05650162280199025, 0.05650162280199025, 0.05650162280199025, 0.05650162280199025, 0.05650162280199025, 0.05650162280199025, 0.05650162280199025, 0.05650162280199025, 0.05650162280199025, 0.05650162280199025, 0.05650162280199025, 0.05650162280199025, 0.05622203924050248, 0.05622203924050248, 0.05622203924050248, 0.05622203924050248, 0.05622203924050248, 0.05622203924050248, 0.05622203924050248, 0.05622203924050248, 0.05622203924050248, 0.05622203924050248, 0.05622203924050248, 0.05622203924050248, 0.05622203924050248, 0.05622203924050248, 0.05622203924050248, 0.05622203924050248, 0.05622203924050248, 0.05622203924050248, 0.05622203924050248, 0.05622203924050248, 0.05520961280996133, 0.05520961280996133, 0.05520961280996133, 0.05520961280996133, 0.05520961280996133, 0.05520961280996133, 0.05520961280996133, 0.05520961280996133, 0.05520961280996133, 0.05520961280996133, 0.05520961280996133, 0.05520961280996133, 0.05520961280996133, 0.05520961280996133, 0.05520961280996133, 0.05520961280996133, 0.05520961280996133, 0.05520961280996133, 0.05520961280996133, 0.05520961280996133, 0.05536056194549615, 0.05536056194549615, 0.05536056194549615, 0.05536056194549615, 0.05536056194549615, 0.05536056194549615, 0.05536056194549615, 0.05536056194549615, 0.05536056194549615, 0.05536056194549615, 0.05536056194549615, 0.05536056194549615, 0.05536056194549615, 0.05536056194549615, 0.05536056194549615, 0.05536056194549615, 0.05536056194549615, 0.05536056194549615, 0.05536056194549615, 0.05536056194549615, 0.05608210412101396, 0.05608210412101396, 0.05608210412101396, 0.05608210412101396, 0.05608210412101396, 0.05608210412101396, 0.05608210412101396, 0.05608210412101396, 0.05608210412101396, 0.05608210412101396, 0.05608210412101396, 0.05608210412101396, 0.05608210412101396, 0.05608210412101396, 0.05608210412101396, 0.05608210412101396, 0.05608210412101396, 0.05608210412101396, 0.05608210412101396, 0.05608210412101396, 0.056338035229714645, 0.056338035229714645, 0.056338035229714645, 0.056338035229714645, 0.056338035229714645, 0.056338035229714645, 0.056338035229714645, 0.056338035229714645, 0.056338035229714645, 0.056338035229714645, 0.056338035229714645, 0.056338035229714645, 0.056338035229714645, 0.056338035229714645, 0.056338035229714645, 0.056338035229714645, 0.056338035229714645, 0.056338035229714645, 0.056338035229714645, 0.056338035229714645, 0.05535714708294721, 0.05535714708294721, 0.05535714708294721, 0.05535714708294721, 0.05535714708294721, 0.05535714708294721, 0.05535714708294721, 0.05535714708294721, 0.05535714708294721, 0.05535714708294721, 0.05535714708294721, 0.05535714708294721, 0.05535714708294721, 0.05535714708294721, 0.05535714708294721, 0.05535714708294721, 0.05535714708294721, 0.05535714708294721, 0.05535714708294721, 0.05535714708294721, 0.05548160846753973, 0.05548160846753973, 0.05548160846753973, 0.05548160846753973, 0.05548160846753973, 0.05548160846753973, 0.05548160846753973, 0.05548160846753973, 0.05548160846753973, 0.05548160846753973, 0.05548160846753973, 0.05548160846753973, 0.05548160846753973, 0.05548160846753973, 0.05548160846753973, 0.05548160846753973, 0.05548160846753973, 0.05548160846753973, 0.05548160846753973, 0.05548160846753973, 0.05686465074238177, 0.05686465074238177, 0.05686465074238177, 0.05686465074238177, 0.05686465074238177, 0.05686465074238177, 0.05686465074238177, 0.05686465074238177, 0.05686465074238177, 0.05686465074238177, 0.05686465074238177, 0.05686465074238177, 0.05686465074238177, 0.05686465074238177, 0.05686465074238177, 0.05686465074238177, 0.05686465074238177, 0.05686465074238177, 0.05686465074238177, 0.05686465074238177, 0.05578432707080458, 0.05578432707080458, 0.05578432707080458, 0.05578432707080458, 0.05578432707080458, 0.05578432707080458, 0.05578432707080458, 0.05578432707080458, 0.05578432707080458, 0.05578432707080458, 0.05578432707080458, 0.05578432707080458, 0.05578432707080458, 0.05578432707080458, 0.05578432707080458, 0.05578432707080458, 0.05578432707080458, 0.05578432707080458, 0.05578432707080458, 0.05578432707080458, 0.05658269740424951, 0.05658269740424951, 0.05658269740424951, 0.05658269740424951, 0.05658269740424951, 0.05658269740424951, 0.05658269740424951, 0.05658269740424951, 0.05658269740424951, 0.05658269740424951, 0.05658269740424951, 0.05658269740424951, 0.05658269740424951, 0.05658269740424951, 0.05658269740424951, 0.05658269740424951, 0.05658269740424951, 0.05658269740424951, 0.05658269740424951, 0.05658269740424951, 0.05646673309532535, 0.05646673309532535, 0.05646673309532535, 0.05646673309532535, 0.05646673309532535, 0.05646673309532535, 0.05646673309532535, 0.05646673309532535, 0.05646673309532535, 0.05646673309532535, 0.05646673309532535, 0.05646673309532535, 0.05646673309532535, 0.05646673309532535, 0.05646673309532535, 0.05646673309532535, 0.05646673309532535, 0.05646673309532535, 0.05646673309532535, 0.05646673309532535, 0.0559247734891926, 0.0559247734891926, 0.0559247734891926, 0.0559247734891926, 0.0559247734891926, 0.0559247734891926, 0.0559247734891926, 0.0559247734891926, 0.0559247734891926, 0.0559247734891926, 0.0559247734891926, 0.0559247734891926, 0.0559247734891926, 0.0559247734891926, 0.0559247734891926, 0.0559247734891926, 0.0559247734891926, 0.0559247734891926, 0.0559247734891926, 0.0559247734891926, 0.05725971816788794, 0.05725971816788794, 0.05725971816788794, 0.05725971816788794, 0.05725971816788794, 0.05725971816788794, 0.05725971816788794, 0.05725971816788794, 0.05725971816788794, 0.05725971816788794, 0.05725971816788794, 0.05725971816788794, 0.05725971816788794, 0.05725971816788794, 0.05725971816788794, 0.05725971816788794, 0.05725971816788794, 0.05725971816788794, 0.05725971816788794, 0.05725971816788794, 0.05605215616828641, 0.05605215616828641, 0.05605215616828641, 0.05605215616828641, 0.05605215616828641, 0.05605215616828641, 0.05605215616828641, 0.05605215616828641, 0.05605215616828641, 0.05605215616828641, 0.05605215616828641, 0.05605215616828641, 0.05605215616828641, 0.05605215616828641, 0.05605215616828641, 0.05605215616828641, 0.05605215616828641, 0.05605215616828641, 0.05605215616828641, 0.05605215616828641, 0.05714346961597576, 0.05714346961597576, 0.05714346961597576, 0.05714346961597576, 0.05714346961597576, 0.05714346961597576, 0.05714346961597576, 0.05714346961597576, 0.05714346961597576, 0.05714346961597576, 0.05714346961597576, 0.05714346961597576, 0.05714346961597576, 0.05714346961597576, 0.05714346961597576, 0.05714346961597576, 0.05714346961597576, 0.05714346961597576, 0.05714346961597576, 0.05714346961597576, 0.055443594732373064, 0.055443594732373064, 0.055443594732373064, 0.055443594732373064, 0.055443594732373064, 0.055443594732373064, 0.055443594732373064, 0.055443594732373064, 0.055443594732373064, 0.055443594732373064, 0.055443594732373064, 0.055443594732373064, 0.055443594732373064, 0.055443594732373064, 0.055443594732373064, 0.055443594732373064, 0.055443594732373064, 0.055443594732373064, 0.055443594732373064, 0.055443594732373064, 0.05643611933692818, 0.05643611933692818, 0.05643611933692818, 0.05643611933692818, 0.05643611933692818, 0.05643611933692818, 0.05643611933692818, 0.05643611933692818, 0.05643611933692818, 0.05643611933692818, 0.05643611933692818, 0.05643611933692818, 0.05643611933692818, 0.05643611933692818, 0.05643611933692818, 0.05643611933692818, 0.05643611933692818, 0.05643611933692818, 0.05643611933692818, 0.05643611933692818, 0.05495196813841899, 0.05495196813841899, 0.05495196813841899, 0.05495196813841899, 0.05495196813841899, 0.05495196813841899, 0.05495196813841899, 0.05495196813841899, 0.05495196813841899, 0.05495196813841899, 0.05495196813841899, 0.05495196813841899, 0.05495196813841899, 0.05495196813841899, 0.05495196813841899, 0.05495196813841899, 0.05495196813841899, 0.05495196813841899, 0.05495196813841899, 0.05495196813841899, 0.05632974372009567, 0.05632974372009567, 0.05632974372009567, 0.05632974372009567, 0.05632974372009567, 0.05632974372009567, 0.05632974372009567, 0.05632974372009567, 0.05632974372009567, 0.05632974372009567, 0.05632974372009567, 0.05632974372009567, 0.05632974372009567, 0.05632974372009567, 0.05632974372009567, 0.05632974372009567, 0.05632974372009567, 0.05632974372009567, 0.05632974372009567, 0.05632974372009567, 0.056839388827157986, 0.056839388827157986, 0.056839388827157986, 0.056839388827157986, 0.056839388827157986, 0.056839388827157986, 0.056839388827157986, 0.056839388827157986, 0.056839388827157986, 0.056839388827157986, 0.056839388827157986, 0.056839388827157986, 0.056839388827157986, 0.056839388827157986, 0.056839388827157986, 0.056839388827157986, 0.056839388827157986, 0.056839388827157986, 0.056839388827157986, 0.056839388827157986, 0.05708223710213303, 0.05708223710213303, 0.05708223710213303, 0.05708223710213303, 0.05708223710213303, 0.05708223710213303, 0.05708223710213303, 0.05708223710213303, 0.05708223710213303, 0.05708223710213303, 0.05708223710213303, 0.05708223710213303, 0.05708223710213303, 0.05708223710213303, 0.05708223710213303, 0.05708223710213303, 0.05708223710213303, 0.05708223710213303, 0.05708223710213303, 0.05708223710213303, 0.05665764446649551, 0.05665764446649551, 0.05665764446649551, 0.05665764446649551, 0.05665764446649551, 0.05665764446649551, 0.05665764446649551, 0.05665764446649551, 0.05665764446649551, 0.05665764446649551, 0.05665764446649551, 0.05665764446649551, 0.05665764446649551, 0.05665764446649551, 0.05665764446649551, 0.05665764446649551, 0.05665764446649551, 0.05665764446649551, 0.05665764446649551, 0.05665764446649551, 0.056017536808926266, 0.056017536808926266, 0.056017536808926266, 0.056017536808926266, 0.056017536808926266, 0.056017536808926266, 0.056017536808926266, 0.056017536808926266, 0.056017536808926266, 0.056017536808926266, 0.056017536808926266, 0.056017536808926266, 0.056017536808926266, 0.056017536808926266, 0.056017536808926266, 0.056017536808926266, 0.056017536808926266, 0.056017536808926266, 0.056017536808926266, 0.056017536808926266, 0.05509065912711253, 0.05509065912711253, 0.05509065912711253, 0.05509065912711253, 0.05509065912711253, 0.05509065912711253, 0.05509065912711253, 0.05509065912711253, 0.05509065912711253, 0.05509065912711253, 0.05509065912711253, 0.05509065912711253, 0.05509065912711253, 0.05509065912711253, 0.05509065912711253, 0.05509065912711253, 0.05509065912711253, 0.05509065912711253, 0.05509065912711253, 0.05509065912711253, 0.05582448660135511, 0.05582448660135511, 0.05582448660135511, 0.05582448660135511, 0.05582448660135511, 0.05582448660135511, 0.05582448660135511, 0.05582448660135511, 0.05582448660135511, 0.05582448660135511, 0.05582448660135511, 0.05582448660135511, 0.05582448660135511, 0.05582448660135511, 0.05582448660135511, 0.05582448660135511, 0.05582448660135511, 0.05582448660135511, 0.05582448660135511, 0.05582448660135511, 0.05661291141870996, 0.05661291141870996, 0.05661291141870996, 0.05661291141870996, 0.05661291141870996, 0.05661291141870996, 0.05661291141870996, 0.05661291141870996, 0.05661291141870996, 0.05661291141870996, 0.05661291141870996, 0.05661291141870996, 0.05661291141870996, 0.05661291141870996, 0.05661291141870996, 0.05661291141870996, 0.05661291141870996, 0.05661291141870996, 0.05661291141870996, 0.05661291141870996, 0.05589358252432064, 0.05589358252432064, 0.05589358252432064, 0.05589358252432064, 0.05589358252432064, 0.05589358252432064, 0.05589358252432064, 0.05589358252432064, 0.05589358252432064, 0.05589358252432064, 0.05589358252432064, 0.05589358252432064, 0.05589358252432064, 0.05589358252432064, 0.05589358252432064, 0.05589358252432064, 0.05589358252432064, 0.05589358252432064, 0.05589358252432064, 0.05589358252432064, 0.05620762912083743, 0.05620762912083743, 0.05620762912083743, 0.05620762912083743, 0.05620762912083743, 0.05620762912083743, 0.05620762912083743, 0.05620762912083743, 0.05620762912083743, 0.05620762912083743, 0.05620762912083743, 0.05620762912083743, 0.05620762912083743, 0.05620762912083743, 0.05620762912083743, 0.05620762912083743, 0.05620762912083743, 0.05620762912083743, 0.05620762912083743, 0.05620762912083743, 0.05720715280629844, 0.05720715280629844, 0.05720715280629844, 0.05720715280629844, 0.05720715280629844, 0.05720715280629844, 0.05720715280629844, 0.05720715280629844, 0.05720715280629844, 0.05720715280629844, 0.05720715280629844, 0.05720715280629844, 0.05720715280629844, 0.05720715280629844, 0.05720715280629844, 0.05720715280629844, 0.05720715280629844, 0.05720715280629844, 0.05720715280629844, 0.05720715280629844, 0.05551899925922353, 0.05551899925922353, 0.05551899925922353, 0.05551899925922353, 0.05551899925922353, 0.05551899925922353, 0.05551899925922353, 0.05551899925922353, 0.05551899925922353, 0.05551899925922353, 0.05551899925922353, 0.05551899925922353, 0.05551899925922353, 0.05551899925922353, 0.05551899925922353, 0.05551899925922353, 0.05551899925922353, 0.05551899925922353, 0.05551899925922353, 0.05551899925922353, 0.05594590071343664, 0.05594590071343664, 0.05594590071343664, 0.05594590071343664, 0.05594590071343664, 0.05594590071343664, 0.05594590071343664, 0.05594590071343664, 0.05594590071343664, 0.05594590071343664, 0.05594590071343664, 0.05594590071343664, 0.05594590071343664, 0.05594590071343664, 0.05594590071343664, 0.05594590071343664, 0.05594590071343664, 0.05594590071343664, 0.05594590071343664, 0.05594590071343664, 0.05677301797983992, 0.05677301797983992, 0.05677301797983992, 0.05677301797983992, 0.05677301797983992, 0.05677301797983992, 0.05677301797983992, 0.05677301797983992, 0.05677301797983992, 0.05677301797983992, 0.05677301797983992, 0.05677301797983992, 0.05677301797983992, 0.05677301797983992, 0.05677301797983992, 0.05677301797983992, 0.05677301797983992, 0.05677301797983992, 0.05677301797983992, 0.05677301797983992, 0.056454192306934325, 0.056454192306934325, 0.056454192306934325, 0.056454192306934325, 0.056454192306934325, 0.056454192306934325, 0.056454192306934325, 0.056454192306934325, 0.056454192306934325, 0.056454192306934325, 0.056454192306934325, 0.056454192306934325, 0.056454192306934325, 0.056454192306934325, 0.056454192306934325, 0.056454192306934325, 0.056454192306934325, 0.056454192306934325, 0.056454192306934325, 0.056454192306934325, 0.05671514668033343, 0.05671514668033343, 0.05671514668033343, 0.05671514668033343, 0.05671514668033343, 0.05671514668033343, 0.05671514668033343, 0.05671514668033343, 0.05671514668033343, 0.05671514668033343, 0.05671514668033343, 0.05671514668033343, 0.05671514668033343, 0.05671514668033343, 0.05671514668033343, 0.05671514668033343, 0.05671514668033343, 0.05671514668033343, 0.05671514668033343, 0.05671514668033343, 0.05557605877440871, 0.05557605877440871, 0.05557605877440871, 0.05557605877440871, 0.05557605877440871, 0.05557605877440871, 0.05557605877440871, 0.05557605877440871, 0.05557605877440871, 0.05557605877440871, 0.05557605877440871, 0.05557605877440871, 0.05557605877440871, 0.05557605877440871, 0.05557605877440871, 0.05557605877440871, 0.05557605877440871, 0.05557605877440871, 0.05557605877440871, 0.05557605877440871, 0.0569235994443193, 0.0569235994443193, 0.0569235994443193, 0.0569235994443193, 0.0569235994443193, 0.0569235994443193, 0.0569235994443193, 0.0569235994443193, 0.0569235994443193, 0.0569235994443193, 0.0569235994443193, 0.0569235994443193, 0.0569235994443193, 0.0569235994443193, 0.0569235994443193, 0.0569235994443193, 0.0569235994443193, 0.0569235994443193, 0.0569235994443193, 0.0569235994443193, 0.05649291225921776, 0.05649291225921776, 0.05649291225921776, 0.05649291225921776, 0.05649291225921776, 0.05649291225921776, 0.05649291225921776, 0.05649291225921776, 0.05649291225921776, 0.05649291225921776, 0.05649291225921776, 0.05649291225921776, 0.05649291225921776, 0.05649291225921776, 0.05649291225921776, 0.05649291225921776, 0.05649291225921776, 0.05649291225921776, 0.05649291225921776, 0.05649291225921776, 0.05664758472816684, 0.05664758472816684, 0.05664758472816684, 0.05664758472816684, 0.05664758472816684, 0.05664758472816684, 0.05664758472816684, 0.05664758472816684, 0.05664758472816684, 0.05664758472816684, 0.05664758472816684, 0.05664758472816684, 0.05664758472816684, 0.05664758472816684, 0.05664758472816684, 0.05664758472816684, 0.05664758472816684, 0.05664758472816684, 0.05664758472816684, 0.05664758472816684, 0.05613340704824498, 0.05613340704824498, 0.05613340704824498, 0.05613340704824498, 0.05613340704824498, 0.05613340704824498, 0.05613340704824498, 0.05613340704824498, 0.05613340704824498, 0.05613340704824498, 0.05613340704824498, 0.05613340704824498, 0.05613340704824498, 0.05613340704824498, 0.05613340704824498, 0.05613340704824498, 0.05613340704824498, 0.05613340704824498, 0.05613340704824498, 0.05613340704824498, 0.05490533863276485, 0.05490533863276485, 0.05490533863276485, 0.05490533863276485, 0.05490533863276485, 0.05490533863276485, 0.05490533863276485, 0.05490533863276485, 0.05490533863276485, 0.05490533863276485, 0.05490533863276485, 0.05490533863276485, 0.05490533863276485, 0.05490533863276485, 0.05490533863276485, 0.05490533863276485, 0.05490533863276485, 0.05490533863276485, 0.05490533863276485, 0.05490533863276485, 0.05622459438271857, 0.05622459438271857, 0.05622459438271857, 0.05622459438271857, 0.05622459438271857, 0.05622459438271857, 0.05622459438271857, 0.05622459438271857, 0.05622459438271857, 0.05622459438271857, 0.05622459438271857, 0.05622459438271857, 0.05622459438271857, 0.05622459438271857, 0.05622459438271857, 0.05622459438271857, 0.05622459438271857, 0.05622459438271857, 0.05622459438271857, 0.05622459438271857, 0.055015815591442335, 0.055015815591442335, 0.055015815591442335, 0.055015815591442335, 0.055015815591442335, 0.055015815591442335, 0.055015815591442335, 0.055015815591442335, 0.055015815591442335, 0.055015815591442335, 0.055015815591442335, 0.055015815591442335, 0.055015815591442335, 0.055015815591442335, 0.055015815591442335, 0.055015815591442335, 0.055015815591442335, 0.055015815591442335, 0.055015815591442335, 0.055015815591442335, 0.055771582485782435, 0.055771582485782435, 0.055771582485782435, 0.055771582485782435, 0.055771582485782435, 0.055771582485782435, 0.055771582485782435, 0.055771582485782435, 0.055771582485782435, 0.055771582485782435, 0.055771582485782435, 0.055771582485782435, 0.055771582485782435, 0.055771582485782435, 0.055771582485782435, 0.055771582485782435, 0.055771582485782435, 0.055771582485782435, 0.055771582485782435, 0.055771582485782435, 0.056485323616519124, 0.056485323616519124, 0.056485323616519124, 0.056485323616519124, 0.056485323616519124, 0.056485323616519124, 0.056485323616519124, 0.056485323616519124, 0.056485323616519124, 0.056485323616519124, 0.056485323616519124, 0.056485323616519124, 0.056485323616519124, 0.056485323616519124, 0.056485323616519124, 0.056485323616519124, 0.056485323616519124, 0.056485323616519124, 0.056485323616519124, 0.056485323616519124, 0.055407998434464485, 0.055407998434464485, 0.055407998434464485, 0.055407998434464485, 0.055407998434464485, 0.055407998434464485, 0.055407998434464485, 0.055407998434464485, 0.055407998434464485, 0.055407998434464485, 0.055407998434464485, 0.055407998434464485, 0.055407998434464485, 0.055407998434464485, 0.055407998434464485, 0.055407998434464485, 0.055407998434464485, 0.055407998434464485, 0.055407998434464485, 0.055407998434464485, 0.05556932305024997, 0.05556932305024997, 0.05556932305024997, 0.05556932305024997, 0.05556932305024997, 0.05556932305024997, 0.05556932305024997, 0.05556932305024997, 0.05556932305024997, 0.05556932305024997, 0.05556932305024997, 0.05556932305024997, 0.05556932305024997, 0.05556932305024997, 0.05556932305024997, 0.05556932305024997, 0.05556932305024997, 0.05556932305024997, 0.05556932305024997, 0.05556932305024997, 0.05554542601722998, 0.05554542601722998, 0.05554542601722998, 0.05554542601722998, 0.05554542601722998, 0.05554542601722998, 0.05554542601722998, 0.05554542601722998, 0.05554542601722998, 0.05554542601722998, 0.05554542601722998, 0.05554542601722998, 0.05554542601722998, 0.05554542601722998, 0.05554542601722998, 0.05554542601722998, 0.05554542601722998, 0.05554542601722998, 0.05554542601722998, 0.05554542601722998, 0.054740757006903965, 0.054740757006903965, 0.054740757006903965, 0.054740757006903965, 0.054740757006903965, 0.054740757006903965, 0.054740757006903965, 0.054740757006903965, 0.054740757006903965, 0.054740757006903965, 0.054740757006903965, 0.054740757006903965, 0.054740757006903965, 0.054740757006903965, 0.054740757006903965, 0.054740757006903965, 0.054740757006903965, 0.054740757006903965, 0.054740757006903965, 0.054740757006903965, 0.055268641772255316, 0.055268641772255316, 0.055268641772255316, 0.055268641772255316, 0.055268641772255316, 0.055268641772255316, 0.055268641772255316, 0.055268641772255316, 0.055268641772255316, 0.055268641772255316, 0.055268641772255316, 0.055268641772255316, 0.055268641772255316, 0.055268641772255316, 0.055268641772255316, 0.055268641772255316, 0.055268641772255316, 0.055268641772255316, 0.055268641772255316, 0.055268641772255316, 0.05557437294414891, 0.05557437294414891, 0.05557437294414891, 0.05557437294414891, 0.05557437294414891, 0.05557437294414891, 0.05557437294414891, 0.05557437294414891, 0.05557437294414891, 0.05557437294414891, 0.05557437294414891, 0.05557437294414891, 0.05557437294414891, 0.05557437294414891, 0.05557437294414891, 0.05557437294414891, 0.05557437294414891, 0.05557437294414891, 0.05557437294414891, 0.05557437294414891, 0.05517464521969879, 0.05517464521969879, 0.05517464521969879, 0.05517464521969879, 0.05517464521969879, 0.05517464521969879, 0.05517464521969879, 0.05517464521969879, 0.05517464521969879, 0.05517464521969879, 0.05517464521969879, 0.05517464521969879, 0.05517464521969879, 0.05517464521969879, 0.05517464521969879, 0.05517464521969879, 0.05517464521969879, 0.05517464521969879, 0.05517464521969879, 0.05517464521969879, 0.056132312432780634, 0.056132312432780634, 0.056132312432780634, 0.056132312432780634, 0.056132312432780634, 0.056132312432780634, 0.056132312432780634, 0.056132312432780634, 0.056132312432780634, 0.056132312432780634, 0.056132312432780634, 0.056132312432780634, 0.056132312432780634, 0.056132312432780634, 0.056132312432780634, 0.056132312432780634, 0.056132312432780634, 0.056132312432780634, 0.056132312432780634, 0.056132312432780634, 0.05564684739706936, 0.05564684739706936, 0.05564684739706936, 0.05564684739706936, 0.05564684739706936, 0.05564684739706936, 0.05564684739706936, 0.05564684739706936, 0.05564684739706936, 0.05564684739706936, 0.05564684739706936, 0.05564684739706936, 0.05564684739706936, 0.05564684739706936, 0.05564684739706936, 0.05564684739706936, 0.05564684739706936, 0.05564684739706936, 0.05564684739706936, 0.05564684739706936, 0.05533502137684486, 0.05533502137684486, 0.05533502137684486, 0.05533502137684486, 0.05533502137684486, 0.05533502137684486, 0.05533502137684486, 0.05533502137684486, 0.05533502137684486, 0.05533502137684486, 0.05533502137684486, 0.05533502137684486, 0.05533502137684486, 0.05533502137684486, 0.05533502137684486, 0.05533502137684486, 0.05533502137684486, 0.05533502137684486, 0.05533502137684486, 0.05533502137684486, 0.056876687568180664, 0.056876687568180664, 0.056876687568180664, 0.056876687568180664, 0.056876687568180664, 0.056876687568180664, 0.056876687568180664, 0.056876687568180664, 0.056876687568180664, 0.056876687568180664, 0.056876687568180664, 0.056876687568180664, 0.056876687568180664, 0.056876687568180664, 0.056876687568180664, 0.056876687568180664, 0.056876687568180664, 0.056876687568180664, 0.056876687568180664, 0.056876687568180664, 0.05569885428682186, 0.05569885428682186, 0.05569885428682186, 0.05569885428682186, 0.05569885428682186, 0.05569885428682186, 0.05569885428682186, 0.05569885428682186, 0.05569885428682186, 0.05569885428682186, 0.05569885428682186, 0.05569885428682186, 0.05569885428682186, 0.05569885428682186, 0.05569885428682186, 0.05569885428682186, 0.05569885428682186, 0.05569885428682186, 0.05569885428682186, 0.05569885428682186, 0.05588825062021099, 0.05588825062021099, 0.05588825062021099, 0.05588825062021099, 0.05588825062021099, 0.05588825062021099, 0.05588825062021099, 0.05588825062021099, 0.05588825062021099, 0.05588825062021099, 0.05588825062021099, 0.05588825062021099, 0.05588825062021099, 0.05588825062021099, 0.05588825062021099, 0.05588825062021099, 0.05588825062021099, 0.05588825062021099, 0.05588825062021099, 0.05588825062021099, 0.05670919757908759, 0.05670919757908759, 0.05670919757908759, 0.05670919757908759, 0.05670919757908759, 0.05670919757908759, 0.05670919757908759, 0.05670919757908759, 0.05670919757908759, 0.05670919757908759, 0.05670919757908759, 0.05670919757908759, 0.05670919757908759, 0.05670919757908759, 0.05670919757908759, 0.05670919757908759, 0.05670919757908759, 0.05670919757908759, 0.05670919757908759, 0.05670919757908759, 0.056975007047959145, 0.056975007047959145, 0.056975007047959145, 0.056975007047959145, 0.056975007047959145, 0.056975007047959145, 0.056975007047959145, 0.056975007047959145, 0.056975007047959145, 0.056975007047959145, 0.056975007047959145, 0.056975007047959145, 0.056975007047959145, 0.056975007047959145, 0.056975007047959145, 0.056975007047959145, 0.056975007047959145, 0.056975007047959145, 0.056975007047959145, 0.056975007047959145, 0.055676768582948996, 0.055676768582948996, 0.055676768582948996, 0.055676768582948996, 0.055676768582948996, 0.055676768582948996, 0.055676768582948996, 0.055676768582948996, 0.055676768582948996, 0.055676768582948996, 0.055676768582948996, 0.055676768582948996, 0.055676768582948996, 0.055676768582948996, 0.055676768582948996, 0.055676768582948996, 0.055676768582948996, 0.055676768582948996, 0.055676768582948996, 0.055676768582948996, 0.0566590592051872, 0.0566590592051872, 0.0566590592051872, 0.0566590592051872, 0.0566590592051872, 0.0566590592051872, 0.0566590592051872, 0.0566590592051872, 0.0566590592051872, 0.0566590592051872, 0.0566590592051872, 0.0566590592051872, 0.0566590592051872, 0.0566590592051872, 0.0566590592051872, 0.0566590592051872, 0.0566590592051872, 0.0566590592051872, 0.0566590592051872, 0.0566590592051872, 0.05620554226725707, 0.05620554226725707, 0.05620554226725707, 0.05620554226725707, 0.05620554226725707, 0.05620554226725707, 0.05620554226725707, 0.05620554226725707, 0.05620554226725707, 0.05620554226725707, 0.05620554226725707, 0.05620554226725707, 0.05620554226725707, 0.05620554226725707, 0.05620554226725707, 0.05620554226725707, 0.05620554226725707, 0.05620554226725707, 0.05620554226725707, 0.05620554226725707, 0.05472281005687149, 0.05472281005687149, 0.05472281005687149, 0.05472281005687149, 0.05472281005687149, 0.05472281005687149, 0.05472281005687149, 0.05472281005687149, 0.05472281005687149, 0.05472281005687149, 0.05472281005687149, 0.05472281005687149, 0.05472281005687149, 0.05472281005687149, 0.05472281005687149, 0.05472281005687149, 0.05472281005687149, 0.05472281005687149, 0.05472281005687149, 0.05472281005687149, 0.056109844411074174, 0.056109844411074174, 0.056109844411074174, 0.056109844411074174, 0.056109844411074174, 0.056109844411074174, 0.056109844411074174, 0.056109844411074174, 0.056109844411074174, 0.056109844411074174, 0.056109844411074174, 0.056109844411074174, 0.056109844411074174, 0.056109844411074174, 0.056109844411074174, 0.056109844411074174, 0.056109844411074174, 0.056109844411074174, 0.056109844411074174, 0.056109844411074174, 0.056296904886578764, 0.056296904886578764, 0.056296904886578764, 0.056296904886578764, 0.056296904886578764, 0.056296904886578764, 0.056296904886578764, 0.056296904886578764, 0.056296904886578764, 0.056296904886578764, 0.056296904886578764, 0.056296904886578764, 0.056296904886578764, 0.056296904886578764, 0.056296904886578764, 0.056296904886578764, 0.056296904886578764, 0.056296904886578764, 0.056296904886578764, 0.056296904886578764, 0.05718486591790453, 0.05718486591790453, 0.05718486591790453, 0.05718486591790453, 0.05718486591790453, 0.05718486591790453, 0.05718486591790453, 0.05718486591790453, 0.05718486591790453, 0.05718486591790453, 0.05718486591790453, 0.05718486591790453, 0.05718486591790453, 0.05718486591790453, 0.05718486591790453, 0.05718486591790453, 0.05718486591790453, 0.05718486591790453, 0.05718486591790453, 0.05718486591790453, 0.055962956063320905, 0.055962956063320905, 0.055962956063320905, 0.055962956063320905, 0.055962956063320905, 0.055962956063320905, 0.055962956063320905, 0.055962956063320905, 0.055962956063320905, 0.055962956063320905, 0.055962956063320905, 0.055962956063320905, 0.055962956063320905, 0.055962956063320905, 0.055962956063320905, 0.055962956063320905, 0.055962956063320905, 0.055962956063320905, 0.055962956063320905, 0.055962956063320905, 0.05635365275415656, 0.05635365275415656, 0.05635365275415656, 0.05635365275415656, 0.05635365275415656, 0.05635365275415656, 0.05635365275415656, 0.05635365275415656, 0.05635365275415656, 0.05635365275415656, 0.05635365275415656, 0.05635365275415656, 0.05635365275415656, 0.05635365275415656, 0.05635365275415656, 0.05635365275415656, 0.05635365275415656, 0.05635365275415656, 0.05635365275415656, 0.05635365275415656, 0.055615954498075555, 0.055615954498075555, 0.055615954498075555, 0.055615954498075555, 0.055615954498075555, 0.055615954498075555, 0.055615954498075555, 0.055615954498075555, 0.055615954498075555, 0.055615954498075555, 0.055615954498075555, 0.055615954498075555, 0.055615954498075555, 0.055615954498075555, 0.055615954498075555, 0.055615954498075555, 0.055615954498075555, 0.055615954498075555, 0.055615954498075555, 0.055615954498075555, 0.05654929904932963, 0.05654929904932963, 0.05654929904932963, 0.05654929904932963, 0.05654929904932963, 0.05654929904932963, 0.05654929904932963, 0.05654929904932963, 0.05654929904932963, 0.05654929904932963, 0.05654929904932963, 0.05654929904932963, 0.05654929904932963, 0.05654929904932963, 0.05654929904932963, 0.05654929904932963, 0.05654929904932963, 0.05654929904932963, 0.05654929904932963, 0.05654929904932963, 0.05585102269923187, 0.05585102269923187, 0.05585102269923187, 0.05585102269923187, 0.05585102269923187, 0.05585102269923187, 0.05585102269923187, 0.05585102269923187, 0.05585102269923187, 0.05585102269923187, 0.05585102269923187, 0.05585102269923187, 0.05585102269923187, 0.05585102269923187, 0.05585102269923187, 0.05585102269923187, 0.05585102269923187, 0.05585102269923187, 0.05585102269923187, 0.05585102269923187, 0.055449733793738375, 0.055449733793738375, 0.055449733793738375, 0.055449733793738375, 0.055449733793738375, 0.055449733793738375, 0.055449733793738375, 0.055449733793738375, 0.055449733793738375, 0.055449733793738375, 0.055449733793738375, 0.055449733793738375, 0.055449733793738375, 0.055449733793738375, 0.055449733793738375, 0.055449733793738375, 0.055449733793738375, 0.055449733793738375, 0.055449733793738375, 0.055449733793738375, 0.056350943799179376, 0.056350943799179376, 0.056350943799179376, 0.056350943799179376, 0.056350943799179376, 0.056350943799179376, 0.056350943799179376, 0.056350943799179376, 0.056350943799179376, 0.056350943799179376, 0.056350943799179376, 0.056350943799179376, 0.056350943799179376, 0.056350943799179376, 0.056350943799179376, 0.056350943799179376, 0.056350943799179376, 0.056350943799179376, 0.056350943799179376, 0.056350943799179376, 0.05534396856336089, 0.05534396856336089, 0.05534396856336089, 0.05534396856336089, 0.05534396856336089, 0.05534396856336089, 0.05534396856336089, 0.05534396856336089, 0.05534396856336089, 0.05534396856336089, 0.05534396856336089, 0.05534396856336089, 0.05534396856336089, 0.05534396856336089, 0.05534396856336089, 0.05534396856336089, 0.05534396856336089, 0.05534396856336089, 0.05534396856336089, 0.05534396856336089, 0.05542381338845463, 0.05542381338845463, 0.05542381338845463, 0.05542381338845463, 0.05542381338845463, 0.05542381338845463, 0.05542381338845463, 0.05542381338845463, 0.05542381338845463, 0.05542381338845463, 0.05542381338845463, 0.05542381338845463, 0.05542381338845463, 0.05542381338845463, 0.05542381338845463, 0.05542381338845463, 0.05542381338845463, 0.05542381338845463, 0.05542381338845463, 0.05542381338845463, 0.054707404864507245, 0.054707404864507245, 0.054707404864507245, 0.054707404864507245, 0.054707404864507245, 0.054707404864507245, 0.054707404864507245, 0.054707404864507245, 0.054707404864507245, 0.054707404864507245, 0.054707404864507245, 0.054707404864507245, 0.054707404864507245, 0.054707404864507245, 0.054707404864507245, 0.054707404864507245, 0.054707404864507245, 0.054707404864507245, 0.054707404864507245, 0.054707404864507245, 0.05604780750880382, 0.05604780750880382, 0.05604780750880382, 0.05604780750880382, 0.05604780750880382, 0.05604780750880382, 0.05604780750880382, 0.05604780750880382, 0.05604780750880382, 0.05604780750880382, 0.05604780750880382, 0.05604780750880382, 0.05604780750880382, 0.05604780750880382, 0.05604780750880382, 0.05604780750880382, 0.05604780750880382, 0.05604780750880382, 0.05604780750880382, 0.05604780750880382, 0.0551030277289075, 0.0551030277289075, 0.0551030277289075, 0.0551030277289075, 0.0551030277289075, 0.0551030277289075, 0.0551030277289075, 0.0551030277289075, 0.0551030277289075, 0.0551030277289075, 0.0551030277289075, 0.0551030277289075, 0.0551030277289075, 0.0551030277289075, 0.0551030277289075, 0.0551030277289075, 0.0551030277289075, 0.0551030277289075, 0.0551030277289075, 0.0551030277289075, 0.05669452764302673, 0.05669452764302673, 0.05669452764302673, 0.05669452764302673, 0.05669452764302673, 0.05669452764302673, 0.05669452764302673, 0.05669452764302673, 0.05669452764302673, 0.05669452764302673, 0.05669452764302673, 0.05669452764302673, 0.05669452764302673, 0.05669452764302673, 0.05669452764302673, 0.05669452764302673, 0.05669452764302673, 0.05669452764302673, 0.05669452764302673, 0.05669452764302673, 0.05504950550780039, 0.05504950550780039, 0.05504950550780039, 0.05504950550780039, 0.05504950550780039, 0.05504950550780039, 0.05504950550780039, 0.05504950550780039, 0.05504950550780039, 0.05504950550780039, 0.05504950550780039, 0.05504950550780039, 0.05504950550780039, 0.05504950550780039, 0.05504950550780039, 0.05504950550780039, 0.05504950550780039, 0.05504950550780039, 0.05504950550780039, 0.05504950550780039, 0.056572958341156415, 0.056572958341156415, 0.056572958341156415, 0.056572958341156415, 0.056572958341156415, 0.056572958341156415, 0.056572958341156415, 0.056572958341156415, 0.056572958341156415, 0.056572958341156415, 0.056572958341156415, 0.056572958341156415, 0.056572958341156415, 0.056572958341156415, 0.056572958341156415, 0.056572958341156415, 0.056572958341156415, 0.056572958341156415, 0.056572958341156415, 0.056572958341156415, 0.05528161453228213, 0.05528161453228213, 0.05528161453228213, 0.05528161453228213, 0.05528161453228213, 0.05528161453228213, 0.05528161453228213, 0.05528161453228213, 0.05528161453228213, 0.05528161453228213, 0.05528161453228213, 0.05528161453228213, 0.05528161453228213, 0.05528161453228213, 0.05528161453228213, 0.05528161453228213, 0.05528161453228213, 0.05528161453228213, 0.05528161453228213, 0.05528161453228213, 0.05538436102661304, 0.05538436102661304, 0.05538436102661304, 0.05538436102661304, 0.05538436102661304, 0.05538436102661304, 0.05538436102661304, 0.05538436102661304, 0.05538436102661304, 0.05538436102661304, 0.05538436102661304, 0.05538436102661304, 0.05538436102661304, 0.05538436102661304, 0.05538436102661304, 0.05538436102661304, 0.05538436102661304, 0.05538436102661304, 0.05538436102661304, 0.05538436102661304, 0.055467703834056074, 0.055467703834056074, 0.055467703834056074, 0.055467703834056074, 0.055467703834056074, 0.055467703834056074, 0.055467703834056074, 0.055467703834056074, 0.055467703834056074, 0.055467703834056074, 0.055467703834056074, 0.055467703834056074, 0.055467703834056074, 0.055467703834056074, 0.055467703834056074, 0.055467703834056074, 0.055467703834056074, 0.055467703834056074, 0.055467703834056074, 0.055467703834056074, 0.056239728381779326, 0.056239728381779326, 0.056239728381779326, 0.056239728381779326, 0.056239728381779326, 0.056239728381779326, 0.056239728381779326, 0.056239728381779326, 0.056239728381779326, 0.056239728381779326, 0.056239728381779326, 0.056239728381779326, 0.056239728381779326, 0.056239728381779326, 0.056239728381779326, 0.056239728381779326, 0.056239728381779326, 0.056239728381779326, 0.056239728381779326, 0.056239728381779326, 0.05725082476211194, 0.05725082476211194, 0.05725082476211194, 0.05725082476211194, 0.05725082476211194, 0.05725082476211194, 0.05725082476211194, 0.05725082476211194, 0.05725082476211194, 0.05725082476211194, 0.05725082476211194, 0.05725082476211194, 0.05725082476211194, 0.05725082476211194, 0.05725082476211194, 0.05725082476211194, 0.05725082476211194, 0.05725082476211194, 0.05725082476211194, 0.05725082476211194, 0.05571600053884694, 0.05571600053884694, 0.05571600053884694, 0.05571600053884694, 0.05571600053884694, 0.05571600053884694, 0.05571600053884694, 0.05571600053884694, 0.05571600053884694, 0.05571600053884694, 0.05571600053884694, 0.05571600053884694, 0.05571600053884694, 0.05571600053884694, 0.05571600053884694, 0.05571600053884694, 0.05571600053884694, 0.05571600053884694, 0.05571600053884694, 0.05571600053884694, 0.05706031375539989, 0.05706031375539989, 0.05706031375539989, 0.05706031375539989, 0.05706031375539989, 0.05706031375539989, 0.05706031375539989, 0.05706031375539989, 0.05706031375539989, 0.05706031375539989, 0.05706031375539989, 0.05706031375539989, 0.05706031375539989, 0.05706031375539989, 0.05706031375539989, 0.05706031375539989, 0.05706031375539989, 0.05706031375539989, 0.05706031375539989, 0.05706031375539989, 0.05645892392339532, 0.05645892392339532, 0.05645892392339532, 0.05645892392339532, 0.05645892392339532, 0.05645892392339532, 0.05645892392339532, 0.05645892392339532, 0.05645892392339532, 0.05645892392339532, 0.05645892392339532, 0.05645892392339532, 0.05645892392339532, 0.05645892392339532, 0.05645892392339532, 0.05645892392339532, 0.05645892392339532, 0.05645892392339532, 0.05645892392339532, 0.05645892392339532, 0.05588791420491644, 0.05588791420491644, 0.05588791420491644, 0.05588791420491644, 0.05588791420491644, 0.05588791420491644, 0.05588791420491644, 0.05588791420491644, 0.05588791420491644, 0.05588791420491644, 0.05588791420491644, 0.05588791420491644, 0.05588791420491644, 0.05588791420491644, 0.05588791420491644, 0.05588791420491644, 0.05588791420491644, 0.05588791420491644, 0.05588791420491644, 0.05588791420491644, 0.05745033870659144, 0.05745033870659144, 0.05745033870659144, 0.05745033870659144, 0.05745033870659144, 0.05745033870659144, 0.05745033870659144, 0.05745033870659144, 0.05745033870659144, 0.05745033870659144, 0.05745033870659144, 0.05745033870659144, 0.05745033870659144, 0.05745033870659144, 0.05745033870659144, 0.05745033870659144, 0.05745033870659144, 0.05745033870659144, 0.05745033870659144, 0.05745033870659144, 0.056287103313199714, 0.056287103313199714, 0.056287103313199714, 0.056287103313199714, 0.056287103313199714, 0.056287103313199714, 0.056287103313199714, 0.056287103313199714, 0.056287103313199714, 0.056287103313199714, 0.056287103313199714, 0.056287103313199714, 0.056287103313199714, 0.056287103313199714, 0.056287103313199714, 0.056287103313199714, 0.056287103313199714, 0.056287103313199714, 0.056287103313199714, 0.056287103313199714, 0.05567214218577881, 0.05567214218577881, 0.05567214218577881, 0.05567214218577881, 0.05567214218577881, 0.05567214218577881, 0.05567214218577881, 0.05567214218577881, 0.05567214218577881, 0.05567214218577881, 0.05567214218577881, 0.05567214218577881, 0.05567214218577881, 0.05567214218577881, 0.05567214218577881, 0.05567214218577881, 0.05567214218577881, 0.05567214218577881, 0.05567214218577881, 0.05567214218577881, 0.056081155187721915, 0.056081155187721915, 0.056081155187721915, 0.056081155187721915, 0.056081155187721915, 0.056081155187721915, 0.056081155187721915, 0.056081155187721915, 0.056081155187721915, 0.056081155187721915, 0.056081155187721915, 0.056081155187721915, 0.056081155187721915, 0.056081155187721915, 0.056081155187721915, 0.056081155187721915, 0.056081155187721915, 0.056081155187721915, 0.056081155187721915, 0.056081155187721915, 0.05652215070072863, 0.05652215070072863, 0.05652215070072863, 0.05652215070072863, 0.05652215070072863, 0.05652215070072863, 0.05652215070072863, 0.05652215070072863, 0.05652215070072863, 0.05652215070072863, 0.05652215070072863, 0.05652215070072863, 0.05652215070072863, 0.05652215070072863, 0.05652215070072863, 0.05652215070072863, 0.05652215070072863, 0.05652215070072863, 0.05652215070072863, 0.05652215070072863, 0.05601644178294516, 0.05601644178294516, 0.05601644178294516, 0.05601644178294516, 0.05601644178294516, 0.05601644178294516, 0.05601644178294516, 0.05601644178294516, 0.05601644178294516, 0.05601644178294516, 0.05601644178294516, 0.05601644178294516, 0.05601644178294516, 0.05601644178294516, 0.05601644178294516, 0.05601644178294516, 0.05601644178294516, 0.05601644178294516, 0.05601644178294516, 0.05601644178294516, 0.05525549088257686, 0.05525549088257686, 0.05525549088257686, 0.05525549088257686, 0.05525549088257686, 0.05525549088257686, 0.05525549088257686, 0.05525549088257686, 0.05525549088257686, 0.05525549088257686, 0.05525549088257686, 0.05525549088257686, 0.05525549088257686, 0.05525549088257686, 0.05525549088257686, 0.05525549088257686, 0.05525549088257686, 0.05525549088257686, 0.05525549088257686, 0.05525549088257686, 0.0570536935293744, 0.0570536935293744, 0.0570536935293744, 0.0570536935293744, 0.0570536935293744, 0.0570536935293744, 0.0570536935293744, 0.0570536935293744, 0.0570536935293744, 0.0570536935293744, 0.0570536935293744, 0.0570536935293744, 0.0570536935293744, 0.0570536935293744, 0.0570536935293744, 0.0570536935293744, 0.0570536935293744, 0.0570536935293744, 0.0570536935293744, 0.0570536935293744, 0.055677327438133924, 0.055677327438133924, 0.055677327438133924, 0.055677327438133924, 0.055677327438133924, 0.055677327438133924, 0.055677327438133924, 0.055677327438133924, 0.055677327438133924, 0.055677327438133924, 0.055677327438133924, 0.055677327438133924, 0.055677327438133924, 0.055677327438133924, 0.055677327438133924, 0.055677327438133924, 0.055677327438133924, 0.055677327438133924, 0.055677327438133924, 0.055677327438133924, 0.05658825269859187, 0.05658825269859187, 0.05658825269859187, 0.05658825269859187, 0.05658825269859187, 0.05658825269859187, 0.05658825269859187, 0.05658825269859187, 0.05658825269859187, 0.05658825269859187, 0.05658825269859187, 0.05658825269859187, 0.05658825269859187, 0.05658825269859187, 0.05658825269859187, 0.05658825269859187, 0.05658825269859187, 0.05658825269859187, 0.05658825269859187, 0.05658825269859187, 0.056052060120042865, 0.056052060120042865, 0.056052060120042865, 0.056052060120042865, 0.056052060120042865, 0.056052060120042865, 0.056052060120042865, 0.056052060120042865, 0.056052060120042865, 0.056052060120042865, 0.056052060120042865, 0.056052060120042865, 0.056052060120042865, 0.056052060120042865, 0.056052060120042865, 0.056052060120042865, 0.056052060120042865, 0.056052060120042865, 0.056052060120042865, 0.056052060120042865, 0.05480313637925932, 0.05480313637925932, 0.05480313637925932, 0.05480313637925932, 0.05480313637925932, 0.05480313637925932, 0.05480313637925932, 0.05480313637925932, 0.05480313637925932, 0.05480313637925932, 0.05480313637925932, 0.05480313637925932, 0.05480313637925932, 0.05480313637925932, 0.05480313637925932, 0.05480313637925932, 0.05480313637925932, 0.05480313637925932, 0.05480313637925932, 0.05480313637925932, 0.05654856377586406, 0.05654856377586406, 0.05654856377586406, 0.05654856377586406, 0.05654856377586406, 0.05654856377586406, 0.05654856377586406, 0.05654856377586406, 0.05654856377586406, 0.05654856377586406, 0.05654856377586406, 0.05654856377586406, 0.05654856377586406, 0.05654856377586406, 0.05654856377586406, 0.05654856377586406, 0.05654856377586406, 0.05654856377586406, 0.05654856377586406, 0.05654856377586406, 0.05637350580205684, 0.05637350580205684, 0.05637350580205684, 0.05637350580205684, 0.05637350580205684, 0.05637350580205684, 0.05637350580205684, 0.05637350580205684, 0.05637350580205684, 0.05637350580205684, 0.05637350580205684, 0.05637350580205684, 0.05637350580205684, 0.05637350580205684, 0.05637350580205684, 0.05637350580205684, 0.05637350580205684, 0.05637350580205684, 0.05637350580205684, 0.05637350580205684, 0.056532110010154, 0.056532110010154, 0.056532110010154, 0.056532110010154, 0.056532110010154, 0.056532110010154, 0.056532110010154, 0.056532110010154, 0.056532110010154, 0.056532110010154, 0.056532110010154, 0.056532110010154, 0.056532110010154, 0.056532110010154, 0.056532110010154, 0.056532110010154, 0.056532110010154, 0.056532110010154, 0.056532110010154, 0.056532110010154, 0.0565169459990068, 0.0565169459990068, 0.0565169459990068, 0.0565169459990068, 0.0565169459990068, 0.0565169459990068, 0.0565169459990068, 0.0565169459990068, 0.0565169459990068, 0.0565169459990068, 0.0565169459990068, 0.0565169459990068, 0.0565169459990068, 0.0565169459990068, 0.0565169459990068, 0.0565169459990068, 0.0565169459990068, 0.0565169459990068, 0.0565169459990068, 0.0565169459990068, 0.05523916830191441, 0.05523916830191441, 0.05523916830191441, 0.05523916830191441, 0.05523916830191441, 0.05523916830191441, 0.05523916830191441, 0.05523916830191441, 0.05523916830191441, 0.05523916830191441, 0.05523916830191441, 0.05523916830191441, 0.05523916830191441, 0.05523916830191441, 0.05523916830191441, 0.05523916830191441, 0.05523916830191441, 0.05523916830191441, 0.05523916830191441, 0.05523916830191441, 0.05665764101631952, 0.05665764101631952, 0.05665764101631952, 0.05665764101631952, 0.05665764101631952, 0.05665764101631952, 0.05665764101631952, 0.05665764101631952, 0.05665764101631952, 0.05665764101631952, 0.05665764101631952, 0.05665764101631952, 0.05665764101631952, 0.05665764101631952, 0.05665764101631952, 0.05665764101631952, 0.05665764101631952, 0.05665764101631952, 0.05665764101631952, 0.05665764101631952, 0.05614204332643652, 0.05614204332643652, 0.05614204332643652, 0.05614204332643652, 0.05614204332643652, 0.05614204332643652, 0.05614204332643652, 0.05614204332643652, 0.05614204332643652, 0.05614204332643652, 0.05614204332643652, 0.05614204332643652, 0.05614204332643652, 0.05614204332643652, 0.05614204332643652, 0.05614204332643652, 0.05614204332643652, 0.05614204332643652, 0.05614204332643652, 0.05614204332643652, 0.0566421780267471, 0.0566421780267471, 0.0566421780267471, 0.0566421780267471, 0.0566421780267471, 0.0566421780267471, 0.0566421780267471, 0.0566421780267471, 0.0566421780267471, 0.0566421780267471, 0.0566421780267471, 0.0566421780267471, 0.0566421780267471, 0.0566421780267471, 0.0566421780267471, 0.0566421780267471, 0.0566421780267471, 0.0566421780267471, 0.0566421780267471, 0.0566421780267471, 0.05588206272976193, 0.05588206272976193, 0.05588206272976193, 0.05588206272976193, 0.05588206272976193, 0.05588206272976193, 0.05588206272976193, 0.05588206272976193, 0.05588206272976193, 0.05588206272976193, 0.05588206272976193, 0.05588206272976193, 0.05588206272976193, 0.05588206272976193, 0.05588206272976193, 0.05588206272976193, 0.05588206272976193, 0.05588206272976193, 0.05588206272976193, 0.05588206272976193, 0.05678210826685778, 0.05678210826685778, 0.05678210826685778, 0.05678210826685778, 0.05678210826685778, 0.05678210826685778, 0.05678210826685778, 0.05678210826685778, 0.05678210826685778, 0.05678210826685778, 0.05678210826685778, 0.05678210826685778, 0.05678210826685778, 0.05678210826685778, 0.05678210826685778, 0.05678210826685778, 0.05678210826685778, 0.05678210826685778, 0.05678210826685778, 0.05678210826685778, 0.05687084852529937, 0.05687084852529937, 0.05687084852529937, 0.05687084852529937, 0.05687084852529937, 0.05687084852529937, 0.05687084852529937, 0.05687084852529937, 0.05687084852529937, 0.05687084852529937, 0.05687084852529937, 0.05687084852529937, 0.05687084852529937, 0.05687084852529937, 0.05687084852529937, 0.05687084852529937, 0.05687084852529937, 0.05687084852529937, 0.05687084852529937, 0.05687084852529937, 0.05612873006847249, 0.05612873006847249, 0.05612873006847249, 0.05612873006847249, 0.05612873006847249, 0.05612873006847249, 0.05612873006847249, 0.05612873006847249, 0.05612873006847249, 0.05612873006847249, 0.05612873006847249, 0.05612873006847249, 0.05612873006847249, 0.05612873006847249, 0.05612873006847249, 0.05612873006847249, 0.05612873006847249, 0.05612873006847249, 0.05612873006847249, 0.05612873006847249, 0.055456491451258916, 0.055456491451258916, 0.055456491451258916, 0.055456491451258916, 0.055456491451258916, 0.055456491451258916, 0.055456491451258916, 0.055456491451258916, 0.055456491451258916, 0.055456491451258916, 0.055456491451258916, 0.055456491451258916, 0.055456491451258916, 0.055456491451258916, 0.055456491451258916, 0.055456491451258916, 0.055456491451258916, 0.055456491451258916, 0.055456491451258916, 0.055456491451258916, 0.055768265323659146, 0.055768265323659146, 0.055768265323659146, 0.055768265323659146, 0.055768265323659146, 0.055768265323659146, 0.055768265323659146, 0.055768265323659146, 0.055768265323659146, 0.055768265323659146, 0.055768265323659146, 0.055768265323659146, 0.055768265323659146, 0.055768265323659146, 0.055768265323659146, 0.055768265323659146, 0.055768265323659146, 0.055768265323659146, 0.055768265323659146, 0.055768265323659146, 0.05627125763208246, 0.05627125763208246, 0.05627125763208246, 0.05627125763208246, 0.05627125763208246, 0.05627125763208246, 0.05627125763208246, 0.05627125763208246, 0.05627125763208246, 0.05627125763208246, 0.05627125763208246, 0.05627125763208246, 0.05627125763208246, 0.05627125763208246, 0.05627125763208246, 0.05627125763208246, 0.05627125763208246, 0.05627125763208246, 0.05627125763208246, 0.05627125763208246, 0.05689722258309388, 0.05689722258309388, 0.05689722258309388, 0.05689722258309388, 0.05689722258309388, 0.05689722258309388, 0.05689722258309388, 0.05689722258309388, 0.05689722258309388, 0.05689722258309388, 0.05689722258309388, 0.05689722258309388, 0.05689722258309388, 0.05689722258309388, 0.05689722258309388, 0.05689722258309388, 0.05689722258309388, 0.05689722258309388, 0.05689722258309388, 0.05689722258309388, 0.05674226765675885, 0.05674226765675885, 0.05674226765675885, 0.05674226765675885, 0.05674226765675885, 0.05674226765675885, 0.05674226765675885, 0.05674226765675885, 0.05674226765675885, 0.05674226765675885, 0.05674226765675885, 0.05674226765675885, 0.05674226765675885, 0.05674226765675885, 0.05674226765675885, 0.05674226765675885, 0.05674226765675885, 0.05674226765675885, 0.05674226765675885, 0.05674226765675885, 0.05668071433716154, 0.05668071433716154, 0.05668071433716154, 0.05668071433716154, 0.05668071433716154, 0.05668071433716154, 0.05668071433716154, 0.05668071433716154, 0.05668071433716154, 0.05668071433716154, 0.05668071433716154, 0.05668071433716154, 0.05668071433716154, 0.05668071433716154, 0.05668071433716154, 0.05668071433716154, 0.05668071433716154, 0.05668071433716154, 0.05668071433716154, 0.05668071433716154, 0.056434499127815056, 0.056434499127815056, 0.056434499127815056, 0.056434499127815056, 0.056434499127815056, 0.056434499127815056, 0.056434499127815056, 0.056434499127815056, 0.056434499127815056, 0.056434499127815056, 0.056434499127815056, 0.056434499127815056, 0.056434499127815056, 0.056434499127815056, 0.056434499127815056, 0.056434499127815056, 0.056434499127815056, 0.056434499127815056, 0.056434499127815056, 0.056434499127815056, 0.05604472679554047, 0.05604472679554047, 0.05604472679554047, 0.05604472679554047, 0.05604472679554047, 0.05604472679554047, 0.05604472679554047, 0.05604472679554047, 0.05604472679554047, 0.05604472679554047, 0.05604472679554047, 0.05604472679554047, 0.05604472679554047, 0.05604472679554047, 0.05604472679554047, 0.05604472679554047, 0.05604472679554047, 0.05604472679554047, 0.05604472679554047, 0.05604472679554047, 0.05591574392835083, 0.05591574392835083, 0.05591574392835083, 0.05591574392835083, 0.05591574392835083, 0.05591574392835083, 0.05591574392835083, 0.05591574392835083, 0.05591574392835083, 0.05591574392835083, 0.05591574392835083, 0.05591574392835083, 0.05591574392835083, 0.05591574392835083, 0.05591574392835083, 0.05591574392835083, 0.05591574392835083, 0.05591574392835083, 0.05591574392835083, 0.05591574392835083, 0.0554527067792134, 0.0554527067792134, 0.0554527067792134, 0.0554527067792134, 0.0554527067792134, 0.0554527067792134, 0.0554527067792134, 0.0554527067792134, 0.0554527067792134, 0.0554527067792134, 0.0554527067792134, 0.0554527067792134, 0.0554527067792134, 0.0554527067792134, 0.0554527067792134, 0.0554527067792134, 0.0554527067792134, 0.0554527067792134, 0.0554527067792134, 0.0554527067792134, 0.05669585821102512, 0.05669585821102512, 0.05669585821102512, 0.05669585821102512, 0.05669585821102512, 0.05669585821102512, 0.05669585821102512, 0.05669585821102512, 0.05669585821102512, 0.05669585821102512, 0.05669585821102512, 0.05669585821102512, 0.05669585821102512, 0.05669585821102512, 0.05669585821102512, 0.05669585821102512, 0.05669585821102512, 0.05669585821102512, 0.05669585821102512, 0.05669585821102512, 0.05714306831991347, 0.05714306831991347, 0.05714306831991347, 0.05714306831991347, 0.05714306831991347, 0.05714306831991347, 0.05714306831991347, 0.05714306831991347, 0.05714306831991347, 0.05714306831991347, 0.05714306831991347, 0.05714306831991347, 0.05714306831991347, 0.05714306831991347, 0.05714306831991347, 0.05714306831991347, 0.05714306831991347, 0.05714306831991347, 0.05714306831991347, 0.05714306831991347, 0.05561389975100112, 0.05561389975100112, 0.05561389975100112, 0.05561389975100112, 0.05561389975100112, 0.05561389975100112, 0.05561389975100112, 0.05561389975100112, 0.05561389975100112, 0.05561389975100112, 0.05561389975100112, 0.05561389975100112, 0.05561389975100112, 0.05561389975100112, 0.05561389975100112, 0.05561389975100112, 0.05561389975100112, 0.05561389975100112, 0.05561389975100112, 0.05561389975100112, 0.05716273543522065, 0.05716273543522065, 0.05716273543522065, 0.05716273543522065, 0.05716273543522065, 0.05716273543522065, 0.05716273543522065, 0.05716273543522065, 0.05716273543522065, 0.05716273543522065, 0.05716273543522065, 0.05716273543522065, 0.05716273543522065, 0.05716273543522065, 0.05716273543522065, 0.05716273543522065, 0.05716273543522065, 0.05716273543522065, 0.05716273543522065, 0.05716273543522065, 0.056146181355088934, 0.056146181355088934, 0.056146181355088934, 0.056146181355088934, 0.056146181355088934, 0.056146181355088934, 0.056146181355088934, 0.056146181355088934, 0.056146181355088934, 0.056146181355088934, 0.056146181355088934, 0.056146181355088934, 0.056146181355088934, 0.056146181355088934, 0.056146181355088934, 0.056146181355088934, 0.056146181355088934, 0.056146181355088934, 0.056146181355088934, 0.056146181355088934, 0.05497341906583644, 0.05497341906583644, 0.05497341906583644, 0.05497341906583644, 0.05497341906583644, 0.05497341906583644, 0.05497341906583644, 0.05497341906583644, 0.05497341906583644, 0.05497341906583644, 0.05497341906583644, 0.05497341906583644, 0.05497341906583644, 0.05497341906583644, 0.05497341906583644, 0.05497341906583644, 0.05497341906583644, 0.05497341906583644, 0.05497341906583644, 0.05497341906583644, 0.05662031931208204, 0.05662031931208204, 0.05662031931208204, 0.05662031931208204, 0.05662031931208204, 0.05662031931208204, 0.05662031931208204, 0.05662031931208204, 0.05662031931208204, 0.05662031931208204, 0.05662031931208204, 0.05662031931208204, 0.05662031931208204, 0.05662031931208204, 0.05662031931208204, 0.05662031931208204, 0.05662031931208204, 0.05662031931208204, 0.05662031931208204, 0.05662031931208204, 0.056663525055178667, 0.056663525055178667, 0.056663525055178667, 0.056663525055178667, 0.056663525055178667, 0.056663525055178667, 0.056663525055178667, 0.056663525055178667, 0.056663525055178667, 0.056663525055178667, 0.056663525055178667, 0.056663525055178667, 0.056663525055178667, 0.056663525055178667, 0.056663525055178667, 0.056663525055178667, 0.056663525055178667, 0.056663525055178667, 0.056663525055178667, 0.056663525055178667, 0.05521644212471238, 0.05521644212471238, 0.05521644212471238, 0.05521644212471238, 0.05521644212471238, 0.05521644212471238, 0.05521644212471238, 0.05521644212471238, 0.05521644212471238, 0.05521644212471238, 0.05521644212471238, 0.05521644212471238, 0.05521644212471238, 0.05521644212471238, 0.05521644212471238, 0.05521644212471238, 0.05521644212471238, 0.05521644212471238, 0.05521644212471238, 0.05521644212471238, 0.05594971730712157, 0.05594971730712157, 0.05594971730712157, 0.05594971730712157, 0.05594971730712157, 0.05594971730712157, 0.05594971730712157, 0.05594971730712157, 0.05594971730712157, 0.05594971730712157, 0.05594971730712157, 0.05594971730712157, 0.05594971730712157, 0.05594971730712157, 0.05594971730712157, 0.05594971730712157, 0.05594971730712157, 0.05594971730712157, 0.05594971730712157, 0.05594971730712157, 0.055827126633320366, 0.055827126633320366, 0.055827126633320366, 0.055827126633320366, 0.055827126633320366, 0.055827126633320366, 0.055827126633320366, 0.055827126633320366, 0.055827126633320366, 0.055827126633320366, 0.055827126633320366, 0.055827126633320366, 0.055827126633320366, 0.055827126633320366, 0.055827126633320366, 0.055827126633320366, 0.055827126633320366, 0.055827126633320366, 0.055827126633320366, 0.055827126633320366, 0.05590966849696011, 0.05590966849696011, 0.05590966849696011, 0.05590966849696011, 0.05590966849696011, 0.05590966849696011, 0.05590966849696011, 0.05590966849696011, 0.05590966849696011, 0.05590966849696011, 0.05590966849696011, 0.05590966849696011, 0.05590966849696011, 0.05590966849696011, 0.05590966849696011, 0.05590966849696011, 0.05590966849696011, 0.05590966849696011, 0.05590966849696011, 0.05590966849696011, 0.05670316355713855, 0.05670316355713855, 0.05670316355713855, 0.05670316355713855, 0.05670316355713855, 0.05670316355713855, 0.05670316355713855, 0.05670316355713855, 0.05670316355713855, 0.05670316355713855, 0.05670316355713855, 0.05670316355713855, 0.05670316355713855, 0.05670316355713855, 0.05670316355713855, 0.05670316355713855, 0.05670316355713855, 0.05670316355713855, 0.05670316355713855, 0.05670316355713855, 0.05681120031275076, 0.05681120031275076, 0.05681120031275076, 0.05681120031275076, 0.05681120031275076, 0.05681120031275076, 0.05681120031275076, 0.05681120031275076, 0.05681120031275076, 0.05681120031275076, 0.05681120031275076, 0.05681120031275076, 0.05681120031275076, 0.05681120031275076, 0.05681120031275076, 0.05681120031275076, 0.05681120031275076, 0.05681120031275076, 0.05681120031275076, 0.05681120031275076, 0.05532776083259579, 0.05532776083259579, 0.05532776083259579, 0.05532776083259579, 0.05532776083259579, 0.05532776083259579, 0.05532776083259579, 0.05532776083259579, 0.05532776083259579, 0.05532776083259579, 0.05532776083259579, 0.05532776083259579, 0.05532776083259579, 0.05532776083259579, 0.05532776083259579, 0.05532776083259579, 0.05532776083259579, 0.05532776083259579, 0.05532776083259579, 0.05532776083259579, 0.05686654972612185, 0.05686654972612185, 0.05686654972612185, 0.05686654972612185, 0.05686654972612185, 0.05686654972612185, 0.05686654972612185, 0.05686654972612185, 0.05686654972612185, 0.05686654972612185, 0.05686654972612185, 0.05686654972612185, 0.05686654972612185, 0.05686654972612185, 0.05686654972612185, 0.05686654972612185, 0.05686654972612185, 0.05686654972612185, 0.05686654972612185, 0.05686654972612185, 0.05721499538201042, 0.05721499538201042, 0.05721499538201042, 0.05721499538201042, 0.05721499538201042, 0.05721499538201042, 0.05721499538201042, 0.05721499538201042, 0.05721499538201042, 0.05721499538201042, 0.05721499538201042, 0.05721499538201042, 0.05721499538201042, 0.05721499538201042, 0.05721499538201042, 0.05721499538201042, 0.05721499538201042, 0.05721499538201042, 0.05721499538201042, 0.05721499538201042, 0.055477583710842666, 0.055477583710842666, 0.055477583710842666, 0.055477583710842666, 0.055477583710842666, 0.055477583710842666, 0.055477583710842666, 0.055477583710842666, 0.055477583710842666, 0.055477583710842666, 0.055477583710842666, 0.055477583710842666, 0.055477583710842666, 0.055477583710842666, 0.055477583710842666, 0.055477583710842666, 0.055477583710842666, 0.055477583710842666, 0.055477583710842666, 0.055477583710842666, 0.05631068626598044, 0.05631068626598044, 0.05631068626598044, 0.05631068626598044, 0.05631068626598044, 0.05631068626598044, 0.05631068626598044, 0.05631068626598044, 0.05631068626598044, 0.05631068626598044, 0.05631068626598044, 0.05631068626598044, 0.05631068626598044, 0.05631068626598044, 0.05631068626598044, 0.05631068626598044, 0.05631068626598044, 0.05631068626598044, 0.05631068626598044, 0.05631068626598044, 0.05637209974835725, 0.05637209974835725, 0.05637209974835725, 0.05637209974835725, 0.05637209974835725, 0.05637209974835725, 0.05637209974835725, 0.05637209974835725, 0.05637209974835725, 0.05637209974835725, 0.05637209974835725, 0.05637209974835725, 0.05637209974835725, 0.05637209974835725, 0.05637209974835725, 0.05637209974835725, 0.05637209974835725, 0.05637209974835725, 0.05637209974835725, 0.05637209974835725, 0.05562331287585061, 0.05562331287585061, 0.05562331287585061, 0.05562331287585061, 0.05562331287585061, 0.05562331287585061, 0.05562331287585061, 0.05562331287585061, 0.05562331287585061, 0.05562331287585061, 0.05562331287585061, 0.05562331287585061, 0.05562331287585061, 0.05562331287585061, 0.05562331287585061, 0.05562331287585061, 0.05562331287585061, 0.05562331287585061, 0.05562331287585061, 0.05562331287585061, 0.05487634519740455, 0.05487634519740455, 0.05487634519740455, 0.05487634519740455, 0.05487634519740455, 0.05487634519740455, 0.05487634519740455, 0.05487634519740455, 0.05487634519740455, 0.05487634519740455, 0.05487634519740455, 0.05487634519740455, 0.05487634519740455, 0.05487634519740455, 0.05487634519740455, 0.05487634519740455, 0.05487634519740455, 0.05487634519740455, 0.05487634519740455, 0.05487634519740455, 0.05635931553141759, 0.05635931553141759, 0.05635931553141759, 0.05635931553141759, 0.05635931553141759, 0.05635931553141759, 0.05635931553141759, 0.05635931553141759, 0.05635931553141759, 0.05635931553141759, 0.05635931553141759, 0.05635931553141759, 0.05635931553141759, 0.05635931553141759, 0.05635931553141759, 0.05635931553141759, 0.05635931553141759, 0.05635931553141759, 0.05635931553141759, 0.05635931553141759, 0.056142829425907446, 0.056142829425907446, 0.056142829425907446, 0.056142829425907446, 0.056142829425907446, 0.056142829425907446, 0.056142829425907446, 0.056142829425907446, 0.056142829425907446, 0.056142829425907446, 0.056142829425907446, 0.056142829425907446, 0.056142829425907446, 0.056142829425907446, 0.056142829425907446, 0.056142829425907446, 0.056142829425907446, 0.056142829425907446, 0.056142829425907446, 0.056142829425907446, 0.05668692260552448, 0.05668692260552448, 0.05668692260552448, 0.05668692260552448, 0.05668692260552448, 0.05668692260552448, 0.05668692260552448, 0.05668692260552448, 0.05668692260552448, 0.05668692260552448, 0.05668692260552448, 0.05668692260552448, 0.05668692260552448, 0.05668692260552448, 0.05668692260552448, 0.05668692260552448, 0.05668692260552448, 0.05668692260552448, 0.05668692260552448, 0.05668692260552448, 0.056846110457138395, 0.056846110457138395, 0.056846110457138395, 0.056846110457138395, 0.056846110457138395, 0.056846110457138395, 0.056846110457138395, 0.056846110457138395, 0.056846110457138395, 0.056846110457138395, 0.056846110457138395, 0.056846110457138395, 0.056846110457138395, 0.056846110457138395, 0.056846110457138395, 0.056846110457138395, 0.056846110457138395, 0.056846110457138395, 0.056846110457138395, 0.056846110457138395, 0.05551383876270165, 0.05551383876270165, 0.05551383876270165, 0.05551383876270165, 0.05551383876270165, 0.05551383876270165, 0.05551383876270165, 0.05551383876270165, 0.05551383876270165, 0.05551383876270165, 0.05551383876270165, 0.05551383876270165, 0.05551383876270165, 0.05551383876270165, 0.05551383876270165, 0.05551383876270165, 0.05551383876270165, 0.05551383876270165, 0.05551383876270165, 0.05551383876270165, 0.054860391269021244, 0.054860391269021244, 0.054860391269021244, 0.054860391269021244, 0.054860391269021244, 0.054860391269021244, 0.054860391269021244, 0.054860391269021244, 0.054860391269021244, 0.054860391269021244, 0.054860391269021244, 0.054860391269021244, 0.054860391269021244, 0.054860391269021244, 0.054860391269021244, 0.054860391269021244, 0.054860391269021244, 0.054860391269021244, 0.054860391269021244, 0.054860391269021244, 0.05584667817468975, 0.05584667817468975, 0.05584667817468975, 0.05584667817468975, 0.05584667817468975, 0.05584667817468975, 0.05584667817468975, 0.05584667817468975, 0.05584667817468975, 0.05584667817468975, 0.05584667817468975, 0.05584667817468975, 0.05584667817468975, 0.05584667817468975, 0.05584667817468975, 0.05584667817468975, 0.05584667817468975, 0.05584667817468975, 0.05584667817468975, 0.05584667817468975, 0.05614328924918676, 0.05614328924918676, 0.05614328924918676, 0.05614328924918676, 0.05614328924918676, 0.05614328924918676, 0.05614328924918676, 0.05614328924918676, 0.05614328924918676, 0.05614328924918676, 0.05614328924918676, 0.05614328924918676, 0.05614328924918676, 0.05614328924918676, 0.05614328924918676, 0.05614328924918676, 0.05614328924918676, 0.05614328924918676, 0.05614328924918676, 0.05614328924918676, 0.056660076890703695, 0.056660076890703695, 0.056660076890703695, 0.056660076890703695, 0.056660076890703695, 0.056660076890703695, 0.056660076890703695, 0.056660076890703695, 0.056660076890703695, 0.056660076890703695, 0.056660076890703695, 0.056660076890703695, 0.056660076890703695, 0.056660076890703695, 0.056660076890703695, 0.056660076890703695, 0.056660076890703695, 0.056660076890703695, 0.056660076890703695, 0.056660076890703695, 0.056391865353300215, 0.056391865353300215, 0.056391865353300215, 0.056391865353300215, 0.056391865353300215, 0.056391865353300215, 0.056391865353300215, 0.056391865353300215, 0.056391865353300215, 0.056391865353300215, 0.056391865353300215, 0.056391865353300215, 0.056391865353300215, 0.056391865353300215, 0.056391865353300215, 0.056391865353300215, 0.056391865353300215, 0.056391865353300215, 0.056391865353300215, 0.056391865353300215, 0.05525210945909751, 0.05525210945909751, 0.05525210945909751, 0.05525210945909751, 0.05525210945909751, 0.05525210945909751, 0.05525210945909751, 0.05525210945909751, 0.05525210945909751, 0.05525210945909751, 0.05525210945909751, 0.05525210945909751, 0.05525210945909751, 0.05525210945909751, 0.05525210945909751, 0.05525210945909751, 0.05525210945909751, 0.05525210945909751, 0.05525210945909751, 0.05525210945909751, 0.05694385905581324, 0.05694385905581324, 0.05694385905581324, 0.05694385905581324, 0.05694385905581324, 0.05694385905581324, 0.05694385905581324, 0.05694385905581324, 0.05694385905581324, 0.05694385905581324, 0.05694385905581324, 0.05694385905581324, 0.05694385905581324, 0.05694385905581324, 0.05694385905581324, 0.05694385905581324, 0.05694385905581324, 0.05694385905581324, 0.05694385905581324, 0.05694385905581324, 0.055681404735893086, 0.055681404735893086, 0.055681404735893086, 0.055681404735893086, 0.055681404735893086, 0.055681404735893086, 0.055681404735893086, 0.055681404735893086, 0.055681404735893086, 0.055681404735893086, 0.055681404735893086, 0.055681404735893086, 0.055681404735893086, 0.055681404735893086, 0.055681404735893086, 0.055681404735893086, 0.055681404735893086, 0.055681404735893086, 0.055681404735893086, 0.055681404735893086, 0.05707207252709704, 0.05707207252709704, 0.05707207252709704, 0.05707207252709704, 0.05707207252709704, 0.05707207252709704, 0.05707207252709704, 0.05707207252709704, 0.05707207252709704, 0.05707207252709704, 0.05707207252709704, 0.05707207252709704, 0.05707207252709704, 0.05707207252709704, 0.05707207252709704, 0.05707207252709704, 0.05707207252709704, 0.05707207252709704, 0.05707207252709704, 0.05707207252709704, 0.05782298815776962, 0.05782298815776962, 0.05782298815776962, 0.05782298815776962, 0.05782298815776962, 0.05782298815776962, 0.05782298815776962, 0.05782298815776962, 0.05782298815776962, 0.05782298815776962, 0.05782298815776962, 0.05782298815776962, 0.05782298815776962, 0.05782298815776962, 0.05782298815776962, 0.05782298815776962, 0.05782298815776962, 0.05782298815776962, 0.05782298815776962, 0.05782298815776962, 0.05638342085170719, 0.05638342085170719, 0.05638342085170719, 0.05638342085170719, 0.05638342085170719, 0.05638342085170719, 0.05638342085170719, 0.05638342085170719, 0.05638342085170719, 0.05638342085170719, 0.05638342085170719, 0.05638342085170719, 0.05638342085170719, 0.05638342085170719, 0.05638342085170719, 0.05638342085170719, 0.05638342085170719, 0.05638342085170719, 0.05638342085170719, 0.05638342085170719, 0.05566648307412403, 0.05566648307412403, 0.05566648307412403, 0.05566648307412403, 0.05566648307412403, 0.05566648307412403, 0.05566648307412403, 0.05566648307412403, 0.05566648307412403, 0.05566648307412403, 0.05566648307412403, 0.05566648307412403, 0.05566648307412403, 0.05566648307412403, 0.05566648307412403, 0.05566648307412403, 0.05566648307412403, 0.05566648307412403, 0.05566648307412403, 0.05566648307412403, 0.05685729788904419, 0.05685729788904419, 0.05685729788904419, 0.05685729788904419, 0.05685729788904419, 0.05685729788904419, 0.05685729788904419, 0.05685729788904419, 0.05685729788904419, 0.05685729788904419, 0.05685729788904419, 0.05685729788904419, 0.05685729788904419, 0.05685729788904419, 0.05685729788904419, 0.05685729788904419, 0.05685729788904419, 0.05685729788904419, 0.05685729788904419, 0.05685729788904419, 0.05561636243470475, 0.05561636243470475, 0.05561636243470475, 0.05561636243470475, 0.05561636243470475, 0.05561636243470475, 0.05561636243470475, 0.05561636243470475, 0.05561636243470475, 0.05561636243470475, 0.05561636243470475, 0.05561636243470475, 0.05561636243470475, 0.05561636243470475, 0.05561636243470475, 0.05561636243470475, 0.05561636243470475, 0.05561636243470475, 0.05561636243470475, 0.05561636243470475, 0.056338374451766766, 0.056338374451766766, 0.056338374451766766, 0.056338374451766766, 0.056338374451766766, 0.056338374451766766, 0.056338374451766766, 0.056338374451766766, 0.056338374451766766, 0.056338374451766766, 0.056338374451766766, 0.056338374451766766, 0.056338374451766766, 0.056338374451766766, 0.056338374451766766, 0.056338374451766766, 0.056338374451766766, 0.056338374451766766, 0.056338374451766766, 0.056338374451766766, 0.055486032408351205, 0.055486032408351205, 0.055486032408351205, 0.055486032408351205, 0.055486032408351205, 0.055486032408351205, 0.055486032408351205, 0.055486032408351205, 0.055486032408351205, 0.055486032408351205, 0.055486032408351205, 0.055486032408351205, 0.055486032408351205, 0.055486032408351205, 0.055486032408351205, 0.055486032408351205, 0.055486032408351205, 0.055486032408351205, 0.055486032408351205, 0.055486032408351205, 0.05667173948967288, 0.05667173948967288, 0.05667173948967288, 0.05667173948967288, 0.05667173948967288, 0.05667173948967288, 0.05667173948967288, 0.05667173948967288, 0.05667173948967288, 0.05667173948967288, 0.05667173948967288, 0.05667173948967288, 0.05667173948967288, 0.05667173948967288, 0.05667173948967288, 0.05667173948967288, 0.05667173948967288, 0.05667173948967288, 0.05667173948967288, 0.05667173948967288, 0.05580092619313955, 0.05580092619313955, 0.05580092619313955, 0.05580092619313955, 0.05580092619313955, 0.05580092619313955, 0.05580092619313955, 0.05580092619313955, 0.05580092619313955, 0.05580092619313955, 0.05580092619313955, 0.05580092619313955, 0.05580092619313955, 0.05580092619313955, 0.05580092619313955, 0.05580092619313955, 0.05580092619313955, 0.05580092619313955, 0.05580092619313955, 0.05580092619313955, 0.05562458346988259, 0.05562458346988259, 0.05562458346988259, 0.05562458346988259, 0.05562458346988259, 0.05562458346988259, 0.05562458346988259, 0.05562458346988259, 0.05562458346988259, 0.05562458346988259, 0.05562458346988259, 0.05562458346988259, 0.05562458346988259, 0.05562458346988259, 0.05562458346988259, 0.05562458346988259, 0.05562458346988259, 0.05562458346988259, 0.05562458346988259, 0.05562458346988259, 0.0555676629815308, 0.0555676629815308, 0.0555676629815308, 0.0555676629815308, 0.0555676629815308, 0.0555676629815308, 0.0555676629815308, 0.0555676629815308, 0.0555676629815308, 0.0555676629815308, 0.0555676629815308, 0.0555676629815308, 0.0555676629815308, 0.0555676629815308, 0.0555676629815308, 0.0555676629815308, 0.0555676629815308, 0.0555676629815308, 0.0555676629815308, 0.0555676629815308, 0.055133474232513434, 0.055133474232513434, 0.055133474232513434, 0.055133474232513434, 0.055133474232513434, 0.055133474232513434, 0.055133474232513434, 0.055133474232513434, 0.055133474232513434, 0.055133474232513434, 0.055133474232513434, 0.055133474232513434, 0.055133474232513434, 0.055133474232513434, 0.055133474232513434, 0.055133474232513434, 0.055133474232513434, 0.055133474232513434, 0.055133474232513434, 0.055133474232513434, 0.05608208147001742, 0.05608208147001742, 0.05608208147001742, 0.05608208147001742, 0.05608208147001742, 0.05608208147001742, 0.05608208147001742, 0.05608208147001742, 0.05608208147001742, 0.05608208147001742, 0.05608208147001742, 0.05608208147001742, 0.05608208147001742, 0.05608208147001742, 0.05608208147001742, 0.05608208147001742, 0.05608208147001742, 0.05608208147001742, 0.05608208147001742, 0.05608208147001742, 0.05726012256624478, 0.05726012256624478, 0.05726012256624478, 0.05726012256624478, 0.05726012256624478, 0.05726012256624478, 0.05726012256624478, 0.05726012256624478, 0.05726012256624478, 0.05726012256624478, 0.05726012256624478, 0.05726012256624478, 0.05726012256624478, 0.05726012256624478, 0.05726012256624478, 0.05726012256624478, 0.05726012256624478, 0.05726012256624478, 0.05726012256624478, 0.05726012256624478, 0.056249947662783704, 0.056249947662783704, 0.056249947662783704, 0.056249947662783704, 0.056249947662783704, 0.056249947662783704, 0.056249947662783704, 0.056249947662783704, 0.056249947662783704, 0.056249947662783704, 0.056249947662783704, 0.056249947662783704, 0.056249947662783704, 0.056249947662783704, 0.056249947662783704, 0.056249947662783704, 0.056249947662783704, 0.056249947662783704, 0.056249947662783704, 0.056249947662783704, 0.05630432079288095, 0.05630432079288095, 0.05630432079288095, 0.05630432079288095, 0.05630432079288095, 0.05630432079288095, 0.05630432079288095, 0.05630432079288095, 0.05630432079288095, 0.05630432079288095, 0.05630432079288095, 0.05630432079288095, 0.05630432079288095, 0.05630432079288095, 0.05630432079288095, 0.05630432079288095, 0.05630432079288095, 0.05630432079288095, 0.05630432079288095, 0.05630432079288095, 0.0561772183624081, 0.0561772183624081, 0.0561772183624081, 0.0561772183624081, 0.0561772183624081, 0.0561772183624081, 0.0561772183624081, 0.0561772183624081, 0.0561772183624081, 0.0561772183624081, 0.0561772183624081, 0.0561772183624081, 0.0561772183624081, 0.0561772183624081, 0.0561772183624081, 0.0561772183624081, 0.0561772183624081, 0.0561772183624081, 0.0561772183624081, 0.0561772183624081, 0.05550354419536757, 0.05550354419536757, 0.05550354419536757, 0.05550354419536757, 0.05550354419536757, 0.05550354419536757, 0.05550354419536757, 0.05550354419536757, 0.05550354419536757, 0.05550354419536757, 0.05550354419536757, 0.05550354419536757, 0.05550354419536757, 0.05550354419536757, 0.05550354419536757, 0.05550354419536757, 0.05550354419536757, 0.05550354419536757, 0.05550354419536757, 0.05550354419536757, 0.05590983692999341, 0.05590983692999341, 0.05590983692999341, 0.05590983692999341, 0.05590983692999341, 0.05590983692999341, 0.05590983692999341, 0.05590983692999341, 0.05590983692999341, 0.05590983692999341, 0.05590983692999341, 0.05590983692999341, 0.05590983692999341, 0.05590983692999341, 0.05590983692999341, 0.05590983692999341, 0.05590983692999341, 0.05590983692999341, 0.05590983692999341, 0.05590983692999341, 0.05544259330043446, 0.05544259330043446, 0.05544259330043446, 0.05544259330043446, 0.05544259330043446, 0.05544259330043446, 0.05544259330043446, 0.05544259330043446, 0.05544259330043446, 0.05544259330043446, 0.05544259330043446, 0.05544259330043446, 0.05544259330043446, 0.05544259330043446, 0.05544259330043446, 0.05544259330043446, 0.05544259330043446, 0.05544259330043446, 0.05544259330043446, 0.05544259330043446, 0.0567460769376595, 0.0567460769376595, 0.0567460769376595, 0.0567460769376595, 0.0567460769376595, 0.0567460769376595, 0.0567460769376595, 0.0567460769376595, 0.0567460769376595, 0.0567460769376595, 0.0567460769376595, 0.0567460769376595, 0.0567460769376595, 0.0567460769376595, 0.0567460769376595, 0.0567460769376595, 0.0567460769376595, 0.0567460769376595, 0.0567460769376595, 0.0567460769376595, 0.05667148438500066, 0.05667148438500066, 0.05667148438500066, 0.05667148438500066, 0.05667148438500066, 0.05667148438500066, 0.05667148438500066, 0.05667148438500066, 0.05667148438500066, 0.05667148438500066, 0.05667148438500066, 0.05667148438500066, 0.05667148438500066, 0.05667148438500066, 0.05667148438500066, 0.05667148438500066, 0.05667148438500066, 0.05667148438500066, 0.05667148438500066, 0.05667148438500066, 0.05679166731269106, 0.05679166731269106, 0.05679166731269106, 0.05679166731269106, 0.05679166731269106, 0.05679166731269106, 0.05679166731269106, 0.05679166731269106, 0.05679166731269106, 0.05679166731269106, 0.05679166731269106, 0.05679166731269106, 0.05679166731269106, 0.05679166731269106, 0.05679166731269106, 0.05679166731269106, 0.05679166731269106, 0.05679166731269106, 0.05679166731269106, 0.05679166731269106, 0.05617921650256435, 0.05617921650256435, 0.05617921650256435, 0.05617921650256435, 0.05617921650256435, 0.05617921650256435, 0.05617921650256435, 0.05617921650256435, 0.05617921650256435, 0.05617921650256435, 0.05617921650256435, 0.05617921650256435, 0.05617921650256435, 0.05617921650256435, 0.05617921650256435, 0.05617921650256435, 0.05617921650256435, 0.05617921650256435, 0.05617921650256435, 0.05617921650256435, 0.05708281431156668, 0.05708281431156668, 0.05708281431156668, 0.05708281431156668, 0.05708281431156668, 0.05708281431156668, 0.05708281431156668, 0.05708281431156668, 0.05708281431156668, 0.05708281431156668, 0.05708281431156668, 0.05708281431156668, 0.05708281431156668, 0.05708281431156668, 0.05708281431156668, 0.05708281431156668, 0.05708281431156668, 0.05708281431156668, 0.05708281431156668, 0.05708281431156668, 0.05622394855268491, 0.05622394855268491, 0.05622394855268491, 0.05622394855268491, 0.05622394855268491, 0.05622394855268491, 0.05622394855268491, 0.05622394855268491, 0.05622394855268491, 0.05622394855268491, 0.05622394855268491, 0.05622394855268491, 0.05622394855268491, 0.05622394855268491, 0.05622394855268491, 0.05622394855268491, 0.05622394855268491, 0.05622394855268491, 0.05622394855268491, 0.05622394855268491, 0.055916035950949516, 0.055916035950949516, 0.055916035950949516, 0.055916035950949516, 0.055916035950949516, 0.055916035950949516, 0.055916035950949516, 0.055916035950949516, 0.055916035950949516, 0.055916035950949516, 0.055916035950949516, 0.055916035950949516, 0.055916035950949516, 0.055916035950949516, 0.055916035950949516, 0.055916035950949516, 0.055916035950949516, 0.055916035950949516, 0.055916035950949516, 0.055916035950949516, 0.05629255440260667, 0.05629255440260667, 0.05629255440260667, 0.05629255440260667, 0.05629255440260667, 0.05629255440260667, 0.05629255440260667, 0.05629255440260667, 0.05629255440260667, 0.05629255440260667, 0.05629255440260667, 0.05629255440260667, 0.05629255440260667, 0.05629255440260667, 0.05629255440260667, 0.05629255440260667, 0.05629255440260667, 0.05629255440260667, 0.05629255440260667, 0.05629255440260667, 0.05591727786997956, 0.05591727786997956, 0.05591727786997956, 0.05591727786997956, 0.05591727786997956, 0.05591727786997956, 0.05591727786997956, 0.05591727786997956, 0.05591727786997956, 0.05591727786997956, 0.05591727786997956, 0.05591727786997956, 0.05591727786997956, 0.05591727786997956, 0.05591727786997956, 0.05591727786997956, 0.05591727786997956, 0.05591727786997956, 0.05591727786997956, 0.05591727786997956, 0.05618722782059143, 0.05618722782059143, 0.05618722782059143, 0.05618722782059143, 0.05618722782059143, 0.05618722782059143, 0.05618722782059143, 0.05618722782059143, 0.05618722782059143, 0.05618722782059143, 0.05618722782059143, 0.05618722782059143, 0.05618722782059143, 0.05618722782059143, 0.05618722782059143, 0.05618722782059143, 0.05618722782059143, 0.05618722782059143, 0.05618722782059143, 0.05618722782059143, 0.056503188497142184, 0.056503188497142184, 0.056503188497142184, 0.056503188497142184, 0.056503188497142184, 0.056503188497142184, 0.056503188497142184, 0.056503188497142184, 0.056503188497142184, 0.056503188497142184, 0.056503188497142184, 0.056503188497142184, 0.056503188497142184, 0.056503188497142184, 0.056503188497142184, 0.056503188497142184, 0.056503188497142184, 0.056503188497142184, 0.056503188497142184, 0.056503188497142184, 0.05696636068934195, 0.05696636068934195, 0.05696636068934195, 0.05696636068934195, 0.05696636068934195, 0.05696636068934195, 0.05696636068934195, 0.05696636068934195, 0.05696636068934195, 0.05696636068934195, 0.05696636068934195, 0.05696636068934195, 0.05696636068934195, 0.05696636068934195, 0.05696636068934195, 0.05696636068934195, 0.05696636068934195, 0.05696636068934195, 0.05696636068934195, 0.05696636068934195, 0.0556860149893245, 0.0556860149893245, 0.0556860149893245, 0.0556860149893245, 0.0556860149893245, 0.0556860149893245, 0.0556860149893245, 0.0556860149893245, 0.0556860149893245, 0.0556860149893245, 0.0556860149893245, 0.0556860149893245, 0.0556860149893245, 0.0556860149893245, 0.0556860149893245, 0.0556860149893245, 0.0556860149893245, 0.0556860149893245, 0.0556860149893245, 0.0556860149893245, 0.05716451431417489, 0.05716451431417489, 0.05716451431417489, 0.05716451431417489, 0.05716451431417489, 0.05716451431417489, 0.05716451431417489, 0.05716451431417489, 0.05716451431417489, 0.05716451431417489, 0.05716451431417489, 0.05716451431417489, 0.05716451431417489, 0.05716451431417489, 0.05716451431417489, 0.05716451431417489, 0.05716451431417489, 0.05716451431417489, 0.05716451431417489, 0.05716451431417489, 0.05623176287122838, 0.05623176287122838, 0.05623176287122838, 0.05623176287122838, 0.05623176287122838, 0.05623176287122838, 0.05623176287122838, 0.05623176287122838, 0.05623176287122838, 0.05623176287122838, 0.05623176287122838, 0.05623176287122838, 0.05623176287122838, 0.05623176287122838, 0.05623176287122838, 0.05623176287122838, 0.05623176287122838, 0.05623176287122838, 0.05623176287122838, 0.05623176287122838, 0.05609336651967563, 0.05609336651967563, 0.05609336651967563, 0.05609336651967563, 0.05609336651967563, 0.05609336651967563, 0.05609336651967563, 0.05609336651967563, 0.05609336651967563, 0.05609336651967563, 0.05609336651967563, 0.05609336651967563, 0.05609336651967563, 0.05609336651967563, 0.05609336651967563, 0.05609336651967563, 0.05609336651967563, 0.05609336651967563, 0.05609336651967563, 0.05609336651967563, 0.056730351498898685, 0.056730351498898685, 0.056730351498898685, 0.056730351498898685, 0.056730351498898685, 0.056730351498898685, 0.056730351498898685, 0.056730351498898685, 0.056730351498898685, 0.056730351498898685, 0.056730351498898685, 0.056730351498898685, 0.056730351498898685, 0.056730351498898685, 0.056730351498898685, 0.056730351498898685, 0.056730351498898685, 0.056730351498898685, 0.056730351498898685, 0.056730351498898685, 0.055371738333186975, 0.055371738333186975, 0.055371738333186975, 0.055371738333186975, 0.055371738333186975, 0.055371738333186975, 0.055371738333186975, 0.055371738333186975, 0.055371738333186975, 0.055371738333186975, 0.055371738333186975, 0.055371738333186975, 0.055371738333186975, 0.055371738333186975, 0.055371738333186975, 0.055371738333186975, 0.055371738333186975, 0.055371738333186975, 0.055371738333186975, 0.055371738333186975, 0.05586145767839441, 0.05586145767839441, 0.05586145767839441, 0.05586145767839441, 0.05586145767839441, 0.05586145767839441, 0.05586145767839441, 0.05586145767839441, 0.05586145767839441, 0.05586145767839441, 0.05586145767839441, 0.05586145767839441, 0.05586145767839441, 0.05586145767839441, 0.05586145767839441, 0.05586145767839441, 0.05586145767839441, 0.05586145767839441, 0.05586145767839441, 0.05586145767839441, 0.05557996700250436, 0.05557996700250436, 0.05557996700250436, 0.05557996700250436, 0.05557996700250436, 0.05557996700250436, 0.05557996700250436, 0.05557996700250436, 0.05557996700250436, 0.05557996700250436, 0.05557996700250436, 0.05557996700250436, 0.05557996700250436, 0.05557996700250436, 0.05557996700250436, 0.05557996700250436, 0.05557996700250436, 0.05557996700250436, 0.05557996700250436, 0.05557996700250436, 0.05652436596318862, 0.05652436596318862, 0.05652436596318862, 0.05652436596318862, 0.05652436596318862, 0.05652436596318862, 0.05652436596318862, 0.05652436596318862, 0.05652436596318862, 0.05652436596318862, 0.05652436596318862, 0.05652436596318862, 0.05652436596318862, 0.05652436596318862, 0.05652436596318862, 0.05652436596318862, 0.05652436596318862, 0.05652436596318862, 0.05652436596318862, 0.05652436596318862, 0.05648110513799773, 0.05648110513799773, 0.05648110513799773, 0.05648110513799773, 0.05648110513799773, 0.05648110513799773, 0.05648110513799773, 0.05648110513799773, 0.05648110513799773, 0.05648110513799773, 0.05648110513799773, 0.05648110513799773, 0.05648110513799773, 0.05648110513799773, 0.05648110513799773, 0.05648110513799773, 0.05648110513799773, 0.05648110513799773, 0.05648110513799773, 0.05648110513799773, 0.05583375400963752, 0.05583375400963752, 0.05583375400963752, 0.05583375400963752, 0.05583375400963752, 0.05583375400963752, 0.05583375400963752, 0.05583375400963752, 0.05583375400963752, 0.05583375400963752, 0.05583375400963752, 0.05583375400963752, 0.05583375400963752, 0.05583375400963752, 0.05583375400963752, 0.05583375400963752, 0.05583375400963752, 0.05583375400963752, 0.05583375400963752, 0.05583375400963752, 0.056278811818588494, 0.056278811818588494, 0.056278811818588494, 0.056278811818588494, 0.056278811818588494, 0.056278811818588494, 0.056278811818588494, 0.056278811818588494, 0.056278811818588494, 0.056278811818588494, 0.056278811818588494, 0.056278811818588494, 0.056278811818588494, 0.056278811818588494, 0.056278811818588494, 0.056278811818588494, 0.056278811818588494, 0.056278811818588494, 0.056278811818588494, 0.056278811818588494, 0.057013610615284156, 0.057013610615284156, 0.057013610615284156, 0.057013610615284156, 0.057013610615284156, 0.057013610615284156, 0.057013610615284156, 0.057013610615284156, 0.057013610615284156, 0.057013610615284156, 0.057013610615284156, 0.057013610615284156, 0.057013610615284156, 0.057013610615284156, 0.057013610615284156, 0.057013610615284156, 0.057013610615284156, 0.057013610615284156, 0.057013610615284156, 0.057013610615284156, 0.05654004694714471, 0.05654004694714471, 0.05654004694714471, 0.05654004694714471, 0.05654004694714471, 0.05654004694714471, 0.05654004694714471, 0.05654004694714471, 0.05654004694714471, 0.05654004694714471, 0.05654004694714471, 0.05654004694714471, 0.05654004694714471, 0.05654004694714471, 0.05654004694714471, 0.05654004694714471, 0.05654004694714471, 0.05654004694714471, 0.05654004694714471, 0.05654004694714471, 0.055271223166091114, 0.055271223166091114, 0.055271223166091114, 0.055271223166091114, 0.055271223166091114, 0.055271223166091114, 0.055271223166091114, 0.055271223166091114, 0.055271223166091114, 0.055271223166091114, 0.055271223166091114, 0.055271223166091114, 0.055271223166091114, 0.055271223166091114, 0.055271223166091114, 0.055271223166091114, 0.055271223166091114, 0.055271223166091114, 0.055271223166091114, 0.055271223166091114, 0.05600085419282155, 0.05600085419282155, 0.05600085419282155, 0.05600085419282155, 0.05600085419282155, 0.05600085419282155, 0.05600085419282155, 0.05600085419282155, 0.05600085419282155, 0.05600085419282155, 0.05600085419282155, 0.05600085419282155, 0.05600085419282155, 0.05600085419282155, 0.05600085419282155, 0.05600085419282155, 0.05600085419282155, 0.05600085419282155, 0.05600085419282155, 0.05600085419282155, 0.05604230872813235, 0.05604230872813235, 0.05604230872813235, 0.05604230872813235, 0.05604230872813235, 0.05604230872813235, 0.05604230872813235, 0.05604230872813235, 0.05604230872813235, 0.05604230872813235, 0.05604230872813235, 0.05604230872813235, 0.05604230872813235, 0.05604230872813235, 0.05604230872813235, 0.05604230872813235, 0.05604230872813235, 0.05604230872813235, 0.05604230872813235, 0.05604230872813235, 0.056472952701677036, 0.056472952701677036, 0.056472952701677036, 0.056472952701677036, 0.056472952701677036, 0.056472952701677036, 0.056472952701677036, 0.056472952701677036, 0.056472952701677036, 0.056472952701677036, 0.056472952701677036, 0.056472952701677036, 0.056472952701677036, 0.056472952701677036, 0.056472952701677036, 0.056472952701677036, 0.056472952701677036, 0.056472952701677036, 0.056472952701677036, 0.056472952701677036, 0.05658535277682574, 0.05658535277682574, 0.05658535277682574, 0.05658535277682574, 0.05658535277682574, 0.05658535277682574, 0.05658535277682574, 0.05658535277682574, 0.05658535277682574, 0.05658535277682574, 0.05658535277682574, 0.05658535277682574, 0.05658535277682574, 0.05658535277682574, 0.05658535277682574, 0.05658535277682574, 0.05658535277682574, 0.05658535277682574, 0.05658535277682574, 0.05658535277682574, 0.05602171414558354, 0.05602171414558354, 0.05602171414558354, 0.05602171414558354, 0.05602171414558354, 0.05602171414558354, 0.05602171414558354, 0.05602171414558354, 0.05602171414558354, 0.05602171414558354, 0.05602171414558354, 0.05602171414558354, 0.05602171414558354, 0.05602171414558354, 0.05602171414558354, 0.05602171414558354, 0.05602171414558354, 0.05602171414558354, 0.05602171414558354, 0.05602171414558354, 0.056601460075668505, 0.056601460075668505, 0.056601460075668505, 0.056601460075668505, 0.056601460075668505, 0.056601460075668505, 0.056601460075668505, 0.056601460075668505, 0.056601460075668505, 0.056601460075668505, 0.056601460075668505, 0.056601460075668505, 0.056601460075668505, 0.056601460075668505, 0.056601460075668505, 0.056601460075668505, 0.056601460075668505, 0.056601460075668505, 0.056601460075668505, 0.056601460075668505, 0.05675255667704331, 0.05675255667704331, 0.05675255667704331, 0.05675255667704331, 0.05675255667704331, 0.05675255667704331, 0.05675255667704331, 0.05675255667704331, 0.05675255667704331, 0.05675255667704331, 0.05675255667704331, 0.05675255667704331, 0.05675255667704331, 0.05675255667704331, 0.05675255667704331, 0.05675255667704331, 0.05675255667704331, 0.05675255667704331, 0.05675255667704331, 0.05675255667704331, 0.05661119117794582, 0.05661119117794582, 0.05661119117794582, 0.05661119117794582, 0.05661119117794582, 0.05661119117794582, 0.05661119117794582, 0.05661119117794582, 0.05661119117794582, 0.05661119117794582, 0.05661119117794582, 0.05661119117794582, 0.05661119117794582, 0.05661119117794582, 0.05661119117794582, 0.05661119117794582, 0.05661119117794582, 0.05661119117794582, 0.05661119117794582, 0.05661119117794582, 0.056445730901862556, 0.056445730901862556, 0.056445730901862556, 0.056445730901862556, 0.056445730901862556, 0.056445730901862556, 0.056445730901862556, 0.056445730901862556, 0.056445730901862556, 0.056445730901862556, 0.056445730901862556, 0.056445730901862556, 0.056445730901862556, 0.056445730901862556, 0.056445730901862556, 0.056445730901862556, 0.056445730901862556, 0.056445730901862556, 0.056445730901862556, 0.056445730901862556, 0.05672041778777616, 0.05672041778777616, 0.05672041778777616, 0.05672041778777616, 0.05672041778777616, 0.05672041778777616, 0.05672041778777616, 0.05672041778777616, 0.05672041778777616, 0.05672041778777616, 0.05672041778777616, 0.05672041778777616, 0.05672041778777616, 0.05672041778777616, 0.05672041778777616, 0.05672041778777616, 0.05672041778777616, 0.05672041778777616, 0.05672041778777616, 0.05672041778777616, 0.05557105253468383, 0.05557105253468383, 0.05557105253468383, 0.05557105253468383, 0.05557105253468383, 0.05557105253468383, 0.05557105253468383, 0.05557105253468383, 0.05557105253468383, 0.05557105253468383, 0.05557105253468383, 0.05557105253468383, 0.05557105253468383, 0.05557105253468383, 0.05557105253468383, 0.05557105253468383, 0.05557105253468383, 0.05557105253468383, 0.05557105253468383, 0.05557105253468383, 0.05701947693205929, 0.05701947693205929, 0.05701947693205929, 0.05701947693205929, 0.05701947693205929, 0.05701947693205929, 0.05701947693205929, 0.05701947693205929, 0.05701947693205929, 0.05701947693205929, 0.05701947693205929, 0.05701947693205929, 0.05701947693205929, 0.05701947693205929, 0.05701947693205929, 0.05701947693205929, 0.05701947693205929, 0.05701947693205929, 0.05701947693205929, 0.05701947693205929, 0.05597966234689477, 0.05597966234689477, 0.05597966234689477, 0.05597966234689477, 0.05597966234689477, 0.05597966234689477, 0.05597966234689477, 0.05597966234689477, 0.05597966234689477, 0.05597966234689477, 0.05597966234689477, 0.05597966234689477, 0.05597966234689477, 0.05597966234689477, 0.05597966234689477, 0.05597966234689477, 0.05597966234689477, 0.05597966234689477, 0.05597966234689477, 0.05597966234689477, 0.05524778500256498, 0.05524778500256498, 0.05524778500256498, 0.05524778500256498, 0.05524778500256498, 0.05524778500256498, 0.05524778500256498, 0.05524778500256498, 0.05524778500256498, 0.05524778500256498, 0.05524778500256498, 0.05524778500256498, 0.05524778500256498, 0.05524778500256498, 0.05524778500256498, 0.05524778500256498, 0.05524778500256498, 0.05524778500256498, 0.05524778500256498, 0.05524778500256498, 0.05507088267290368, 0.05507088267290368, 0.05507088267290368, 0.05507088267290368, 0.05507088267290368, 0.05507088267290368, 0.05507088267290368, 0.05507088267290368, 0.05507088267290368, 0.05507088267290368, 0.05507088267290368, 0.05507088267290368, 0.05507088267290368, 0.05507088267290368, 0.05507088267290368, 0.05507088267290368, 0.05507088267290368, 0.05507088267290368, 0.05507088267290368, 0.05507088267290368, 0.055104121315790705, 0.055104121315790705, 0.055104121315790705, 0.055104121315790705, 0.055104121315790705, 0.055104121315790705, 0.055104121315790705, 0.055104121315790705, 0.055104121315790705, 0.055104121315790705, 0.055104121315790705, 0.055104121315790705, 0.055104121315790705, 0.055104121315790705, 0.055104121315790705, 0.055104121315790705, 0.055104121315790705, 0.055104121315790705, 0.055104121315790705, 0.055104121315790705, 0.056852408051797074, 0.056852408051797074, 0.056852408051797074, 0.056852408051797074, 0.056852408051797074, 0.056852408051797074, 0.056852408051797074, 0.056852408051797074, 0.056852408051797074, 0.056852408051797074, 0.056852408051797074, 0.056852408051797074, 0.056852408051797074, 0.056852408051797074, 0.056852408051797074, 0.056852408051797074, 0.056852408051797074, 0.056852408051797074, 0.056852408051797074, 0.056852408051797074, 0.0556047616110455, 0.0556047616110455, 0.0556047616110455, 0.0556047616110455, 0.0556047616110455, 0.0556047616110455, 0.0556047616110455, 0.0556047616110455, 0.0556047616110455, 0.0556047616110455, 0.0556047616110455, 0.0556047616110455, 0.0556047616110455, 0.0556047616110455, 0.0556047616110455, 0.0556047616110455, 0.0556047616110455, 0.0556047616110455, 0.0556047616110455, 0.0556047616110455, 0.05693013914165617, 0.05693013914165617, 0.05693013914165617, 0.05693013914165617, 0.05693013914165617, 0.05693013914165617, 0.05693013914165617, 0.05693013914165617, 0.05693013914165617, 0.05693013914165617, 0.05693013914165617, 0.05693013914165617, 0.05693013914165617, 0.05693013914165617, 0.05693013914165617, 0.05693013914165617, 0.05693013914165617, 0.05693013914165617, 0.05693013914165617, 0.05693013914165617, 0.055528894518878234, 0.055528894518878234, 0.055528894518878234, 0.055528894518878234, 0.055528894518878234, 0.055528894518878234, 0.055528894518878234, 0.055528894518878234, 0.055528894518878234, 0.055528894518878234, 0.055528894518878234, 0.055528894518878234, 0.055528894518878234, 0.055528894518878234, 0.055528894518878234, 0.055528894518878234, 0.055528894518878234, 0.055528894518878234, 0.055528894518878234, 0.055528894518878234, 0.056741864264462365, 0.056741864264462365, 0.056741864264462365, 0.056741864264462365, 0.056741864264462365, 0.056741864264462365, 0.056741864264462365, 0.056741864264462365, 0.056741864264462365, 0.056741864264462365, 0.056741864264462365, 0.056741864264462365, 0.056741864264462365, 0.056741864264462365, 0.056741864264462365, 0.056741864264462365, 0.056741864264462365, 0.056741864264462365, 0.056741864264462365, 0.056741864264462365, 0.05606210982079828, 0.05606210982079828, 0.05606210982079828, 0.05606210982079828, 0.05606210982079828, 0.05606210982079828, 0.05606210982079828, 0.05606210982079828, 0.05606210982079828, 0.05606210982079828, 0.05606210982079828, 0.05606210982079828, 0.05606210982079828, 0.05606210982079828, 0.05606210982079828, 0.05606210982079828, 0.05606210982079828, 0.05606210982079828, 0.05606210982079828, 0.05606210982079828, 0.05503564958747569, 0.05503564958747569, 0.05503564958747569, 0.05503564958747569, 0.05503564958747569, 0.05503564958747569, 0.05503564958747569, 0.05503564958747569, 0.05503564958747569, 0.05503564958747569, 0.05503564958747569, 0.05503564958747569, 0.05503564958747569, 0.05503564958747569, 0.05503564958747569, 0.05503564958747569, 0.05503564958747569, 0.05503564958747569, 0.05503564958747569, 0.05503564958747569, 0.05667379919328216, 0.05667379919328216, 0.05667379919328216, 0.05667379919328216, 0.05667379919328216, 0.05667379919328216, 0.05667379919328216, 0.05667379919328216, 0.05667379919328216, 0.05667379919328216, 0.05667379919328216, 0.05667379919328216, 0.05667379919328216, 0.05667379919328216, 0.05667379919328216, 0.05667379919328216, 0.05667379919328216, 0.05667379919328216, 0.05667379919328216, 0.05667379919328216, 0.05694857357544947, 0.05694857357544947, 0.05694857357544947, 0.05694857357544947, 0.05694857357544947, 0.05694857357544947, 0.05694857357544947, 0.05694857357544947, 0.05694857357544947, 0.05694857357544947, 0.05694857357544947, 0.05694857357544947, 0.05694857357544947, 0.05694857357544947, 0.05694857357544947, 0.05694857357544947, 0.05694857357544947, 0.05694857357544947, 0.05694857357544947, 0.05694857357544947, 0.05673483317768517, 0.05673483317768517, 0.05673483317768517, 0.05673483317768517, 0.05673483317768517, 0.05673483317768517, 0.05673483317768517, 0.05673483317768517, 0.05673483317768517, 0.05673483317768517, 0.05673483317768517, 0.05673483317768517, 0.05673483317768517, 0.05673483317768517, 0.05673483317768517, 0.05673483317768517, 0.05673483317768517, 0.05673483317768517, 0.05673483317768517, 0.05673483317768517, 0.05541915362778106, 0.05541915362778106, 0.05541915362778106, 0.05541915362778106, 0.05541915362778106, 0.05541915362778106, 0.05541915362778106, 0.05541915362778106, 0.05541915362778106, 0.05541915362778106, 0.05541915362778106, 0.05541915362778106, 0.05541915362778106, 0.05541915362778106, 0.05541915362778106, 0.05541915362778106, 0.05541915362778106, 0.05541915362778106, 0.05541915362778106, 0.05541915362778106, 0.05505073670741251, 0.05505073670741251, 0.05505073670741251, 0.05505073670741251, 0.05505073670741251, 0.05505073670741251, 0.05505073670741251, 0.05505073670741251, 0.05505073670741251, 0.05505073670741251, 0.05505073670741251, 0.05505073670741251, 0.05505073670741251, 0.05505073670741251, 0.05505073670741251, 0.05505073670741251, 0.05505073670741251, 0.05505073670741251, 0.05505073670741251, 0.05505073670741251, 0.05598557830684422, 0.05598557830684422, 0.05598557830684422, 0.05598557830684422, 0.05598557830684422, 0.05598557830684422, 0.05598557830684422, 0.05598557830684422, 0.05598557830684422, 0.05598557830684422, 0.05598557830684422, 0.05598557830684422, 0.05598557830684422, 0.05598557830684422, 0.05598557830684422, 0.05598557830684422, 0.05598557830684422, 0.05598557830684422, 0.05598557830684422, 0.05598557830684422, 0.05677822610866654, 0.05677822610866654, 0.05677822610866654, 0.05677822610866654, 0.05677822610866654, 0.05677822610866654, 0.05677822610866654, 0.05677822610866654, 0.05677822610866654, 0.05677822610866654, 0.05677822610866654, 0.05677822610866654, 0.05677822610866654, 0.05677822610866654, 0.05677822610866654, 0.05677822610866654, 0.05677822610866654, 0.05677822610866654, 0.05677822610866654, 0.05677822610866654, 0.05732140305859362, 0.05732140305859362, 0.05732140305859362, 0.05732140305859362, 0.05732140305859362, 0.05732140305859362, 0.05732140305859362, 0.05732140305859362, 0.05732140305859362, 0.05732140305859362, 0.05732140305859362, 0.05732140305859362, 0.05732140305859362, 0.05732140305859362, 0.05732140305859362, 0.05732140305859362, 0.05732140305859362, 0.05732140305859362, 0.05732140305859362, 0.05732140305859362, 0.05486667240084316, 0.05486667240084316, 0.05486667240084316, 0.05486667240084316, 0.05486667240084316, 0.05486667240084316, 0.05486667240084316, 0.05486667240084316, 0.05486667240084316, 0.05486667240084316, 0.05486667240084316, 0.05486667240084316, 0.05486667240084316, 0.05486667240084316, 0.05486667240084316, 0.05486667240084316, 0.05486667240084316, 0.05486667240084316, 0.05486667240084316, 0.05486667240084316, 0.05538785491656896, 0.05538785491656896, 0.05538785491656896, 0.05538785491656896, 0.05538785491656896, 0.05538785491656896, 0.05538785491656896, 0.05538785491656896, 0.05538785491656896, 0.05538785491656896, 0.05538785491656896, 0.05538785491656896, 0.05538785491656896, 0.05538785491656896, 0.05538785491656896, 0.05538785491656896, 0.05538785491656896, 0.05538785491656896, 0.05538785491656896, 0.05538785491656896, 0.05610936533978673, 0.05610936533978673, 0.05610936533978673, 0.05610936533978673, 0.05610936533978673, 0.05610936533978673, 0.05610936533978673, 0.05610936533978673, 0.05610936533978673, 0.05610936533978673, 0.05610936533978673, 0.05610936533978673, 0.05610936533978673, 0.05610936533978673, 0.05610936533978673, 0.05610936533978673, 0.05610936533978673, 0.05610936533978673, 0.05610936533978673, 0.05610936533978673, 0.05557590822474025, 0.05557590822474025, 0.05557590822474025, 0.05557590822474025, 0.05557590822474025, 0.05557590822474025, 0.05557590822474025, 0.05557590822474025, 0.05557590822474025, 0.05557590822474025, 0.05557590822474025, 0.05557590822474025, 0.05557590822474025, 0.05557590822474025, 0.05557590822474025, 0.05557590822474025, 0.05557590822474025, 0.05557590822474025, 0.05557590822474025, 0.05557590822474025, 0.05696181409386189, 0.05696181409386189, 0.05696181409386189, 0.05696181409386189, 0.05696181409386189, 0.05696181409386189, 0.05696181409386189, 0.05696181409386189, 0.05696181409386189, 0.05696181409386189, 0.05696181409386189, 0.05696181409386189, 0.05696181409386189, 0.05696181409386189, 0.05696181409386189, 0.05696181409386189, 0.05696181409386189, 0.05696181409386189, 0.05696181409386189, 0.05696181409386189, 0.05580238129733012, 0.05580238129733012, 0.05580238129733012, 0.05580238129733012, 0.05580238129733012, 0.05580238129733012, 0.05580238129733012, 0.05580238129733012, 0.05580238129733012, 0.05580238129733012, 0.05580238129733012, 0.05580238129733012, 0.05580238129733012, 0.05580238129733012, 0.05580238129733012, 0.05580238129733012, 0.05580238129733012, 0.05580238129733012, 0.05580238129733012, 0.05580238129733012, 0.05589797288678404, 0.05589797288678404, 0.05589797288678404, 0.05589797288678404, 0.05589797288678404, 0.05589797288678404, 0.05589797288678404, 0.05589797288678404, 0.05589797288678404, 0.05589797288678404, 0.05589797288678404, 0.05589797288678404, 0.05589797288678404, 0.05589797288678404, 0.05589797288678404, 0.05589797288678404, 0.05589797288678404, 0.05589797288678404, 0.05589797288678404, 0.05589797288678404, 0.05704247956078278, 0.05704247956078278, 0.05704247956078278, 0.05704247956078278, 0.05704247956078278, 0.05704247956078278, 0.05704247956078278, 0.05704247956078278, 0.05704247956078278, 0.05704247956078278, 0.05704247956078278, 0.05704247956078278, 0.05704247956078278, 0.05704247956078278, 0.05704247956078278, 0.05704247956078278, 0.05704247956078278, 0.05704247956078278, 0.05704247956078278, 0.05704247956078278, 0.0571275948476833, 0.0571275948476833, 0.0571275948476833, 0.0571275948476833, 0.0571275948476833, 0.0571275948476833, 0.0571275948476833, 0.0571275948476833, 0.0571275948476833, 0.0571275948476833, 0.0571275948476833, 0.0571275948476833, 0.0571275948476833, 0.0571275948476833, 0.0571275948476833, 0.0571275948476833, 0.0571275948476833, 0.0571275948476833, 0.0571275948476833, 0.0571275948476833, 0.05730004672112713, 0.05730004672112713, 0.05730004672112713, 0.05730004672112713, 0.05730004672112713, 0.05730004672112713, 0.05730004672112713, 0.05730004672112713, 0.05730004672112713, 0.05730004672112713, 0.05730004672112713, 0.05730004672112713, 0.05730004672112713, 0.05730004672112713, 0.05730004672112713, 0.05730004672112713, 0.05730004672112713, 0.05730004672112713, 0.05730004672112713, 0.05730004672112713, 0.0554280699014873, 0.0554280699014873, 0.0554280699014873, 0.0554280699014873, 0.0554280699014873, 0.0554280699014873, 0.0554280699014873, 0.0554280699014873, 0.0554280699014873, 0.0554280699014873, 0.0554280699014873, 0.0554280699014873, 0.0554280699014873, 0.0554280699014873, 0.0554280699014873, 0.0554280699014873, 0.0554280699014873, 0.0554280699014873, 0.0554280699014873, 0.0554280699014873, 0.056343577404236456, 0.056343577404236456, 0.056343577404236456, 0.056343577404236456, 0.056343577404236456, 0.056343577404236456, 0.056343577404236456, 0.056343577404236456, 0.056343577404236456, 0.056343577404236456, 0.056343577404236456, 0.056343577404236456, 0.056343577404236456, 0.056343577404236456, 0.056343577404236456, 0.056343577404236456, 0.056343577404236456, 0.056343577404236456, 0.056343577404236456, 0.056343577404236456, 0.05634604616194568, 0.05634604616194568, 0.05634604616194568, 0.05634604616194568, 0.05634604616194568, 0.05634604616194568, 0.05634604616194568, 0.05634604616194568, 0.05634604616194568, 0.05634604616194568, 0.05634604616194568, 0.05634604616194568, 0.05634604616194568, 0.05634604616194568, 0.05634604616194568, 0.05634604616194568, 0.05634604616194568, 0.05634604616194568, 0.05634604616194568, 0.05634604616194568, 0.05565377160717523, 0.05565377160717523, 0.05565377160717523, 0.05565377160717523, 0.05565377160717523, 0.05565377160717523, 0.05565377160717523, 0.05565377160717523, 0.05565377160717523, 0.05565377160717523, 0.05565377160717523, 0.05565377160717523, 0.05565377160717523, 0.05565377160717523, 0.05565377160717523, 0.05565377160717523, 0.05565377160717523, 0.05565377160717523, 0.05565377160717523, 0.05565377160717523, 0.056379656139898045, 0.056379656139898045, 0.056379656139898045, 0.056379656139898045, 0.056379656139898045, 0.056379656139898045, 0.056379656139898045, 0.056379656139898045, 0.056379656139898045, 0.056379656139898045, 0.056379656139898045, 0.056379656139898045, 0.056379656139898045, 0.056379656139898045, 0.056379656139898045, 0.056379656139898045, 0.056379656139898045, 0.056379656139898045, 0.056379656139898045, 0.056379656139898045, 0.0561287569538756, 0.0561287569538756, 0.0561287569538756, 0.0561287569538756, 0.0561287569538756, 0.0561287569538756, 0.0561287569538756, 0.0561287569538756, 0.0561287569538756, 0.0561287569538756, 0.0561287569538756, 0.0561287569538756, 0.0561287569538756, 0.0561287569538756, 0.0561287569538756, 0.0561287569538756, 0.0561287569538756, 0.0561287569538756, 0.0561287569538756, 0.0561287569538756, 0.056249813174391754, 0.056249813174391754, 0.056249813174391754, 0.056249813174391754, 0.056249813174391754, 0.056249813174391754, 0.056249813174391754, 0.056249813174391754, 0.056249813174391754, 0.056249813174391754, 0.056249813174391754, 0.056249813174391754, 0.056249813174391754, 0.056249813174391754, 0.056249813174391754, 0.056249813174391754, 0.056249813174391754, 0.056249813174391754, 0.056249813174391754, 0.056249813174391754, 0.05695501223439671, 0.05695501223439671, 0.05695501223439671, 0.05695501223439671, 0.05695501223439671, 0.05695501223439671, 0.05695501223439671, 0.05695501223439671, 0.05695501223439671, 0.05695501223439671, 0.05695501223439671, 0.05695501223439671, 0.05695501223439671, 0.05695501223439671, 0.05695501223439671, 0.05695501223439671, 0.05695501223439671, 0.05695501223439671, 0.05695501223439671, 0.05695501223439671, 0.057074277078696264, 0.057074277078696264, 0.057074277078696264, 0.057074277078696264, 0.057074277078696264, 0.057074277078696264, 0.057074277078696264, 0.057074277078696264, 0.057074277078696264, 0.057074277078696264, 0.057074277078696264, 0.057074277078696264, 0.057074277078696264, 0.057074277078696264, 0.057074277078696264, 0.057074277078696264, 0.057074277078696264, 0.057074277078696264, 0.057074277078696264, 0.057074277078696264, 0.0558117544233016, 0.0558117544233016, 0.0558117544233016, 0.0558117544233016, 0.0558117544233016, 0.0558117544233016, 0.0558117544233016, 0.0558117544233016, 0.0558117544233016, 0.0558117544233016, 0.0558117544233016, 0.0558117544233016, 0.0558117544233016, 0.0558117544233016, 0.0558117544233016, 0.0558117544233016, 0.0558117544233016, 0.0558117544233016, 0.0558117544233016, 0.0558117544233016, 0.05550563666445275, 0.05550563666445275, 0.05550563666445275, 0.05550563666445275, 0.05550563666445275, 0.05550563666445275, 0.05550563666445275, 0.05550563666445275, 0.05550563666445275, 0.05550563666445275, 0.05550563666445275, 0.05550563666445275, 0.05550563666445275, 0.05550563666445275, 0.05550563666445275, 0.05550563666445275, 0.05550563666445275, 0.05550563666445275, 0.05550563666445275, 0.05550563666445275, 0.05566447391997957, 0.05566447391997957, 0.05566447391997957, 0.05566447391997957, 0.05566447391997957, 0.05566447391997957, 0.05566447391997957, 0.05566447391997957, 0.05566447391997957, 0.05566447391997957, 0.05566447391997957, 0.05566447391997957, 0.05566447391997957, 0.05566447391997957, 0.05566447391997957, 0.05566447391997957, 0.05566447391997957, 0.05566447391997957, 0.05566447391997957, 0.05566447391997957, 0.05635665252521094, 0.05635665252521094, 0.05635665252521094, 0.05635665252521094, 0.05635665252521094, 0.05635665252521094, 0.05635665252521094, 0.05635665252521094, 0.05635665252521094, 0.05635665252521094, 0.05635665252521094, 0.05635665252521094, 0.05635665252521094, 0.05635665252521094, 0.05635665252521094, 0.05635665252521094, 0.05635665252521094, 0.05635665252521094, 0.05635665252521094, 0.05635665252521094, 0.05631755130501845, 0.05631755130501845, 0.05631755130501845, 0.05631755130501845, 0.05631755130501845, 0.05631755130501845, 0.05631755130501845, 0.05631755130501845, 0.05631755130501845, 0.05631755130501845, 0.05631755130501845, 0.05631755130501845, 0.05631755130501845, 0.05631755130501845, 0.05631755130501845, 0.05631755130501845, 0.05631755130501845, 0.05631755130501845, 0.05631755130501845, 0.05631755130501845, 0.05568494061297161, 0.05568494061297161, 0.05568494061297161, 0.05568494061297161, 0.05568494061297161, 0.05568494061297161, 0.05568494061297161, 0.05568494061297161, 0.05568494061297161, 0.05568494061297161, 0.05568494061297161, 0.05568494061297161, 0.05568494061297161, 0.05568494061297161, 0.05568494061297161, 0.05568494061297161, 0.05568494061297161, 0.05568494061297161, 0.05568494061297161, 0.05568494061297161, 0.056913484654593054, 0.056913484654593054, 0.056913484654593054, 0.056913484654593054, 0.056913484654593054, 0.056913484654593054, 0.056913484654593054, 0.056913484654593054, 0.056913484654593054, 0.056913484654593054, 0.056913484654593054, 0.056913484654593054, 0.056913484654593054, 0.056913484654593054, 0.056913484654593054, 0.056913484654593054, 0.056913484654593054, 0.056913484654593054, 0.056913484654593054, 0.056913484654593054, 0.05502329921163213, 0.05502329921163213, 0.05502329921163213, 0.05502329921163213, 0.05502329921163213, 0.05502329921163213, 0.05502329921163213, 0.05502329921163213, 0.05502329921163213, 0.05502329921163213, 0.05502329921163213, 0.05502329921163213, 0.05502329921163213, 0.05502329921163213, 0.05502329921163213, 0.05502329921163213, 0.05502329921163213, 0.05502329921163213, 0.05502329921163213, 0.05502329921163213, 0.05593424979302078, 0.05593424979302078, 0.05593424979302078, 0.05593424979302078, 0.05593424979302078, 0.05593424979302078, 0.05593424979302078, 0.05593424979302078, 0.05593424979302078, 0.05593424979302078, 0.05593424979302078, 0.05593424979302078, 0.05593424979302078, 0.05593424979302078, 0.05593424979302078, 0.05593424979302078, 0.05593424979302078, 0.05593424979302078, 0.05593424979302078, 0.05593424979302078, 0.05622013394384606, 0.05622013394384606, 0.05622013394384606, 0.05622013394384606, 0.05622013394384606, 0.05622013394384606, 0.05622013394384606, 0.05622013394384606, 0.05622013394384606, 0.05622013394384606, 0.05622013394384606, 0.05622013394384606, 0.05622013394384606, 0.05622013394384606, 0.05622013394384606, 0.05622013394384606, 0.05622013394384606, 0.05622013394384606, 0.05622013394384606, 0.05622013394384606, 0.05542396102191049, 0.05542396102191049, 0.05542396102191049, 0.05542396102191049, 0.05542396102191049, 0.05542396102191049, 0.05542396102191049, 0.05542396102191049, 0.05542396102191049, 0.05542396102191049, 0.05542396102191049, 0.05542396102191049, 0.05542396102191049, 0.05542396102191049, 0.05542396102191049, 0.05542396102191049, 0.05542396102191049, 0.05542396102191049, 0.05542396102191049, 0.05542396102191049, 0.05606807741807025, 0.05606807741807025, 0.05606807741807025, 0.05606807741807025, 0.05606807741807025, 0.05606807741807025, 0.05606807741807025, 0.05606807741807025, 0.05606807741807025, 0.05606807741807025, 0.05606807741807025, 0.05606807741807025, 0.05606807741807025, 0.05606807741807025, 0.05606807741807025, 0.05606807741807025, 0.05606807741807025, 0.05606807741807025, 0.05606807741807025, 0.05606807741807025, 0.05661541697714315, 0.05661541697714315, 0.05661541697714315, 0.05661541697714315, 0.05661541697714315, 0.05661541697714315, 0.05661541697714315, 0.05661541697714315, 0.05661541697714315, 0.05661541697714315, 0.05661541697714315, 0.05661541697714315, 0.05661541697714315, 0.05661541697714315, 0.05661541697714315, 0.05661541697714315, 0.05661541697714315, 0.05661541697714315, 0.05661541697714315, 0.05661541697714315, 0.05662150996005523, 0.05662150996005523, 0.05662150996005523, 0.05662150996005523, 0.05662150996005523, 0.05662150996005523, 0.05662150996005523, 0.05662150996005523, 0.05662150996005523, 0.05662150996005523, 0.05662150996005523, 0.05662150996005523, 0.05662150996005523, 0.05662150996005523, 0.05662150996005523, 0.05662150996005523, 0.05662150996005523, 0.05662150996005523, 0.05662150996005523, 0.05662150996005523, 0.055644313335423794, 0.055644313335423794, 0.055644313335423794, 0.055644313335423794, 0.055644313335423794, 0.055644313335423794, 0.055644313335423794, 0.055644313335423794, 0.055644313335423794, 0.055644313335423794, 0.055644313335423794, 0.055644313335423794, 0.055644313335423794, 0.055644313335423794, 0.055644313335423794, 0.055644313335423794, 0.055644313335423794, 0.055644313335423794, 0.055644313335423794, 0.055644313335423794, 0.05542487511246039, 0.05542487511246039, 0.05542487511246039, 0.05542487511246039, 0.05542487511246039, 0.05542487511246039, 0.05542487511246039, 0.05542487511246039, 0.05542487511246039, 0.05542487511246039, 0.05542487511246039, 0.05542487511246039, 0.05542487511246039, 0.05542487511246039, 0.05542487511246039, 0.05542487511246039, 0.05542487511246039, 0.05542487511246039, 0.05542487511246039, 0.05542487511246039, 0.05581110061010433, 0.05581110061010433, 0.05581110061010433, 0.05581110061010433, 0.05581110061010433, 0.05581110061010433, 0.05581110061010433, 0.05581110061010433, 0.05581110061010433, 0.05581110061010433, 0.05581110061010433, 0.05581110061010433, 0.05581110061010433, 0.05581110061010433, 0.05581110061010433, 0.05581110061010433, 0.05581110061010433, 0.05581110061010433, 0.05581110061010433, 0.05581110061010433, 0.05576136620428143, 0.05576136620428143, 0.05576136620428143, 0.05576136620428143, 0.05576136620428143, 0.05576136620428143, 0.05576136620428143, 0.05576136620428143, 0.05576136620428143, 0.05576136620428143, 0.05576136620428143, 0.05576136620428143, 0.05576136620428143, 0.05576136620428143, 0.05576136620428143, 0.05576136620428143, 0.05576136620428143, 0.05576136620428143, 0.05576136620428143, 0.05576136620428143, 0.055257892407598985, 0.055257892407598985, 0.055257892407598985, 0.055257892407598985, 0.055257892407598985, 0.055257892407598985, 0.055257892407598985, 0.055257892407598985, 0.055257892407598985, 0.055257892407598985, 0.055257892407598985, 0.055257892407598985, 0.055257892407598985, 0.055257892407598985, 0.055257892407598985, 0.055257892407598985, 0.055257892407598985, 0.055257892407598985, 0.055257892407598985, 0.055257892407598985, 0.055447577933185915, 0.055447577933185915, 0.055447577933185915, 0.055447577933185915, 0.055447577933185915, 0.055447577933185915, 0.055447577933185915, 0.055447577933185915, 0.055447577933185915, 0.055447577933185915, 0.055447577933185915, 0.055447577933185915, 0.055447577933185915, 0.055447577933185915, 0.055447577933185915, 0.055447577933185915, 0.055447577933185915, 0.055447577933185915, 0.055447577933185915, 0.055447577933185915, 0.05647958014693619, 0.05647958014693619, 0.05647958014693619, 0.05647958014693619, 0.05647958014693619, 0.05647958014693619, 0.05647958014693619, 0.05647958014693619, 0.05647958014693619, 0.05647958014693619, 0.05647958014693619, 0.05647958014693619, 0.05647958014693619, 0.05647958014693619, 0.05647958014693619, 0.05647958014693619, 0.05647958014693619, 0.05647958014693619, 0.05647958014693619, 0.05647958014693619, 0.05632055129499627, 0.05632055129499627, 0.05632055129499627, 0.05632055129499627, 0.05632055129499627, 0.05632055129499627, 0.05632055129499627, 0.05632055129499627, 0.05632055129499627, 0.05632055129499627, 0.05632055129499627, 0.05632055129499627, 0.05632055129499627, 0.05632055129499627, 0.05632055129499627, 0.05632055129499627, 0.05632055129499627, 0.05632055129499627, 0.05632055129499627, 0.05632055129499627, 0.055580887363261534, 0.055580887363261534, 0.055580887363261534, 0.055580887363261534, 0.055580887363261534, 0.055580887363261534, 0.055580887363261534, 0.055580887363261534, 0.055580887363261534, 0.055580887363261534, 0.055580887363261534, 0.055580887363261534, 0.055580887363261534, 0.055580887363261534, 0.055580887363261534, 0.055580887363261534, 0.055580887363261534, 0.055580887363261534, 0.055580887363261534, 0.055580887363261534, 0.05673109072610543, 0.05673109072610543, 0.05673109072610543, 0.05673109072610543, 0.05673109072610543, 0.05673109072610543, 0.05673109072610543, 0.05673109072610543, 0.05673109072610543, 0.05673109072610543, 0.05673109072610543, 0.05673109072610543, 0.05673109072610543, 0.05673109072610543, 0.05673109072610543, 0.05673109072610543, 0.05673109072610543, 0.05673109072610543, 0.05673109072610543, 0.05673109072610543, 0.05604974415701984, 0.05604974415701984, 0.05604974415701984, 0.05604974415701984, 0.05604974415701984, 0.05604974415701984, 0.05604974415701984, 0.05604974415701984, 0.05604974415701984, 0.05604974415701984, 0.05604974415701984, 0.05604974415701984, 0.05604974415701984, 0.05604974415701984, 0.05604974415701984, 0.05604974415701984, 0.05604974415701984, 0.05604974415701984, 0.05604974415701984, 0.05604974415701984, 0.057536922968963504, 0.057536922968963504, 0.057536922968963504, 0.057536922968963504, 0.057536922968963504, 0.057536922968963504, 0.057536922968963504, 0.057536922968963504, 0.057536922968963504, 0.057536922968963504, 0.057536922968963504, 0.057536922968963504, 0.057536922968963504, 0.057536922968963504, 0.057536922968963504, 0.057536922968963504, 0.057536922968963504, 0.057536922968963504, 0.057536922968963504, 0.057536922968963504, 0.05735991236052753, 0.05735991236052753, 0.05735991236052753, 0.05735991236052753, 0.05735991236052753, 0.05735991236052753, 0.05735991236052753, 0.05735991236052753, 0.05735991236052753, 0.05735991236052753, 0.05735991236052753, 0.05735991236052753, 0.05735991236052753, 0.05735991236052753, 0.05735991236052753, 0.05735991236052753, 0.05735991236052753, 0.05735991236052753, 0.05735991236052753, 0.05735991236052753, 0.056209056657216226, 0.056209056657216226, 0.056209056657216226, 0.056209056657216226, 0.056209056657216226, 0.056209056657216226, 0.056209056657216226, 0.056209056657216226, 0.056209056657216226, 0.056209056657216226, 0.056209056657216226, 0.056209056657216226, 0.056209056657216226, 0.056209056657216226, 0.056209056657216226, 0.056209056657216226, 0.056209056657216226, 0.056209056657216226, 0.056209056657216226, 0.056209056657216226, 0.05662660156771308, 0.05662660156771308, 0.05662660156771308, 0.05662660156771308, 0.05662660156771308, 0.05662660156771308, 0.05662660156771308, 0.05662660156771308, 0.05662660156771308, 0.05662660156771308, 0.05662660156771308, 0.05662660156771308, 0.05662660156771308, 0.05662660156771308, 0.05662660156771308, 0.05662660156771308, 0.05662660156771308, 0.05662660156771308, 0.05662660156771308, 0.05662660156771308, 0.05664797022117496, 0.05664797022117496, 0.05664797022117496, 0.05664797022117496, 0.05664797022117496, 0.05664797022117496, 0.05664797022117496, 0.05664797022117496, 0.05664797022117496, 0.05664797022117496, 0.05664797022117496, 0.05664797022117496, 0.05664797022117496, 0.05664797022117496, 0.05664797022117496, 0.05664797022117496, 0.05664797022117496, 0.05664797022117496, 0.05664797022117496, 0.05664797022117496, 0.056555247992256204, 0.056555247992256204, 0.056555247992256204, 0.056555247992256204, 0.056555247992256204, 0.056555247992256204, 0.056555247992256204, 0.056555247992256204, 0.056555247992256204, 0.056555247992256204, 0.056555247992256204, 0.056555247992256204, 0.056555247992256204, 0.056555247992256204, 0.056555247992256204, 0.056555247992256204, 0.056555247992256204, 0.056555247992256204, 0.056555247992256204, 0.056555247992256204, 0.056201465563445595, 0.056201465563445595, 0.056201465563445595, 0.056201465563445595, 0.056201465563445595, 0.056201465563445595, 0.056201465563445595, 0.056201465563445595, 0.056201465563445595, 0.056201465563445595, 0.056201465563445595, 0.056201465563445595, 0.056201465563445595, 0.056201465563445595, 0.056201465563445595, 0.056201465563445595, 0.056201465563445595, 0.056201465563445595, 0.056201465563445595, 0.056201465563445595, 0.05598953423746705, 0.05598953423746705, 0.05598953423746705, 0.05598953423746705, 0.05598953423746705, 0.05598953423746705, 0.05598953423746705, 0.05598953423746705, 0.05598953423746705, 0.05598953423746705, 0.05598953423746705, 0.05598953423746705, 0.05598953423746705, 0.05598953423746705, 0.05598953423746705, 0.05598953423746705, 0.05598953423746705, 0.05598953423746705, 0.05598953423746705, 0.05598953423746705, 0.05618050552143416, 0.05618050552143416, 0.05618050552143416, 0.05618050552143416, 0.05618050552143416, 0.05618050552143416, 0.05618050552143416, 0.05618050552143416, 0.05618050552143416, 0.05618050552143416, 0.05618050552143416, 0.05618050552143416, 0.05618050552143416, 0.05618050552143416, 0.05618050552143416, 0.05618050552143416, 0.05618050552143416, 0.05618050552143416, 0.05618050552143416, 0.05618050552143416, 0.056004339773756455, 0.056004339773756455, 0.056004339773756455, 0.056004339773756455, 0.056004339773756455, 0.056004339773756455, 0.056004339773756455, 0.056004339773756455, 0.056004339773756455, 0.056004339773756455, 0.056004339773756455, 0.056004339773756455, 0.056004339773756455, 0.056004339773756455, 0.056004339773756455, 0.056004339773756455, 0.056004339773756455, 0.056004339773756455, 0.056004339773756455, 0.056004339773756455, 0.05605120999408934, 0.05605120999408934, 0.05605120999408934, 0.05605120999408934, 0.05605120999408934, 0.05605120999408934, 0.05605120999408934, 0.05605120999408934, 0.05605120999408934, 0.05605120999408934, 0.05605120999408934, 0.05605120999408934, 0.05605120999408934, 0.05605120999408934, 0.05605120999408934, 0.05605120999408934, 0.05605120999408934, 0.05605120999408934, 0.05605120999408934, 0.05605120999408934, 0.05450523888980379, 0.05450523888980379, 0.05450523888980379, 0.05450523888980379, 0.05450523888980379, 0.05450523888980379, 0.05450523888980379, 0.05450523888980379, 0.05450523888980379, 0.05450523888980379, 0.05450523888980379, 0.05450523888980379, 0.05450523888980379, 0.05450523888980379, 0.05450523888980379, 0.05450523888980379, 0.05450523888980379, 0.05450523888980379, 0.05450523888980379, 0.05450523888980379, 0.057051303778096245, 0.057051303778096245, 0.057051303778096245, 0.057051303778096245, 0.057051303778096245, 0.057051303778096245, 0.057051303778096245, 0.057051303778096245, 0.057051303778096245, 0.057051303778096245, 0.057051303778096245, 0.057051303778096245, 0.057051303778096245, 0.057051303778096245, 0.057051303778096245, 0.057051303778096245, 0.057051303778096245, 0.057051303778096245, 0.057051303778096245, 0.057051303778096245, 0.05568890045494208, 0.05568890045494208, 0.05568890045494208, 0.05568890045494208, 0.05568890045494208, 0.05568890045494208, 0.05568890045494208, 0.05568890045494208, 0.05568890045494208, 0.05568890045494208, 0.05568890045494208, 0.05568890045494208, 0.05568890045494208, 0.05568890045494208, 0.05568890045494208, 0.05568890045494208, 0.05568890045494208, 0.05568890045494208, 0.05568890045494208, 0.05568890045494208, 0.05584125343267315, 0.05584125343267315, 0.05584125343267315, 0.05584125343267315, 0.05584125343267315, 0.05584125343267315, 0.05584125343267315, 0.05584125343267315, 0.05584125343267315, 0.05584125343267315, 0.05584125343267315, 0.05584125343267315, 0.05584125343267315, 0.05584125343267315, 0.05584125343267315, 0.05584125343267315, 0.05584125343267315, 0.05584125343267315, 0.05584125343267315, 0.05584125343267315, 0.05609629977440695, 0.05609629977440695, 0.05609629977440695, 0.05609629977440695, 0.05609629977440695, 0.05609629977440695, 0.05609629977440695, 0.05609629977440695, 0.05609629977440695, 0.05609629977440695, 0.05609629977440695, 0.05609629977440695, 0.05609629977440695, 0.05609629977440695, 0.05609629977440695, 0.05609629977440695, 0.05609629977440695, 0.05609629977440695, 0.05609629977440695, 0.05609629977440695, 0.05545761646793095, 0.05545761646793095, 0.05545761646793095, 0.05545761646793095, 0.05545761646793095, 0.05545761646793095, 0.05545761646793095, 0.05545761646793095, 0.05545761646793095, 0.05545761646793095, 0.05545761646793095, 0.05545761646793095, 0.05545761646793095, 0.05545761646793095, 0.05545761646793095, 0.05545761646793095, 0.05545761646793095, 0.05545761646793095, 0.05545761646793095, 0.05545761646793095, 0.05569095821516668, 0.05569095821516668, 0.05569095821516668, 0.05569095821516668, 0.05569095821516668, 0.05569095821516668, 0.05569095821516668, 0.05569095821516668, 0.05569095821516668, 0.05569095821516668, 0.05569095821516668, 0.05569095821516668, 0.05569095821516668, 0.05569095821516668, 0.05569095821516668, 0.05569095821516668, 0.05569095821516668, 0.05569095821516668, 0.05569095821516668, 0.05569095821516668, 0.055354705265609684, 0.055354705265609684, 0.055354705265609684, 0.055354705265609684, 0.055354705265609684, 0.055354705265609684, 0.055354705265609684, 0.055354705265609684, 0.055354705265609684, 0.055354705265609684, 0.055354705265609684, 0.055354705265609684, 0.055354705265609684, 0.055354705265609684, 0.055354705265609684, 0.055354705265609684, 0.055354705265609684, 0.055354705265609684, 0.055354705265609684, 0.055354705265609684, 0.05648580469033266, 0.05648580469033266, 0.05648580469033266, 0.05648580469033266, 0.05648580469033266, 0.05648580469033266, 0.05648580469033266, 0.05648580469033266, 0.05648580469033266, 0.05648580469033266, 0.05648580469033266, 0.05648580469033266, 0.05648580469033266, 0.05648580469033266, 0.05648580469033266, 0.05648580469033266, 0.05648580469033266, 0.05648580469033266, 0.05648580469033266, 0.05648580469033266, 0.0566991803918134, 0.0566991803918134, 0.0566991803918134, 0.0566991803918134, 0.0566991803918134, 0.0566991803918134, 0.0566991803918134, 0.0566991803918134, 0.0566991803918134, 0.0566991803918134, 0.0566991803918134, 0.0566991803918134, 0.0566991803918134, 0.0566991803918134, 0.0566991803918134, 0.0566991803918134, 0.0566991803918134, 0.0566991803918134, 0.0566991803918134, 0.0566991803918134, 0.05613203749330355, 0.05613203749330355, 0.05613203749330355, 0.05613203749330355, 0.05613203749330355, 0.05613203749330355, 0.05613203749330355, 0.05613203749330355, 0.05613203749330355, 0.05613203749330355, 0.05613203749330355, 0.05613203749330355, 0.05613203749330355, 0.05613203749330355, 0.05613203749330355, 0.05613203749330355, 0.05613203749330355, 0.05613203749330355, 0.05613203749330355, 0.05613203749330355, 0.05710519270660784, 0.05710519270660784, 0.05710519270660784, 0.05710519270660784, 0.05710519270660784, 0.05710519270660784, 0.05710519270660784, 0.05710519270660784, 0.05710519270660784, 0.05710519270660784, 0.05710519270660784, 0.05710519270660784, 0.05710519270660784, 0.05710519270660784, 0.05710519270660784, 0.05710519270660784, 0.05710519270660784, 0.05710519270660784, 0.05710519270660784, 0.05710519270660784, 0.05642982938491398, 0.05642982938491398, 0.05642982938491398, 0.05642982938491398, 0.05642982938491398, 0.05642982938491398, 0.05642982938491398, 0.05642982938491398, 0.05642982938491398, 0.05642982938491398, 0.05642982938491398, 0.05642982938491398, 0.05642982938491398, 0.05642982938491398, 0.05642982938491398, 0.05642982938491398, 0.05642982938491398, 0.05642982938491398, 0.05642982938491398, 0.05642982938491398, 0.056331371716714096, 0.056331371716714096, 0.056331371716714096, 0.056331371716714096, 0.056331371716714096, 0.056331371716714096, 0.056331371716714096, 0.056331371716714096, 0.056331371716714096, 0.056331371716714096, 0.056331371716714096, 0.056331371716714096, 0.056331371716714096, 0.056331371716714096, 0.056331371716714096, 0.056331371716714096, 0.056331371716714096, 0.056331371716714096, 0.056331371716714096, 0.056331371716714096, 0.056493003892750665, 0.056493003892750665, 0.056493003892750665, 0.056493003892750665, 0.056493003892750665, 0.056493003892750665, 0.056493003892750665, 0.056493003892750665, 0.056493003892750665, 0.056493003892750665, 0.056493003892750665, 0.056493003892750665, 0.056493003892750665, 0.056493003892750665, 0.056493003892750665, 0.056493003892750665, 0.056493003892750665, 0.056493003892750665, 0.056493003892750665, 0.056493003892750665, 0.055716038931239116, 0.055716038931239116, 0.055716038931239116, 0.055716038931239116, 0.055716038931239116, 0.055716038931239116, 0.055716038931239116, 0.055716038931239116, 0.055716038931239116, 0.055716038931239116, 0.055716038931239116, 0.055716038931239116, 0.055716038931239116, 0.055716038931239116, 0.055716038931239116, 0.055716038931239116, 0.055716038931239116, 0.055716038931239116, 0.055716038931239116, 0.055716038931239116, 0.056188401053157304, 0.056188401053157304, 0.056188401053157304, 0.056188401053157304, 0.056188401053157304, 0.056188401053157304, 0.056188401053157304, 0.056188401053157304, 0.056188401053157304, 0.056188401053157304, 0.056188401053157304, 0.056188401053157304, 0.056188401053157304, 0.056188401053157304, 0.056188401053157304, 0.056188401053157304, 0.056188401053157304, 0.056188401053157304, 0.056188401053157304, 0.056188401053157304, 0.05521015434640335, 0.05521015434640335, 0.05521015434640335, 0.05521015434640335, 0.05521015434640335, 0.05521015434640335, 0.05521015434640335, 0.05521015434640335, 0.05521015434640335, 0.05521015434640335, 0.05521015434640335, 0.05521015434640335, 0.05521015434640335, 0.05521015434640335, 0.05521015434640335, 0.05521015434640335, 0.05521015434640335, 0.05521015434640335, 0.05521015434640335, 0.05521015434640335, 0.05533784080436833, 0.05533784080436833, 0.05533784080436833, 0.05533784080436833, 0.05533784080436833, 0.05533784080436833, 0.05533784080436833, 0.05533784080436833, 0.05533784080436833, 0.05533784080436833, 0.05533784080436833, 0.05533784080436833, 0.05533784080436833, 0.05533784080436833, 0.05533784080436833, 0.05533784080436833, 0.05533784080436833, 0.05533784080436833, 0.05533784080436833, 0.05533784080436833, 0.05578353904614961, 0.05578353904614961, 0.05578353904614961, 0.05578353904614961, 0.05578353904614961, 0.05578353904614961, 0.05578353904614961, 0.05578353904614961, 0.05578353904614961, 0.05578353904614961, 0.05578353904614961, 0.05578353904614961, 0.05578353904614961, 0.05578353904614961, 0.05578353904614961, 0.05578353904614961, 0.05578353904614961, 0.05578353904614961, 0.05578353904614961, 0.05578353904614961, 0.05554869929312238, 0.05554869929312238, 0.05554869929312238, 0.05554869929312238, 0.05554869929312238, 0.05554869929312238, 0.05554869929312238, 0.05554869929312238, 0.05554869929312238, 0.05554869929312238, 0.05554869929312238, 0.05554869929312238, 0.05554869929312238, 0.05554869929312238, 0.05554869929312238, 0.05554869929312238, 0.05554869929312238, 0.05554869929312238, 0.05554869929312238, 0.05554869929312238, 0.05584408170709725, 0.05584408170709725, 0.05584408170709725, 0.05584408170709725, 0.05584408170709725, 0.05584408170709725, 0.05584408170709725, 0.05584408170709725, 0.05584408170709725, 0.05584408170709725, 0.05584408170709725, 0.05584408170709725, 0.05584408170709725, 0.05584408170709725, 0.05584408170709725, 0.05584408170709725, 0.05584408170709725, 0.05584408170709725, 0.05584408170709725, 0.05584408170709725, 0.05652076242749987, 0.05652076242749987, 0.05652076242749987, 0.05652076242749987, 0.05652076242749987, 0.05652076242749987, 0.05652076242749987, 0.05652076242749987, 0.05652076242749987, 0.05652076242749987, 0.05652076242749987, 0.05652076242749987, 0.05652076242749987, 0.05652076242749987, 0.05652076242749987, 0.05652076242749987, 0.05652076242749987, 0.05652076242749987, 0.05652076242749987, 0.05652076242749987, 0.05552559128767958, 0.05552559128767958, 0.05552559128767958, 0.05552559128767958, 0.05552559128767958, 0.05552559128767958, 0.05552559128767958, 0.05552559128767958, 0.05552559128767958, 0.05552559128767958, 0.05552559128767958, 0.05552559128767958, 0.05552559128767958, 0.05552559128767958, 0.05552559128767958, 0.05552559128767958, 0.05552559128767958, 0.05552559128767958, 0.05552559128767958, 0.05552559128767958, 0.05549130695243268, 0.05549130695243268, 0.05549130695243268, 0.05549130695243268, 0.05549130695243268, 0.05549130695243268, 0.05549130695243268, 0.05549130695243268, 0.05549130695243268, 0.05549130695243268, 0.05549130695243268, 0.05549130695243268, 0.05549130695243268, 0.05549130695243268, 0.05549130695243268, 0.05549130695243268, 0.05549130695243268, 0.05549130695243268, 0.05549130695243268, 0.05549130695243268, 0.05686858857064689, 0.05686858857064689, 0.05686858857064689, 0.05686858857064689, 0.05686858857064689, 0.05686858857064689, 0.05686858857064689, 0.05686858857064689, 0.05686858857064689, 0.05686858857064689, 0.05686858857064689, 0.05686858857064689, 0.05686858857064689, 0.05686858857064689, 0.05686858857064689, 0.05686858857064689, 0.05686858857064689, 0.05686858857064689, 0.05686858857064689, 0.05686858857064689, 0.05577451745885531, 0.05577451745885531, 0.05577451745885531, 0.05577451745885531, 0.05577451745885531, 0.05577451745885531, 0.05577451745885531, 0.05577451745885531, 0.05577451745885531, 0.05577451745885531, 0.05577451745885531, 0.05577451745885531, 0.05577451745885531, 0.05577451745885531, 0.05577451745885531, 0.05577451745885531, 0.05577451745885531, 0.05577451745885531, 0.05577451745885531, 0.05577451745885531], \"Term\": [\"academic\", \"academic\", \"academic\", \"academic\", \"academic\", \"academic\", \"academic\", \"academic\", \"academic\", \"academic\", \"academic\", \"academic\", \"academic\", \"academic\", \"academic\", \"academic\", \"academic\", \"academic\", \"academic\", \"academic\", \"access\", \"access\", \"access\", \"access\", \"access\", \"access\", \"access\", \"access\", \"access\", \"access\", \"access\", \"access\", \"access\", \"access\", \"access\", \"access\", \"access\", \"access\", \"access\", \"access\", \"across\", \"across\", \"across\", \"across\", \"across\", \"across\", \"across\", \"across\", \"across\", \"across\", \"across\", \"across\", \"across\", \"across\", \"across\", \"across\", \"across\", \"across\", \"across\", \"across\", \"actor\", \"actor\", \"actor\", \"actor\", \"actor\", \"actor\", \"actor\", \"actor\", \"actor\", \"actor\", \"actor\", \"actor\", \"actor\", \"actor\", \"actor\", \"actor\", \"actor\", \"actor\", \"actor\", \"actor\", \"actress\", \"actress\", \"actress\", \"actress\", \"actress\", \"actress\", \"actress\", \"actress\", \"actress\", \"actress\", \"actress\", \"actress\", \"actress\", \"actress\", \"actress\", \"actress\", \"actress\", \"actress\", \"actress\", \"actress\", \"administrative\", \"administrative\", \"administrative\", \"administrative\", \"administrative\", \"administrative\", \"administrative\", \"administrative\", \"administrative\", \"administrative\", \"administrative\", \"administrative\", \"administrative\", \"administrative\", \"administrative\", \"administrative\", \"administrative\", \"administrative\", \"administrative\", \"administrative\", \"adopted\", \"adopted\", \"adopted\", \"adopted\", \"adopted\", \"adopted\", \"adopted\", \"adopted\", \"adopted\", \"adopted\", \"adopted\", \"adopted\", \"adopted\", \"adopted\", \"adopted\", \"adopted\", \"adopted\", \"adopted\", \"adopted\", \"adopted\", \"adults\", \"adults\", \"adults\", \"adults\", \"adults\", \"adults\", \"adults\", \"adults\", \"adults\", \"adults\", \"adults\", \"adults\", \"adults\", \"adults\", \"adults\", \"adults\", \"adults\", \"adults\", \"adults\", \"adults\", \"agency\", \"agency\", \"agency\", \"agency\", \"agency\", \"agency\", \"agency\", \"agency\", \"agency\", \"agency\", \"agency\", \"agency\", \"agency\", \"agency\", \"agency\", \"agency\", \"agency\", \"agency\", \"agency\", \"agency\", \"air\", \"air\", \"air\", \"air\", \"air\", \"air\", \"air\", \"air\", \"air\", \"air\", \"air\", \"air\", \"air\", \"air\", \"air\", \"air\", \"air\", \"air\", \"air\", \"air\", \"aired\", \"aired\", \"aired\", \"aired\", \"aired\", \"aired\", \"aired\", \"aired\", \"aired\", \"aired\", \"aired\", \"aired\", \"aired\", \"aired\", \"aired\", \"aired\", \"aired\", \"aired\", \"aired\", \"aired\", \"airport\", \"airport\", \"airport\", \"airport\", \"airport\", \"airport\", \"airport\", \"airport\", \"airport\", \"airport\", \"airport\", \"airport\", \"airport\", \"airport\", \"airport\", \"airport\", \"airport\", \"airport\", \"airport\", \"airport\", \"album\", \"album\", \"album\", \"album\", \"album\", \"album\", \"album\", \"album\", \"album\", \"album\", \"album\", \"album\", \"album\", \"album\", \"album\", \"album\", \"album\", \"album\", \"album\", \"album\", \"albums\", \"albums\", \"albums\", \"albums\", \"albums\", \"albums\", \"albums\", \"albums\", \"albums\", \"albums\", \"albums\", \"albums\", \"albums\", \"albums\", \"albums\", \"albums\", \"albums\", \"albums\", \"albums\", \"albums\", \"alfred\", \"alfred\", \"alfred\", \"alfred\", \"alfred\", \"alfred\", \"alfred\", \"alfred\", \"alfred\", \"alfred\", \"alfred\", \"alfred\", \"alfred\", \"alfred\", \"alfred\", \"alfred\", \"alfred\", \"alfred\", \"alfred\", \"alfred\", \"along\", \"along\", \"along\", \"along\", \"along\", \"along\", \"along\", \"along\", \"along\", \"along\", \"along\", \"along\", \"along\", \"along\", \"along\", \"along\", \"along\", \"along\", \"along\", \"along\", \"also\", \"also\", \"also\", \"also\", \"also\", \"also\", \"also\", \"also\", \"also\", \"also\", \"also\", \"also\", \"also\", \"also\", \"also\", \"also\", \"also\", \"also\", \"also\", \"also\", \"american\", \"american\", \"american\", \"american\", \"american\", \"american\", \"american\", \"american\", \"american\", \"american\", \"american\", \"american\", \"american\", \"american\", \"american\", \"american\", \"american\", \"american\", \"american\", \"american\", \"annual\", \"annual\", \"annual\", \"annual\", \"annual\", \"annual\", \"annual\", \"annual\", \"annual\", \"annual\", \"annual\", \"annual\", \"annual\", \"annual\", \"annual\", \"annual\", \"annual\", \"annual\", \"annual\", \"annual\", \"antarctic\", \"antarctic\", \"antarctic\", \"antarctic\", \"antarctic\", \"antarctic\", \"antarctic\", \"antarctic\", \"antarctic\", \"antarctic\", \"antarctic\", \"antarctic\", \"antarctic\", \"antarctic\", \"antarctic\", \"antarctic\", \"antarctic\", \"antarctic\", \"antarctic\", \"antarctic\", \"anti\", \"anti\", \"anti\", \"anti\", \"anti\", \"anti\", \"anti\", \"anti\", \"anti\", \"anti\", \"anti\", \"anti\", \"anti\", \"anti\", \"anti\", \"anti\", \"anti\", \"anti\", \"anti\", \"anti\", \"appeared\", \"appeared\", \"appeared\", \"appeared\", \"appeared\", \"appeared\", \"appeared\", \"appeared\", \"appeared\", \"appeared\", \"appeared\", \"appeared\", \"appeared\", \"appeared\", \"appeared\", \"appeared\", \"appeared\", \"appeared\", \"appeared\", \"appeared\", \"appointed\", \"appointed\", \"appointed\", \"appointed\", \"appointed\", \"appointed\", \"appointed\", \"appointed\", \"appointed\", \"appointed\", \"appointed\", \"appointed\", \"appointed\", \"appointed\", \"appointed\", \"appointed\", \"appointed\", \"appointed\", \"appointed\", \"appointed\", \"approximately\", \"approximately\", \"approximately\", \"approximately\", \"approximately\", \"approximately\", \"approximately\", \"approximately\", \"approximately\", \"approximately\", \"approximately\", \"approximately\", \"approximately\", \"approximately\", \"approximately\", \"approximately\", \"approximately\", \"approximately\", \"approximately\", \"approximately\", \"april\", \"april\", \"april\", \"april\", \"april\", \"april\", \"april\", \"april\", \"april\", \"april\", \"april\", \"april\", \"april\", \"april\", \"april\", \"april\", \"april\", \"april\", \"april\", \"april\", \"area\", \"area\", \"area\", \"area\", \"area\", \"area\", \"area\", \"area\", \"area\", \"area\", \"area\", \"area\", \"area\", \"area\", \"area\", \"area\", \"area\", \"area\", \"area\", \"area\", \"argentina\", \"argentina\", \"argentina\", \"argentina\", \"argentina\", \"argentina\", \"argentina\", \"argentina\", \"argentina\", \"argentina\", \"argentina\", \"argentina\", \"argentina\", \"argentina\", \"argentina\", \"argentina\", \"argentina\", \"argentina\", \"argentina\", \"argentina\", \"army\", \"army\", \"army\", \"army\", \"army\", \"army\", \"army\", \"army\", \"army\", \"army\", \"army\", \"army\", \"army\", \"army\", \"army\", \"army\", \"army\", \"army\", \"army\", \"army\", \"arthur\", \"arthur\", \"arthur\", \"arthur\", \"arthur\", \"arthur\", \"arthur\", \"arthur\", \"arthur\", \"arthur\", \"arthur\", \"arthur\", \"arthur\", \"arthur\", \"arthur\", \"arthur\", \"arthur\", \"arthur\", \"arthur\", \"arthur\", \"artist\", \"artist\", \"artist\", \"artist\", \"artist\", \"artist\", \"artist\", \"artist\", \"artist\", \"artist\", \"artist\", \"artist\", \"artist\", \"artist\", \"artist\", \"artist\", \"artist\", \"artist\", \"artist\", \"artist\", \"athlete\", \"athlete\", \"athlete\", \"athlete\", \"athlete\", \"athlete\", \"athlete\", \"athlete\", \"athlete\", \"athlete\", \"athlete\", \"athlete\", \"athlete\", \"athlete\", \"athlete\", \"athlete\", \"athlete\", \"athlete\", \"athlete\", \"athlete\", \"august\", \"august\", \"august\", \"august\", \"august\", \"august\", \"august\", \"august\", \"august\", \"august\", \"august\", \"august\", \"august\", \"august\", \"august\", \"august\", \"august\", \"august\", \"august\", \"august\", \"australia\", \"australia\", \"australia\", \"australia\", \"australia\", \"australia\", \"australia\", \"australia\", \"australia\", \"australia\", \"australia\", \"australia\", \"australia\", \"australia\", \"australia\", \"australia\", \"australia\", \"australia\", \"australia\", \"australia\", \"australian\", \"australian\", \"australian\", \"australian\", \"australian\", \"australian\", \"australian\", \"australian\", \"australian\", \"australian\", \"australian\", \"australian\", \"australian\", \"australian\", \"australian\", \"australian\", \"australian\", \"australian\", \"australian\", \"australian\", \"author\", \"author\", \"author\", \"author\", \"author\", \"author\", \"author\", \"author\", \"author\", \"author\", \"author\", \"author\", \"author\", \"author\", \"author\", \"author\", \"author\", \"author\", \"author\", \"author\", \"award\", \"award\", \"award\", \"award\", \"award\", \"award\", \"award\", \"award\", \"award\", \"award\", \"award\", \"award\", \"award\", \"award\", \"award\", \"award\", \"award\", \"award\", \"award\", \"award\", \"awarded\", \"awarded\", \"awarded\", \"awarded\", \"awarded\", \"awarded\", \"awarded\", \"awarded\", \"awarded\", \"awarded\", \"awarded\", \"awarded\", \"awarded\", \"awarded\", \"awarded\", \"awarded\", \"awarded\", \"awarded\", \"awarded\", \"awarded\", \"awards\", \"awards\", \"awards\", \"awards\", \"awards\", \"awards\", \"awards\", \"awards\", \"awards\", \"awards\", \"awards\", \"awards\", \"awards\", \"awards\", \"awards\", \"awards\", \"awards\", \"awards\", \"awards\", \"awards\", \"band\", \"band\", \"band\", \"band\", \"band\", \"band\", \"band\", \"band\", \"band\", \"band\", \"band\", \"band\", \"band\", \"band\", \"band\", \"band\", \"band\", \"band\", \"band\", \"band\", \"baseball\", \"baseball\", \"baseball\", \"baseball\", \"baseball\", \"baseball\", \"baseball\", \"baseball\", \"baseball\", \"baseball\", \"baseball\", \"baseball\", \"baseball\", \"baseball\", \"baseball\", \"baseball\", \"baseball\", \"baseball\", \"baseball\", \"baseball\", \"based\", \"based\", \"based\", \"based\", \"based\", \"based\", \"based\", \"based\", \"based\", \"based\", \"based\", \"based\", \"based\", \"based\", \"based\", \"based\", \"based\", \"based\", \"based\", \"based\", \"basketball\", \"basketball\", \"basketball\", \"basketball\", \"basketball\", \"basketball\", \"basketball\", \"basketball\", \"basketball\", \"basketball\", \"basketball\", \"basketball\", \"basketball\", \"basketball\", \"basketball\", \"basketball\", \"basketball\", \"basketball\", \"basketball\", \"basketball\", \"battle\", \"battle\", \"battle\", \"battle\", \"battle\", \"battle\", \"battle\", \"battle\", \"battle\", \"battle\", \"battle\", \"battle\", \"battle\", \"battle\", \"battle\", \"battle\", \"battle\", \"battle\", \"battle\", \"battle\", \"became\", \"became\", \"became\", \"became\", \"became\", \"became\", \"became\", \"became\", \"became\", \"became\", \"became\", \"became\", \"became\", \"became\", \"became\", \"became\", \"became\", \"became\", \"became\", \"became\", \"began\", \"began\", \"began\", \"began\", \"began\", \"began\", \"began\", \"began\", \"began\", \"began\", \"began\", \"began\", \"began\", \"began\", \"began\", \"began\", \"began\", \"began\", \"began\", \"began\", \"belize\", \"belize\", \"belize\", \"belize\", \"belize\", \"belize\", \"belize\", \"belize\", \"belize\", \"belize\", \"belize\", \"belize\", \"belize\", \"belize\", \"belize\", \"belize\", \"belize\", \"belize\", \"belize\", \"belize\", \"bell\", \"bell\", \"bell\", \"bell\", \"bell\", \"bell\", \"bell\", \"bell\", \"bell\", \"bell\", \"bell\", \"bell\", \"bell\", \"bell\", \"bell\", \"bell\", \"bell\", \"bell\", \"bell\", \"bell\", \"belonging\", \"belonging\", \"belonging\", \"belonging\", \"belonging\", \"belonging\", \"belonging\", \"belonging\", \"belonging\", \"belonging\", \"belonging\", \"belonging\", \"belonging\", \"belonging\", \"belonging\", \"belonging\", \"belonging\", \"belonging\", \"belonging\", \"belonging\", \"best\", \"best\", \"best\", \"best\", \"best\", \"best\", \"best\", \"best\", \"best\", \"best\", \"best\", \"best\", \"best\", \"best\", \"best\", \"best\", \"best\", \"best\", \"best\", \"best\", \"book\", \"book\", \"book\", \"book\", \"book\", \"book\", \"book\", \"book\", \"book\", \"book\", \"book\", \"book\", \"book\", \"book\", \"book\", \"book\", \"book\", \"book\", \"book\", \"book\", \"born\", \"born\", \"born\", \"born\", \"born\", \"born\", \"born\", \"born\", \"born\", \"born\", \"born\", \"born\", \"born\", \"born\", \"born\", \"born\", \"born\", \"born\", \"born\", \"born\", \"botanist\", \"botanist\", \"botanist\", \"botanist\", \"botanist\", \"botanist\", \"botanist\", \"botanist\", \"botanist\", \"botanist\", \"botanist\", \"botanist\", \"botanist\", \"botanist\", \"botanist\", \"botanist\", \"botanist\", \"botanist\", \"botanist\", \"botanist\", \"bridge\", \"bridge\", \"bridge\", \"bridge\", \"bridge\", \"bridge\", \"bridge\", \"bridge\", \"bridge\", \"bridge\", \"bridge\", \"bridge\", \"bridge\", \"bridge\", \"bridge\", \"bridge\", \"bridge\", \"bridge\", \"bridge\", \"bridge\", \"british\", \"british\", \"british\", \"british\", \"british\", \"british\", \"british\", \"british\", \"british\", \"british\", \"british\", \"british\", \"british\", \"british\", \"british\", \"british\", \"british\", \"british\", \"british\", \"british\", \"brother\", \"brother\", \"brother\", \"brother\", \"brother\", \"brother\", \"brother\", \"brother\", \"brother\", \"brother\", \"brother\", \"brother\", \"brother\", \"brother\", \"brother\", \"brother\", \"brother\", \"brother\", \"brother\", \"brother\", \"brown\", \"brown\", \"brown\", \"brown\", \"brown\", \"brown\", \"brown\", \"brown\", \"brown\", \"brown\", \"brown\", \"brown\", \"brown\", \"brown\", \"brown\", \"brown\", \"brown\", \"brown\", \"brown\", \"brown\", \"building\", \"building\", \"building\", \"building\", \"building\", \"building\", \"building\", \"building\", \"building\", \"building\", \"building\", \"building\", \"building\", \"building\", \"building\", \"building\", \"building\", \"building\", \"building\", \"building\", \"built\", \"built\", \"built\", \"built\", \"built\", \"built\", \"built\", \"built\", \"built\", \"built\", \"built\", \"built\", \"built\", \"built\", \"built\", \"built\", \"built\", \"built\", \"built\", \"built\", \"butterfly\", \"butterfly\", \"butterfly\", \"butterfly\", \"butterfly\", \"butterfly\", \"butterfly\", \"butterfly\", \"butterfly\", \"butterfly\", \"butterfly\", \"butterfly\", \"butterfly\", \"butterfly\", \"butterfly\", \"butterfly\", \"butterfly\", \"butterfly\", \"butterfly\", \"butterfly\", \"calendar\", \"calendar\", \"calendar\", \"calendar\", \"calendar\", \"calendar\", \"calendar\", \"calendar\", \"calendar\", \"calendar\", \"calendar\", \"calendar\", \"calendar\", \"calendar\", \"calendar\", \"calendar\", \"calendar\", \"calendar\", \"calendar\", \"calendar\", \"california\", \"california\", \"california\", \"california\", \"california\", \"california\", \"california\", \"california\", \"california\", \"california\", \"california\", \"california\", \"california\", \"california\", \"california\", \"california\", \"california\", \"california\", \"california\", \"california\", \"capital\", \"capital\", \"capital\", \"capital\", \"capital\", \"capital\", \"capital\", \"capital\", \"capital\", \"capital\", \"capital\", \"capital\", \"capital\", \"capital\", \"capital\", \"capital\", \"capital\", \"capital\", \"capital\", \"capital\", \"career\", \"career\", \"career\", \"career\", \"career\", \"career\", \"career\", \"career\", \"career\", \"career\", \"career\", \"career\", \"career\", \"career\", \"career\", \"career\", \"career\", \"career\", \"career\", \"career\", \"carl\", \"carl\", \"carl\", \"carl\", \"carl\", \"carl\", \"carl\", \"carl\", \"carl\", \"carl\", \"carl\", \"carl\", \"carl\", \"carl\", \"carl\", \"carl\", \"carl\", \"carl\", \"carl\", \"carl\", \"carolina\", \"carolina\", \"carolina\", \"carolina\", \"carolina\", \"carolina\", \"carolina\", \"carolina\", \"carolina\", \"carolina\", \"carolina\", \"carolina\", \"carolina\", \"carolina\", \"carolina\", \"carolina\", \"carolina\", \"carolina\", \"carolina\", \"carolina\", \"census\", \"census\", \"census\", \"census\", \"census\", \"census\", \"census\", \"census\", \"census\", \"census\", \"census\", \"census\", \"census\", \"census\", \"census\", \"census\", \"census\", \"census\", \"census\", \"census\", \"center\", \"center\", \"center\", \"center\", \"center\", \"center\", \"center\", \"center\", \"center\", \"center\", \"center\", \"center\", \"center\", \"center\", \"center\", \"center\", \"center\", \"center\", \"center\", \"center\", \"central\", \"central\", \"central\", \"central\", \"central\", \"central\", \"central\", \"central\", \"central\", \"central\", \"central\", \"central\", \"central\", \"central\", \"central\", \"central\", \"central\", \"central\", \"central\", \"central\", \"century\", \"century\", \"century\", \"century\", \"century\", \"century\", \"century\", \"century\", \"century\", \"century\", \"century\", \"century\", \"century\", \"century\", \"century\", \"century\", \"century\", \"century\", \"century\", \"century\", \"certain\", \"certain\", \"certain\", \"certain\", \"certain\", \"certain\", \"certain\", \"certain\", \"certain\", \"certain\", \"certain\", \"certain\", \"certain\", \"certain\", \"certain\", \"certain\", \"certain\", \"certain\", \"certain\", \"certain\", \"chairman\", \"chairman\", \"chairman\", \"chairman\", \"chairman\", \"chairman\", \"chairman\", \"chairman\", \"chairman\", \"chairman\", \"chairman\", \"chairman\", \"chairman\", \"chairman\", \"chairman\", \"chairman\", \"chairman\", \"chairman\", \"chairman\", \"chairman\", \"champion\", \"champion\", \"champion\", \"champion\", \"champion\", \"champion\", \"champion\", \"champion\", \"champion\", \"champion\", \"champion\", \"champion\", \"champion\", \"champion\", \"champion\", \"champion\", \"champion\", \"champion\", \"champion\", \"champion\", \"champions\", \"champions\", \"champions\", \"champions\", \"champions\", \"champions\", \"champions\", \"champions\", \"champions\", \"champions\", \"champions\", \"champions\", \"champions\", \"champions\", \"champions\", \"champions\", \"champions\", \"champions\", \"champions\", \"champions\", \"championship\", \"championship\", \"championship\", \"championship\", \"championship\", \"championship\", \"championship\", \"championship\", \"championship\", \"championship\", \"championship\", \"championship\", \"championship\", \"championship\", \"championship\", \"championship\", \"championship\", \"championship\", \"championship\", \"championship\", \"championships\", \"championships\", \"championships\", \"championships\", \"championships\", \"championships\", \"championships\", \"championships\", \"championships\", \"championships\", \"championships\", \"championships\", \"championships\", \"championships\", \"championships\", \"championships\", \"championships\", \"championships\", \"championships\", \"championships\", \"channel\", \"channel\", \"channel\", \"channel\", \"channel\", \"channel\", \"channel\", \"channel\", \"channel\", \"channel\", \"channel\", \"channel\", \"channel\", \"channel\", \"channel\", \"channel\", \"channel\", \"channel\", \"channel\", \"channel\", \"characters\", \"characters\", \"characters\", \"characters\", \"characters\", \"characters\", \"characters\", \"characters\", \"characters\", \"characters\", \"characters\", \"characters\", \"characters\", \"characters\", \"characters\", \"characters\", \"characters\", \"characters\", \"characters\", \"characters\", \"church\", \"church\", \"church\", \"church\", \"church\", \"church\", \"church\", \"church\", \"church\", \"church\", \"church\", \"church\", \"church\", \"church\", \"church\", \"church\", \"church\", \"church\", \"church\", \"church\", \"city\", \"city\", \"city\", \"city\", \"city\", \"city\", \"city\", \"city\", \"city\", \"city\", \"city\", \"city\", \"city\", \"city\", \"city\", \"city\", \"city\", \"city\", \"city\", \"city\", \"classical\", \"classical\", \"classical\", \"classical\", \"classical\", \"classical\", \"classical\", \"classical\", \"classical\", \"classical\", \"classical\", \"classical\", \"classical\", \"classical\", \"classical\", \"classical\", \"classical\", \"classical\", \"classical\", \"classical\", \"club\", \"club\", \"club\", \"club\", \"club\", \"club\", \"club\", \"club\", \"club\", \"club\", \"club\", \"club\", \"club\", \"club\", \"club\", \"club\", \"club\", \"club\", \"club\", \"club\", \"clubs\", \"clubs\", \"clubs\", \"clubs\", \"clubs\", \"clubs\", \"clubs\", \"clubs\", \"clubs\", \"clubs\", \"clubs\", \"clubs\", \"clubs\", \"clubs\", \"clubs\", \"clubs\", \"clubs\", \"clubs\", \"clubs\", \"clubs\", \"coach\", \"coach\", \"coach\", \"coach\", \"coach\", \"coach\", \"coach\", \"coach\", \"coach\", \"coach\", \"coach\", \"coach\", \"coach\", \"coach\", \"coach\", \"coach\", \"coach\", \"coach\", \"coach\", \"coach\", \"coast\", \"coast\", \"coast\", \"coast\", \"coast\", \"coast\", \"coast\", \"coast\", \"coast\", \"coast\", \"coast\", \"coast\", \"coast\", \"coast\", \"coast\", \"coast\", \"coast\", \"coast\", \"coast\", \"coast\", \"coburg\", \"coburg\", \"coburg\", \"coburg\", \"coburg\", \"coburg\", \"coburg\", \"coburg\", \"coburg\", \"coburg\", \"coburg\", \"coburg\", \"coburg\", \"coburg\", \"coburg\", \"coburg\", \"coburg\", \"coburg\", \"coburg\", \"coburg\", \"college\", \"college\", \"college\", \"college\", \"college\", \"college\", \"college\", \"college\", \"college\", \"college\", \"college\", \"college\", \"college\", \"college\", \"college\", \"college\", \"college\", \"college\", \"college\", \"college\", \"columbia\", \"columbia\", \"columbia\", \"columbia\", \"columbia\", \"columbia\", \"columbia\", \"columbia\", \"columbia\", \"columbia\", \"columbia\", \"columbia\", \"columbia\", \"columbia\", \"columbia\", \"columbia\", \"columbia\", \"columbia\", \"columbia\", \"columbia\", \"comic\", \"comic\", \"comic\", \"comic\", \"comic\", \"comic\", \"comic\", \"comic\", \"comic\", \"comic\", \"comic\", \"comic\", \"comic\", \"comic\", \"comic\", \"comic\", \"comic\", \"comic\", \"comic\", \"comic\", \"commissioned\", \"commissioned\", \"commissioned\", \"commissioned\", \"commissioned\", \"commissioned\", \"commissioned\", \"commissioned\", \"commissioned\", \"commissioned\", \"commissioned\", \"commissioned\", \"commissioned\", \"commissioned\", \"commissioned\", \"commissioned\", \"commissioned\", \"commissioned\", \"commissioned\", \"commissioned\", \"common\", \"common\", \"common\", \"common\", \"common\", \"common\", \"common\", \"common\", \"common\", \"common\", \"common\", \"common\", \"common\", \"common\", \"common\", \"common\", \"common\", \"common\", \"common\", \"common\", \"commonly\", \"commonly\", \"commonly\", \"commonly\", \"commonly\", \"commonly\", \"commonly\", \"commonly\", \"commonly\", \"commonly\", \"commonly\", \"commonly\", \"commonly\", \"commonly\", \"commonly\", \"commonly\", \"commonly\", \"commonly\", \"commonly\", \"commonly\", \"community\", \"community\", \"community\", \"community\", \"community\", \"community\", \"community\", \"community\", \"community\", \"community\", \"community\", \"community\", \"community\", \"community\", \"community\", \"community\", \"community\", \"community\", \"community\", \"community\", \"companies\", \"companies\", \"companies\", \"companies\", \"companies\", \"companies\", \"companies\", \"companies\", \"companies\", \"companies\", \"companies\", \"companies\", \"companies\", \"companies\", \"companies\", \"companies\", \"companies\", \"companies\", \"companies\", \"companies\", \"company\", \"company\", \"company\", \"company\", \"company\", \"company\", \"company\", \"company\", \"company\", \"company\", \"company\", \"company\", \"company\", \"company\", \"company\", \"company\", \"company\", \"company\", \"company\", \"company\", \"competed\", \"competed\", \"competed\", \"competed\", \"competed\", \"competed\", \"competed\", \"competed\", \"competed\", \"competed\", \"competed\", \"competed\", \"competed\", \"competed\", \"competed\", \"competed\", \"competed\", \"competed\", \"competed\", \"competed\", \"competition\", \"competition\", \"competition\", \"competition\", \"competition\", \"competition\", \"competition\", \"competition\", \"competition\", \"competition\", \"competition\", \"competition\", \"competition\", \"competition\", \"competition\", \"competition\", \"competition\", \"competition\", \"competition\", \"competition\", \"conditions\", \"conditions\", \"conditions\", \"conditions\", \"conditions\", \"conditions\", \"conditions\", \"conditions\", \"conditions\", \"conditions\", \"conditions\", \"conditions\", \"conditions\", \"conditions\", \"conditions\", \"conditions\", \"conditions\", \"conditions\", \"conditions\", \"conditions\", \"conference\", \"conference\", \"conference\", \"conference\", \"conference\", \"conference\", \"conference\", \"conference\", \"conference\", \"conference\", \"conference\", \"conference\", \"conference\", \"conference\", \"conference\", \"conference\", \"conference\", \"conference\", \"conference\", \"conference\", \"connects\", \"connects\", \"connects\", \"connects\", \"connects\", \"connects\", \"connects\", \"connects\", \"connects\", \"connects\", \"connects\", \"connects\", \"connects\", \"connects\", \"connects\", \"connects\", \"connects\", \"connects\", \"connects\", \"connects\", \"conservative\", \"conservative\", \"conservative\", \"conservative\", \"conservative\", \"conservative\", \"conservative\", \"conservative\", \"conservative\", \"conservative\", \"conservative\", \"conservative\", \"conservative\", \"conservative\", \"conservative\", \"conservative\", \"conservative\", \"conservative\", \"conservative\", \"conservative\", \"constituency\", \"constituency\", \"constituency\", \"constituency\", \"constituency\", \"constituency\", \"constituency\", \"constituency\", \"constituency\", \"constituency\", \"constituency\", \"constituency\", \"constituency\", \"constituency\", \"constituency\", \"constituency\", \"constituency\", \"constituency\", \"constituency\", \"constituency\", \"construction\", \"construction\", \"construction\", \"construction\", \"construction\", \"construction\", \"construction\", \"construction\", \"construction\", \"construction\", \"construction\", \"construction\", \"construction\", \"construction\", \"construction\", \"construction\", \"construction\", \"construction\", \"construction\", \"construction\", \"council\", \"council\", \"council\", \"council\", \"council\", \"council\", \"council\", \"council\", \"council\", \"council\", \"council\", \"council\", \"council\", \"council\", \"council\", \"council\", \"council\", \"council\", \"council\", \"council\", \"county\", \"county\", \"county\", \"county\", \"county\", \"county\", \"county\", \"county\", \"county\", \"county\", \"county\", \"county\", \"county\", \"county\", \"county\", \"county\", \"county\", \"county\", \"county\", \"county\", \"covering\", \"covering\", \"covering\", \"covering\", \"covering\", \"covering\", \"covering\", \"covering\", \"covering\", \"covering\", \"covering\", \"covering\", \"covering\", \"covering\", \"covering\", \"covering\", \"covering\", \"covering\", \"covering\", \"covering\", \"crater\", \"crater\", \"crater\", \"crater\", \"crater\", \"crater\", \"crater\", \"crater\", \"crater\", \"crater\", \"crater\", \"crater\", \"crater\", \"crater\", \"crater\", \"crater\", \"crater\", \"crater\", \"crater\", \"crater\", \"creek\", \"creek\", \"creek\", \"creek\", \"creek\", \"creek\", \"creek\", \"creek\", \"creek\", \"creek\", \"creek\", \"creek\", \"creek\", \"creek\", \"creek\", \"creek\", \"creek\", \"creek\", \"creek\", \"creek\", \"cricket\", \"cricket\", \"cricket\", \"cricket\", \"cricket\", \"cricket\", \"cricket\", \"cricket\", \"cricket\", \"cricket\", \"cricket\", \"cricket\", \"cricket\", \"cricket\", \"cricket\", \"cricket\", \"cricket\", \"cricket\", \"cricket\", \"cricket\", \"cross\", \"cross\", \"cross\", \"cross\", \"cross\", \"cross\", \"cross\", \"cross\", \"cross\", \"cross\", \"cross\", \"cross\", \"cross\", \"cross\", \"cross\", \"cross\", \"cross\", \"cross\", \"cross\", \"cross\", \"cup\", \"cup\", \"cup\", \"cup\", \"cup\", \"cup\", \"cup\", \"cup\", \"cup\", \"cup\", \"cup\", \"cup\", \"cup\", \"cup\", \"cup\", \"cup\", \"cup\", \"cup\", \"cup\", \"cup\", \"currently\", \"currently\", \"currently\", \"currently\", \"currently\", \"currently\", \"currently\", \"currently\", \"currently\", \"currently\", \"currently\", \"currently\", \"currently\", \"currently\", \"currently\", \"currently\", \"currently\", \"currently\", \"currently\", \"currently\", \"dance\", \"dance\", \"dance\", \"dance\", \"dance\", \"dance\", \"dance\", \"dance\", \"dance\", \"dance\", \"dance\", \"dance\", \"dance\", \"dance\", \"dance\", \"dance\", \"dance\", \"dance\", \"dance\", \"dance\", \"data\", \"data\", \"data\", \"data\", \"data\", \"data\", \"data\", \"data\", \"data\", \"data\", \"data\", \"data\", \"data\", \"data\", \"data\", \"data\", \"data\", \"data\", \"data\", \"data\", \"de\", \"de\", \"de\", \"de\", \"de\", \"de\", \"de\", \"de\", \"de\", \"de\", \"de\", \"de\", \"de\", \"de\", \"de\", \"de\", \"de\", \"de\", \"de\", \"de\", \"debut\", \"debut\", \"debut\", \"debut\", \"debut\", \"debut\", \"debut\", \"debut\", \"debut\", \"debut\", \"debut\", \"debut\", \"debut\", \"debut\", \"debut\", \"debut\", \"debut\", \"debut\", \"debut\", \"debut\", \"december\", \"december\", \"december\", \"december\", \"december\", \"december\", \"december\", \"december\", \"december\", \"december\", \"december\", \"december\", \"december\", \"december\", \"december\", \"december\", \"december\", \"december\", \"december\", \"december\", \"democratic\", \"democratic\", \"democratic\", \"democratic\", \"democratic\", \"democratic\", \"democratic\", \"democratic\", \"democratic\", \"democratic\", \"democratic\", \"democratic\", \"democratic\", \"democratic\", \"democratic\", \"democratic\", \"democratic\", \"democratic\", \"democratic\", \"democratic\", \"des\", \"des\", \"des\", \"des\", \"des\", \"des\", \"des\", \"des\", \"des\", \"des\", \"des\", \"des\", \"des\", \"des\", \"des\", \"des\", \"des\", \"des\", \"des\", \"des\", \"designated\", \"designated\", \"designated\", \"designated\", \"designated\", \"designated\", \"designated\", \"designated\", \"designated\", \"designated\", \"designated\", \"designated\", \"designated\", \"designated\", \"designated\", \"designated\", \"designated\", \"designated\", \"designated\", \"designated\", \"designed\", \"designed\", \"designed\", \"designed\", \"designed\", \"designed\", \"designed\", \"designed\", \"designed\", \"designed\", \"designed\", \"designed\", \"designed\", \"designed\", \"designed\", \"designed\", \"designed\", \"designed\", \"designed\", \"designed\", \"developed\", \"developed\", \"developed\", \"developed\", \"developed\", \"developed\", \"developed\", \"developed\", \"developed\", \"developed\", \"developed\", \"developed\", \"developed\", \"developed\", \"developed\", \"developed\", \"developed\", \"developed\", \"developed\", \"developed\", \"died\", \"died\", \"died\", \"died\", \"died\", \"died\", \"died\", \"died\", \"died\", \"died\", \"died\", \"died\", \"died\", \"died\", \"died\", \"died\", \"died\", \"died\", \"died\", \"died\", \"directed\", \"directed\", \"directed\", \"directed\", \"directed\", \"directed\", \"directed\", \"directed\", \"directed\", \"directed\", \"directed\", \"directed\", \"directed\", \"directed\", \"directed\", \"directed\", \"directed\", \"directed\", \"directed\", \"directed\", \"director\", \"director\", \"director\", \"director\", \"director\", \"director\", \"director\", \"director\", \"director\", \"director\", \"director\", \"director\", \"director\", \"director\", \"director\", \"director\", \"director\", \"director\", \"director\", \"director\", \"district\", \"district\", \"district\", \"district\", \"district\", \"district\", \"district\", \"district\", \"district\", \"district\", \"district\", \"district\", \"district\", \"district\", \"district\", \"district\", \"district\", \"district\", \"district\", \"district\", \"division\", \"division\", \"division\", \"division\", \"division\", \"division\", \"division\", \"division\", \"division\", \"division\", \"division\", \"division\", \"division\", \"division\", \"division\", \"division\", \"division\", \"division\", \"division\", \"division\", \"documentary\", \"documentary\", \"documentary\", \"documentary\", \"documentary\", \"documentary\", \"documentary\", \"documentary\", \"documentary\", \"documentary\", \"documentary\", \"documentary\", \"documentary\", \"documentary\", \"documentary\", \"documentary\", \"documentary\", \"documentary\", \"documentary\", \"documentary\", \"draft\", \"draft\", \"draft\", \"draft\", \"draft\", \"draft\", \"draft\", \"draft\", \"draft\", \"draft\", \"draft\", \"draft\", \"draft\", \"draft\", \"draft\", \"draft\", \"draft\", \"draft\", \"draft\", \"draft\", \"drafted\", \"drafted\", \"drafted\", \"drafted\", \"drafted\", \"drafted\", \"drafted\", \"drafted\", \"drafted\", \"drafted\", \"drafted\", \"drafted\", \"drafted\", \"drafted\", \"drafted\", \"drafted\", \"drafted\", \"drafted\", \"drafted\", \"drafted\", \"drama\", \"drama\", \"drama\", \"drama\", \"drama\", \"drama\", \"drama\", \"drama\", \"drama\", \"drama\", \"drama\", \"drama\", \"drama\", \"drama\", \"drama\", \"drama\", \"drama\", \"drama\", \"drama\", \"drama\", \"east\", \"east\", \"east\", \"east\", \"east\", \"east\", \"east\", \"east\", \"east\", \"east\", \"east\", \"east\", \"east\", \"east\", \"east\", \"east\", \"east\", \"east\", \"east\", \"east\", \"eastern\", \"eastern\", \"eastern\", \"eastern\", \"eastern\", \"eastern\", \"eastern\", \"eastern\", \"eastern\", \"eastern\", \"eastern\", \"eastern\", \"eastern\", \"eastern\", \"eastern\", \"eastern\", \"eastern\", \"eastern\", \"eastern\", \"eastern\", \"educated\", \"educated\", \"educated\", \"educated\", \"educated\", \"educated\", \"educated\", \"educated\", \"educated\", \"educated\", \"educated\", \"educated\", \"educated\", \"educated\", \"educated\", \"educated\", \"educated\", \"educated\", \"educated\", \"educated\", \"education\", \"education\", \"education\", \"education\", \"education\", \"education\", \"education\", \"education\", \"education\", \"education\", \"education\", \"education\", \"education\", \"education\", \"education\", \"education\", \"education\", \"education\", \"education\", \"education\", \"edward\", \"edward\", \"edward\", \"edward\", \"edward\", \"edward\", \"edward\", \"edward\", \"edward\", \"edward\", \"edward\", \"edward\", \"edward\", \"edward\", \"edward\", \"edward\", \"edward\", \"edward\", \"edward\", \"edward\", \"elected\", \"elected\", \"elected\", \"elected\", \"elected\", \"elected\", \"elected\", \"elected\", \"elected\", \"elected\", \"elected\", \"elected\", \"elected\", \"elected\", \"elected\", \"elected\", \"elected\", \"elected\", \"elected\", \"elected\", \"election\", \"election\", \"election\", \"election\", \"election\", \"election\", \"election\", \"election\", \"election\", \"election\", \"election\", \"election\", \"election\", \"election\", \"election\", \"election\", \"election\", \"election\", \"election\", \"election\", \"elections\", \"elections\", \"elections\", \"elections\", \"elections\", \"elections\", \"elections\", \"elections\", \"elections\", \"elections\", \"elections\", \"elections\", \"elections\", \"elections\", \"elections\", \"elections\", \"elections\", \"elections\", \"elections\", \"elections\", \"ellsworth\", \"ellsworth\", \"ellsworth\", \"ellsworth\", \"ellsworth\", \"ellsworth\", \"ellsworth\", \"ellsworth\", \"ellsworth\", \"ellsworth\", \"ellsworth\", \"ellsworth\", \"ellsworth\", \"ellsworth\", \"ellsworth\", \"ellsworth\", \"ellsworth\", \"ellsworth\", \"ellsworth\", \"ellsworth\", \"england\", \"england\", \"england\", \"england\", \"england\", \"england\", \"england\", \"england\", \"england\", \"england\", \"england\", \"england\", \"england\", \"england\", \"england\", \"england\", \"england\", \"england\", \"england\", \"england\", \"english\", \"english\", \"english\", \"english\", \"english\", \"english\", \"english\", \"english\", \"english\", \"english\", \"english\", \"english\", \"english\", \"english\", \"english\", \"english\", \"english\", \"english\", \"english\", \"english\", \"entrepreneur\", \"entrepreneur\", \"entrepreneur\", \"entrepreneur\", \"entrepreneur\", \"entrepreneur\", \"entrepreneur\", \"entrepreneur\", \"entrepreneur\", \"entrepreneur\", \"entrepreneur\", \"entrepreneur\", \"entrepreneur\", \"entrepreneur\", \"entrepreneur\", \"entrepreneur\", \"entrepreneur\", \"entrepreneur\", \"entrepreneur\", \"entrepreneur\", \"ep\", \"ep\", \"ep\", \"ep\", \"ep\", \"ep\", \"ep\", \"ep\", \"ep\", \"ep\", \"ep\", \"ep\", \"ep\", \"ep\", \"ep\", \"ep\", \"ep\", \"ep\", \"ep\", \"ep\", \"era\", \"era\", \"era\", \"era\", \"era\", \"era\", \"era\", \"era\", \"era\", \"era\", \"era\", \"era\", \"era\", \"era\", \"era\", \"era\", \"era\", \"era\", \"era\", \"era\", \"ethiopia\", \"ethiopia\", \"ethiopia\", \"ethiopia\", \"ethiopia\", \"ethiopia\", \"ethiopia\", \"ethiopia\", \"ethiopia\", \"ethiopia\", \"ethiopia\", \"ethiopia\", \"ethiopia\", \"ethiopia\", \"ethiopia\", \"ethiopia\", \"ethiopia\", \"ethiopia\", \"ethiopia\", \"ethiopia\", \"europe\", \"europe\", \"europe\", \"europe\", \"europe\", \"europe\", \"europe\", \"europe\", \"europe\", \"europe\", \"europe\", \"europe\", \"europe\", \"europe\", \"europe\", \"europe\", \"europe\", \"europe\", \"europe\", \"europe\", \"european\", \"european\", \"european\", \"european\", \"european\", \"european\", \"european\", \"european\", \"european\", \"european\", \"european\", \"european\", \"european\", \"european\", \"european\", \"european\", \"european\", \"european\", \"european\", \"european\", \"event\", \"event\", \"event\", \"event\", \"event\", \"event\", \"event\", \"event\", \"event\", \"event\", \"event\", \"event\", \"event\", \"event\", \"event\", \"event\", \"event\", \"event\", \"event\", \"event\", \"exchange\", \"exchange\", \"exchange\", \"exchange\", \"exchange\", \"exchange\", \"exchange\", \"exchange\", \"exchange\", \"exchange\", \"exchange\", \"exchange\", \"exchange\", \"exchange\", \"exchange\", \"exchange\", \"exchange\", \"exchange\", \"exchange\", \"exchange\", \"expedition\", \"expedition\", \"expedition\", \"expedition\", \"expedition\", \"expedition\", \"expedition\", \"expedition\", \"expedition\", \"expedition\", \"expedition\", \"expedition\", \"expedition\", \"expedition\", \"expedition\", \"expedition\", \"expedition\", \"expedition\", \"expedition\", \"expedition\", \"extinct\", \"extinct\", \"extinct\", \"extinct\", \"extinct\", \"extinct\", \"extinct\", \"extinct\", \"extinct\", \"extinct\", \"extinct\", \"extinct\", \"extinct\", \"extinct\", \"extinct\", \"extinct\", \"extinct\", \"extinct\", \"extinct\", \"extinct\", \"families\", \"families\", \"families\", \"families\", \"families\", \"families\", \"families\", \"families\", \"families\", \"families\", \"families\", \"families\", \"families\", \"families\", \"families\", \"families\", \"families\", \"families\", \"families\", \"families\", \"family\", \"family\", \"family\", \"family\", \"family\", \"family\", \"family\", \"family\", \"family\", \"family\", \"family\", \"family\", \"family\", \"family\", \"family\", \"family\", \"family\", \"family\", \"family\", \"family\", \"fantasy\", \"fantasy\", \"fantasy\", \"fantasy\", \"fantasy\", \"fantasy\", \"fantasy\", \"fantasy\", \"fantasy\", \"fantasy\", \"fantasy\", \"fantasy\", \"fantasy\", \"fantasy\", \"fantasy\", \"fantasy\", \"fantasy\", \"fantasy\", \"fantasy\", \"fantasy\", \"february\", \"february\", \"february\", \"february\", \"february\", \"february\", \"february\", \"february\", \"february\", \"february\", \"february\", \"february\", \"february\", \"february\", \"february\", \"february\", \"february\", \"february\", \"february\", \"february\", \"federal\", \"federal\", \"federal\", \"federal\", \"federal\", \"federal\", \"federal\", \"federal\", \"federal\", \"federal\", \"federal\", \"federal\", \"federal\", \"federal\", \"federal\", \"federal\", \"federal\", \"federal\", \"federal\", \"federal\", \"females\", \"females\", \"females\", \"females\", \"females\", \"females\", \"females\", \"females\", \"females\", \"females\", \"females\", \"females\", \"females\", \"females\", \"females\", \"females\", \"females\", \"females\", \"females\", \"females\", \"film\", \"film\", \"film\", \"film\", \"film\", \"film\", \"film\", \"film\", \"film\", \"film\", \"film\", \"film\", \"film\", \"film\", \"film\", \"film\", \"film\", \"film\", \"film\", \"film\", \"films\", \"films\", \"films\", \"films\", \"films\", \"films\", \"films\", \"films\", \"films\", \"films\", \"films\", \"films\", \"films\", \"films\", \"films\", \"films\", \"films\", \"films\", \"films\", \"films\", \"final\", \"final\", \"final\", \"final\", \"final\", \"final\", \"final\", \"final\", \"final\", \"final\", \"final\", \"final\", \"final\", \"final\", \"final\", \"final\", \"final\", \"final\", \"final\", \"final\", \"firm\", \"firm\", \"firm\", \"firm\", \"firm\", \"firm\", \"firm\", \"firm\", \"firm\", \"firm\", \"firm\", \"firm\", \"firm\", \"firm\", \"firm\", \"firm\", \"firm\", \"firm\", \"firm\", \"firm\", \"flowering\", \"flowering\", \"flowering\", \"flowering\", \"flowering\", \"flowering\", \"flowering\", \"flowering\", \"flowering\", \"flowering\", \"flowering\", \"flowering\", \"flowering\", \"flowering\", \"flowering\", \"flowering\", \"flowering\", \"flowering\", \"flowering\", \"flowering\", \"flowers\", \"flowers\", \"flowers\", \"flowers\", \"flowers\", \"flowers\", \"flowers\", \"flowers\", \"flowers\", \"flowers\", \"flowers\", \"flowers\", \"flowers\", \"flowers\", \"flowers\", \"flowers\", \"flowers\", \"flowers\", \"flowers\", \"flowers\", \"focus\", \"focus\", \"focus\", \"focus\", \"focus\", \"focus\", \"focus\", \"focus\", \"focus\", \"focus\", \"focus\", \"focus\", \"focus\", \"focus\", \"focus\", \"focus\", \"focus\", \"focus\", \"focus\", \"focus\", \"follows\", \"follows\", \"follows\", \"follows\", \"follows\", \"follows\", \"follows\", \"follows\", \"follows\", \"follows\", \"follows\", \"follows\", \"follows\", \"follows\", \"follows\", \"follows\", \"follows\", \"follows\", \"follows\", \"follows\", \"football\", \"football\", \"football\", \"football\", \"football\", \"football\", \"football\", \"football\", \"football\", \"football\", \"football\", \"football\", \"football\", \"football\", \"football\", \"football\", \"football\", \"football\", \"football\", \"football\", \"footballer\", \"footballer\", \"footballer\", \"footballer\", \"footballer\", \"footballer\", \"footballer\", \"footballer\", \"footballer\", \"footballer\", \"footballer\", \"footballer\", \"footballer\", \"footballer\", \"footballer\", \"footballer\", \"footballer\", \"footballer\", \"footballer\", \"footballer\", \"force\", \"force\", \"force\", \"force\", \"force\", \"force\", \"force\", \"force\", \"force\", \"force\", \"force\", \"force\", \"force\", \"force\", \"force\", \"force\", \"force\", \"force\", \"force\", \"force\", \"forewings\", \"forewings\", \"forewings\", \"forewings\", \"forewings\", \"forewings\", \"forewings\", \"forewings\", \"forewings\", \"forewings\", \"forewings\", \"forewings\", \"forewings\", \"forewings\", \"forewings\", \"forewings\", \"forewings\", \"forewings\", \"forewings\", \"forewings\", \"formed\", \"formed\", \"formed\", \"formed\", \"formed\", \"formed\", \"formed\", \"formed\", \"formed\", \"formed\", \"formed\", \"formed\", \"formed\", \"formed\", \"formed\", \"formed\", \"formed\", \"formed\", \"formed\", \"formed\", \"former\", \"former\", \"former\", \"former\", \"former\", \"former\", \"former\", \"former\", \"former\", \"former\", \"former\", \"former\", \"former\", \"former\", \"former\", \"former\", \"former\", \"former\", \"former\", \"former\", \"formerly\", \"formerly\", \"formerly\", \"formerly\", \"formerly\", \"formerly\", \"formerly\", \"formerly\", \"formerly\", \"formerly\", \"formerly\", \"formerly\", \"formerly\", \"formerly\", \"formerly\", \"formerly\", \"formerly\", \"formerly\", \"formerly\", \"formerly\", \"found\", \"found\", \"found\", \"found\", \"found\", \"found\", \"found\", \"found\", \"found\", \"found\", \"found\", \"found\", \"found\", \"found\", \"found\", \"found\", \"found\", \"found\", \"found\", \"found\", \"founded\", \"founded\", \"founded\", \"founded\", \"founded\", \"founded\", \"founded\", \"founded\", \"founded\", \"founded\", \"founded\", \"founded\", \"founded\", \"founded\", \"founded\", \"founded\", \"founded\", \"founded\", \"founded\", \"founded\", \"founding\", \"founding\", \"founding\", \"founding\", \"founding\", \"founding\", \"founding\", \"founding\", \"founding\", \"founding\", \"founding\", \"founding\", \"founding\", \"founding\", \"founding\", \"founding\", \"founding\", \"founding\", \"founding\", \"founding\", \"fourth\", \"fourth\", \"fourth\", \"fourth\", \"fourth\", \"fourth\", \"fourth\", \"fourth\", \"fourth\", \"fourth\", \"fourth\", \"fourth\", \"fourth\", \"fourth\", \"fourth\", \"fourth\", \"fourth\", \"fourth\", \"fourth\", \"fourth\", \"franz\", \"franz\", \"franz\", \"franz\", \"franz\", \"franz\", \"franz\", \"franz\", \"franz\", \"franz\", \"franz\", \"franz\", \"franz\", \"franz\", \"franz\", \"franz\", \"franz\", \"franz\", \"franz\", \"franz\", \"french\", \"french\", \"french\", \"french\", \"french\", \"french\", \"french\", \"french\", \"french\", \"french\", \"french\", \"french\", \"french\", \"french\", \"french\", \"french\", \"french\", \"french\", \"french\", \"french\", \"ft\", \"ft\", \"ft\", \"ft\", \"ft\", \"ft\", \"ft\", \"ft\", \"ft\", \"ft\", \"ft\", \"ft\", \"ft\", \"ft\", \"ft\", \"ft\", \"ft\", \"ft\", \"ft\", \"ft\", \"game\", \"game\", \"game\", \"game\", \"game\", \"game\", \"game\", \"game\", \"game\", \"game\", \"game\", \"game\", \"game\", \"game\", \"game\", \"game\", \"game\", \"game\", \"game\", \"game\", \"games\", \"games\", \"games\", \"games\", \"games\", \"games\", \"games\", \"games\", \"games\", \"games\", \"games\", \"games\", \"games\", \"games\", \"games\", \"games\", \"games\", \"games\", \"games\", \"games\", \"general\", \"general\", \"general\", \"general\", \"general\", \"general\", \"general\", \"general\", \"general\", \"general\", \"general\", \"general\", \"general\", \"general\", \"general\", \"general\", \"general\", \"general\", \"general\", \"general\", \"genus\", \"genus\", \"genus\", \"genus\", \"genus\", \"genus\", \"genus\", \"genus\", \"genus\", \"genus\", \"genus\", \"genus\", \"genus\", \"genus\", \"genus\", \"genus\", \"genus\", \"genus\", \"genus\", \"genus\", \"girl\", \"girl\", \"girl\", \"girl\", \"girl\", \"girl\", \"girl\", \"girl\", \"girl\", \"girl\", \"girl\", \"girl\", \"girl\", \"girl\", \"girl\", \"girl\", \"girl\", \"girl\", \"girl\", \"girl\", \"given\", \"given\", \"given\", \"given\", \"given\", \"given\", \"given\", \"given\", \"given\", \"given\", \"given\", \"given\", \"given\", \"given\", \"given\", \"given\", \"given\", \"given\", \"given\", \"given\", \"gmina\", \"gmina\", \"gmina\", \"gmina\", \"gmina\", \"gmina\", \"gmina\", \"gmina\", \"gmina\", \"gmina\", \"gmina\", \"gmina\", \"gmina\", \"gmina\", \"gmina\", \"gmina\", \"gmina\", \"gmina\", \"gmina\", \"gmina\", \"google\", \"google\", \"google\", \"google\", \"google\", \"google\", \"google\", \"google\", \"google\", \"google\", \"google\", \"google\", \"google\", \"google\", \"google\", \"google\", \"google\", \"google\", \"google\", \"google\", \"government\", \"government\", \"government\", \"government\", \"government\", \"government\", \"government\", \"government\", \"government\", \"government\", \"government\", \"government\", \"government\", \"government\", \"government\", \"government\", \"government\", \"government\", \"government\", \"government\", \"governor\", \"governor\", \"governor\", \"governor\", \"governor\", \"governor\", \"governor\", \"governor\", \"governor\", \"governor\", \"governor\", \"governor\", \"governor\", \"governor\", \"governor\", \"governor\", \"governor\", \"governor\", \"governor\", \"governor\", \"greater\", \"greater\", \"greater\", \"greater\", \"greater\", \"greater\", \"greater\", \"greater\", \"greater\", \"greater\", \"greater\", \"greater\", \"greater\", \"greater\", \"greater\", \"greater\", \"greater\", \"greater\", \"greater\", \"greater\", \"group\", \"group\", \"group\", \"group\", \"group\", \"group\", \"group\", \"group\", \"group\", \"group\", \"group\", \"group\", \"group\", \"group\", \"group\", \"group\", \"group\", \"group\", \"group\", \"group\", \"guitar\", \"guitar\", \"guitar\", \"guitar\", \"guitar\", \"guitar\", \"guitar\", \"guitar\", \"guitar\", \"guitar\", \"guitar\", \"guitar\", \"guitar\", \"guitar\", \"guitar\", \"guitar\", \"guitar\", \"guitar\", \"guitar\", \"guitar\", \"guitarist\", \"guitarist\", \"guitarist\", \"guitarist\", \"guitarist\", \"guitarist\", \"guitarist\", \"guitarist\", \"guitarist\", \"guitarist\", \"guitarist\", \"guitarist\", \"guitarist\", \"guitarist\", \"guitarist\", \"guitarist\", \"guitarist\", \"guitarist\", \"guitarist\", \"guitarist\", \"hamlet\", \"hamlet\", \"hamlet\", \"hamlet\", \"hamlet\", \"hamlet\", \"hamlet\", \"hamlet\", \"hamlet\", \"hamlet\", \"hamlet\", \"hamlet\", \"hamlet\", \"hamlet\", \"hamlet\", \"hamlet\", \"hamlet\", \"hamlet\", \"hamlet\", \"hamlet\", \"head\", \"head\", \"head\", \"head\", \"head\", \"head\", \"head\", \"head\", \"head\", \"head\", \"head\", \"head\", \"head\", \"head\", \"head\", \"head\", \"head\", \"head\", \"head\", \"head\", \"headquarters\", \"headquarters\", \"headquarters\", \"headquarters\", \"headquarters\", \"headquarters\", \"headquarters\", \"headquarters\", \"headquarters\", \"headquarters\", \"headquarters\", \"headquarters\", \"headquarters\", \"headquarters\", \"headquarters\", \"headquarters\", \"headquarters\", \"headquarters\", \"headquarters\", \"headquarters\", \"held\", \"held\", \"held\", \"held\", \"held\", \"held\", \"held\", \"held\", \"held\", \"held\", \"held\", \"held\", \"held\", \"held\", \"held\", \"held\", \"held\", \"held\", \"held\", \"held\", \"highway\", \"highway\", \"highway\", \"highway\", \"highway\", \"highway\", \"highway\", \"highway\", \"highway\", \"highway\", \"highway\", \"highway\", \"highway\", \"highway\", \"highway\", \"highway\", \"highway\", \"highway\", \"highway\", \"highway\", \"historian\", \"historian\", \"historian\", \"historian\", \"historian\", \"historian\", \"historian\", \"historian\", \"historian\", \"historian\", \"historian\", \"historian\", \"historian\", \"historian\", \"historian\", \"historian\", \"historian\", \"historian\", \"historian\", \"historian\", \"historic\", \"historic\", \"historic\", \"historic\", \"historic\", \"historic\", \"historic\", \"historic\", \"historic\", \"historic\", \"historic\", \"historic\", \"historic\", \"historic\", \"historic\", \"historic\", \"historic\", \"historic\", \"historic\", \"historic\", \"history\", \"history\", \"history\", \"history\", \"history\", \"history\", \"history\", \"history\", \"history\", \"history\", \"history\", \"history\", \"history\", \"history\", \"history\", \"history\", \"history\", \"history\", \"history\", \"history\", \"hms\", \"hms\", \"hms\", \"hms\", \"hms\", \"hms\", \"hms\", \"hms\", \"hms\", \"hms\", \"hms\", \"hms\", \"hms\", \"hms\", \"hms\", \"hms\", \"hms\", \"hms\", \"hms\", \"hms\", \"hockey\", \"hockey\", \"hockey\", \"hockey\", \"hockey\", \"hockey\", \"hockey\", \"hockey\", \"hockey\", \"hockey\", \"hockey\", \"hockey\", \"hockey\", \"hockey\", \"hockey\", \"hockey\", \"hockey\", \"hockey\", \"hockey\", \"hockey\", \"home\", \"home\", \"home\", \"home\", \"home\", \"home\", \"home\", \"home\", \"home\", \"home\", \"home\", \"home\", \"home\", \"home\", \"home\", \"home\", \"home\", \"home\", \"home\", \"home\", \"hospital\", \"hospital\", \"hospital\", \"hospital\", \"hospital\", \"hospital\", \"hospital\", \"hospital\", \"hospital\", \"hospital\", \"hospital\", \"hospital\", \"hospital\", \"hospital\", \"hospital\", \"hospital\", \"hospital\", \"hospital\", \"hospital\", \"hospital\", \"house\", \"house\", \"house\", \"house\", \"house\", \"house\", \"house\", \"house\", \"house\", \"house\", \"house\", \"house\", \"house\", \"house\", \"house\", \"house\", \"house\", \"house\", \"house\", \"house\", \"ii\", \"ii\", \"ii\", \"ii\", \"ii\", \"ii\", \"ii\", \"ii\", \"ii\", \"ii\", \"ii\", \"ii\", \"ii\", \"ii\", \"ii\", \"ii\", \"ii\", \"ii\", \"ii\", \"ii\", \"illustrated\", \"illustrated\", \"illustrated\", \"illustrated\", \"illustrated\", \"illustrated\", \"illustrated\", \"illustrated\", \"illustrated\", \"illustrated\", \"illustrated\", \"illustrated\", \"illustrated\", \"illustrated\", \"illustrated\", \"illustrated\", \"illustrated\", \"illustrated\", \"illustrated\", \"illustrated\", \"include\", \"include\", \"include\", \"include\", \"include\", \"include\", \"include\", \"include\", \"include\", \"include\", \"include\", \"include\", \"include\", \"include\", \"include\", \"include\", \"include\", \"include\", \"include\", \"include\", \"incumbent\", \"incumbent\", \"incumbent\", \"incumbent\", \"incumbent\", \"incumbent\", \"incumbent\", \"incumbent\", \"incumbent\", \"incumbent\", \"incumbent\", \"incumbent\", \"incumbent\", \"incumbent\", \"incumbent\", \"incumbent\", \"incumbent\", \"incumbent\", \"incumbent\", \"incumbent\", \"indie\", \"indie\", \"indie\", \"indie\", \"indie\", \"indie\", \"indie\", \"indie\", \"indie\", \"indie\", \"indie\", \"indie\", \"indie\", \"indie\", \"indie\", \"indie\", \"indie\", \"indie\", \"indie\", \"indie\", \"information\", \"information\", \"information\", \"information\", \"information\", \"information\", \"information\", \"information\", \"information\", \"information\", \"information\", \"information\", \"information\", \"information\", \"information\", \"information\", \"information\", \"information\", \"information\", \"information\", \"inhabitants\", \"inhabitants\", \"inhabitants\", \"inhabitants\", \"inhabitants\", \"inhabitants\", \"inhabitants\", \"inhabitants\", \"inhabitants\", \"inhabitants\", \"inhabitants\", \"inhabitants\", \"inhabitants\", \"inhabitants\", \"inhabitants\", \"inhabitants\", \"inhabitants\", \"inhabitants\", \"inhabitants\", \"inhabitants\", \"institute\", \"institute\", \"institute\", \"institute\", \"institute\", \"institute\", \"institute\", \"institute\", \"institute\", \"institute\", \"institute\", \"institute\", \"institute\", \"institute\", \"institute\", \"institute\", \"institute\", \"institute\", \"institute\", \"institute\", \"institution\", \"institution\", \"institution\", \"institution\", \"institution\", \"institution\", \"institution\", \"institution\", \"institution\", \"institution\", \"institution\", \"institution\", \"institution\", \"institution\", \"institution\", \"institution\", \"institution\", \"institution\", \"institution\", \"institution\", \"introduced\", \"introduced\", \"introduced\", \"introduced\", \"introduced\", \"introduced\", \"introduced\", \"introduced\", \"introduced\", \"introduced\", \"introduced\", \"introduced\", \"introduced\", \"introduced\", \"introduced\", \"introduced\", \"introduced\", \"introduced\", \"introduced\", \"introduced\", \"iron\", \"iron\", \"iron\", \"iron\", \"iron\", \"iron\", \"iron\", \"iron\", \"iron\", \"iron\", \"iron\", \"iron\", \"iron\", \"iron\", \"iron\", \"iron\", \"iron\", \"iron\", \"iron\", \"iron\", \"island\", \"island\", \"island\", \"island\", \"island\", \"island\", \"island\", \"island\", \"island\", \"island\", \"island\", \"island\", \"island\", \"island\", \"island\", \"island\", \"island\", \"island\", \"island\", \"island\", \"islands\", \"islands\", \"islands\", \"islands\", \"islands\", \"islands\", \"islands\", \"islands\", \"islands\", \"islands\", \"islands\", \"islands\", \"islands\", \"islands\", \"islands\", \"islands\", \"islands\", \"islands\", \"islands\", \"islands\", \"italian\", \"italian\", \"italian\", \"italian\", \"italian\", \"italian\", \"italian\", \"italian\", \"italian\", \"italian\", \"italian\", \"italian\", \"italian\", \"italian\", \"italian\", \"italian\", \"italian\", \"italian\", \"italian\", \"italian\", \"james\", \"james\", \"james\", \"james\", \"james\", \"james\", \"james\", \"james\", \"james\", \"james\", \"james\", \"james\", \"james\", \"james\", \"james\", \"james\", \"james\", \"james\", \"james\", \"james\", \"january\", \"january\", \"january\", \"january\", \"january\", \"january\", \"january\", \"january\", \"january\", \"january\", \"january\", \"january\", \"january\", \"january\", \"january\", \"january\", \"january\", \"january\", \"january\", \"january\", \"jewish\", \"jewish\", \"jewish\", \"jewish\", \"jewish\", \"jewish\", \"jewish\", \"jewish\", \"jewish\", \"jewish\", \"jewish\", \"jewish\", \"jewish\", \"jewish\", \"jewish\", \"jewish\", \"jewish\", \"jewish\", \"jewish\", \"jewish\", \"john\", \"john\", \"john\", \"john\", \"john\", \"john\", \"john\", \"john\", \"john\", \"john\", \"john\", \"john\", \"john\", \"john\", \"john\", \"john\", \"john\", \"john\", \"john\", \"john\", \"journalist\", \"journalist\", \"journalist\", \"journalist\", \"journalist\", \"journalist\", \"journalist\", \"journalist\", \"journalist\", \"journalist\", \"journalist\", \"journalist\", \"journalist\", \"journalist\", \"journalist\", \"journalist\", \"journalist\", \"journalist\", \"journalist\", \"journalist\", \"july\", \"july\", \"july\", \"july\", \"july\", \"july\", \"july\", \"july\", \"july\", \"july\", \"july\", \"july\", \"july\", \"july\", \"july\", \"july\", \"july\", \"july\", \"july\", \"july\", \"june\", \"june\", \"june\", \"june\", \"june\", \"june\", \"june\", \"june\", \"june\", \"june\", \"june\", \"june\", \"june\", \"june\", \"june\", \"june\", \"june\", \"june\", \"june\", \"june\", \"kilometres\", \"kilometres\", \"kilometres\", \"kilometres\", \"kilometres\", \"kilometres\", \"kilometres\", \"kilometres\", \"kilometres\", \"kilometres\", \"kilometres\", \"kilometres\", \"kilometres\", \"kilometres\", \"kilometres\", \"kilometres\", \"kilometres\", \"kilometres\", \"kilometres\", \"kilometres\", \"kingdom\", \"kingdom\", \"kingdom\", \"kingdom\", \"kingdom\", \"kingdom\", \"kingdom\", \"kingdom\", \"kingdom\", \"kingdom\", \"kingdom\", \"kingdom\", \"kingdom\", \"kingdom\", \"kingdom\", \"kingdom\", \"kingdom\", \"kingdom\", \"kingdom\", \"kingdom\", \"km\", \"km\", \"km\", \"km\", \"km\", \"km\", \"km\", \"km\", \"km\", \"km\", \"km\", \"km\", \"km\", \"km\", \"km\", \"km\", \"km\", \"km\", \"km\", \"km\", \"km\\u00b2\", \"km\\u00b2\", \"km\\u00b2\", \"km\\u00b2\", \"km\\u00b2\", \"km\\u00b2\", \"km\\u00b2\", \"km\\u00b2\", \"km\\u00b2\", \"km\\u00b2\", \"km\\u00b2\", \"km\\u00b2\", \"km\\u00b2\", \"km\\u00b2\", \"km\\u00b2\", \"km\\u00b2\", \"km\\u00b2\", \"km\\u00b2\", \"km\\u00b2\", \"km\\u00b2\", \"knight\", \"knight\", \"knight\", \"knight\", \"knight\", \"knight\", \"knight\", \"knight\", \"knight\", \"knight\", \"knight\", \"knight\", \"knight\", \"knight\", \"knight\", \"knight\", \"knight\", \"knight\", \"knight\", \"knight\", \"known\", \"known\", \"known\", \"known\", \"known\", \"known\", \"known\", \"known\", \"known\", \"known\", \"known\", \"known\", \"known\", \"known\", \"known\", \"known\", \"known\", \"known\", \"known\", \"known\", \"land\", \"land\", \"land\", \"land\", \"land\", \"land\", \"land\", \"land\", \"land\", \"land\", \"land\", \"land\", \"land\", \"land\", \"land\", \"land\", \"land\", \"land\", \"land\", \"land\", \"large\", \"large\", \"large\", \"large\", \"large\", \"large\", \"large\", \"large\", \"large\", \"large\", \"large\", \"large\", \"large\", \"large\", \"large\", \"large\", \"large\", \"large\", \"large\", \"large\", \"largest\", \"largest\", \"largest\", \"largest\", \"largest\", \"largest\", \"largest\", \"largest\", \"largest\", \"largest\", \"largest\", \"largest\", \"largest\", \"largest\", \"largest\", \"largest\", \"largest\", \"largest\", \"largest\", \"largest\", \"launched\", \"launched\", \"launched\", \"launched\", \"launched\", \"launched\", \"launched\", \"launched\", \"launched\", \"launched\", \"launched\", \"launched\", \"launched\", \"launched\", \"launched\", \"launched\", \"launched\", \"launched\", \"launched\", \"launched\", \"laura\", \"laura\", \"laura\", \"laura\", \"laura\", \"laura\", \"laura\", \"laura\", \"laura\", \"laura\", \"laura\", \"laura\", \"laura\", \"laura\", \"laura\", \"laura\", \"laura\", \"laura\", \"laura\", \"laura\", \"law\", \"law\", \"law\", \"law\", \"law\", \"law\", \"law\", \"law\", \"law\", \"law\", \"law\", \"law\", \"law\", \"law\", \"law\", \"law\", \"law\", \"law\", \"law\", \"law\", \"lawyer\", \"lawyer\", \"lawyer\", \"lawyer\", \"lawyer\", \"lawyer\", \"lawyer\", \"lawyer\", \"lawyer\", \"lawyer\", \"lawyer\", \"lawyer\", \"lawyer\", \"lawyer\", \"lawyer\", \"lawyer\", \"lawyer\", \"lawyer\", \"lawyer\", \"lawyer\", \"leader\", \"leader\", \"leader\", \"leader\", \"leader\", \"leader\", \"leader\", \"leader\", \"leader\", \"leader\", \"leader\", \"leader\", \"leader\", \"leader\", \"leader\", \"leader\", \"leader\", \"leader\", \"leader\", \"leader\", \"league\", \"league\", \"league\", \"league\", \"league\", \"league\", \"league\", \"league\", \"league\", \"league\", \"league\", \"league\", \"league\", \"league\", \"league\", \"league\", \"league\", \"league\", \"league\", \"league\", \"legislative\", \"legislative\", \"legislative\", \"legislative\", \"legislative\", \"legislative\", \"legislative\", \"legislative\", \"legislative\", \"legislative\", \"legislative\", \"legislative\", \"legislative\", \"legislative\", \"legislative\", \"legislative\", \"legislative\", \"legislative\", \"legislative\", \"legislative\", \"liberal\", \"liberal\", \"liberal\", \"liberal\", \"liberal\", \"liberal\", \"liberal\", \"liberal\", \"liberal\", \"liberal\", \"liberal\", \"liberal\", \"liberal\", \"liberal\", \"liberal\", \"liberal\", \"liberal\", \"liberal\", \"liberal\", \"liberal\", \"library\", \"library\", \"library\", \"library\", \"library\", \"library\", \"library\", \"library\", \"library\", \"library\", \"library\", \"library\", \"library\", \"library\", \"library\", \"library\", \"library\", \"library\", \"library\", \"library\", \"lies\", \"lies\", \"lies\", \"lies\", \"lies\", \"lies\", \"lies\", \"lies\", \"lies\", \"lies\", \"lies\", \"lies\", \"lies\", \"lies\", \"lies\", \"lies\", \"lies\", \"lies\", \"lies\", \"lies\", \"light\", \"light\", \"light\", \"light\", \"light\", \"light\", \"light\", \"light\", \"light\", \"light\", \"light\", \"light\", \"light\", \"light\", \"light\", \"light\", \"light\", \"light\", \"light\", \"light\", \"line\", \"line\", \"line\", \"line\", \"line\", \"line\", \"line\", \"line\", \"line\", \"line\", \"line\", \"line\", \"line\", \"line\", \"line\", \"line\", \"line\", \"line\", \"line\", \"line\", \"list\", \"list\", \"list\", \"list\", \"list\", \"list\", \"list\", \"list\", \"list\", \"list\", \"list\", \"list\", \"list\", \"list\", \"list\", \"list\", \"list\", \"list\", \"list\", \"list\", \"listed\", \"listed\", \"listed\", \"listed\", \"listed\", \"listed\", \"listed\", \"listed\", \"listed\", \"listed\", \"listed\", \"listed\", \"listed\", \"listed\", \"listed\", \"listed\", \"listed\", \"listed\", \"listed\", \"listed\", \"live\", \"live\", \"live\", \"live\", \"live\", \"live\", \"live\", \"live\", \"live\", \"live\", \"live\", \"live\", \"live\", \"live\", \"live\", \"live\", \"live\", \"live\", \"live\", \"live\", \"living\", \"living\", \"living\", \"living\", \"living\", \"living\", \"living\", \"living\", \"living\", \"living\", \"living\", \"living\", \"living\", \"living\", \"living\", \"living\", \"living\", \"living\", \"living\", \"living\", \"local\", \"local\", \"local\", \"local\", \"local\", \"local\", \"local\", \"local\", \"local\", \"local\", \"local\", \"local\", \"local\", \"local\", \"local\", \"local\", \"local\", \"local\", \"local\", \"local\", \"located\", \"located\", \"located\", \"located\", \"located\", \"located\", \"located\", \"located\", \"located\", \"located\", \"located\", \"located\", \"located\", \"located\", \"located\", \"located\", \"located\", \"located\", \"located\", \"located\", \"long\", \"long\", \"long\", \"long\", \"long\", \"long\", \"long\", \"long\", \"long\", \"long\", \"long\", \"long\", \"long\", \"long\", \"long\", \"long\", \"long\", \"long\", \"long\", \"long\", \"los\", \"los\", \"los\", \"los\", \"los\", \"los\", \"los\", \"los\", \"los\", \"los\", \"los\", \"los\", \"los\", \"los\", \"los\", \"los\", \"los\", \"los\", \"los\", \"los\", \"made\", \"made\", \"made\", \"made\", \"made\", \"made\", \"made\", \"made\", \"made\", \"made\", \"made\", \"made\", \"made\", \"made\", \"made\", \"made\", \"made\", \"made\", \"made\", \"made\", \"magazine\", \"magazine\", \"magazine\", \"magazine\", \"magazine\", \"magazine\", \"magazine\", \"magazine\", \"magazine\", \"magazine\", \"magazine\", \"magazine\", \"magazine\", \"magazine\", \"magazine\", \"magazine\", \"magazine\", \"magazine\", \"magazine\", \"magazine\", \"main\", \"main\", \"main\", \"main\", \"main\", \"main\", \"main\", \"main\", \"main\", \"main\", \"main\", \"main\", \"main\", \"main\", \"main\", \"main\", \"main\", \"main\", \"main\", \"main\", \"males\", \"males\", \"males\", \"males\", \"males\", \"males\", \"males\", \"males\", \"males\", \"males\", \"males\", \"males\", \"males\", \"males\", \"males\", \"males\", \"males\", \"males\", \"males\", \"males\", \"many\", \"many\", \"many\", \"many\", \"many\", \"many\", \"many\", \"many\", \"many\", \"many\", \"many\", \"many\", \"many\", \"many\", \"many\", \"many\", \"many\", \"many\", \"many\", \"many\", \"mapped\", \"mapped\", \"mapped\", \"mapped\", \"mapped\", \"mapped\", \"mapped\", \"mapped\", \"mapped\", \"mapped\", \"mapped\", \"mapped\", \"mapped\", \"mapped\", \"mapped\", \"mapped\", \"mapped\", \"mapped\", \"mapped\", \"mapped\", \"march\", \"march\", \"march\", \"march\", \"march\", \"march\", \"march\", \"march\", \"march\", \"march\", \"march\", \"march\", \"march\", \"march\", \"march\", \"march\", \"march\", \"march\", \"march\", \"march\", \"maria\", \"maria\", \"maria\", \"maria\", \"maria\", \"maria\", \"maria\", \"maria\", \"maria\", \"maria\", \"maria\", \"maria\", \"maria\", \"maria\", \"maria\", \"maria\", \"maria\", \"maria\", \"maria\", \"maria\", \"marketing\", \"marketing\", \"marketing\", \"marketing\", \"marketing\", \"marketing\", \"marketing\", \"marketing\", \"marketing\", \"marketing\", \"marketing\", \"marketing\", \"marketing\", \"marketing\", \"marketing\", \"marketing\", \"marketing\", \"marketing\", \"marketing\", \"marketing\", \"masters\", \"masters\", \"masters\", \"masters\", \"masters\", \"masters\", \"masters\", \"masters\", \"masters\", \"masters\", \"masters\", \"masters\", \"masters\", \"masters\", \"masters\", \"masters\", \"masters\", \"masters\", \"masters\", \"masters\", \"matches\", \"matches\", \"matches\", \"matches\", \"matches\", \"matches\", \"matches\", \"matches\", \"matches\", \"matches\", \"matches\", \"matches\", \"matches\", \"matches\", \"matches\", \"matches\", \"matches\", \"matches\", \"matches\", \"matches\", \"mayor\", \"mayor\", \"mayor\", \"mayor\", \"mayor\", \"mayor\", \"mayor\", \"mayor\", \"mayor\", \"mayor\", \"mayor\", \"mayor\", \"mayor\", \"mayor\", \"mayor\", \"mayor\", \"mayor\", \"mayor\", \"mayor\", \"mayor\", \"meaning\", \"meaning\", \"meaning\", \"meaning\", \"meaning\", \"meaning\", \"meaning\", \"meaning\", \"meaning\", \"meaning\", \"meaning\", \"meaning\", \"meaning\", \"meaning\", \"meaning\", \"meaning\", \"meaning\", \"meaning\", \"meaning\", \"meaning\", \"medal\", \"medal\", \"medal\", \"medal\", \"medal\", \"medal\", \"medal\", \"medal\", \"medal\", \"medal\", \"medal\", \"medal\", \"medal\", \"medal\", \"medal\", \"medal\", \"medal\", \"medal\", \"medal\", \"medal\", \"medical\", \"medical\", \"medical\", \"medical\", \"medical\", \"medical\", \"medical\", \"medical\", \"medical\", \"medical\", \"medical\", \"medical\", \"medical\", \"medical\", \"medical\", \"medical\", \"medical\", \"medical\", \"medical\", \"medical\", \"member\", \"member\", \"member\", \"member\", \"member\", \"member\", \"member\", \"member\", \"member\", \"member\", \"member\", \"member\", \"member\", \"member\", \"member\", \"member\", \"member\", \"member\", \"member\", \"member\", \"men\", \"men\", \"men\", \"men\", \"men\", \"men\", \"men\", \"men\", \"men\", \"men\", \"men\", \"men\", \"men\", \"men\", \"men\", \"men\", \"men\", \"men\", \"men\", \"men\", \"merchant\", \"merchant\", \"merchant\", \"merchant\", \"merchant\", \"merchant\", \"merchant\", \"merchant\", \"merchant\", \"merchant\", \"merchant\", \"merchant\", \"merchant\", \"merchant\", \"merchant\", \"merchant\", \"merchant\", \"merchant\", \"merchant\", \"merchant\", \"method\", \"method\", \"method\", \"method\", \"method\", \"method\", \"method\", \"method\", \"method\", \"method\", \"method\", \"method\", \"method\", \"method\", \"method\", \"method\", \"method\", \"method\", \"method\", \"method\", \"mi\", \"mi\", \"mi\", \"mi\", \"mi\", \"mi\", \"mi\", \"mi\", \"mi\", \"mi\", \"mi\", \"mi\", \"mi\", \"mi\", \"mi\", \"mi\", \"mi\", \"mi\", \"mi\", \"mi\", \"miles\", \"miles\", \"miles\", \"miles\", \"miles\", \"miles\", \"miles\", \"miles\", \"miles\", \"miles\", \"miles\", \"miles\", \"miles\", \"miles\", \"miles\", \"miles\", \"miles\", \"miles\", \"miles\", \"miles\", \"mining\", \"mining\", \"mining\", \"mining\", \"mining\", \"mining\", \"mining\", \"mining\", \"mining\", \"mining\", \"mining\", \"mining\", \"mining\", \"mining\", \"mining\", \"mining\", \"mining\", \"mining\", \"mining\", \"mining\", \"minister\", \"minister\", \"minister\", \"minister\", \"minister\", \"minister\", \"minister\", \"minister\", \"minister\", \"minister\", \"minister\", \"minister\", \"minister\", \"minister\", \"minister\", \"minister\", \"minister\", \"minister\", \"minister\", \"minister\", \"mm\", \"mm\", \"mm\", \"mm\", \"mm\", \"mm\", \"mm\", \"mm\", \"mm\", \"mm\", \"mm\", \"mm\", \"mm\", \"mm\", \"mm\", \"mm\", \"mm\", \"mm\", \"mm\", \"mm\", \"months\", \"months\", \"months\", \"months\", \"months\", \"months\", \"months\", \"months\", \"months\", \"months\", \"months\", \"months\", \"months\", \"months\", \"months\", \"months\", \"months\", \"months\", \"months\", \"months\", \"moscow\", \"moscow\", \"moscow\", \"moscow\", \"moscow\", \"moscow\", \"moscow\", \"moscow\", \"moscow\", \"moscow\", \"moscow\", \"moscow\", \"moscow\", \"moscow\", \"moscow\", \"moscow\", \"moscow\", \"moscow\", \"moscow\", \"moscow\", \"mostly\", \"mostly\", \"mostly\", \"mostly\", \"mostly\", \"mostly\", \"mostly\", \"mostly\", \"mostly\", \"mostly\", \"mostly\", \"mostly\", \"mostly\", \"mostly\", \"mostly\", \"mostly\", \"mostly\", \"mostly\", \"mostly\", \"mostly\", \"moth\", \"moth\", \"moth\", \"moth\", \"moth\", \"moth\", \"moth\", \"moth\", \"moth\", \"moth\", \"moth\", \"moth\", \"moth\", \"moth\", \"moth\", \"moth\", \"moth\", \"moth\", \"moth\", \"moth\", \"mount\", \"mount\", \"mount\", \"mount\", \"mount\", \"mount\", \"mount\", \"mount\", \"mount\", \"mount\", \"mount\", \"mount\", \"mount\", \"mount\", \"mount\", \"mount\", \"mount\", \"mount\", \"mount\", \"mount\", \"mountains\", \"mountains\", \"mountains\", \"mountains\", \"mountains\", \"mountains\", \"mountains\", \"mountains\", \"mountains\", \"mountains\", \"mountains\", \"mountains\", \"mountains\", \"mountains\", \"mountains\", \"mountains\", \"mountains\", \"mountains\", \"mountains\", \"mountains\", \"much\", \"much\", \"much\", \"much\", \"much\", \"much\", \"much\", \"much\", \"much\", \"much\", \"much\", \"much\", \"much\", \"much\", \"much\", \"much\", \"much\", \"much\", \"much\", \"much\", \"multiple\", \"multiple\", \"multiple\", \"multiple\", \"multiple\", \"multiple\", \"multiple\", \"multiple\", \"multiple\", \"multiple\", \"multiple\", \"multiple\", \"multiple\", \"multiple\", \"multiple\", \"multiple\", \"multiple\", \"multiple\", \"multiple\", \"multiple\", \"municipal\", \"municipal\", \"municipal\", \"municipal\", \"municipal\", \"municipal\", \"municipal\", \"municipal\", \"municipal\", \"municipal\", \"municipal\", \"municipal\", \"municipal\", \"municipal\", \"municipal\", \"municipal\", \"municipal\", \"municipal\", \"municipal\", \"municipal\", \"municipality\", \"municipality\", \"municipality\", \"municipality\", \"municipality\", \"municipality\", \"municipality\", \"municipality\", \"municipality\", \"municipality\", \"municipality\", \"municipality\", \"municipality\", \"municipality\", \"municipality\", \"municipality\", \"municipality\", \"municipality\", \"municipality\", \"municipality\", \"music\", \"music\", \"music\", \"music\", \"music\", \"music\", \"music\", \"music\", \"music\", \"music\", \"music\", \"music\", \"music\", \"music\", \"music\", \"music\", \"music\", \"music\", \"music\", \"music\", \"musical\", \"musical\", \"musical\", \"musical\", \"musical\", \"musical\", \"musical\", \"musical\", \"musical\", \"musical\", \"musical\", \"musical\", \"musical\", \"musical\", \"musical\", \"musical\", \"musical\", \"musical\", \"musical\", \"musical\", \"name\", \"name\", \"name\", \"name\", \"name\", \"name\", \"name\", \"name\", \"name\", \"name\", \"name\", \"name\", \"name\", \"name\", \"name\", \"name\", \"name\", \"name\", \"name\", \"name\", \"named\", \"named\", \"named\", \"named\", \"named\", \"named\", \"named\", \"named\", \"named\", \"named\", \"named\", \"named\", \"named\", \"named\", \"named\", \"named\", \"named\", \"named\", \"named\", \"named\", \"national\", \"national\", \"national\", \"national\", \"national\", \"national\", \"national\", \"national\", \"national\", \"national\", \"national\", \"national\", \"national\", \"national\", \"national\", \"national\", \"national\", \"national\", \"national\", \"national\", \"native\", \"native\", \"native\", \"native\", \"native\", \"native\", \"native\", \"native\", \"native\", \"native\", \"native\", \"native\", \"native\", \"native\", \"native\", \"native\", \"native\", \"native\", \"native\", \"native\", \"naval\", \"naval\", \"naval\", \"naval\", \"naval\", \"naval\", \"naval\", \"naval\", \"naval\", \"naval\", \"naval\", \"naval\", \"naval\", \"naval\", \"naval\", \"naval\", \"naval\", \"naval\", \"naval\", \"naval\", \"navy\", \"navy\", \"navy\", \"navy\", \"navy\", \"navy\", \"navy\", \"navy\", \"navy\", \"navy\", \"navy\", \"navy\", \"navy\", \"navy\", \"navy\", \"navy\", \"navy\", \"navy\", \"navy\", \"navy\", \"ncaa\", \"ncaa\", \"ncaa\", \"ncaa\", \"ncaa\", \"ncaa\", \"ncaa\", \"ncaa\", \"ncaa\", \"ncaa\", \"ncaa\", \"ncaa\", \"ncaa\", \"ncaa\", \"ncaa\", \"ncaa\", \"ncaa\", \"ncaa\", \"ncaa\", \"ncaa\", \"nd\", \"nd\", \"nd\", \"nd\", \"nd\", \"nd\", \"nd\", \"nd\", \"nd\", \"nd\", \"nd\", \"nd\", \"nd\", \"nd\", \"nd\", \"nd\", \"nd\", \"nd\", \"nd\", \"nd\", \"near\", \"near\", \"near\", \"near\", \"near\", \"near\", \"near\", \"near\", \"near\", \"near\", \"near\", \"near\", \"near\", \"near\", \"near\", \"near\", \"near\", \"near\", \"near\", \"near\", \"network\", \"network\", \"network\", \"network\", \"network\", \"network\", \"network\", \"network\", \"network\", \"network\", \"network\", \"network\", \"network\", \"network\", \"network\", \"network\", \"network\", \"network\", \"network\", \"network\", \"newspaper\", \"newspaper\", \"newspaper\", \"newspaper\", \"newspaper\", \"newspaper\", \"newspaper\", \"newspaper\", \"newspaper\", \"newspaper\", \"newspaper\", \"newspaper\", \"newspaper\", \"newspaper\", \"newspaper\", \"newspaper\", \"newspaper\", \"newspaper\", \"newspaper\", \"newspaper\", \"newspapers\", \"newspapers\", \"newspapers\", \"newspapers\", \"newspapers\", \"newspapers\", \"newspapers\", \"newspapers\", \"newspapers\", \"newspapers\", \"newspapers\", \"newspapers\", \"newspapers\", \"newspapers\", \"newspapers\", \"newspapers\", \"newspapers\", \"newspapers\", \"newspapers\", \"newspapers\", \"nfl\", \"nfl\", \"nfl\", \"nfl\", \"nfl\", \"nfl\", \"nfl\", \"nfl\", \"nfl\", \"nfl\", \"nfl\", \"nfl\", \"nfl\", \"nfl\", \"nfl\", \"nfl\", \"nfl\", \"nfl\", \"nfl\", \"nfl\", \"north\", \"north\", \"north\", \"north\", \"north\", \"north\", \"north\", \"north\", \"north\", \"north\", \"north\", \"north\", \"north\", \"north\", \"north\", \"north\", \"north\", \"north\", \"north\", \"north\", \"northeast\", \"northeast\", \"northeast\", \"northeast\", \"northeast\", \"northeast\", \"northeast\", \"northeast\", \"northeast\", \"northeast\", \"northeast\", \"northeast\", \"northeast\", \"northeast\", \"northeast\", \"northeast\", \"northeast\", \"northeast\", \"northeast\", \"northeast\", \"northeastern\", \"northeastern\", \"northeastern\", \"northeastern\", \"northeastern\", \"northeastern\", \"northeastern\", \"northeastern\", \"northeastern\", \"northeastern\", \"northeastern\", \"northeastern\", \"northeastern\", \"northeastern\", \"northeastern\", \"northeastern\", \"northeastern\", \"northeastern\", \"northeastern\", \"northeastern\", \"northern\", \"northern\", \"northern\", \"northern\", \"northern\", \"northern\", \"northern\", \"northern\", \"northern\", \"northern\", \"northern\", \"northern\", \"northern\", \"northern\", \"northern\", \"northern\", \"northern\", \"northern\", \"northern\", \"northern\", \"novel\", \"novel\", \"novel\", \"novel\", \"novel\", \"novel\", \"novel\", \"novel\", \"novel\", \"novel\", \"novel\", \"novel\", \"novel\", \"novel\", \"novel\", \"novel\", \"novel\", \"novel\", \"novel\", \"novel\", \"novelist\", \"novelist\", \"novelist\", \"novelist\", \"novelist\", \"novelist\", \"novelist\", \"novelist\", \"novelist\", \"novelist\", \"novelist\", \"novelist\", \"novelist\", \"novelist\", \"novelist\", \"novelist\", \"novelist\", \"novelist\", \"novelist\", \"novelist\", \"november\", \"november\", \"november\", \"november\", \"november\", \"november\", \"november\", \"november\", \"november\", \"november\", \"november\", \"november\", \"november\", \"november\", \"november\", \"november\", \"november\", \"november\", \"november\", \"november\", \"object\", \"object\", \"object\", \"object\", \"object\", \"object\", \"object\", \"object\", \"object\", \"object\", \"object\", \"object\", \"object\", \"object\", \"object\", \"object\", \"object\", \"object\", \"object\", \"object\", \"october\", \"october\", \"october\", \"october\", \"october\", \"october\", \"october\", \"october\", \"october\", \"october\", \"october\", \"october\", \"october\", \"october\", \"october\", \"october\", \"october\", \"october\", \"october\", \"october\", \"olya\", \"olya\", \"olya\", \"olya\", \"olya\", \"olya\", \"olya\", \"olya\", \"olya\", \"olya\", \"olya\", \"olya\", \"olya\", \"olya\", \"olya\", \"olya\", \"olya\", \"olya\", \"olya\", \"olya\", \"olympic\", \"olympic\", \"olympic\", \"olympic\", \"olympic\", \"olympic\", \"olympic\", \"olympic\", \"olympic\", \"olympic\", \"olympic\", \"olympic\", \"olympic\", \"olympic\", \"olympic\", \"olympic\", \"olympic\", \"olympic\", \"olympic\", \"olympic\", \"olympics\", \"olympics\", \"olympics\", \"olympics\", \"olympics\", \"olympics\", \"olympics\", \"olympics\", \"olympics\", \"olympics\", \"olympics\", \"olympics\", \"olympics\", \"olympics\", \"olympics\", \"olympics\", \"olympics\", \"olympics\", \"olympics\", \"olympics\", \"one\", \"one\", \"one\", \"one\", \"one\", \"one\", \"one\", \"one\", \"one\", \"one\", \"one\", \"one\", \"one\", \"one\", \"one\", \"one\", \"one\", \"one\", \"one\", \"one\", \"online\", \"online\", \"online\", \"online\", \"online\", \"online\", \"online\", \"online\", \"online\", \"online\", \"online\", \"online\", \"online\", \"online\", \"online\", \"online\", \"online\", \"online\", \"online\", \"online\", \"opened\", \"opened\", \"opened\", \"opened\", \"opened\", \"opened\", \"opened\", \"opened\", \"opened\", \"opened\", \"opened\", \"opened\", \"opened\", \"opened\", \"opened\", \"opened\", \"opened\", \"opened\", \"opened\", \"opened\", \"originally\", \"originally\", \"originally\", \"originally\", \"originally\", \"originally\", \"originally\", \"originally\", \"originally\", \"originally\", \"originally\", \"originally\", \"originally\", \"originally\", \"originally\", \"originally\", \"originally\", \"originally\", \"originally\", \"originally\", \"owner\", \"owner\", \"owner\", \"owner\", \"owner\", \"owner\", \"owner\", \"owner\", \"owner\", \"owner\", \"owner\", \"owner\", \"owner\", \"owner\", \"owner\", \"owner\", \"owner\", \"owner\", \"owner\", \"owner\", \"painter\", \"painter\", \"painter\", \"painter\", \"painter\", \"painter\", \"painter\", \"painter\", \"painter\", \"painter\", \"painter\", \"painter\", \"painter\", \"painter\", \"painter\", \"painter\", \"painter\", \"painter\", \"painter\", \"painter\", \"parliament\", \"parliament\", \"parliament\", \"parliament\", \"parliament\", \"parliament\", \"parliament\", \"parliament\", \"parliament\", \"parliament\", \"parliament\", \"parliament\", \"parliament\", \"parliament\", \"parliament\", \"parliament\", \"parliament\", \"parliament\", \"parliament\", \"parliament\", \"part\", \"part\", \"part\", \"part\", \"part\", \"part\", \"part\", \"part\", \"part\", \"part\", \"part\", \"part\", \"part\", \"part\", \"part\", \"part\", \"part\", \"part\", \"part\", \"part\", \"particular\", \"particular\", \"particular\", \"particular\", \"particular\", \"particular\", \"particular\", \"particular\", \"particular\", \"particular\", \"particular\", \"particular\", \"particular\", \"particular\", \"particular\", \"particular\", \"particular\", \"particular\", \"particular\", \"particular\", \"party\", \"party\", \"party\", \"party\", \"party\", \"party\", \"party\", \"party\", \"party\", \"party\", \"party\", \"party\", \"party\", \"party\", \"party\", \"party\", \"party\", \"party\", \"party\", \"party\", \"passage\", \"passage\", \"passage\", \"passage\", \"passage\", \"passage\", \"passage\", \"passage\", \"passage\", \"passage\", \"passage\", \"passage\", \"passage\", \"passage\", \"passage\", \"passage\", \"passage\", \"passage\", \"passage\", \"passage\", \"peak\", \"peak\", \"peak\", \"peak\", \"peak\", \"peak\", \"peak\", \"peak\", \"peak\", \"peak\", \"peak\", \"peak\", \"peak\", \"peak\", \"peak\", \"peak\", \"peak\", \"peak\", \"peak\", \"peak\", \"people\", \"people\", \"people\", \"people\", \"people\", \"people\", \"people\", \"people\", \"people\", \"people\", \"people\", \"people\", \"people\", \"people\", \"people\", \"people\", \"people\", \"people\", \"people\", \"people\", \"performance\", \"performance\", \"performance\", \"performance\", \"performance\", \"performance\", \"performance\", \"performance\", \"performance\", \"performance\", \"performance\", \"performance\", \"performance\", \"performance\", \"performance\", \"performance\", \"performance\", \"performance\", \"performance\", \"performance\", \"persian\", \"persian\", \"persian\", \"persian\", \"persian\", \"persian\", \"persian\", \"persian\", \"persian\", \"persian\", \"persian\", \"persian\", \"persian\", \"persian\", \"persian\", \"persian\", \"persian\", \"persian\", \"persian\", \"persian\", \"photographer\", \"photographer\", \"photographer\", \"photographer\", \"photographer\", \"photographer\", \"photographer\", \"photographer\", \"photographer\", \"photographer\", \"photographer\", \"photographer\", \"photographer\", \"photographer\", \"photographer\", \"photographer\", \"photographer\", \"photographer\", \"photographer\", \"photographer\", \"photography\", \"photography\", \"photography\", \"photography\", \"photography\", \"photography\", \"photography\", \"photography\", \"photography\", \"photography\", \"photography\", \"photography\", \"photography\", \"photography\", \"photography\", \"photography\", \"photography\", \"photography\", \"photography\", \"photography\", \"pinyin\", \"pinyin\", \"pinyin\", \"pinyin\", \"pinyin\", \"pinyin\", \"pinyin\", \"pinyin\", \"pinyin\", \"pinyin\", \"pinyin\", \"pinyin\", \"pinyin\", \"pinyin\", \"pinyin\", \"pinyin\", \"pinyin\", \"pinyin\", \"pinyin\", \"pinyin\", \"place\", \"place\", \"place\", \"place\", \"place\", \"place\", \"place\", \"place\", \"place\", \"place\", \"place\", \"place\", \"place\", \"place\", \"place\", \"place\", \"place\", \"place\", \"place\", \"place\", \"places\", \"places\", \"places\", \"places\", \"places\", \"places\", \"places\", \"places\", \"places\", \"places\", \"places\", \"places\", \"places\", \"places\", \"places\", \"places\", \"places\", \"places\", \"places\", \"places\", \"planet\", \"planet\", \"planet\", \"planet\", \"planet\", \"planet\", \"planet\", \"planet\", \"planet\", \"planet\", \"planet\", \"planet\", \"planet\", \"planet\", \"planet\", \"planet\", \"planet\", \"planet\", \"planet\", \"planet\", \"plant\", \"plant\", \"plant\", \"plant\", \"plant\", \"plant\", \"plant\", \"plant\", \"plant\", \"plant\", \"plant\", \"plant\", \"plant\", \"plant\", \"plant\", \"plant\", \"plant\", \"plant\", \"plant\", \"plant\", \"plants\", \"plants\", \"plants\", \"plants\", \"plants\", \"plants\", \"plants\", \"plants\", \"plants\", \"plants\", \"plants\", \"plants\", \"plants\", \"plants\", \"plants\", \"plants\", \"plants\", \"plants\", \"plants\", \"plants\", \"platform\", \"platform\", \"platform\", \"platform\", \"platform\", \"platform\", \"platform\", \"platform\", \"platform\", \"platform\", \"platform\", \"platform\", \"platform\", \"platform\", \"platform\", \"platform\", \"platform\", \"platform\", \"platform\", \"platform\", \"played\", \"played\", \"played\", \"played\", \"played\", \"played\", \"played\", \"played\", \"played\", \"played\", \"played\", \"played\", \"played\", \"played\", \"played\", \"played\", \"played\", \"played\", \"played\", \"played\", \"player\", \"player\", \"player\", \"player\", \"player\", \"player\", \"player\", \"player\", \"player\", \"player\", \"player\", \"player\", \"player\", \"player\", \"player\", \"player\", \"player\", \"player\", \"player\", \"player\", \"playing\", \"playing\", \"playing\", \"playing\", \"playing\", \"playing\", \"playing\", \"playing\", \"playing\", \"playing\", \"playing\", \"playing\", \"playing\", \"playing\", \"playing\", \"playing\", \"playing\", \"playing\", \"playing\", \"playing\", \"plays\", \"plays\", \"plays\", \"plays\", \"plays\", \"plays\", \"plays\", \"plays\", \"plays\", \"plays\", \"plays\", \"plays\", \"plays\", \"plays\", \"plays\", \"plays\", \"plays\", \"plays\", \"plays\", \"plays\", \"poet\", \"poet\", \"poet\", \"poet\", \"poet\", \"poet\", \"poet\", \"poet\", \"poet\", \"poet\", \"poet\", \"poet\", \"poet\", \"poet\", \"poet\", \"poet\", \"poet\", \"poet\", \"poet\", \"poet\", \"point\", \"point\", \"point\", \"point\", \"point\", \"point\", \"point\", \"point\", \"point\", \"point\", \"point\", \"point\", \"point\", \"point\", \"point\", \"point\", \"point\", \"point\", \"point\", \"point\", \"poland\", \"poland\", \"poland\", \"poland\", \"poland\", \"poland\", \"poland\", \"poland\", \"poland\", \"poland\", \"poland\", \"poland\", \"poland\", \"poland\", \"poland\", \"poland\", \"poland\", \"poland\", \"poland\", \"poland\", \"political\", \"political\", \"political\", \"political\", \"political\", \"political\", \"political\", \"political\", \"political\", \"political\", \"political\", \"political\", \"political\", \"political\", \"political\", \"political\", \"political\", \"political\", \"political\", \"political\", \"politician\", \"politician\", \"politician\", \"politician\", \"politician\", \"politician\", \"politician\", \"politician\", \"politician\", \"politician\", \"politician\", \"politician\", \"politician\", \"politician\", \"politician\", \"politician\", \"politician\", \"politician\", \"politician\", \"politician\", \"population\", \"population\", \"population\", \"population\", \"population\", \"population\", \"population\", \"population\", \"population\", \"population\", \"population\", \"population\", \"population\", \"population\", \"population\", \"population\", \"population\", \"population\", \"population\", \"population\", \"president\", \"president\", \"president\", \"president\", \"president\", \"president\", \"president\", \"president\", \"president\", \"president\", \"president\", \"president\", \"president\", \"president\", \"president\", \"president\", \"president\", \"president\", \"president\", \"president\", \"prima\", \"prima\", \"prima\", \"prima\", \"prima\", \"prima\", \"prima\", \"prima\", \"prima\", \"prima\", \"prima\", \"prima\", \"prima\", \"prima\", \"prima\", \"prima\", \"prima\", \"prima\", \"prima\", \"prima\", \"printed\", \"printed\", \"printed\", \"printed\", \"printed\", \"printed\", \"printed\", \"printed\", \"printed\", \"printed\", \"printed\", \"printed\", \"printed\", \"printed\", \"printed\", \"printed\", \"printed\", \"printed\", \"printed\", \"printed\", \"produced\", \"produced\", \"produced\", \"produced\", \"produced\", \"produced\", \"produced\", \"produced\", \"produced\", \"produced\", \"produced\", \"produced\", \"produced\", \"produced\", \"produced\", \"produced\", \"produced\", \"produced\", \"produced\", \"produced\", \"producer\", \"producer\", \"producer\", \"producer\", \"producer\", \"producer\", \"producer\", \"producer\", \"producer\", \"producer\", \"producer\", \"producer\", \"producer\", \"producer\", \"producer\", \"producer\", \"producer\", \"producer\", \"producer\", \"producer\", \"product\", \"product\", \"product\", \"product\", \"product\", \"product\", \"product\", \"product\", \"product\", \"product\", \"product\", \"product\", \"product\", \"product\", \"product\", \"product\", \"product\", \"product\", \"product\", \"product\", \"production\", \"production\", \"production\", \"production\", \"production\", \"production\", \"production\", \"production\", \"production\", \"production\", \"production\", \"production\", \"production\", \"production\", \"production\", \"production\", \"production\", \"production\", \"production\", \"production\", \"professional\", \"professional\", \"professional\", \"professional\", \"professional\", \"professional\", \"professional\", \"professional\", \"professional\", \"professional\", \"professional\", \"professional\", \"professional\", \"professional\", \"professional\", \"professional\", \"professional\", \"professional\", \"professional\", \"professional\", \"professor\", \"professor\", \"professor\", \"professor\", \"professor\", \"professor\", \"professor\", \"professor\", \"professor\", \"professor\", \"professor\", \"professor\", \"professor\", \"professor\", \"professor\", \"professor\", \"professor\", \"professor\", \"professor\", \"professor\", \"program\", \"program\", \"program\", \"program\", \"program\", \"program\", \"program\", \"program\", \"program\", \"program\", \"program\", \"program\", \"program\", \"program\", \"program\", \"program\", \"program\", \"program\", \"program\", \"program\", \"progressive\", \"progressive\", \"progressive\", \"progressive\", \"progressive\", \"progressive\", \"progressive\", \"progressive\", \"progressive\", \"progressive\", \"progressive\", \"progressive\", \"progressive\", \"progressive\", \"progressive\", \"progressive\", \"progressive\", \"progressive\", \"progressive\", \"progressive\", \"project\", \"project\", \"project\", \"project\", \"project\", \"project\", \"project\", \"project\", \"project\", \"project\", \"project\", \"project\", \"project\", \"project\", \"project\", \"project\", \"project\", \"project\", \"project\", \"project\", \"protein\", \"protein\", \"protein\", \"protein\", \"protein\", \"protein\", \"protein\", \"protein\", \"protein\", \"protein\", \"protein\", \"protein\", \"protein\", \"protein\", \"protein\", \"protein\", \"protein\", \"protein\", \"protein\", \"protein\", \"provides\", \"provides\", \"provides\", \"provides\", \"provides\", \"provides\", \"provides\", \"provides\", \"provides\", \"provides\", \"provides\", \"provides\", \"provides\", \"provides\", \"provides\", \"provides\", \"provides\", \"provides\", \"provides\", \"provides\", \"province\", \"province\", \"province\", \"province\", \"province\", \"province\", \"province\", \"province\", \"province\", \"province\", \"province\", \"province\", \"province\", \"province\", \"province\", \"province\", \"province\", \"province\", \"province\", \"province\", \"public\", \"public\", \"public\", \"public\", \"public\", \"public\", \"public\", \"public\", \"public\", \"public\", \"public\", \"public\", \"public\", \"public\", \"public\", \"public\", \"public\", \"public\", \"public\", \"public\", \"published\", \"published\", \"published\", \"published\", \"published\", \"published\", \"published\", \"published\", \"published\", \"published\", \"published\", \"published\", \"published\", \"published\", \"published\", \"published\", \"published\", \"published\", \"published\", \"published\", \"radio\", \"radio\", \"radio\", \"radio\", \"radio\", \"radio\", \"radio\", \"radio\", \"radio\", \"radio\", \"radio\", \"radio\", \"radio\", \"radio\", \"radio\", \"radio\", \"radio\", \"radio\", \"radio\", \"radio\", \"rail\", \"rail\", \"rail\", \"rail\", \"rail\", \"rail\", \"rail\", \"rail\", \"rail\", \"rail\", \"rail\", \"rail\", \"rail\", \"rail\", \"rail\", \"rail\", \"rail\", \"rail\", \"rail\", \"rail\", \"railway\", \"railway\", \"railway\", \"railway\", \"railway\", \"railway\", \"railway\", \"railway\", \"railway\", \"railway\", \"railway\", \"railway\", \"railway\", \"railway\", \"railway\", \"railway\", \"railway\", \"railway\", \"railway\", \"railway\", \"range\", \"range\", \"range\", \"range\", \"range\", \"range\", \"range\", \"range\", \"range\", \"range\", \"range\", \"range\", \"range\", \"range\", \"range\", \"range\", \"range\", \"range\", \"range\", \"range\", \"refers\", \"refers\", \"refers\", \"refers\", \"refers\", \"refers\", \"refers\", \"refers\", \"refers\", \"refers\", \"refers\", \"refers\", \"refers\", \"refers\", \"refers\", \"refers\", \"refers\", \"refers\", \"refers\", \"refers\", \"region\", \"region\", \"region\", \"region\", \"region\", \"region\", \"region\", \"region\", \"region\", \"region\", \"region\", \"region\", \"region\", \"region\", \"region\", \"region\", \"region\", \"region\", \"region\", \"region\", \"regional\", \"regional\", \"regional\", \"regional\", \"regional\", \"regional\", \"regional\", \"regional\", \"regional\", \"regional\", \"regional\", \"regional\", \"regional\", \"regional\", \"regional\", \"regional\", \"regional\", \"regional\", \"regional\", \"regional\", \"register\", \"register\", \"register\", \"register\", \"register\", \"register\", \"register\", \"register\", \"register\", \"register\", \"register\", \"register\", \"register\", \"register\", \"register\", \"register\", \"register\", \"register\", \"register\", \"register\", \"related\", \"related\", \"related\", \"related\", \"related\", \"related\", \"related\", \"related\", \"related\", \"related\", \"related\", \"related\", \"related\", \"related\", \"related\", \"related\", \"related\", \"related\", \"related\", \"related\", \"release\", \"release\", \"release\", \"release\", \"release\", \"release\", \"release\", \"release\", \"release\", \"release\", \"release\", \"release\", \"release\", \"release\", \"release\", \"release\", \"release\", \"release\", \"release\", \"release\", \"released\", \"released\", \"released\", \"released\", \"released\", \"released\", \"released\", \"released\", \"released\", \"released\", \"released\", \"released\", \"released\", \"released\", \"released\", \"released\", \"released\", \"released\", \"released\", \"released\", \"representatives\", \"representatives\", \"representatives\", \"representatives\", \"representatives\", \"representatives\", \"representatives\", \"representatives\", \"representatives\", \"representatives\", \"representatives\", \"representatives\", \"representatives\", \"representatives\", \"representatives\", \"representatives\", \"representatives\", \"representatives\", \"representatives\", \"representatives\", \"represented\", \"represented\", \"represented\", \"represented\", \"represented\", \"represented\", \"represented\", \"represented\", \"represented\", \"represented\", \"represented\", \"represented\", \"represented\", \"represented\", \"represented\", \"represented\", \"represented\", \"represented\", \"represented\", \"represented\", \"republican\", \"republican\", \"republican\", \"republican\", \"republican\", \"republican\", \"republican\", \"republican\", \"republican\", \"republican\", \"republican\", \"republican\", \"republican\", \"republican\", \"republican\", \"republican\", \"republican\", \"republican\", \"republican\", \"republican\", \"research\", \"research\", \"research\", \"research\", \"research\", \"research\", \"research\", \"research\", \"research\", \"research\", \"research\", \"research\", \"research\", \"research\", \"research\", \"research\", \"research\", \"research\", \"research\", \"research\", \"response\", \"response\", \"response\", \"response\", \"response\", \"response\", \"response\", \"response\", \"response\", \"response\", \"response\", \"response\", \"response\", \"response\", \"response\", \"response\", \"response\", \"response\", \"response\", \"response\", \"retired\", \"retired\", \"retired\", \"retired\", \"retired\", \"retired\", \"retired\", \"retired\", \"retired\", \"retired\", \"retired\", \"retired\", \"retired\", \"retired\", \"retired\", \"retired\", \"retired\", \"retired\", \"retired\", \"retired\", \"river\", \"river\", \"river\", \"river\", \"river\", \"river\", \"river\", \"river\", \"river\", \"river\", \"river\", \"river\", \"river\", \"river\", \"river\", \"river\", \"river\", \"river\", \"river\", \"river\", \"road\", \"road\", \"road\", \"road\", \"road\", \"road\", \"road\", \"road\", \"road\", \"road\", \"road\", \"road\", \"road\", \"road\", \"road\", \"road\", \"road\", \"road\", \"road\", \"road\", \"rock\", \"rock\", \"rock\", \"rock\", \"rock\", \"rock\", \"rock\", \"rock\", \"rock\", \"rock\", \"rock\", \"rock\", \"rock\", \"rock\", \"rock\", \"rock\", \"rock\", \"rock\", \"rock\", \"rock\", \"role\", \"role\", \"role\", \"role\", \"role\", \"role\", \"role\", \"role\", \"role\", \"role\", \"role\", \"role\", \"role\", \"role\", \"role\", \"role\", \"role\", \"role\", \"role\", \"role\", \"romanized\", \"romanized\", \"romanized\", \"romanized\", \"romanized\", \"romanized\", \"romanized\", \"romanized\", \"romanized\", \"romanized\", \"romanized\", \"romanized\", \"romanized\", \"romanized\", \"romanized\", \"romanized\", \"romanized\", \"romanized\", \"romanized\", \"romanized\", \"round\", \"round\", \"round\", \"round\", \"round\", \"round\", \"round\", \"round\", \"round\", \"round\", \"round\", \"round\", \"round\", \"round\", \"round\", \"round\", \"round\", \"round\", \"round\", \"round\", \"route\", \"route\", \"route\", \"route\", \"route\", \"route\", \"route\", \"route\", \"route\", \"route\", \"route\", \"route\", \"route\", \"route\", \"route\", \"route\", \"route\", \"route\", \"route\", \"route\", \"royal\", \"royal\", \"royal\", \"royal\", \"royal\", \"royal\", \"royal\", \"royal\", \"royal\", \"royal\", \"royal\", \"royal\", \"royal\", \"royal\", \"royal\", \"royal\", \"royal\", \"royal\", \"royal\", \"royal\", \"rugby\", \"rugby\", \"rugby\", \"rugby\", \"rugby\", \"rugby\", \"rugby\", \"rugby\", \"rugby\", \"rugby\", \"rugby\", \"rugby\", \"rugby\", \"rugby\", \"rugby\", \"rugby\", \"rugby\", \"rugby\", \"rugby\", \"rugby\", \"rural\", \"rural\", \"rural\", \"rural\", \"rural\", \"rural\", \"rural\", \"rural\", \"rural\", \"rural\", \"rural\", \"rural\", \"rural\", \"rural\", \"rural\", \"rural\", \"rural\", \"rural\", \"rural\", \"rural\", \"sanskrit\", \"sanskrit\", \"sanskrit\", \"sanskrit\", \"sanskrit\", \"sanskrit\", \"sanskrit\", \"sanskrit\", \"sanskrit\", \"sanskrit\", \"sanskrit\", \"sanskrit\", \"sanskrit\", \"sanskrit\", \"sanskrit\", \"sanskrit\", \"sanskrit\", \"sanskrit\", \"sanskrit\", \"sanskrit\", \"school\", \"school\", \"school\", \"school\", \"school\", \"school\", \"school\", \"school\", \"school\", \"school\", \"school\", \"school\", \"school\", \"school\", \"school\", \"school\", \"school\", \"school\", \"school\", \"school\", \"schools\", \"schools\", \"schools\", \"schools\", \"schools\", \"schools\", \"schools\", \"schools\", \"schools\", \"schools\", \"schools\", \"schools\", \"schools\", \"schools\", \"schools\", \"schools\", \"schools\", \"schools\", \"schools\", \"schools\", \"science\", \"science\", \"science\", \"science\", \"science\", \"science\", \"science\", \"science\", \"science\", \"science\", \"science\", \"science\", \"science\", \"science\", \"science\", \"science\", \"science\", \"science\", \"science\", \"science\", \"sciences\", \"sciences\", \"sciences\", \"sciences\", \"sciences\", \"sciences\", \"sciences\", \"sciences\", \"sciences\", \"sciences\", \"sciences\", \"sciences\", \"sciences\", \"sciences\", \"sciences\", \"sciences\", \"sciences\", \"sciences\", \"sciences\", \"sciences\", \"season\", \"season\", \"season\", \"season\", \"season\", \"season\", \"season\", \"season\", \"season\", \"season\", \"season\", \"season\", \"season\", \"season\", \"season\", \"season\", \"season\", \"season\", \"season\", \"season\", \"second\", \"second\", \"second\", \"second\", \"second\", \"second\", \"second\", \"second\", \"second\", \"second\", \"second\", \"second\", \"second\", \"second\", \"second\", \"second\", \"second\", \"second\", \"second\", \"second\", \"senate\", \"senate\", \"senate\", \"senate\", \"senate\", \"senate\", \"senate\", \"senate\", \"senate\", \"senate\", \"senate\", \"senate\", \"senate\", \"senate\", \"senate\", \"senate\", \"senate\", \"senate\", \"senate\", \"senate\", \"september\", \"september\", \"september\", \"september\", \"september\", \"september\", \"september\", \"september\", \"september\", \"september\", \"september\", \"september\", \"september\", \"september\", \"september\", \"september\", \"september\", \"september\", \"september\", \"september\", \"sequel\", \"sequel\", \"sequel\", \"sequel\", \"sequel\", \"sequel\", \"sequel\", \"sequel\", \"sequel\", \"sequel\", \"sequel\", \"sequel\", \"sequel\", \"sequel\", \"sequel\", \"sequel\", \"sequel\", \"sequel\", \"sequel\", \"sequel\", \"series\", \"series\", \"series\", \"series\", \"series\", \"series\", \"series\", \"series\", \"series\", \"series\", \"series\", \"series\", \"series\", \"series\", \"series\", \"series\", \"series\", \"series\", \"series\", \"series\", \"served\", \"served\", \"served\", \"served\", \"served\", \"served\", \"served\", \"served\", \"served\", \"served\", \"served\", \"served\", \"served\", \"served\", \"served\", \"served\", \"served\", \"served\", \"served\", \"served\", \"service\", \"service\", \"service\", \"service\", \"service\", \"service\", \"service\", \"service\", \"service\", \"service\", \"service\", \"service\", \"service\", \"service\", \"service\", \"service\", \"service\", \"service\", \"service\", \"service\", \"several\", \"several\", \"several\", \"several\", \"several\", \"several\", \"several\", \"several\", \"several\", \"several\", \"several\", \"several\", \"several\", \"several\", \"several\", \"several\", \"several\", \"several\", \"several\", \"several\", \"shanghai\", \"shanghai\", \"shanghai\", \"shanghai\", \"shanghai\", \"shanghai\", \"shanghai\", \"shanghai\", \"shanghai\", \"shanghai\", \"shanghai\", \"shanghai\", \"shanghai\", \"shanghai\", \"shanghai\", \"shanghai\", \"shanghai\", \"shanghai\", \"shanghai\", \"shanghai\", \"ship\", \"ship\", \"ship\", \"ship\", \"ship\", \"ship\", \"ship\", \"ship\", \"ship\", \"ship\", \"ship\", \"ship\", \"ship\", \"ship\", \"ship\", \"ship\", \"ship\", \"ship\", \"ship\", \"ship\", \"ships\", \"ships\", \"ships\", \"ships\", \"ships\", \"ships\", \"ships\", \"ships\", \"ships\", \"ships\", \"ships\", \"ships\", \"ships\", \"ships\", \"ships\", \"ships\", \"ships\", \"ships\", \"ships\", \"ships\", \"short\", \"short\", \"short\", \"short\", \"short\", \"short\", \"short\", \"short\", \"short\", \"short\", \"short\", \"short\", \"short\", \"short\", \"short\", \"short\", \"short\", \"short\", \"short\", \"short\", \"show\", \"show\", \"show\", \"show\", \"show\", \"show\", \"show\", \"show\", \"show\", \"show\", \"show\", \"show\", \"show\", \"show\", \"show\", \"show\", \"show\", \"show\", \"show\", \"show\", \"side\", \"side\", \"side\", \"side\", \"side\", \"side\", \"side\", \"side\", \"side\", \"side\", \"side\", \"side\", \"side\", \"side\", \"side\", \"side\", \"side\", \"side\", \"side\", \"side\", \"silesian\", \"silesian\", \"silesian\", \"silesian\", \"silesian\", \"silesian\", \"silesian\", \"silesian\", \"silesian\", \"silesian\", \"silesian\", \"silesian\", \"silesian\", \"silesian\", \"silesian\", \"silesian\", \"silesian\", \"silesian\", \"silesian\", \"silesian\", \"silver\", \"silver\", \"silver\", \"silver\", \"silver\", \"silver\", \"silver\", \"silver\", \"silver\", \"silver\", \"silver\", \"silver\", \"silver\", \"silver\", \"silver\", \"silver\", \"silver\", \"silver\", \"silver\", \"silver\", \"since\", \"since\", \"since\", \"since\", \"since\", \"since\", \"since\", \"since\", \"since\", \"since\", \"since\", \"since\", \"since\", \"since\", \"since\", \"since\", \"since\", \"since\", \"since\", \"since\", \"singer\", \"singer\", \"singer\", \"singer\", \"singer\", \"singer\", \"singer\", \"singer\", \"singer\", \"singer\", \"singer\", \"singer\", \"singer\", \"singer\", \"singer\", \"singer\", \"singer\", \"singer\", \"singer\", \"singer\", \"sir\", \"sir\", \"sir\", \"sir\", \"sir\", \"sir\", \"sir\", \"sir\", \"sir\", \"sir\", \"sir\", \"sir\", \"sir\", \"sir\", \"sir\", \"sir\", \"sir\", \"sir\", \"sir\", \"sir\", \"site\", \"site\", \"site\", \"site\", \"site\", \"site\", \"site\", \"site\", \"site\", \"site\", \"site\", \"site\", \"site\", \"site\", \"site\", \"site\", \"site\", \"site\", \"site\", \"site\", \"situated\", \"situated\", \"situated\", \"situated\", \"situated\", \"situated\", \"situated\", \"situated\", \"situated\", \"situated\", \"situated\", \"situated\", \"situated\", \"situated\", \"situated\", \"situated\", \"situated\", \"situated\", \"situated\", \"situated\", \"six\", \"six\", \"six\", \"six\", \"six\", \"six\", \"six\", \"six\", \"six\", \"six\", \"six\", \"six\", \"six\", \"six\", \"six\", \"six\", \"six\", \"six\", \"six\", \"six\", \"small\", \"small\", \"small\", \"small\", \"small\", \"small\", \"small\", \"small\", \"small\", \"small\", \"small\", \"small\", \"small\", \"small\", \"small\", \"small\", \"small\", \"small\", \"small\", \"small\", \"solo\", \"solo\", \"solo\", \"solo\", \"solo\", \"solo\", \"solo\", \"solo\", \"solo\", \"solo\", \"solo\", \"solo\", \"solo\", \"solo\", \"solo\", \"solo\", \"solo\", \"solo\", \"solo\", \"solo\", \"son\", \"son\", \"son\", \"son\", \"son\", \"son\", \"son\", \"son\", \"son\", \"son\", \"son\", \"son\", \"son\", \"son\", \"son\", \"son\", \"son\", \"son\", \"son\", \"son\", \"songwriter\", \"songwriter\", \"songwriter\", \"songwriter\", \"songwriter\", \"songwriter\", \"songwriter\", \"songwriter\", \"songwriter\", \"songwriter\", \"songwriter\", \"songwriter\", \"songwriter\", \"songwriter\", \"songwriter\", \"songwriter\", \"songwriter\", \"songwriter\", \"songwriter\", \"songwriter\", \"south\", \"south\", \"south\", \"south\", \"south\", \"south\", \"south\", \"south\", \"south\", \"south\", \"south\", \"south\", \"south\", \"south\", \"south\", \"south\", \"south\", \"south\", \"south\", \"south\", \"space\", \"space\", \"space\", \"space\", \"space\", \"space\", \"space\", \"space\", \"space\", \"space\", \"space\", \"space\", \"space\", \"space\", \"space\", \"space\", \"space\", \"space\", \"space\", \"space\", \"spanish\", \"spanish\", \"spanish\", \"spanish\", \"spanish\", \"spanish\", \"spanish\", \"spanish\", \"spanish\", \"spanish\", \"spanish\", \"spanish\", \"spanish\", \"spanish\", \"spanish\", \"spanish\", \"spanish\", \"spanish\", \"spanish\", \"spanish\", \"species\", \"species\", \"species\", \"species\", \"species\", \"species\", \"species\", \"species\", \"species\", \"species\", \"species\", \"species\", \"species\", \"species\", \"species\", \"species\", \"species\", \"species\", \"species\", \"species\", \"specific\", \"specific\", \"specific\", \"specific\", \"specific\", \"specific\", \"specific\", \"specific\", \"specific\", \"specific\", \"specific\", \"specific\", \"specific\", \"specific\", \"specific\", \"specific\", \"specific\", \"specific\", \"specific\", \"specific\", \"sq\", \"sq\", \"sq\", \"sq\", \"sq\", \"sq\", \"sq\", \"sq\", \"sq\", \"sq\", \"sq\", \"sq\", \"sq\", \"sq\", \"sq\", \"sq\", \"sq\", \"sq\", \"sq\", \"sq\", \"square\", \"square\", \"square\", \"square\", \"square\", \"square\", \"square\", \"square\", \"square\", \"square\", \"square\", \"square\", \"square\", \"square\", \"square\", \"square\", \"square\", \"square\", \"square\", \"square\", \"stadium\", \"stadium\", \"stadium\", \"stadium\", \"stadium\", \"stadium\", \"stadium\", \"stadium\", \"stadium\", \"stadium\", \"stadium\", \"stadium\", \"stadium\", \"stadium\", \"stadium\", \"stadium\", \"stadium\", \"stadium\", \"stadium\", \"stadium\", \"starring\", \"starring\", \"starring\", \"starring\", \"starring\", \"starring\", \"starring\", \"starring\", \"starring\", \"starring\", \"starring\", \"starring\", \"starring\", \"starring\", \"starring\", \"starring\", \"starring\", \"starring\", \"starring\", \"starring\", \"stars\", \"stars\", \"stars\", \"stars\", \"stars\", \"stars\", \"stars\", \"stars\", \"stars\", \"stars\", \"stars\", \"stars\", \"stars\", \"stars\", \"stars\", \"stars\", \"stars\", \"stars\", \"stars\", \"stars\", \"state\", \"state\", \"state\", \"state\", \"state\", \"state\", \"state\", \"state\", \"state\", \"state\", \"state\", \"state\", \"state\", \"state\", \"state\", \"state\", \"state\", \"state\", \"state\", \"state\", \"states\", \"states\", \"states\", \"states\", \"states\", \"states\", \"states\", \"states\", \"states\", \"states\", \"states\", \"states\", \"states\", \"states\", \"states\", \"states\", \"states\", \"states\", \"states\", \"states\", \"station\", \"station\", \"station\", \"station\", \"station\", \"station\", \"station\", \"station\", \"station\", \"station\", \"station\", \"station\", \"station\", \"station\", \"station\", \"station\", \"station\", \"station\", \"station\", \"station\", \"street\", \"street\", \"street\", \"street\", \"street\", \"street\", \"street\", \"street\", \"street\", \"street\", \"street\", \"street\", \"street\", \"street\", \"street\", \"street\", \"street\", \"street\", \"street\", \"street\", \"studied\", \"studied\", \"studied\", \"studied\", \"studied\", \"studied\", \"studied\", \"studied\", \"studied\", \"studied\", \"studied\", \"studied\", \"studied\", \"studied\", \"studied\", \"studied\", \"studied\", \"studied\", \"studied\", \"studied\", \"studies\", \"studies\", \"studies\", \"studies\", \"studies\", \"studies\", \"studies\", \"studies\", \"studies\", \"studies\", \"studies\", \"studies\", \"studies\", \"studies\", \"studies\", \"studies\", \"studies\", \"studies\", \"studies\", \"studies\", \"studio\", \"studio\", \"studio\", \"studio\", \"studio\", \"studio\", \"studio\", \"studio\", \"studio\", \"studio\", \"studio\", \"studio\", \"studio\", \"studio\", \"studio\", \"studio\", \"studio\", \"studio\", \"studio\", \"studio\", \"style\", \"style\", \"style\", \"style\", \"style\", \"style\", \"style\", \"style\", \"style\", \"style\", \"style\", \"style\", \"style\", \"style\", \"style\", \"style\", \"style\", \"style\", \"style\", \"style\", \"subfamily\", \"subfamily\", \"subfamily\", \"subfamily\", \"subfamily\", \"subfamily\", \"subfamily\", \"subfamily\", \"subfamily\", \"subfamily\", \"subfamily\", \"subfamily\", \"subfamily\", \"subfamily\", \"subfamily\", \"subfamily\", \"subfamily\", \"subfamily\", \"subfamily\", \"subfamily\", \"summer\", \"summer\", \"summer\", \"summer\", \"summer\", \"summer\", \"summer\", \"summer\", \"summer\", \"summer\", \"summer\", \"summer\", \"summer\", \"summer\", \"summer\", \"summer\", \"summer\", \"summer\", \"summer\", \"summer\", \"support\", \"support\", \"support\", \"support\", \"support\", \"support\", \"support\", \"support\", \"support\", \"support\", \"support\", \"support\", \"support\", \"support\", \"support\", \"support\", \"support\", \"support\", \"support\", \"support\", \"surface\", \"surface\", \"surface\", \"surface\", \"surface\", \"surface\", \"surface\", \"surface\", \"surface\", \"surface\", \"surface\", \"surface\", \"surface\", \"surface\", \"surface\", \"surface\", \"surface\", \"surface\", \"surface\", \"surface\", \"survey\", \"survey\", \"survey\", \"survey\", \"survey\", \"survey\", \"survey\", \"survey\", \"survey\", \"survey\", \"survey\", \"survey\", \"survey\", \"survey\", \"survey\", \"survey\", \"survey\", \"survey\", \"survey\", \"survey\", \"system\", \"system\", \"system\", \"system\", \"system\", \"system\", \"system\", \"system\", \"system\", \"system\", \"system\", \"system\", \"system\", \"system\", \"system\", \"system\", \"system\", \"system\", \"system\", \"system\", \"team\", \"team\", \"team\", \"team\", \"team\", \"team\", \"team\", \"team\", \"team\", \"team\", \"team\", \"team\", \"team\", \"team\", \"team\", \"team\", \"team\", \"team\", \"team\", \"team\", \"teams\", \"teams\", \"teams\", \"teams\", \"teams\", \"teams\", \"teams\", \"teams\", \"teams\", \"teams\", \"teams\", \"teams\", \"teams\", \"teams\", \"teams\", \"teams\", \"teams\", \"teams\", \"teams\", \"teams\", \"television\", \"television\", \"television\", \"television\", \"television\", \"television\", \"television\", \"television\", \"television\", \"television\", \"television\", \"television\", \"television\", \"television\", \"television\", \"television\", \"television\", \"television\", \"television\", \"television\", \"term\", \"term\", \"term\", \"term\", \"term\", \"term\", \"term\", \"term\", \"term\", \"term\", \"term\", \"term\", \"term\", \"term\", \"term\", \"term\", \"term\", \"term\", \"term\", \"term\", \"th\", \"th\", \"th\", \"th\", \"th\", \"th\", \"th\", \"th\", \"th\", \"th\", \"th\", \"th\", \"th\", \"th\", \"th\", \"th\", \"th\", \"th\", \"th\", \"th\", \"theorem\", \"theorem\", \"theorem\", \"theorem\", \"theorem\", \"theorem\", \"theorem\", \"theorem\", \"theorem\", \"theorem\", \"theorem\", \"theorem\", \"theorem\", \"theorem\", \"theorem\", \"theorem\", \"theorem\", \"theorem\", \"theorem\", \"theorem\", \"third\", \"third\", \"third\", \"third\", \"third\", \"third\", \"third\", \"third\", \"third\", \"third\", \"third\", \"third\", \"third\", \"third\", \"third\", \"third\", \"third\", \"third\", \"third\", \"third\", \"title\", \"title\", \"title\", \"title\", \"title\", \"title\", \"title\", \"title\", \"title\", \"title\", \"title\", \"title\", \"title\", \"title\", \"title\", \"title\", \"title\", \"title\", \"title\", \"title\", \"tournament\", \"tournament\", \"tournament\", \"tournament\", \"tournament\", \"tournament\", \"tournament\", \"tournament\", \"tournament\", \"tournament\", \"tournament\", \"tournament\", \"tournament\", \"tournament\", \"tournament\", \"tournament\", \"tournament\", \"tournament\", \"tournament\", \"tournament\", \"town\", \"town\", \"town\", \"town\", \"town\", \"town\", \"town\", \"town\", \"town\", \"town\", \"town\", \"town\", \"town\", \"town\", \"town\", \"town\", \"town\", \"town\", \"town\", \"town\", \"township\", \"township\", \"township\", \"township\", \"township\", \"township\", \"township\", \"township\", \"township\", \"township\", \"township\", \"township\", \"township\", \"township\", \"township\", \"township\", \"township\", \"township\", \"township\", \"township\", \"track\", \"track\", \"track\", \"track\", \"track\", \"track\", \"track\", \"track\", \"track\", \"track\", \"track\", \"track\", \"track\", \"track\", \"track\", \"track\", \"track\", \"track\", \"track\", \"track\", \"troops\", \"troops\", \"troops\", \"troops\", \"troops\", \"troops\", \"troops\", \"troops\", \"troops\", \"troops\", \"troops\", \"troops\", \"troops\", \"troops\", \"troops\", \"troops\", \"troops\", \"troops\", \"troops\", \"troops\", \"tropical\", \"tropical\", \"tropical\", \"tropical\", \"tropical\", \"tropical\", \"tropical\", \"tropical\", \"tropical\", \"tropical\", \"tropical\", \"tropical\", \"tropical\", \"tropical\", \"tropical\", \"tropical\", \"tropical\", \"tropical\", \"tropical\", \"tropical\", \"type\", \"type\", \"type\", \"type\", \"type\", \"type\", \"type\", \"type\", \"type\", \"type\", \"type\", \"type\", \"type\", \"type\", \"type\", \"type\", \"type\", \"type\", \"type\", \"type\", \"unincorporated\", \"unincorporated\", \"unincorporated\", \"unincorporated\", \"unincorporated\", \"unincorporated\", \"unincorporated\", \"unincorporated\", \"unincorporated\", \"unincorporated\", \"unincorporated\", \"unincorporated\", \"unincorporated\", \"unincorporated\", \"unincorporated\", \"unincorporated\", \"unincorporated\", \"unincorporated\", \"unincorporated\", \"unincorporated\", \"union\", \"union\", \"union\", \"union\", \"union\", \"union\", \"union\", \"union\", \"union\", \"union\", \"union\", \"union\", \"union\", \"union\", \"union\", \"union\", \"union\", \"union\", \"union\", \"union\", \"used\", \"used\", \"used\", \"used\", \"used\", \"used\", \"used\", \"used\", \"used\", \"used\", \"used\", \"used\", \"used\", \"used\", \"used\", \"used\", \"used\", \"used\", \"used\", \"used\", \"valley\", \"valley\", \"valley\", \"valley\", \"valley\", \"valley\", \"valley\", \"valley\", \"valley\", \"valley\", \"valley\", \"valley\", \"valley\", \"valley\", \"valley\", \"valley\", \"valley\", \"valley\", \"valley\", \"valley\", \"vessel\", \"vessel\", \"vessel\", \"vessel\", \"vessel\", \"vessel\", \"vessel\", \"vessel\", \"vessel\", \"vessel\", \"vessel\", \"vessel\", \"vessel\", \"vessel\", \"vessel\", \"vessel\", \"vessel\", \"vessel\", \"vessel\", \"vessel\", \"video\", \"video\", \"video\", \"video\", \"video\", \"video\", \"video\", \"video\", \"video\", \"video\", \"video\", \"video\", \"video\", \"video\", \"video\", \"video\", \"video\", \"video\", \"video\", \"video\", \"village\", \"village\", \"village\", \"village\", \"village\", \"village\", \"village\", \"village\", \"village\", \"village\", \"village\", \"village\", \"village\", \"village\", \"village\", \"village\", \"village\", \"village\", \"village\", \"village\", \"voice\", \"voice\", \"voice\", \"voice\", \"voice\", \"voice\", \"voice\", \"voice\", \"voice\", \"voice\", \"voice\", \"voice\", \"voice\", \"voice\", \"voice\", \"voice\", \"voice\", \"voice\", \"voice\", \"voice\", \"voivodeship\", \"voivodeship\", \"voivodeship\", \"voivodeship\", \"voivodeship\", \"voivodeship\", \"voivodeship\", \"voivodeship\", \"voivodeship\", \"voivodeship\", \"voivodeship\", \"voivodeship\", \"voivodeship\", \"voivodeship\", \"voivodeship\", \"voivodeship\", \"voivodeship\", \"voivodeship\", \"voivodeship\", \"voivodeship\", \"volume\", \"volume\", \"volume\", \"volume\", \"volume\", \"volume\", \"volume\", \"volume\", \"volume\", \"volume\", \"volume\", \"volume\", \"volume\", \"volume\", \"volume\", \"volume\", \"volume\", \"volume\", \"volume\", \"volume\", \"war\", \"war\", \"war\", \"war\", \"war\", \"war\", \"war\", \"war\", \"war\", \"war\", \"war\", \"war\", \"war\", \"war\", \"war\", \"war\", \"war\", \"war\", \"war\", \"war\", \"west\", \"west\", \"west\", \"west\", \"west\", \"west\", \"west\", \"west\", \"west\", \"west\", \"west\", \"west\", \"west\", \"west\", \"west\", \"west\", \"west\", \"west\", \"west\", \"west\", \"western\", \"western\", \"western\", \"western\", \"western\", \"western\", \"western\", \"western\", \"western\", \"western\", \"western\", \"western\", \"western\", \"western\", \"western\", \"western\", \"western\", \"western\", \"western\", \"western\", \"white\", \"white\", \"white\", \"white\", \"white\", \"white\", \"white\", \"white\", \"white\", \"white\", \"white\", \"white\", \"white\", \"white\", \"white\", \"white\", \"white\", \"white\", \"white\", \"white\", \"widely\", \"widely\", \"widely\", \"widely\", \"widely\", \"widely\", \"widely\", \"widely\", \"widely\", \"widely\", \"widely\", \"widely\", \"widely\", \"widely\", \"widely\", \"widely\", \"widely\", \"widely\", \"widely\", \"widely\", \"william\", \"william\", \"william\", \"william\", \"william\", \"william\", \"william\", \"william\", \"william\", \"william\", \"william\", \"william\", \"william\", \"william\", \"william\", \"william\", \"william\", \"william\", \"william\", \"william\", \"wing\", \"wing\", \"wing\", \"wing\", \"wing\", \"wing\", \"wing\", \"wing\", \"wing\", \"wing\", \"wing\", \"wing\", \"wing\", \"wing\", \"wing\", \"wing\", \"wing\", \"wing\", \"wing\", \"wing\", \"wingspan\", \"wingspan\", \"wingspan\", \"wingspan\", \"wingspan\", \"wingspan\", \"wingspan\", \"wingspan\", \"wingspan\", \"wingspan\", \"wingspan\", \"wingspan\", \"wingspan\", \"wingspan\", \"wingspan\", \"wingspan\", \"wingspan\", \"wingspan\", \"wingspan\", \"wingspan\", \"winning\", \"winning\", \"winning\", \"winning\", \"winning\", \"winning\", \"winning\", \"winning\", \"winning\", \"winning\", \"winning\", \"winning\", \"winning\", \"winning\", \"winning\", \"winning\", \"winning\", \"winning\", \"winning\", \"winning\", \"wins\", \"wins\", \"wins\", \"wins\", \"wins\", \"wins\", \"wins\", \"wins\", \"wins\", \"wins\", \"wins\", \"wins\", \"wins\", \"wins\", \"wins\", \"wins\", \"wins\", \"wins\", \"wins\", \"wins\", \"within\", \"within\", \"within\", \"within\", \"within\", \"within\", \"within\", \"within\", \"within\", \"within\", \"within\", \"within\", \"within\", \"within\", \"within\", \"within\", \"within\", \"within\", \"within\", \"within\", \"women\", \"women\", \"women\", \"women\", \"women\", \"women\", \"women\", \"women\", \"women\", \"women\", \"women\", \"women\", \"women\", \"women\", \"women\", \"women\", \"women\", \"women\", \"women\", \"women\", \"work\", \"work\", \"work\", \"work\", \"work\", \"work\", \"work\", \"work\", \"work\", \"work\", \"work\", \"work\", \"work\", \"work\", \"work\", \"work\", \"work\", \"work\", \"work\", \"work\", \"worked\", \"worked\", \"worked\", \"worked\", \"worked\", \"worked\", \"worked\", \"worked\", \"worked\", \"worked\", \"worked\", \"worked\", \"worked\", \"worked\", \"worked\", \"worked\", \"worked\", \"worked\", \"worked\", \"worked\", \"working\", \"working\", \"working\", \"working\", \"working\", \"working\", \"working\", \"working\", \"working\", \"working\", \"working\", \"working\", \"working\", \"working\", \"working\", \"working\", \"working\", \"working\", \"working\", \"working\", \"world\", \"world\", \"world\", \"world\", \"world\", \"world\", \"world\", \"world\", \"world\", \"world\", \"world\", \"world\", \"world\", \"world\", \"world\", \"world\", \"world\", \"world\", \"world\", \"world\", \"writer\", \"writer\", \"writer\", \"writer\", \"writer\", \"writer\", \"writer\", \"writer\", \"writer\", \"writer\", \"writer\", \"writer\", \"writer\", \"writer\", \"writer\", \"writer\", \"writer\", \"writer\", \"writer\", \"writer\", \"written\", \"written\", \"written\", \"written\", \"written\", \"written\", \"written\", \"written\", \"written\", \"written\", \"written\", \"written\", \"written\", \"written\", \"written\", \"written\", \"written\", \"written\", \"written\", \"written\", \"wrote\", \"wrote\", \"wrote\", \"wrote\", \"wrote\", \"wrote\", \"wrote\", \"wrote\", \"wrote\", \"wrote\", \"wrote\", \"wrote\", \"wrote\", \"wrote\", \"wrote\", \"wrote\", \"wrote\", \"wrote\", \"wrote\", \"wrote\", \"years\", \"years\", \"years\", \"years\", \"years\", \"years\", \"years\", \"years\", \"years\", \"years\", \"years\", \"years\", \"years\", \"years\", \"years\", \"years\", \"years\", \"years\", \"years\", \"years\", \"york\", \"york\", \"york\", \"york\", \"york\", \"york\", \"york\", \"york\", \"york\", \"york\", \"york\", \"york\", \"york\", \"york\", \"york\", \"york\", \"york\", \"york\", \"york\", \"york\", \"young\", \"young\", \"young\", \"young\", \"young\", \"young\", \"young\", \"young\", \"young\", \"young\", \"young\", \"young\", \"young\", \"young\", \"young\", \"young\", \"young\", \"young\", \"young\", \"young\", \"zone\", \"zone\", \"zone\", \"zone\", \"zone\", \"zone\", \"zone\", \"zone\", \"zone\", \"zone\", \"zone\", \"zone\", \"zone\", \"zone\", \"zone\", \"zone\", \"zone\", \"zone\", \"zone\", \"zone\"]}, \"R\": 30, \"lambda.step\": 0.01, \"plot.opts\": {\"xlab\": \"PC1\", \"ylab\": \"PC2\"}, \"topic.order\": [6, 12, 4, 2, 10, 9, 11, 14, 16, 1, 7, 19, 5, 17, 8, 13, 15, 18, 3, 20]};\n",
              "\n",
              "function LDAvis_load_lib(url, callback){\n",
              "  var s = document.createElement('script');\n",
              "  s.src = url;\n",
              "  s.async = true;\n",
              "  s.onreadystatechange = s.onload = callback;\n",
              "  s.onerror = function(){console.warn(\"failed to load library \" + url);};\n",
              "  document.getElementsByTagName(\"head\")[0].appendChild(s);\n",
              "}\n",
              "\n",
              "if(typeof(LDAvis) !== \"undefined\"){\n",
              "   // already loaded: just create the visualization\n",
              "   !function(LDAvis){\n",
              "       new LDAvis(\"#\" + \"ldavis_el731399307841037609857248491\", ldavis_el731399307841037609857248491_data);\n",
              "   }(LDAvis);\n",
              "}else if(typeof define === \"function\" && define.amd){\n",
              "   // require.js is available: use it to load d3/LDAvis\n",
              "   require.config({paths: {d3: \"https://d3js.org/d3.v5\"}});\n",
              "   require([\"d3\"], function(d3){\n",
              "      window.d3 = d3;\n",
              "      LDAvis_load_lib(\"https://cdn.jsdelivr.net/gh/bmabey/pyLDAvis@3.3.1/pyLDAvis/js/ldavis.v3.0.0.js\", function(){\n",
              "        new LDAvis(\"#\" + \"ldavis_el731399307841037609857248491\", ldavis_el731399307841037609857248491_data);\n",
              "      });\n",
              "    });\n",
              "}else{\n",
              "    // require.js not available: dynamically load d3 & LDAvis\n",
              "    LDAvis_load_lib(\"https://d3js.org/d3.v5.js\", function(){\n",
              "         LDAvis_load_lib(\"https://cdn.jsdelivr.net/gh/bmabey/pyLDAvis@3.3.1/pyLDAvis/js/ldavis.v3.0.0.js\", function(){\n",
              "                 new LDAvis(\"#\" + \"ldavis_el731399307841037609857248491\", ldavis_el731399307841037609857248491_data);\n",
              "            })\n",
              "         });\n",
              "}\n",
              "</script>"
            ]
          },
          "metadata": {},
          "execution_count": 13
        }
      ]
    },
    {
      "cell_type": "markdown",
      "metadata": {
        "id": "jeNJfHvzjD2R"
      },
      "source": [
        "# Topic Predictions\n",
        "\n",
        "Ok now we can take a document and see which topic has been assigned to it. Results will obviously change with respect to the documents you are using. For example, let's predict the topic of the first preprocessed document that is talking about a peninsula."
      ]
    },
    {
      "cell_type": "code",
      "metadata": {
        "id": "Zl5O1HExjI0e",
        "colab": {
          "base_uri": "https://localhost:8080/"
        },
        "outputId": "1b01fa66-9a7d-4807-ef2e-057860900b2e"
      },
      "source": [
        "topics_predictions = ctm.get_thetas(training_dataset, n_samples=5) # get all the topic predictions"
      ],
      "execution_count": null,
      "outputs": [
        {
          "output_type": "stream",
          "name": "stderr",
          "text": [
            "Sampling: [5/5]: : 5it [00:03,  1.62it/s]\n"
          ]
        }
      ]
    },
    {
      "cell_type": "code",
      "metadata": {
        "id": "fFWsIxDYj0pC",
        "colab": {
          "base_uri": "https://localhost:8080/",
          "height": 35
        },
        "outputId": "7c8ae99e-62e1-4ae6-b1b0-4b3411d0c9e5"
      },
      "source": [
        "preprocessed_documents[0] # see the text of our preprocessed document"
      ],
      "execution_count": null,
      "outputs": [
        {
          "output_type": "execute_result",
          "data": {
            "text/plain": [
              "'mid peninsula highway across peninsula canadian province ontario although highway connecting fort south decades international study published ministry'"
            ],
            "application/vnd.google.colaboratory.intrinsic+json": {
              "type": "string"
            }
          },
          "metadata": {},
          "execution_count": 15
        }
      ]
    },
    {
      "cell_type": "code",
      "metadata": {
        "id": "kJf1bP5PjqOQ"
      },
      "source": [
        "import numpy as np\n",
        "topic_number = np.argmax(topics_predictions[0]) # get the topic id of the first document"
      ],
      "execution_count": null,
      "outputs": []
    },
    {
      "cell_type": "code",
      "source": [
        "topic_number"
      ],
      "metadata": {
        "colab": {
          "base_uri": "https://localhost:8080/"
        },
        "id": "8YIh6S-gjhCM",
        "outputId": "2682151e-8f5f-498d-ed33-247e5818f546"
      },
      "execution_count": null,
      "outputs": [
        {
          "output_type": "execute_result",
          "data": {
            "text/plain": [
              "15"
            ]
          },
          "metadata": {},
          "execution_count": 17
        }
      ]
    },
    {
      "cell_type": "code",
      "source": [
        "ctm.get_topic_lists(5)[15]"
      ],
      "metadata": {
        "colab": {
          "base_uri": "https://localhost:8080/"
        },
        "id": "u7J_XUJKjixI",
        "outputId": "e5efceac-00b5-4fb3-c440-51963ac9b62a"
      },
      "execution_count": null,
      "outputs": [
        {
          "output_type": "execute_result",
          "data": {
            "text/plain": [
              "['mount', 'station', 'named', 'range', 'airport']"
            ]
          },
          "metadata": {},
          "execution_count": 19
        }
      ]
    },
    {
      "cell_type": "code",
      "metadata": {
        "id": "yMA9vUsgjwOi",
        "colab": {
          "base_uri": "https://localhost:8080/"
        },
        "outputId": "b397a397-ecf9-4817-fbcd-61604f793f34"
      },
      "source": [
        "ctm.get_topic_lists(5)[topic_number] #and the topic should be about natural location/places/related things"
      ],
      "execution_count": null,
      "outputs": [
        {
          "output_type": "execute_result",
          "data": {
            "text/plain": [
              "['mount', 'station', 'named', 'range', 'airport']"
            ]
          },
          "metadata": {},
          "execution_count": 20
        }
      ]
    },
    {
      "cell_type": "markdown",
      "metadata": {
        "id": "pB9i2zyKxQ0X"
      },
      "source": [
        "# Save Our Model for Later Use"
      ]
    },
    {
      "cell_type": "code",
      "metadata": {
        "colab": {
          "base_uri": "https://localhost:8080/"
        },
        "id": "Ip1rP_3oxS6Z",
        "outputId": "f55d4e76-8d52-4f25-d666-324cfc608037"
      },
      "source": [
        "ctm.save(models_dir=\"./\")"
      ],
      "execution_count": null,
      "outputs": [
        {
          "output_type": "stream",
          "text": [
            "/content/contextualized-topic-models/contextualized_topic_models/models/ctm.py:446: Warning: This is an experimental feature that we has not been fully tested. Refer to the following issue:https://github.com/MilaNLProc/contextualized-topic-models/issues/38\n",
            "  Warning)\n"
          ],
          "name": "stderr"
        }
      ]
    },
    {
      "cell_type": "code",
      "metadata": {
        "id": "bsRUa6p8xcuY"
      },
      "source": [
        "# let's remove the trained model\n",
        "del ctm"
      ],
      "execution_count": null,
      "outputs": []
    },
    {
      "cell_type": "code",
      "metadata": {
        "colab": {
          "base_uri": "https://localhost:8080/"
        },
        "id": "o8UbvS8Wxadb",
        "outputId": "3f0b3c0b-1f69-4a4a-b0ad-ea23dad212b0"
      },
      "source": [
        "ctm = CombinedTM(bow_size=len(tp.vocab), contextual_size=768, num_epochs=100, n_components=50)\n",
        "\n",
        "ctm.load(\"/content/contextualized_topic_model_nc_50_tpm_0.0_tpv_0.98_hs_prodLDA_ac_(100, 100)_do_softplus_lr_0.2_mo_0.002_rp_0.99\",\n",
        "                                                                                                      epoch=19)"
      ],
      "execution_count": null,
      "outputs": [
        {
          "output_type": "stream",
          "text": [
            "/content/contextualized-topic-models/contextualized_topic_models/models/ctm.py:471: Warning: This is an experimental feature that we has not been fully tested. Refer to the following issue:https://github.com/MilaNLProc/contextualized-topic-models/issues/38\n",
            "  Warning)\n"
          ],
          "name": "stderr"
        }
      ]
    },
    {
      "cell_type": "code",
      "metadata": {
        "colab": {
          "base_uri": "https://localhost:8080/"
        },
        "id": "OY8TnjPCxfn7",
        "outputId": "ff1e73fe-053e-41fb-de6e-daa624e39ff6"
      },
      "source": [
        "ctm.get_topic_lists(5)"
      ],
      "execution_count": null,
      "outputs": [
        {
          "output_type": "execute_result",
          "data": {
            "text/plain": [
              "[['mi', 'east', 'lies', 'south', 'village'],\n",
              " ['world', 'women', 'team', 'cup', 'international'],\n",
              " ['founded', 'school', 'education', 'university', 'established'],\n",
              " ['studied', 'painter', 'paris', 'french', 'german'],\n",
              " ['played', 'born', 'english', 'made', 'right'],\n",
              " ['film', 'directed', 'written', 'produced', 'stars'],\n",
              " ['league', 'football', 'played', 'american', 'team'],\n",
              " ['album', 'released', 'island', 'river', 'band'],\n",
              " ['de', 'greek', 'king', 'french', 'son'],\n",
              " ['member', 'party', 'politician', 'general', 'elected'],\n",
              " ['university', 'american', 'professor', 'received', 'college'],\n",
              " ['church', 'roman', 'catholic', 'century', 'diocese'],\n",
              " ['municipality', 'region', 'area', 'kilometres', 'mi'],\n",
              " ['mi', 'west', 'km', 'county', 'south'],\n",
              " ['population', 'area', 'county', 'town', 'census'],\n",
              " ['built', 'house', 'building', 'story', 'style'],\n",
              " ['game', 'developed', 'video', 'games', 'playstation'],\n",
              " ['used', 'often', 'term', 'form', 'usually'],\n",
              " ['published', 'book', 'written', 'books', 'collection'],\n",
              " ['school', 'high', 'public', 'located', 'secondary'],\n",
              " ['district', 'population', 'also', 'iran', 'province'],\n",
              " ['american', 'york', 'new', 'known', 'best'],\n",
              " ['john', 'politician', 'member', 'served', 'born'],\n",
              " ['war', 'world', 'class', 'ii', 'army'],\n",
              " ['states', 'united', 'list', 'national', 'places'],\n",
              " ['located', 'park', 'city', 'state', 'county'],\n",
              " ['government', 'organization', 'international', 'health', 'established'],\n",
              " ['born', 'player', 'former', 'career', 'played'],\n",
              " ['state', 'american', 'college', 'football', 'university'],\n",
              " ['series', 'television', 'book', 'published', 'american'],\n",
              " ['historic', 'house', 'built', 'national', 'building'],\n",
              " ['released', 'album', 'first', 'second', 'studio'],\n",
              " ['river', 'located', 'area', 'north', 'south'],\n",
              " ['university', 'professor', 'law', 'college', 'research'],\n",
              " ['world', 'event', 'championships', 'held', 'medal'],\n",
              " ['planet', 'chemical', 'given', 'forms', 'gene'],\n",
              " ['held', 'members', 'government', 'election', 'party'],\n",
              " ['actor', 'best', 'film', 'director', 'actress'],\n",
              " ['season', 'division', 'team', 'year', 'head'],\n",
              " ['information', 'system', 'company', 'computer', 'data'],\n",
              " ['club', 'football', 'league', 'team', 'association'],\n",
              " ['family', 'found', 'native', 'species', 'common'],\n",
              " ['station', 'railway', 'line', 'radio', 'owned'],\n",
              " ['held', 'season', 'series', 'race', 'place'],\n",
              " ['company', 'airport', 'owned', 'air', 'united'],\n",
              " ['music', 'formed', 'band', 'group', 'singer'],\n",
              " ['series', 'television', 'produced', 'show', 'tv'],\n",
              " ['released', 'album', 'film', 'music', 'directed'],\n",
              " ['family', 'species', 'genus', 'brown', 'found'],\n",
              " ['island', 'land', 'point', 'named', 'antarctic']]"
            ]
          },
          "metadata": {
            "tags": []
          },
          "execution_count": 23
        }
      ]
    },
    {
      "cell_type": "code",
      "metadata": {
        "id": "ZP62WW34z5WO"
      },
      "source": [
        "tarin_data=[['mi', 'east', 'lies', 'south', 'village'],\n",
        " ['world', 'women', 'team', 'cup', 'international'],\n",
        " ['founded', 'school', 'education', 'university', 'established'],\n",
        " ['studied', 'painter', 'paris', 'french', 'german'],\n",
        " ['played', 'born', 'english', 'made', 'right']]"
      ],
      "execution_count": 1,
      "outputs": []
    },
    {
      "cell_type": "code",
      "source": [
        "train=[]\n",
        "for i in tarin_data:\n",
        "  s=\"\"\n",
        "  for word in i:\n",
        "    s=s+\" \"+word\n",
        "  train.append(s.strip())"
      ],
      "metadata": {
        "id": "6NdatHxeinXp"
      },
      "execution_count": 2,
      "outputs": []
    },
    {
      "cell_type": "code",
      "source": [
        "train"
      ],
      "metadata": {
        "id": "02Qcz373itu_",
        "outputId": "65082196-eaf1-41ac-853d-4604ada76e62",
        "colab": {
          "base_uri": "https://localhost:8080/"
        }
      },
      "execution_count": 3,
      "outputs": [
        {
          "output_type": "execute_result",
          "data": {
            "text/plain": [
              "['mi east lies south village',\n",
              " 'world women team cup international',\n",
              " 'founded school education university established',\n",
              " 'studied painter paris french german',\n",
              " 'played born english made right']"
            ]
          },
          "metadata": {},
          "execution_count": 3
        }
      ]
    },
    {
      "cell_type": "code",
      "source": [
        "train_labels=[[1,0],[1,0],[1,0],[0,1],[0,1]]"
      ],
      "metadata": {
        "id": "NiJM_Fd8i7wy"
      },
      "execution_count": 4,
      "outputs": []
    },
    {
      "cell_type": "code",
      "source": [
        "#!pip install lambeq\n",
        "from lambeq import BobcatParser\n",
        "\n",
        "parser = BobcatParser(root_cats=('NP', 'N'), verbose='text')\n",
        "\n"
      ],
      "metadata": {
        "id": "_zYxb5AmjNS3"
      },
      "execution_count": 5,
      "outputs": []
    },
    {
      "cell_type": "code",
      "source": [
        "raw_train_diagrams = parser.sentences2diagrams(train, suppress_exceptions=True)"
      ],
      "metadata": {
        "id": "0u44nQzRjQcN",
        "outputId": "ac53c664-b77c-466e-8744-a90ef13494ee",
        "colab": {
          "base_uri": "https://localhost:8080/"
        }
      },
      "execution_count": 6,
      "outputs": [
        {
          "output_type": "stream",
          "name": "stderr",
          "text": [
            "Tagging sentences.\n",
            "Parsing tagged sentences.\n",
            "Turning parse trees to diagrams.\n"
          ]
        }
      ]
    },
    {
      "cell_type": "code",
      "source": [
        "raw_train_diagrams[3].draw(figsize=(9, 5), fontsize=12)"
      ],
      "metadata": {
        "id": "vuQT_aGbJyrr",
        "outputId": "001e609b-8cfb-40e8-caac-fd73ae63d083",
        "colab": {
          "base_uri": "https://localhost:8080/",
          "height": 166
        }
      },
      "execution_count": 25,
      "outputs": [
        {
          "output_type": "error",
          "ename": "AttributeError",
          "evalue": "ignored",
          "traceback": [
            "\u001b[0;31m---------------------------------------------------------------------------\u001b[0m",
            "\u001b[0;31mAttributeError\u001b[0m                            Traceback (most recent call last)",
            "\u001b[0;32m<ipython-input-25-5417be163b85>\u001b[0m in \u001b[0;36m<cell line: 1>\u001b[0;34m()\u001b[0m\n\u001b[0;32m----> 1\u001b[0;31m \u001b[0mraw_train_diagrams\u001b[0m\u001b[0;34m[\u001b[0m\u001b[0;36m3\u001b[0m\u001b[0;34m]\u001b[0m\u001b[0;34m.\u001b[0m\u001b[0mdraw\u001b[0m\u001b[0;34m(\u001b[0m\u001b[0mfigsize\u001b[0m\u001b[0;34m=\u001b[0m\u001b[0;34m(\u001b[0m\u001b[0;36m9\u001b[0m\u001b[0;34m,\u001b[0m \u001b[0;36m5\u001b[0m\u001b[0;34m)\u001b[0m\u001b[0;34m,\u001b[0m \u001b[0mfontsize\u001b[0m\u001b[0;34m=\u001b[0m\u001b[0;36m12\u001b[0m\u001b[0;34m)\u001b[0m\u001b[0;34m\u001b[0m\u001b[0;34m\u001b[0m\u001b[0m\n\u001b[0m",
            "\u001b[0;31mAttributeError\u001b[0m: 'NoneType' object has no attribute 'draw'"
          ]
        }
      ]
    },
    {
      "cell_type": "code",
      "source": [
        "train_diagrams = [\n",
        "    diagram.normal_form()\n",
        "    for diagram in raw_train_diagrams if diagram is not None\n",
        "]"
      ],
      "metadata": {
        "id": "NGYMeYewj5DE"
      },
      "execution_count": 18,
      "outputs": []
    },
    {
      "cell_type": "code",
      "source": [
        "(raw_train_diagrams[3]).draw(figsize=(9, 5), fontsize=12)"
      ],
      "metadata": {
        "id": "STCiV0OxNteT",
        "outputId": "b0390c2b-19dd-4ec5-c3e3-7d77c24349f9",
        "colab": {
          "base_uri": "https://localhost:8080/",
          "height": 166
        }
      },
      "execution_count": 24,
      "outputs": [
        {
          "output_type": "error",
          "ename": "AttributeError",
          "evalue": "ignored",
          "traceback": [
            "\u001b[0;31m---------------------------------------------------------------------------\u001b[0m",
            "\u001b[0;31mAttributeError\u001b[0m                            Traceback (most recent call last)",
            "\u001b[0;32m<ipython-input-24-8126a020ecfe>\u001b[0m in \u001b[0;36m<cell line: 1>\u001b[0;34m()\u001b[0m\n\u001b[0;32m----> 1\u001b[0;31m \u001b[0;34m(\u001b[0m\u001b[0mraw_train_diagrams\u001b[0m\u001b[0;34m[\u001b[0m\u001b[0;36m3\u001b[0m\u001b[0;34m]\u001b[0m\u001b[0;34m)\u001b[0m\u001b[0;34m.\u001b[0m\u001b[0mdraw\u001b[0m\u001b[0;34m(\u001b[0m\u001b[0mfigsize\u001b[0m\u001b[0;34m=\u001b[0m\u001b[0;34m(\u001b[0m\u001b[0;36m9\u001b[0m\u001b[0;34m,\u001b[0m \u001b[0;36m5\u001b[0m\u001b[0;34m)\u001b[0m\u001b[0;34m,\u001b[0m \u001b[0mfontsize\u001b[0m\u001b[0;34m=\u001b[0m\u001b[0;36m12\u001b[0m\u001b[0;34m)\u001b[0m\u001b[0;34m\u001b[0m\u001b[0;34m\u001b[0m\u001b[0m\n\u001b[0m",
            "\u001b[0;31mAttributeError\u001b[0m: 'NoneType' object has no attribute 'draw'"
          ]
        }
      ]
    },
    {
      "cell_type": "code",
      "source": [
        "train_diagrams[0].draw(figsize=(9, 5), fontsize=12)"
      ],
      "metadata": {
        "id": "4iek_REcKYUS",
        "outputId": "73e2e244-efb6-4312-b70b-dd5dda7289f1",
        "colab": {
          "base_uri": "https://localhost:8080/",
          "height": 470
        }
      },
      "execution_count": 11,
      "outputs": [
        {
          "output_type": "display_data",
          "data": {
            "text/plain": [
              "<Figure size 900x500 with 1 Axes>"
            ],
            "image/png": "[encoded data removed]"
          },
          "metadata": {}
        }
      ]
    },
    {
      "cell_type": "code",
      "source": [],
      "metadata": {
        "id": "EeCkvZihNsnI"
      },
      "execution_count": null,
      "outputs": []
    },
    {
      "cell_type": "code",
      "source": [
        "from lambeq import AtomicType, IQPAnsatz, remove_cups\n",
        "\n",
        "ansatz = IQPAnsatz({AtomicType.NOUN: 1, AtomicType.SENTENCE: 0},\n",
        "                   n_layers=1, n_single_qubit_params=3)\n",
        "\n",
        "train_circuits = [ansatz(remove_cups(diagram)) for diagram in train_diagrams]\n",
        "\n",
        "\n",
        "train_circuits[0].draw(figsize=(9, 10))"
      ],
      "metadata": {
        "id": "CvQ2Hn-BKdAU",
        "outputId": "6aa1d474-3edb-4c75-fd16-3a7271ad74b6",
        "colab": {
          "base_uri": "https://localhost:8080/",
          "height": 907
        }
      },
      "execution_count": 8,
      "outputs": [
        {
          "output_type": "display_data",
          "data": {
            "text/plain": [
              "<Figure size 900x1000 with 1 Axes>"
            ],
            "image/png": "[encoded data removed]"
          },
          "metadata": {}
        }
      ]
    },
    {
      "cell_type": "code",
      "source": [
        "from pytket.extensions.qiskit import AerBackend\n",
        "from lambeq import TketModel\n",
        "\n",
        "all_circuits = train_circuits \n",
        "\n",
        "backend = AerBackend()\n",
        "backend_config = {\n",
        "    'backend': backend,\n",
        "    'compilation': backend.default_compilation_pass(2),\n",
        "    'shots': 8192\n",
        "}\n",
        "\n",
        "model = TketModel.from_diagrams(all_circuits, backend_config=backend_config)"
      ],
      "metadata": {
        "id": "F0Njec_NKp7A"
      },
      "execution_count": 9,
      "outputs": []
    },
    {
      "cell_type": "code",
      "source": [
        "!pip install pytket-qiskit"
      ],
      "metadata": {
        "id": "1khTQ5z4LBqW"
      },
      "execution_count": null,
      "outputs": []
    },
    {
      "cell_type": "code",
      "source": [
        "from lambeq import BinaryCrossEntropyLoss\n",
        "\n",
        "# Using the builtin binary cross-entropy error from lambeq\n",
        "bce = BinaryCrossEntropyLoss()\n",
        "\n",
        "acc = lambda y_hat, y: np.sum(np.round(y_hat) == y) / len(y) / 2  # half due to double-counting\n",
        "eval_metrics = {\"acc\": acc}"
      ],
      "metadata": {
        "id": "Wu55bLC5LN3X"
      },
      "execution_count": 10,
      "outputs": []
    },
    {
      "cell_type": "code",
      "source": [
        "from lambeq import QuantumTrainer, SPSAOptimizer\n",
        "\n",
        "trainer = QuantumTrainer(\n",
        "    model,\n",
        "    loss_function=bce,\n",
        "    epochs=10,\n",
        "    optimizer=SPSAOptimizer,\n",
        "    optim_hyperparams={'a': 0.05, 'c': 0.06, 'A':0.01*10},\n",
        "    evaluate_functions=eval_metrics,\n",
        "    evaluate_on_train=True,\n",
        "    verbose = 'text',\n",
        "    seed=0\n",
        ")"
      ],
      "metadata": {
        "id": "gQOKnriiLq7G"
      },
      "execution_count": 42,
      "outputs": []
    },
    {
      "cell_type": "code",
      "source": [
        "train_labels=[[1, 0], [1, 0], [1, 0], [0, 1]]"
      ],
      "metadata": {
        "id": "4u8zz7goOzxr"
      },
      "execution_count": 34,
      "outputs": []
    },
    {
      "cell_type": "code",
      "source": [
        "from lambeq import Dataset\n",
        "\n",
        "train_dataset = Dataset(\n",
        "            train_circuits,\n",
        "            train_labels,\n",
        "            batch_size=1)"
      ],
      "metadata": {
        "id": "pqZ0ZHC-MiIq"
      },
      "execution_count": 43,
      "outputs": []
    },
    {
      "cell_type": "code",
      "source": [
        "len(train_labels),len(train_circuits),len(train_diagrams),len(raw_train_diagrams)"
      ],
      "metadata": {
        "id": "_E8S5uBVNJoC",
        "outputId": "3d52fc62-65f2-43b0-8e54-4e8e989a506b",
        "colab": {
          "base_uri": "https://localhost:8080/"
        }
      },
      "execution_count": 17,
      "outputs": [
        {
          "output_type": "execute_result",
          "data": {
            "text/plain": [
              "(5, 4, 4, 5)"
            ]
          },
          "metadata": {},
          "execution_count": 17
        }
      ]
    },
    {
      "cell_type": "code",
      "source": [
        "import numpy as np\n",
        "trainer.fit(train_dataset, evaluation_step=1, logging_step=1)"
      ],
      "metadata": {
        "id": "K61Y_I_zNWKd",
        "outputId": "7f137967-7f6f-4918-ab83-08071b2f40d7",
        "colab": {
          "base_uri": "https://localhost:8080/"
        }
      },
      "execution_count": 45,
      "outputs": [
        {
          "output_type": "stream",
          "name": "stderr",
          "text": [
            "Epoch 1:   train/loss: 0.2842   valid/loss: -----   train/acc: 0.8750   valid/acc: -----\n",
            "Epoch 2:   train/loss: 0.1670   valid/loss: -----   train/acc: 1.0000   valid/acc: -----\n",
            "Epoch 3:   train/loss: 0.2842   valid/loss: -----   train/acc: 0.7500   valid/acc: -----\n",
            "Epoch 4:   train/loss: 0.2024   valid/loss: -----   train/acc: 0.7500   valid/acc: -----\n",
            "Epoch 5:   train/loss: 0.2237   valid/loss: -----   train/acc: 1.0000   valid/acc: -----\n",
            "Epoch 6:   train/loss: 0.2344   valid/loss: -----   train/acc: 0.7500   valid/acc: -----\n",
            "Epoch 7:   train/loss: 0.2131   valid/loss: -----   train/acc: 0.8750   valid/acc: -----\n",
            "Epoch 8:   train/loss: 0.2053   valid/loss: -----   train/acc: 1.0000   valid/acc: -----\n",
            "Epoch 9:   train/loss: 0.1616   valid/loss: -----   train/acc: 1.0000   valid/acc: -----\n",
            "Epoch 10:  train/loss: 0.1762   valid/loss: -----   train/acc: 1.0000   valid/acc: -----\n",
            "\n",
            "Training completed!\n"
          ]
        }
      ]
    },
    {
      "cell_type": "code",
      "source": [
        "model(train_circuits),train_labels"
      ],
      "metadata": {
        "id": "nlymRyj9PIgw",
        "outputId": "f7672996-e7c1-45b8-bb73-f06c66422f44",
        "colab": {
          "base_uri": "https://localhost:8080/"
        }
      },
      "execution_count": 48,
      "outputs": [
        {
          "output_type": "execute_result",
          "data": {
            "text/plain": [
              "(array([[1.        , 0.        ],\n",
              "        [1.        , 0.        ],\n",
              "        [0.44827586, 0.55172414],\n",
              "        [0.        , 1.        ]]),\n",
              " [[1, 0], [1, 0], [1, 0], [0, 1]])"
            ]
          },
          "metadata": {},
          "execution_count": 48
        }
      ]
    },
    {
      "cell_type": "code",
      "source": [
        "!pip install transformers==2.2.0\n",
        "!pip install bert-extractive-summarizer"
      ],
      "metadata": {
        "id": "hkOV0NPZUn8J"
      },
      "execution_count": null,
      "outputs": []
    },
    {
      "cell_type": "code",
      "source": [
        "\n",
        "from summarizer import Summarizer#,TransformerSummarizer\n"
      ],
      "metadata": {
        "id": "l4NdKarVSwMs",
        "outputId": "9385271a-dfe6-4113-fc01-0743af6aa144",
        "colab": {
          "base_uri": "https://localhost:8080/",
          "height": 572
        }
      },
      "execution_count": 11,
      "outputs": [
        {
          "output_type": "error",
          "ename": "ImportError",
          "evalue": "ignored",
          "traceback": [
            "\u001b[0;31m---------------------------------------------------------------------------\u001b[0m",
            "\u001b[0;31mImportError\u001b[0m                               Traceback (most recent call last)",
            "\u001b[0;32m<ipython-input-11-592183d9a140>\u001b[0m in \u001b[0;36m<cell line: 1>\u001b[0;34m()\u001b[0m\n\u001b[0;32m----> 1\u001b[0;31m \u001b[0;32mfrom\u001b[0m \u001b[0msummarizer\u001b[0m \u001b[0;32mimport\u001b[0m \u001b[0mSummarizer\u001b[0m\u001b[0;31m#,TransformerSummarizer\u001b[0m\u001b[0;34m\u001b[0m\u001b[0;34m\u001b[0m\u001b[0m\n\u001b[0m",
            "\u001b[0;32m/usr/local/lib/python3.10/dist-packages/summarizer/__init__.py\u001b[0m in \u001b[0;36m<module>\u001b[0;34m\u001b[0m\n\u001b[0;32m----> 1\u001b[0;31m \u001b[0;32mfrom\u001b[0m \u001b[0msummarizer\u001b[0m\u001b[0;34m.\u001b[0m\u001b[0mbert\u001b[0m \u001b[0;32mimport\u001b[0m \u001b[0mSummarizer\u001b[0m\u001b[0;34m,\u001b[0m \u001b[0mTransformerSummarizer\u001b[0m\u001b[0;34m\u001b[0m\u001b[0;34m\u001b[0m\u001b[0m\n\u001b[0m\u001b[1;32m      2\u001b[0m \u001b[0;34m\u001b[0m\u001b[0m\n\u001b[1;32m      3\u001b[0m \u001b[0m__all__\u001b[0m \u001b[0;34m=\u001b[0m \u001b[0;34m[\u001b[0m\u001b[0;34m\"Summarizer\"\u001b[0m\u001b[0;34m,\u001b[0m \u001b[0;34m\"TransformerSummarizer\"\u001b[0m\u001b[0;34m]\u001b[0m\u001b[0;34m\u001b[0m\u001b[0;34m\u001b[0m\u001b[0m\n",
            "\u001b[0;32m/usr/local/lib/python3.10/dist-packages/summarizer/bert.py\u001b[0m in \u001b[0;36m<module>\u001b[0;34m\u001b[0m\n\u001b[1;32m      2\u001b[0m \u001b[0;32mfrom\u001b[0m \u001b[0mtyping\u001b[0m \u001b[0;32mimport\u001b[0m \u001b[0mList\u001b[0m\u001b[0;34m,\u001b[0m \u001b[0mOptional\u001b[0m\u001b[0;34m,\u001b[0m \u001b[0mUnion\u001b[0m\u001b[0;34m\u001b[0m\u001b[0;34m\u001b[0m\u001b[0m\n\u001b[1;32m      3\u001b[0m \u001b[0;34m\u001b[0m\u001b[0m\n\u001b[0;32m----> 4\u001b[0;31m from transformers import (AlbertModel, AlbertTokenizer, BartModel, BigBirdModel, BigBirdTokenizer,\n\u001b[0m\u001b[1;32m      5\u001b[0m                           \u001b[0mBartTokenizer\u001b[0m\u001b[0;34m,\u001b[0m \u001b[0mBertModel\u001b[0m\u001b[0;34m,\u001b[0m \u001b[0mBertTokenizer\u001b[0m\u001b[0;34m,\u001b[0m\u001b[0;34m\u001b[0m\u001b[0;34m\u001b[0m\u001b[0m\n\u001b[1;32m      6\u001b[0m                           \u001b[0mCamembertModel\u001b[0m\u001b[0;34m,\u001b[0m \u001b[0mCamembertTokenizer\u001b[0m\u001b[0;34m,\u001b[0m \u001b[0mCTRLModel\u001b[0m\u001b[0;34m,\u001b[0m\u001b[0;34m\u001b[0m\u001b[0;34m\u001b[0m\u001b[0m\n",
            "\u001b[0;31mImportError\u001b[0m: cannot import name 'BartModel' from 'transformers' (/usr/local/lib/python3.10/dist-packages/transformers/__init__.py)",
            "",
            "\u001b[0;31m---------------------------------------------------------------------------\u001b[0;32m\nNOTE: If your import is failing due to a missing package, you can\nmanually install dependencies using either !pip or !apt.\n\nTo view examples of installing some common dependencies, click the\n\"Open Examples\" button below.\n\u001b[0;31m---------------------------------------------------------------------------\u001b[0m\n"
          ],
          "errorDetails": {
            "actions": [
              {
                "action": "open_url",
                "actionText": "Open Examples",
                "url": "/notebooks/snippets/importing_libraries.ipynb"
              }
            ]
          }
        }
      ]
    },
    {
      "cell_type": "code",
      "source": [
        "body='''Proof The Mainstream Media Is Manipulating The Election By Taking Bill Clinton Out Of ContextI woke up this morning to find a variation of this headline splashed all over my news feed:\n",
        "\n",
        "Bill Clinton: â€˜Naturalâ€™ For Foundation Donors to Seek Favors\n",
        "\n",
        "Hereâ€™s Google:\n",
        "\n",
        "Naturally, my reaction was â€œoh, s**t, what did Bill Clinton do to damage his wifeâ€™s campaign now?â€\n",
        "\n",
        "Of course, the headline sounds really, really awful. It plays right into the idea that the Clinton Foundation is all about pay to play, just like Donald Trump has been saying all along. Unfortunately, it takes reading beyond the headlines, which is something most people donâ€™t do, to find out the real story â€“ and the real story is that there is no pay to play.\n",
        "\n",
        "â€œIt was natural for people whoâ€™ve been our political allies and personal friends to call and ask for things. And I trusted the State Department wouldnâ€™t do anything they shouldnâ€™t do,â€ Clinton told NPR in an interview that aired Monday morning. Source: CNN\n",
        "\n",
        "In other words, people can ask for favors, but that certainly doesnâ€™t mean theyâ€™ll get them. Leaked emails have shown that some Clinton Foundation donors have gotten meetings with Clinton and that others were turned down. There is zero evidence of pay to play. In other words, people might have asked for favors, but thereâ€™s no evidence they got them.\n",
        "\n",
        "Now, letâ€™s talk about the foundation the media doesnâ€™t like to mention, the Trump Foundation. Trump hasnâ€™t given to his own foundation since 2008. He does collect money from others, though, and gives it in his name. He also takes from the charity and allegedly buys things like oil paintings and football helmets, all for himself, but out of charity money.\n",
        "\n",
        "New York Attorney General Eric Schneiderman said in a September 13 CNN interview that his office is investigating Trumpâ€™s charitable foundation over concerns that it â€œengaged in some improprietyâ€ as related to New York charity laws. The investigation launched amid reports from The Washington Post that Trump spent money from his charity on items meant to benefit himself, such as a $20,000 oil painting of himself and a $12,000 autographed football helmet, and also recycled othersâ€™ contributions â€œto make them appear to have come from himâ€ although he â€œhasnâ€™t given to the foundation since 2008.â€ Source: Media Matters\n",
        "\n",
        "Media Matters goes on to talk about the double standard and about how clearly the mainstream media is trying to promote Trump at the cost of Clintonâ€™s candidacy:\n",
        "\n",
        "Journalists have been criticized for the â€œdouble standardâ€ in the ways they cover Trump and Democratic presidential nominee Hillary Clinton. Earlier this month, cable news programs devoted 13 times more coverage to Clintonâ€™s pneumonia diagnosis as The Washington Postâ€™s reporting about the Trump Foundation. This week, both the Trump Foundation and Trump Organization stories were given short shrift by the broadcast news programs in favor of coverage of Donald Trumpâ€™s Dr. Oz stunt.\n",
        "\n",
        "All of this biased coverage is hurting Clinton and helping Trump. Trump has seen major gains over the last few weeks, largely because the media covers every minor Clinton â€œscandalâ€ (if you call getting sick a â€œscandalâ€) while ignoring every scandal in Trumpâ€™s closet, and trust me, there are a lot.\n",
        "\n",
        "Featured image via Ethan Miller/Getty Images.Wendy Gittleson'''"
      ],
      "metadata": {
        "id": "h1ETq3HhU53p"
      },
      "execution_count": 3,
      "outputs": []
    },
    {
      "cell_type": "code",
      "source": [
        "bert_model = Summarizer()\n",
        "bert_summary = ''.join(bert_model(body, min_length=60))\n",
        "print(bert_summary)"
      ],
      "metadata": {
        "id": "naXOjocWUsrG",
        "outputId": "5c576fb7-9360-42cb-c8ac-836bd26eaa95",
        "colab": {
          "base_uri": "https://localhost:8080/",
          "height": 201
        }
      },
      "execution_count": 10,
      "outputs": [
        {
          "output_type": "error",
          "ename": "NameError",
          "evalue": "ignored",
          "traceback": [
            "\u001b[0;31m---------------------------------------------------------------------------\u001b[0m",
            "\u001b[0;31mNameError\u001b[0m                                 Traceback (most recent call last)",
            "\u001b[0;32m<ipython-input-10-dfbf19de20fe>\u001b[0m in \u001b[0;36m<cell line: 1>\u001b[0;34m()\u001b[0m\n\u001b[0;32m----> 1\u001b[0;31m \u001b[0mbert_model\u001b[0m \u001b[0;34m=\u001b[0m \u001b[0mSummarizer\u001b[0m\u001b[0;34m(\u001b[0m\u001b[0;34m)\u001b[0m\u001b[0;34m\u001b[0m\u001b[0;34m\u001b[0m\u001b[0m\n\u001b[0m\u001b[1;32m      2\u001b[0m \u001b[0mbert_summary\u001b[0m \u001b[0;34m=\u001b[0m \u001b[0;34m''\u001b[0m\u001b[0;34m.\u001b[0m\u001b[0mjoin\u001b[0m\u001b[0;34m(\u001b[0m\u001b[0mbert_model\u001b[0m\u001b[0;34m(\u001b[0m\u001b[0mbody\u001b[0m\u001b[0;34m,\u001b[0m \u001b[0mmin_length\u001b[0m\u001b[0;34m=\u001b[0m\u001b[0;36m60\u001b[0m\u001b[0;34m)\u001b[0m\u001b[0;34m)\u001b[0m\u001b[0;34m\u001b[0m\u001b[0;34m\u001b[0m\u001b[0m\n\u001b[1;32m      3\u001b[0m \u001b[0mprint\u001b[0m\u001b[0;34m(\u001b[0m\u001b[0mbert_summary\u001b[0m\u001b[0;34m)\u001b[0m\u001b[0;34m\u001b[0m\u001b[0;34m\u001b[0m\u001b[0m\n",
            "\u001b[0;31mNameError\u001b[0m: name 'Summarizer' is not defined"
          ]
        }
      ]
    },
    {
      "cell_type": "code",
      "source": [
        "pip install --upgrade transformers"
      ],
      "metadata": {
        "id": "jMPfrdpzVRvb",
        "outputId": "7e462cec-757b-412d-db9b-9322da7ae444",
        "colab": {
          "base_uri": "https://localhost:8080/",
          "height": 558
        }
      },
      "execution_count": 8,
      "outputs": [
        {
          "output_type": "stream",
          "name": "stdout",
          "text": [
            "Looking in indexes: https://pypi.org/simple, https://us-python.pkg.dev/colab-wheels/public/simple/\n",
            "Requirement already satisfied: transformers in /usr/local/lib/python3.10/dist-packages (2.2.0)\n",
            "Collecting transformers\n",
            "  Using cached transformers-4.29.1-py3-none-any.whl (7.1 MB)\n",
            "Requirement already satisfied: filelock in /usr/local/lib/python3.10/dist-packages (from transformers) (3.12.0)\n",
            "Requirement already satisfied: huggingface-hub<1.0,>=0.14.1 in /usr/local/lib/python3.10/dist-packages (from transformers) (0.14.1)\n",
            "Requirement already satisfied: numpy>=1.17 in /usr/local/lib/python3.10/dist-packages (from transformers) (1.22.4)\n",
            "Requirement already satisfied: packaging>=20.0 in /usr/local/lib/python3.10/dist-packages (from transformers) (23.1)\n",
            "Requirement already satisfied: pyyaml>=5.1 in /usr/local/lib/python3.10/dist-packages (from transformers) (6.0)\n",
            "Requirement already satisfied: regex!=2019.12.17 in /usr/local/lib/python3.10/dist-packages (from transformers) (2022.10.31)\n",
            "Requirement already satisfied: requests in /usr/local/lib/python3.10/dist-packages (from transformers) (2.30.0)\n",
            "Requirement already satisfied: tokenizers!=0.11.3,<0.14,>=0.11.1 in /usr/local/lib/python3.10/dist-packages (from transformers) (0.13.3)\n",
            "Requirement already satisfied: tqdm>=4.27 in /usr/local/lib/python3.10/dist-packages (from transformers) (4.65.0)\n",
            "Requirement already satisfied: fsspec in /usr/local/lib/python3.10/dist-packages (from huggingface-hub<1.0,>=0.14.1->transformers) (2023.4.0)\n",
            "Requirement already satisfied: typing-extensions>=3.7.4.3 in /usr/local/lib/python3.10/dist-packages (from huggingface-hub<1.0,>=0.14.1->transformers) (4.5.0)\n",
            "Requirement already satisfied: charset-normalizer<4,>=2 in /usr/local/lib/python3.10/dist-packages (from requests->transformers) (2.0.12)\n",
            "Requirement already satisfied: idna<4,>=2.5 in /usr/local/lib/python3.10/dist-packages (from requests->transformers) (3.4)\n",
            "Requirement already satisfied: urllib3<3,>=1.21.1 in /usr/local/lib/python3.10/dist-packages (from requests->transformers) (1.26.15)\n",
            "Requirement already satisfied: certifi>=2017.4.17 in /usr/local/lib/python3.10/dist-packages (from requests->transformers) (2022.12.7)\n",
            "Installing collected packages: transformers\n",
            "  Attempting uninstall: transformers\n",
            "    Found existing installation: transformers 2.2.0\n",
            "    Uninstalling transformers-2.2.0:\n",
            "      Successfully uninstalled transformers-2.2.0\n",
            "Successfully installed transformers-4.29.1\n"
          ]
        },
        {
          "output_type": "display_data",
          "data": {
            "application/vnd.colab-display-data+json": {
              "pip_warning": {
                "packages": [
                  "transformers"
                ]
              }
            }
          },
          "metadata": {}
        }
      ]
    },
    {
      "cell_type": "code",
      "source": [
        "!pip install -q bert-extractive-summarizer"
      ],
      "metadata": {
        "id": "OBEnTv7MVf-g",
        "outputId": "c17ec17d-775d-434d-8fd6-bfd1ef7fcffd",
        "colab": {
          "base_uri": "https://localhost:8080/"
        }
      },
      "execution_count": 1,
      "outputs": [
        {
          "output_type": "stream",
          "name": "stdout",
          "text": [
            "\u001b[2K     \u001b[90m━━━━━━━━━━━━━━━━━━━━━━━━━━━━━━━━━━━━━━━━\u001b[0m \u001b[32m7.1/7.1 MB\u001b[0m \u001b[31m77.5 MB/s\u001b[0m eta \u001b[36m0:00:00\u001b[0m\n",
            "\u001b[2K     \u001b[90m━━━━━━━━━━━━━━━━━━━━━━━━━━━━━━━━━━━━━━\u001b[0m \u001b[32m224.5/224.5 kB\u001b[0m \u001b[31m21.1 MB/s\u001b[0m eta \u001b[36m0:00:00\u001b[0m\n",
            "\u001b[2K     \u001b[90m━━━━━━━━━━━━━━━━━━━━━━━━━━━━━━━━━━━━━━━━\u001b[0m \u001b[32m7.8/7.8 MB\u001b[0m \u001b[31m107.6 MB/s\u001b[0m eta \u001b[36m0:00:00\u001b[0m\n",
            "\u001b[?25h"
          ]
        }
      ]
    },
    {
      "cell_type": "code",
      "source": [
        "from summarizer import Summarizer"
      ],
      "metadata": {
        "id": "ajdxzlZF60m7"
      },
      "execution_count": 2,
      "outputs": []
    },
    {
      "cell_type": "code",
      "source": [
        "model=Summarizer()"
      ],
      "metadata": {
        "id": "fOr1VXh-7AYn",
        "outputId": "92bd40e7-c7e2-4628-9696-be6f717d5318",
        "colab": {
          "base_uri": "https://localhost:8080/",
          "height": 217,
          "referenced_widgets": [
            "ec9afe617ee74258a6050a99dfe7faf7",
            "cae7202621454939b8bc06a836744dd1",
            "6c357522a27c43fe91f6988de2e2d605",
            "3d3c365feab440a88464b98cc8ff3e4d",
            "f0da251bc27e486d985d7560555615eb",
            "175388e0408448e3928f857e506e5e9c",
            "9bfb3685e9da4f0a92504b4a6f4e9bcb",
            "06f71a1c98fa43588f46c1a634ff784f",
            "d9d46801de0c4780bec94595f4fca51f",
            "3b0bbd0b611340fc8e4b6b1c980c933e",
            "1e02518214664376bb41d2a904c19ad2",
            "3a932e204893414b9a536b6eed27d03a",
            "d0f9988ae17e4fe481e199c58813b35e",
            "fcb51f43402647ac9a22139b8b9598e7",
            "e6814aec8c1b49fbafd059e577efbbc5",
            "17c27571ba7949429142ae593eba80db",
            "e9dc9159415a4e3caf9e032cd71c25b7",
            "009c208716d34666b1f0f8f19a8291d3",
            "d15126fdba4d4bada401d299f05d5b3d",
            "9b8d169217104b07ae57ddd93d6d5929",
            "e8325e60b5914a779ef789aa190932d8",
            "27176bfcd5e0411780c52af3c956711c",
            "487d3679f6a941138c31cc77c14aa2c3",
            "1b5cc7631fdc48108f48713fec08327c",
            "1644d406e23f40c19a45245995d1580a",
            "a2f9fa1ff16d4fc6aaf8b8718b8df8a9",
            "915ad69e730749a5a85dd449e4ea2e6d",
            "95e4a7d7de9148ca8a141fc094483de8",
            "5ecd6e90ef02490ab13768657a05fc0b",
            "764b045ce8c44cb48185bd07e74116c6",
            "af7397b4bdfe4dc4849ef5ef585c33c7",
            "5421de4e7fa645dabf51565b2f9a0b4f",
            "57a633adb055435ab99201ec1748898a",
            "fdef570f243541a39fb4c170e64be547",
            "b472a54e617e46a791e5f2d5da1e4a8d",
            "0b137b5cdbe94c60b9952cc8a773f3d7",
            "5f54b9110a2d466e90493a7fe1d2b84a",
            "6ebd9dbe4b4645238ce92168d0fdf54b",
            "3551a68d68584386a5f96200ca93fd78",
            "f9124b46512c40d087e9977a904a6f02",
            "c18456d5b8ed431f8c4293c86e697d1d",
            "7c7d0873baa24ddea30cbf8fc9d0a27b",
            "a9183e62a2404dba931b8b5c1a4b4875",
            "d32021e6f536454ca6681876c46052de"
          ]
        }
      },
      "execution_count": 3,
      "outputs": [
        {
          "output_type": "display_data",
          "data": {
            "text/plain": [
              "Downloading (…)lve/main/config.json:   0%|          | 0.00/571 [00:00<?, ?B/s]"
            ],
            "application/vnd.jupyter.widget-view+json": {
              "version_major": 2,
              "version_minor": 0,
              "model_id": "ec9afe617ee74258a6050a99dfe7faf7"
            }
          },
          "metadata": {}
        },
        {
          "output_type": "display_data",
          "data": {
            "text/plain": [
              "Downloading pytorch_model.bin:   0%|          | 0.00/1.34G [00:00<?, ?B/s]"
            ],
            "application/vnd.jupyter.widget-view+json": {
              "version_major": 2,
              "version_minor": 0,
              "model_id": "3a932e204893414b9a536b6eed27d03a"
            }
          },
          "metadata": {}
        },
        {
          "output_type": "stream",
          "name": "stderr",
          "text": [
            "Some weights of the model checkpoint at bert-large-uncased were not used when initializing BertModel: ['cls.predictions.decoder.weight', 'cls.predictions.transform.dense.weight', 'cls.predictions.transform.dense.bias', 'cls.seq_relationship.weight', 'cls.predictions.bias', 'cls.seq_relationship.bias', 'cls.predictions.transform.LayerNorm.bias', 'cls.predictions.transform.LayerNorm.weight']\n",
            "- This IS expected if you are initializing BertModel from the checkpoint of a model trained on another task or with another architecture (e.g. initializing a BertForSequenceClassification model from a BertForPreTraining model).\n",
            "- This IS NOT expected if you are initializing BertModel from the checkpoint of a model that you expect to be exactly identical (initializing a BertForSequenceClassification model from a BertForSequenceClassification model).\n"
          ]
        },
        {
          "output_type": "display_data",
          "data": {
            "text/plain": [
              "Downloading (…)solve/main/vocab.txt:   0%|          | 0.00/232k [00:00<?, ?B/s]"
            ],
            "application/vnd.jupyter.widget-view+json": {
              "version_major": 2,
              "version_minor": 0,
              "model_id": "487d3679f6a941138c31cc77c14aa2c3"
            }
          },
          "metadata": {}
        },
        {
          "output_type": "display_data",
          "data": {
            "text/plain": [
              "Downloading (…)okenizer_config.json:   0%|          | 0.00/28.0 [00:00<?, ?B/s]"
            ],
            "application/vnd.jupyter.widget-view+json": {
              "version_major": 2,
              "version_minor": 0,
              "model_id": "fdef570f243541a39fb4c170e64be547"
            }
          },
          "metadata": {}
        }
      ]
    },
    {
      "cell_type": "code",
      "source": [
        "import pandas as pd\n",
        "data=pd.read_csv('/content/concatenated_data.csv')"
      ],
      "metadata": {
        "id": "duBtM2ZY7gW5",
        "outputId": "5a8c694e-7a9c-46e1-f3ad-6894980de45c",
        "colab": {
          "base_uri": "https://localhost:8080/",
          "height": 1000
        }
      },
      "execution_count": 1,
      "outputs": [
        {
          "output_type": "error",
          "ename": "FileNotFoundError",
          "evalue": "ignored",
          "traceback": [
            "\u001b[0;31m---------------------------------------------------------------------------\u001b[0m",
            "\u001b[0;31mFileNotFoundError\u001b[0m                         Traceback (most recent call last)",
            "Cell \u001b[0;32mIn[1], line 2\u001b[0m\n\u001b[1;32m      1\u001b[0m \u001b[38;5;28;01mimport\u001b[39;00m \u001b[38;5;21;01mpandas\u001b[39;00m \u001b[38;5;28;01mas\u001b[39;00m \u001b[38;5;21;01mpd\u001b[39;00m\n\u001b[0;32m----> 2\u001b[0m data\u001b[38;5;241m=\u001b[39m\u001b[43mpd\u001b[49m\u001b[38;5;241;43m.\u001b[39;49m\u001b[43mread_csv\u001b[49m\u001b[43m(\u001b[49m\u001b[38;5;124;43m'\u001b[39;49m\u001b[38;5;124;43m/content/concatenated_data.csv\u001b[39;49m\u001b[38;5;124;43m'\u001b[39;49m\u001b[43m)\u001b[49m\n",
            "File \u001b[0;32m/usr/local/lib/python3.10/dist-packages/pandas/io/parsers/readers.py:912\u001b[0m, in \u001b[0;36mread_csv\u001b[0;34m(filepath_or_buffer, sep, delimiter, header, names, index_col, usecols, dtype, engine, converters, true_values, false_values, skipinitialspace, skiprows, skipfooter, nrows, na_values, keep_default_na, na_filter, verbose, skip_blank_lines, parse_dates, infer_datetime_format, keep_date_col, date_parser, date_format, dayfirst, cache_dates, iterator, chunksize, compression, thousands, decimal, lineterminator, quotechar, quoting, doublequote, escapechar, comment, encoding, encoding_errors, dialect, on_bad_lines, delim_whitespace, low_memory, memory_map, float_precision, storage_options, dtype_backend)\u001b[0m\n\u001b[1;32m    899\u001b[0m kwds_defaults \u001b[38;5;241m=\u001b[39m _refine_defaults_read(\n\u001b[1;32m    900\u001b[0m     dialect,\n\u001b[1;32m    901\u001b[0m     delimiter,\n\u001b[0;32m   (...)\u001b[0m\n\u001b[1;32m    908\u001b[0m     dtype_backend\u001b[38;5;241m=\u001b[39mdtype_backend,\n\u001b[1;32m    909\u001b[0m )\n\u001b[1;32m    910\u001b[0m kwds\u001b[38;5;241m.\u001b[39mupdate(kwds_defaults)\n\u001b[0;32m--> 912\u001b[0m \u001b[38;5;28;01mreturn\u001b[39;00m \u001b[43m_read\u001b[49m\u001b[43m(\u001b[49m\u001b[43mfilepath_or_buffer\u001b[49m\u001b[43m,\u001b[49m\u001b[43m \u001b[49m\u001b[43mkwds\u001b[49m\u001b[43m)\u001b[49m\n",
            "File \u001b[0;32m/usr/local/lib/python3.10/dist-packages/pandas/io/parsers/readers.py:577\u001b[0m, in \u001b[0;36m_read\u001b[0;34m(filepath_or_buffer, kwds)\u001b[0m\n\u001b[1;32m    574\u001b[0m _validate_names(kwds\u001b[38;5;241m.\u001b[39mget(\u001b[38;5;124m\"\u001b[39m\u001b[38;5;124mnames\u001b[39m\u001b[38;5;124m\"\u001b[39m, \u001b[38;5;28;01mNone\u001b[39;00m))\n\u001b[1;32m    576\u001b[0m \u001b[38;5;66;03m# Create the parser.\u001b[39;00m\n\u001b[0;32m--> 577\u001b[0m parser \u001b[38;5;241m=\u001b[39m \u001b[43mTextFileReader\u001b[49m\u001b[43m(\u001b[49m\u001b[43mfilepath_or_buffer\u001b[49m\u001b[43m,\u001b[49m\u001b[43m \u001b[49m\u001b[38;5;241;43m*\u001b[39;49m\u001b[38;5;241;43m*\u001b[39;49m\u001b[43mkwds\u001b[49m\u001b[43m)\u001b[49m\n\u001b[1;32m    579\u001b[0m \u001b[38;5;28;01mif\u001b[39;00m chunksize \u001b[38;5;129;01mor\u001b[39;00m iterator:\n\u001b[1;32m    580\u001b[0m     \u001b[38;5;28;01mreturn\u001b[39;00m parser\n",
            "File \u001b[0;32m/usr/local/lib/python3.10/dist-packages/pandas/io/parsers/readers.py:1407\u001b[0m, in \u001b[0;36mTextFileReader.__init__\u001b[0;34m(self, f, engine, **kwds)\u001b[0m\n\u001b[1;32m   1404\u001b[0m     \u001b[38;5;28mself\u001b[39m\u001b[38;5;241m.\u001b[39moptions[\u001b[38;5;124m\"\u001b[39m\u001b[38;5;124mhas_index_names\u001b[39m\u001b[38;5;124m\"\u001b[39m] \u001b[38;5;241m=\u001b[39m kwds[\u001b[38;5;124m\"\u001b[39m\u001b[38;5;124mhas_index_names\u001b[39m\u001b[38;5;124m\"\u001b[39m]\n\u001b[1;32m   1406\u001b[0m \u001b[38;5;28mself\u001b[39m\u001b[38;5;241m.\u001b[39mhandles: IOHandles \u001b[38;5;241m|\u001b[39m \u001b[38;5;28;01mNone\u001b[39;00m \u001b[38;5;241m=\u001b[39m \u001b[38;5;28;01mNone\u001b[39;00m\n\u001b[0;32m-> 1407\u001b[0m \u001b[38;5;28mself\u001b[39m\u001b[38;5;241m.\u001b[39m_engine \u001b[38;5;241m=\u001b[39m \u001b[38;5;28;43mself\u001b[39;49m\u001b[38;5;241;43m.\u001b[39;49m\u001b[43m_make_engine\u001b[49m\u001b[43m(\u001b[49m\u001b[43mf\u001b[49m\u001b[43m,\u001b[49m\u001b[43m \u001b[49m\u001b[38;5;28;43mself\u001b[39;49m\u001b[38;5;241;43m.\u001b[39;49m\u001b[43mengine\u001b[49m\u001b[43m)\u001b[49m\n",
            "File \u001b[0;32m/usr/local/lib/python3.10/dist-packages/pandas/io/parsers/readers.py:1661\u001b[0m, in \u001b[0;36mTextFileReader._make_engine\u001b[0;34m(self, f, engine)\u001b[0m\n\u001b[1;32m   1659\u001b[0m     \u001b[38;5;28;01mif\u001b[39;00m \u001b[38;5;124m\"\u001b[39m\u001b[38;5;124mb\u001b[39m\u001b[38;5;124m\"\u001b[39m \u001b[38;5;129;01mnot\u001b[39;00m \u001b[38;5;129;01min\u001b[39;00m mode:\n\u001b[1;32m   1660\u001b[0m         mode \u001b[38;5;241m+\u001b[39m\u001b[38;5;241m=\u001b[39m \u001b[38;5;124m\"\u001b[39m\u001b[38;5;124mb\u001b[39m\u001b[38;5;124m\"\u001b[39m\n\u001b[0;32m-> 1661\u001b[0m \u001b[38;5;28mself\u001b[39m\u001b[38;5;241m.\u001b[39mhandles \u001b[38;5;241m=\u001b[39m \u001b[43mget_handle\u001b[49m\u001b[43m(\u001b[49m\n\u001b[1;32m   1662\u001b[0m \u001b[43m    \u001b[49m\u001b[43mf\u001b[49m\u001b[43m,\u001b[49m\n\u001b[1;32m   1663\u001b[0m \u001b[43m    \u001b[49m\u001b[43mmode\u001b[49m\u001b[43m,\u001b[49m\n\u001b[1;32m   1664\u001b[0m \u001b[43m    \u001b[49m\u001b[43mencoding\u001b[49m\u001b[38;5;241;43m=\u001b[39;49m\u001b[38;5;28;43mself\u001b[39;49m\u001b[38;5;241;43m.\u001b[39;49m\u001b[43moptions\u001b[49m\u001b[38;5;241;43m.\u001b[39;49m\u001b[43mget\u001b[49m\u001b[43m(\u001b[49m\u001b[38;5;124;43m\"\u001b[39;49m\u001b[38;5;124;43mencoding\u001b[39;49m\u001b[38;5;124;43m\"\u001b[39;49m\u001b[43m,\u001b[49m\u001b[43m \u001b[49m\u001b[38;5;28;43;01mNone\u001b[39;49;00m\u001b[43m)\u001b[49m\u001b[43m,\u001b[49m\n\u001b[1;32m   1665\u001b[0m \u001b[43m    \u001b[49m\u001b[43mcompression\u001b[49m\u001b[38;5;241;43m=\u001b[39;49m\u001b[38;5;28;43mself\u001b[39;49m\u001b[38;5;241;43m.\u001b[39;49m\u001b[43moptions\u001b[49m\u001b[38;5;241;43m.\u001b[39;49m\u001b[43mget\u001b[49m\u001b[43m(\u001b[49m\u001b[38;5;124;43m\"\u001b[39;49m\u001b[38;5;124;43mcompression\u001b[39;49m\u001b[38;5;124;43m\"\u001b[39;49m\u001b[43m,\u001b[49m\u001b[43m \u001b[49m\u001b[38;5;28;43;01mNone\u001b[39;49;00m\u001b[43m)\u001b[49m\u001b[43m,\u001b[49m\n\u001b[1;32m   1666\u001b[0m \u001b[43m    \u001b[49m\u001b[43mmemory_map\u001b[49m\u001b[38;5;241;43m=\u001b[39;49m\u001b[38;5;28;43mself\u001b[39;49m\u001b[38;5;241;43m.\u001b[39;49m\u001b[43moptions\u001b[49m\u001b[38;5;241;43m.\u001b[39;49m\u001b[43mget\u001b[49m\u001b[43m(\u001b[49m\u001b[38;5;124;43m\"\u001b[39;49m\u001b[38;5;124;43mmemory_map\u001b[39;49m\u001b[38;5;124;43m\"\u001b[39;49m\u001b[43m,\u001b[49m\u001b[43m \u001b[49m\u001b[38;5;28;43;01mFalse\u001b[39;49;00m\u001b[43m)\u001b[49m\u001b[43m,\u001b[49m\n\u001b[1;32m   1667\u001b[0m \u001b[43m    \u001b[49m\u001b[43mis_text\u001b[49m\u001b[38;5;241;43m=\u001b[39;49m\u001b[43mis_text\u001b[49m\u001b[43m,\u001b[49m\n\u001b[1;32m   1668\u001b[0m \u001b[43m    \u001b[49m\u001b[43merrors\u001b[49m\u001b[38;5;241;43m=\u001b[39;49m\u001b[38;5;28;43mself\u001b[39;49m\u001b[38;5;241;43m.\u001b[39;49m\u001b[43moptions\u001b[49m\u001b[38;5;241;43m.\u001b[39;49m\u001b[43mget\u001b[49m\u001b[43m(\u001b[49m\u001b[38;5;124;43m\"\u001b[39;49m\u001b[38;5;124;43mencoding_errors\u001b[39;49m\u001b[38;5;124;43m\"\u001b[39;49m\u001b[43m,\u001b[49m\u001b[43m \u001b[49m\u001b[38;5;124;43m\"\u001b[39;49m\u001b[38;5;124;43mstrict\u001b[39;49m\u001b[38;5;124;43m\"\u001b[39;49m\u001b[43m)\u001b[49m\u001b[43m,\u001b[49m\n\u001b[1;32m   1669\u001b[0m \u001b[43m    \u001b[49m\u001b[43mstorage_options\u001b[49m\u001b[38;5;241;43m=\u001b[39;49m\u001b[38;5;28;43mself\u001b[39;49m\u001b[38;5;241;43m.\u001b[39;49m\u001b[43moptions\u001b[49m\u001b[38;5;241;43m.\u001b[39;49m\u001b[43mget\u001b[49m\u001b[43m(\u001b[49m\u001b[38;5;124;43m\"\u001b[39;49m\u001b[38;5;124;43mstorage_options\u001b[39;49m\u001b[38;5;124;43m\"\u001b[39;49m\u001b[43m,\u001b[49m\u001b[43m \u001b[49m\u001b[38;5;28;43;01mNone\u001b[39;49;00m\u001b[43m)\u001b[49m\u001b[43m,\u001b[49m\n\u001b[1;32m   1670\u001b[0m \u001b[43m\u001b[49m\u001b[43m)\u001b[49m\n\u001b[1;32m   1671\u001b[0m \u001b[38;5;28;01massert\u001b[39;00m \u001b[38;5;28mself\u001b[39m\u001b[38;5;241m.\u001b[39mhandles \u001b[38;5;129;01mis\u001b[39;00m \u001b[38;5;129;01mnot\u001b[39;00m \u001b[38;5;28;01mNone\u001b[39;00m\n\u001b[1;32m   1672\u001b[0m f \u001b[38;5;241m=\u001b[39m \u001b[38;5;28mself\u001b[39m\u001b[38;5;241m.\u001b[39mhandles\u001b[38;5;241m.\u001b[39mhandle\n",
            "File \u001b[0;32m/usr/local/lib/python3.10/dist-packages/pandas/io/common.py:859\u001b[0m, in \u001b[0;36mget_handle\u001b[0;34m(path_or_buf, mode, encoding, compression, memory_map, is_text, errors, storage_options)\u001b[0m\n\u001b[1;32m    854\u001b[0m \u001b[38;5;28;01melif\u001b[39;00m \u001b[38;5;28misinstance\u001b[39m(handle, \u001b[38;5;28mstr\u001b[39m):\n\u001b[1;32m    855\u001b[0m     \u001b[38;5;66;03m# Check whether the filename is to be opened in binary mode.\u001b[39;00m\n\u001b[1;32m    856\u001b[0m     \u001b[38;5;66;03m# Binary mode does not support 'encoding' and 'newline'.\u001b[39;00m\n\u001b[1;32m    857\u001b[0m     \u001b[38;5;28;01mif\u001b[39;00m ioargs\u001b[38;5;241m.\u001b[39mencoding \u001b[38;5;129;01mand\u001b[39;00m \u001b[38;5;124m\"\u001b[39m\u001b[38;5;124mb\u001b[39m\u001b[38;5;124m\"\u001b[39m \u001b[38;5;129;01mnot\u001b[39;00m \u001b[38;5;129;01min\u001b[39;00m ioargs\u001b[38;5;241m.\u001b[39mmode:\n\u001b[1;32m    858\u001b[0m         \u001b[38;5;66;03m# Encoding\u001b[39;00m\n\u001b[0;32m--> 859\u001b[0m         handle \u001b[38;5;241m=\u001b[39m \u001b[38;5;28;43mopen\u001b[39;49m\u001b[43m(\u001b[49m\n\u001b[1;32m    860\u001b[0m \u001b[43m            \u001b[49m\u001b[43mhandle\u001b[49m\u001b[43m,\u001b[49m\n\u001b[1;32m    861\u001b[0m \u001b[43m            \u001b[49m\u001b[43mioargs\u001b[49m\u001b[38;5;241;43m.\u001b[39;49m\u001b[43mmode\u001b[49m\u001b[43m,\u001b[49m\n\u001b[1;32m    862\u001b[0m \u001b[43m            \u001b[49m\u001b[43mencoding\u001b[49m\u001b[38;5;241;43m=\u001b[39;49m\u001b[43mioargs\u001b[49m\u001b[38;5;241;43m.\u001b[39;49m\u001b[43mencoding\u001b[49m\u001b[43m,\u001b[49m\n\u001b[1;32m    863\u001b[0m \u001b[43m            \u001b[49m\u001b[43merrors\u001b[49m\u001b[38;5;241;43m=\u001b[39;49m\u001b[43merrors\u001b[49m\u001b[43m,\u001b[49m\n\u001b[1;32m    864\u001b[0m \u001b[43m            \u001b[49m\u001b[43mnewline\u001b[49m\u001b[38;5;241;43m=\u001b[39;49m\u001b[38;5;124;43m\"\u001b[39;49m\u001b[38;5;124;43m\"\u001b[39;49m\u001b[43m,\u001b[49m\n\u001b[1;32m    865\u001b[0m \u001b[43m        \u001b[49m\u001b[43m)\u001b[49m\n\u001b[1;32m    866\u001b[0m     \u001b[38;5;28;01melse\u001b[39;00m:\n\u001b[1;32m    867\u001b[0m         \u001b[38;5;66;03m# Binary mode\u001b[39;00m\n\u001b[1;32m    868\u001b[0m         handle \u001b[38;5;241m=\u001b[39m \u001b[38;5;28mopen\u001b[39m(handle, ioargs\u001b[38;5;241m.\u001b[39mmode)\n",
            "\u001b[0;31mFileNotFoundError\u001b[0m: [Errno 2] No such file or directory: '/content/concatenated_data.csv'"
          ]
        }
      ]
    },
    {
      "cell_type": "code",
      "source": [
        "data=data['Fake_Genuine'].tolist()"
      ],
      "metadata": {
        "id": "UV2g8uWm_86u"
      },
      "execution_count": 17,
      "outputs": []
    },
    {
      "cell_type": "code",
      "source": [
        "result=model(data[0],num_sentences=1,min_length=10)"
      ],
      "metadata": {
        "id": "bAui-5o67Gt-"
      },
      "execution_count": 12,
      "outputs": []
    },
    {
      "cell_type": "code",
      "source": [
        "result"
      ],
      "metadata": {
        "id": "iTKG8VvRAfB_",
        "outputId": "d90cd2eb-09c1-4888-b7d5-efe269c7d5ac",
        "colab": {
          "base_uri": "https://localhost:8080/",
          "height": 87
        }
      },
      "execution_count": 13,
      "outputs": [
        {
          "output_type": "execute_result",
          "data": {
            "text/plain": [
              "'Proof The Mainstream Media Is Manipulating The Election By Taking Bill Clinton Out Of ContextI woke up this morning to find a variation of this headline splashed all over my news feed:\\n\\nBill Clinton: ‘Natural’ For Foundation Donors to Seek Favors\\n\\nHere’s Google:\\n\\nNaturally, my reaction was “oh, s**t, what did Bill Clinton do to damage his wife’s campaign now?”'"
            ],
            "application/vnd.google.colaboratory.intrinsic+json": {
              "type": "string"
            }
          },
          "metadata": {},
          "execution_count": 13
        }
      ]
    },
    {
      "cell_type": "code",
      "source": [
        "abstractive_summarization_data=[]\n",
        "for each_sentence in data:\n",
        "    abstractive_summarization_data.append(model(each_sentence,num_sentences=1,min_length=10))"
      ],
      "metadata": {
        "id": "_ULIgX43AxCb"
      },
      "execution_count": 19,
      "outputs": []
    },
    {
      "cell_type": "code",
      "source": [
        "len(data),len(abstractive_summarization_data)"
      ],
      "metadata": {
        "id": "ApKrzBTHCUth",
        "outputId": "cab290d5-f2cc-4344-a5eb-70ea449fad17",
        "colab": {
          "base_uri": "https://localhost:8080/"
        }
      },
      "execution_count": 21,
      "outputs": [
        {
          "output_type": "execute_result",
          "data": {
            "text/plain": [
              "(422, 422)"
            ]
          },
          "metadata": {},
          "execution_count": 21
        }
      ]
    },
    {
      "cell_type": "code",
      "source": [
        "data['abstractive_summarization_data']=abstractive_summarization_data"
      ],
      "metadata": {
        "id": "knWwsIGYCpAE"
      },
      "execution_count": 23,
      "outputs": []
    },
    {
      "cell_type": "code",
      "source": [
        "data.to_csv('\\abstractive_concatenated_data.csv')"
      ],
      "metadata": {
        "id": "vCkm4F3YEjto"
      },
      "execution_count": 24,
      "outputs": []
    },
    {
      "cell_type": "code",
      "source": [
        "data[1]"
      ],
      "metadata": {
        "id": "Rvy6OVTjEjO7",
        "outputId": "c6d7c557-e6a4-46d0-c55b-f2ba83653633",
        "colab": {
          "base_uri": "https://localhost:8080/",
          "height": 87
        }
      },
      "execution_count": 11,
      "outputs": [
        {
          "output_type": "execute_result",
          "data": {
            "text/plain": [
              "'Charity: Clinton Foundation Distributed “Watered-Down” AIDS Drugs to Sub-Saharan Africa – Eagle RisingFormer President Bill Clinton and his Clinton Health Access Initiative (CHAI) distributed “watered-down” HIV/AIDs drugs to patients in sub-Saharan Africa, and “likely increased” the risks of morbidity and mortality, according to a draft congressional report obtained by The Daily Caller News Foundation.'"
            ],
            "application/vnd.google.colaboratory.intrinsic+json": {
              "type": "string"
            }
          },
          "metadata": {},
          "execution_count": 11
        }
      ]
    },
    {
      "cell_type": "code",
      "source": [
        "### USing Topic Modelling"
      ],
      "metadata": {
        "id": "LEPeufdXFX9A"
      },
      "execution_count": 1,
      "outputs": []
    },
    {
      "cell_type": "code",
      "source": [
        "!pip install contextualized-topic-models"
      ],
      "metadata": {
        "id": "qES0EH-wGHfD"
      },
      "execution_count": null,
      "outputs": []
    },
    {
      "cell_type": "code",
      "source": [
        "import locale\n",
        "locale.getpreferredencoding = lambda: \"UTF-8\""
      ],
      "metadata": {
        "id": "ixxX_1H0GVoN"
      },
      "execution_count": 2,
      "outputs": []
    },
    {
      "cell_type": "code",
      "source": [
        "from contextualized_topic_models.models.ctm import CombinedTM\n",
        "from contextualized_topic_models.utils.data_preparation import TopicModelDataPreparation\n",
        "from contextualized_topic_models.utils.preprocessing import WhiteSpacePreprocessingStopwords\n",
        "import nltk"
      ],
      "metadata": {
        "id": "B0FB3dR5GkkD"
      },
      "execution_count": 2,
      "outputs": []
    },
    {
      "cell_type": "code",
      "source": [
        "import pandas as pd\n",
        "data=pd.read_csv('/content/_bstractive_concatenated_data.csv')\n"
      ],
      "metadata": {
        "id": "ljWsB3JpGvOP"
      },
      "execution_count": 3,
      "outputs": []
    },
    {
      "cell_type": "code",
      "source": [
        "data=data['abstractive_summarization_data']"
      ],
      "metadata": {
        "id": "t3ucG00ylG1t"
      },
      "execution_count": 9,
      "outputs": []
    },
    {
      "cell_type": "code",
      "source": [
        "data=data['abstractive_summarization_data']"
      ],
      "metadata": {
        "id": "PtGPGr2bG4Cv"
      },
      "execution_count": 3,
      "outputs": []
    },
    {
      "cell_type": "code",
      "source": [
        "data=data.tolist()"
      ],
      "metadata": {
        "id": "K4pTS67GHY--"
      },
      "execution_count": 4,
      "outputs": []
    },
    {
      "cell_type": "code",
      "source": [
        "from nltk.corpus import stopwords as stop_words\n",
        "\n",
        "nltk.download('stopwords')\n",
        "\n",
        "documents = [line.strip() for line in data]\n",
        "\n",
        "stopwords = list(stop_words.words(\"english\"))\n",
        "\n",
        "sp = WhiteSpacePreprocessingStopwords(documents, stopwords_list=stopwords)\n",
        "preprocessed_documents, unpreprocessed_corpus, vocab, retained_indices = sp.preprocess()"
      ],
      "metadata": {
        "id": "XllCPtyJG90g",
        "outputId": "6285719a-a65e-4aa9-dab5-732f024b0173",
        "colab": {
          "base_uri": "https://localhost:8080/"
        }
      },
      "execution_count": 4,
      "outputs": [
        {
          "output_type": "stream",
          "name": "stderr",
          "text": [
            "[nltk_data] Downloading package stopwords to /root/nltk_data...\n",
            "[nltk_data]   Package stopwords is already up-to-date!\n"
          ]
        }
      ]
    },
    {
      "cell_type": "code",
      "source": [
        "len(preprocessed_documents),len(unpreprocessed_corpus)"
      ],
      "metadata": {
        "id": "mpBwZXBHHQah",
        "outputId": "ef82d38d-833c-455b-b95d-2662435b781a",
        "colab": {
          "base_uri": "https://localhost:8080/"
        }
      },
      "execution_count": 10,
      "outputs": [
        {
          "output_type": "execute_result",
          "data": {
            "text/plain": [
              "(419, 419)"
            ]
          },
          "metadata": {},
          "execution_count": 10
        }
      ]
    },
    {
      "cell_type": "code",
      "source": [
        "tp = TopicModelDataPreparation(\"all-mpnet-base-v2\")\n",
        "\n",
        "training_dataset = tp.fit(text_for_contextual=unpreprocessed_corpus, text_for_bow=preprocessed_documents)"
      ],
      "metadata": {
        "id": "Z2H-WgnuHSWZ",
        "outputId": "3b4a0fc8-a289-48ff-d126-4e29654962bf",
        "colab": {
          "base_uri": "https://localhost:8080/",
          "height": 49,
          "referenced_widgets": [
            "a273109d85fa47d6b69892eeba4bd46f",
            "5cfdebb07f1245a099b7b2e747b1d740",
            "a9f485e8f57e482abe94cbfbf4eaf417",
            "93b246da8d5340aa8b3e44061dc47d0c",
            "0930148cd5624875b4c3b199d9bcb904",
            "d7f18a0835f24ad9b231570368e34396",
            "e9cad203056845379fec6b0d63f890fd",
            "bc404c998fde43c5becaa82a4f446fc1",
            "f7cbba3126b14e1b847f440034f3e983",
            "3150cf4835e94b61b7e1edcaf7db2e28",
            "361a9a59f8954664a1bc6c1907cfca5c"
          ]
        }
      },
      "execution_count": 8,
      "outputs": [
        {
          "output_type": "display_data",
          "data": {
            "text/plain": [
              "Batches:   0%|          | 0/1 [00:00<?, ?it/s]"
            ],
            "application/vnd.jupyter.widget-view+json": {
              "version_major": 2,
              "version_minor": 0,
              "model_id": "a273109d85fa47d6b69892eeba4bd46f"
            }
          },
          "metadata": {}
        }
      ]
    },
    {
      "cell_type": "code",
      "source": [
        "ctm = CombinedTM(bow_size=len(tp.vocab), contextual_size=768, n_components=5, num_epochs=100)\n",
        "ctm.fit(training_dataset) # run the model"
      ],
      "metadata": {
        "id": "a5aZUPMyHr_O",
        "outputId": "051afb95-e65a-4909-e5e4-b0ba9bb36384",
        "colab": {
          "base_uri": "https://localhost:8080/",
          "height": 478
        }
      },
      "execution_count": 10,
      "outputs": [
        {
          "output_type": "stream",
          "name": "stderr",
          "text": [
            "\r0it [00:00, ?it/s]"
          ]
        },
        {
          "output_type": "error",
          "ename": "ZeroDivisionError",
          "evalue": "ignored",
          "traceback": [
            "\u001b[0;31m---------------------------------------------------------------------------\u001b[0m",
            "\u001b[0;31mZeroDivisionError\u001b[0m                         Traceback (most recent call last)",
            "Cell \u001b[0;32mIn[10], line 2\u001b[0m\n\u001b[1;32m      1\u001b[0m ctm \u001b[38;5;241m=\u001b[39m CombinedTM(bow_size\u001b[38;5;241m=\u001b[39m\u001b[38;5;28mlen\u001b[39m(tp\u001b[38;5;241m.\u001b[39mvocab), contextual_size\u001b[38;5;241m=\u001b[39m\u001b[38;5;241m768\u001b[39m, n_components\u001b[38;5;241m=\u001b[39m\u001b[38;5;241m5\u001b[39m, num_epochs\u001b[38;5;241m=\u001b[39m\u001b[38;5;241m100\u001b[39m)\n\u001b[0;32m----> 2\u001b[0m \u001b[43mctm\u001b[49m\u001b[38;5;241;43m.\u001b[39;49m\u001b[43mfit\u001b[49m\u001b[43m(\u001b[49m\u001b[43mtraining_dataset\u001b[49m\u001b[43m)\u001b[49m \u001b[38;5;66;03m# run the model\u001b[39;00m\n",
            "File \u001b[0;32m/usr/local/lib/python3.10/dist-packages/contextualized_topic_models/models/ctm.py:355\u001b[0m, in \u001b[0;36mCTM.fit\u001b[0;34m(self, train_dataset, validation_dataset, save_dir, verbose, patience, delta, n_samples, do_train_predictions)\u001b[0m\n\u001b[1;32m    353\u001b[0m \u001b[38;5;66;03m# train epoch\u001b[39;00m\n\u001b[1;32m    354\u001b[0m s \u001b[38;5;241m=\u001b[39m datetime\u001b[38;5;241m.\u001b[39mdatetime\u001b[38;5;241m.\u001b[39mnow()\n\u001b[0;32m--> 355\u001b[0m sp, train_loss \u001b[38;5;241m=\u001b[39m \u001b[38;5;28;43mself\u001b[39;49m\u001b[38;5;241;43m.\u001b[39;49m\u001b[43m_train_epoch\u001b[49m\u001b[43m(\u001b[49m\u001b[43mtrain_loader\u001b[49m\u001b[43m)\u001b[49m\n\u001b[1;32m    356\u001b[0m samples_processed \u001b[38;5;241m+\u001b[39m\u001b[38;5;241m=\u001b[39m sp\n\u001b[1;32m    357\u001b[0m e \u001b[38;5;241m=\u001b[39m datetime\u001b[38;5;241m.\u001b[39mdatetime\u001b[38;5;241m.\u001b[39mnow()\n",
            "File \u001b[0;32m/usr/local/lib/python3.10/dist-packages/contextualized_topic_models/models/ctm.py:272\u001b[0m, in \u001b[0;36mCTM._train_epoch\u001b[0;34m(self, loader)\u001b[0m\n\u001b[1;32m    269\u001b[0m     samples_processed \u001b[38;5;241m+\u001b[39m\u001b[38;5;241m=\u001b[39m X_bow\u001b[38;5;241m.\u001b[39msize()[\u001b[38;5;241m0\u001b[39m]\n\u001b[1;32m    270\u001b[0m     train_loss \u001b[38;5;241m+\u001b[39m\u001b[38;5;241m=\u001b[39m loss\u001b[38;5;241m.\u001b[39mitem()\n\u001b[0;32m--> 272\u001b[0m train_loss \u001b[38;5;241m/\u001b[39m\u001b[38;5;241m=\u001b[39m samples_processed\n\u001b[1;32m    274\u001b[0m \u001b[38;5;28;01mreturn\u001b[39;00m samples_processed, train_loss\n",
            "\u001b[0;31mZeroDivisionError\u001b[0m: division by zero"
          ]
        }
      ]
    },
    {
      "cell_type": "code",
      "source": [
        "!pip install pyldavis"
      ],
      "metadata": {
        "id": "n-xs1BMLH8qG"
      },
      "execution_count": null,
      "outputs": []
    },
    {
      "cell_type": "code",
      "source": [
        " lda_vis_data = ctm.get_ldavis_data_format(tp.vocab, training_dataset, n_samples=10)"
      ],
      "metadata": {
        "id": "E9KvmFKzIa7_",
        "outputId": "b678f84b-d882-47e8-a1b8-37866fdc34b3",
        "colab": {
          "base_uri": "https://localhost:8080/",
          "height": 756
        }
      },
      "execution_count": 7,
      "outputs": [
        {
          "output_type": "error",
          "ename": "AttributeError",
          "evalue": "ignored",
          "traceback": [
            "\u001b[0;31m---------------------------------------------------------------------------\u001b[0m",
            "\u001b[0;31mAttributeError\u001b[0m                            Traceback (most recent call last)",
            "Cell \u001b[0;32mIn[7], line 1\u001b[0m\n\u001b[0;32m----> 1\u001b[0m lda_vis_data \u001b[38;5;241m=\u001b[39m \u001b[43mctm\u001b[49m\u001b[38;5;241;43m.\u001b[39;49m\u001b[43mget_ldavis_data_format\u001b[49m\u001b[43m(\u001b[49m\u001b[43mtp\u001b[49m\u001b[38;5;241;43m.\u001b[39;49m\u001b[43mvocab\u001b[49m\u001b[43m,\u001b[49m\u001b[43m \u001b[49m\u001b[43mtraining_dataset\u001b[49m\u001b[43m,\u001b[49m\u001b[43m \u001b[49m\u001b[43mn_samples\u001b[49m\u001b[38;5;241;43m=\u001b[39;49m\u001b[38;5;241;43m10\u001b[39;49m\u001b[43m)\u001b[49m\n",
            "File \u001b[0;32m/usr/local/lib/python3.10/dist-packages/contextualized_topic_models/models/ctm.py:764\u001b[0m, in \u001b[0;36mCTM.get_ldavis_data_format\u001b[0;34m(self, vocab, dataset, n_samples)\u001b[0m\n\u001b[1;32m    762\u001b[0m term_frequency \u001b[38;5;241m=\u001b[39m np\u001b[38;5;241m.\u001b[39mravel(dataset\u001b[38;5;241m.\u001b[39mX_bow\u001b[38;5;241m.\u001b[39msum(axis\u001b[38;5;241m=\u001b[39m\u001b[38;5;241m0\u001b[39m))\n\u001b[1;32m    763\u001b[0m doc_lengths \u001b[38;5;241m=\u001b[39m np\u001b[38;5;241m.\u001b[39mravel(dataset\u001b[38;5;241m.\u001b[39mX_bow\u001b[38;5;241m.\u001b[39msum(axis\u001b[38;5;241m=\u001b[39m\u001b[38;5;241m1\u001b[39m))\n\u001b[0;32m--> 764\u001b[0m term_topic \u001b[38;5;241m=\u001b[39m \u001b[38;5;28;43mself\u001b[39;49m\u001b[38;5;241;43m.\u001b[39;49m\u001b[43mget_topic_word_distribution\u001b[49m\u001b[43m(\u001b[49m\u001b[43m)\u001b[49m\n\u001b[1;32m    765\u001b[0m doc_topic_distribution \u001b[38;5;241m=\u001b[39m \u001b[38;5;28mself\u001b[39m\u001b[38;5;241m.\u001b[39mget_doc_topic_distribution(\n\u001b[1;32m    766\u001b[0m     dataset, n_samples\u001b[38;5;241m=\u001b[39mn_samples\n\u001b[1;32m    767\u001b[0m )\n\u001b[1;32m    769\u001b[0m data \u001b[38;5;241m=\u001b[39m {\n\u001b[1;32m    770\u001b[0m     \u001b[38;5;124m\"\u001b[39m\u001b[38;5;124mtopic_term_dists\u001b[39m\u001b[38;5;124m\"\u001b[39m: term_topic,\n\u001b[1;32m    771\u001b[0m     \u001b[38;5;124m\"\u001b[39m\u001b[38;5;124mdoc_topic_dists\u001b[39m\u001b[38;5;124m\"\u001b[39m: doc_topic_distribution,\n\u001b[0;32m   (...)\u001b[0m\n\u001b[1;32m    774\u001b[0m     \u001b[38;5;124m\"\u001b[39m\u001b[38;5;124mterm_frequency\u001b[39m\u001b[38;5;124m\"\u001b[39m: term_frequency,\n\u001b[1;32m    775\u001b[0m }\n",
            "File \u001b[0;32m/usr/local/lib/python3.10/dist-packages/contextualized_topic_models/models/ctm.py:696\u001b[0m, in \u001b[0;36mCTM.get_topic_word_distribution\u001b[0;34m(self)\u001b[0m\n\u001b[1;32m    692\u001b[0m \u001b[38;5;28;01mdef\u001b[39;00m \u001b[38;5;21mget_topic_word_distribution\u001b[39m(\u001b[38;5;28mself\u001b[39m):\n\u001b[1;32m    693\u001b[0m \u001b[38;5;250m    \u001b[39m\u001b[38;5;124;03m\"\"\"\u001b[39;00m\n\u001b[1;32m    694\u001b[0m \u001b[38;5;124;03m    Return the topic-word distribution (dimensions: number of topics x length of the vocabulary).\u001b[39;00m\n\u001b[1;32m    695\u001b[0m \u001b[38;5;124;03m    \"\"\"\u001b[39;00m\n\u001b[0;32m--> 696\u001b[0m     mat \u001b[38;5;241m=\u001b[39m \u001b[38;5;28;43mself\u001b[39;49m\u001b[38;5;241;43m.\u001b[39;49m\u001b[43mget_topic_word_matrix\u001b[49m\u001b[43m(\u001b[49m\u001b[43m)\u001b[49m\n\u001b[1;32m    697\u001b[0m     \u001b[38;5;28;01mreturn\u001b[39;00m softmax(mat, axis\u001b[38;5;241m=\u001b[39m\u001b[38;5;241m1\u001b[39m)\n",
            "File \u001b[0;32m/usr/local/lib/python3.10/dist-packages/contextualized_topic_models/models/ctm.py:690\u001b[0m, in \u001b[0;36mCTM.get_topic_word_matrix\u001b[0;34m(self)\u001b[0m\n\u001b[1;32m    685\u001b[0m \u001b[38;5;28;01mdef\u001b[39;00m \u001b[38;5;21mget_topic_word_matrix\u001b[39m(\u001b[38;5;28mself\u001b[39m):\n\u001b[1;32m    686\u001b[0m \u001b[38;5;250m    \u001b[39m\u001b[38;5;124;03m\"\"\"\u001b[39;00m\n\u001b[1;32m    687\u001b[0m \u001b[38;5;124;03m    Return the topic-word matrix (dimensions: number of topics x length of the vocabulary).\u001b[39;00m\n\u001b[1;32m    688\u001b[0m \u001b[38;5;124;03m    If model_type is LDA, the matrix is normalized; otherwise the matrix is unnormalized.\u001b[39;00m\n\u001b[1;32m    689\u001b[0m \u001b[38;5;124;03m    \"\"\"\u001b[39;00m\n\u001b[0;32m--> 690\u001b[0m     \u001b[38;5;28;01mreturn\u001b[39;00m \u001b[38;5;28;43mself\u001b[39;49m\u001b[38;5;241;43m.\u001b[39;49m\u001b[43mmodel\u001b[49m\u001b[38;5;241;43m.\u001b[39;49m\u001b[43mtopic_word_matrix\u001b[49m\u001b[38;5;241;43m.\u001b[39;49m\u001b[43mcpu\u001b[49m()\u001b[38;5;241m.\u001b[39mdetach()\u001b[38;5;241m.\u001b[39mnumpy()\n",
            "\u001b[0;31mAttributeError\u001b[0m: 'NoneType' object has no attribute 'cpu'"
          ]
        }
      ]
    },
    {
      "cell_type": "code",
      "source": [
        "import pyLDAvis as vis\n",
        "\n",
        "lda_vis_data = ctm.get_ldavis_data_format(tp.vocab, training_dataset, n_samples=10)\n",
        "\n",
        "ctm_pd = vis.prepare(**lda_vis_data)\n",
        "vis.display(ctm_pd)"
      ],
      "metadata": {
        "id": "zrEkN5j9IiaI",
        "outputId": "b96b72a7-20e1-4bf4-d2ad-15df2c49991c",
        "colab": {
          "base_uri": "https://localhost:8080/",
          "height": 1000
        }
      },
      "execution_count": 41,
      "outputs": [
        {
          "output_type": "stream",
          "name": "stderr",
          "text": [
            "100%|██████████| 7/7 [00:00<00:00, 16.35it/s]\n",
            "ERROR:concurrent.futures:exception calling callback for <Future at 0x7f85064df880 state=finished raised BrokenProcessPool>\n",
            "joblib.externals.loky.process_executor._RemoteTraceback: \n",
            "\"\"\"\n",
            "Traceback (most recent call last):\n",
            "  File \"/usr/local/lib/python3.10/dist-packages/joblib/externals/loky/process_executor.py\", line 391, in _process_worker\n",
            "    call_item = call_queue.get(block=True, timeout=timeout)\n",
            "  File \"/usr/lib/python3.10/multiprocessing/queues.py\", line 122, in get\n",
            "    return _ForkingPickler.loads(res)\n",
            "ModuleNotFoundError: No module named 'pandas.core.indexes.numeric'\n",
            "\"\"\"\n",
            "\n",
            "The above exception was the direct cause of the following exception:\n",
            "\n",
            "Traceback (most recent call last):\n",
            "  File \"/usr/local/lib/python3.10/dist-packages/joblib/externals/loky/_base.py\", line 26, in _invoke_callbacks\n",
            "    callback(self)\n",
            "  File \"/usr/local/lib/python3.10/dist-packages/joblib/parallel.py\", line 385, in __call__\n",
            "    self.parallel.dispatch_next()\n",
            "  File \"/usr/local/lib/python3.10/dist-packages/joblib/parallel.py\", line 834, in dispatch_next\n",
            "    if not self.dispatch_one_batch(self._original_iterator):\n",
            "  File \"/usr/local/lib/python3.10/dist-packages/joblib/parallel.py\", line 901, in dispatch_one_batch\n",
            "    self._dispatch(tasks)\n",
            "  File \"/usr/local/lib/python3.10/dist-packages/joblib/parallel.py\", line 819, in _dispatch\n",
            "    job = self._backend.apply_async(batch, callback=cb)\n",
            "  File \"/usr/local/lib/python3.10/dist-packages/joblib/_parallel_backends.py\", line 556, in apply_async\n",
            "    future = self._workers.submit(SafeFunction(func))\n",
            "  File \"/usr/local/lib/python3.10/dist-packages/joblib/externals/loky/reusable_executor.py\", line 176, in submit\n",
            "    return super().submit(fn, *args, **kwargs)\n",
            "  File \"/usr/local/lib/python3.10/dist-packages/joblib/externals/loky/process_executor.py\", line 1129, in submit\n",
            "    raise self._flags.broken\n",
            "joblib.externals.loky.process_executor.BrokenProcessPool: A task has failed to un-serialize. Please ensure that the arguments of the function are all picklable.\n"
          ]
        },
        {
          "output_type": "error",
          "ename": "BrokenProcessPool",
          "evalue": "ignored",
          "traceback": [
            "\u001b[0;31m---------------------------------------------------------------------------\u001b[0m",
            "\u001b[0;31m_RemoteTraceback\u001b[0m                          Traceback (most recent call last)",
            "\u001b[0;31m_RemoteTraceback\u001b[0m: \n\"\"\"\nTraceback (most recent call last):\n  File \"/usr/local/lib/python3.10/dist-packages/joblib/externals/loky/process_executor.py\", line 391, in _process_worker\n    call_item = call_queue.get(block=True, timeout=timeout)\n  File \"/usr/lib/python3.10/multiprocessing/queues.py\", line 122, in get\n    return _ForkingPickler.loads(res)\nModuleNotFoundError: No module named 'pandas.core.indexes.numeric'\n\"\"\"",
            "\nThe above exception was the direct cause of the following exception:\n",
            "\u001b[0;31mBrokenProcessPool\u001b[0m                         Traceback (most recent call last)",
            "Cell \u001b[0;32mIn[41], line 5\u001b[0m\n\u001b[1;32m      1\u001b[0m \u001b[38;5;28;01mimport\u001b[39;00m \u001b[38;5;21;01mpyLDAvis\u001b[39;00m \u001b[38;5;28;01mas\u001b[39;00m \u001b[38;5;21;01mvis\u001b[39;00m\n\u001b[1;32m      3\u001b[0m lda_vis_data \u001b[38;5;241m=\u001b[39m ctm\u001b[38;5;241m.\u001b[39mget_ldavis_data_format(tp\u001b[38;5;241m.\u001b[39mvocab, training_dataset, n_samples\u001b[38;5;241m=\u001b[39m\u001b[38;5;241m10\u001b[39m)\n\u001b[0;32m----> 5\u001b[0m ctm_pd \u001b[38;5;241m=\u001b[39m \u001b[43mvis\u001b[49m\u001b[38;5;241;43m.\u001b[39;49m\u001b[43mprepare\u001b[49m\u001b[43m(\u001b[49m\u001b[38;5;241;43m*\u001b[39;49m\u001b[38;5;241;43m*\u001b[39;49m\u001b[43mlda_vis_data\u001b[49m\u001b[43m)\u001b[49m\n\u001b[1;32m      6\u001b[0m vis\u001b[38;5;241m.\u001b[39mdisplay(ctm_pd)\n",
            "File \u001b[0;32m/usr/local/lib/python3.10/dist-packages/pyLDAvis/_prepare.py:432\u001b[0m, in \u001b[0;36mprepare\u001b[0;34m(topic_term_dists, doc_topic_dists, doc_lengths, vocab, term_frequency, R, lambda_step, mds, n_jobs, plot_opts, sort_topics, start_index)\u001b[0m\n\u001b[1;32m    426\u001b[0m \u001b[38;5;66;03m# Quick fix for red bar width bug.  We calculate the\u001b[39;00m\n\u001b[1;32m    427\u001b[0m \u001b[38;5;66;03m# term frequencies internally, using the topic term distributions and the\u001b[39;00m\n\u001b[1;32m    428\u001b[0m \u001b[38;5;66;03m# topic frequencies, rather than using the user-supplied term frequencies.\u001b[39;00m\n\u001b[1;32m    429\u001b[0m \u001b[38;5;66;03m# For a detailed discussion, see: https://github.com/cpsievert/LDAvis/pull/41\u001b[39;00m\n\u001b[1;32m    430\u001b[0m term_frequency \u001b[38;5;241m=\u001b[39m np\u001b[38;5;241m.\u001b[39msum(term_topic_freq, axis\u001b[38;5;241m=\u001b[39m\u001b[38;5;241m0\u001b[39m)\n\u001b[0;32m--> 432\u001b[0m topic_info \u001b[38;5;241m=\u001b[39m \u001b[43m_topic_info\u001b[49m\u001b[43m(\u001b[49m\u001b[43mtopic_term_dists\u001b[49m\u001b[43m,\u001b[49m\u001b[43m \u001b[49m\u001b[43mtopic_proportion\u001b[49m\u001b[43m,\u001b[49m\n\u001b[1;32m    433\u001b[0m \u001b[43m                         \u001b[49m\u001b[43mterm_frequency\u001b[49m\u001b[43m,\u001b[49m\u001b[43m \u001b[49m\u001b[43mterm_topic_freq\u001b[49m\u001b[43m,\u001b[49m\u001b[43m \u001b[49m\u001b[43mvocab\u001b[49m\u001b[43m,\u001b[49m\u001b[43m \u001b[49m\u001b[43mlambda_step\u001b[49m\u001b[43m,\u001b[49m\u001b[43m \u001b[49m\u001b[43mR\u001b[49m\u001b[43m,\u001b[49m\n\u001b[1;32m    434\u001b[0m \u001b[43m                         \u001b[49m\u001b[43mn_jobs\u001b[49m\u001b[43m,\u001b[49m\u001b[43m \u001b[49m\u001b[43mstart_index\u001b[49m\u001b[43m)\u001b[49m\n\u001b[1;32m    435\u001b[0m token_table \u001b[38;5;241m=\u001b[39m _token_table(topic_info, term_topic_freq, vocab, term_frequency, start_index)\n\u001b[1;32m    436\u001b[0m topic_coordinates \u001b[38;5;241m=\u001b[39m _topic_coordinates(mds, topic_term_dists, topic_proportion, start_index)\n",
            "File \u001b[0;32m/usr/local/lib/python3.10/dist-packages/pyLDAvis/_prepare.py:273\u001b[0m, in \u001b[0;36m_topic_info\u001b[0;34m(topic_term_dists, topic_proportion, term_frequency, term_topic_freq, vocab, lambda_step, R, n_jobs, start_index)\u001b[0m\n\u001b[1;32m    262\u001b[0m     df \u001b[38;5;241m=\u001b[39m pd\u001b[38;5;241m.\u001b[39mDataFrame({\u001b[38;5;124m'\u001b[39m\u001b[38;5;124mTerm\u001b[39m\u001b[38;5;124m'\u001b[39m: vocab[term_ix],\n\u001b[1;32m    263\u001b[0m                        \u001b[38;5;124m'\u001b[39m\u001b[38;5;124mFreq\u001b[39m\u001b[38;5;124m'\u001b[39m: term_topic_freq\u001b[38;5;241m.\u001b[39mloc[original_topic_id, term_ix],\n\u001b[1;32m    264\u001b[0m                        \u001b[38;5;124m'\u001b[39m\u001b[38;5;124mTotal\u001b[39m\u001b[38;5;124m'\u001b[39m: term_frequency[term_ix],\n\u001b[0;32m   (...)\u001b[0m\n\u001b[1;32m    267\u001b[0m                        \u001b[38;5;124m'\u001b[39m\u001b[38;5;124mloglift\u001b[39m\u001b[38;5;124m'\u001b[39m: log_lift\u001b[38;5;241m.\u001b[39mloc[original_topic_id, term_ix]\u001b[38;5;241m.\u001b[39mround(\u001b[38;5;241m4\u001b[39m),\n\u001b[1;32m    268\u001b[0m                        })\n\u001b[1;32m    269\u001b[0m     \u001b[38;5;28;01mreturn\u001b[39;00m df\u001b[38;5;241m.\u001b[39mreindex(columns\u001b[38;5;241m=\u001b[39m[\n\u001b[1;32m    270\u001b[0m         \u001b[38;5;124m\"\u001b[39m\u001b[38;5;124mTerm\u001b[39m\u001b[38;5;124m\"\u001b[39m, \u001b[38;5;124m\"\u001b[39m\u001b[38;5;124mFreq\u001b[39m\u001b[38;5;124m\"\u001b[39m, \u001b[38;5;124m\"\u001b[39m\u001b[38;5;124mTotal\u001b[39m\u001b[38;5;124m\"\u001b[39m, \u001b[38;5;124m\"\u001b[39m\u001b[38;5;124mCategory\u001b[39m\u001b[38;5;124m\"\u001b[39m, \u001b[38;5;124m\"\u001b[39m\u001b[38;5;124mlogprob\u001b[39m\u001b[38;5;124m\"\u001b[39m, \u001b[38;5;124m\"\u001b[39m\u001b[38;5;124mloglift\u001b[39m\u001b[38;5;124m\"\u001b[39m\n\u001b[1;32m    271\u001b[0m     ])\n\u001b[0;32m--> 273\u001b[0m top_terms \u001b[38;5;241m=\u001b[39m pd\u001b[38;5;241m.\u001b[39mconcat(\u001b[43mParallel\u001b[49m\u001b[43m(\u001b[49m\u001b[43mn_jobs\u001b[49m\u001b[38;5;241;43m=\u001b[39;49m\u001b[43mn_jobs\u001b[49m\u001b[43m)\u001b[49m\n\u001b[1;32m    274\u001b[0m \u001b[43m                      \u001b[49m\u001b[43m(\u001b[49m\u001b[43mdelayed\u001b[49m\u001b[43m(\u001b[49m\u001b[43m_find_relevance_chunks\u001b[49m\u001b[43m)\u001b[49m\u001b[43m(\u001b[49m\u001b[43mlog_ttd\u001b[49m\u001b[43m,\u001b[49m\u001b[43m \u001b[49m\u001b[43mlog_lift\u001b[49m\u001b[43m,\u001b[49m\u001b[43m \u001b[49m\u001b[43mR\u001b[49m\u001b[43m,\u001b[49m\u001b[43m \u001b[49m\u001b[43mls\u001b[49m\u001b[43m)\u001b[49m\n\u001b[1;32m    275\u001b[0m \u001b[43m                      \u001b[49m\u001b[38;5;28;43;01mfor\u001b[39;49;00m\u001b[43m \u001b[49m\u001b[43mls\u001b[49m\u001b[43m \u001b[49m\u001b[38;5;129;43;01min\u001b[39;49;00m\u001b[43m \u001b[49m\u001b[43m_job_chunks\u001b[49m\u001b[43m(\u001b[49m\u001b[43mlambda_seq\u001b[49m\u001b[43m,\u001b[49m\u001b[43m \u001b[49m\u001b[43mn_jobs\u001b[49m\u001b[43m)\u001b[49m\u001b[43m)\u001b[49m)\n\u001b[1;32m    276\u001b[0m topic_dfs \u001b[38;5;241m=\u001b[39m \u001b[38;5;28mmap\u001b[39m(topic_top_term_df, \u001b[38;5;28menumerate\u001b[39m(top_terms\u001b[38;5;241m.\u001b[39mT\u001b[38;5;241m.\u001b[39miterrows(), start_index))\n\u001b[1;32m    277\u001b[0m \u001b[38;5;28;01mreturn\u001b[39;00m pd\u001b[38;5;241m.\u001b[39mconcat([default_term_info] \u001b[38;5;241m+\u001b[39m \u001b[38;5;28mlist\u001b[39m(topic_dfs))\n",
            "File \u001b[0;32m/usr/local/lib/python3.10/dist-packages/joblib/parallel.py:1098\u001b[0m, in \u001b[0;36mParallel.__call__\u001b[0;34m(self, iterable)\u001b[0m\n\u001b[1;32m   1095\u001b[0m     \u001b[38;5;28mself\u001b[39m\u001b[38;5;241m.\u001b[39m_iterating \u001b[38;5;241m=\u001b[39m \u001b[38;5;28;01mFalse\u001b[39;00m\n\u001b[1;32m   1097\u001b[0m \u001b[38;5;28;01mwith\u001b[39;00m \u001b[38;5;28mself\u001b[39m\u001b[38;5;241m.\u001b[39m_backend\u001b[38;5;241m.\u001b[39mretrieval_context():\n\u001b[0;32m-> 1098\u001b[0m     \u001b[38;5;28;43mself\u001b[39;49m\u001b[38;5;241;43m.\u001b[39;49m\u001b[43mretrieve\u001b[49m\u001b[43m(\u001b[49m\u001b[43m)\u001b[49m\n\u001b[1;32m   1099\u001b[0m \u001b[38;5;66;03m# Make sure that we get a last message telling us we are done\u001b[39;00m\n\u001b[1;32m   1100\u001b[0m elapsed_time \u001b[38;5;241m=\u001b[39m time\u001b[38;5;241m.\u001b[39mtime() \u001b[38;5;241m-\u001b[39m \u001b[38;5;28mself\u001b[39m\u001b[38;5;241m.\u001b[39m_start_time\n",
            "File \u001b[0;32m/usr/local/lib/python3.10/dist-packages/joblib/parallel.py:975\u001b[0m, in \u001b[0;36mParallel.retrieve\u001b[0;34m(self)\u001b[0m\n\u001b[1;32m    973\u001b[0m \u001b[38;5;28;01mtry\u001b[39;00m:\n\u001b[1;32m    974\u001b[0m     \u001b[38;5;28;01mif\u001b[39;00m \u001b[38;5;28mgetattr\u001b[39m(\u001b[38;5;28mself\u001b[39m\u001b[38;5;241m.\u001b[39m_backend, \u001b[38;5;124m'\u001b[39m\u001b[38;5;124msupports_timeout\u001b[39m\u001b[38;5;124m'\u001b[39m, \u001b[38;5;28;01mFalse\u001b[39;00m):\n\u001b[0;32m--> 975\u001b[0m         \u001b[38;5;28mself\u001b[39m\u001b[38;5;241m.\u001b[39m_output\u001b[38;5;241m.\u001b[39mextend(\u001b[43mjob\u001b[49m\u001b[38;5;241;43m.\u001b[39;49m\u001b[43mget\u001b[49m\u001b[43m(\u001b[49m\u001b[43mtimeout\u001b[49m\u001b[38;5;241;43m=\u001b[39;49m\u001b[38;5;28;43mself\u001b[39;49m\u001b[38;5;241;43m.\u001b[39;49m\u001b[43mtimeout\u001b[49m\u001b[43m)\u001b[49m)\n\u001b[1;32m    976\u001b[0m     \u001b[38;5;28;01melse\u001b[39;00m:\n\u001b[1;32m    977\u001b[0m         \u001b[38;5;28mself\u001b[39m\u001b[38;5;241m.\u001b[39m_output\u001b[38;5;241m.\u001b[39mextend(job\u001b[38;5;241m.\u001b[39mget())\n",
            "File \u001b[0;32m/usr/local/lib/python3.10/dist-packages/joblib/_parallel_backends.py:567\u001b[0m, in \u001b[0;36mLokyBackend.wrap_future_result\u001b[0;34m(future, timeout)\u001b[0m\n\u001b[1;32m    564\u001b[0m \u001b[38;5;250m\u001b[39m\u001b[38;5;124;03m\"\"\"Wrapper for Future.result to implement the same behaviour as\u001b[39;00m\n\u001b[1;32m    565\u001b[0m \u001b[38;5;124;03mAsyncResults.get from multiprocessing.\"\"\"\u001b[39;00m\n\u001b[1;32m    566\u001b[0m \u001b[38;5;28;01mtry\u001b[39;00m:\n\u001b[0;32m--> 567\u001b[0m     \u001b[38;5;28;01mreturn\u001b[39;00m \u001b[43mfuture\u001b[49m\u001b[38;5;241;43m.\u001b[39;49m\u001b[43mresult\u001b[49m\u001b[43m(\u001b[49m\u001b[43mtimeout\u001b[49m\u001b[38;5;241;43m=\u001b[39;49m\u001b[43mtimeout\u001b[49m\u001b[43m)\u001b[49m\n\u001b[1;32m    568\u001b[0m \u001b[38;5;28;01mexcept\u001b[39;00m CfTimeoutError \u001b[38;5;28;01mas\u001b[39;00m e:\n\u001b[1;32m    569\u001b[0m     \u001b[38;5;28;01mraise\u001b[39;00m \u001b[38;5;167;01mTimeoutError\u001b[39;00m \u001b[38;5;28;01mfrom\u001b[39;00m \u001b[38;5;21;01me\u001b[39;00m\n",
            "File \u001b[0;32m/usr/lib/python3.10/concurrent/futures/_base.py:458\u001b[0m, in \u001b[0;36mFuture.result\u001b[0;34m(self, timeout)\u001b[0m\n\u001b[1;32m    456\u001b[0m     \u001b[38;5;28;01mraise\u001b[39;00m CancelledError()\n\u001b[1;32m    457\u001b[0m \u001b[38;5;28;01melif\u001b[39;00m \u001b[38;5;28mself\u001b[39m\u001b[38;5;241m.\u001b[39m_state \u001b[38;5;241m==\u001b[39m FINISHED:\n\u001b[0;32m--> 458\u001b[0m     \u001b[38;5;28;01mreturn\u001b[39;00m \u001b[38;5;28;43mself\u001b[39;49m\u001b[38;5;241;43m.\u001b[39;49m\u001b[43m__get_result\u001b[49m\u001b[43m(\u001b[49m\u001b[43m)\u001b[49m\n\u001b[1;32m    459\u001b[0m \u001b[38;5;28;01melse\u001b[39;00m:\n\u001b[1;32m    460\u001b[0m     \u001b[38;5;28;01mraise\u001b[39;00m \u001b[38;5;167;01mTimeoutError\u001b[39;00m()\n",
            "File \u001b[0;32m/usr/lib/python3.10/concurrent/futures/_base.py:403\u001b[0m, in \u001b[0;36mFuture.__get_result\u001b[0;34m(self)\u001b[0m\n\u001b[1;32m    401\u001b[0m \u001b[38;5;28;01mif\u001b[39;00m \u001b[38;5;28mself\u001b[39m\u001b[38;5;241m.\u001b[39m_exception:\n\u001b[1;32m    402\u001b[0m     \u001b[38;5;28;01mtry\u001b[39;00m:\n\u001b[0;32m--> 403\u001b[0m         \u001b[38;5;28;01mraise\u001b[39;00m \u001b[38;5;28mself\u001b[39m\u001b[38;5;241m.\u001b[39m_exception\n\u001b[1;32m    404\u001b[0m     \u001b[38;5;28;01mfinally\u001b[39;00m:\n\u001b[1;32m    405\u001b[0m         \u001b[38;5;66;03m# Break a reference cycle with the exception in self._exception\u001b[39;00m\n\u001b[1;32m    406\u001b[0m         \u001b[38;5;28mself\u001b[39m \u001b[38;5;241m=\u001b[39m \u001b[38;5;28;01mNone\u001b[39;00m\n",
            "File \u001b[0;32m/usr/local/lib/python3.10/dist-packages/joblib/externals/loky/_base.py:26\u001b[0m, in \u001b[0;36mFuture._invoke_callbacks\u001b[0;34m(self)\u001b[0m\n\u001b[1;32m     24\u001b[0m \u001b[38;5;28;01mfor\u001b[39;00m callback \u001b[38;5;129;01min\u001b[39;00m \u001b[38;5;28mself\u001b[39m\u001b[38;5;241m.\u001b[39m_done_callbacks:\n\u001b[1;32m     25\u001b[0m     \u001b[38;5;28;01mtry\u001b[39;00m:\n\u001b[0;32m---> 26\u001b[0m         \u001b[43mcallback\u001b[49m\u001b[43m(\u001b[49m\u001b[38;5;28;43mself\u001b[39;49m\u001b[43m)\u001b[49m\n\u001b[1;32m     27\u001b[0m     \u001b[38;5;28;01mexcept\u001b[39;00m \u001b[38;5;167;01mBaseException\u001b[39;00m:\n\u001b[1;32m     28\u001b[0m         LOGGER\u001b[38;5;241m.\u001b[39mexception(\u001b[38;5;124mf\u001b[39m\u001b[38;5;124m'\u001b[39m\u001b[38;5;124mexception calling callback for \u001b[39m\u001b[38;5;132;01m{\u001b[39;00m\u001b[38;5;28mself\u001b[39m\u001b[38;5;132;01m!r}\u001b[39;00m\u001b[38;5;124m'\u001b[39m)\n",
            "File \u001b[0;32m/usr/local/lib/python3.10/dist-packages/joblib/parallel.py:385\u001b[0m, in \u001b[0;36mBatchCompletionCallBack.__call__\u001b[0;34m(self, out)\u001b[0m\n\u001b[1;32m    383\u001b[0m \u001b[38;5;28;01mwith\u001b[39;00m \u001b[38;5;28mself\u001b[39m\u001b[38;5;241m.\u001b[39mparallel\u001b[38;5;241m.\u001b[39m_lock:\n\u001b[1;32m    384\u001b[0m     \u001b[38;5;28;01mif\u001b[39;00m \u001b[38;5;28mself\u001b[39m\u001b[38;5;241m.\u001b[39mparallel\u001b[38;5;241m.\u001b[39m_original_iterator \u001b[38;5;129;01mis\u001b[39;00m \u001b[38;5;129;01mnot\u001b[39;00m \u001b[38;5;28;01mNone\u001b[39;00m:\n\u001b[0;32m--> 385\u001b[0m         \u001b[38;5;28;43mself\u001b[39;49m\u001b[38;5;241;43m.\u001b[39;49m\u001b[43mparallel\u001b[49m\u001b[38;5;241;43m.\u001b[39;49m\u001b[43mdispatch_next\u001b[49m\u001b[43m(\u001b[49m\u001b[43m)\u001b[49m\n",
            "File \u001b[0;32m/usr/local/lib/python3.10/dist-packages/joblib/parallel.py:834\u001b[0m, in \u001b[0;36mParallel.dispatch_next\u001b[0;34m(self)\u001b[0m\n\u001b[1;32m    826\u001b[0m \u001b[38;5;28;01mdef\u001b[39;00m \u001b[38;5;21mdispatch_next\u001b[39m(\u001b[38;5;28mself\u001b[39m):\n\u001b[1;32m    827\u001b[0m \u001b[38;5;250m    \u001b[39m\u001b[38;5;124;03m\"\"\"Dispatch more data for parallel processing\u001b[39;00m\n\u001b[1;32m    828\u001b[0m \n\u001b[1;32m    829\u001b[0m \u001b[38;5;124;03m    This method is meant to be called concurrently by the multiprocessing\u001b[39;00m\n\u001b[0;32m   (...)\u001b[0m\n\u001b[1;32m    832\u001b[0m \n\u001b[1;32m    833\u001b[0m \u001b[38;5;124;03m    \"\"\"\u001b[39;00m\n\u001b[0;32m--> 834\u001b[0m     \u001b[38;5;28;01mif\u001b[39;00m \u001b[38;5;129;01mnot\u001b[39;00m \u001b[38;5;28;43mself\u001b[39;49m\u001b[38;5;241;43m.\u001b[39;49m\u001b[43mdispatch_one_batch\u001b[49m\u001b[43m(\u001b[49m\u001b[38;5;28;43mself\u001b[39;49m\u001b[38;5;241;43m.\u001b[39;49m\u001b[43m_original_iterator\u001b[49m\u001b[43m)\u001b[49m:\n\u001b[1;32m    835\u001b[0m         \u001b[38;5;28mself\u001b[39m\u001b[38;5;241m.\u001b[39m_iterating \u001b[38;5;241m=\u001b[39m \u001b[38;5;28;01mFalse\u001b[39;00m\n\u001b[1;32m    836\u001b[0m         \u001b[38;5;28mself\u001b[39m\u001b[38;5;241m.\u001b[39m_original_iterator \u001b[38;5;241m=\u001b[39m \u001b[38;5;28;01mNone\u001b[39;00m\n",
            "File \u001b[0;32m/usr/local/lib/python3.10/dist-packages/joblib/parallel.py:901\u001b[0m, in \u001b[0;36mParallel.dispatch_one_batch\u001b[0;34m(self, iterator)\u001b[0m\n\u001b[1;32m    899\u001b[0m     \u001b[38;5;28;01mreturn\u001b[39;00m \u001b[38;5;28;01mFalse\u001b[39;00m\n\u001b[1;32m    900\u001b[0m \u001b[38;5;28;01melse\u001b[39;00m:\n\u001b[0;32m--> 901\u001b[0m     \u001b[38;5;28;43mself\u001b[39;49m\u001b[38;5;241;43m.\u001b[39;49m\u001b[43m_dispatch\u001b[49m\u001b[43m(\u001b[49m\u001b[43mtasks\u001b[49m\u001b[43m)\u001b[49m\n\u001b[1;32m    902\u001b[0m     \u001b[38;5;28;01mreturn\u001b[39;00m \u001b[38;5;28;01mTrue\u001b[39;00m\n",
            "File \u001b[0;32m/usr/local/lib/python3.10/dist-packages/joblib/parallel.py:819\u001b[0m, in \u001b[0;36mParallel._dispatch\u001b[0;34m(self, batch)\u001b[0m\n\u001b[1;32m    817\u001b[0m \u001b[38;5;28;01mwith\u001b[39;00m \u001b[38;5;28mself\u001b[39m\u001b[38;5;241m.\u001b[39m_lock:\n\u001b[1;32m    818\u001b[0m     job_idx \u001b[38;5;241m=\u001b[39m \u001b[38;5;28mlen\u001b[39m(\u001b[38;5;28mself\u001b[39m\u001b[38;5;241m.\u001b[39m_jobs)\n\u001b[0;32m--> 819\u001b[0m     job \u001b[38;5;241m=\u001b[39m \u001b[38;5;28;43mself\u001b[39;49m\u001b[38;5;241;43m.\u001b[39;49m\u001b[43m_backend\u001b[49m\u001b[38;5;241;43m.\u001b[39;49m\u001b[43mapply_async\u001b[49m\u001b[43m(\u001b[49m\u001b[43mbatch\u001b[49m\u001b[43m,\u001b[49m\u001b[43m \u001b[49m\u001b[43mcallback\u001b[49m\u001b[38;5;241;43m=\u001b[39;49m\u001b[43mcb\u001b[49m\u001b[43m)\u001b[49m\n\u001b[1;32m    820\u001b[0m     \u001b[38;5;66;03m# A job can complete so quickly than its callback is\u001b[39;00m\n\u001b[1;32m    821\u001b[0m     \u001b[38;5;66;03m# called before we get here, causing self._jobs to\u001b[39;00m\n\u001b[1;32m    822\u001b[0m     \u001b[38;5;66;03m# grow. To ensure correct results ordering, .insert is\u001b[39;00m\n\u001b[1;32m    823\u001b[0m     \u001b[38;5;66;03m# used (rather than .append) in the following line\u001b[39;00m\n\u001b[1;32m    824\u001b[0m     \u001b[38;5;28mself\u001b[39m\u001b[38;5;241m.\u001b[39m_jobs\u001b[38;5;241m.\u001b[39minsert(job_idx, job)\n",
            "File \u001b[0;32m/usr/local/lib/python3.10/dist-packages/joblib/_parallel_backends.py:556\u001b[0m, in \u001b[0;36mLokyBackend.apply_async\u001b[0;34m(self, func, callback)\u001b[0m\n\u001b[1;32m    554\u001b[0m \u001b[38;5;28;01mdef\u001b[39;00m \u001b[38;5;21mapply_async\u001b[39m(\u001b[38;5;28mself\u001b[39m, func, callback\u001b[38;5;241m=\u001b[39m\u001b[38;5;28;01mNone\u001b[39;00m):\n\u001b[1;32m    555\u001b[0m \u001b[38;5;250m    \u001b[39m\u001b[38;5;124;03m\"\"\"Schedule a func to be run\"\"\"\u001b[39;00m\n\u001b[0;32m--> 556\u001b[0m     future \u001b[38;5;241m=\u001b[39m \u001b[38;5;28;43mself\u001b[39;49m\u001b[38;5;241;43m.\u001b[39;49m\u001b[43m_workers\u001b[49m\u001b[38;5;241;43m.\u001b[39;49m\u001b[43msubmit\u001b[49m\u001b[43m(\u001b[49m\u001b[43mSafeFunction\u001b[49m\u001b[43m(\u001b[49m\u001b[43mfunc\u001b[49m\u001b[43m)\u001b[49m\u001b[43m)\u001b[49m\n\u001b[1;32m    557\u001b[0m     future\u001b[38;5;241m.\u001b[39mget \u001b[38;5;241m=\u001b[39m functools\u001b[38;5;241m.\u001b[39mpartial(\u001b[38;5;28mself\u001b[39m\u001b[38;5;241m.\u001b[39mwrap_future_result, future)\n\u001b[1;32m    558\u001b[0m     \u001b[38;5;28;01mif\u001b[39;00m callback \u001b[38;5;129;01mis\u001b[39;00m \u001b[38;5;129;01mnot\u001b[39;00m \u001b[38;5;28;01mNone\u001b[39;00m:\n",
            "File \u001b[0;32m/usr/local/lib/python3.10/dist-packages/joblib/externals/loky/reusable_executor.py:176\u001b[0m, in \u001b[0;36m_ReusablePoolExecutor.submit\u001b[0;34m(self, fn, *args, **kwargs)\u001b[0m\n\u001b[1;32m    174\u001b[0m \u001b[38;5;28;01mdef\u001b[39;00m \u001b[38;5;21msubmit\u001b[39m(\u001b[38;5;28mself\u001b[39m, fn, \u001b[38;5;241m*\u001b[39margs, \u001b[38;5;241m*\u001b[39m\u001b[38;5;241m*\u001b[39mkwargs):\n\u001b[1;32m    175\u001b[0m     \u001b[38;5;28;01mwith\u001b[39;00m \u001b[38;5;28mself\u001b[39m\u001b[38;5;241m.\u001b[39m_submit_resize_lock:\n\u001b[0;32m--> 176\u001b[0m         \u001b[38;5;28;01mreturn\u001b[39;00m \u001b[38;5;28;43msuper\u001b[39;49m\u001b[43m(\u001b[49m\u001b[43m)\u001b[49m\u001b[38;5;241;43m.\u001b[39;49m\u001b[43msubmit\u001b[49m\u001b[43m(\u001b[49m\u001b[43mfn\u001b[49m\u001b[43m,\u001b[49m\u001b[43m \u001b[49m\u001b[38;5;241;43m*\u001b[39;49m\u001b[43margs\u001b[49m\u001b[43m,\u001b[49m\u001b[43m \u001b[49m\u001b[38;5;241;43m*\u001b[39;49m\u001b[38;5;241;43m*\u001b[39;49m\u001b[43mkwargs\u001b[49m\u001b[43m)\u001b[49m\n",
            "File \u001b[0;32m/usr/local/lib/python3.10/dist-packages/joblib/externals/loky/process_executor.py:1129\u001b[0m, in \u001b[0;36mProcessPoolExecutor.submit\u001b[0;34m(self, fn, *args, **kwargs)\u001b[0m\n\u001b[1;32m   1127\u001b[0m \u001b[38;5;28;01mwith\u001b[39;00m \u001b[38;5;28mself\u001b[39m\u001b[38;5;241m.\u001b[39m_flags\u001b[38;5;241m.\u001b[39mshutdown_lock:\n\u001b[1;32m   1128\u001b[0m     \u001b[38;5;28;01mif\u001b[39;00m \u001b[38;5;28mself\u001b[39m\u001b[38;5;241m.\u001b[39m_flags\u001b[38;5;241m.\u001b[39mbroken \u001b[38;5;129;01mis\u001b[39;00m \u001b[38;5;129;01mnot\u001b[39;00m \u001b[38;5;28;01mNone\u001b[39;00m:\n\u001b[0;32m-> 1129\u001b[0m         \u001b[38;5;28;01mraise\u001b[39;00m \u001b[38;5;28mself\u001b[39m\u001b[38;5;241m.\u001b[39m_flags\u001b[38;5;241m.\u001b[39mbroken\n\u001b[1;32m   1130\u001b[0m     \u001b[38;5;28;01mif\u001b[39;00m \u001b[38;5;28mself\u001b[39m\u001b[38;5;241m.\u001b[39m_flags\u001b[38;5;241m.\u001b[39mshutdown:\n\u001b[1;32m   1131\u001b[0m         \u001b[38;5;28;01mraise\u001b[39;00m ShutdownExecutorError(\n\u001b[1;32m   1132\u001b[0m             \u001b[38;5;124m'\u001b[39m\u001b[38;5;124mcannot schedule new futures after shutdown\u001b[39m\u001b[38;5;124m'\u001b[39m)\n",
            "\u001b[0;31mBrokenProcessPool\u001b[0m: A task has failed to un-serialize. Please ensure that the arguments of the function are all picklable."
          ]
        }
      ]
    },
    {
      "cell_type": "code",
      "source": [
        "topics_predictions = ctm.get_thetas(training_dataset, n_samples=5) "
      ],
      "metadata": {
        "id": "NXKuQ0-SIkpY",
        "outputId": "c0c82d64-f536-4f79-bd2f-68db6b544c14",
        "colab": {
          "base_uri": "https://localhost:8080/"
        }
      },
      "execution_count": 12,
      "outputs": [
        {
          "output_type": "stream",
          "name": "stderr",
          "text": [
            "/usr/local/lib/python3.10/dist-packages/ipykernel/ipkernel.py:283: DeprecationWarning: `should_run_async` will not call `transform_cell` automatically in the future. Please pass the result to `transformed_cell` argument and any exception that happen during thetransform in `preprocessing_exc_tuple` in IPython 7.17 and above.\n",
            "  and should_run_async(code)\n",
            "100%|██████████| 7/7 [00:01<00:00,  4.59it/s]\n"
          ]
        }
      ]
    },
    {
      "cell_type": "code",
      "source": [
        "## Predicting the topics no\n",
        "len(topics_predictions[0])"
      ],
      "metadata": {
        "id": "pUM9_LMtJ2FG",
        "outputId": "f89fbf9e-b671-4f95-db16-51206f791674",
        "colab": {
          "base_uri": "https://localhost:8080/"
        }
      },
      "execution_count": 14,
      "outputs": [
        {
          "output_type": "stream",
          "name": "stderr",
          "text": [
            "/usr/local/lib/python3.10/dist-packages/ipykernel/ipkernel.py:283: DeprecationWarning: `should_run_async` will not call `transform_cell` automatically in the future. Please pass the result to `transformed_cell` argument and any exception that happen during thetransform in `preprocessing_exc_tuple` in IPython 7.17 and above.\n",
            "  and should_run_async(code)\n"
          ]
        },
        {
          "output_type": "execute_result",
          "data": {
            "text/plain": [
              "419"
            ]
          },
          "metadata": {},
          "execution_count": 14
        }
      ]
    },
    {
      "cell_type": "code",
      "source": [
        "ctm.get_topic_lists(5)[0]"
      ],
      "metadata": {
        "id": "yT5w-79zJ4ZE",
        "outputId": "03dc63ec-e8e3-4a97-a9d6-2a2a4cbbb398",
        "colab": {
          "base_uri": "https://localhost:8080/"
        }
      },
      "execution_count": 16,
      "outputs": [
        {
          "output_type": "stream",
          "name": "stderr",
          "text": [
            "/usr/local/lib/python3.10/dist-packages/ipykernel/ipkernel.py:283: DeprecationWarning: `should_run_async` will not call `transform_cell` automatically in the future. Please pass the result to `transformed_cell` argument and any exception that happen during thetransform in `preprocessing_exc_tuple` in IPython 7.17 and above.\n",
            "  and should_run_async(code)\n"
          ]
        },
        {
          "output_type": "execute_result",
          "data": {
            "text/plain": [
              "['wedding', 'gifts', 'began', 'anniversary', 'lawyer']"
            ]
          },
          "metadata": {},
          "execution_count": 16
        }
      ]
    },
    {
      "cell_type": "code",
      "source": [
        "ctm.get_topic_lists(10)[3]"
      ],
      "metadata": {
        "id": "4H1OeqzhKcy7",
        "outputId": "2897d5ce-56f6-428c-fa5b-1752e168cb7a",
        "colab": {
          "base_uri": "https://localhost:8080/"
        }
      },
      "execution_count": 22,
      "outputs": [
        {
          "output_type": "stream",
          "name": "stderr",
          "text": [
            "/usr/local/lib/python3.10/dist-packages/ipykernel/ipkernel.py:283: DeprecationWarning: `should_run_async` will not call `transform_cell` automatically in the future. Please pass the result to `transformed_cell` argument and any exception that happen during thetransform in `preprocessing_exc_tuple` in IPython 7.17 and above.\n",
            "  and should_run_async(code)\n"
          ]
        },
        {
          "output_type": "execute_result",
          "data": {
            "text/plain": [
              "['presidential',\n",
              " 'donald',\n",
              " 'trump',\n",
              " 'mccain',\n",
              " 'york',\n",
              " 'cnn',\n",
              " 'paul',\n",
              " 'washington',\n",
              " 'republican',\n",
              " 'fires']"
            ]
          },
          "metadata": {},
          "execution_count": 22
        }
      ]
    },
    {
      "cell_type": "code",
      "source": [
        "ctm.get_doc_topic_distribution(training_dataset)"
      ],
      "metadata": {
        "id": "5fZUwlE6KhFn",
        "outputId": "4b5cba26-3e86-4c13-cb5f-a051c3e0ea5f",
        "colab": {
          "base_uri": "https://localhost:8080/",
          "height": 166
        }
      },
      "execution_count": 23,
      "outputs": [
        {
          "output_type": "error",
          "ename": "NameError",
          "evalue": "ignored",
          "traceback": [
            "\u001b[0;31m---------------------------------------------------------------------------\u001b[0m",
            "\u001b[0;31mNameError\u001b[0m                                 Traceback (most recent call last)",
            "Cell \u001b[0;32mIn[23], line 1\u001b[0m\n\u001b[0;32m----> 1\u001b[0m \u001b[43mctm\u001b[49m\u001b[38;5;241m.\u001b[39mget_doc_topic_distribution(training_dataset)\n",
            "\u001b[0;31mNameError\u001b[0m: name 'ctm' is not defined"
          ]
        }
      ]
    },
    {
      "cell_type": "code",
      "source": [
        "ctm.get_topics()"
      ],
      "metadata": {
        "id": "K6dmAClwMWDK",
        "outputId": "fc012e25-0f63-4e4c-9af2-4d39b7cfbf58",
        "colab": {
          "base_uri": "https://localhost:8080/"
        }
      },
      "execution_count": 28,
      "outputs": [
        {
          "output_type": "stream",
          "name": "stderr",
          "text": [
            "/usr/local/lib/python3.10/dist-packages/ipykernel/ipkernel.py:283: DeprecationWarning: `should_run_async` will not call `transform_cell` automatically in the future. Please pass the result to `transformed_cell` argument and any exception that happen during thetransform in `preprocessing_exc_tuple` in IPython 7.17 and above.\n",
            "  and should_run_async(code)\n"
          ]
        },
        {
          "output_type": "execute_result",
          "data": {
            "text/plain": [
              "defaultdict(list,\n",
              "            {0: ['wedding',\n",
              "              'gifts',\n",
              "              'began',\n",
              "              'anniversary',\n",
              "              'lawyer',\n",
              "              'immigrant',\n",
              "              'mail',\n",
              "              'airstrike',\n",
              "              'cop',\n",
              "              'negotiations'],\n",
              "             1: ['apparently',\n",
              "              'spouse',\n",
              "              'struggle',\n",
              "              'protesters',\n",
              "              'department',\n",
              "              'lose',\n",
              "              'show',\n",
              "              'uncertain',\n",
              "              'lying',\n",
              "              'charlotte'],\n",
              "             2: ['videosexternal',\n",
              "              'foundation',\n",
              "              'first',\n",
              "              'wanted',\n",
              "              'bill',\n",
              "              'tight',\n",
              "              'state',\n",
              "              'happy',\n",
              "              'hosting',\n",
              "              'gentleman'],\n",
              "             3: ['presidential',\n",
              "              'donald',\n",
              "              'trump',\n",
              "              'mccain',\n",
              "              'york',\n",
              "              'cnn',\n",
              "              'paul',\n",
              "              'washington',\n",
              "              'republican',\n",
              "              'fires']})"
            ]
          },
          "metadata": {},
          "execution_count": 28
        }
      ]
    },
    {
      "cell_type": "code",
      "source": [
        "ctm.get_topic_lists()"
      ],
      "metadata": {
        "id": "E-MCHZ35MwD-",
        "outputId": "c233c9a5-b8f3-4942-f53a-a00bfe33154a",
        "colab": {
          "base_uri": "https://localhost:8080/"
        }
      },
      "execution_count": 29,
      "outputs": [
        {
          "output_type": "stream",
          "name": "stderr",
          "text": [
            "/usr/local/lib/python3.10/dist-packages/ipykernel/ipkernel.py:283: DeprecationWarning: `should_run_async` will not call `transform_cell` automatically in the future. Please pass the result to `transformed_cell` argument and any exception that happen during thetransform in `preprocessing_exc_tuple` in IPython 7.17 and above.\n",
            "  and should_run_async(code)\n"
          ]
        },
        {
          "output_type": "execute_result",
          "data": {
            "text/plain": [
              "[['wedding',\n",
              "  'gifts',\n",
              "  'began',\n",
              "  'anniversary',\n",
              "  'lawyer',\n",
              "  'immigrant',\n",
              "  'mail',\n",
              "  'airstrike',\n",
              "  'cop',\n",
              "  'negotiations'],\n",
              " ['apparently',\n",
              "  'spouse',\n",
              "  'struggle',\n",
              "  'protesters',\n",
              "  'department',\n",
              "  'lose',\n",
              "  'show',\n",
              "  'uncertain',\n",
              "  'lying',\n",
              "  'charlotte'],\n",
              " ['videosexternal',\n",
              "  'foundation',\n",
              "  'first',\n",
              "  'wanted',\n",
              "  'bill',\n",
              "  'tight',\n",
              "  'state',\n",
              "  'happy',\n",
              "  'hosting',\n",
              "  'gentleman'],\n",
              " ['presidential',\n",
              "  'donald',\n",
              "  'trump',\n",
              "  'mccain',\n",
              "  'york',\n",
              "  'cnn',\n",
              "  'paul',\n",
              "  'washington',\n",
              "  'republican',\n",
              "  'fires']]"
            ]
          },
          "metadata": {},
          "execution_count": 29
        }
      ]
    },
    {
      "cell_type": "code",
      "source": [
        "import gensim.corpora as corpora\n",
        "\n",
        "# Create Dictionary\n",
        "#\n",
        "tokens=[]\n",
        "for i in preprocessed_documents:\n",
        "    tokens.append(i.split(\" \"))\n",
        "id2word = corpora.Dictionary(tokens)"
      ],
      "metadata": {
        "id": "oWIcgp33pa69"
      },
      "execution_count": 30,
      "outputs": []
    },
    {
      "cell_type": "code",
      "source": [
        "(id2word)"
      ],
      "metadata": {
        "id": "mHZZn65ttSmn",
        "outputId": "17d08c5c-0ad7-439b-f2a4-eb87cc9ce28b",
        "colab": {
          "base_uri": "https://localhost:8080/"
        }
      },
      "execution_count": 32,
      "outputs": [
        {
          "output_type": "execute_result",
          "data": {
            "text/plain": [
              "<gensim.corpora.dictionary.Dictionary at 0x7f8506643cd0>"
            ]
          },
          "metadata": {},
          "execution_count": 32
        }
      ]
    },
    {
      "cell_type": "code",
      "source": [
        "from gensim.models import CoherenceModel\n",
        "\n",
        "# Compute Coherence Score\n",
        "coherence_model_lda = CoherenceModel(model=ctm, texts=unpreprocessed_corpus, dictionary=id2word, coherence='c_v')\n",
        "coherence_lda = coherence_model_lda.get_coherence()\n",
        "print('Coherence Score: ', coherence_lda)"
      ],
      "metadata": {
        "id": "B3JJGRfQNvtK",
        "outputId": "f6aee868-e09a-4c0c-802b-97a702876d2d",
        "colab": {
          "base_uri": "https://localhost:8080/"
        }
      },
      "execution_count": 35,
      "outputs": [
        {
          "output_type": "stream",
          "name": "stdout",
          "text": [
            "Coherence Score:  nan\n"
          ]
        },
        {
          "output_type": "stream",
          "name": "stderr",
          "text": [
            "/usr/local/lib/python3.10/dist-packages/gensim/topic_coherence/direct_confirmation_measure.py:204: RuntimeWarning: divide by zero encountered in double_scalars\n",
            "  m_lr_i = np.log(numerator / denominator)\n",
            "/usr/local/lib/python3.10/dist-packages/gensim/topic_coherence/indirect_confirmation_measure.py:323: RuntimeWarning: invalid value encountered in double_scalars\n",
            "  return cv1.T.dot(cv2)[0, 0] / (_magnitude(cv1) * _magnitude(cv2))\n"
          ]
        }
      ]
    },
    {
      "cell_type": "code",
      "source": [
        "ctm.get_word_distribution_by_topic_id(1)"
      ],
      "metadata": {
        "id": "0LWNHQYIpnrD",
        "outputId": "45260d1f-8c9e-4184-b044-1e668ed47a6b",
        "colab": {
          "base_uri": "https://localhost:8080/",
          "height": 166
        }
      },
      "execution_count": 22,
      "outputs": [
        {
          "output_type": "error",
          "ename": "NameError",
          "evalue": "ignored",
          "traceback": [
            "\u001b[0;31m---------------------------------------------------------------------------\u001b[0m",
            "\u001b[0;31mNameError\u001b[0m                                 Traceback (most recent call last)",
            "Cell \u001b[0;32mIn[22], line 1\u001b[0m\n\u001b[0;32m----> 1\u001b[0m \u001b[43mctm\u001b[49m\u001b[38;5;241m.\u001b[39mget_word_distribution_by_topic_id(\u001b[38;5;241m1\u001b[39m)\n",
            "\u001b[0;31mNameError\u001b[0m: name 'ctm' is not defined"
          ]
        }
      ]
    },
    {
      "cell_type": "code",
      "source": [],
      "metadata": {
        "id": "pRDosfbqp6Uy"
      },
      "execution_count": null,
      "outputs": []
    }
  ]
}