{
  "nbformat": 4,
  "nbformat_minor": 0,
  "metadata": {
    "colab": {
      "provenance": [],
      "gpuType": "T4"
    },
    "kernelspec": {
      "name": "python3",
      "display_name": "Python 3"
    },
    "language_info": {
      "name": "python"
    },
    "accelerator": "GPU",
    "gpuClass": "standard",
    "widgets": {
      "application/vnd.jupyter.widget-state+json": {
        "e3ce81da41aa4d498aa269e58d373685": {
          "model_module": "@jupyter-widgets/controls",
          "model_name": "HBoxModel",
          "model_module_version": "1.5.0",
          "state": {
            "_dom_classes": [],
            "_model_module": "@jupyter-widgets/controls",
            "_model_module_version": "1.5.0",
            "_model_name": "HBoxModel",
            "_view_count": null,
            "_view_module": "@jupyter-widgets/controls",
            "_view_module_version": "1.5.0",
            "_view_name": "HBoxView",
            "box_style": "",
            "children": [
              "IPY_MODEL_df9f8fb6b1204466ac7645d08950ec51",
              "IPY_MODEL_e88a2e534f9a4deeb3283e80de5c9d25",
              "IPY_MODEL_d0f6f2074cec45a19254fd0c733463da"
            ],
            "layout": "IPY_MODEL_7028a507bd8c46c9ba62dc1ab0583b1f"
          }
        },
        "df9f8fb6b1204466ac7645d08950ec51": {
          "model_module": "@jupyter-widgets/controls",
          "model_name": "HTMLModel",
          "model_module_version": "1.5.0",
          "state": {
            "_dom_classes": [],
            "_model_module": "@jupyter-widgets/controls",
            "_model_module_version": "1.5.0",
            "_model_name": "HTMLModel",
            "_view_count": null,
            "_view_module": "@jupyter-widgets/controls",
            "_view_module_version": "1.5.0",
            "_view_name": "HTMLView",
            "description": "",
            "description_tooltip": null,
            "layout": "IPY_MODEL_77745d2a16304d899f6c15e13d5f69ed",
            "placeholder": "​",
            "style": "IPY_MODEL_cbb310b1713e400e949c4c7433482dbb",
            "value": "Evaluating checksum: 100.0%"
          }
        },
        "e88a2e534f9a4deeb3283e80de5c9d25": {
          "model_module": "@jupyter-widgets/controls",
          "model_name": "FloatProgressModel",
          "model_module_version": "1.5.0",
          "state": {
            "_dom_classes": [],
            "_model_module": "@jupyter-widgets/controls",
            "_model_module_version": "1.5.0",
            "_model_name": "FloatProgressModel",
            "_view_count": null,
            "_view_module": "@jupyter-widgets/controls",
            "_view_module_version": "1.5.0",
            "_view_name": "ProgressView",
            "bar_style": "danger",
            "description": "",
            "description_tooltip": null,
            "layout": "IPY_MODEL_cab817c5ea0f44acbeeabbec3db2b67d",
            "max": 1.532592717,
            "min": 0,
            "orientation": "horizontal",
            "style": "IPY_MODEL_f239e1dc1b5b4ae491d05cfb502f53d2",
            "value": 1.5325927169612208
          }
        },
        "d0f6f2074cec45a19254fd0c733463da": {
          "model_module": "@jupyter-widgets/controls",
          "model_name": "HTMLModel",
          "model_module_version": "1.5.0",
          "state": {
            "_dom_classes": [],
            "_model_module": "@jupyter-widgets/controls",
            "_model_module_version": "1.5.0",
            "_model_name": "HTMLModel",
            "_view_count": null,
            "_view_module": "@jupyter-widgets/controls",
            "_view_module_version": "1.5.0",
            "_view_name": "HTMLView",
            "description": "",
            "description_tooltip": null,
            "layout": "IPY_MODEL_d4d9d1ec5c4f472a9303034a1ce50a31",
            "placeholder": "​",
            "style": "IPY_MODEL_8f04723688de4170978283fbea265e42",
            "value": "1.533/1.533GB [00:49&lt;00:00]"
          }
        },
        "7028a507bd8c46c9ba62dc1ab0583b1f": {
          "model_module": "@jupyter-widgets/base",
          "model_name": "LayoutModel",
          "model_module_version": "1.2.0",
          "state": {
            "_model_module": "@jupyter-widgets/base",
            "_model_module_version": "1.2.0",
            "_model_name": "LayoutModel",
            "_view_count": null,
            "_view_module": "@jupyter-widgets/base",
            "_view_module_version": "1.2.0",
            "_view_name": "LayoutView",
            "align_content": null,
            "align_items": null,
            "align_self": null,
            "border": null,
            "bottom": null,
            "display": null,
            "flex": null,
            "flex_flow": null,
            "grid_area": null,
            "grid_auto_columns": null,
            "grid_auto_flow": null,
            "grid_auto_rows": null,
            "grid_column": null,
            "grid_gap": null,
            "grid_row": null,
            "grid_template_areas": null,
            "grid_template_columns": null,
            "grid_template_rows": null,
            "height": null,
            "justify_content": null,
            "justify_items": null,
            "left": null,
            "margin": null,
            "max_height": null,
            "max_width": null,
            "min_height": null,
            "min_width": null,
            "object_fit": null,
            "object_position": null,
            "order": null,
            "overflow": null,
            "overflow_x": null,
            "overflow_y": null,
            "padding": null,
            "right": null,
            "top": null,
            "visibility": null,
            "width": null
          }
        },
        "77745d2a16304d899f6c15e13d5f69ed": {
          "model_module": "@jupyter-widgets/base",
          "model_name": "LayoutModel",
          "model_module_version": "1.2.0",
          "state": {
            "_model_module": "@jupyter-widgets/base",
            "_model_module_version": "1.2.0",
            "_model_name": "LayoutModel",
            "_view_count": null,
            "_view_module": "@jupyter-widgets/base",
            "_view_module_version": "1.2.0",
            "_view_name": "LayoutView",
            "align_content": null,
            "align_items": null,
            "align_self": null,
            "border": null,
            "bottom": null,
            "display": null,
            "flex": null,
            "flex_flow": null,
            "grid_area": null,
            "grid_auto_columns": null,
            "grid_auto_flow": null,
            "grid_auto_rows": null,
            "grid_column": null,
            "grid_gap": null,
            "grid_row": null,
            "grid_template_areas": null,
            "grid_template_columns": null,
            "grid_template_rows": null,
            "height": null,
            "justify_content": null,
            "justify_items": null,
            "left": null,
            "margin": null,
            "max_height": null,
            "max_width": null,
            "min_height": null,
            "min_width": null,
            "object_fit": null,
            "object_position": null,
            "order": null,
            "overflow": null,
            "overflow_x": null,
            "overflow_y": null,
            "padding": null,
            "right": null,
            "top": null,
            "visibility": null,
            "width": null
          }
        },
        "cbb310b1713e400e949c4c7433482dbb": {
          "model_module": "@jupyter-widgets/controls",
          "model_name": "DescriptionStyleModel",
          "model_module_version": "1.5.0",
          "state": {
            "_model_module": "@jupyter-widgets/controls",
            "_model_module_version": "1.5.0",
            "_model_name": "DescriptionStyleModel",
            "_view_count": null,
            "_view_module": "@jupyter-widgets/base",
            "_view_module_version": "1.2.0",
            "_view_name": "StyleView",
            "description_width": ""
          }
        },
        "cab817c5ea0f44acbeeabbec3db2b67d": {
          "model_module": "@jupyter-widgets/base",
          "model_name": "LayoutModel",
          "model_module_version": "1.2.0",
          "state": {
            "_model_module": "@jupyter-widgets/base",
            "_model_module_version": "1.2.0",
            "_model_name": "LayoutModel",
            "_view_count": null,
            "_view_module": "@jupyter-widgets/base",
            "_view_module_version": "1.2.0",
            "_view_name": "LayoutView",
            "align_content": null,
            "align_items": null,
            "align_self": null,
            "border": null,
            "bottom": null,
            "display": null,
            "flex": null,
            "flex_flow": null,
            "grid_area": null,
            "grid_auto_columns": null,
            "grid_auto_flow": null,
            "grid_auto_rows": null,
            "grid_column": null,
            "grid_gap": null,
            "grid_row": null,
            "grid_template_areas": null,
            "grid_template_columns": null,
            "grid_template_rows": null,
            "height": null,
            "justify_content": null,
            "justify_items": null,
            "left": null,
            "margin": null,
            "max_height": null,
            "max_width": null,
            "min_height": null,
            "min_width": null,
            "object_fit": null,
            "object_position": null,
            "order": null,
            "overflow": null,
            "overflow_x": null,
            "overflow_y": null,
            "padding": null,
            "right": null,
            "top": null,
            "visibility": null,
            "width": null
          }
        },
        "f239e1dc1b5b4ae491d05cfb502f53d2": {
          "model_module": "@jupyter-widgets/controls",
          "model_name": "ProgressStyleModel",
          "model_module_version": "1.5.0",
          "state": {
            "_model_module": "@jupyter-widgets/controls",
            "_model_module_version": "1.5.0",
            "_model_name": "ProgressStyleModel",
            "_view_count": null,
            "_view_module": "@jupyter-widgets/base",
            "_view_module_version": "1.2.0",
            "_view_name": "StyleView",
            "bar_color": null,
            "description_width": ""
          }
        },
        "d4d9d1ec5c4f472a9303034a1ce50a31": {
          "model_module": "@jupyter-widgets/base",
          "model_name": "LayoutModel",
          "model_module_version": "1.2.0",
          "state": {
            "_model_module": "@jupyter-widgets/base",
            "_model_module_version": "1.2.0",
            "_model_name": "LayoutModel",
            "_view_count": null,
            "_view_module": "@jupyter-widgets/base",
            "_view_module_version": "1.2.0",
            "_view_name": "LayoutView",
            "align_content": null,
            "align_items": null,
            "align_self": null,
            "border": null,
            "bottom": null,
            "display": null,
            "flex": null,
            "flex_flow": null,
            "grid_area": null,
            "grid_auto_columns": null,
            "grid_auto_flow": null,
            "grid_auto_rows": null,
            "grid_column": null,
            "grid_gap": null,
            "grid_row": null,
            "grid_template_areas": null,
            "grid_template_columns": null,
            "grid_template_rows": null,
            "height": null,
            "justify_content": null,
            "justify_items": null,
            "left": null,
            "margin": null,
            "max_height": null,
            "max_width": null,
            "min_height": null,
            "min_width": null,
            "object_fit": null,
            "object_position": null,
            "order": null,
            "overflow": null,
            "overflow_x": null,
            "overflow_y": null,
            "padding": null,
            "right": null,
            "top": null,
            "visibility": null,
            "width": null
          }
        },
        "8f04723688de4170978283fbea265e42": {
          "model_module": "@jupyter-widgets/controls",
          "model_name": "DescriptionStyleModel",
          "model_module_version": "1.5.0",
          "state": {
            "_model_module": "@jupyter-widgets/controls",
            "_model_module_version": "1.5.0",
            "_model_name": "DescriptionStyleModel",
            "_view_count": null,
            "_view_module": "@jupyter-widgets/base",
            "_view_module_version": "1.2.0",
            "_view_name": "StyleView",
            "description_width": ""
          }
        }
      }
    }
  },
  "cells": [
    {
      "cell_type": "code",
      "execution_count": null,
      "metadata": {
        "id": "HuHq4t2wO2oJ"
      },
      "outputs": [],
      "source": [
        "pip install lambeq"
      ]
    },
    {
      "cell_type": "code",
      "source": [
        "train_data=['the trump clinton to of hillary in is and donald',\n",
        "            'charlotte police the in black of to for and after',\n",
        "            'obama to the be trump for on it and in']"
      ],
      "metadata": {
        "id": "3uyR7DdtPDHb"
      },
      "execution_count": 2,
      "outputs": []
    },
    {
      "cell_type": "code",
      "source": [
        "train_labels=[[0,1],[0,1],[1,0]]"
      ],
      "metadata": {
        "id": "WhSelXRBPY_7"
      },
      "execution_count": 3,
      "outputs": []
    },
    {
      "cell_type": "code",
      "source": [
        "from lambeq import BobcatParser\n",
        "\n",
        "parser = BobcatParser(root_cats=('NP', 'N'), verbose='text')\n"
      ],
      "metadata": {
        "id": "jsylLuXXPbjy"
      },
      "execution_count": 5,
      "outputs": []
    },
    {
      "cell_type": "code",
      "source": [
        "raw_train_diagrams = parser.sentences2diagrams(train_data, suppress_exceptions=True)"
      ],
      "metadata": {
        "colab": {
          "base_uri": "https://localhost:8080/"
        },
        "id": "Nu6o7wJ6PfEu",
        "outputId": "c804028c-f759-4e2b-abf8-5de5fe747a71"
      },
      "execution_count": 6,
      "outputs": [
        {
          "output_type": "stream",
          "name": "stderr",
          "text": [
            "Tagging sentences.\n",
            "Parsing tagged sentences.\n",
            "Turning parse trees to diagrams.\n"
          ]
        }
      ]
    },
    {
      "cell_type": "code",
      "source": [
        "raw_train_diagrams[2].draw(figsize=(9, 5), fontsize=12)"
      ],
      "metadata": {
        "colab": {
          "base_uri": "https://localhost:8080/",
          "height": 403
        },
        "id": "CJPZeviDPh7N",
        "outputId": "b0dc4f9e-a3dc-4e14-dfed-babf38698b21"
      },
      "execution_count": 11,
      "outputs": [
        {
          "output_type": "display_data",
          "data": {
            "text/plain": [
              "<Figure size 900x500 with 1 Axes>"
            ],
            "image/png": "[encoded data removed]"
          },
          "metadata": {}
        }
      ]
    },
    {
      "cell_type": "code",
      "source": [
        "train_diagrams = [\n",
        "    diagram.normal_form()\n",
        "    for diagram in raw_train_diagrams if diagram is not None\n",
        "]"
      ],
      "metadata": {
        "id": "aYvYlqtWQP1w"
      },
      "execution_count": 7,
      "outputs": []
    },
    {
      "cell_type": "code",
      "source": [
        "train_diagrams[2].draw(figsize=(9, 5), fontsize=12)"
      ],
      "metadata": {
        "colab": {
          "base_uri": "https://localhost:8080/",
          "height": 403
        },
        "id": "OEXPeREGQYqt",
        "outputId": "bd0bb674-ee73-4a2c-cd92-6205f6a153c1"
      },
      "execution_count": 13,
      "outputs": [
        {
          "output_type": "display_data",
          "data": {
            "text/plain": [
              "<Figure size 900x500 with 1 Axes>"
            ],
            "image/png": "[encoded data removed]"
          },
          "metadata": {}
        }
      ]
    },
    {
      "cell_type": "code",
      "source": [
        "from lambeq import AtomicType, IQPAnsatz, remove_cups\n",
        "\n",
        "ansatz = IQPAnsatz({AtomicType.NOUN: 1, AtomicType.SENTENCE: 0},\n",
        "                   n_layers=1, n_single_qubit_params=3)\n",
        "\n",
        "train_circuits = [ansatz(remove_cups(diagram)) for diagram in train_diagrams]\n",
        "\n",
        "\n",
        "train_circuits[0].draw(figsize=(9, 10))"
      ],
      "metadata": {
        "colab": {
          "base_uri": "https://localhost:8080/",
          "height": 769
        },
        "id": "4fuSlfnxQbUF",
        "outputId": "fab345b4-b4ea-4b4a-bcea-27b8188020f2"
      },
      "execution_count": 8,
      "outputs": [
        {
          "output_type": "display_data",
          "data": {
            "text/plain": [
              "<Figure size 900x1000 with 1 Axes>"
            ],
            "image/png": "[encoded data removed]"
          },
          "metadata": {}
        }
      ]
    },
    {
      "cell_type": "code",
      "source": [
        "!pip install pytket-qiskit"
      ],
      "metadata": {
        "id": "Kp3USOTHQevI"
      },
      "execution_count": null,
      "outputs": []
    },
    {
      "cell_type": "code",
      "source": [
        "from pytket.extensions.qiskit import AerBackend\n",
        "from lambeq import TketModel\n",
        "\n",
        "all_circuits = train_circuits \n",
        "\n",
        "backend = AerBackend()\n",
        "backend_config = {\n",
        "    'backend': backend,\n",
        "    'compilation': backend.default_compilation_pass(2),\n",
        "    'shots': 8192\n",
        "}\n",
        "\n",
        "model = TketModel.from_diagrams(all_circuits, backend_config=backend_config)"
      ],
      "metadata": {
        "id": "HDrCSzdNQkE5"
      },
      "execution_count": 9,
      "outputs": []
    },
    {
      "cell_type": "code",
      "source": [
        "from lambeq import BinaryCrossEntropyLoss\n",
        "\n",
        "# Using the builtin binary cross-entropy error from lambeq\n",
        "bce = BinaryCrossEntropyLoss()\n",
        "\n",
        "acc = lambda y_hat, y: np.sum(np.round(y_hat) == y) / len(y) / 2  # half due to double-counting\n",
        "eval_metrics = {\"acc\": acc}"
      ],
      "metadata": {
        "id": "WEvbzdLCQ-yA"
      },
      "execution_count": 11,
      "outputs": []
    },
    {
      "cell_type": "code",
      "source": [
        "from lambeq import QuantumTrainer, SPSAOptimizer\n",
        "\n",
        "trainer = QuantumTrainer(\n",
        "    model,\n",
        "    loss_function=bce,\n",
        "    epochs=10,\n",
        "    optimizer=SPSAOptimizer,\n",
        "    optim_hyperparams={'a': 0.05, 'c': 0.06, 'A':0.01*10},\n",
        "    evaluate_functions=eval_metrics,\n",
        "    evaluate_on_train=True,\n",
        "    verbose = 'text',\n",
        "    seed=0\n",
        ")"
      ],
      "metadata": {
        "id": "BV6XfeJcRBiw"
      },
      "execution_count": 12,
      "outputs": []
    },
    {
      "cell_type": "code",
      "source": [
        "from lambeq import Dataset\n",
        "\n",
        "train_dataset = Dataset(\n",
        "            train_circuits,\n",
        "            train_labels,\n",
        "            batch_size=1)"
      ],
      "metadata": {
        "id": "c19LWEUoREJv"
      },
      "execution_count": 13,
      "outputs": []
    },
    {
      "cell_type": "code",
      "source": [
        "len(train_labels),len(train_circuits),len(train_diagrams),len(raw_train_diagrams)"
      ],
      "metadata": {
        "colab": {
          "base_uri": "https://localhost:8080/"
        },
        "id": "O3AB3ZaKRFtG",
        "outputId": "ebc867f5-a82f-4afc-82e7-b2a6bc5c9d46"
      },
      "execution_count": 14,
      "outputs": [
        {
          "output_type": "execute_result",
          "data": {
            "text/plain": [
              "(3, 3, 3, 3)"
            ]
          },
          "metadata": {},
          "execution_count": 14
        }
      ]
    },
    {
      "cell_type": "code",
      "source": [
        "import numpy as np\n",
        "trainer.fit(train_dataset, evaluation_step=1, logging_step=1)"
      ],
      "metadata": {
        "colab": {
          "base_uri": "https://localhost:8080/"
        },
        "id": "gDERly08RHIp",
        "outputId": "42060713-20ef-4d4b-83f7-3e0492c06470"
      },
      "execution_count": 15,
      "outputs": [
        {
          "output_type": "stream",
          "name": "stderr",
          "text": [
            "Epoch 1:   train/loss: 0.6931   valid/loss: -----   train/acc: 0.5000   valid/acc: -----\n",
            "Epoch 2:   train/loss: 0.6931   valid/loss: -----   train/acc: 0.5000   valid/acc: -----\n",
            "Epoch 3:   train/loss: 0.6931   valid/loss: -----   train/acc: 0.5000   valid/acc: -----\n",
            "Epoch 4:   train/loss: 0.6931   valid/loss: -----   train/acc: 0.5000   valid/acc: -----\n",
            "Epoch 5:   train/loss: 0.6931   valid/loss: -----   train/acc: 0.5000   valid/acc: -----\n",
            "Epoch 6:   train/loss: 0.6931   valid/loss: -----   train/acc: 0.5000   valid/acc: -----\n",
            "Epoch 7:   train/loss: 0.6931   valid/loss: -----   train/acc: 0.5000   valid/acc: -----\n",
            "Epoch 8:   train/loss: 0.6931   valid/loss: -----   train/acc: 0.5000   valid/acc: -----\n",
            "Epoch 9:   train/loss: 0.6931   valid/loss: -----   train/acc: 0.5000   valid/acc: -----\n",
            "Epoch 10:  train/loss: 0.6931   valid/loss: -----   train/acc: 0.5000   valid/acc: -----\n",
            "\n",
            "Training completed!\n"
          ]
        }
      ]
    },
    {
      "cell_type": "code",
      "source": [
        "model(train_circuits)"
      ],
      "metadata": {
        "colab": {
          "base_uri": "https://localhost:8080/"
        },
        "id": "pEKIkHxHRJjX",
        "outputId": "20d876dc-3e35-4901-8cb4-547fc235877d"
      },
      "execution_count": 16,
      "outputs": [
        {
          "output_type": "execute_result",
          "data": {
            "text/plain": [
              "array([[0., 0.],\n",
              "       [0., 0.],\n",
              "       [0., 0.]])"
            ]
          },
          "metadata": {},
          "execution_count": 16
        }
      ]
    },
    {
      "cell_type": "code",
      "source": [
        "!pip install keybert"
      ],
      "metadata": {
        "id": "0-biMUrSRccv"
      },
      "execution_count": null,
      "outputs": []
    },
    {
      "cell_type": "code",
      "source": [
        "from keybert import KeyBERT\n",
        "kw_model = KeyBERT()\n",
        "#keywords = kw_model.extract_keywords(data[0])\n",
        "#print(keywords)"
      ],
      "metadata": {
        "id": "pwVk15OHTmSq"
      },
      "execution_count": null,
      "outputs": []
    },
    {
      "cell_type": "code",
      "source": [
        "import pandas as pd\n",
        "data=pd.read_csv('/content/topics_on_abstracted.csv')"
      ],
      "metadata": {
        "id": "M8Zmg9SmTu2U"
      },
      "execution_count": 10,
      "outputs": []
    },
    {
      "cell_type": "code",
      "source": [
        "data=data['abstractive_summarization_data']"
      ],
      "metadata": {
        "id": "QLGiXwKHUNUN"
      },
      "execution_count": 11,
      "outputs": []
    },
    {
      "cell_type": "code",
      "source": [
        "from keybert import KeyBERT\n",
        "kw_model = KeyBERT()\n",
        "list_of_keywords=[]\n",
        "for i in data:\n",
        "  keywords = kw_model.extract_keywords(i)\n",
        "  list_of_keywords.append(keywords)"
      ],
      "metadata": {
        "id": "2M9oCwsFUPIU"
      },
      "execution_count": 12,
      "outputs": []
    },
    {
      "cell_type": "code",
      "source": [
        "list_of_keywords"
      ],
      "metadata": {
        "id": "Ac0tDxYqkrYw"
      },
      "execution_count": null,
      "outputs": []
    },
    {
      "cell_type": "code",
      "source": [
        "len(list_of_keywords)"
      ],
      "metadata": {
        "colab": {
          "base_uri": "https://localhost:8080/"
        },
        "id": "KMKOcfcwk7t_",
        "outputId": "520157ad-9506-428c-a7ff-e57a6ab57318"
      },
      "execution_count": 13,
      "outputs": [
        {
          "output_type": "execute_result",
          "data": {
            "text/plain": [
              "422"
            ]
          },
          "metadata": {},
          "execution_count": 13
        }
      ]
    },
    {
      "cell_type": "code",
      "source": [
        "import pandas as pd\n",
        "data_updated_with_keywords=pd.read_csv('/content/topics_on_abstracted.csv')"
      ],
      "metadata": {
        "id": "gZY2NYdmlMuS"
      },
      "execution_count": 14,
      "outputs": []
    },
    {
      "cell_type": "code",
      "source": [
        "data_updated_with_keywords['list_of_keywords']=list_of_keywords"
      ],
      "metadata": {
        "id": "K4NH2hnelfzO"
      },
      "execution_count": 15,
      "outputs": []
    },
    {
      "cell_type": "code",
      "source": [
        "data_updated_with_keywords.head()"
      ],
      "metadata": {
        "colab": {
          "base_uri": "https://localhost:8080/",
          "height": 617
        },
        "id": "teD7N9yWljXM",
        "outputId": "8c94c300-12dd-42ac-87ca-1bab5d535154"
      },
      "execution_count": 16,
      "outputs": [
        {
          "output_type": "execute_result",
          "data": {
            "text/plain": [
              "   Unnamed: 0.2  Unnamed: 0.1  Unnamed: 0  \\\n",
              "0             0             0           0   \n",
              "1             1             1           1   \n",
              "2             2             2           2   \n",
              "3             3             3           3   \n",
              "4             4             4           4   \n",
              "\n",
              "                                               title  \\\n",
              "0  Proof The Mainstream Media Is Manipulating The...   \n",
              "1  Charity: Clinton Foundation Distributed “Water...   \n",
              "2  A Hillary Clinton Administration May be Entire...   \n",
              "3  Trump’s Latest Campaign Promise May Be His Mos...   \n",
              "4                    Website is Down For Maintenance   \n",
              "\n",
              "                                                text  \\\n",
              "0  I woke up this morning to find a variation of ...   \n",
              "1  Former President Bill Clinton and his Clinton ...   \n",
              "2  After collapsing just before trying to step in...   \n",
              "3  Donald Trump is, well, deplorable. He’s sugges...   \n",
              "4                    Website is Down For Maintenance   \n",
              "\n",
              "                       authors target  \\\n",
              "0              Wendy Gittleson   fake   \n",
              "1               View All Posts   fake   \n",
              "2  View All Posts,Tony Elliott   fake   \n",
              "3                  John Prager   fake   \n",
              "4              Unknown Authors   fake   \n",
              "\n",
              "                                        Fake_Genuine  \\\n",
              "0  Proof The Mainstream Media Is Manipulating The...   \n",
              "1  Charity: Clinton Foundation Distributed “Water...   \n",
              "2  A Hillary Clinton Administration May be Entire...   \n",
              "3  Trump’s Latest Campaign Promise May Be His Mos...   \n",
              "4  Website is Down For MaintenanceWebsite is Down...   \n",
              "\n",
              "                      abstractive_summarization_data  topics  \\\n",
              "0  Proof The Mainstream Media Is Manipulating The...       2   \n",
              "1  Charity: Clinton Foundation Distributed “Water...       2   \n",
              "2  A Hillary Clinton Administration May be Entire...       2   \n",
              "3  Trump’s Latest Campaign Promise May Be His Mos...       2   \n",
              "4  Website is Down For MaintenanceWebsite is Down...       0   \n",
              "\n",
              "                                    list_of_keywords  \n",
              "0  [(clinton, 0.4002), (media, 0.3369), (manipula...  \n",
              "1  [(hiv, 0.4688), (aids, 0.4494), (clinton, 0.39...  \n",
              "2  [(clinton, 0.4893), (hillary, 0.4688), (emerge...  \n",
              "3  [(yetdonald, 0.515), (deplorable, 0.3858), (tr...  \n",
              "4  [(maintenancewebsite, 0.7419), (maintenanceunk...  "
            ],
            "text/html": [
              "\n",
              "  <div id=\"df-b7980194-571e-4090-8d3e-cd5f53141839\">\n",
              "    <div class=\"colab-df-container\">\n",
              "      <div>\n",
              "<style scoped>\n",
              "    .dataframe tbody tr th:only-of-type {\n",
              "        vertical-align: middle;\n",
              "    }\n",
              "\n",
              "    .dataframe tbody tr th {\n",
              "        vertical-align: top;\n",
              "    }\n",
              "\n",
              "    .dataframe thead th {\n",
              "        text-align: right;\n",
              "    }\n",
              "</style>\n",
              "<table border=\"1\" class=\"dataframe\">\n",
              "  <thead>\n",
              "    <tr style=\"text-align: right;\">\n",
              "      <th></th>\n",
              "      <th>Unnamed: 0.2</th>\n",
              "      <th>Unnamed: 0.1</th>\n",
              "      <th>Unnamed: 0</th>\n",
              "      <th>title</th>\n",
              "      <th>text</th>\n",
              "      <th>authors</th>\n",
              "      <th>target</th>\n",
              "      <th>Fake_Genuine</th>\n",
              "      <th>abstractive_summarization_data</th>\n",
              "      <th>topics</th>\n",
              "      <th>list_of_keywords</th>\n",
              "    </tr>\n",
              "  </thead>\n",
              "  <tbody>\n",
              "    <tr>\n",
              "      <th>0</th>\n",
              "      <td>0</td>\n",
              "      <td>0</td>\n",
              "      <td>0</td>\n",
              "      <td>Proof The Mainstream Media Is Manipulating The...</td>\n",
              "      <td>I woke up this morning to find a variation of ...</td>\n",
              "      <td>Wendy Gittleson</td>\n",
              "      <td>fake</td>\n",
              "      <td>Proof The Mainstream Media Is Manipulating The...</td>\n",
              "      <td>Proof The Mainstream Media Is Manipulating The...</td>\n",
              "      <td>2</td>\n",
              "      <td>[(clinton, 0.4002), (media, 0.3369), (manipula...</td>\n",
              "    </tr>\n",
              "    <tr>\n",
              "      <th>1</th>\n",
              "      <td>1</td>\n",
              "      <td>1</td>\n",
              "      <td>1</td>\n",
              "      <td>Charity: Clinton Foundation Distributed “Water...</td>\n",
              "      <td>Former President Bill Clinton and his Clinton ...</td>\n",
              "      <td>View All Posts</td>\n",
              "      <td>fake</td>\n",
              "      <td>Charity: Clinton Foundation Distributed “Water...</td>\n",
              "      <td>Charity: Clinton Foundation Distributed “Water...</td>\n",
              "      <td>2</td>\n",
              "      <td>[(hiv, 0.4688), (aids, 0.4494), (clinton, 0.39...</td>\n",
              "    </tr>\n",
              "    <tr>\n",
              "      <th>2</th>\n",
              "      <td>2</td>\n",
              "      <td>2</td>\n",
              "      <td>2</td>\n",
              "      <td>A Hillary Clinton Administration May be Entire...</td>\n",
              "      <td>After collapsing just before trying to step in...</td>\n",
              "      <td>View All Posts,Tony Elliott</td>\n",
              "      <td>fake</td>\n",
              "      <td>A Hillary Clinton Administration May be Entire...</td>\n",
              "      <td>A Hillary Clinton Administration May be Entire...</td>\n",
              "      <td>2</td>\n",
              "      <td>[(clinton, 0.4893), (hillary, 0.4688), (emerge...</td>\n",
              "    </tr>\n",
              "    <tr>\n",
              "      <th>3</th>\n",
              "      <td>3</td>\n",
              "      <td>3</td>\n",
              "      <td>3</td>\n",
              "      <td>Trump’s Latest Campaign Promise May Be His Mos...</td>\n",
              "      <td>Donald Trump is, well, deplorable. He’s sugges...</td>\n",
              "      <td>John Prager</td>\n",
              "      <td>fake</td>\n",
              "      <td>Trump’s Latest Campaign Promise May Be His Mos...</td>\n",
              "      <td>Trump’s Latest Campaign Promise May Be His Mos...</td>\n",
              "      <td>2</td>\n",
              "      <td>[(yetdonald, 0.515), (deplorable, 0.3858), (tr...</td>\n",
              "    </tr>\n",
              "    <tr>\n",
              "      <th>4</th>\n",
              "      <td>4</td>\n",
              "      <td>4</td>\n",
              "      <td>4</td>\n",
              "      <td>Website is Down For Maintenance</td>\n",
              "      <td>Website is Down For Maintenance</td>\n",
              "      <td>Unknown Authors</td>\n",
              "      <td>fake</td>\n",
              "      <td>Website is Down For MaintenanceWebsite is Down...</td>\n",
              "      <td>Website is Down For MaintenanceWebsite is Down...</td>\n",
              "      <td>0</td>\n",
              "      <td>[(maintenancewebsite, 0.7419), (maintenanceunk...</td>\n",
              "    </tr>\n",
              "  </tbody>\n",
              "</table>\n",
              "</div>\n",
              "      <button class=\"colab-df-convert\" onclick=\"convertToInteractive('df-b7980194-571e-4090-8d3e-cd5f53141839')\"\n",
              "              title=\"Convert this dataframe to an interactive table.\"\n",
              "              style=\"display:none;\">\n",
              "        \n",
              "  <svg xmlns=\"http://www.w3.org/2000/svg\" height=\"24px\"viewBox=\"0 0 24 24\"\n",
              "       width=\"24px\">\n",
              "    <path d=\"M0 0h24v24H0V0z\" fill=\"none\"/>\n",
              "    <path d=\"M18.56 5.44l.94 2.06.94-2.06 2.06-.94-2.06-.94-.94-2.06-.94 2.06-2.06.94zm-11 1L8.5 8.5l.94-2.06 2.06-.94-2.06-.94L8.5 2.5l-.94 2.06-2.06.94zm10 10l.94 2.06.94-2.06 2.06-.94-2.06-.94-.94-2.06-.94 2.06-2.06.94z\"/><path d=\"M17.41 7.96l-1.37-1.37c-.4-.4-.92-.59-1.43-.59-.52 0-1.04.2-1.43.59L10.3 9.45l-7.72 7.72c-.78.78-.78 2.05 0 2.83L4 21.41c.39.39.9.59 1.41.59.51 0 1.02-.2 1.41-.59l7.78-7.78 2.81-2.81c.8-.78.8-2.07 0-2.86zM5.41 20L4 18.59l7.72-7.72 1.47 1.35L5.41 20z\"/>\n",
              "  </svg>\n",
              "      </button>\n",
              "      \n",
              "  <style>\n",
              "    .colab-df-container {\n",
              "      display:flex;\n",
              "      flex-wrap:wrap;\n",
              "      gap: 12px;\n",
              "    }\n",
              "\n",
              "    .colab-df-convert {\n",
              "      background-color: #E8F0FE;\n",
              "      border: none;\n",
              "      border-radius: 50%;\n",
              "      cursor: pointer;\n",
              "      display: none;\n",
              "      fill: #1967D2;\n",
              "      height: 32px;\n",
              "      padding: 0 0 0 0;\n",
              "      width: 32px;\n",
              "    }\n",
              "\n",
              "    .colab-df-convert:hover {\n",
              "      background-color: #E2EBFA;\n",
              "      box-shadow: 0px 1px 2px rgba(60, 64, 67, 0.3), 0px 1px 3px 1px rgba(60, 64, 67, 0.15);\n",
              "      fill: #174EA6;\n",
              "    }\n",
              "\n",
              "    [theme=dark] .colab-df-convert {\n",
              "      background-color: #3B4455;\n",
              "      fill: #D2E3FC;\n",
              "    }\n",
              "\n",
              "    [theme=dark] .colab-df-convert:hover {\n",
              "      background-color: #434B5C;\n",
              "      box-shadow: 0px 1px 3px 1px rgba(0, 0, 0, 0.15);\n",
              "      filter: drop-shadow(0px 1px 2px rgba(0, 0, 0, 0.3));\n",
              "      fill: #FFFFFF;\n",
              "    }\n",
              "  </style>\n",
              "\n",
              "      <script>\n",
              "        const buttonEl =\n",
              "          document.querySelector('#df-b7980194-571e-4090-8d3e-cd5f53141839 button.colab-df-convert');\n",
              "        buttonEl.style.display =\n",
              "          google.colab.kernel.accessAllowed ? 'block' : 'none';\n",
              "\n",
              "        async function convertToInteractive(key) {\n",
              "          const element = document.querySelector('#df-b7980194-571e-4090-8d3e-cd5f53141839');\n",
              "          const dataTable =\n",
              "            await google.colab.kernel.invokeFunction('convertToInteractive',\n",
              "                                                     [key], {});\n",
              "          if (!dataTable) return;\n",
              "\n",
              "          const docLinkHtml = 'Like what you see? Visit the ' +\n",
              "            '<a target=\"_blank\" href=https://colab.research.google.com/notebooks/data_table.ipynb>data table notebook</a>'\n",
              "            + ' to learn more about interactive tables.';\n",
              "          element.innerHTML = '';\n",
              "          dataTable['output_type'] = 'display_data';\n",
              "          await google.colab.output.renderOutput(dataTable, element);\n",
              "          const docLink = document.createElement('div');\n",
              "          docLink.innerHTML = docLinkHtml;\n",
              "          element.appendChild(docLink);\n",
              "        }\n",
              "      </script>\n",
              "    </div>\n",
              "  </div>\n",
              "  "
            ]
          },
          "metadata": {},
          "execution_count": 16
        }
      ]
    },
    {
      "cell_type": "code",
      "source": [
        "sentences_from_keywords=[]\n",
        "for i in range(len(data_updated_with_keywords)):\n",
        "  temp_string=\"\"\n",
        "  for words in (data_updated_with_keywords['list_of_keywords'].iloc[i]):\n",
        "    temp_string=temp_string+\" \"+(words[0])\n",
        "    temp_string=temp_string.strip()\n",
        "  sentences_from_keywords.append(temp_string)"
      ],
      "metadata": {
        "id": "gGcsk41Jlrln"
      },
      "execution_count": 32,
      "outputs": []
    },
    {
      "cell_type": "code",
      "source": [
        "len(sentences_from_keywords)"
      ],
      "metadata": {
        "colab": {
          "base_uri": "https://localhost:8080/"
        },
        "id": "De0pMheol8Ts",
        "outputId": "cbcc9cc7-16b9-4e3c-d851-a80649973cbd"
      },
      "execution_count": 33,
      "outputs": [
        {
          "output_type": "execute_result",
          "data": {
            "text/plain": [
              "422"
            ]
          },
          "metadata": {},
          "execution_count": 33
        }
      ]
    },
    {
      "cell_type": "code",
      "source": [
        "sentences_from_keywords[0],sentences_from_keywords[1]"
      ],
      "metadata": {
        "colab": {
          "base_uri": "https://localhost:8080/"
        },
        "id": "wkpiwUzlnrf3",
        "outputId": "69226ac7-a39c-49a5-e7f3-856a03dce5dc"
      },
      "execution_count": 34,
      "outputs": [
        {
          "output_type": "execute_result",
          "data": {
            "text/plain": [
              "('clinton media manipulating campaign news',\n",
              " 'hiv aids clinton charity foundation')"
            ]
          },
          "metadata": {},
          "execution_count": 34
        }
      ]
    },
    {
      "cell_type": "code",
      "source": [
        "data_updated_with_keywords['sentences_from_keywords']=sentences_from_keywords"
      ],
      "metadata": {
        "id": "IiiPAKznAydD"
      },
      "execution_count": 35,
      "outputs": []
    },
    {
      "cell_type": "code",
      "source": [
        "data_updated_with_keywords.to_csv('sentences_from_keywords.csv')"
      ],
      "metadata": {
        "id": "YfpaZq7FA_6_"
      },
      "execution_count": 36,
      "outputs": []
    },
    {
      "cell_type": "code",
      "source": [
        "## Splitting the dataset into train  and test"
      ],
      "metadata": {
        "id": "_-EVvP63BJvY"
      },
      "execution_count": 37,
      "outputs": []
    },
    {
      "cell_type": "code",
      "source": [
        "## Deleting rows with empty sentences "
      ],
      "metadata": {
        "id": "ZXhvSG-VBnmk"
      },
      "execution_count": 38,
      "outputs": []
    },
    {
      "cell_type": "code",
      "source": [
        "for i in range(len(data_updated_with_keywords['sentences_from_keywords'])):\n",
        "  if len(data_updated_with_keywords['sentences_from_keywords'].iloc[i])==0:\n",
        "    print(i)"
      ],
      "metadata": {
        "colab": {
          "base_uri": "https://localhost:8080/"
        },
        "id": "Df7BJ2eOB0M3",
        "outputId": "ce1cec2d-2801-4a1a-8c89-b6b82e12dcd6"
      },
      "execution_count": 43,
      "outputs": [
        {
          "output_type": "stream",
          "name": "stdout",
          "text": [
            "51\n"
          ]
        }
      ]
    },
    {
      "cell_type": "code",
      "source": [
        "## deleting the 51 index from dataset:\n",
        "data_updated_with_keywords=data_updated_with_keywords.drop(data_updated_with_keywords.index[51])"
      ],
      "metadata": {
        "id": "hQiAaFmOB8Tm"
      },
      "execution_count": 46,
      "outputs": []
    },
    {
      "cell_type": "code",
      "source": [
        "data_updated_with_keywords.head()"
      ],
      "metadata": {
        "colab": {
          "base_uri": "https://localhost:8080/",
          "height": 617
        },
        "id": "2ZzHiJrfDMLW",
        "outputId": "5d3ea6d6-fac5-4b29-cf8d-1f89b919f810"
      },
      "execution_count": 48,
      "outputs": [
        {
          "output_type": "execute_result",
          "data": {
            "text/plain": [
              "   Unnamed: 0.2  Unnamed: 0.1  Unnamed: 0  \\\n",
              "0             0             0           0   \n",
              "1             1             1           1   \n",
              "2             2             2           2   \n",
              "3             3             3           3   \n",
              "4             4             4           4   \n",
              "\n",
              "                                               title  \\\n",
              "0  Proof The Mainstream Media Is Manipulating The...   \n",
              "1  Charity: Clinton Foundation Distributed “Water...   \n",
              "2  A Hillary Clinton Administration May be Entire...   \n",
              "3  Trump’s Latest Campaign Promise May Be His Mos...   \n",
              "4                    Website is Down For Maintenance   \n",
              "\n",
              "                                                text  \\\n",
              "0  I woke up this morning to find a variation of ...   \n",
              "1  Former President Bill Clinton and his Clinton ...   \n",
              "2  After collapsing just before trying to step in...   \n",
              "3  Donald Trump is, well, deplorable. He’s sugges...   \n",
              "4                    Website is Down For Maintenance   \n",
              "\n",
              "                       authors target  \\\n",
              "0              Wendy Gittleson   fake   \n",
              "1               View All Posts   fake   \n",
              "2  View All Posts,Tony Elliott   fake   \n",
              "3                  John Prager   fake   \n",
              "4              Unknown Authors   fake   \n",
              "\n",
              "                                        Fake_Genuine  \\\n",
              "0  Proof The Mainstream Media Is Manipulating The...   \n",
              "1  Charity: Clinton Foundation Distributed “Water...   \n",
              "2  A Hillary Clinton Administration May be Entire...   \n",
              "3  Trump’s Latest Campaign Promise May Be His Mos...   \n",
              "4  Website is Down For MaintenanceWebsite is Down...   \n",
              "\n",
              "                      abstractive_summarization_data  topics  \\\n",
              "0  Proof The Mainstream Media Is Manipulating The...       2   \n",
              "1  Charity: Clinton Foundation Distributed “Water...       2   \n",
              "2  A Hillary Clinton Administration May be Entire...       2   \n",
              "3  Trump’s Latest Campaign Promise May Be His Mos...       2   \n",
              "4  Website is Down For MaintenanceWebsite is Down...       0   \n",
              "\n",
              "                                    list_of_keywords  \\\n",
              "0  [(clinton, 0.4002), (media, 0.3369), (manipula...   \n",
              "1  [(hiv, 0.4688), (aids, 0.4494), (clinton, 0.39...   \n",
              "2  [(clinton, 0.4893), (hillary, 0.4688), (emerge...   \n",
              "3  [(yetdonald, 0.515), (deplorable, 0.3858), (tr...   \n",
              "4  [(maintenancewebsite, 0.7419), (maintenanceunk...   \n",
              "\n",
              "                             sentences_from_keywords  \n",
              "0           clinton media manipulating campaign news  \n",
              "1                hiv aids clinton charity foundation  \n",
              "2        clinton hillary emerged collapsing daughter  \n",
              "3        yetdonald deplorable trump horrible promise  \n",
              "4  maintenancewebsite maintenanceunknown website ...  "
            ],
            "text/html": [
              "\n",
              "  <div id=\"df-456c4115-55a3-463e-98a1-8822fdd82afa\">\n",
              "    <div class=\"colab-df-container\">\n",
              "      <div>\n",
              "<style scoped>\n",
              "    .dataframe tbody tr th:only-of-type {\n",
              "        vertical-align: middle;\n",
              "    }\n",
              "\n",
              "    .dataframe tbody tr th {\n",
              "        vertical-align: top;\n",
              "    }\n",
              "\n",
              "    .dataframe thead th {\n",
              "        text-align: right;\n",
              "    }\n",
              "</style>\n",
              "<table border=\"1\" class=\"dataframe\">\n",
              "  <thead>\n",
              "    <tr style=\"text-align: right;\">\n",
              "      <th></th>\n",
              "      <th>Unnamed: 0.2</th>\n",
              "      <th>Unnamed: 0.1</th>\n",
              "      <th>Unnamed: 0</th>\n",
              "      <th>title</th>\n",
              "      <th>text</th>\n",
              "      <th>authors</th>\n",
              "      <th>target</th>\n",
              "      <th>Fake_Genuine</th>\n",
              "      <th>abstractive_summarization_data</th>\n",
              "      <th>topics</th>\n",
              "      <th>list_of_keywords</th>\n",
              "      <th>sentences_from_keywords</th>\n",
              "    </tr>\n",
              "  </thead>\n",
              "  <tbody>\n",
              "    <tr>\n",
              "      <th>0</th>\n",
              "      <td>0</td>\n",
              "      <td>0</td>\n",
              "      <td>0</td>\n",
              "      <td>Proof The Mainstream Media Is Manipulating The...</td>\n",
              "      <td>I woke up this morning to find a variation of ...</td>\n",
              "      <td>Wendy Gittleson</td>\n",
              "      <td>fake</td>\n",
              "      <td>Proof The Mainstream Media Is Manipulating The...</td>\n",
              "      <td>Proof The Mainstream Media Is Manipulating The...</td>\n",
              "      <td>2</td>\n",
              "      <td>[(clinton, 0.4002), (media, 0.3369), (manipula...</td>\n",
              "      <td>clinton media manipulating campaign news</td>\n",
              "    </tr>\n",
              "    <tr>\n",
              "      <th>1</th>\n",
              "      <td>1</td>\n",
              "      <td>1</td>\n",
              "      <td>1</td>\n",
              "      <td>Charity: Clinton Foundation Distributed “Water...</td>\n",
              "      <td>Former President Bill Clinton and his Clinton ...</td>\n",
              "      <td>View All Posts</td>\n",
              "      <td>fake</td>\n",
              "      <td>Charity: Clinton Foundation Distributed “Water...</td>\n",
              "      <td>Charity: Clinton Foundation Distributed “Water...</td>\n",
              "      <td>2</td>\n",
              "      <td>[(hiv, 0.4688), (aids, 0.4494), (clinton, 0.39...</td>\n",
              "      <td>hiv aids clinton charity foundation</td>\n",
              "    </tr>\n",
              "    <tr>\n",
              "      <th>2</th>\n",
              "      <td>2</td>\n",
              "      <td>2</td>\n",
              "      <td>2</td>\n",
              "      <td>A Hillary Clinton Administration May be Entire...</td>\n",
              "      <td>After collapsing just before trying to step in...</td>\n",
              "      <td>View All Posts,Tony Elliott</td>\n",
              "      <td>fake</td>\n",
              "      <td>A Hillary Clinton Administration May be Entire...</td>\n",
              "      <td>A Hillary Clinton Administration May be Entire...</td>\n",
              "      <td>2</td>\n",
              "      <td>[(clinton, 0.4893), (hillary, 0.4688), (emerge...</td>\n",
              "      <td>clinton hillary emerged collapsing daughter</td>\n",
              "    </tr>\n",
              "    <tr>\n",
              "      <th>3</th>\n",
              "      <td>3</td>\n",
              "      <td>3</td>\n",
              "      <td>3</td>\n",
              "      <td>Trump’s Latest Campaign Promise May Be His Mos...</td>\n",
              "      <td>Donald Trump is, well, deplorable. He’s sugges...</td>\n",
              "      <td>John Prager</td>\n",
              "      <td>fake</td>\n",
              "      <td>Trump’s Latest Campaign Promise May Be His Mos...</td>\n",
              "      <td>Trump’s Latest Campaign Promise May Be His Mos...</td>\n",
              "      <td>2</td>\n",
              "      <td>[(yetdonald, 0.515), (deplorable, 0.3858), (tr...</td>\n",
              "      <td>yetdonald deplorable trump horrible promise</td>\n",
              "    </tr>\n",
              "    <tr>\n",
              "      <th>4</th>\n",
              "      <td>4</td>\n",
              "      <td>4</td>\n",
              "      <td>4</td>\n",
              "      <td>Website is Down For Maintenance</td>\n",
              "      <td>Website is Down For Maintenance</td>\n",
              "      <td>Unknown Authors</td>\n",
              "      <td>fake</td>\n",
              "      <td>Website is Down For MaintenanceWebsite is Down...</td>\n",
              "      <td>Website is Down For MaintenanceWebsite is Down...</td>\n",
              "      <td>0</td>\n",
              "      <td>[(maintenancewebsite, 0.7419), (maintenanceunk...</td>\n",
              "      <td>maintenancewebsite maintenanceunknown website ...</td>\n",
              "    </tr>\n",
              "  </tbody>\n",
              "</table>\n",
              "</div>\n",
              "      <button class=\"colab-df-convert\" onclick=\"convertToInteractive('df-456c4115-55a3-463e-98a1-8822fdd82afa')\"\n",
              "              title=\"Convert this dataframe to an interactive table.\"\n",
              "              style=\"display:none;\">\n",
              "        \n",
              "  <svg xmlns=\"http://www.w3.org/2000/svg\" height=\"24px\"viewBox=\"0 0 24 24\"\n",
              "       width=\"24px\">\n",
              "    <path d=\"M0 0h24v24H0V0z\" fill=\"none\"/>\n",
              "    <path d=\"M18.56 5.44l.94 2.06.94-2.06 2.06-.94-2.06-.94-.94-2.06-.94 2.06-2.06.94zm-11 1L8.5 8.5l.94-2.06 2.06-.94-2.06-.94L8.5 2.5l-.94 2.06-2.06.94zm10 10l.94 2.06.94-2.06 2.06-.94-2.06-.94-.94-2.06-.94 2.06-2.06.94z\"/><path d=\"M17.41 7.96l-1.37-1.37c-.4-.4-.92-.59-1.43-.59-.52 0-1.04.2-1.43.59L10.3 9.45l-7.72 7.72c-.78.78-.78 2.05 0 2.83L4 21.41c.39.39.9.59 1.41.59.51 0 1.02-.2 1.41-.59l7.78-7.78 2.81-2.81c.8-.78.8-2.07 0-2.86zM5.41 20L4 18.59l7.72-7.72 1.47 1.35L5.41 20z\"/>\n",
              "  </svg>\n",
              "      </button>\n",
              "      \n",
              "  <style>\n",
              "    .colab-df-container {\n",
              "      display:flex;\n",
              "      flex-wrap:wrap;\n",
              "      gap: 12px;\n",
              "    }\n",
              "\n",
              "    .colab-df-convert {\n",
              "      background-color: #E8F0FE;\n",
              "      border: none;\n",
              "      border-radius: 50%;\n",
              "      cursor: pointer;\n",
              "      display: none;\n",
              "      fill: #1967D2;\n",
              "      height: 32px;\n",
              "      padding: 0 0 0 0;\n",
              "      width: 32px;\n",
              "    }\n",
              "\n",
              "    .colab-df-convert:hover {\n",
              "      background-color: #E2EBFA;\n",
              "      box-shadow: 0px 1px 2px rgba(60, 64, 67, 0.3), 0px 1px 3px 1px rgba(60, 64, 67, 0.15);\n",
              "      fill: #174EA6;\n",
              "    }\n",
              "\n",
              "    [theme=dark] .colab-df-convert {\n",
              "      background-color: #3B4455;\n",
              "      fill: #D2E3FC;\n",
              "    }\n",
              "\n",
              "    [theme=dark] .colab-df-convert:hover {\n",
              "      background-color: #434B5C;\n",
              "      box-shadow: 0px 1px 3px 1px rgba(0, 0, 0, 0.15);\n",
              "      filter: drop-shadow(0px 1px 2px rgba(0, 0, 0, 0.3));\n",
              "      fill: #FFFFFF;\n",
              "    }\n",
              "  </style>\n",
              "\n",
              "      <script>\n",
              "        const buttonEl =\n",
              "          document.querySelector('#df-456c4115-55a3-463e-98a1-8822fdd82afa button.colab-df-convert');\n",
              "        buttonEl.style.display =\n",
              "          google.colab.kernel.accessAllowed ? 'block' : 'none';\n",
              "\n",
              "        async function convertToInteractive(key) {\n",
              "          const element = document.querySelector('#df-456c4115-55a3-463e-98a1-8822fdd82afa');\n",
              "          const dataTable =\n",
              "            await google.colab.kernel.invokeFunction('convertToInteractive',\n",
              "                                                     [key], {});\n",
              "          if (!dataTable) return;\n",
              "\n",
              "          const docLinkHtml = 'Like what you see? Visit the ' +\n",
              "            '<a target=\"_blank\" href=https://colab.research.google.com/notebooks/data_table.ipynb>data table notebook</a>'\n",
              "            + ' to learn more about interactive tables.';\n",
              "          element.innerHTML = '';\n",
              "          dataTable['output_type'] = 'display_data';\n",
              "          await google.colab.output.renderOutput(dataTable, element);\n",
              "          const docLink = document.createElement('div');\n",
              "          docLink.innerHTML = docLinkHtml;\n",
              "          element.appendChild(docLink);\n",
              "        }\n",
              "      </script>\n",
              "    </div>\n",
              "  </div>\n",
              "  "
            ]
          },
          "metadata": {},
          "execution_count": 48
        }
      ]
    },
    {
      "cell_type": "code",
      "source": [
        "##Splitting\n",
        "from sklearn.model_selection import train_test_split\n",
        "y=data_updated_with_keywords['target']\n",
        "del data_updated_with_keywords['target']\n",
        "X=data_updated_with_keywords\n",
        "X_train, X_test, y_train, y_test = train_test_split(X, y, test_size=0.20, random_state=18)"
      ],
      "metadata": {
        "id": "ngTMAXHgDVja"
      },
      "execution_count": 50,
      "outputs": []
    },
    {
      "cell_type": "code",
      "source": [
        "len(X_train),len(X_test),len(y_test)"
      ],
      "metadata": {
        "colab": {
          "base_uri": "https://localhost:8080/"
        },
        "id": "9VdAk6geDn5-",
        "outputId": "42e80193-c7f6-48d2-eb25-976ba79d9241"
      },
      "execution_count": 51,
      "outputs": [
        {
          "output_type": "execute_result",
          "data": {
            "text/plain": [
              "(336, 85, 85)"
            ]
          },
          "metadata": {},
          "execution_count": 51
        }
      ]
    },
    {
      "cell_type": "code",
      "source": [
        "X_train.to_csv('X_train.csv')\n",
        "X_test.to_csv('X_test.csv')\n",
        "y_train.to_csv('y_train.csv')\n",
        "y_test.to_csv('y_test.csv')"
      ],
      "metadata": {
        "id": "i1pF0smVEbvB"
      },
      "execution_count": 52,
      "outputs": []
    },
    {
      "cell_type": "code",
      "source": [
        "## Implememting Quantum Pipeline"
      ],
      "metadata": {
        "id": "AOf-i_5dEwGe"
      },
      "execution_count": 53,
      "outputs": []
    },
    {
      "cell_type": "code",
      "source": [
        "!pip install lambeq"
      ],
      "metadata": {
        "id": "myqJD14TE5k0"
      },
      "execution_count": null,
      "outputs": []
    },
    {
      "cell_type": "code",
      "source": [
        "import pandas as pd\n",
        "X_train=pd.read_csv('/content/X_train.csv')\n",
        "X_test=pd.read_csv('/content/X_test.csv')\n",
        "y_train=pd.read_csv('/content/y_train.csv')\n",
        "y_test=pd.read_csv('/content/X_test.csv')"
      ],
      "metadata": {
        "id": "pqLJiV0j1JAm"
      },
      "execution_count": 3,
      "outputs": []
    },
    {
      "cell_type": "code",
      "source": [
        "from lambeq import BobcatParser\n",
        "\n",
        "parser = BobcatParser(root_cats=('NP', 'N'), verbose='text')\n"
      ],
      "metadata": {
        "colab": {
          "base_uri": "https://localhost:8080/",
          "height": 84,
          "referenced_widgets": [
            "e3ce81da41aa4d498aa269e58d373685",
            "df9f8fb6b1204466ac7645d08950ec51",
            "e88a2e534f9a4deeb3283e80de5c9d25",
            "d0f6f2074cec45a19254fd0c733463da",
            "7028a507bd8c46c9ba62dc1ab0583b1f",
            "77745d2a16304d899f6c15e13d5f69ed",
            "cbb310b1713e400e949c4c7433482dbb",
            "cab817c5ea0f44acbeeabbec3db2b67d",
            "f239e1dc1b5b4ae491d05cfb502f53d2",
            "d4d9d1ec5c4f472a9303034a1ce50a31",
            "8f04723688de4170978283fbea265e42"
          ]
        },
        "id": "plr3jIF3FGXh",
        "outputId": "7fc784fb-c2c8-4ca7-9d47-cc26155867f6"
      },
      "execution_count": 4,
      "outputs": [
        {
          "output_type": "stream",
          "name": "stderr",
          "text": [
            "Downloading model...\n"
          ]
        },
        {
          "output_type": "display_data",
          "data": {
            "text/plain": [
              "Evaluating checksum: 0.0%|          |0.000/1.533GB [00:00<?]"
            ],
            "application/vnd.jupyter.widget-view+json": {
              "version_major": 2,
              "version_minor": 0,
              "model_id": "e3ce81da41aa4d498aa269e58d373685"
            }
          },
          "metadata": {}
        },
        {
          "output_type": "stream",
          "name": "stdout",
          "text": [
            "Extracting model...\n"
          ]
        }
      ]
    },
    {
      "cell_type": "code",
      "source": [
        "del y_train['Unnamed: 0']\n",
        "del y_test['Unnamed: 0']"
      ],
      "metadata": {
        "id": "j55C1sRW3hIw"
      },
      "execution_count": 5,
      "outputs": []
    },
    {
      "cell_type": "code",
      "source": [
        "## Creating train_labels and test_labels\n",
        "train_labels=[]\n",
        "for i in y_train['target']:\n",
        "  temp_list=[]\n",
        "  if(i)=='real':\n",
        "    temp_list.append(1)\n",
        "    temp_list.append(0)\n",
        "  else:\n",
        "    temp_list.append(0)\n",
        "    temp_list.append(1)\n",
        "  train_labels.append(temp_list)\n",
        "test_labels=[]\n",
        "for i in y_train['target']:\n",
        "  temp_list=[]\n",
        "  if(i)=='real':\n",
        "    temp_list.append(1)\n",
        "    temp_list.append(0)\n",
        "  else:\n",
        "    temp_list.append(0)\n",
        "    temp_list.append(1)\n",
        "  test_labels.append(temp_list)"
      ],
      "metadata": {
        "id": "lYkg8HTBFg-e"
      },
      "execution_count": 6,
      "outputs": []
    },
    {
      "cell_type": "code",
      "source": [
        "len(train_labels),train_labels[:10],len(test_labels),test_labels[:10]"
      ],
      "metadata": {
        "colab": {
          "base_uri": "https://localhost:8080/"
        },
        "id": "nLhh67w1GrWV",
        "outputId": "2ce68f1c-4bc9-499d-ead1-cf9edb00a66c"
      },
      "execution_count": 7,
      "outputs": [
        {
          "output_type": "execute_result",
          "data": {
            "text/plain": [
              "(336,\n",
              " [[0, 1],\n",
              "  [1, 0],\n",
              "  [0, 1],\n",
              "  [0, 1],\n",
              "  [1, 0],\n",
              "  [1, 0],\n",
              "  [1, 0],\n",
              "  [1, 0],\n",
              "  [1, 0],\n",
              "  [0, 1]],\n",
              " 336,\n",
              " [[0, 1],\n",
              "  [1, 0],\n",
              "  [0, 1],\n",
              "  [0, 1],\n",
              "  [1, 0],\n",
              "  [1, 0],\n",
              "  [1, 0],\n",
              "  [1, 0],\n",
              "  [1, 0],\n",
              "  [0, 1]])"
            ]
          },
          "metadata": {},
          "execution_count": 7
        }
      ]
    },
    {
      "cell_type": "code",
      "source": [
        "## Converting the train and test dataset to list\n",
        "#X_train=X_train.tolist()\n",
        "val_data=X_test['sentences_from_keywords'].tolist()"
      ],
      "metadata": {
        "id": "xqCkdT4yJWm5"
      },
      "execution_count": 7,
      "outputs": []
    },
    {
      "cell_type": "code",
      "source": [
        "X_train=X_train['sentences_from_keywords'].tolist()\n",
        "val_data[:3],X_train[:3]"
      ],
      "metadata": {
        "colab": {
          "base_uri": "https://localhost:8080/"
        },
        "id": "ilxATt-N4zvK",
        "outputId": "6c7d8fd4-a143-40d6-9a06-8e0b49649ecb"
      },
      "execution_count": 8,
      "outputs": [
        {
          "output_type": "execute_result",
          "data": {
            "text/plain": [
              "(['contempt contemptstory committee clinton pagliano',\n",
              "  'children easter hillary tards egg',\n",
              "  'veto override congress senate obama'],\n",
              " ['obama heraldobama isis surrendering disgraced',\n",
              "  'netanyahu barack obama meeting israeli',\n",
              "  'ceo hostages employers presidencyfor democrat'])"
            ]
          },
          "metadata": {},
          "execution_count": 8
        }
      ]
    },
    {
      "cell_type": "code",
      "source": [
        "raw_train_diagrams = parser.sentences2diagrams(X_train, suppress_exceptions=True)"
      ],
      "metadata": {
        "colab": {
          "base_uri": "https://localhost:8080/"
        },
        "id": "Ic6Wlz58Hkt_",
        "outputId": "2fdb0a66-812c-4c4c-d2b3-e3a7c8151418"
      },
      "execution_count": null,
      "outputs": [
        {
          "output_type": "stream",
          "name": "stderr",
          "text": [
            "Tagging sentences.\n"
          ]
        }
      ]
    },
    {
      "cell_type": "code",
      "source": [
        "train_diagrams = [\n",
        "    diagram.normal_form()\n",
        "    for diagram in raw_train_diagrams if diagram is not None\n",
        "]"
      ],
      "metadata": {
        "id": "uNTHqqe5PntR"
      },
      "execution_count": null,
      "outputs": []
    },
    {
      "cell_type": "code",
      "source": [
        "train_diagrams[0].draw(figsize=(9, 5), fontsize=12)"
      ],
      "metadata": {
        "colab": {
          "base_uri": "https://localhost:8080/",
          "height": 403
        },
        "id": "ibVCS12zP215",
        "outputId": "14d88415-e4d6-4b3d-a9f6-fb2f569739ac"
      },
      "execution_count": 40,
      "outputs": [
        {
          "output_type": "display_data",
          "data": {
            "text/plain": [
              "<Figure size 900x500 with 1 Axes>"
            ],
            "image/png": "[encoded data removed]"
          },
          "metadata": {}
        }
      ]
    },
    {
      "cell_type": "code",
      "source": [
        "type(train_diagrams),type(raw_train_diagrams)"
      ],
      "metadata": {
        "colab": {
          "base_uri": "https://localhost:8080/"
        },
        "id": "3-YqajH6CVUw",
        "outputId": "6b332eff-5618-4e0b-f865-962d8fa0c073"
      },
      "execution_count": 56,
      "outputs": [
        {
          "output_type": "execute_result",
          "data": {
            "text/plain": [
              "(321, 328)"
            ]
          },
          "metadata": {},
          "execution_count": 56
        }
      ]
    },
    {
      "cell_type": "code",
      "source": [
        "from lambeq import AtomicType, IQPAnsatz, remove_cups\n",
        "\n",
        "ansatz = IQPAnsatz({AtomicType.NOUN: 1, AtomicType.SENTENCE: 0},\n",
        "                   n_layers=1, n_single_qubit_params=3)\n",
        "\n",
        "train_circuits = [ansatz(remove_cups(diagram)) for diagram in train_diagrams if diagram is not None]"
      ],
      "metadata": {
        "id": "k0mKOg7oP7Br"
      },
      "execution_count": null,
      "outputs": []
    },
    {
      "cell_type": "code",
      "source": [
        "train_circuits[0].draw(figsize=(9, 5), fontsize=12)"
      ],
      "metadata": {
        "colab": {
          "base_uri": "https://localhost:8080/",
          "height": 556
        },
        "id": "345UaGM5QRwH",
        "outputId": "9a290923-075d-410f-9b52-4016d3cc0346"
      },
      "execution_count": 42,
      "outputs": [
        {
          "output_type": "display_data",
          "data": {
            "text/plain": [
              "<Figure size 900x500 with 1 Axes>"
            ],
            "image/png": "[encoded data removed]"
          },
          "metadata": {}
        }
      ]
    },
    {
      "cell_type": "code",
      "source": [
        "raw_val_diagrams = parser.sentences2diagrams(val_data, suppress_exceptions=True)"
      ],
      "metadata": {
        "id": "aEZjX8lD7Cbu"
      },
      "execution_count": null,
      "outputs": []
    },
    {
      "cell_type": "code",
      "source": [
        "val_diagrams = [\n",
        "    diagram.normal_form()\n",
        "    for diagram in raw_val_diagrams if diagram is not None\n",
        "]"
      ],
      "metadata": {
        "id": "24ywMJVH9xRu"
      },
      "execution_count": null,
      "outputs": []
    },
    {
      "cell_type": "code",
      "source": [
        "train_labels = [\n",
        "    label for (diagram, label)\n",
        "    in zip(raw_train_diagrams, train_labels)\n",
        "    if diagram is not None]"
      ],
      "metadata": {
        "id": "SOSBibgu99hO"
      },
      "execution_count": null,
      "outputs": []
    },
    {
      "cell_type": "code",
      "source": [
        "len(train_labels),len(train_circuits)"
      ],
      "metadata": {
        "colab": {
          "base_uri": "https://localhost:8080/"
        },
        "id": "UpZLNjWTDM9i",
        "outputId": "3c6a2f26-7834-489e-e289-131a4833d84c"
      },
      "execution_count": 16,
      "outputs": [
        {
          "output_type": "execute_result",
          "data": {
            "text/plain": [
              "(328, 328)"
            ]
          },
          "metadata": {},
          "execution_count": 16
        }
      ]
    },
    {
      "cell_type": "code",
      "source": [
        "val_circuits =  [ansatz(remove_cups(diagram))  for diagram in val_diagrams if diagram is not None]"
      ],
      "metadata": {
        "id": "zQLul5JWQagO"
      },
      "execution_count": null,
      "outputs": []
    },
    {
      "cell_type": "code",
      "source": [
        "val_labels = [\n",
        "    label for (diagram, label)\n",
        "    in zip(raw_val_diagrams, test_labels)\n",
        "    if diagram is not None\n",
        "]\n"
      ],
      "metadata": {
        "id": "v98D01Qp9te2"
      },
      "execution_count": null,
      "outputs": []
    },
    {
      "cell_type": "code",
      "source": [
        "len(val_labels),len(val_circuits)"
      ],
      "metadata": {
        "id": "Wyd4sZlnsE1J"
      },
      "execution_count": null,
      "outputs": []
    },
    {
      "cell_type": "code",
      "source": [
        "!!pip install pytket-qiskit"
      ],
      "metadata": {
        "id": "kfs7_qELFUPT"
      },
      "execution_count": null,
      "outputs": []
    },
    {
      "cell_type": "code",
      "source": [
        "from pytket.extensions.qiskit import AerBackend\n",
        "from lambeq import TketModel\n",
        "\n",
        "all_circuits = train_circuits + val_circuits\n",
        "\n",
        "backend = AerBackend()\n",
        "backend_config = {\n",
        "    'backend': backend,\n",
        "    'compilation': backend.default_compilation_pass(2),\n",
        "    'shots': 8192\n",
        "}\n",
        "\n",
        "model = TketModel.from_diagrams(all_circuits, backend_config=backend_config)"
      ],
      "metadata": {
        "id": "ABg2TT36FKYH"
      },
      "execution_count": 22,
      "outputs": []
    },
    {
      "cell_type": "code",
      "source": [
        "from lambeq import BinaryCrossEntropyLoss\n",
        "\n",
        "# Using the builtin binary cross-entropy error from lambeq\n",
        "bce = BinaryCrossEntropyLoss()\n",
        "\n",
        "acc = lambda y_hat, y: np.sum(np.round(y_hat) == y) / len(y) / 2  # half due to double-counting\n",
        "eval_metrics = {\"acc\": acc}"
      ],
      "metadata": {
        "id": "lGn1BgtOGaEd"
      },
      "execution_count": 24,
      "outputs": []
    },
    {
      "cell_type": "code",
      "source": [
        "from lambeq import QuantumTrainer, SPSAOptimizer\n",
        "\n",
        "trainer = QuantumTrainer(\n",
        "    model,\n",
        "    loss_function=bce,\n",
        "    epochs=10,\n",
        "    optimizer=SPSAOptimizer,\n",
        "    optim_hyperparams={'a': 0.05, 'c': 0.06, 'A':0.01*10},\n",
        "    evaluate_functions=eval_metrics,\n",
        "    evaluate_on_train=True,\n",
        "    verbose = 'text',\n",
        "    seed=0\n",
        ")"
      ],
      "metadata": {
        "id": "3ITvqrq9GjBn"
      },
      "execution_count": 45,
      "outputs": []
    },
    {
      "cell_type": "code",
      "source": [
        "from lambeq import Dataset\n",
        "\n",
        "train_dataset = Dataset(\n",
        "            train_circuits,\n",
        "            train_labels,\n",
        "            batch_size=2)\n",
        "\n",
        "val_dataset = Dataset(val_circuits, val_labels, shuffle=False)"
      ],
      "metadata": {
        "id": "eGpEJ43mG5Ba"
      },
      "execution_count": 26,
      "outputs": []
    },
    {
      "cell_type": "code",
      "source": [
        "import numpy as np\n",
        "trainer.fit(train_dataset, val_dataset, evaluation_step=1, logging_step=1)"
      ],
      "metadata": {
        "colab": {
          "base_uri": "https://localhost:8080/",
          "height": 183
        },
        "id": "4N1wJVO8G7FX",
        "outputId": "6213ad06-200f-45e4-ee5c-c34092f1349c"
      },
      "execution_count": 1,
      "outputs": [
        {
          "output_type": "error",
          "ename": "NameError",
          "evalue": "ignored",
          "traceback": [
            "\u001b[0;31m---------------------------------------------------------------------------\u001b[0m",
            "\u001b[0;31mNameError\u001b[0m                                 Traceback (most recent call last)",
            "\u001b[0;32m<ipython-input-1-07368f1139e0>\u001b[0m in \u001b[0;36m<cell line: 2>\u001b[0;34m()\u001b[0m\n\u001b[1;32m      1\u001b[0m \u001b[0;32mimport\u001b[0m \u001b[0mnumpy\u001b[0m \u001b[0;32mas\u001b[0m \u001b[0mnp\u001b[0m\u001b[0;34m\u001b[0m\u001b[0;34m\u001b[0m\u001b[0m\n\u001b[0;32m----> 2\u001b[0;31m \u001b[0mtrainer\u001b[0m\u001b[0;34m.\u001b[0m\u001b[0mfit\u001b[0m\u001b[0;34m(\u001b[0m\u001b[0mtrain_dataset\u001b[0m\u001b[0;34m,\u001b[0m \u001b[0mval_dataset\u001b[0m\u001b[0;34m,\u001b[0m \u001b[0mevaluation_step\u001b[0m\u001b[0;34m=\u001b[0m\u001b[0;36m1\u001b[0m\u001b[0;34m,\u001b[0m \u001b[0mlogging_step\u001b[0m\u001b[0;34m=\u001b[0m\u001b[0;36m1\u001b[0m\u001b[0;34m)\u001b[0m\u001b[0;34m\u001b[0m\u001b[0;34m\u001b[0m\u001b[0m\n\u001b[0m",
            "\u001b[0;31mNameError\u001b[0m: name 'trainer' is not defined"
          ]
        }
      ]
    },
    {
      "cell_type": "code",
      "source": [
        "import matplotlib.pyplot as plt\n",
        "\n",
        "fig, ((ax_tl, ax_tr), (ax_bl, ax_br)) = plt.subplots(2, 2, sharex=True, sharey='row', figsize=(10, 6))\n",
        "ax_tl.set_title('Training set')\n",
        "ax_tr.set_title('Development set')\n",
        "ax_bl.set_xlabel('Iterations')\n",
        "ax_br.set_xlabel('Iterations')\n",
        "ax_bl.set_ylabel('Accuracy')\n",
        "ax_tl.set_ylabel('Loss')\n",
        "\n",
        "colours = iter(plt.rcParams['axes.prop_cycle'].by_key()['color'])\n",
        "ax_tl.plot(trainer.train_epoch_costs[::10], color=next(colours))\n",
        "ax_bl.plot(trainer.train_results['acc'][::10], color=next(colours))\n",
        "ax_tr.plot(trainer.val_costs[::10], color=next(colours))\n",
        "ax_br.plot(trainer.val_results['acc'][::10], color=next(colours))\n",
        "\n",
        "# print test accuracy\n",
        "test_acc = acc(model(val_circuits), val_labels)\n",
        "print('Validation accuracy:', test_acc.item())"
      ],
      "metadata": {
        "colab": {
          "base_uri": "https://localhost:8080/",
          "height": 468
        },
        "id": "PQkMPmNosio5",
        "outputId": "a9288415-7abe-4186-9b3e-213b679fcd5f"
      },
      "execution_count": 29,
      "outputs": [
        {
          "output_type": "stream",
          "name": "stdout",
          "text": [
            "Validation accuracy: 0.43506493506493504\n"
          ]
        },
        {
          "output_type": "display_data",
          "data": {
            "text/plain": [
              "<Figure size 1000x600 with 4 Axes>"
            ],
            "image/png": "[encoded data removed]"
          },
          "metadata": {}
        }
      ]
    },
    {
      "cell_type": "code",
      "source": [
        "predictions=model(val_circuits)"
      ],
      "metadata": {
        "id": "oMMAWLclA948"
      },
      "execution_count": 31,
      "outputs": []
    },
    {
      "cell_type": "code",
      "source": [
        "predictions_true=[]\n",
        "predictions_fake=[]\n",
        "for i in predictions:\n",
        "  predictions_true.append(i[0])\n",
        "  predictions_fake.append(i[1])"
      ],
      "metadata": {
        "id": "uh749HrzCamd"
      },
      "execution_count": 37,
      "outputs": []
    },
    {
      "cell_type": "code",
      "source": [
        "quantum_predictions=pd.DataFrame()\n",
        "quantum_predictions['true']=predictions_true\n",
        "quantum_predictions['fake']=predictions_fake\n",
        "quantum_predictions['test_labels']=val_labels"
      ],
      "metadata": {
        "id": "864Ane9tDjmM"
      },
      "execution_count": 41,
      "outputs": []
    },
    {
      "cell_type": "code",
      "source": [
        "quantum_predictions.to_csv('quantum_predictions.csv')"
      ],
      "metadata": {
        "id": "SGb2lFUtGSOJ"
      },
      "execution_count": 44,
      "outputs": []
    },
    {
      "cell_type": "code",
      "source": [
        "quantum_predictions"
      ],
      "metadata": {
        "colab": {
          "base_uri": "https://localhost:8080/",
          "height": 423
        },
        "id": "gLG0mUTlGTX6",
        "outputId": "8cbdb4c3-002f-4723-90f2-4604b5f6ccb0"
      },
      "execution_count": 42,
      "outputs": [
        {
          "output_type": "execute_result",
          "data": {
            "text/plain": [
              "        true      fake test_labels\n",
              "0   0.000000  1.000000      [0, 1]\n",
              "1   0.500000  0.500000      [1, 0]\n",
              "2   0.750000  0.250000      [0, 1]\n",
              "3   0.714286  0.285714      [0, 1]\n",
              "4   0.551724  0.448276      [1, 0]\n",
              "..       ...       ...         ...\n",
              "72  1.000000  0.000000      [1, 0]\n",
              "73  0.615385  0.384615      [0, 1]\n",
              "74  1.000000  0.000000      [1, 0]\n",
              "75  0.000000  0.000000      [1, 0]\n",
              "76  0.000000  0.000000      [0, 1]\n",
              "\n",
              "[77 rows x 3 columns]"
            ],
            "text/html": [
              "\n",
              "  <div id=\"df-5a99ee15-7a59-4673-89dd-0fd919e4261c\">\n",
              "    <div class=\"colab-df-container\">\n",
              "      <div>\n",
              "<style scoped>\n",
              "    .dataframe tbody tr th:only-of-type {\n",
              "        vertical-align: middle;\n",
              "    }\n",
              "\n",
              "    .dataframe tbody tr th {\n",
              "        vertical-align: top;\n",
              "    }\n",
              "\n",
              "    .dataframe thead th {\n",
              "        text-align: right;\n",
              "    }\n",
              "</style>\n",
              "<table border=\"1\" class=\"dataframe\">\n",
              "  <thead>\n",
              "    <tr style=\"text-align: right;\">\n",
              "      <th></th>\n",
              "      <th>true</th>\n",
              "      <th>fake</th>\n",
              "      <th>test_labels</th>\n",
              "    </tr>\n",
              "  </thead>\n",
              "  <tbody>\n",
              "    <tr>\n",
              "      <th>0</th>\n",
              "      <td>0.000000</td>\n",
              "      <td>1.000000</td>\n",
              "      <td>[0, 1]</td>\n",
              "    </tr>\n",
              "    <tr>\n",
              "      <th>1</th>\n",
              "      <td>0.500000</td>\n",
              "      <td>0.500000</td>\n",
              "      <td>[1, 0]</td>\n",
              "    </tr>\n",
              "    <tr>\n",
              "      <th>2</th>\n",
              "      <td>0.750000</td>\n",
              "      <td>0.250000</td>\n",
              "      <td>[0, 1]</td>\n",
              "    </tr>\n",
              "    <tr>\n",
              "      <th>3</th>\n",
              "      <td>0.714286</td>\n",
              "      <td>0.285714</td>\n",
              "      <td>[0, 1]</td>\n",
              "    </tr>\n",
              "    <tr>\n",
              "      <th>4</th>\n",
              "      <td>0.551724</td>\n",
              "      <td>0.448276</td>\n",
              "      <td>[1, 0]</td>\n",
              "    </tr>\n",
              "    <tr>\n",
              "      <th>...</th>\n",
              "      <td>...</td>\n",
              "      <td>...</td>\n",
              "      <td>...</td>\n",
              "    </tr>\n",
              "    <tr>\n",
              "      <th>72</th>\n",
              "      <td>1.000000</td>\n",
              "      <td>0.000000</td>\n",
              "      <td>[1, 0]</td>\n",
              "    </tr>\n",
              "    <tr>\n",
              "      <th>73</th>\n",
              "      <td>0.615385</td>\n",
              "      <td>0.384615</td>\n",
              "      <td>[0, 1]</td>\n",
              "    </tr>\n",
              "    <tr>\n",
              "      <th>74</th>\n",
              "      <td>1.000000</td>\n",
              "      <td>0.000000</td>\n",
              "      <td>[1, 0]</td>\n",
              "    </tr>\n",
              "    <tr>\n",
              "      <th>75</th>\n",
              "      <td>0.000000</td>\n",
              "      <td>0.000000</td>\n",
              "      <td>[1, 0]</td>\n",
              "    </tr>\n",
              "    <tr>\n",
              "      <th>76</th>\n",
              "      <td>0.000000</td>\n",
              "      <td>0.000000</td>\n",
              "      <td>[0, 1]</td>\n",
              "    </tr>\n",
              "  </tbody>\n",
              "</table>\n",
              "<p>77 rows × 3 columns</p>\n",
              "</div>\n",
              "      <button class=\"colab-df-convert\" onclick=\"convertToInteractive('df-5a99ee15-7a59-4673-89dd-0fd919e4261c')\"\n",
              "              title=\"Convert this dataframe to an interactive table.\"\n",
              "              style=\"display:none;\">\n",
              "        \n",
              "  <svg xmlns=\"http://www.w3.org/2000/svg\" height=\"24px\"viewBox=\"0 0 24 24\"\n",
              "       width=\"24px\">\n",
              "    <path d=\"M0 0h24v24H0V0z\" fill=\"none\"/>\n",
              "    <path d=\"M18.56 5.44l.94 2.06.94-2.06 2.06-.94-2.06-.94-.94-2.06-.94 2.06-2.06.94zm-11 1L8.5 8.5l.94-2.06 2.06-.94-2.06-.94L8.5 2.5l-.94 2.06-2.06.94zm10 10l.94 2.06.94-2.06 2.06-.94-2.06-.94-.94-2.06-.94 2.06-2.06.94z\"/><path d=\"M17.41 7.96l-1.37-1.37c-.4-.4-.92-.59-1.43-.59-.52 0-1.04.2-1.43.59L10.3 9.45l-7.72 7.72c-.78.78-.78 2.05 0 2.83L4 21.41c.39.39.9.59 1.41.59.51 0 1.02-.2 1.41-.59l7.78-7.78 2.81-2.81c.8-.78.8-2.07 0-2.86zM5.41 20L4 18.59l7.72-7.72 1.47 1.35L5.41 20z\"/>\n",
              "  </svg>\n",
              "      </button>\n",
              "      \n",
              "  <style>\n",
              "    .colab-df-container {\n",
              "      display:flex;\n",
              "      flex-wrap:wrap;\n",
              "      gap: 12px;\n",
              "    }\n",
              "\n",
              "    .colab-df-convert {\n",
              "      background-color: #E8F0FE;\n",
              "      border: none;\n",
              "      border-radius: 50%;\n",
              "      cursor: pointer;\n",
              "      display: none;\n",
              "      fill: #1967D2;\n",
              "      height: 32px;\n",
              "      padding: 0 0 0 0;\n",
              "      width: 32px;\n",
              "    }\n",
              "\n",
              "    .colab-df-convert:hover {\n",
              "      background-color: #E2EBFA;\n",
              "      box-shadow: 0px 1px 2px rgba(60, 64, 67, 0.3), 0px 1px 3px 1px rgba(60, 64, 67, 0.15);\n",
              "      fill: #174EA6;\n",
              "    }\n",
              "\n",
              "    [theme=dark] .colab-df-convert {\n",
              "      background-color: #3B4455;\n",
              "      fill: #D2E3FC;\n",
              "    }\n",
              "\n",
              "    [theme=dark] .colab-df-convert:hover {\n",
              "      background-color: #434B5C;\n",
              "      box-shadow: 0px 1px 3px 1px rgba(0, 0, 0, 0.15);\n",
              "      filter: drop-shadow(0px 1px 2px rgba(0, 0, 0, 0.3));\n",
              "      fill: #FFFFFF;\n",
              "    }\n",
              "  </style>\n",
              "\n",
              "      <script>\n",
              "        const buttonEl =\n",
              "          document.querySelector('#df-5a99ee15-7a59-4673-89dd-0fd919e4261c button.colab-df-convert');\n",
              "        buttonEl.style.display =\n",
              "          google.colab.kernel.accessAllowed ? 'block' : 'none';\n",
              "\n",
              "        async function convertToInteractive(key) {\n",
              "          const element = document.querySelector('#df-5a99ee15-7a59-4673-89dd-0fd919e4261c');\n",
              "          const dataTable =\n",
              "            await google.colab.kernel.invokeFunction('convertToInteractive',\n",
              "                                                     [key], {});\n",
              "          if (!dataTable) return;\n",
              "\n",
              "          const docLinkHtml = 'Like what you see? Visit the ' +\n",
              "            '<a target=\"_blank\" href=https://colab.research.google.com/notebooks/data_table.ipynb>data table notebook</a>'\n",
              "            + ' to learn more about interactive tables.';\n",
              "          element.innerHTML = '';\n",
              "          dataTable['output_type'] = 'display_data';\n",
              "          await google.colab.output.renderOutput(dataTable, element);\n",
              "          const docLink = document.createElement('div');\n",
              "          docLink.innerHTML = docLinkHtml;\n",
              "          element.appendChild(docLink);\n",
              "        }\n",
              "      </script>\n",
              "    </div>\n",
              "  </div>\n",
              "  "
            ]
          },
          "metadata": {},
          "execution_count": 42
        }
      ]
    },
    {
      "cell_type": "code",
      "source": [],
      "metadata": {
        "id": "C_EkNEAZG4UQ"
      },
      "execution_count": null,
      "outputs": []
    }
  ]
}