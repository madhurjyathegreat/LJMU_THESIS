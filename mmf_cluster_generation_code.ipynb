{
  "nbformat": 4,
  "nbformat_minor": 0,
  "metadata": {
    "colab": {
      "provenance": [],
      "gpuType": "T4"
    },
    "kernelspec": {
      "name": "python3",
      "display_name": "Python 3"
    },
    "language_info": {
      "name": "python"
    },
    "accelerator": "GPU"
  },
  "cells": [
    {
      "cell_type": "code",
      "execution_count": null,
      "metadata": {
        "id": "ea9LyzuaMh_x"
      },
      "outputs": [],
      "source": [
        "!pip install bertopic"
      ]
    },
    {
      "cell_type": "code",
      "source": [
        "from bertopic.representation import MaximalMarginalRelevance\n",
        "from bertopic import BERTopic\n",
        "\n",
        "# Create your representation model\n",
        "representation_model = MaximalMarginalRelevance(diversity=0.3)\n",
        "\n",
        "# Use the representation model in BERTopic on top of the default pipeline\n",
        "topic_model = BERTopic(representation_model=representation_model)"
      ],
      "metadata": {
        "id": "6awian_yNFDi"
      },
      "execution_count": 2,
      "outputs": []
    },
    {
      "cell_type": "code",
      "source": [
        "import pandas as pd\n",
        "train=pd.read_csv('/content/X_train_preprocessed.csv')"
      ],
      "metadata": {
        "id": "HYCSNPRHNsjE"
      },
      "execution_count": 5,
      "outputs": []
    },
    {
      "cell_type": "code",
      "source": [
        "docs=train['preprocessed_fake_genuine'].tolist()"
      ],
      "metadata": {
        "id": "wpedjViIOYGi"
      },
      "execution_count": 7,
      "outputs": []
    },
    {
      "cell_type": "code",
      "source": [
        "topics, probs = topic_model.fit_transform(docs)"
      ],
      "metadata": {
        "id": "JjRAUnLtOY8I"
      },
      "execution_count": null,
      "outputs": []
    },
    {
      "cell_type": "code",
      "source": [
        "len(topics)"
      ],
      "metadata": {
        "colab": {
          "base_uri": "https://localhost:8080/"
        },
        "id": "y_oImDsbPNNg",
        "outputId": "891973b6-408a-4d9f-ee7b-f73f2fb417c3"
      },
      "execution_count": 11,
      "outputs": [
        {
          "output_type": "execute_result",
          "data": {
            "text/plain": [
              "336"
            ]
          },
          "metadata": {},
          "execution_count": 11
        }
      ]
    },
    {
      "cell_type": "code",
      "source": [
        "test=pd.read_csv('/content/X_test_preprocessed.csv')\n",
        "docs_test=test['preprocessed_fake_genuine_test'].tolist()\n",
        "topics_test, probs_test = topic_model.transform(docs_test)"
      ],
      "metadata": {
        "id": "E3OScTVWPac5"
      },
      "execution_count": 13,
      "outputs": []
    },
    {
      "cell_type": "code",
      "source": [
        "train['mmf_cluster']=topics\n",
        "test['mmf_cluster']=topics_test"
      ],
      "metadata": {
        "id": "4ZQkyhuVQAkw"
      },
      "execution_count": 14,
      "outputs": []
    },
    {
      "cell_type": "code",
      "source": [
        "train.to_csv('mmf_clusters_train.csv')\n",
        "test.to_csv('mmf_clusters_test.csv')"
      ],
      "metadata": {
        "id": "gb9_iA2qQkro"
      },
      "execution_count": 15,
      "outputs": []
    },
    {
      "cell_type": "code",
      "source": [
        "  "
      ],
      "metadata": {
        "id": "WoZ4t06ZQtbP"
      },
      "execution_count": null,
      "outputs": []
    }
  ]
}